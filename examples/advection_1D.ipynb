{
 "cells": [
  {
   "cell_type": "markdown",
   "metadata": {},
   "source": [
    "# GHOST - 1D linear advection equation\n",
    "Solving the periodic 1D linear advection equation with a sinusoidal initial condition"
   ]
  },
  {
   "cell_type": "code",
   "execution_count": 3,
   "metadata": {},
   "outputs": [],
   "source": [
    "import sys  \n",
    "import numpy as np\n",
    "sys.path.insert(0, '../src')\n",
    "from Mesh import Mesh1D\n",
    "from Solver import Solver\n",
    "\n",
    "# read in a uniform mesh with 4 elements\n",
    "mesh = Mesh1D(\"advection_1D\", 0.0, 1.0, 4)\n",
    "\n",
    "# define boundaries\n",
    "left = np.array([1.0,0.0]) \n",
    "right = np.array([1.0,1.0])\n",
    "mesh.add_bc_on_hyperplanes([left,right],[1,2])\n",
    "\n",
    "# define periodicity\n",
    "mesh.make_periodic((1,2)) \n",
    "\n",
    "# set polynomial degree of discretization\n",
    "p = 3\n",
    "\n",
    "# set volume quadrature degree\n",
    "volume_quadrature_degree = 2*p\n",
    "\n",
    "# set wave speed\n",
    "a = 1.0"
   ]
  },
  {
   "cell_type": "markdown",
   "metadata": {},
   "source": [
    "Set up solver parameters defining a weak-form modal DG scheme for the linear advection equation with RK4 time-marching and an upwind numerical flux"
   ]
  },
  {
   "cell_type": "code",
   "execution_count": 4,
   "metadata": {},
   "outputs": [],
   "source": [
    "params = {  \"project_title\": \"advection_1D\",\n",
    "        \"problem\": \"constant_advection\",\n",
    "        \"initial_condition\": \"sine\",\n",
    "        \"wavelength\": np.ones(1),\n",
    "        \"wave_speed\": np.array([a]),\n",
    "        \"upwind_parameter\": 1.0,\n",
    "        \"integration_type\": \"quadrature\",\n",
    "        \"solution_degree\": 2,\n",
    "        \"volume_quadrature_degree\": volume_quadrature_degree,\n",
    "        \"solution_representation\": \"modal\",\n",
    "        \"form\": \"strong\",\n",
    "        \"correction\": \"c_dg\",\n",
    "        \"time_integrator\": \"rk44\",\n",
    "        \"final_time\": 1.0,\n",
    "        \"time_step_scale\": 0.0025}"
   ]
  },
  {
   "cell_type": "markdown",
   "metadata": {},
   "source": [
    "Create a `Solver` object with the parameters and mesh defined above"
   ]
  },
  {
   "cell_type": "code",
   "execution_count": 5,
   "metadata": {},
   "outputs": [
    {
     "data": {
      "image/png": "[encoded data removed]",
      "text/plain": [
       "<Figure size 432x288 with 1 Axes>"
      ]
     },
     "metadata": {
      "needs_background": "light"
     },
     "output_type": "display_data"
    }
   ],
   "source": [
    "advection_solver = Solver(params,mesh)\n",
    "advection_solver.discretization.plot()"
   ]
  },
  {
   "cell_type": "markdown",
   "metadata": {},
   "source": [
    "Run `advection_solver` for one period"
   ]
  },
  {
   "cell_type": "code",
   "execution_count": 6,
   "metadata": {},
   "outputs": [],
   "source": [
    "advection_solver.run(restart=False,\n",
    "                     write_interval=params[\"final_time\"]/10, print_interval=params[\"final_time\"]/100)"
   ]
  },
  {
   "cell_type": "markdown",
   "metadata": {},
   "source": [
    "Post-process and generate plots of numerical and exact solutions"
   ]
  },
  {
   "cell_type": "code",
   "execution_count": 7,
   "metadata": {},
   "outputs": [
    {
     "data": {
      "image/png": "[encoded data removed]",
      "text/plain": [
       "<Figure size 432x288 with 1 Axes>"
      ]
     },
     "metadata": {
      "needs_background": "light"
     },
     "output_type": "display_data"
    }
   ],
   "source": [
    "advection_solver.post_process()\n",
    "advection_solver.plot(plot_curves=True,plot_exact=True)"
   ]
  }
 ],
 "metadata": {
  "interpreter": {
   "hash": "8a4c5cff9d1eb01f6f91880bd866b35b24d8468d7e92aa7ef6f6962744ecb1db"
  },
  "kernelspec": {
   "display_name": "Python 3.9.5 64-bit ('base': conda)",
   "name": "python3"
  },
  "language_info": {
   "codemirror_mode": {
    "name": "ipython",
    "version": 3
   },
   "file_extension": ".py",
   "mimetype": "text/x-python",
   "name": "python",
   "nbconvert_exporter": "python",
   "pygments_lexer": "ipython3",
   "version": "3.9.5"
  },
  "orig_nbformat": 4
 },
 "nbformat": 4,
 "nbformat_minor": 2
}
