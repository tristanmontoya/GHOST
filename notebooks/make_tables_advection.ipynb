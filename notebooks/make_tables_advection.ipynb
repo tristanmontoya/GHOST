{
 "cells": [
  {
   "cell_type": "code",
   "execution_count": 2,
   "metadata": {
    "scrolled": false
   },
   "outputs": [
    {
     "name": "stdout",
     "output_type": "stream",
     "text": [
      "advection_p4b0c0t1_strong\n",
      "advection_p4b0c0t1_weak\n",
      "advection_p4b1c0t1_strong\n",
      "advection_p4b1c0t1_weak\n",
      "advection_p4b0cpt1_strong\n",
      "advection_p4b0cpt1_weak\n",
      "advection_p4b1cpt1_strong\n",
      "advection_p4b1cpt1_weak\n",
      "advection_p4b0c0t3_strong\n",
      "advection_p4b0c0t3_weak\n",
      "advection_p4b1c0t3_strong\n",
      "advection_p4b1c0t3_weak\n",
      "advection_p4b0cpt3_strong\n",
      "advection_p4b0cpt3_weak\n",
      "advection_p4b1cpt3_strong\n",
      "advection_p4b1cpt3_weak\n",
      "advection_p4b0c0t2_strong\n",
      "advection_p4b0c0t2_weak\n",
      "advection_p4b1c0t2_strong\n",
      "advection_p4b1c0t2_weak\n",
      "advection_p4b0cpt2_strong\n",
      "advection_p4b0cpt2_weak\n",
      "advection_p4b1cpt2_strong\n",
      "advection_p4b1cpt2_weak\n"
     ]
    }
   ],
   "source": [
    "import sys\n",
    "sys.path.insert(0, '../src')\n",
    "import numpy as np\n",
    "from Driver import write_output_advection\n",
    "            \n",
    "a=np.sqrt(2)\n",
    "p=4\n",
    "p_geo=1\n",
    "M=8\n",
    "L=1.0\n",
    "\n",
    "disctype=1\n",
    "table = (write_output_advection(a=a, p=p, p_geo=p, M=M, L=L,correction_type=\"c_dg\",\n",
    "                             upwind_parameter = 0, discretization_type=disctype, \n",
    "                                headings_disc=True, headings_corr=True)\n",
    "+ write_output_advection(a=a, p=p, p_geo=p, M=M, L=L,correction_type=\"c_dg\",\n",
    "                             upwind_parameter = 1, discretization_type=disctype,\n",
    "                                headings_disc=False, headings_corr=False)\n",
    "+ \"\\\\cmidrule{2-8} \\n\"\n",
    "+ write_output_advection(a=a, p=p, p_geo=p, M=M, L=L,correction_type=\"c_+\",\n",
    "                             upwind_parameter = 0, discretization_type=disctype, \n",
    "                                headings_disc=False, headings_corr=True)\n",
    "+ write_output_advection(a=a, p=p, p_geo=p, M=M, L=L,correction_type=\"c_+\",\n",
    "                             upwind_parameter = 1, discretization_type=disctype, \n",
    "                                headings_disc=False, headings_corr=False)\n",
    "+ \"\\\\midrule \\n\")\n",
    "disctype=3\n",
    "table = table + (write_output_advection(a=a, p=p, p_geo=p, M=M, L=L,correction_type=\"c_dg\",\n",
    "                             upwind_parameter = 0, discretization_type=disctype, \n",
    "                                headings_disc=True, headings_corr=True)\n",
    "+ write_output_advection(a=a, p=p, p_geo=p, M=M, L=L,correction_type=\"c_dg\",\n",
    "                             upwind_parameter = 1, discretization_type=disctype,\n",
    "                                headings_disc=False, headings_corr=False)\n",
    "+ \"\\\\cmidrule{2-8} \\n\"\n",
    "+ write_output_advection(a=a, p=p, p_geo=p, M=M, L=L,correction_type=\"c_+\",\n",
    "                             upwind_parameter = 0, discretization_type=disctype, \n",
    "                                headings_disc=False, headings_corr=True)\n",
    "+ write_output_advection(a=a, p=p, p_geo=p, M=M, L=L,correction_type=\"c_+\",\n",
    "                             upwind_parameter = 1, discretization_type=disctype, \n",
    "                                headings_disc=False, headings_corr=False)\n",
    "+ \"\\\\midrule \\n\")\n",
    "disctype=2\n",
    "table = table + (write_output_advection(a=a, p=p, p_geo=p, M=M, L=L,correction_type=\"c_dg\",\n",
    "                             upwind_parameter = 0, discretization_type=disctype, \n",
    "                                headings_disc=True, headings_corr=True)\n",
    "+ write_output_advection(a=a, p=p, p_geo=p, M=M, L=L,correction_type=\"c_dg\",\n",
    "                             upwind_parameter = 1, discretization_type=disctype,\n",
    "                                headings_disc=False, headings_corr=False)\n",
    "+ \"\\\\cmidrule{2-8} \\n\"\n",
    "+ write_output_advection(a=a, p=p, p_geo=p, M=M, L=L,correction_type=\"c_+\",\n",
    "                             upwind_parameter = 0, discretization_type=disctype, \n",
    "                                headings_disc=False, headings_corr=True)\n",
    "+ write_output_advection(a=a, p=p, p_geo=p, M=M, L=L,correction_type=\"c_+\",\n",
    "                             upwind_parameter = 1, discretization_type=disctype, \n",
    "                                headings_disc=False, headings_corr=False))"
   ]
  },
  {
   "cell_type": "markdown",
   "metadata": {},
   "source": []
  },
  {
   "cell_type": "code",
   "execution_count": 3,
   "metadata": {},
   "outputs": [
    {
     "name": "stdout",
     "output_type": "stream",
     "text": [
      "Quadrature I & $c_{\\mathrm{DG}}$ & 0 & 1.219e-14 & 1.149e-16 & -3.945e-16 & -1.943e-15 & -9.437e-16\\\\ \n",
      " &  & 1 & 2.437e-15 & 4.878e-16 & 2.328e-16 & -4.326e-06 & -4.326e-06\\\\ \n",
      "\\cmidrule{2-8} \n",
      " & $c_+$ & 0 & 8.803e-15 & -6.771e-16 & -8.122e-16 & -1.665e-16 & -5.551e-17\\\\ \n",
      " &  & 1 & 2.342e-15 & 1.100e-16 & -1.149e-17 & -4.887e-05 & -4.887e-05\\\\ \n",
      "\\midrule \n",
      "Quadrature II & $c_{\\mathrm{DG}}$ & 0 & 1.948e+107 & -7.701e+90 & 3.303e+27 & 1.987e+214 & 1.098e+89\\\\ \n",
      " &  & 1 & 4.366e-04 & -4.306e-16 & -1.510e-16 & -4.219e-06 & -3.999e-06\\\\ \n",
      "\\cmidrule{2-8} \n",
      " & $c_+$ & 0 & 1.675e+81 & -7.162e+64 & -4.517e-02 & 1.656e+162 & 8.920e+32\\\\ \n",
      " &  & 1 & 3.643e-04 & -1.304e-15 & 1.009e-15 & -4.910e-05 & -4.879e-05\\\\ \n",
      "\\midrule \n",
      "Collocation & $c_{\\mathrm{DG}}$ & 0 & 1.016e-14 & -2.016e-16 & 1.746e-16 & -2.776e-15 & 1.887e-15\\\\ \n",
      " &  & 1 & 5.314e-15 & -1.081e-16 & -2.819e-17 & -4.360e-06 & -4.360e-06\\\\ \n",
      "\\cmidrule{2-8} \n",
      " & $c_+$ & 0 & 1.028e-14 & 5.302e-17 & 4.937e-16 & -2.276e-15 & 4.496e-15\\\\ \n",
      " &  & 1 & 7.288e-15 & -5.237e-17 & 1.223e-16 & -4.826e-05 & -4.826e-05\\\\ \n",
      "\n"
     ]
    }
   ],
   "source": [
    "print(table)"
   ]
  },
  {
   "cell_type": "code",
   "execution_count": null,
   "metadata": {},
   "outputs": [],
   "source": []
  }
 ],
 "metadata": {
  "kernelspec": {
   "display_name": "Python 3",
   "language": "python",
   "name": "python3"
  },
  "language_info": {
   "codemirror_mode": {
    "name": "ipython",
    "version": 3
   },
   "file_extension": ".py",
   "mimetype": "text/x-python",
   "name": "python",
   "nbconvert_exporter": "python",
   "pygments_lexer": "ipython3",
   "version": "3.7.9"
  }
 },
 "nbformat": 4,
 "nbformat_minor": 4
}
