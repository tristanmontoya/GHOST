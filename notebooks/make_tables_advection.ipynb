{
 "cells": [
  {
   "cell_type": "code",
   "execution_count": 4,
   "metadata": {
    "scrolled": false
   },
   "outputs": [
    {
     "name": "stdout",
     "output_type": "stream",
     "text": [
      "advection_p3b0c0t1_strong\n",
      "Loaded from time step  31678\n",
      "advection_p3b0c0t1_weak\n",
      "Loaded from time step  31678\n",
      "advection_p3b1c0t1_strong\n",
      "Loaded from time step  31678\n",
      "advection_p3b1c0t1_weak\n",
      "Loaded from time step  31678\n",
      "advection_p3b0cpt1_strong\n",
      "Loaded from time step  31678\n",
      "advection_p3b0cpt1_weak\n",
      "Loaded from time step  31678\n",
      "advection_p3b1cpt1_strong\n",
      "advection_p3b1cpt1_weak\n",
      "Loaded from time step  31678\n"
     ]
    },
    {
     "ename": "AttributeError",
     "evalue": "'Solver' object has no attribute 'u_hat'",
     "output_type": "error",
     "traceback": [
      "\u001b[0;31m---------------------------------------------------------------------------\u001b[0m",
      "\u001b[0;31mAttributeError\u001b[0m                            Traceback (most recent call last)",
      "\u001b[0;32m<ipython-input-4-9e205e2545f9>\u001b[0m in \u001b[0;36m<module>\u001b[0;34m\u001b[0m\n\u001b[1;32m     24\u001b[0m                              \u001b[0mupwind_parameter\u001b[0m \u001b[0;34m=\u001b[0m \u001b[0;36m1\u001b[0m\u001b[0;34m,\u001b[0m \u001b[0mdiscretization_type\u001b[0m\u001b[0;34m=\u001b[0m\u001b[0mdisctype\u001b[0m\u001b[0;34m,\u001b[0m\u001b[0;34m\u001b[0m\u001b[0;34m\u001b[0m\u001b[0m\n\u001b[1;32m     25\u001b[0m                                 headings_disc=False, headings_corr=False)\n\u001b[0;32m---> 26\u001b[0;31m + \"\\\\midrule \\n\")\n\u001b[0m\u001b[1;32m     27\u001b[0m \u001b[0mdisctype\u001b[0m\u001b[0;34m=\u001b[0m\u001b[0;36m3\u001b[0m\u001b[0;34m\u001b[0m\u001b[0;34m\u001b[0m\u001b[0m\n\u001b[1;32m     28\u001b[0m table = table + (write_output_advection(a=a, p=p, p_map=p, M=M, L=L,correction_type=\"c_dg\",\n",
      "\u001b[0;32m~/Research/GHOST_private/src/Driver.py\u001b[0m in \u001b[0;36mwrite_output_advection\u001b[0;34m(a, p, p_map, M, L, correction_type, upwind_parameter, discretization_type, headings_disc, headings_corr, solution_error)\u001b[0m\n\u001b[1;32m    296\u001b[0m                             new_mesh=False)\n\u001b[1;32m    297\u001b[0m \u001b[0;34m\u001b[0m\u001b[0m\n\u001b[0;32m--> 298\u001b[0;31m     \u001b[0mstrong\u001b[0m\u001b[0;34m.\u001b[0m\u001b[0mpost_process\u001b[0m\u001b[0;34m(\u001b[0m\u001b[0merror_quadrature_degree\u001b[0m\u001b[0;34m=\u001b[0m\u001b[0;36m4\u001b[0m\u001b[0;34m*\u001b[0m\u001b[0mp\u001b[0m\u001b[0;34m)\u001b[0m\u001b[0;34m\u001b[0m\u001b[0;34m\u001b[0m\u001b[0m\n\u001b[0m\u001b[1;32m    299\u001b[0m     \u001b[0mweak\u001b[0m\u001b[0;34m.\u001b[0m\u001b[0mpost_process\u001b[0m\u001b[0;34m(\u001b[0m\u001b[0merror_quadrature_degree\u001b[0m\u001b[0;34m=\u001b[0m\u001b[0;36m4\u001b[0m\u001b[0;34m*\u001b[0m\u001b[0mp\u001b[0m\u001b[0;34m)\u001b[0m\u001b[0;34m\u001b[0m\u001b[0;34m\u001b[0m\u001b[0m\n\u001b[1;32m    300\u001b[0m \u001b[0;34m\u001b[0m\u001b[0m\n",
      "\u001b[0;32m~/Research/GHOST_private/src/Solver.py\u001b[0m in \u001b[0;36mpost_process\u001b[0;34m(self, visualization_resolution, error_quadrature_degree, process_visualization, process_exact_solution)\u001b[0m\n\u001b[1;32m    409\u001b[0m                     self.u_h[k].append(self.discretization.V[\n\u001b[1;32m    410\u001b[0m                      self.discretization.element_to_discretization[k]]\n\u001b[0;32m--> 411\u001b[0;31m                         @ self.u_hat[k][e])\n\u001b[0m\u001b[1;32m    412\u001b[0m \u001b[0;34m\u001b[0m\u001b[0m\n\u001b[1;32m    413\u001b[0m                 \u001b[0;32mfor\u001b[0m \u001b[0mgamma\u001b[0m \u001b[0;32min\u001b[0m \u001b[0mrange\u001b[0m\u001b[0;34m(\u001b[0m\u001b[0;36m0\u001b[0m\u001b[0;34m,\u001b[0m \u001b[0mself\u001b[0m\u001b[0;34m.\u001b[0m\u001b[0mdiscretization\u001b[0m\u001b[0;34m.\u001b[0m\u001b[0mmesh\u001b[0m\u001b[0;34m.\u001b[0m\u001b[0mNf\u001b[0m\u001b[0;34m[\u001b[0m\u001b[0mk\u001b[0m\u001b[0;34m]\u001b[0m\u001b[0;34m)\u001b[0m\u001b[0;34m:\u001b[0m\u001b[0;34m\u001b[0m\u001b[0;34m\u001b[0m\u001b[0m\n",
      "\u001b[0;31mAttributeError\u001b[0m: 'Solver' object has no attribute 'u_hat'"
     ]
    }
   ],
   "source": [
    "import sys\n",
    "sys.path.insert(0, '../src')\n",
    "import numpy as np\n",
    "from Driver import write_output_advection\n",
    "            \n",
    "a=np.sqrt(2)\n",
    "p=3\n",
    "p_map=1\n",
    "M=8\n",
    "L=1.0\n",
    "\n",
    "disctype=1\n",
    "table = (write_output_advection(a=a, p=p, p_map=p, M=M, L=L,correction_type=\"c_dg\",\n",
    "                             upwind_parameter = 0, discretization_type=disctype, \n",
    "                                headings_disc=True, headings_corr=True)\n",
    "+ write_output_advection(a=a, p=p, p_map=p, M=M, L=L,correction_type=\"c_dg\",\n",
    "                             upwind_parameter = 1, discretization_type=disctype,\n",
    "                                headings_disc=False, headings_corr=False)\n",
    "+ \"\\\\cmidrule{2-8} \\n\"\n",
    "+ write_output_advection(a=a, p=p, p_map=p, M=M, L=L,correction_type=\"c_+\",\n",
    "                             upwind_parameter = 0, discretization_type=disctype, \n",
    "                                headings_disc=False, headings_corr=True)\n",
    "+ write_output_advection(a=a, p=p, p_map=p, M=M, L=L,correction_type=\"c_+\",\n",
    "                             upwind_parameter = 1, discretization_type=disctype, \n",
    "                                headings_disc=False, headings_corr=False)\n",
    "+ \"\\\\midrule \\n\")\n",
    "disctype=3\n",
    "table = table + (write_output_advection(a=a, p=p, p_map=p, M=M, L=L,correction_type=\"c_dg\",\n",
    "                             upwind_parameter = 0, discretization_type=disctype, \n",
    "                                headings_disc=True, headings_corr=True)\n",
    "+ write_output_advection(a=a, p=p, p_map=p, M=M, L=L,correction_type=\"c_dg\",\n",
    "                             upwind_parameter = 1, discretization_type=disctype,\n",
    "                                headings_disc=False, headings_corr=False)\n",
    "+ \"\\\\cmidrule{2-8} \\n\"\n",
    "+ write_output_advection(a=a, p=p, p_map=p, M=M, L=L,correction_type=\"c_+\",\n",
    "                             upwind_parameter = 0, discretization_type=disctype, \n",
    "                                headings_disc=False, headings_corr=True)\n",
    "+ write_output_advection(a=a, p=p, p_map=p, M=M, L=L,correction_type=\"c_+\",\n",
    "                             upwind_parameter = 1, discretization_type=disctype, \n",
    "                                headings_disc=False, headings_corr=False)\n",
    "+ \"\\\\midrule \\n\")\n",
    "disctype=2\n",
    "table = table + (write_output_advection(a=a, p=p, p_map=p, M=M, L=L,correction_type=\"c_dg\",\n",
    "                             upwind_parameter = 0, discretization_type=disctype, \n",
    "                                headings_disc=True, headings_corr=True)\n",
    "+ write_output_advection(a=a, p=p, p_map=p, M=M, L=L,correction_type=\"c_dg\",\n",
    "                             upwind_parameter = 1, discretization_type=disctype,\n",
    "                                headings_disc=False, headings_corr=False)\n",
    "+ \"\\\\cmidrule{2-8} \\n\"\n",
    "+ write_output_advection(a=a, p=p, p_map=p, M=M, L=L,correction_type=\"c_+\",\n",
    "                             upwind_parameter = 0, discretization_type=disctype, \n",
    "                                headings_disc=False, headings_corr=True)\n",
    "+ write_output_advection(a=a, p=p, p_map=p, M=M, L=L,correction_type=\"c_+\",\n",
    "                             upwind_parameter = 1, discretization_type=disctype, \n",
    "                                headings_disc=False, headings_corr=False))"
   ]
  },
  {
   "cell_type": "markdown",
   "metadata": {},
   "source": []
  },
  {
   "cell_type": "code",
   "execution_count": 2,
   "metadata": {},
   "outputs": [
    {
     "name": "stdout",
     "output_type": "stream",
     "text": [
      "Quadrature I & $c_{\\mathrm{DG}}$ & 0 & 1.151e-14 & 9.834e-17 & -3.434e-16 & -9.992e-16 & -6.661e-16\\\\ \n",
      " &  & 1 & 2.318e-15 & 3.878e-16 & 3.001e-16 & -4.326e-06 & -4.326e-06\\\\ \n",
      "\\cmidrule{2-8} \n",
      " & $c_+$ & 0 & 8.613e-15 & -1.077e-15 & -1.201e-15 & 4.441e-16 & -2.776e-16\\\\ \n",
      " &  & 1 & 2.386e-15 & -3.673e-16 & -4.124e-16 & -5.770e-05 & -5.770e-05\\\\ \n",
      "\\midrule \n",
      "Quadrature II & $c_{\\mathrm{DG}}$ & 0 & 1.948e+107 & -8.282e+90 & 1.952e+27 & 1.987e+214 & 1.098e+89\\\\ \n",
      " &  & 1 & 4.366e-04 & -4.084e-16 & -4.694e-16 & -4.219e-06 & -3.999e-06\\\\ \n",
      "\\cmidrule{2-8} \n",
      " & $c_+$ & 0 & 1.356e+92 & -6.596e+75 & -1.889e-16 & 1.106e+184 & 2.214e-03\\\\ \n",
      " &  & 1 & 3.523e-04 & -7.383e-16 & 3.383e-17 & -5.974e-05 & -5.569e-05\\\\ \n",
      "\\midrule \n",
      "Collocation & $c_{\\mathrm{DG}}$ & 0 & 1.016e-14 & -2.016e-16 & 1.746e-16 & -2.776e-15 & 1.887e-15\\\\ \n",
      " &  & 1 & 5.314e-15 & -1.081e-16 & -2.819e-17 & -4.360e-06 & -4.360e-06\\\\ \n",
      "\\cmidrule{2-8} \n",
      " & $c_+$ & 0 & 8.766e-15 & -1.031e-16 & -5.806e-16 & -2.331e-15 & 3.608e-15\\\\ \n",
      " &  & 1 & 6.273e-15 & 1.480e-16 & -3.080e-16 & -5.702e-05 & -5.702e-05\\\\ \n",
      "\n"
     ]
    }
   ],
   "source": [
    "print(table)"
   ]
  }
 ],
 "metadata": {
  "kernelspec": {
   "display_name": "Python 3 (ipykernel)",
   "language": "python",
   "name": "python3"
  },
  "language_info": {
   "codemirror_mode": {
    "name": "ipython",
    "version": 3
   },
   "file_extension": ".py",
   "mimetype": "text/x-python",
   "name": "python",
   "nbconvert_exporter": "python",
   "pygments_lexer": "ipython3",
   "version": "3.9.5"
  }
 },
 "nbformat": 4,
 "nbformat_minor": 4
}
