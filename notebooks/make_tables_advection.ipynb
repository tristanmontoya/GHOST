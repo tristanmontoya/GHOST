{
 "cells": [
  {
   "cell_type": "markdown",
   "source": [
    "# Make tables for linear advection numerical experiments"
   ],
   "metadata": {}
  },
  {
   "cell_type": "code",
   "execution_count": null,
   "source": [
    "import sys\n",
    "sys.path.insert(0, '../src')\n",
    "import numpy as np\n",
    "from Driver import write_output_advection\n",
    "\n",
    "a=np.sqrt(2)\n",
    "p=4\n",
    "p_map=1\n",
    "M=8\n",
    "L=1.0"
   ],
   "outputs": [],
   "metadata": {}
  },
  {
   "cell_type": "markdown",
   "source": [
    "Quadrature I (degree $2p$ volume quadrature, $2p+1$ facet quadrature)"
   ],
   "metadata": {}
  },
  {
   "cell_type": "code",
   "execution_count": null,
   "source": [
    "disctype=1\n",
    "table = (write_output_advection(a=a, p=p, p_map=p, M=M, L=L,       correction_type=\"c_dg\",\n",
    "                             upwind_parameter = 0, discretization_type=disctype, \n",
    "                                headings_disc=True, headings_corr=True)\n",
    "+ write_output_advection(a=a, p=p, p_map=p, M=M, L=L,correction_type=\"c_dg\",\n",
    "                             upwind_parameter = 1, discretization_type=disctype,\n",
    "                                headings_disc=False, headings_corr=False)\n",
    "+ \"\\\\cmidrule{2-8} \\n\"\n",
    "+ write_output_advection(a=a, p=p, p_map=p, M=M, L=L,correction_type=\"c_+\",\n",
    "                             upwind_parameter = 0, discretization_type=disctype, \n",
    "                                headings_disc=False, headings_corr=True)\n",
    "+ write_output_advection(a=a, p=p, p_map=p, M=M, L=L,correction_type=\"c_+\",\n",
    "                             upwind_parameter = 1, discretization_type=disctype, \n",
    "                                headings_disc=False, headings_corr=False)\n",
    "+ \"\\\\midrule \\n\")"
   ],
   "outputs": [],
   "metadata": {}
  },
  {
   "cell_type": "markdown",
   "source": [
    "Quadrature II (degree $2p$ volume quadrature, $2p-1$ facet quadrature)"
   ],
   "metadata": {}
  },
  {
   "cell_type": "code",
   "execution_count": null,
   "source": [
    "disctype=3\n",
    "table = table + (write_output_advection(a=a, p=p, p_map=p, M=M, L=L,correction_type=\"c_dg\",\n",
    "                             upwind_parameter = 0, discretization_type=disctype, \n",
    "                                headings_disc=True, headings_corr=True)\n",
    "+ write_output_advection(a=a, p=p, p_map=p, M=M, L=L,correction_type=\"c_dg\",\n",
    "                             upwind_parameter = 1, discretization_type=disctype,\n",
    "                                headings_disc=False, headings_corr=False)\n",
    "+ \"\\\\cmidrule{2-8} \\n\"\n",
    "+ write_output_advection(a=a, p=p, p_map=p, M=M, L=L,correction_type=\"c_+\",\n",
    "                             upwind_parameter = 0, discretization_type=disctype, \n",
    "                                headings_disc=False, headings_corr=True)\n",
    "+ write_output_advection(a=a, p=p, p_map=p, M=M, L=L,correction_type=\"c_+\",\n",
    "                             upwind_parameter = 1, discretization_type=disctype, \n",
    "                                headings_disc=False, headings_corr=False)\n",
    "+ \"\\\\midrule \\n\")"
   ],
   "outputs": [],
   "metadata": {}
  },
  {
   "cell_type": "markdown",
   "source": [
    "Collocation (Degree $p$ \"warp and blend\" nodes - includes $p+1$ LGL nodes on each facet)"
   ],
   "metadata": {}
  },
  {
   "cell_type": "code",
   "execution_count": null,
   "source": [
    "disctype=2\n",
    "table = table + (write_output_advection(a=a, p=p, p_map=p, M=M, L=L,correction_type=\"c_dg\",\n",
    "                             upwind_parameter = 0, discretization_type=disctype, \n",
    "                                headings_disc=True, headings_corr=True)\n",
    "+ write_output_advection(a=a, p=p, p_map=p, M=M, L=L,correction_type=\"c_dg\",\n",
    "                             upwind_parameter = 1, discretization_type=disctype,\n",
    "                                headings_disc=False, headings_corr=False)\n",
    "+ \"\\\\cmidrule{2-8} \\n\"\n",
    "+ write_output_advection(a=a, p=p, p_map=p, M=M, L=L,correction_type=\"c_+\",\n",
    "                             upwind_parameter = 0, discretization_type=disctype, \n",
    "                                headings_disc=False, headings_corr=True)\n",
    "+ write_output_advection(a=a, p=p, p_map=p, M=M, L=L,correction_type=\"c_+\",\n",
    "                             upwind_parameter = 1, discretization_type=disctype, \n",
    "                                headings_disc=False, headings_corr=False))"
   ],
   "outputs": [],
   "metadata": {}
  }
 ],
 "metadata": {
  "kernelspec": {
   "name": "python3",
   "display_name": "Python 3.9.5 64-bit ('base': conda)"
  },
  "language_info": {
   "codemirror_mode": {
    "name": "ipython",
    "version": 3
   },
   "file_extension": ".py",
   "mimetype": "text/x-python",
   "name": "python",
   "nbconvert_exporter": "python",
   "pygments_lexer": "ipython3",
   "version": "3.9.5"
  },
  "interpreter": {
   "hash": "4fd94666eea7828186a9e31e1d173dfc5fcf8e36dc44a3c26b7607fc7a9a54f0"
  }
 },
 "nbformat": 4,
 "nbformat_minor": 4
}