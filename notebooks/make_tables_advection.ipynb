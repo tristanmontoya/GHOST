{
 "cells": [
  {
   "cell_type": "markdown",
   "metadata": {},
   "source": [
    "# Make tables for linear advection numerical experiments"
   ]
  },
  {
   "cell_type": "code",
   "execution_count": 1,
   "metadata": {},
   "outputs": [],
   "source": [
    "import sys\n",
    "sys.path.insert(0, '../src')\n",
    "import numpy as np\n",
    "from Driver import write_output_advection\n",
    "\n",
    "a=np.sqrt(2)\n",
    "p=4\n",
    "p_map=1\n",
    "M=8\n",
    "L=1.0"
   ]
  },
  {
   "cell_type": "markdown",
   "metadata": {},
   "source": [
    "Quadrature I (degree $2p$ volume quadrature, $2p+1$ facet quadrature)"
   ]
  },
  {
   "cell_type": "code",
   "execution_count": 2,
   "metadata": {},
   "outputs": [
    {
     "name": "stdout",
     "output_type": "stream",
     "text": [
      "advection_p4b0c0t1_strong\n",
      "advection_p4b0c0t1_weak\n",
      "loaded from time step  40729\n"
     ]
    },
    {
     "ename": "NameError",
     "evalue": "name 'times' is not defined",
     "output_type": "error",
     "traceback": [
      "\u001b[0;31m---------------------------------------------------------------------------\u001b[0m",
      "\u001b[0;31mNameError\u001b[0m                                 Traceback (most recent call last)",
      "\u001b[0;32m<ipython-input-2-5f4d92286b8f>\u001b[0m in \u001b[0;36m<module>\u001b[0;34m\u001b[0m\n\u001b[1;32m      1\u001b[0m \u001b[0mdisctype\u001b[0m\u001b[0;34m=\u001b[0m\u001b[0;36m1\u001b[0m\u001b[0;34m\u001b[0m\u001b[0;34m\u001b[0m\u001b[0m\n\u001b[0;32m----> 2\u001b[0;31m table = (write_output_advection(a=a, p=p, p_map=p, M=M, L=L,       correction_type=\"c_dg\",\n\u001b[0m\u001b[1;32m      3\u001b[0m                              \u001b[0mupwind_parameter\u001b[0m \u001b[0;34m=\u001b[0m \u001b[0;36m0\u001b[0m\u001b[0;34m,\u001b[0m \u001b[0mdiscretization_type\u001b[0m\u001b[0;34m=\u001b[0m\u001b[0mdisctype\u001b[0m\u001b[0;34m,\u001b[0m\u001b[0;34m\u001b[0m\u001b[0;34m\u001b[0m\u001b[0m\n\u001b[1;32m      4\u001b[0m                                 headings_disc=True, headings_corr=True)\n\u001b[1;32m      5\u001b[0m + write_output_advection(a=a, p=p, p_map=p, M=M, L=L,correction_type=\"c_dg\",\n",
      "\u001b[0;32m/gpfs/fs0/scratch/z/zingg/tmontoya/GHOST/src/Driver.py\u001b[0m in \u001b[0;36mwrite_output_advection\u001b[0;34m(a, p, p_map, M, L, correction_type, upwind_parameter, discretization_type, headings_disc, headings_corr, solution_error)\u001b[0m\n\u001b[1;32m    308\u001b[0m                                 new_mesh=False)\n\u001b[1;32m    309\u001b[0m \u001b[0;34m\u001b[0m\u001b[0m\n\u001b[0;32m--> 310\u001b[0;31m     weak = advection_driver(a=np.sqrt(2), \n\u001b[0m\u001b[1;32m    311\u001b[0m                             \u001b[0mp\u001b[0m\u001b[0;34m=\u001b[0m\u001b[0mp\u001b[0m\u001b[0;34m,\u001b[0m \u001b[0mM\u001b[0m\u001b[0;34m=\u001b[0m\u001b[0mM\u001b[0m\u001b[0;34m,\u001b[0m \u001b[0mL\u001b[0m\u001b[0;34m=\u001b[0m\u001b[0mL\u001b[0m\u001b[0;34m,\u001b[0m\u001b[0;34m\u001b[0m\u001b[0;34m\u001b[0m\u001b[0m\n\u001b[1;32m    312\u001b[0m                             \u001b[0mp_map\u001b[0m\u001b[0;34m=\u001b[0m\u001b[0mp_map\u001b[0m\u001b[0;34m,\u001b[0m \u001b[0mc\u001b[0m\u001b[0;34m=\u001b[0m\u001b[0mcorrection_type\u001b[0m\u001b[0;34m,\u001b[0m\u001b[0;34m\u001b[0m\u001b[0;34m\u001b[0m\u001b[0m\n",
      "\u001b[0;32m/gpfs/fs0/scratch/z/zingg/tmontoya/GHOST/src/Driver.py\u001b[0m in \u001b[0;36madvection_driver\u001b[0;34m(a, theta, p, M, L, p_map, c, discretization_type, upwind_parameter, form, suffix, run, restart, new_mesh)\u001b[0m\n\u001b[1;32m    148\u001b[0m \u001b[0;34m\u001b[0m\u001b[0m\n\u001b[1;32m    149\u001b[0m             solver.load_solution(\"../results/\" +  project_title + \"/\",\n\u001b[0;32m--> 150\u001b[0;31m                                     times[-1][0])\n\u001b[0m\u001b[1;32m    151\u001b[0m \u001b[0;34m\u001b[0m\u001b[0m\n\u001b[1;32m    152\u001b[0m     \u001b[0;32mreturn\u001b[0m \u001b[0msolver\u001b[0m\u001b[0;34m\u001b[0m\u001b[0;34m\u001b[0m\u001b[0m\n",
      "\u001b[0;31mNameError\u001b[0m: name 'times' is not defined"
     ]
    }
   ],
   "source": [
    "disctype=1\n",
    "table = (write_output_advection(a=a, p=p, p_map=p, M=M, L=L,       correction_type=\"c_dg\",\n",
    "                             upwind_parameter = 0, discretization_type=disctype, \n",
    "                                headings_disc=True, headings_corr=True)\n",
    "+ write_output_advection(a=a, p=p, p_map=p, M=M, L=L,correction_type=\"c_dg\",\n",
    "                             upwind_parameter = 1, discretization_type=disctype,\n",
    "                                headings_disc=False, headings_corr=False)\n",
    "+ \"\\\\cmidrule{2-8} \\n\"\n",
    "+ write_output_advection(a=a, p=p, p_map=p, M=M, L=L,correction_type=\"c_+\",\n",
    "                             upwind_parameter = 0, discretization_type=disctype, \n",
    "                                headings_disc=False, headings_corr=True)\n",
    "+ write_output_advection(a=a, p=p, p_map=p, M=M, L=L,correction_type=\"c_+\",\n",
    "                             upwind_parameter = 1, discretization_type=disctype, \n",
    "                                headings_disc=False, headings_corr=False)\n",
    "+ \"\\\\midrule \\n\")"
   ]
  },
  {
   "cell_type": "markdown",
   "metadata": {},
   "source": [
    "Quadrature II (degree $2p$ volume quadrature, $2p-1$ facet quadrature)"
   ]
  },
  {
   "cell_type": "code",
   "execution_count": null,
   "metadata": {},
   "outputs": [],
   "source": [
    "disctype=3\n",
    "table = table + (write_output_advection(a=a, p=p, p_map=p, M=M, L=L,correction_type=\"c_dg\",\n",
    "                             upwind_parameter = 0, discretization_type=disctype, \n",
    "                                headings_disc=True, headings_corr=True)\n",
    "+ write_output_advection(a=a, p=p, p_map=p, M=M, L=L,correction_type=\"c_dg\",\n",
    "                             upwind_parameter = 1, discretization_type=disctype,\n",
    "                                headings_disc=False, headings_corr=False)\n",
    "+ \"\\\\cmidrule{2-8} \\n\"\n",
    "+ write_output_advection(a=a, p=p, p_map=p, M=M, L=L,correction_type=\"c_+\",\n",
    "                             upwind_parameter = 0, discretization_type=disctype, \n",
    "                                headings_disc=False, headings_corr=True)\n",
    "+ write_output_advection(a=a, p=p, p_map=p, M=M, L=L,correction_type=\"c_+\",\n",
    "                             upwind_parameter = 1, discretization_type=disctype, \n",
    "                                headings_disc=False, headings_corr=False)\n",
    "+ \"\\\\midrule \\n\")"
   ]
  },
  {
   "cell_type": "markdown",
   "metadata": {},
   "source": [
    "Collocation (Degree $p$ \"warp and blend\" nodes - includes $p+1$ LGL nodes on each facet)"
   ]
  },
  {
   "cell_type": "code",
   "execution_count": null,
   "metadata": {},
   "outputs": [],
   "source": [
    "disctype=2\n",
    "table = table + (write_output_advection(a=a, p=p, p_map=p, M=M, L=L,correction_type=\"c_dg\",\n",
    "                             upwind_parameter = 0, discretization_type=disctype, \n",
    "                                headings_disc=True, headings_corr=True)\n",
    "+ write_output_advection(a=a, p=p, p_map=p, M=M, L=L,correction_type=\"c_dg\",\n",
    "                             upwind_parameter = 1, discretization_type=disctype,\n",
    "                                headings_disc=False, headings_corr=False)\n",
    "+ \"\\\\cmidrule{2-8} \\n\"\n",
    "+ write_output_advection(a=a, p=p, p_map=p, M=M, L=L,correction_type=\"c_+\",\n",
    "                             upwind_parameter = 0, discretization_type=disctype, \n",
    "                                headings_disc=False, headings_corr=True)\n",
    "+ write_output_advection(a=a, p=p, p_map=p, M=M, L=L,correction_type=\"c_+\",\n",
    "                             upwind_parameter = 1, discretization_type=disctype, \n",
    "                                headings_disc=False, headings_corr=False))"
   ]
  }
 ],
 "metadata": {
  "interpreter": {
   "hash": "8a4c5cff9d1eb01f6f91880bd866b35b24d8468d7e92aa7ef6f6962744ecb1db"
  },
  "kernelspec": {
   "display_name": "tristan",
   "language": "python",
   "name": "tristan"
  },
  "language_info": {
   "codemirror_mode": {
    "name": "ipython",
    "version": 3
   },
   "file_extension": ".py",
   "mimetype": "text/x-python",
   "name": "python",
   "nbconvert_exporter": "python",
   "pygments_lexer": "ipython3",
   "version": "3.8.5"
  }
 },
 "nbformat": 4,
 "nbformat_minor": 4
}
