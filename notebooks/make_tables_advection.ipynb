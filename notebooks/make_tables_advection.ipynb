{
 "cells": [
  {
   "cell_type": "code",
   "execution_count": 3,
   "metadata": {
    "scrolled": false
   },
   "outputs": [
    {
     "name": "stderr",
     "output_type": "stream",
     "text": [
      "WARNING:root:msh4 requires 3D points, but 2D points given. Appending 0 third component.\n",
      "WARNING:root:Binary Gmsh needs c_size_t (got int64). Converting.\n"
     ]
    },
    {
     "name": "stdout",
     "output_type": "stream",
     "text": [
      "advection_p3b0c0t1_strong\n"
     ]
    },
    {
     "name": "stderr",
     "output_type": "stream",
     "text": [
      "WARNING:root:msh4 requires 3D points, but 2D points given. Appending 0 third component.\n",
      "WARNING:root:Binary Gmsh needs c_size_t (got int64). Converting.\n"
     ]
    },
    {
     "name": "stdout",
     "output_type": "stream",
     "text": [
      "advection_p3b0c0t1_weak\n"
     ]
    },
    {
     "ename": "FileNotFoundError",
     "evalue": "[Errno 2] No such file or directory: '../results/advection_p3b0c0t1_strong/res_31678.dat'",
     "output_type": "error",
     "traceback": [
      "\u001b[0;31m---------------------------------------------------------------------------\u001b[0m",
      "\u001b[0;31mFileNotFoundError\u001b[0m                         Traceback (most recent call last)",
      "\u001b[0;32m<ipython-input-3-6bb54a2b3df9>\u001b[0m in \u001b[0;36m<module>\u001b[0;34m\u001b[0m\n\u001b[1;32m     24\u001b[0m                              \u001b[0mupwind_parameter\u001b[0m \u001b[0;34m=\u001b[0m \u001b[0;36m1\u001b[0m\u001b[0;34m,\u001b[0m \u001b[0mdiscretization_type\u001b[0m\u001b[0;34m=\u001b[0m\u001b[0mdisctype\u001b[0m\u001b[0;34m,\u001b[0m\u001b[0;34m\u001b[0m\u001b[0;34m\u001b[0m\u001b[0m\n\u001b[1;32m     25\u001b[0m                                 headings_disc=False, headings_corr=False, headings_upwind=True)\n\u001b[0;32m---> 26\u001b[0;31m + \"\\\\midrule \\n\")\n\u001b[0m\u001b[1;32m     27\u001b[0m \u001b[0mdisctype\u001b[0m\u001b[0;34m=\u001b[0m\u001b[0;36m3\u001b[0m\u001b[0;34m\u001b[0m\u001b[0;34m\u001b[0m\u001b[0m\n\u001b[1;32m     28\u001b[0m table = table + (write_output_advection(a=a, p=p, p_geo=p, M=M, L=L,correction_type=\"c_dg\",\n",
      "\u001b[0;32m~/Research/GHOST_private/src/Driver.py\u001b[0m in \u001b[0;36mwrite_output_advection\u001b[0;34m(a, p, p_geo, M, L, correction_type, upwind_parameter, discretization_type, headings_disc, headings_corr, headings_upwind)\u001b[0m\n\u001b[1;32m    251\u001b[0m                     weak.discretization, a, weak.beta, L/M)))\n\u001b[1;32m    252\u001b[0m \u001b[0;34m\u001b[0m\u001b[0m\n\u001b[0;32m--> 253\u001b[0;31m     \u001b[0mstrong\u001b[0m\u001b[0;34m.\u001b[0m\u001b[0mload_solution\u001b[0m\u001b[0;34m(\u001b[0m\u001b[0mtime_step\u001b[0m\u001b[0;34m=\u001b[0m\u001b[0mNt_strong\u001b[0m\u001b[0;34m)\u001b[0m\u001b[0;34m\u001b[0m\u001b[0;34m\u001b[0m\u001b[0m\n\u001b[0m\u001b[1;32m    254\u001b[0m     \u001b[0mstrong\u001b[0m\u001b[0;34m.\u001b[0m\u001b[0mpost_process\u001b[0m\u001b[0;34m(\u001b[0m\u001b[0merror_quadrature_degree\u001b[0m\u001b[0;34m=\u001b[0m\u001b[0;36m4\u001b[0m\u001b[0;34m*\u001b[0m\u001b[0mp\u001b[0m\u001b[0;34m)\u001b[0m\u001b[0;34m\u001b[0m\u001b[0;34m\u001b[0m\u001b[0m\n\u001b[1;32m    255\u001b[0m     \u001b[0mweak\u001b[0m\u001b[0;34m.\u001b[0m\u001b[0mload_solution\u001b[0m\u001b[0;34m(\u001b[0m\u001b[0mtime_step\u001b[0m\u001b[0;34m=\u001b[0m\u001b[0mNt_weak\u001b[0m\u001b[0;34m)\u001b[0m\u001b[0;34m\u001b[0m\u001b[0;34m\u001b[0m\u001b[0m\n",
      "\u001b[0;32m~/Research/GHOST_private/src/Solver.py\u001b[0m in \u001b[0;36mload_solution\u001b[0;34m(self, results_path, time_step)\u001b[0m\n\u001b[1;32m   1092\u001b[0m         self.u_hat = pickle.load(open(results_path \n\u001b[1;32m   1093\u001b[0m                                       \u001b[0;34m+\u001b[0m \u001b[0;34m\"res_\"\u001b[0m\u001b[0;34m\u001b[0m\u001b[0;34m\u001b[0m\u001b[0m\n\u001b[0;32m-> 1094\u001b[0;31m                                       + str(time_step) + \".dat\", \"rb\"))\n\u001b[0m\u001b[1;32m   1095\u001b[0m \u001b[0;34m\u001b[0m\u001b[0m\n\u001b[1;32m   1096\u001b[0m \u001b[0;34m\u001b[0m\u001b[0m\n",
      "\u001b[0;31mFileNotFoundError\u001b[0m: [Errno 2] No such file or directory: '../results/advection_p3b0c0t1_strong/res_31678.dat'"
     ]
    }
   ],
   "source": [
    "import sys\n",
    "sys.path.insert(0, '../src')\n",
    "import numpy as np\n",
    "from Driver import write_output_advection\n",
    "            \n",
    "a=np.sqrt(2)\n",
    "p=3\n",
    "p_geo=1\n",
    "M=8\n",
    "L=1.0\n",
    "\n",
    "disctype=1\n",
    "table = (write_output_advection(a=a, p=p, p_geo=p, M=M, L=L,correction_type=\"c_dg\",\n",
    "                             upwind_parameter = 0, discretization_type=disctype, \n",
    "                                headings_disc=True, headings_corr=True, headings_upwind=True)\n",
    "+ write_output_advection(a=a, p=p, p_geo=p, M=M, L=L,correction_type=\"c_dg\",\n",
    "                             upwind_parameter = 1, discretization_type=disctype,\n",
    "                                headings_disc=False, headings_corr=False, headings_upwind=True)\n",
    "+ \"\\\\cmidrule{2-8} \\n\"\n",
    "+ write_output_advection(a=a, p=p, p_geo=p, M=M, L=L,correction_type=\"c_+\",\n",
    "                             upwind_parameter = 0, discretization_type=disctype, \n",
    "                                headings_disc=False, headings_corr=True, headings_upwind=True)\n",
    "+ write_output_advection(a=a, p=p, p_geo=p, M=M, L=L,correction_type=\"c_+\",\n",
    "                             upwind_parameter = 1, discretization_type=disctype, \n",
    "                                headings_disc=False, headings_corr=False, headings_upwind=True)\n",
    "+ \"\\\\midrule \\n\")\n",
    "disctype=3\n",
    "table = table + (write_output_advection(a=a, p=p, p_geo=p, M=M, L=L,correction_type=\"c_dg\",\n",
    "                             upwind_parameter = 0, discretization_type=disctype, \n",
    "                                headings_disc=True, headings_corr=True, headings_upwind=True)\n",
    "+ write_output_advection(a=a, p=p, p_geo=p, M=M, L=L,correction_type=\"c_dg\",\n",
    "                             upwind_parameter = 1, discretization_type=disctype,\n",
    "                                headings_disc=False, headings_corr=False, headings_upwind=True)\n",
    "+ \"\\\\cmidrule{2-8} \\n\"\n",
    "+ write_output_advection(a=a, p=p, p_geo=p, M=M, L=L,correction_type=\"c_+\",\n",
    "                             upwind_parameter = 0, discretization_type=disctype, \n",
    "                                headings_disc=False, headings_corr=True, headings_upwind=True)\n",
    "+ write_output_advection(a=a, p=p, p_geo=p, M=M, L=L,correction_type=\"c_+\",\n",
    "                             upwind_parameter = 1, discretization_type=disctype, \n",
    "                                headings_disc=False, headings_corr=False, headings_upwind=True)\n",
    "+ \"\\\\midrule \\n\")\n",
    "disctype=2\n",
    "table = table + (write_output_advection(a=a, p=p, p_geo=p, M=M, L=L,correction_type=\"c_dg\",\n",
    "                             upwind_parameter = 0, discretization_type=disctype, \n",
    "                                headings_disc=True, headings_corr=True, headings_upwind=True)\n",
    "+ write_output_advection(a=a, p=p, p_geo=p, M=M, L=L,correction_type=\"c_dg\",\n",
    "                             upwind_parameter = 1, discretization_type=disctype,\n",
    "                                headings_disc=False, headings_corr=False, headings_upwind=True)\n",
    "+ \"\\\\cmidrule{2-8} \\n\"\n",
    "+ write_output_advection(a=a, p=p, p_geo=p, M=M, L=L,correction_type=\"c_+\",\n",
    "                             upwind_parameter = 0, discretization_type=disctype, \n",
    "                                headings_disc=False, headings_corr=True, headings_upwind=True)\n",
    "+ write_output_advection(a=a, p=p, p_geo=p, M=M, L=L,correction_type=\"c_+\",\n",
    "                             upwind_parameter = 1, discretization_type=disctype, \n",
    "                                headings_disc=False, headings_corr=False, headings_upwind=True))\n",
    "\n"
   ]
  },
  {
   "cell_type": "markdown",
   "metadata": {},
   "source": []
  },
  {
   "cell_type": "code",
   "execution_count": 2,
   "metadata": {},
   "outputs": [
    {
     "name": "stdout",
     "output_type": "stream",
     "text": [
      "Quadrature I & $c_{\\mathrm{DG}}$ & 0 & 8.558e-15 & -3.121e-16 & -5.757e-16 & -1.443e-15 & -1.887e-15\\\\ \n",
      " &  & 1 & 1.423e-15 & -1.278e-16 & -9.335e-17 & -5.847e-03 & -5.847e-03\\\\ \n",
      "\\cmidrule{2-8} \n",
      " & $c_+$ & 0 & 7.232e-15 & -7.081e-16 & -8.887e-16 & 1.665e-16 & 4.441e-16\\\\ \n",
      " &  & 1 & 1.320e-15 & 6.117e-16 & 5.333e-16 & -4.131e-02 & -4.131e-02\\\\ \n",
      "\\midrule \n",
      "Quadrature II & $c_{\\mathrm{DG}}$ & 0 & 1.313e+130 & -4.804e+113 & -7.906e+52 & 1.671e+260 & 8.685e+140\\\\ \n",
      " &  & 1 & 1.741e-02 & -1.382e-15 & 4.901e-16 & -5.308e-03 & -4.728e-03\\\\ \n",
      "\\cmidrule{2-8} \n",
      " & $c_+$ & 0 & 6.851e+67 & -8.659e+49 & 2.911e+04 & 3.113e+135 & 6.016e+42\\\\ \n",
      " &  & 1 & 2.410e-02 & 5.849e-16 & 3.646e-16 & -3.374e-02 & -4.306e-02\\\\ \n",
      "\\midrule \n",
      "Collocation & $c_{\\mathrm{DG}}$ & 0 & 4.156e-15 & -6.516e-17 & -2.480e-16 & -7.577e-15 & -1.019e-14\\\\ \n",
      " &  & 1 & 3.201e-15 & -8.142e-17 & -4.937e-16 & -5.775e-03 & -5.775e-03\\\\ \n",
      "\\cmidrule{2-8} \n",
      " & $c_+$ & 0 & 5.068e-15 & -1.312e-16 & -3.735e-16 & -3.331e-16 & -4.441e-15\\\\ \n",
      " &  & 1 & 4.211e-15 & -2.686e-16 & -5.489e-16 & -4.008e-02 & -4.008e-02\\\\ \n",
      "\n"
     ]
    }
   ],
   "source": [
    "print(table)"
   ]
  },
  {
   "cell_type": "code",
   "execution_count": null,
   "metadata": {},
   "outputs": [],
   "source": []
  }
 ],
 "metadata": {
  "kernelspec": {
   "display_name": "Python 3",
   "language": "python",
   "name": "python3"
  },
  "language_info": {
   "codemirror_mode": {
    "name": "ipython",
    "version": 3
   },
   "file_extension": ".py",
   "mimetype": "text/x-python",
   "name": "python",
   "nbconvert_exporter": "python",
   "pygments_lexer": "ipython3",
   "version": "3.7.9"
  }
 },
 "nbformat": 4,
 "nbformat_minor": 4
}
