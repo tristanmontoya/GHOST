{
 "cells": [
  {
   "cell_type": "code",
   "execution_count": 1,
   "id": "b8a4822d",
   "metadata": {
    "execution": {
     "iopub.execute_input": "2021-05-14T22:14:03.924344Z",
     "iopub.status.busy": "2021-05-14T22:14:03.923702Z",
     "iopub.status.idle": "2021-05-14T22:14:03.926136Z",
     "shell.execute_reply": "2021-05-14T22:14:03.926646Z"
    },
    "papermill": {
     "duration": 0.018914,
     "end_time": "2021-05-14T22:14:03.926909",
     "exception": false,
     "start_time": "2021-05-14T22:14:03.907995",
     "status": "completed"
    },
    "tags": [
     "parameters"
    ]
   },
   "outputs": [],
   "source": [
    "mach_number=0.4\n",
    "p=2\n",
    "M=16\n",
    "L=10.0\n",
    "p_geo=2\n",
    "c=\"c_dg\"\n",
    "discretization_type=1\n",
    "form=\"strong\""
   ]
  },
  {
   "cell_type": "code",
   "execution_count": 2,
   "id": "eb8d604c",
   "metadata": {
    "execution": {
     "iopub.execute_input": "2021-05-14T22:14:04.222316Z",
     "iopub.status.busy": "2021-05-14T22:14:04.221100Z",
     "iopub.status.idle": "2021-05-14T22:14:04.222905Z",
     "shell.execute_reply": "2021-05-14T22:14:04.221688Z"
    },
    "papermill": {
     "duration": 0.22538,
     "end_time": "2021-05-14T22:14:04.223044",
     "exception": false,
     "start_time": "2021-05-14T22:14:03.997664",
     "status": "completed"
    },
    "tags": [
     "injected-parameters"
    ]
   },
   "outputs": [],
   "source": [
    "# Parameters\n",
    "mach_number = 0.4\n",
    "p = 2\n",
    "p_geo = 2\n",
    "c = \"c_dg\"\n",
    "discretization_type = 1\n",
    "form = \"weak\"\n"
   ]
  },
  {
   "cell_type": "code",
   "execution_count": null,
   "id": "a0938811",
   "metadata": {
    "papermill": {
     "duration": null,
     "end_time": null,
     "exception": false,
     "start_time": "2021-05-14T22:14:04.263807",
     "status": "running"
    },
    "tags": []
   },
   "outputs": [],
   "source": [
    "import sys  \n",
    "import numpy as np\n",
    "sys.path.insert(0, '../src')\n",
    "from Driver import euler_driver\n",
    "\n",
    "solver = euler_driver(mach_number=mach_number, \n",
    "                      theta=np.pi/4,\n",
    "                        p=p, M=M, L=L,\n",
    "                        p_geo=p_geo, c=c, \n",
    "                        discretization_type=discretization_type,\n",
    "                        form=form)"
   ]
  },
  {
   "cell_type": "code",
   "execution_count": null,
   "id": "4afe84e1",
   "metadata": {
    "papermill": {
     "duration": null,
     "end_time": null,
     "exception": null,
     "start_time": null,
     "status": "pending"
    },
    "tags": []
   },
   "outputs": [],
   "source": []
  }
 ],
 "metadata": {
  "celltoolbar": "Tags",
  "kernelspec": {
   "display_name": "Python 3",
   "language": "python",
   "name": "python3"
  },
  "language_info": {
   "codemirror_mode": {
    "name": "ipython",
    "version": 3
   },
   "file_extension": ".py",
   "mimetype": "text/x-python",
   "name": "python",
   "nbconvert_exporter": "python",
   "pygments_lexer": "ipython3",
   "version": "3.7.9"
  },
  "papermill": {
   "default_parameters": {},
   "duration": null,
   "end_time": null,
   "environment_variables": {},
   "exception": null,
   "input_path": "euler_driver.ipynb",
   "output_path": "euler_m04p2c0t1_weak.ipynb",
   "parameters": {
    "c": "c_dg",
    "discretization_type": 1,
    "form": "weak",
    "mach_number": 0.4,
    "p": 2,
    "p_geo": 2
   },
   "start_time": "2021-05-14T22:14:02.767320",
   "version": "2.3.3"
  }
 },
 "nbformat": 4,
 "nbformat_minor": 5
}