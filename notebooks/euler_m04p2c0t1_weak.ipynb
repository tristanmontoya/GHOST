{
 "cells": [
  {
   "cell_type": "code",
   "execution_count": 1,
   "metadata": {
    "execution": {
     "iopub.execute_input": "2020-12-30T03:05:46.524395Z",
     "iopub.status.busy": "2020-12-30T03:05:46.523789Z",
     "iopub.status.idle": "2020-12-30T03:05:46.526826Z",
     "shell.execute_reply": "2020-12-30T03:05:46.526162Z"
    },
    "papermill": {
     "duration": 0.018454,
     "end_time": "2020-12-30T03:05:46.527018",
     "exception": false,
     "start_time": "2020-12-30T03:05:46.508564",
     "status": "completed"
    },
    "tags": [
     "parameters"
    ]
   },
   "outputs": [],
   "source": [
    "mach_number=0.4\n",
    "p=2\n",
    "M=11\n",
    "L=10.0\n",
    "p_geo=2\n",
    "c=\"c_dg\"\n",
    "discretization_type=1\n",
    "form=\"strong\""
   ]
  },
  {
   "cell_type": "code",
   "execution_count": 2,
   "metadata": {
    "execution": {
     "iopub.execute_input": "2020-12-30T03:05:46.539844Z",
     "iopub.status.busy": "2020-12-30T03:05:46.539262Z",
     "iopub.status.idle": "2020-12-30T03:05:46.542722Z",
     "shell.execute_reply": "2020-12-30T03:05:46.541849Z"
    },
    "papermill": {
     "duration": 0.011602,
     "end_time": "2020-12-30T03:05:46.542906",
     "exception": false,
     "start_time": "2020-12-30T03:05:46.531304",
     "status": "completed"
    },
    "tags": [
     "injected-parameters"
    ]
   },
   "outputs": [],
   "source": [
    "# Parameters\n",
    "mach_number = 0.4\n",
    "p = 2\n",
    "c = \"c_dg\"\n",
    "discretization_type = 1\n",
    "form = \"weak\"\n"
   ]
  },
  {
   "cell_type": "code",
   "execution_count": 3,
   "metadata": {
    "execution": {
     "iopub.execute_input": "2020-12-30T03:05:46.559112Z",
     "iopub.status.busy": "2020-12-30T03:05:46.558502Z",
     "iopub.status.idle": "2020-12-30T14:02:23.770074Z",
     "shell.execute_reply": "2020-12-30T14:02:23.770808Z"
    },
    "papermill": {
     "duration": 39397.223036,
     "end_time": "2020-12-30T14:02:23.771155",
     "exception": false,
     "start_time": "2020-12-30T03:05:46.548119",
     "status": "completed"
    },
    "tags": []
   },
   "outputs": [
    {
     "name": "stderr",
     "output_type": "stream",
     "text": [
      "WARNING:root:msh4 requires 3D points, but 2D points given. Appending 0 third component.\n"
     ]
    },
    {
     "name": "stderr",
     "output_type": "stream",
     "text": [
      "WARNING:root:Binary Gmsh needs c_size_t (got int64). Converting.\n"
     ]
    },
    {
     "name": "stdout",
     "output_type": "stream",
     "text": [
      "running solver euler_m04p2c0t1_weak\n"
     ]
    },
    {
     "name": "stdout",
     "output_type": "stream",
     "text": [
      "8.527e-14 &  4.974e-02  \\\\\n",
      "-4.512e-13 &  1.609e-01  \\\\\n",
      "7.461e-13 &  1.455e-01  \\\\\n",
      "2.558e-13 &  1.635e-01  \\\\\n"
     ]
    }
   ],
   "source": [
    "import sys  \n",
    "sys.path.insert(0, '../src')\n",
    "from Driver import euler_driver\n",
    "\n",
    "solver = euler_driver(mach_number=mach_number, \n",
    "                        p=p, M=M, L=L,\n",
    "                        p_geo=p_geo, c=c, \n",
    "                        discretization_type=discretization_type,\n",
    "                        form=form)"
   ]
  },
  {
   "cell_type": "code",
   "execution_count": null,
   "metadata": {
    "papermill": {
     "duration": 0.007467,
     "end_time": "2020-12-30T14:02:23.786825",
     "exception": false,
     "start_time": "2020-12-30T14:02:23.779358",
     "status": "completed"
    },
    "tags": []
   },
   "outputs": [],
   "source": []
  }
 ],
 "metadata": {
  "celltoolbar": "Tags",
  "kernelspec": {
   "display_name": "Python 3",
   "language": "python",
   "name": "python3"
  },
  "language_info": {
   "codemirror_mode": {
    "name": "ipython",
    "version": 3
   },
   "file_extension": ".py",
   "mimetype": "text/x-python",
   "name": "python",
   "nbconvert_exporter": "python",
   "pygments_lexer": "ipython3",
   "version": "3.8.5"
  },
  "papermill": {
   "default_parameters": {},
   "duration": 39400.270438,
   "end_time": "2020-12-30T14:02:25.724823",
   "environment_variables": {},
   "exception": null,
   "input_path": "euler_driver.ipynb",
   "output_path": "euler_m04p2c0t1_weak.ipynb",
   "parameters": {
    "c": "c_dg",
    "discretization_type": 1,
    "form": "weak",
    "mach_number": 0.4,
    "p": 2
   },
   "start_time": "2020-12-30T03:05:45.454385",
   "version": "2.2.2"
  }
 },
 "nbformat": 4,
 "nbformat_minor": 2
}