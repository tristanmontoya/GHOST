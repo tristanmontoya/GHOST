{
 "cells": [
  {
   "cell_type": "code",
   "execution_count": 1,
   "id": "66333f12",
   "metadata": {
    "execution": {
     "iopub.execute_input": "2021-05-11T05:21:34.112531Z",
     "iopub.status.busy": "2021-05-11T05:21:34.111868Z",
     "iopub.status.idle": "2021-05-11T05:21:34.115237Z",
     "shell.execute_reply": "2021-05-11T05:21:34.114545Z"
    },
    "papermill": {
     "duration": 0.02005,
     "end_time": "2021-05-11T05:21:34.115388",
     "exception": false,
     "start_time": "2021-05-11T05:21:34.095338",
     "status": "completed"
    },
    "tags": [
     "parameters"
    ]
   },
   "outputs": [],
   "source": [
    "p=2\n",
    "M=10\n",
    "L=1\n",
    "p_geo=1\n",
    "c=\"c_dg\"\n",
    "discretization_type=1\n",
    "upwind_parameter=1.0\n",
    "form=\"strong\""
   ]
  },
  {
   "cell_type": "code",
   "execution_count": 2,
   "id": "5705a9a4",
   "metadata": {
    "execution": {
     "iopub.execute_input": "2021-05-11T05:21:34.173443Z",
     "iopub.status.busy": "2021-05-11T05:21:34.172226Z",
     "iopub.status.idle": "2021-05-11T05:21:34.174030Z",
     "shell.execute_reply": "2021-05-11T05:21:34.172841Z"
    },
    "papermill": {
     "duration": 0.053212,
     "end_time": "2021-05-11T05:21:34.174189",
     "exception": false,
     "start_time": "2021-05-11T05:21:34.120977",
     "status": "completed"
    },
    "tags": [
     "injected-parameters"
    ]
   },
   "outputs": [],
   "source": [
    "# Parameters\n",
    "p = 3\n",
    "p_geo = 1\n",
    "upwind_parameter = 1.0\n",
    "c = \"c_+\"\n",
    "discretization_type = 2\n",
    "form = \"strong\"\n"
   ]
  },
  {
   "cell_type": "code",
   "execution_count": 3,
   "id": "3875c320",
   "metadata": {
    "execution": {
     "iopub.execute_input": "2021-05-11T05:21:34.240657Z",
     "iopub.status.busy": "2021-05-11T05:21:34.240004Z",
     "iopub.status.idle": "2021-05-11T07:51:02.780885Z",
     "shell.execute_reply": "2021-05-11T07:51:02.781557Z"
    },
    "papermill": {
     "duration": 8968.571901,
     "end_time": "2021-05-11T07:51:02.781785",
     "exception": false,
     "start_time": "2021-05-11T05:21:34.209884",
     "status": "completed"
    },
    "tags": []
   },
   "outputs": [
    {
     "name": "stderr",
     "output_type": "stream",
     "text": [
      "WARNING:root:msh4 requires 3D points, but 2D points given. Appending 0 third component.\n"
     ]
    },
    {
     "name": "stderr",
     "output_type": "stream",
     "text": [
      "WARNING:root:Binary Gmsh needs c_size_t (got int64). Converting.\n"
     ]
    },
    {
     "name": "stdout",
     "output_type": "stream",
     "text": [
      "advection_p3b1cpt2_strong\n"
     ]
    },
    {
     "name": "stdout",
     "output_type": "stream",
     "text": [
      "-7.131e-16 &  -5.502e-04 & 3.652e-03  \\\\\n"
     ]
    }
   ],
   "source": [
    "import sys  \n",
    "import numpy as np\n",
    "sys.path.insert(0, '../src')\n",
    "from Driver import advection_driver\n",
    "\n",
    "solver = advection_driver(a=np.sqrt(2), theta=np.pi/4, p=p, M=M, L=L,\n",
    "                        p_geo=p_geo, c=c, \n",
    "                        discretization_type=discretization_type,\n",
    "                        upwind_parameter=upwind_parameter,\n",
    "                        form=form)"
   ]
  },
  {
   "cell_type": "code",
   "execution_count": null,
   "id": "649e0c11",
   "metadata": {
    "papermill": {
     "duration": 0.008011,
     "end_time": "2021-05-11T07:51:02.798303",
     "exception": false,
     "start_time": "2021-05-11T07:51:02.790292",
     "status": "completed"
    },
    "tags": []
   },
   "outputs": [],
   "source": []
  }
 ],
 "metadata": {
  "celltoolbar": "Tags",
  "kernelspec": {
   "display_name": "Python 3",
   "language": "python",
   "name": "python3"
  },
  "language_info": {
   "codemirror_mode": {
    "name": "ipython",
    "version": 3
   },
   "file_extension": ".py",
   "mimetype": "text/x-python",
   "name": "python",
   "nbconvert_exporter": "python",
   "pygments_lexer": "ipython3",
   "version": "3.8.5"
  },
  "papermill": {
   "default_parameters": {},
   "duration": 8970.533248,
   "end_time": "2021-05-11T07:51:03.316492",
   "environment_variables": {},
   "exception": null,
   "input_path": "advection_driver.ipynb",
   "output_path": "advection_p3b1cpt2_strong.ipynb",
   "parameters": {
    "c": "c_+",
    "discretization_type": 2,
    "form": "strong",
    "p": 3,
    "p_geo": 1,
    "upwind_parameter": 1.0
   },
   "start_time": "2021-05-11T05:21:32.783244",
   "version": "2.3.3"
  }
 },
 "nbformat": 4,
 "nbformat_minor": 5
}