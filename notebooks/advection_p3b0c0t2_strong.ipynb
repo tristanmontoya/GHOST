{
 "cells": [
  {
   "cell_type": "code",
   "execution_count": 1,
   "id": "2a0a2120",
   "metadata": {
    "execution": {
     "iopub.execute_input": "2021-05-11T05:21:34.124581Z",
     "iopub.status.busy": "2021-05-11T05:21:34.122499Z",
     "iopub.status.idle": "2021-05-11T05:21:34.127348Z",
     "shell.execute_reply": "2021-05-11T05:21:34.127861Z"
    },
    "papermill": {
     "duration": 0.019726,
     "end_time": "2021-05-11T05:21:34.128120",
     "exception": false,
     "start_time": "2021-05-11T05:21:34.108394",
     "status": "completed"
    },
    "tags": [
     "parameters"
    ]
   },
   "outputs": [],
   "source": [
    "p=2\n",
    "M=10\n",
    "L=1\n",
    "p_geo=1\n",
    "c=\"c_dg\"\n",
    "discretization_type=1\n",
    "upwind_parameter=1.0\n",
    "form=\"strong\""
   ]
  },
  {
   "cell_type": "code",
   "execution_count": 2,
   "id": "ca5b6265",
   "metadata": {
    "execution": {
     "iopub.execute_input": "2021-05-11T05:21:34.191594Z",
     "iopub.status.busy": "2021-05-11T05:21:34.190384Z",
     "iopub.status.idle": "2021-05-11T05:21:34.192207Z",
     "shell.execute_reply": "2021-05-11T05:21:34.190979Z"
    },
    "papermill": {
     "duration": 0.059171,
     "end_time": "2021-05-11T05:21:34.192381",
     "exception": false,
     "start_time": "2021-05-11T05:21:34.133210",
     "status": "completed"
    },
    "tags": [
     "injected-parameters"
    ]
   },
   "outputs": [],
   "source": [
    "# Parameters\n",
    "p = 3\n",
    "p_geo = 1\n",
    "upwind_parameter = 0.0\n",
    "c = \"c_dg\"\n",
    "discretization_type = 2\n",
    "form = \"strong\"\n"
   ]
  },
  {
   "cell_type": "code",
   "execution_count": 3,
   "id": "d991833d",
   "metadata": {
    "execution": {
     "iopub.execute_input": "2021-05-11T05:21:34.220851Z",
     "iopub.status.busy": "2021-05-11T05:21:34.219943Z",
     "iopub.status.idle": "2021-05-11T07:52:42.717764Z",
     "shell.execute_reply": "2021-05-11T07:52:42.718323Z"
    },
    "papermill": {
     "duration": 9068.510747,
     "end_time": "2021-05-11T07:52:42.718510",
     "exception": false,
     "start_time": "2021-05-11T05:21:34.207763",
     "status": "completed"
    },
    "tags": []
   },
   "outputs": [
    {
     "name": "stderr",
     "output_type": "stream",
     "text": [
      "WARNING:root:msh4 requires 3D points, but 2D points given. Appending 0 third component.\n"
     ]
    },
    {
     "name": "stderr",
     "output_type": "stream",
     "text": [
      "WARNING:root:Binary Gmsh needs c_size_t (got int64). Converting.\n"
     ]
    },
    {
     "name": "stdout",
     "output_type": "stream",
     "text": [
      "advection_p3b0c0t2_strong\n"
     ]
    },
    {
     "name": "stdout",
     "output_type": "stream",
     "text": [
      "-4.732e-16 &  2.220e-16 & 4.573e-03  \\\\\n"
     ]
    }
   ],
   "source": [
    "import sys  \n",
    "import numpy as np\n",
    "sys.path.insert(0, '../src')\n",
    "from Driver import advection_driver\n",
    "\n",
    "solver = advection_driver(a=np.sqrt(2), theta=np.pi/4, p=p, M=M, L=L,\n",
    "                        p_geo=p_geo, c=c, \n",
    "                        discretization_type=discretization_type,\n",
    "                        upwind_parameter=upwind_parameter,\n",
    "                        form=form)"
   ]
  },
  {
   "cell_type": "code",
   "execution_count": null,
   "id": "aca6b237",
   "metadata": {
    "papermill": {
     "duration": 0.005768,
     "end_time": "2021-05-11T07:52:42.730366",
     "exception": false,
     "start_time": "2021-05-11T07:52:42.724598",
     "status": "completed"
    },
    "tags": []
   },
   "outputs": [],
   "source": []
  }
 ],
 "metadata": {
  "celltoolbar": "Tags",
  "kernelspec": {
   "display_name": "Python 3",
   "language": "python",
   "name": "python3"
  },
  "language_info": {
   "codemirror_mode": {
    "name": "ipython",
    "version": 3
   },
   "file_extension": ".py",
   "mimetype": "text/x-python",
   "name": "python",
   "nbconvert_exporter": "python",
   "pygments_lexer": "ipython3",
   "version": "3.8.5"
  },
  "papermill": {
   "default_parameters": {},
   "duration": 9070.568925,
   "end_time": "2021-05-11T07:52:43.345688",
   "environment_variables": {},
   "exception": null,
   "input_path": "advection_driver.ipynb",
   "output_path": "advection_p3b0c0t2_strong.ipynb",
   "parameters": {
    "c": "c_dg",
    "discretization_type": 2,
    "form": "strong",
    "p": 3,
    "p_geo": 1,
    "upwind_parameter": 0.0
   },
   "start_time": "2021-05-11T05:21:32.776763",
   "version": "2.3.3"
  }
 },
 "nbformat": 4,
 "nbformat_minor": 5
}