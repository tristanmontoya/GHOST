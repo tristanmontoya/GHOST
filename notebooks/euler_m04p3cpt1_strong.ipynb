{
 "cells": [
  {
   "cell_type": "markdown",
   "id": "333b9563",
   "metadata": {
    "papermill": {
     "duration": 0.003544,
     "end_time": "2021-12-08T16:30:21.706471",
     "exception": false,
     "start_time": "2021-12-08T16:30:21.702927",
     "status": "completed"
    },
    "tags": []
   },
   "source": [
    "# GHOST driver - Euler equations"
   ]
  },
  {
   "cell_type": "code",
   "execution_count": 1,
   "id": "5267aa5f",
   "metadata": {
    "execution": {
     "iopub.execute_input": "2021-12-08T16:30:21.717154Z",
     "iopub.status.busy": "2021-12-08T16:30:21.716655Z",
     "iopub.status.idle": "2021-12-08T16:30:21.719253Z",
     "shell.execute_reply": "2021-12-08T16:30:21.718690Z"
    },
    "papermill": {
     "duration": 0.009583,
     "end_time": "2021-12-08T16:30:21.719363",
     "exception": false,
     "start_time": "2021-12-08T16:30:21.709780",
     "status": "completed"
    },
    "tags": [
     "parameters"
    ]
   },
   "outputs": [],
   "source": [
    "mach_number=0.4\n",
    "p=2\n",
    "M=16\n",
    "L=10.0\n",
    "p_map=2\n",
    "c=\"c_dg\"\n",
    "discretization_type=1\n",
    "form=\"weak\""
   ]
  },
  {
   "cell_type": "code",
   "execution_count": 2,
   "id": "f10004a8",
   "metadata": {
    "execution": {
     "iopub.execute_input": "2021-12-08T16:30:21.740313Z",
     "iopub.status.busy": "2021-12-08T16:30:21.739113Z",
     "iopub.status.idle": "2021-12-08T16:30:21.742989Z",
     "shell.execute_reply": "2021-12-08T16:30:21.741899Z"
    },
    "papermill": {
     "duration": 0.02056,
     "end_time": "2021-12-08T16:30:21.743205",
     "exception": false,
     "start_time": "2021-12-08T16:30:21.722645",
     "status": "completed"
    },
    "tags": [
     "injected-parameters"
    ]
   },
   "outputs": [],
   "source": [
    "# Parameters\n",
    "mach_number = 0.4\n",
    "p = 3\n",
    "p_map = 3\n",
    "c = \"c_+\"\n",
    "discretization_type = 1\n",
    "form = \"strong\"\n"
   ]
  },
  {
   "cell_type": "code",
   "execution_count": 3,
   "id": "b6012706",
   "metadata": {
    "execution": {
     "iopub.execute_input": "2021-12-08T16:30:21.797591Z",
     "iopub.status.busy": "2021-12-08T16:30:21.796734Z",
     "iopub.status.idle": "2021-12-08T16:30:38.787376Z",
     "shell.execute_reply": "2021-12-08T16:30:38.787832Z"
    },
    "papermill": {
     "duration": 17.035215,
     "end_time": "2021-12-08T16:30:38.788001",
     "exception": false,
     "start_time": "2021-12-08T16:30:21.752786",
     "status": "completed"
    },
    "tags": []
   },
   "outputs": [
    {
     "name": "stderr",
     "output_type": "stream",
     "text": [
      "Matplotlib created a temporary config/cache directory at /tmp/matplotlib-9xm92lfi because the default path (/home/z/zingg/tmontoya/.config/matplotlib) is not a writable directory; it is highly recommended to set the MPLCONFIGDIR environment variable to a writable directory, in particular to speed up the import of Matplotlib and to better support multiprocessing.\n"
     ]
    },
    {
     "name": "stdout",
     "output_type": "stream",
     "text": [
      "euler_m04p3cpt1_strong\n"
     ]
    },
    {
     "name": "stdout",
     "output_type": "stream",
     "text": [
      "loaded from time step  63356\n"
     ]
    }
   ],
   "source": [
    "import sys  \n",
    "import numpy as np\n",
    "sys.path.insert(0, '../src')\n",
    "from Driver import euler_driver\n",
    "\n",
    "solver = euler_driver(mach_number=mach_number, \n",
    "                      theta=np.pi/4,\n",
    "                        p=p, M=M, L=L,\n",
    "                        p_map=p_map, c=c, \n",
    "                        discretization_type=discretization_type,\n",
    "                        new_mesh=False,\n",
    "                        form=form, restart=True,run=True)"
   ]
  }
 ],
 "metadata": {
  "celltoolbar": "Tags",
  "interpreter": {
   "hash": "8a4c5cff9d1eb01f6f91880bd866b35b24d8468d7e92aa7ef6f6962744ecb1db"
  },
  "kernelspec": {
   "display_name": "Python 3.9.5 64-bit ('base': conda)",
   "name": "python3"
  },
  "language_info": {
   "codemirror_mode": {
    "name": "ipython",
    "version": 3
   },
   "file_extension": ".py",
   "mimetype": "text/x-python",
   "name": "python",
   "nbconvert_exporter": "python",
   "pygments_lexer": "ipython3",
   "version": "3.8.5"
  },
  "papermill": {
   "default_parameters": {},
   "duration": 18.582174,
   "end_time": "2021-12-08T16:30:39.199156",
   "environment_variables": {},
   "exception": null,
   "input_path": "euler_driver.ipynb",
   "output_path": "euler_m04p3cpt1_strong.ipynb",
   "parameters": {
    "c": "c_+",
    "discretization_type": 1,
    "form": "strong",
    "mach_number": 0.4,
    "p": 3,
    "p_map": 3
   },
   "start_time": "2021-12-08T16:30:20.616982",
   "version": "2.3.3"
  }
 },
 "nbformat": 4,
 "nbformat_minor": 5
}