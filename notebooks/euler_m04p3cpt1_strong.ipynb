{
 "cells": [
  {
   "cell_type": "code",
   "execution_count": 1,
   "id": "f5ff7468",
   "metadata": {
    "execution": {
     "iopub.execute_input": "2021-05-13T13:01:26.960422Z",
     "iopub.status.busy": "2021-05-13T13:01:26.958561Z",
     "iopub.status.idle": "2021-05-13T13:01:26.962745Z",
     "shell.execute_reply": "2021-05-13T13:01:26.963211Z"
    },
    "papermill": {
     "duration": 0.018972,
     "end_time": "2021-05-13T13:01:26.963495",
     "exception": false,
     "start_time": "2021-05-13T13:01:26.944523",
     "status": "completed"
    },
    "tags": [
     "parameters"
    ]
   },
   "outputs": [],
   "source": [
    "mach_number=0.4\n",
    "p=2\n",
    "M=10\n",
    "L=10.0\n",
    "p_geo=2\n",
    "c=\"c_dg\"\n",
    "discretization_type=1\n",
    "form=\"strong\""
   ]
  },
  {
   "cell_type": "code",
   "execution_count": 2,
   "id": "bdf2db02",
   "metadata": {
    "execution": {
     "iopub.execute_input": "2021-05-13T13:01:26.985649Z",
     "iopub.status.busy": "2021-05-13T13:01:26.983543Z",
     "iopub.status.idle": "2021-05-13T13:01:26.991673Z",
     "shell.execute_reply": "2021-05-13T13:01:26.991107Z"
    },
    "papermill": {
     "duration": 0.018824,
     "end_time": "2021-05-13T13:01:26.991815",
     "exception": false,
     "start_time": "2021-05-13T13:01:26.972991",
     "status": "completed"
    },
    "tags": [
     "injected-parameters"
    ]
   },
   "outputs": [],
   "source": [
    "# Parameters\n",
    "mach_number = 0.4\n",
    "p = 3\n",
    "p_geo = 3\n",
    "c = \"c_+\"\n",
    "discretization_type = 1\n",
    "form = \"strong\"\n"
   ]
  },
  {
   "cell_type": "code",
   "execution_count": 3,
   "id": "2cee21e6",
   "metadata": {
    "execution": {
     "iopub.execute_input": "2021-05-13T13:01:27.031354Z",
     "iopub.status.busy": "2021-05-13T13:01:27.030602Z",
     "iopub.status.idle": "2021-05-14T09:15:02.819493Z",
     "shell.execute_reply": "2021-05-14T09:15:02.820142Z"
    },
    "papermill": {
     "duration": 72815.821708,
     "end_time": "2021-05-14T09:15:02.820416",
     "exception": false,
     "start_time": "2021-05-13T13:01:26.998708",
     "status": "completed"
    },
    "tags": []
   },
   "outputs": [
    {
     "name": "stdout",
     "output_type": "stream",
     "text": [
      "euler_m04p3cpt1_strong\n"
     ]
    },
    {
     "name": "stdout",
     "output_type": "stream",
     "text": [
      "4.121e-13 &  3.539e-02  \\\\\n",
      "-3.411e-13 &  1.281e-01  \\\\\n",
      "1.560e-12 &  9.005e-02  \\\\\n",
      "8.811e-13 &  1.048e-01  \\\\\n"
     ]
    }
   ],
   "source": [
    "import sys  \n",
    "import numpy as np\n",
    "sys.path.insert(0, '../src')\n",
    "from Driver import euler_driver\n",
    "\n",
    "solver = euler_driver(mach_number=mach_number, \n",
    "                      theta=np.pi/4,\n",
    "                        p=p, M=M, L=L,\n",
    "                        p_geo=p_geo, c=c, \n",
    "                        discretization_type=discretization_type,\n",
    "                        form=form)"
   ]
  },
  {
   "cell_type": "code",
   "execution_count": null,
   "id": "70fbdc37",
   "metadata": {
    "papermill": {
     "duration": 0.006774,
     "end_time": "2021-05-14T09:15:02.834460",
     "exception": false,
     "start_time": "2021-05-14T09:15:02.827686",
     "status": "completed"
    },
    "tags": []
   },
   "outputs": [],
   "source": []
  }
 ],
 "metadata": {
  "celltoolbar": "Tags",
  "kernelspec": {
   "display_name": "Python 3",
   "language": "python",
   "name": "python3"
  },
  "language_info": {
   "codemirror_mode": {
    "name": "ipython",
    "version": 3
   },
   "file_extension": ".py",
   "mimetype": "text/x-python",
   "name": "python",
   "nbconvert_exporter": "python",
   "pygments_lexer": "ipython3",
   "version": "3.8.5"
  },
  "papermill": {
   "default_parameters": {},
   "duration": 72818.250054,
   "end_time": "2021-05-14T09:15:04.050617",
   "environment_variables": {},
   "exception": null,
   "input_path": "euler_driver.ipynb",
   "output_path": "euler_m04p3cpt1_strong.ipynb",
   "parameters": {
    "c": "c_+",
    "discretization_type": 1,
    "form": "strong",
    "mach_number": 0.4,
    "p": 3,
    "p_geo": 3
   },
   "start_time": "2021-05-13T13:01:25.800563",
   "version": "2.3.3"
  }
 },
 "nbformat": 4,
 "nbformat_minor": 5
}