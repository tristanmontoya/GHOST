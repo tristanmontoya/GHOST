{
 "cells": [
  {
   "cell_type": "markdown",
   "id": "880cf868",
   "metadata": {
    "papermill": {
     "duration": 0.003272,
     "end_time": "2021-10-27T12:36:40.164939",
     "exception": false,
     "start_time": "2021-10-27T12:36:40.161667",
     "status": "completed"
    },
    "tags": []
   },
   "source": [
    "# GHOST driver - linear advection equation"
   ]
  },
  {
   "cell_type": "code",
   "execution_count": 1,
   "id": "a3ed5b7b",
   "metadata": {
    "execution": {
     "iopub.execute_input": "2021-10-27T12:36:40.174601Z",
     "iopub.status.busy": "2021-10-27T12:36:40.174090Z",
     "iopub.status.idle": "2021-10-27T12:36:40.175889Z",
     "shell.execute_reply": "2021-10-27T12:36:40.176292Z"
    },
    "papermill": {
     "duration": 0.008545,
     "end_time": "2021-10-27T12:36:40.176484",
     "exception": false,
     "start_time": "2021-10-27T12:36:40.167939",
     "status": "completed"
    },
    "tags": [
     "parameters"
    ]
   },
   "outputs": [],
   "source": [
    "p=2\n",
    "M=8\n",
    "L=1\n",
    "p_map=1\n",
    "c=\"c_+\"\n",
    "discretization_type=1\n",
    "upwind_parameter=0.0\n",
    "form=\"weak\""
   ]
  },
  {
   "cell_type": "code",
   "execution_count": 2,
   "id": "446585ac",
   "metadata": {
    "execution": {
     "iopub.execute_input": "2021-10-27T12:36:40.185428Z",
     "iopub.status.busy": "2021-10-27T12:36:40.184957Z",
     "iopub.status.idle": "2021-10-27T12:36:40.186575Z",
     "shell.execute_reply": "2021-10-27T12:36:40.186953Z"
    },
    "papermill": {
     "duration": 0.007609,
     "end_time": "2021-10-27T12:36:40.187073",
     "exception": false,
     "start_time": "2021-10-27T12:36:40.179464",
     "status": "completed"
    },
    "tags": [
     "injected-parameters"
    ]
   },
   "outputs": [],
   "source": [
    "# Parameters\n",
    "p = 2\n",
    "p_map = 1\n",
    "upwind_parameter = 1.0\n",
    "c = \"c_+\"\n",
    "discretization_type = 1\n",
    "form = \"strong\"\n"
   ]
  },
  {
   "cell_type": "code",
   "execution_count": 3,
   "id": "dc7d72e4",
   "metadata": {
    "execution": {
     "iopub.execute_input": "2021-10-27T12:36:40.199990Z",
     "iopub.status.busy": "2021-10-27T12:36:40.199225Z",
     "iopub.status.idle": "2021-10-27T13:08:27.501763Z",
     "shell.execute_reply": "2021-10-27T13:08:27.501217Z"
    },
    "papermill": {
     "duration": 1907.311878,
     "end_time": "2021-10-27T13:08:27.501913",
     "exception": false,
     "start_time": "2021-10-27T12:36:40.190035",
     "status": "completed"
    },
    "tags": []
   },
   "outputs": [
    {
     "name": "stderr",
     "output_type": "stream",
     "text": [
      "Matplotlib created a temporary config/cache directory at /tmp/matplotlib-43cu84nm because the default path (/home/z/zingg/tmontoya/.config/matplotlib) is not a writable directory; it is highly recommended to set the MPLCONFIGDIR environment variable to a writable directory, in particular to speed up the import of Matplotlib and to better support multiprocessing.\n"
     ]
    },
    {
     "name": "stdout",
     "output_type": "stream",
     "text": [
      "advection_p2b1cpt1_strong\n"
     ]
    }
   ],
   "source": [
    "import sys  \n",
    "import numpy as np\n",
    "sys.path.insert(0, '../src')\n",
    "from Driver import advection_driver\n",
    "\n",
    "solver = advection_driver(a=np.sqrt(2), theta=np.pi/4, p=p, M=M, L=L,\n",
    "                        p_map=p_map, c=c, \n",
    "                        discretization_type=discretization_type,\n",
    "                        upwind_parameter=upwind_parameter,\n",
    "                        new_mesh=False,form=form,restart=True,run=True)"
   ]
  }
 ],
 "metadata": {
  "celltoolbar": "Tags",
  "interpreter": {
   "hash": "8a4c5cff9d1eb01f6f91880bd866b35b24d8468d7e92aa7ef6f6962744ecb1db"
  },
  "kernelspec": {
   "display_name": "Python 3.9.5 64-bit ('base': conda)",
   "name": "python3"
  },
  "language_info": {
   "codemirror_mode": {
    "name": "ipython",
    "version": 3
   },
   "file_extension": ".py",
   "mimetype": "text/x-python",
   "name": "python",
   "nbconvert_exporter": "python",
   "pygments_lexer": "ipython3",
   "version": "3.8.5"
  },
  "papermill": {
   "default_parameters": {},
   "duration": 1912.150214,
   "end_time": "2021-10-27T13:08:28.793034",
   "environment_variables": {},
   "exception": null,
   "input_path": "advection_driver.ipynb",
   "output_path": "advection_p2b1cpt1_strong.ipynb",
   "parameters": {
    "c": "c_+",
    "discretization_type": 1,
    "form": "strong",
    "p": 2,
    "p_map": 1,
    "upwind_parameter": 1.0
   },
   "start_time": "2021-10-27T12:36:36.642820",
   "version": "2.3.3"
  }
 },
 "nbformat": 4,
 "nbformat_minor": 5
}