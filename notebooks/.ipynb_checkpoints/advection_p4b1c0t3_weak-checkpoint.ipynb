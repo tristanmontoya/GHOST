{
 "cells": [
  {
   "cell_type": "code",
   "execution_count": 1,
   "metadata": {
    "execution": {
     "iopub.execute_input": "2021-05-14T14:12:18.077740Z",
     "iopub.status.busy": "2021-05-14T14:12:18.077032Z",
     "iopub.status.idle": "2021-05-14T14:12:18.079810Z",
     "shell.execute_reply": "2021-05-14T14:12:18.080350Z"
    },
    "papermill": {
     "duration": 0.023409,
     "end_time": "2021-05-14T14:12:18.080639",
     "exception": false,
     "start_time": "2021-05-14T14:12:18.057230",
     "status": "completed"
    },
    "tags": [
     "parameters"
    ]
   },
   "outputs": [],
   "source": [
    "p=2\n",
    "M=8\n",
    "L=1\n",
    "p_geo=1\n",
    "c=\"c_dg\"\n",
    "discretization_type=1\n",
    "upwind_parameter=1.0\n",
    "form=\"strong\""
   ]
  },
  {
   "cell_type": "code",
   "execution_count": 2,
   "metadata": {
    "execution": {
     "iopub.execute_input": "2021-05-14T14:12:18.098575Z",
     "iopub.status.busy": "2021-05-14T14:12:18.097778Z",
     "iopub.status.idle": "2021-05-14T14:12:18.107445Z",
     "shell.execute_reply": "2021-05-14T14:12:18.106879Z"
    },
    "papermill": {
     "duration": 0.02101,
     "end_time": "2021-05-14T14:12:18.107603",
     "exception": false,
     "start_time": "2021-05-14T14:12:18.086593",
     "status": "completed"
    },
    "tags": [
     "injected-parameters"
    ]
   },
   "outputs": [],
   "source": [
    "# Parameters\n",
    "p = 4\n",
    "p_geo = 1\n",
    "upwind_parameter = 1.0\n",
    "c = \"c_dg\"\n",
    "discretization_type = 3\n",
    "form = \"weak\"\n"
   ]
  },
  {
   "cell_type": "code",
   "execution_count": null,
   "metadata": {
    "execution": {
     "iopub.execute_input": "2021-05-14T14:12:18.230169Z",
     "iopub.status.busy": "2021-05-14T14:12:18.229512Z",
     "iopub.status.idle": "2021-05-14T16:35:02.587060Z",
     "shell.execute_reply": "2021-05-14T16:35:02.587794Z"
    },
    "papermill": {
     "duration": 8564.441417,
     "end_time": "2021-05-14T16:35:02.588113",
     "exception": false,
     "start_time": "2021-05-14T14:12:18.146696",
     "status": "completed"
    },
    "tags": []
   },
   "outputs": [
    {
     "name": "stderr",
     "output_type": "stream",
     "text": [
      "WARNING:root:msh4 requires 3D points, but 2D points given. Appending 0 third component.\n",
      "WARNING:root:Binary Gmsh needs c_size_t (got int64). Converting.\n"
     ]
    },
    {
     "name": "stdout",
     "output_type": "stream",
     "text": [
      "advection_p4b1c0t3_weak\n"
     ]
    }
   ],
   "source": [
    "import sys  \n",
    "import numpy as np\n",
    "sys.path.insert(0, '../src')\n",
    "from Driver import advection_driver\n",
    "\n",
    "solver = advection_driver(a=np.sqrt(2), theta=np.pi/4, p=p, M=M, L=L,\n",
    "                        p_geo=p_geo, c=c, \n",
    "                        discretization_type=discretization_type,\n",
    "                        upwind_parameter=upwind_parameter,\n",
    "                        form=form)"
   ]
  },
  {
   "cell_type": "code",
   "execution_count": null,
   "metadata": {
    "papermill": {
     "duration": 0.008511,
     "end_time": "2021-05-14T16:35:02.605773",
     "exception": false,
     "start_time": "2021-05-14T16:35:02.597262",
     "status": "completed"
    },
    "tags": []
   },
   "outputs": [],
   "source": []
  }
 ],
 "metadata": {
  "celltoolbar": "Tags",
  "kernelspec": {
   "display_name": "Python 3",
   "language": "python",
   "name": "python3"
  },
  "language_info": {
   "codemirror_mode": {
    "name": "ipython",
    "version": 3
   },
   "file_extension": ".py",
   "mimetype": "text/x-python",
   "name": "python",
   "nbconvert_exporter": "python",
   "pygments_lexer": "ipython3",
   "version": "3.7.9"
  },
  "papermill": {
   "default_parameters": {},
   "duration": 8566.695863,
   "end_time": "2021-05-14T16:35:03.125835",
   "environment_variables": {},
   "exception": null,
   "input_path": "advection_driver.ipynb",
   "output_path": "advection_p4b1c0t3_weak.ipynb",
   "parameters": {
    "c": "c_dg",
    "discretization_type": 3,
    "form": "weak",
    "p": 4,
    "p_geo": 1,
    "upwind_parameter": 1
   },
   "start_time": "2021-05-14T14:12:16.429972",
   "version": "2.3.3"
  }
 },
 "nbformat": 4,
 "nbformat_minor": 5
}
