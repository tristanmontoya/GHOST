{
 "cells": [
  {
   "cell_type": "code",
   "execution_count": 44,
   "metadata": {},
   "outputs": [],
   "source": [
    "mach_number=0.4\n",
    "p=4\n",
    "M=11\n",
    "L=10.0\n",
    "p_geo=p\n",
    "c=\"c_+\""
   ]
  },
  {
   "cell_type": "code",
   "execution_count": 45,
   "metadata": {},
   "outputs": [
    {
     "name": "stderr",
     "output_type": "stream",
     "text": [
      "WARNING:root:msh4 requires 3D points, but 2D points given. Appending 0 third component.\n",
      "WARNING:root:Binary Gmsh needs c_size_t (got int64). Converting.\n"
     ]
    },
    {
     "name": "stdout",
     "output_type": "stream",
     "text": [
      "running solver euler_m04p4cpt3_strong\n"
     ]
    },
    {
     "name": "stderr",
     "output_type": "stream",
     "text": [
      "WARNING:root:msh4 requires 3D points, but 2D points given. Appending 0 third component.\n",
      "WARNING:root:Binary Gmsh needs c_size_t (got int64). Converting.\n"
     ]
    },
    {
     "name": "stdout",
     "output_type": "stream",
     "text": [
      "running solver euler_m04p4cpt3_weak\n",
      "& &  1 & 2.498e-02  &  2.558e-13 & -1.847e-13 & 2.701e-02 & 1.341e-02 \\\\\n",
      "& &  2 & 2.971e-02  &  -6.395e-14 & -2.132e-12 & 3.531e-02 & 2.775e-02 \\\\\n",
      "& &  3 & 4.104e-02  &  9.734e-13 & 1.481e-12 & 4.001e-02 & 3.032e-02 \\\\\n",
      "& &  4 & 3.024e-02  &  7.958e-13 & -4.547e-13 & 3.339e-02 & 2.589e-02 \\\\\n"
     ]
    }
   ],
   "source": [
    "import sys  \n",
    "import pickle\n",
    "sys.path.insert(0, '../src')\n",
    "from Driver import euler_driver\n",
    "strong = euler_driver(mach_number=mach_number, \n",
    "                        p=p, M=M, L=L,\n",
    "                        p_geo=p_geo, c=c, \n",
    "                        discretization_type=discretization_type,\n",
    "                        form=\"strong\", run=False)\n",
    "weak = euler_driver(mach_number=mach_number, \n",
    "                        p=p, M=M, L=L,\n",
    "                        p_geo=p_geo, c=c, \n",
    "                        discretization_type=discretization_type,\n",
    "                        form=\"weak\", run=False)\n",
    "\n",
    "n_t = 20000 + (p-2)*8000\n",
    "\n",
    "if c == \"c_dg\":\n",
    "    c_text = \"$c_{\\\\textrm{DG}}$\"\n",
    "elif c == \"c_+\":\n",
    "    c_text = \"$c_+$\"\n",
    "\n",
    "strong.load_solution(time_step=n_t)\n",
    "strong.post_process(error_quadrature_degree=4*p)\n",
    "weak.load_solution(time_step=n_t)\n",
    "weak.post_process(error_quadrature_degree=4*p)\n",
    "\n",
    "diff = strong.calculate_difference(weak)\n",
    "strong_cons_error = pickle.load(open(\"../results/\" + strong.params[\"project_title\"] + \"/conservation_error.dat\", \"rb\"))\n",
    "weak_cons_error = pickle.load(open(\"../results/\" + weak.params[\"project_title\"] + \"/conservation_error.dat\", \"rb\"))\n",
    "strong_sol_error = pickle.load(open(\"../results/\" + strong.params[\"project_title\"] + \"/solution_error.dat\", \"rb\"))\n",
    "weak_sol_error = pickle.load(open(\"../results/\" + weak.params[\"project_title\"] + \"/solution_error.dat\", \"rb\"))\n",
    "print(\"& \", c,\"& $\\\\rho$ &\", \"{:.3e}\".format(diff[1]), \" & \",\n",
    "\"{:.3e}\".format(strong_cons_error[1]), \"&\",\n",
    "\"{:.3e}\".format(weak_cons_error[1]), \"&\", \n",
    "\"{:.3e}\".format(strong_sol_error[1]), \"&\",\n",
    "\"{:.3e}\".format(weak_sol_error[1]), \"\\\\\\\\\")\n",
    "print(\"& & $\\\\rho\\\\fn{v}_1$ &\", \"{:.3e}\".format(diff[2]), \" & \",\n",
    "\"{:.3e}\".format(strong_cons_error[2]), \"&\",\n",
    "\"{:.3e}\".format(weak_cons_error[2]), \"&\", \n",
    "\"{:.3e}\".format(strong_sol_error[2]), \"&\",\n",
    "\"{:.3e}\".format(weak_sol_error[2]), \"\\\\\\\\\")\n",
    "print(\"& & $\\\\rho\\\\fn{v}_2$ &\", \"{:.3e}\".format(diff[3]), \" & \",\n",
    "\"{:.3e}\".format(strong_cons_error[3]), \"&\",\n",
    "\"{:.3e}\".format(weak_cons_error[3]), \"&\", \n",
    "\"{:.3e}\".format(strong_sol_error[3]), \"&\",\n",
    "\"{:.3e}\".format(weak_sol_error[3]), \"\\\\\\\\\")\n",
    "print(\"& & $\\\\fn{e}$ &\", \"{:.3e}\".format(diff[2]), \" & \",\n",
    "\"{:.3e}\".format(strong_cons_error[2]), \"&\",\n",
    "\"{:.3e}\".format(weak_cons_error[2]), \"&\", \n",
    "\"{:.3e}\".format(strong_sol_error[2]), \"&\",\n",
    "\"{:.3e}\".format(weak_sol_error[2]), \"\\\\\\\\\")"
   ]
  },
  {
   "cell_type": "code",
   "execution_count": 3,
   "metadata": {},
   "outputs": [],
   "source": [
    "\n",
    "#strong.plot(equation_index=0, u_range=[0.8,1.0])\n",
    "#weak.plot(equation_index=0, u_range=[0.8,1.0])"
   ]
  },
  {
   "cell_type": "code",
   "execution_count": 8,
   "metadata": {},
   "outputs": [
    {
     "name": "stdout",
     "output_type": "stream",
     "text": [
      "$\\rho\\fn{V}_1$\n"
     ]
    }
   ],
   "source": []
  },
  {
   "cell_type": "code",
   "execution_count": null,
   "metadata": {},
   "outputs": [],
   "source": []
  }
 ],
 "metadata": {
  "celltoolbar": "Tags",
  "kernelspec": {
   "display_name": "Python 3",
   "language": "python",
   "name": "python3"
  },
  "language_info": {
   "codemirror_mode": {
    "name": "ipython",
    "version": 3
   },
   "file_extension": ".py",
   "mimetype": "text/x-python",
   "name": "python",
   "nbconvert_exporter": "python",
   "pygments_lexer": "ipython3",
   "version": "3.7.9"
  }
 },
 "nbformat": 4,
 "nbformat_minor": 4
}
