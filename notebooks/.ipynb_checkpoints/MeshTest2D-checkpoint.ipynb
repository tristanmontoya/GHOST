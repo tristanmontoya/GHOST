{
 "cells": [
  {
   "cell_type": "code",
   "execution_count": 1,
   "metadata": {
    "scrolled": false
   },
   "outputs": [
    {
     "ename": "TypeError",
     "evalue": "__init__() missing 1 required positional argument: 'n_hat'",
     "output_type": "error",
     "traceback": [
      "\u001b[0;31m---------------------------------------------------------------------------\u001b[0m",
      "\u001b[0;31mTypeError\u001b[0m                                 Traceback (most recent call last)",
      "\u001b[0;32m<ipython-input-1-5a22c0f650ef>\u001b[0m in \u001b[0;36m<module>\u001b[0;34m\u001b[0m\n\u001b[1;32m     43\u001b[0m discretization = SpatialDiscretization(mesh, element_to_discretization,\n\u001b[1;32m     44\u001b[0m                                        \u001b[0mp\u001b[0m\u001b[0;34m,\u001b[0m \u001b[0mvolume_nodes\u001b[0m\u001b[0;34m,\u001b[0m \u001b[0mfacet_nodes\u001b[0m\u001b[0;34m,\u001b[0m\u001b[0;34m\u001b[0m\u001b[0;34m\u001b[0m\u001b[0m\n\u001b[0;32m---> 45\u001b[0;31m                                        W, W_gamma)\n\u001b[0m",
      "\u001b[0;31mTypeError\u001b[0m: __init__() missing 1 required positional argument: 'n_hat'"
     ]
    }
   ],
   "source": [
    "# GHOST - Mesh Test (2D)\n",
    "\n",
    "import sys  \n",
    "import numpy as np\n",
    "import modepy as mp\n",
    "sys.path.insert(0, '../src')\n",
    "from scipy import special\n",
    "from math import floor, ceil\n",
    "from Mesh import Mesh2D\n",
    "from Discretization import SpatialDiscretization\n",
    "\n",
    "\n",
    "# degree of discretization\n",
    "p = [2]\n",
    "Nd = len(p)\n",
    "\n",
    "# 8 by 8 two-dimensional mesh\n",
    "mesh = Mesh2D(\"test\", \"../mesh/square_mesh_x_5y_5.msh\")\n",
    "mesh.map_mesh(f_map=Mesh2D.grid_transformation())\n",
    "\n",
    "# map of element index to discretization\n",
    "element_to_discretization = [k % Nd for k in range(0,mesh.K)]\n",
    "\n",
    "tau = [2*p[i] + 1 for i in range(0, Nd)]\n",
    "mu = [2*p[i] +1 for i in range(0,Nd)]\n",
    "\n",
    "# volume nodes and quadrature\n",
    "volume_quadrature = [mp.XiaoGimbutasSimplexQuadrature(tau[i],2) \n",
    "                     for i in range(0,Nd)]\n",
    "volume_nodes = [volume_quadrature[i].nodes for i in range(0,Nd)]\n",
    "W = [np.diag(volume_quadrature[i].weights) for i in range(0,Nd)]\n",
    "\n",
    "# facet nodes and quadrature (assume same everywhere)\n",
    "facet_quadrature = [mp.LegendreGaussQuadrature(floor((mu[i]-1)/2)) \n",
    "                    for i in range(0,Nd)]\n",
    "facet_nodes = [SpatialDiscretization.map_unit_to_facets(\n",
    "    facet_quadrature[i].nodes,\n",
    "    element_type=\"triangle\") for i in range(0,Nd)]\n",
    "W_gamma = [[np.diag(facet_quadrature[i].weights) for gamma in range(0,3)]\n",
    "           for i in range(0,Nd)]\n",
    "n_hat = [[np.array([0.0,-1.0]), \n",
    "                     np.array([1.0/np.sqrt(2.0), 1.0/np.sqrt(2.0)]),\n",
    "                     np.array([-1.0, 0.0])] for d in range(0,Nd)]\n",
    "\n",
    "\n",
    "# build the discretization\n",
    "discretization = SpatialDiscretization(mesh, element_to_discretization,\n",
    "                                       p, volume_nodes, facet_nodes, \n",
    "                                       W, W_gamma)"
   ]
  },
  {
   "cell_type": "code",
   "execution_count": null,
   "metadata": {},
   "outputs": [],
   "source": [
    "mesh.element_to_vertex"
   ]
  },
  {
   "cell_type": "code",
   "execution_count": null,
   "metadata": {
    "scrolled": false
   },
   "outputs": [],
   "source": [
    "mesh.local_to_vertex"
   ]
  },
  {
   "cell_type": "code",
   "execution_count": null,
   "metadata": {},
   "outputs": [],
   "source": [
    "left = np.array([1.0,0.0,0.0]) \n",
    "right = np.array([1.0,0.0,1.0])\n",
    "bottom = np.array([0.0,1.0,0.0])\n",
    "top = np.array([0.0,1.0,1.0])\n",
    "mesh.add_bc_on_hyperplanes([left,right,bottom,top],[1,2,3,4])\n",
    "mesh.local_to_bc_index"
   ]
  },
  {
   "cell_type": "code",
   "execution_count": null,
   "metadata": {},
   "outputs": [],
   "source": [
    "mesh.make_periodic((1,2),[1]) # left-right periodic (bcs parallel to axis 1)\n",
    "mesh.make_periodic((3,4),[0]) # top-bottom periodic (axis 0)"
   ]
  },
  {
   "cell_type": "code",
   "execution_count": null,
   "metadata": {},
   "outputs": [],
   "source": [
    "mesh.local_to_local"
   ]
  },
  {
   "cell_type": "code",
   "execution_count": null,
   "metadata": {
    "scrolled": true
   },
   "outputs": [],
   "source": [
    "discretization.plot()"
   ]
  },
  {
   "cell_type": "code",
   "execution_count": null,
   "metadata": {},
   "outputs": [],
   "source": []
  }
 ],
 "metadata": {
  "kernelspec": {
   "display_name": "Python 3",
   "language": "python",
   "name": "python3"
  },
  "language_info": {
   "codemirror_mode": {
    "name": "ipython",
    "version": 3
   },
   "file_extension": ".py",
   "mimetype": "text/x-python",
   "name": "python",
   "nbconvert_exporter": "python",
   "pygments_lexer": "ipython3",
   "version": "3.7.9"
  }
 },
 "nbformat": 4,
 "nbformat_minor": 4
}
