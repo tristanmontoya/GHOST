{
 "cells": [
  {
   "cell_type": "code",
   "execution_count": 1,
   "metadata": {
    "scrolled": false
   },
   "outputs": [],
   "source": [
    "import sys  \n",
    "import numpy as np\n",
    "import modepy as mp\n",
    "sys.path.insert(0, '../src')\n",
    "from scipy import special\n",
    "from Mesh import Mesh2D\n",
    "from Discretization import SpatialDiscretization\n",
    "\n",
    "\n",
    "# degree of discretization\n",
    "p = [1,2]\n",
    "Nd = len(p)\n",
    "\n",
    "\n",
    "# one-dimensional mesh with K elements\n",
    "mesh = Mesh2D(\"test\", \"../mesh/square_mesh_x_3y_3.msh\")\n",
    "\n",
    "# map of element index to discretization\n",
    "element_to_discretization = [k % Nd for k in range(0,K)]\n",
    "\n",
    "# number of flux nodes (equal to p+d choose d)\n",
    "N_Omega = [special.comb(p[i] + 2, 2, \n",
    "                                exact=True) for i in range(0,Nd)]\n",
    "\n",
    "# number of facet nodes (equal to p+d-1 choose d-1)\n",
    "N_Omega = [p[i] + 1 for i in range(0,Nd)]\n",
    "\n",
    "# discretization components"
   ]
  },
  {
   "cell_type": "code",
   "execution_count": 3,
   "metadata": {},
   "outputs": [
    {
     "data": {
      "text/plain": [
       "{(9, 1): [0, 0],\n",
       " (0, 0): [9, 1],\n",
       " (0, 1): [1, 0],\n",
       " (1, 0): [0, 1],\n",
       " (1, 1): [2, 0],\n",
       " (2, 0): [1, 1],\n",
       " (2, 1): [3, 0],\n",
       " (3, 0): [2, 1],\n",
       " (3, 1): [4, 0],\n",
       " (4, 0): [3, 1],\n",
       " (4, 1): [5, 0],\n",
       " (5, 0): [4, 1],\n",
       " (5, 1): [6, 0],\n",
       " (6, 0): [5, 1],\n",
       " (6, 1): [7, 0],\n",
       " (7, 0): [6, 1],\n",
       " (7, 1): [8, 0],\n",
       " (8, 0): [7, 1],\n",
       " (8, 1): [9, 0],\n",
       " (9, 0): [8, 1]}"
      ]
     },
     "execution_count": 3,
     "metadata": {},
     "output_type": "execute_result"
    }
   ],
   "source": [
    "mesh.local_to_local"
   ]
  }
 ],
 "metadata": {
  "kernelspec": {
   "display_name": "Python 3",
   "language": "python",
   "name": "python3"
  },
  "language_info": {
   "codemirror_mode": {
    "name": "ipython",
    "version": 3
   },
   "file_extension": ".py",
   "mimetype": "text/x-python",
   "name": "python",
   "nbconvert_exporter": "python",
   "pygments_lexer": "ipython3",
   "version": "3.7.9"
  }
 },
 "nbformat": 4,
 "nbformat_minor": 4
}
