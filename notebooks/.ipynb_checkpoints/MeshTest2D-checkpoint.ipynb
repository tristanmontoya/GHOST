{
 "cells": [
  {
   "cell_type": "code",
   "execution_count": 8,
   "metadata": {
    "scrolled": false
   },
   "outputs": [],
   "source": [
    "# GHOST - Mesh Test (2D)\n",
    "\n",
    "import sys  \n",
    "import numpy as np\n",
    "import modepy as mp\n",
    "sys.path.insert(0, '../src')\n",
    "from scipy import special\n",
    "from math import floor, ceil\n",
    "from Mesh import Mesh2D\n",
    "from Discretization import SpatialDiscretization\n",
    "\n",
    "\n",
    "# degree of discretization\n",
    "p = [4]\n",
    "\n",
    "# degree of geometry\n",
    "p_geo = p[0]\n",
    "\n",
    "Nd = len(p)\n",
    "\n",
    "# 8 by 8 two-dimensional mesh\n",
    "mesh = Mesh2D(\"test\", \"../mesh/square_mesh_x_5y_5.msh\")\n",
    "mesh.map_mesh(f_map=Mesh2D.grid_transformation(), p_geo=p_geo)\n",
    "\n",
    "# map of element index to discretization\n",
    "element_to_discretization = [k % Nd for k in range(0,mesh.K)]\n",
    "\n",
    "tau = [2*p[i] + 1 for i in range(0, Nd)]\n",
    "mu = [2*p[i] +1 for i in range(0,Nd)]\n",
    "\n",
    "# volume nodes and quadrature\n",
    "volume_quadrature = [mp.XiaoGimbutasSimplexQuadrature(tau[i],2) \n",
    "                     for i in range(0,Nd)]\n",
    "volume_nodes = [volume_quadrature[i].nodes for i in range(0,Nd)]\n",
    "W = [np.diag(volume_quadrature[i].weights) for i in range(0,Nd)]\n",
    "\n",
    "# facet nodes and quadrature (assume same everywhere)\n",
    "facet_quadrature = [mp.LegendreGaussQuadrature(floor((mu[i]-1)/2)) \n",
    "                    for i in range(0,Nd)]\n",
    "facet_nodes = [SpatialDiscretization.map_unit_to_facets(\n",
    "    facet_quadrature[i].nodes,\n",
    "    element_type=\"triangle\") for i in range(0,Nd)]\n",
    "W_gamma = [[np.diag(facet_quadrature[i].weights) for gamma in range(0,3)]\n",
    "           for i in range(0,Nd)]\n",
    "n_hat = [[np.array([0.0,-1.0]), \n",
    "                     np.array([1.0/np.sqrt(2.0), 1.0/np.sqrt(2.0)]),\n",
    "                     np.array([-1.0, 0.0])] for d in range(0,Nd)]\n",
    "\n",
    "\n",
    "# build the discretization\n",
    "discretization = SpatialDiscretization(mesh, element_to_discretization,\n",
    "                                       p, volume_nodes, facet_nodes, \n",
    "                                       W, W_gamma, n_hat)"
   ]
  },
  {
   "cell_type": "code",
   "execution_count": 9,
   "metadata": {},
   "outputs": [
    {
     "data": {
      "text/plain": [
       "[[0, 1, 6],\n",
       " [6, 11, 10],\n",
       " [10, 11, 16],\n",
       " [16, 21, 20],\n",
       " [2, 7, 6],\n",
       " [6, 7, 12],\n",
       " [12, 17, 16],\n",
       " [16, 17, 22],\n",
       " [2, 3, 8],\n",
       " [8, 13, 12],\n",
       " [12, 13, 18],\n",
       " [18, 23, 22],\n",
       " [4, 9, 8],\n",
       " [8, 9, 14],\n",
       " [14, 19, 18],\n",
       " [18, 19, 24],\n",
       " [0, 6, 5],\n",
       " [5, 6, 10],\n",
       " [10, 16, 15],\n",
       " [15, 16, 20],\n",
       " [1, 2, 6],\n",
       " [6, 12, 11],\n",
       " [11, 12, 16],\n",
       " [16, 22, 21],\n",
       " [2, 8, 7],\n",
       " [7, 8, 12],\n",
       " [12, 18, 17],\n",
       " [17, 18, 22],\n",
       " [3, 4, 8],\n",
       " [8, 14, 13],\n",
       " [13, 14, 18],\n",
       " [18, 24, 23]]"
      ]
     },
     "execution_count": 9,
     "metadata": {},
     "output_type": "execute_result"
    }
   ],
   "source": [
    "mesh.element_to_vertex"
   ]
  },
  {
   "cell_type": "code",
   "execution_count": 10,
   "metadata": {
    "scrolled": false
   },
   "outputs": [
    {
     "data": {
      "text/plain": [
       "[[(0, 1), (1, 6), (6, 0)],\n",
       " [(6, 11), (11, 10), (10, 6)],\n",
       " [(10, 11), (11, 16), (16, 10)],\n",
       " [(16, 21), (21, 20), (20, 16)],\n",
       " [(2, 7), (7, 6), (6, 2)],\n",
       " [(6, 7), (7, 12), (12, 6)],\n",
       " [(12, 17), (17, 16), (16, 12)],\n",
       " [(16, 17), (17, 22), (22, 16)],\n",
       " [(2, 3), (3, 8), (8, 2)],\n",
       " [(8, 13), (13, 12), (12, 8)],\n",
       " [(12, 13), (13, 18), (18, 12)],\n",
       " [(18, 23), (23, 22), (22, 18)],\n",
       " [(4, 9), (9, 8), (8, 4)],\n",
       " [(8, 9), (9, 14), (14, 8)],\n",
       " [(14, 19), (19, 18), (18, 14)],\n",
       " [(18, 19), (19, 24), (24, 18)],\n",
       " [(0, 6), (6, 5), (5, 0)],\n",
       " [(5, 6), (6, 10), (10, 5)],\n",
       " [(10, 16), (16, 15), (15, 10)],\n",
       " [(15, 16), (16, 20), (20, 15)],\n",
       " [(1, 2), (2, 6), (6, 1)],\n",
       " [(6, 12), (12, 11), (11, 6)],\n",
       " [(11, 12), (12, 16), (16, 11)],\n",
       " [(16, 22), (22, 21), (21, 16)],\n",
       " [(2, 8), (8, 7), (7, 2)],\n",
       " [(7, 8), (8, 12), (12, 7)],\n",
       " [(12, 18), (18, 17), (17, 12)],\n",
       " [(17, 18), (18, 22), (22, 17)],\n",
       " [(3, 4), (4, 8), (8, 3)],\n",
       " [(8, 14), (14, 13), (13, 8)],\n",
       " [(13, 14), (14, 18), (18, 13)],\n",
       " [(18, 24), (24, 23), (23, 18)]]"
      ]
     },
     "execution_count": 10,
     "metadata": {},
     "output_type": "execute_result"
    }
   ],
   "source": [
    "mesh.local_to_vertex"
   ]
  },
  {
   "cell_type": "code",
   "execution_count": 11,
   "metadata": {},
   "outputs": [
    {
     "data": {
      "text/plain": [
       "{(0, 0): 3,\n",
       " (3, 1): 4,\n",
       " (8, 0): 3,\n",
       " (11, 1): 4,\n",
       " (12, 0): 2,\n",
       " (13, 1): 2,\n",
       " (14, 0): 2,\n",
       " (15, 1): 2,\n",
       " (16, 2): 1,\n",
       " (17, 2): 1,\n",
       " (18, 2): 1,\n",
       " (19, 2): 1,\n",
       " (20, 0): 3,\n",
       " (23, 1): 4,\n",
       " (28, 0): 3,\n",
       " (31, 1): 4}"
      ]
     },
     "execution_count": 11,
     "metadata": {},
     "output_type": "execute_result"
    }
   ],
   "source": [
    "left = np.array([1.0,0.0,0.0]) \n",
    "right = np.array([1.0,0.0,1.0])\n",
    "bottom = np.array([0.0,1.0,0.0])\n",
    "top = np.array([0.0,1.0,1.0])\n",
    "mesh.add_bc_on_hyperplanes([left,right,bottom,top],[1,2,3,4])\n",
    "mesh.local_to_bc_index"
   ]
  },
  {
   "cell_type": "code",
   "execution_count": 12,
   "metadata": {},
   "outputs": [],
   "source": [
    "mesh.make_periodic((1,2),[1]) # left-right periodic (bcs parallel to axis 1)\n",
    "mesh.make_periodic((3,4),[0]) # top-bottom periodic (axis 0)"
   ]
  },
  {
   "cell_type": "code",
   "execution_count": 13,
   "metadata": {},
   "outputs": [
    {
     "data": {
      "text/plain": [
       "{(0, 0): (3, 1),\n",
       " (0, 1): (20, 2),\n",
       " (0, 2): (16, 0),\n",
       " (1, 0): (21, 2),\n",
       " (1, 1): (2, 0),\n",
       " (1, 2): (17, 1),\n",
       " (2, 0): (1, 1),\n",
       " (2, 1): (22, 2),\n",
       " (2, 2): (18, 0),\n",
       " (3, 0): (23, 2),\n",
       " (3, 1): (0, 0),\n",
       " (3, 2): (19, 1),\n",
       " (4, 0): (24, 2),\n",
       " (4, 1): (5, 0),\n",
       " (4, 2): (20, 1),\n",
       " (5, 0): (4, 1),\n",
       " (5, 1): (25, 2),\n",
       " (5, 2): (21, 0),\n",
       " (6, 0): (26, 2),\n",
       " (6, 1): (7, 0),\n",
       " (6, 2): (22, 1),\n",
       " (7, 0): (6, 1),\n",
       " (7, 1): (27, 2),\n",
       " (7, 2): (23, 0),\n",
       " (8, 0): (11, 1),\n",
       " (8, 1): (28, 2),\n",
       " (8, 2): (24, 0),\n",
       " (9, 0): (29, 2),\n",
       " (9, 1): (10, 0),\n",
       " (9, 2): (25, 1),\n",
       " (10, 0): (9, 1),\n",
       " (10, 1): (30, 2),\n",
       " (10, 2): (26, 0),\n",
       " (11, 0): (31, 2),\n",
       " (11, 1): (8, 0),\n",
       " (11, 2): (27, 1),\n",
       " (12, 0): (16, 2),\n",
       " (12, 1): (13, 0),\n",
       " (12, 2): (28, 1),\n",
       " (13, 0): (12, 1),\n",
       " (13, 1): (17, 2),\n",
       " (13, 2): (29, 0),\n",
       " (14, 0): (18, 2),\n",
       " (14, 1): (15, 0),\n",
       " (14, 2): (30, 1),\n",
       " (15, 0): (14, 1),\n",
       " (15, 1): (19, 2),\n",
       " (15, 2): (31, 0),\n",
       " (16, 0): (0, 2),\n",
       " (16, 1): (17, 0),\n",
       " (16, 2): (12, 0),\n",
       " (17, 0): (16, 1),\n",
       " (17, 1): (1, 2),\n",
       " (17, 2): (13, 1),\n",
       " (18, 0): (2, 2),\n",
       " (18, 1): (19, 0),\n",
       " (18, 2): (14, 0),\n",
       " (19, 0): (18, 1),\n",
       " (19, 1): (3, 2),\n",
       " (19, 2): (15, 1),\n",
       " (20, 0): (23, 1),\n",
       " (20, 1): (4, 2),\n",
       " (20, 2): (0, 1),\n",
       " (21, 0): (5, 2),\n",
       " (21, 1): (22, 0),\n",
       " (21, 2): (1, 0),\n",
       " (22, 0): (21, 1),\n",
       " (22, 1): (6, 2),\n",
       " (22, 2): (2, 1),\n",
       " (23, 0): (7, 2),\n",
       " (23, 1): (20, 0),\n",
       " (23, 2): (3, 0),\n",
       " (24, 0): (8, 2),\n",
       " (24, 1): (25, 0),\n",
       " (24, 2): (4, 0),\n",
       " (25, 0): (24, 1),\n",
       " (25, 1): (9, 2),\n",
       " (25, 2): (5, 1),\n",
       " (26, 0): (10, 2),\n",
       " (26, 1): (27, 0),\n",
       " (26, 2): (6, 0),\n",
       " (27, 0): (26, 1),\n",
       " (27, 1): (11, 2),\n",
       " (27, 2): (7, 1),\n",
       " (28, 0): (31, 1),\n",
       " (28, 1): (12, 2),\n",
       " (28, 2): (8, 1),\n",
       " (29, 0): (13, 2),\n",
       " (29, 1): (30, 0),\n",
       " (29, 2): (9, 0),\n",
       " (30, 0): (29, 1),\n",
       " (30, 1): (14, 2),\n",
       " (30, 2): (10, 1),\n",
       " (31, 0): (15, 2),\n",
       " (31, 1): (28, 0),\n",
       " (31, 2): (11, 0)}"
      ]
     },
     "execution_count": 13,
     "metadata": {},
     "output_type": "execute_result"
    }
   ],
   "source": [
    "mesh.local_to_local"
   ]
  },
  {
   "cell_type": "code",
   "execution_count": 14,
   "metadata": {
    "scrolled": true
   },
   "outputs": [
    {
     "data": {
      "image/png": "[encoded data removed]",
      "text/plain": [
       "<Figure size 432x288 with 1 Axes>"
      ]
     },
     "metadata": {
      "needs_background": "light"
     },
     "output_type": "display_data"
    }
   ],
   "source": [
    "discretization.plot()"
   ]
  },
  {
   "cell_type": "code",
   "execution_count": null,
   "metadata": {},
   "outputs": [],
   "source": []
  }
 ],
 "metadata": {
  "kernelspec": {
   "display_name": "Python 3",
   "language": "python",
   "name": "python3"
  },
  "language_info": {
   "codemirror_mode": {
    "name": "ipython",
    "version": 3
   },
   "file_extension": ".py",
   "mimetype": "text/x-python",
   "name": "python",
   "nbconvert_exporter": "python",
   "pygments_lexer": "ipython3",
   "version": "3.7.9"
  }
 },
 "nbformat": 4,
 "nbformat_minor": 4
}
