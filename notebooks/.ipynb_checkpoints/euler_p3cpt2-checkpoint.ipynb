{
 "cells": [
  {
   "cell_type": "code",
   "execution_count": 1,
   "metadata": {},
   "outputs": [],
   "source": [
    "# GHOST - Euler Test (2D)\n",
    "\n",
    "import sys  \n",
    "import numpy as np\n",
    "import modepy as mp\n",
    "sys.path.insert(0, '../src')\n",
    "from Mesh import Mesh2D\n",
    "from Discretization import SpatialDiscretization\n",
    "from Solver import Solver\n",
    "\n",
    "# discretization degree\n",
    "p = 3\n",
    "\n",
    "# geometry mapping degree (isoparametric)\n",
    "p_geo = p\n",
    "\n",
    "# read in mesh in GMSH format\n",
    "mesh = Mesh2D(\"test\", \"../mesh/square_mesh_L10_x_11y_11.msh\")\n",
    "\n",
    "# set up periodic boundary conditions\n",
    "left = np.array([1.0,0.0,0.0]) \n",
    "right = np.array([1.0,0.0,10.0])\n",
    "bottom = np.array([0.0,1.0,0.0])\n",
    "top = np.array([0.0,1.0,10.0])\n",
    "mesh.add_bc_on_hyperplanes([left,right,bottom,top],[1,2,3,4])\n",
    "mesh.make_periodic((1,2),[1]) # left-right periodic (bcs parallel to axis 1)\n",
    "mesh.make_periodic((3,4),[0]) # top-bottom periodic (axis 0)\n",
    "\n",
    "#curvilinear transformation used in Del Rey Fernandez et al. (2017)\n",
    "mesh.map_mesh(f_map=Mesh2D.grid_transformation(warp_factor=0.2, L=10.0), p_geo=p_geo)\n",
    "\n",
    "# solver parameters\n",
    "params = {\"project_title\": \"euler_p3c0t2\",\n",
    "         \"problem\": \"compressible_euler\",\n",
    "         \"specific_heat_ratio\": 1.4,\n",
    "         \"numerical_flux\": \"roe\",\n",
    "         \"initial_condition\": \"isentropic_vortex\",\n",
    "         \"initial_vortex_centre\": np.array([5.0,5.0]),\n",
    "         \"background_temperature\": 1.0,\n",
    "         \"background_velocity\": np.array([1.0,1.0]),\n",
    "         \"integration_type\": \"collocation\",\n",
    "         \"solution_degree\": p,\n",
    "         \"volume_collocation_degree\": p,\n",
    "         \"facet_collocation_degree\": p,\n",
    "         \"solution_representation\": \"nodal\",\n",
    "         \"form\": \"weak\",\n",
    "         \"correction\": \"c_+\",\n",
    "         \"time_integrator\": \"rk44\",\n",
    "         \"final_time\": 10.0,\n",
    "         \"time_step_scale\": 0.005}\n",
    "\n",
    "# set up solver\n",
    "solver = Solver(params,mesh)\n",
    "weak = Solver(params,mesh)\n",
    "params_strong = params.copy()\n",
    "params_strong[\"form\"] = \"strong\"\n",
    "strong = Solver(params_strong,mesh)"
   ]
  },
  {
   "cell_type": "code",
   "execution_count": null,
   "metadata": {
    "scrolled": true
   },
   "outputs": [
    {
     "name": "stdout",
     "output_type": "stream",
     "text": [
      "dt =  0.00035714285714285714\n",
      "writing every  28  time steps, total  28000\n",
      "writing time step  28 : t =  0.010000000000000005\n",
      "max:  4.2358583673326855\n",
      "writing time step  56 : t =  0.020000000000000028\n",
      "max:  4.246807730339742\n",
      "writing time step  84 : t =  0.03000000000000005\n",
      "max:  4.257622938545488\n",
      "writing time step  112 : t =  0.03999999999999999\n",
      "max:  4.267303628957597\n",
      "writing time step  140 : t =  0.04999999999999991\n",
      "max:  4.275073435835418\n",
      "writing time step  168 : t =  0.05999999999999984\n",
      "max:  4.280392861863059\n",
      "writing time step  196 : t =  0.06999999999999991\n",
      "max:  4.283024840912824\n",
      "writing time step  224 : t =  0.08000000000000003\n",
      "max:  4.292789078673095\n",
      "writing time step  252 : t =  0.09000000000000015\n",
      "max:  4.3004238847953715\n",
      "writing time step  280 : t =  0.10000000000000027\n",
      "max:  4.305475173543496\n",
      "writing time step  308 : t =  0.11000000000000039\n",
      "max:  4.307700571280062\n"
     ]
    }
   ],
   "source": [
    "strong.run(write_interval=0.01)\n",
    "strong.post_process(error_quadrature_degree=4*p)"
   ]
  },
  {
   "cell_type": "code",
   "execution_count": null,
   "metadata": {},
   "outputs": [],
   "source": [
    "weak.run(write_interval=0.01)\n",
    "weak.post_process(error_quadrature_degree=4*p)"
   ]
  },
  {
   "cell_type": "code",
   "execution_count": null,
   "metadata": {},
   "outputs": [],
   "source": [
    "for e in range(0,4):\n",
    "    print(\"{:.3e}\".format(strong.calculate_difference(weak)[e]), \"& \", \n",
    "          \"{:.3e}\".format((strong.I_f - strong.I_0)[e]), \"& \", \n",
    "          \"{:.3e}\".format((weak.I_f - weak.I_0)[e]), \"& \", \n",
    "    \"{:.3e}\".format(strong.calculate_error()[e]), \"& \",\n",
    "    \"{:.3e}\".format(weak.calculate_error()[e]), \" \\\\\\\\\")"
   ]
  }
 ],
 "metadata": {
  "kernelspec": {
   "display_name": "Python 3",
   "language": "python",
   "name": "python3"
  },
  "language_info": {
   "codemirror_mode": {
    "name": "ipython",
    "version": 3
   },
   "file_extension": ".py",
   "mimetype": "text/x-python",
   "name": "python",
   "nbconvert_exporter": "python",
   "pygments_lexer": "ipython3",
   "version": "3.7.9"
  }
 },
 "nbformat": 4,
 "nbformat_minor": 4
}
