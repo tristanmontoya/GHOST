{
 "cells": [
  {
   "cell_type": "code",
   "execution_count": 1,
   "metadata": {},
   "outputs": [],
   "source": [
    "# GHOST - Euler Test (2D)\n",
    "\n",
    "import sys  \n",
    "import numpy as np\n",
    "import modepy as mp\n",
    "sys.path.insert(0, '../src')\n",
    "from Mesh import Mesh2D\n",
    "from Discretization import SpatialDiscretization\n",
    "from Solver import Solver\n",
    "\n",
    "# discretization degree\n",
    "p = 2\n",
    "\n",
    "# geometry mapping degree (isoparametric)\n",
    "p_geo = p\n",
    "\n",
    "# read in mesh in GMSH format\n",
    "mesh = Mesh2D(\"test\", \"../mesh/square_mesh_L10_x_11y_11.msh\")\n",
    "\n",
    "filename= \"p\" + str(p) + \"c0t1\"\n",
    "\n",
    "# set up periodic boundary conditions\n",
    "left = np.array([1.0,0.0,0.0]) \n",
    "right = np.array([1.0,0.0,10.0])\n",
    "bottom = np.array([0.0,1.0,0.0])\n",
    "top = np.array([0.0,1.0,10.0])\n",
    "mesh.add_bc_on_hyperplanes([left,right,bottom,top],[1,2,3,4])\n",
    "mesh.make_periodic((1,2),[1]) # left-right periodic (bcs parallel to axis 1)\n",
    "mesh.make_periodic((3,4),[0]) # top-bottom periodic (axis 0)\n",
    "\n",
    "#curvilinear transformation used in Del Rey Fernandez et al. (2017)\n",
    "mesh.map_mesh(f_map=Mesh2D.grid_transformation(warp_factor=0.2, L=10.0), p_geo=p_geo)\n",
    "\n",
    "# volume and facet quadrature degrees\n",
    "tau = 2*p\n",
    "mu = 2*p+1\n",
    "\n",
    "# solver parameters\n",
    "params_strong = {\"project_title\": filename + \"_strong\",\n",
    "         \"problem\": \"compressible_euler\",\n",
    "         \"specific_heat_ratio\": 1.4,\n",
    "         \"numerical_flux\": \"roe\",\n",
    "         \"initial_condition\": \"isentropic_vortex\",\n",
    "         \"initial_vortex_centre\": np.array([5.0,5.0]),\n",
    "         \"background_temperature\": 1.0,\n",
    "         \"background_velocity\": np.array([1.0,1.0]),\n",
    "         \"mach_number\": 0.4,\n",
    "         \"integration_type\": \"quadrature\",\n",
    "         \"solution_degree\": p,\n",
    "         \"volume_quadrature_degree\": tau,\n",
    "         \"facet_quadrature_degree\": mu,\n",
    "         \"solution_representation\": \"modal\",\n",
    "         \"form\": \"strong\",\n",
    "         \"time_integrator\": \"rk44\",\n",
    "         \"final_time\": 10.0,\n",
    "         \"time_step_scale\": 0.005}\n",
    "\n",
    "strong = Solver(params_strong,mesh)\n",
    "\n",
    "params_weak = params_strong.copy()\n",
    "params_weak[\"project_title\"] = filename + \"_weak\"\n",
    "params_weak[\"form\"] = \"weak\"\n",
    "weak = Solver(params_weak,mesh)"
   ]
  },
  {
   "cell_type": "code",
   "execution_count": null,
   "metadata": {
    "scrolled": true
   },
   "outputs": [
    {
     "name": "stdout",
     "output_type": "stream",
     "text": [
      "dt =  0.0005\n",
      "writing every  20  time steps, total  20000\n",
      "writing time step  20 : t =  0.010000000000000005\n",
      "max:  33.23186330672716\n"
     ]
    }
   ],
   "source": [
    "strong.run(write_interval=0.01)\n",
    "strong.post_process(error_quadrature_degree=4*p)"
   ]
  },
  {
   "cell_type": "code",
   "execution_count": null,
   "metadata": {},
   "outputs": [],
   "source": [
    "weak.run(write_interval=0.01)\n",
    "weak.post_process(error_quadrature_degree=4*p)"
   ]
  },
  {
   "cell_type": "code",
   "execution_count": null,
   "metadata": {},
   "outputs": [],
   "source": [
    "for e in range(0,4):\n",
    "    print(\"{:.3e}\".format(strong.calculate_difference(weak)[e]), \"& \", \n",
    "          \"{:.3e}\".format((strong.I_f - strong.I_0)[e]), \"& \", \n",
    "          \"{:.3e}\".format((weak.I_f - weak.I_0)[e]), \"& \", \n",
    "    \"{:.3e}\".format(strong.calculate_error()[e]), \"& \",\n",
    "    \"{:.3e}\".format(weak.calculate_error()[e]), \" \\\\\\\\\")\n",
    "    "
   ]
  },
  {
   "cell_type": "code",
   "execution_count": null,
   "metadata": {},
   "outputs": [],
   "source": []
  }
 ],
 "metadata": {
  "celltoolbar": "Tags",
  "kernelspec": {
   "display_name": "Python 3",
   "language": "python",
   "name": "python3"
  },
  "language_info": {
   "codemirror_mode": {
    "name": "ipython",
    "version": 3
   },
   "file_extension": ".py",
   "mimetype": "text/x-python",
   "name": "python",
   "nbconvert_exporter": "python",
   "pygments_lexer": "ipython3",
   "version": "3.7.9"
  }
 },
 "nbformat": 4,
 "nbformat_minor": 4
}
