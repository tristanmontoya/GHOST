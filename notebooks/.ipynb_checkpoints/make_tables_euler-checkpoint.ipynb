{
 "cells": [
  {
   "cell_type": "code",
   "execution_count": 4,
   "metadata": {
    "scrolled": false
   },
   "outputs": [
    {
     "name": "stderr",
     "output_type": "stream",
     "text": [
      "WARNING:root:msh4 requires 3D points, but 2D points given. Appending 0 third component.\n",
      "WARNING:root:Binary Gmsh needs c_size_t (got int64). Converting.\n"
     ]
    },
    {
     "name": "stdout",
     "output_type": "stream",
     "text": [
      "euler_m04p2c0t1_strong\n"
     ]
    },
    {
     "name": "stderr",
     "output_type": "stream",
     "text": [
      "WARNING:root:msh4 requires 3D points, but 2D points given. Appending 0 third component.\n",
      "WARNING:root:Binary Gmsh needs c_size_t (got int64). Converting.\n"
     ]
    },
    {
     "name": "stdout",
     "output_type": "stream",
     "text": [
      "euler_m04p2c0t1_weak\n"
     ]
    },
    {
     "name": "stderr",
     "output_type": "stream",
     "text": [
      "WARNING:root:msh4 requires 3D points, but 2D points given. Appending 0 third component.\n",
      "WARNING:root:Binary Gmsh needs c_size_t (got int64). Converting.\n"
     ]
    },
    {
     "name": "stdout",
     "output_type": "stream",
     "text": [
      "euler_m04p2cpt1_strong\n"
     ]
    },
    {
     "name": "stderr",
     "output_type": "stream",
     "text": [
      "WARNING:root:msh4 requires 3D points, but 2D points given. Appending 0 third component.\n",
      "WARNING:root:Binary Gmsh needs c_size_t (got int64). Converting.\n"
     ]
    },
    {
     "name": "stdout",
     "output_type": "stream",
     "text": [
      "euler_m04p2cpt1_weak\n"
     ]
    },
    {
     "name": "stderr",
     "output_type": "stream",
     "text": [
      "WARNING:root:msh4 requires 3D points, but 2D points given. Appending 0 third component.\n",
      "WARNING:root:Binary Gmsh needs c_size_t (got int64). Converting.\n"
     ]
    },
    {
     "name": "stdout",
     "output_type": "stream",
     "text": [
      "euler_m04p2c0t3_strong\n"
     ]
    },
    {
     "name": "stderr",
     "output_type": "stream",
     "text": [
      "WARNING:root:msh4 requires 3D points, but 2D points given. Appending 0 third component.\n",
      "WARNING:root:Binary Gmsh needs c_size_t (got int64). Converting.\n"
     ]
    },
    {
     "name": "stdout",
     "output_type": "stream",
     "text": [
      "euler_m04p2c0t3_weak\n"
     ]
    },
    {
     "name": "stderr",
     "output_type": "stream",
     "text": [
      "WARNING:root:msh4 requires 3D points, but 2D points given. Appending 0 third component.\n",
      "WARNING:root:Binary Gmsh needs c_size_t (got int64). Converting.\n"
     ]
    },
    {
     "name": "stdout",
     "output_type": "stream",
     "text": [
      "euler_m04p2cpt3_strong\n"
     ]
    },
    {
     "name": "stderr",
     "output_type": "stream",
     "text": [
      "WARNING:root:msh4 requires 3D points, but 2D points given. Appending 0 third component.\n",
      "WARNING:root:Binary Gmsh needs c_size_t (got int64). Converting.\n"
     ]
    },
    {
     "name": "stdout",
     "output_type": "stream",
     "text": [
      "euler_m04p2cpt3_weak\n"
     ]
    },
    {
     "name": "stderr",
     "output_type": "stream",
     "text": [
      "WARNING:root:msh4 requires 3D points, but 2D points given. Appending 0 third component.\n",
      "WARNING:root:Binary Gmsh needs c_size_t (got int64). Converting.\n"
     ]
    },
    {
     "name": "stdout",
     "output_type": "stream",
     "text": [
      "euler_m04p2c0t2_strong\n"
     ]
    },
    {
     "name": "stderr",
     "output_type": "stream",
     "text": [
      "WARNING:root:msh4 requires 3D points, but 2D points given. Appending 0 third component.\n",
      "WARNING:root:Binary Gmsh needs c_size_t (got int64). Converting.\n"
     ]
    },
    {
     "name": "stdout",
     "output_type": "stream",
     "text": [
      "euler_m04p2c0t2_weak\n"
     ]
    },
    {
     "name": "stderr",
     "output_type": "stream",
     "text": [
      "WARNING:root:msh4 requires 3D points, but 2D points given. Appending 0 third component.\n",
      "WARNING:root:Binary Gmsh needs c_size_t (got int64). Converting.\n"
     ]
    },
    {
     "name": "stdout",
     "output_type": "stream",
     "text": [
      "euler_m04p2cpt2_strong\n"
     ]
    },
    {
     "name": "stderr",
     "output_type": "stream",
     "text": [
      "WARNING:root:msh4 requires 3D points, but 2D points given. Appending 0 third component.\n",
      "WARNING:root:Binary Gmsh needs c_size_t (got int64). Converting.\n"
     ]
    },
    {
     "name": "stdout",
     "output_type": "stream",
     "text": [
      "euler_m04p2cpt2_weak\n"
     ]
    }
   ],
   "source": [
    "import sys\n",
    "sys.path.insert(0, '../src')\n",
    "import numpy as np\n",
    "from Driver import write_output_euler\n",
    "            \n",
    "mach_number=0.4\n",
    "theta=np.pi/4\n",
    "p=2\n",
    "p_geo=p\n",
    "M=16\n",
    "L=10.0\n",
    "\n",
    "disctype=1\n",
    "table = (write_output_euler(mach_number=mach_number, theta=theta,\n",
    "                                p=p, p_geo=p, M=M, L=L,correction_type=\"c_dg\",\n",
    "                                discretization_type=disctype, \n",
    "                                headings_disc=True, headings_corr=True)\n",
    "+ \"\\\\cmidrule{2-6}\"\n",
    "+ write_output_euler(mach_number=mach_number, theta=theta,\n",
    "                                p=p, p_geo=p, M=M, L=L,correction_type=\"c_+\",\n",
    "                                discretization_type=disctype,\n",
    "                                headings_disc=False, headings_corr=True)\n",
    "+ \"\\\\midrule\")\n",
    "\n",
    "disctype=3\n",
    "table = table + (write_output_euler(mach_number=mach_number, theta=theta,\n",
    "                                p=p, p_geo=p, M=M, L=L,correction_type=\"c_dg\",\n",
    "                                discretization_type=disctype, \n",
    "                                headings_disc=True, headings_corr=True)\n",
    "+ write_output_euler(mach_number=mach_number, theta=theta,\n",
    "                                p=p, p_geo=p, M=M, L=L,correction_type=\"c_+\",\n",
    "                                discretization_type=disctype,\n",
    "                                headings_disc=False, headings_corr=True))\n",
    "disctype=2\n",
    "table = table + (write_output_euler(mach_number=mach_number, theta=theta,\n",
    "                                p=p, p_geo=p, M=M, L=L,correction_type=\"c_dg\",\n",
    "                                discretization_type=disctype, \n",
    "                                headings_disc=True, headings_corr=True)\n",
    "+ write_output_euler(mach_number=mach_number, theta=theta,\n",
    "                                p=p, p_geo=p, M=M, L=L,correction_type=\"c_+\",\n",
    "                                discretization_type=disctype,\n",
    "                                headings_disc=False, headings_corr=True))"
   ]
  },
  {
   "cell_type": "markdown",
   "metadata": {},
   "source": []
  },
  {
   "cell_type": "code",
   "execution_count": 3,
   "metadata": {},
   "outputs": [
    {
     "name": "stdout",
     "output_type": "stream",
     "text": [
      "Collocation & $c_{\\mathrm{DG}}$ & $\\rho$ & 1.616e-13 & 5.400e-13 & -6.253e-13\\\\ \n",
      "& & $\\rho V_1$ & 3.850e-13 & -7.816e-14 & -2.576e-12\\\\ \n",
      "& & $\\rho V_2$ & 4.296e-13 & 2.515e-12 & 9.663e-13\\\\ \n",
      "& & $E$ & 4.353e-13 & 1.620e-12 & -1.535e-12\\\\ \n",
      " & $c_+$ & $\\rho$ & 9.546e-14 & 5.116e-13 & -2.842e-13\\\\ \n",
      "& & $\\rho V_1$ & 2.136e-13 & -4.263e-14 & -1.172e-12\\\\ \n",
      "& & $\\rho V_2$ & 2.176e-13 & 2.512e-12 & 1.034e-12\\\\ \n",
      "& & $E$ & 2.586e-13 & 1.705e-12 & -3.411e-13\\\\ \n",
      "\n"
     ]
    }
   ],
   "source": [
    "print(table)"
   ]
  },
  {
   "cell_type": "code",
   "execution_count": null,
   "metadata": {},
   "outputs": [],
   "source": []
  }
 ],
 "metadata": {
  "kernelspec": {
   "display_name": "Python 3",
   "language": "python",
   "name": "python3"
  },
  "language_info": {
   "codemirror_mode": {
    "name": "ipython",
    "version": 3
   },
   "file_extension": ".py",
   "mimetype": "text/x-python",
   "name": "python",
   "nbconvert_exporter": "python",
   "pygments_lexer": "ipython3",
   "version": "3.7.9"
  }
 },
 "nbformat": 4,
 "nbformat_minor": 4
}
