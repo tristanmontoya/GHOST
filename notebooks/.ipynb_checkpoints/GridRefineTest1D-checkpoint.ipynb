{
 "cells": [
  {
   "cell_type": "code",
   "execution_count": 1,
   "metadata": {},
   "outputs": [],
   "source": [
    "import sys\n",
    "sys.path.insert(0, '../src')\n",
    "from Driver import grid_refine"
   ]
  },
  {
   "cell_type": "code",
   "execution_count": 2,
   "metadata": {},
   "outputs": [
    {
     "name": "stdout",
     "output_type": "stream",
     "text": [
      "dt =  0.004\n",
      "writing every  250  time steps, total  250\n",
      "writing time step  250 : t =  1.0000000000000007\n",
      "M:  5 , weak form\n",
      "cons. error:  [4.16333634e-17]\n",
      "energy diff:  [-0.01100192]\n",
      "L2 error:  [0.01681222]  rate:  [0.]\n",
      "dt =  0.002\n",
      "writing every  500  time steps, total  500\n",
      "writing time step  500 : t =  1.0000000000000007\n",
      "M:  10 , weak form\n",
      "cons. error:  [5.21284405e-16]\n",
      "energy diff:  [-0.00042008]\n",
      "L2 error:  [0.00232603]  rate:  [2.85356771]\n",
      "dt =  0.001\n",
      "writing every  1000  time steps, total  1000\n"
     ]
    },
    {
     "ename": "KeyboardInterrupt",
     "evalue": "",
     "output_type": "error",
     "traceback": [
      "\u001b[0;31m---------------------------------------------------------------------------\u001b[0m",
      "\u001b[0;31mKeyboardInterrupt\u001b[0m                         Traceback (most recent call last)",
      "\u001b[0;32m<ipython-input-2-d32f18fa77c3>\u001b[0m in \u001b[0;36m<module>\u001b[0;34m\u001b[0m\n\u001b[1;32m     10\u001b[0m     \u001b[0mform\u001b[0m\u001b[0;34m=\u001b[0m\u001b[0;34m\"weak\"\u001b[0m\u001b[0;34m,\u001b[0m\u001b[0;34m\u001b[0m\u001b[0;34m\u001b[0m\u001b[0m\n\u001b[1;32m     11\u001b[0m     \u001b[0mcorrection\u001b[0m\u001b[0;34m=\u001b[0m\u001b[0;34m\"c_dg\"\u001b[0m\u001b[0;34m,\u001b[0m\u001b[0;34m\u001b[0m\u001b[0;34m\u001b[0m\u001b[0m\n\u001b[0;32m---> 12\u001b[0;31m     results_path=None)\n\u001b[0m",
      "\u001b[0;32m~/Research/GHOST/src/Driver.py\u001b[0m in \u001b[0;36mgrid_refine\u001b[0;34m(project_title, d, n_refine, p, problem, integration_type, solution_representation, numerical_flux, map_type, form, correction, results_path)\u001b[0m\n\u001b[1;32m     44\u001b[0m     \u001b[0;32mif\u001b[0m \u001b[0md\u001b[0m \u001b[0;34m==\u001b[0m \u001b[0;36m1\u001b[0m\u001b[0;34m:\u001b[0m\u001b[0;34m\u001b[0m\u001b[0;34m\u001b[0m\u001b[0m\n\u001b[1;32m     45\u001b[0m         return grid_refine_1d(params, form,n_refine,p_geo, \n\u001b[0;32m---> 46\u001b[0;31m                               21, results_path)\n\u001b[0m\u001b[1;32m     47\u001b[0m     \u001b[0;32melif\u001b[0m \u001b[0md\u001b[0m \u001b[0;34m==\u001b[0m \u001b[0;36m2\u001b[0m\u001b[0;34m:\u001b[0m\u001b[0;34m\u001b[0m\u001b[0;34m\u001b[0m\u001b[0m\n\u001b[1;32m     48\u001b[0m         return grid_refine_2d(params, form,n_refine,p_geo, \n",
      "\u001b[0;32m~/Research/GHOST/src/Driver.py\u001b[0m in \u001b[0;36mgrid_refine_1d\u001b[0;34m(params, form, n_refine, p_geo, error_quadrature_degree, results_path)\u001b[0m\n\u001b[1;32m    144\u001b[0m \u001b[0;34m\u001b[0m\u001b[0m\n\u001b[1;32m    145\u001b[0m             \u001b[0msolver_weak\u001b[0m \u001b[0;34m=\u001b[0m \u001b[0mSolver\u001b[0m\u001b[0;34m(\u001b[0m\u001b[0mparams_weak\u001b[0m\u001b[0;34m,\u001b[0m \u001b[0mmesh\u001b[0m\u001b[0;34m)\u001b[0m\u001b[0;34m\u001b[0m\u001b[0;34m\u001b[0m\u001b[0m\n\u001b[0;32m--> 146\u001b[0;31m             \u001b[0msolver_weak\u001b[0m\u001b[0;34m.\u001b[0m\u001b[0mrun\u001b[0m\u001b[0;34m(\u001b[0m\u001b[0mresults_path\u001b[0m \u001b[0;34m+\u001b[0m \u001b[0;34m\"/weak/M\"\u001b[0m \u001b[0;34m+\u001b[0m \u001b[0mstr\u001b[0m\u001b[0;34m(\u001b[0m\u001b[0mM\u001b[0m\u001b[0;34m)\u001b[0m \u001b[0;34m+\u001b[0m \u001b[0;34m\"/\"\u001b[0m\u001b[0;34m)\u001b[0m\u001b[0;34m\u001b[0m\u001b[0;34m\u001b[0m\u001b[0m\n\u001b[0m\u001b[1;32m    147\u001b[0m             solver_weak.post_process(process_visualization=False,\n\u001b[1;32m    148\u001b[0m                                      error_quadrature_degree=error_quadrature_degree)\n",
      "\u001b[0;32m~/Research/GHOST/src/Solver.py\u001b[0m in \u001b[0;36mrun\u001b[0;34m(self, results_path, write_interval, clear_write_dir)\u001b[0m\n\u001b[1;32m    311\u001b[0m             self.u_hat = self.time_integrator.run(self.u_hat, self.T,\n\u001b[1;32m    312\u001b[0m                                                   \u001b[0mresults_path\u001b[0m\u001b[0;34m,\u001b[0m\u001b[0;34m\u001b[0m\u001b[0;34m\u001b[0m\u001b[0m\n\u001b[0;32m--> 313\u001b[0;31m                                                   write_interval)\n\u001b[0m\u001b[1;32m    314\u001b[0m \u001b[0;34m\u001b[0m\u001b[0m\n\u001b[1;32m    315\u001b[0m             \u001b[0mself\u001b[0m\u001b[0;34m.\u001b[0m\u001b[0mI_f\u001b[0m \u001b[0;34m=\u001b[0m \u001b[0mself\u001b[0m\u001b[0;34m.\u001b[0m\u001b[0mcalculate_conserved_integral\u001b[0m\u001b[0;34m(\u001b[0m\u001b[0;34m)\u001b[0m\u001b[0;34m\u001b[0m\u001b[0;34m\u001b[0m\u001b[0m\n",
      "\u001b[0;32m~/Research/GHOST/src/Discretization.py\u001b[0m in \u001b[0;36mrun\u001b[0;34m(self, u_0, T, results_path, write_interval)\u001b[0m\n\u001b[1;32m    885\u001b[0m \u001b[0;34m\u001b[0m\u001b[0m\n\u001b[1;32m    886\u001b[0m         \u001b[0;32mfor\u001b[0m \u001b[0mn\u001b[0m \u001b[0;32min\u001b[0m \u001b[0mrange\u001b[0m\u001b[0;34m(\u001b[0m\u001b[0;36m0\u001b[0m\u001b[0;34m,\u001b[0m\u001b[0mN_t\u001b[0m\u001b[0;34m)\u001b[0m\u001b[0;34m:\u001b[0m\u001b[0;34m\u001b[0m\u001b[0;34m\u001b[0m\u001b[0m\n\u001b[0;32m--> 887\u001b[0;31m             \u001b[0mu\u001b[0m \u001b[0;34m=\u001b[0m \u001b[0mnp\u001b[0m\u001b[0;34m.\u001b[0m\u001b[0mcopy\u001b[0m\u001b[0;34m(\u001b[0m\u001b[0mself\u001b[0m\u001b[0;34m.\u001b[0m\u001b[0mtime_step\u001b[0m\u001b[0;34m(\u001b[0m\u001b[0mu\u001b[0m\u001b[0;34m,\u001b[0m\u001b[0mt\u001b[0m\u001b[0;34m,\u001b[0m\u001b[0mdt\u001b[0m\u001b[0;34m)\u001b[0m\u001b[0;34m)\u001b[0m\u001b[0;34m\u001b[0m\u001b[0;34m\u001b[0m\u001b[0m\n\u001b[0m\u001b[1;32m    888\u001b[0m             \u001b[0mt\u001b[0m \u001b[0;34m=\u001b[0m \u001b[0mt\u001b[0m \u001b[0;34m+\u001b[0m \u001b[0mdt\u001b[0m\u001b[0;34m\u001b[0m\u001b[0;34m\u001b[0m\u001b[0m\n\u001b[1;32m    889\u001b[0m             \u001b[0;32mif\u001b[0m \u001b[0;34m(\u001b[0m\u001b[0;34m(\u001b[0m\u001b[0mn\u001b[0m\u001b[0;34m+\u001b[0m\u001b[0;36m1\u001b[0m\u001b[0;34m)\u001b[0m \u001b[0;34m%\u001b[0m \u001b[0mN_write\u001b[0m \u001b[0;34m==\u001b[0m \u001b[0;36m0\u001b[0m\u001b[0;34m)\u001b[0m \u001b[0;32mor\u001b[0m \u001b[0;34m(\u001b[0m\u001b[0mn\u001b[0m\u001b[0;34m+\u001b[0m\u001b[0;36m1\u001b[0m \u001b[0;34m==\u001b[0m \u001b[0mN_t\u001b[0m\u001b[0;34m)\u001b[0m\u001b[0;34m:\u001b[0m\u001b[0;34m\u001b[0m\u001b[0;34m\u001b[0m\u001b[0m\n",
      "\u001b[0;32m~/Research/GHOST/src/Discretization.py\u001b[0m in \u001b[0;36mtime_step\u001b[0;34m(self, u, t, dt)\u001b[0m\n\u001b[1;32m    923\u001b[0m                           for k in range(0, len(u))]\n\u001b[1;32m    924\u001b[0m \u001b[0;34m\u001b[0m\u001b[0m\n\u001b[0;32m--> 925\u001b[0;31m             \u001b[0mr_u_bar_np1\u001b[0m \u001b[0;34m=\u001b[0m \u001b[0mself\u001b[0m\u001b[0;34m.\u001b[0m\u001b[0mR\u001b[0m\u001b[0;34m(\u001b[0m\u001b[0mu_bar_np1\u001b[0m\u001b[0;34m,\u001b[0m \u001b[0mt\u001b[0m \u001b[0;34m+\u001b[0m \u001b[0;36m1.0\u001b[0m\u001b[0;34m*\u001b[0m\u001b[0mdt\u001b[0m\u001b[0;34m)\u001b[0m\u001b[0;34m\u001b[0m\u001b[0;34m\u001b[0m\u001b[0m\n\u001b[0m\u001b[1;32m    926\u001b[0m \u001b[0;34m\u001b[0m\u001b[0m\n\u001b[1;32m    927\u001b[0m             return [np.array([u[k][e,:] + (1. / 6.) * dt * (\n",
      "\u001b[0;32m~/Research/GHOST/src/Discretization.py\u001b[0m in \u001b[0;36m<lambda>\u001b[0;34m(u_hat, t)\u001b[0m\n\u001b[1;32m    581\u001b[0m \u001b[0;34m\u001b[0m\u001b[0m\n\u001b[1;32m    582\u001b[0m         return lambda u_hat, t: global_residual(self, f, f_star,\n\u001b[0;32m--> 583\u001b[0;31m                                                 bc, N_eq, u_hat, t)\n\u001b[0m\u001b[1;32m    584\u001b[0m \u001b[0;34m\u001b[0m\u001b[0m\n\u001b[1;32m    585\u001b[0m \u001b[0;34m\u001b[0m\u001b[0m\n",
      "\u001b[0;32m~/Research/GHOST/src/Discretization.py\u001b[0m in \u001b[0;36mglobal_residual\u001b[0;34m(self, f, f_star, bc, N_eq, u_hat, t, print_output)\u001b[0m\n\u001b[1;32m    578\u001b[0m                                for gamma in range(0, self.mesh.Nf[k])])\n\u001b[1;32m    579\u001b[0m                     for e in range(0, N_eq)])\n\u001b[0;32m--> 580\u001b[0;31m                     for k in range(0, self.mesh.K)]\n\u001b[0m\u001b[1;32m    581\u001b[0m \u001b[0;34m\u001b[0m\u001b[0m\n\u001b[1;32m    582\u001b[0m         return lambda u_hat, t: global_residual(self, f, f_star,\n",
      "\u001b[0;32m~/Research/GHOST/src/Discretization.py\u001b[0m in \u001b[0;36m<listcomp>\u001b[0;34m(.0)\u001b[0m\n\u001b[1;32m    578\u001b[0m                                for gamma in range(0, self.mesh.Nf[k])])\n\u001b[1;32m    579\u001b[0m                     for e in range(0, N_eq)])\n\u001b[0;32m--> 580\u001b[0;31m                     for k in range(0, self.mesh.K)]\n\u001b[0m\u001b[1;32m    581\u001b[0m \u001b[0;34m\u001b[0m\u001b[0m\n\u001b[1;32m    582\u001b[0m         return lambda u_hat, t: global_residual(self, f, f_star,\n",
      "\u001b[0;32m~/Research/GHOST/src/Discretization.py\u001b[0m in \u001b[0;36m<listcomp>\u001b[0;34m(.0)\u001b[0m\n\u001b[1;32m    577\u001b[0m                                \u001b[0mf_trans_gamma\u001b[0m\u001b[0;34m[\u001b[0m\u001b[0mk\u001b[0m\u001b[0;34m]\u001b[0m\u001b[0;34m[\u001b[0m\u001b[0mgamma\u001b[0m\u001b[0;34m]\u001b[0m\u001b[0;34m[\u001b[0m\u001b[0me\u001b[0m\u001b[0;34m,\u001b[0m\u001b[0;34m:\u001b[0m\u001b[0;34m]\u001b[0m\u001b[0;34m\u001b[0m\u001b[0;34m\u001b[0m\u001b[0m\n\u001b[1;32m    578\u001b[0m                                for gamma in range(0, self.mesh.Nf[k])])\n\u001b[0;32m--> 579\u001b[0;31m                     for e in range(0, N_eq)])\n\u001b[0m\u001b[1;32m    580\u001b[0m                     for k in range(0, self.mesh.K)]\n\u001b[1;32m    581\u001b[0m \u001b[0;34m\u001b[0m\u001b[0m\n",
      "\u001b[0;32m~/Research/GHOST/src/Discretization.py\u001b[0m in \u001b[0;36m<listcomp>\u001b[0;34m(.0)\u001b[0m\n\u001b[1;32m    573\u001b[0m \u001b[0;34m\u001b[0m\u001b[0m\n\u001b[1;32m    574\u001b[0m             return [np.array([sum([self.vol[k][m] @ f_trans_omega[k][m][e,:] \n\u001b[0;32m--> 575\u001b[0;31m                                       for m in range(0,self.d)])\n\u001b[0m\u001b[1;32m    576\u001b[0m                      + sum([self.fac[k][gamma] @ \n\u001b[1;32m    577\u001b[0m                                \u001b[0mf_trans_gamma\u001b[0m\u001b[0;34m[\u001b[0m\u001b[0mk\u001b[0m\u001b[0;34m]\u001b[0m\u001b[0;34m[\u001b[0m\u001b[0mgamma\u001b[0m\u001b[0;34m]\u001b[0m\u001b[0;34m[\u001b[0m\u001b[0me\u001b[0m\u001b[0;34m,\u001b[0m\u001b[0;34m:\u001b[0m\u001b[0;34m]\u001b[0m\u001b[0;34m\u001b[0m\u001b[0;34m\u001b[0m\u001b[0m\n",
      "\u001b[0;31mKeyboardInterrupt\u001b[0m: "
     ]
    }
   ],
   "source": [
    "M_list, error, rates = grid_refine(project_title=\"advection_p2qi_grid_refine_test\",\n",
    "    d=1,\n",
    "    n_refine=4,\n",
    "    p=2,\n",
    "    problem=\"constant_advection\",\n",
    "    integration_type=\"quadrature\",\n",
    "    solution_representation=\"modal\",\n",
    "    numerical_flux=\"upwind\",\n",
    "    map_type=\"isoparametric\",\n",
    "    form=\"weak\",\n",
    "    correction=\"c_dg\",\n",
    "    results_path=None)"
   ]
  },
  {
   "cell_type": "code",
   "execution_count": null,
   "metadata": {},
   "outputs": [],
   "source": [
    "M_list, error, rates = grid_refine(project_title=\"advection_p2qa_grid_refine_test\",\n",
    "    d=1,\n",
    "    n_refine=4,\n",
    "    p=2,\n",
    "    problem=\"constant_advection\",\n",
    "    integration_type=\"quadrature\",\n",
    "    solution_representation=\"modal\",\n",
    "    numerical_flux=\"upwind\",\n",
    "    map_type=\"affine\",\n",
    "    form=\"weak\",\n",
    "    correction_type=\"dg\",\n",
    "    results_path=None)"
   ]
  },
  {
   "cell_type": "code",
   "execution_count": null,
   "metadata": {},
   "outputs": [],
   "source": [
    "M_list, error, rates = grid_refine(project_title=\"euler_p2qi_grid_refine_test\",\n",
    "    d=1,\n",
    "    n_refine=4,\n",
    "    p=2,\n",
    "    problem=\"compressible_euler\",\n",
    "    integration_type=\"quadrature\",\n",
    "    solution_representation=\"modal\",\n",
    "    numerical_flux=\"roe\",\n",
    "    map_type=\"isoparametric\",\n",
    "    form=\"weak\",\n",
    "    correction_type=\"dg\",\n",
    "    results_path=None)"
   ]
  },
  {
   "cell_type": "code",
   "execution_count": null,
   "metadata": {},
   "outputs": [],
   "source": [
    "M_list, error, rates = grid_refine(project_title=\"advection_p2qi_fr_grid_refine_test\",\n",
    "    d=1,\n",
    "    n_refine=4,\n",
    "    p=2,\n",
    "    problem=\"constant_advection\",\n",
    "    integration_type=\"quadrature\",\n",
    "    solution_representation=\"modal\",\n",
    "    numerical_flux=\"upwind\",\n",
    "    map_type=\"isoparametric\",\n",
    "    form=\"strong\",\n",
    "    correction=\"c_+\",\n",
    "    results_path=None)"
   ]
  },
  {
   "cell_type": "code",
   "execution_count": null,
   "metadata": {},
   "outputs": [],
   "source": [
    "M_list, error, rates = grid_refine(project_title=\"advection_p2qa_fr_nodal_grid_refine_test\",\n",
    "    d=1,\n",
    "    n_refine=4,\n",
    "    p=2,\n",
    "    problem=\"constant_advection\",\n",
    "    integration_type=\"quadrature\",\n",
    "    solution_representation=\"nodal\",\n",
    "    numerical_flux=\"upwind\",\n",
    "    map_type=\"affine\",\n",
    "    form=\"strong\",\n",
    "    correction=\"c_+\",\n",
    "    results_path=None)"
   ]
  },
  {
   "cell_type": "code",
   "execution_count": null,
   "metadata": {},
   "outputs": [],
   "source": [
    "M_list, error, rates = grid_refine(project_title=\"advection_p2qa_dg_nodal_grid_refine_test\",\n",
    "    d=1,\n",
    "    n_refine=4,\n",
    "    p=2,\n",
    "    problem=\"constant_advection\",\n",
    "    integration_type=\"quadrature\",\n",
    "    solution_representation=\"nodal\",\n",
    "    numerical_flux=\"upwind\",\n",
    "    map_type=\"affine\",\n",
    "    form=\"strong\",\n",
    "    correction=\"c_dg\",\n",
    "    results_path=None)"
   ]
  },
  {
   "cell_type": "code",
   "execution_count": null,
   "metadata": {},
   "outputs": [],
   "source": [
    "M_list, error, rates = grid_refine(project_title=\"advection_p2qa_fr_nodal_grid_refine_test\",\n",
    "    d=1,\n",
    "    n_refine=4,\n",
    "    p=2,\n",
    "    problem=\"constant_advection\",\n",
    "    integration_type=\"quadrature\",\n",
    "    solution_representation=\"nodal\",\n",
    "    numerical_flux=\"upwind\",\n",
    "    map_type=\"affine\",\n",
    "    form=\"strong\",\n",
    "    correction=\"c_+\",\n",
    "    results_path=None)"
   ]
  },
  {
   "cell_type": "code",
   "execution_count": null,
   "metadata": {},
   "outputs": [],
   "source": [
    "M_list, error, rates = grid_refine(project_title=\"advection_p2qa_fr_modal_grid_refine_test\",\n",
    "    d=1,\n",
    "    n_refine=4,\n",
    "    p=2,\n",
    "    problem=\"constant_advection\",\n",
    "    integration_type=\"quadrature\",\n",
    "    solution_representation=\"modal\",\n",
    "    numerical_flux=\"upwind\",\n",
    "    map_type=\"affine\",\n",
    "    form=\"strong\",\n",
    "    correction=\"c_+\",\n",
    "    results_path=None)"
   ]
  },
  {
   "cell_type": "code",
   "execution_count": 2,
   "metadata": {},
   "outputs": [
    {
     "name": "stdout",
     "output_type": "stream",
     "text": [
      "dt =  0.004\n",
      "writing every  250  time steps, total  250\n",
      "writing time step  250 : t =  1.0000000000000007\n",
      "M:  5 , strong form\n",
      "cons. error:  [-2.25514052e-16]\n",
      "energy diff:  [-0.00992988]\n",
      "L2 error:  [0.01647978]  rate:  [0.]\n",
      "dt =  0.004\n",
      "writing every  250  time steps, total  250\n",
      "writing time step  250 : t =  1.0000000000000007\n",
      "M:  5 , weak form\n",
      "cons. error:  [-2.25514052e-16]\n",
      "energy diff:  [-0.00992988]\n",
      "L2 error:  [0.01647978]  rate:  [0.]\n",
      "J_e:  [0.15877853 0.15877853 0.15877853 0.15877853 0.15877853 0.15877853]\n",
      "weights: [0.17132449 0.36076157 0.46791393 0.46791393 0.36076157 0.17132449]\n"
     ]
    },
    {
     "ename": "NameError",
     "evalue": "name 'k' is not defined",
     "output_type": "error",
     "traceback": [
      "\u001b[0;31m---------------------------------------------------------------------------\u001b[0m",
      "\u001b[0;31mNameError\u001b[0m                                 Traceback (most recent call last)",
      "\u001b[0;32m<ipython-input-2-6fb369707080>\u001b[0m in \u001b[0;36m<module>\u001b[0;34m\u001b[0m\n\u001b[1;32m     13\u001b[0m                 \u001b[0mform\u001b[0m\u001b[0;34m=\u001b[0m\u001b[0;34m\"both\"\u001b[0m\u001b[0;34m,\u001b[0m\u001b[0;34m\u001b[0m\u001b[0;34m\u001b[0m\u001b[0m\n\u001b[1;32m     14\u001b[0m                 \u001b[0mcorrection\u001b[0m\u001b[0;34m=\u001b[0m\u001b[0;34m\"c_dg\"\u001b[0m\u001b[0;34m,\u001b[0m\u001b[0;34m\u001b[0m\u001b[0;34m\u001b[0m\u001b[0m\n\u001b[0;32m---> 15\u001b[0;31m                 results_path=None)\n\u001b[0m",
      "\u001b[0;32m~/Research/GHOST/src/Driver.py\u001b[0m in \u001b[0;36mgrid_refine\u001b[0;34m(project_title, d, n_refine, p, problem, integration_type, solution_representation, numerical_flux, map_type, form, correction, results_path)\u001b[0m\n\u001b[1;32m     44\u001b[0m     \u001b[0;32mif\u001b[0m \u001b[0md\u001b[0m \u001b[0;34m==\u001b[0m \u001b[0;36m1\u001b[0m\u001b[0;34m:\u001b[0m\u001b[0;34m\u001b[0m\u001b[0;34m\u001b[0m\u001b[0m\n\u001b[1;32m     45\u001b[0m         return grid_refine_1d(params, form,n_refine,p_geo, \n\u001b[0;32m---> 46\u001b[0;31m                               21, results_path)\n\u001b[0m\u001b[1;32m     47\u001b[0m     \u001b[0;32melif\u001b[0m \u001b[0md\u001b[0m \u001b[0;34m==\u001b[0m \u001b[0;36m2\u001b[0m\u001b[0;34m:\u001b[0m\u001b[0;34m\u001b[0m\u001b[0;34m\u001b[0m\u001b[0m\n\u001b[1;32m     48\u001b[0m         return grid_refine_2d(params, form,n_refine,p_geo, \n",
      "\u001b[0;32m~/Research/GHOST/src/Driver.py\u001b[0m in \u001b[0;36mgrid_refine_1d\u001b[0;34m(params, form, n_refine, p_geo, error_quadrature_degree, results_path)\u001b[0m\n\u001b[1;32m    166\u001b[0m \u001b[0;34m\u001b[0m\u001b[0m\n\u001b[1;32m    167\u001b[0m         \u001b[0;32mif\u001b[0m \u001b[0mform\u001b[0m \u001b[0;34m==\u001b[0m \u001b[0;34m\"both\"\u001b[0m\u001b[0;34m:\u001b[0m\u001b[0;34m\u001b[0m\u001b[0;34m\u001b[0m\u001b[0m\n\u001b[0;32m--> 168\u001b[0;31m             \u001b[0mdiff_strong_weak\u001b[0m\u001b[0;34m[\u001b[0m\u001b[0;34m:\u001b[0m\u001b[0;34m,\u001b[0m\u001b[0mn\u001b[0m\u001b[0;34m]\u001b[0m \u001b[0;34m=\u001b[0m \u001b[0msolver_strong\u001b[0m\u001b[0;34m.\u001b[0m\u001b[0mcalculate_difference\u001b[0m\u001b[0;34m(\u001b[0m\u001b[0msolver_weak\u001b[0m\u001b[0;34m)\u001b[0m\u001b[0;34m\u001b[0m\u001b[0;34m\u001b[0m\u001b[0m\n\u001b[0m\u001b[1;32m    169\u001b[0m \u001b[0;34m\u001b[0m\u001b[0m\n\u001b[1;32m    170\u001b[0m         \u001b[0mM\u001b[0m \u001b[0;34m=\u001b[0m \u001b[0mM\u001b[0m\u001b[0;34m*\u001b[0m\u001b[0;36m2\u001b[0m\u001b[0;34m\u001b[0m\u001b[0;34m\u001b[0m\u001b[0m\n",
      "\u001b[0;32m~/Research/GHOST/src/Solver.py\u001b[0m in \u001b[0;36mcalculate_difference\u001b[0;34m(self, other_solver, norm)\u001b[0m\n\u001b[1;32m    560\u001b[0m              \u001b[0mprint\u001b[0m\u001b[0;34m(\u001b[0m\u001b[0;34m\"J_e: \"\u001b[0m\u001b[0;34m,\u001b[0m \u001b[0mself\u001b[0m\u001b[0;34m.\u001b[0m\u001b[0mJ_e\u001b[0m\u001b[0;34m[\u001b[0m\u001b[0;36m0\u001b[0m\u001b[0;34m]\u001b[0m\u001b[0;34m)\u001b[0m\u001b[0;34m\u001b[0m\u001b[0;34m\u001b[0m\u001b[0m\n\u001b[1;32m    561\u001b[0m              \u001b[0mprint\u001b[0m\u001b[0;34m(\u001b[0m\u001b[0;34m\"weights:\"\u001b[0m\u001b[0;34m,\u001b[0m \u001b[0mself\u001b[0m\u001b[0;34m.\u001b[0m\u001b[0mref_error_quadrature\u001b[0m\u001b[0;34m.\u001b[0m\u001b[0mweights\u001b[0m\u001b[0;34m)\u001b[0m\u001b[0;34m\u001b[0m\u001b[0;34m\u001b[0m\u001b[0m\n\u001b[0;32m--> 562\u001b[0;31m              \u001b[0mprint\u001b[0m\u001b[0;34m(\u001b[0m\u001b[0;34m\"sol: \"\u001b[0m\u001b[0;34m,\u001b[0m \u001b[0;34m(\u001b[0m\u001b[0mself\u001b[0m\u001b[0;34m.\u001b[0m\u001b[0mu_he\u001b[0m\u001b[0;34m[\u001b[0m\u001b[0;36m0\u001b[0m\u001b[0;34m]\u001b[0m\u001b[0;34m[\u001b[0m\u001b[0;36m0\u001b[0m\u001b[0;34m]\u001b[0m \u001b[0;34m-\u001b[0m \u001b[0mother_solver\u001b[0m\u001b[0;34m.\u001b[0m\u001b[0mu_he\u001b[0m\u001b[0;34m[\u001b[0m\u001b[0;36m0\u001b[0m\u001b[0;34m]\u001b[0m\u001b[0;34m[\u001b[0m\u001b[0;36m0\u001b[0m\u001b[0;34m]\u001b[0m\u001b[0;34m)\u001b[0m\u001b[0;34m**\u001b[0m\u001b[0;36m2\u001b[0m\u001b[0;34m)\u001b[0m\u001b[0;34m\u001b[0m\u001b[0;34m\u001b[0m\u001b[0m\n\u001b[0m\u001b[1;32m    563\u001b[0m \u001b[0;34m\u001b[0m\u001b[0m\n\u001b[1;32m    564\u001b[0m              \u001b[0;31m# must have the same quadrature points for u_he\u001b[0m\u001b[0;34m\u001b[0m\u001b[0;34m\u001b[0m\u001b[0;34m\u001b[0m\u001b[0m\n",
      "\u001b[0;31mNameError\u001b[0m: name 'k' is not defined"
     ]
    }
   ],
   "source": [
    "import sys\n",
    "sys.path.insert(0, '../src')\n",
    "from Driver import grid_refine\n",
    "grid_refine(project_title=\"advection_grid_refine_test\",\n",
    "                d=1,\n",
    "                n_refine=4,\n",
    "                p=2,\n",
    "                problem=\"constant_advection\",\n",
    "                integration_type=\"quadrature\",\n",
    "                solution_representation=\"modal\",\n",
    "                numerical_flux=\"upwind\",\n",
    "                map_type=\"affine\",\n",
    "                form=\"both\",\n",
    "                correction=\"c_dg\",\n",
    "                results_path=None)"
   ]
  },
  {
   "cell_type": "code",
   "execution_count": null,
   "metadata": {},
   "outputs": [],
   "source": []
  }
 ],
 "metadata": {
  "kernelspec": {
   "display_name": "Python 3",
   "language": "python",
   "name": "python3"
  },
  "language_info": {
   "codemirror_mode": {
    "name": "ipython",
    "version": 3
   },
   "file_extension": ".py",
   "mimetype": "text/x-python",
   "name": "python",
   "nbconvert_exporter": "python",
   "pygments_lexer": "ipython3",
   "version": "3.7.9"
  }
 },
 "nbformat": 4,
 "nbformat_minor": 4
}
