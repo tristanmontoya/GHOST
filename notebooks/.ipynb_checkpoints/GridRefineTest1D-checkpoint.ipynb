{
 "cells": [
  {
   "cell_type": "code",
   "execution_count": null,
   "metadata": {},
   "outputs": [],
   "source": [
    "from Driver import grid_refine\n",
    "\n",
    "M_list, error, rates = grid_refine(project_title=\"advection_p2qi_grid_refine_test\",\n",
    "    d=1,\n",
    "    n_refine=4,\n",
    "    p=2,\n",
    "    problem=\"constant_advection\",\n",
    "    integration_type=\"quadrature\",\n",
    "    solution_representation=\"modal\",\n",
    "    numerical_flux=\"upwind\",\n",
    "    map_type=\"isoparametric\",\n",
    "    form=\"weak\",\n",
    "    correction_type=\"dg\",\n",
    "    results_path=None)\n",
    "\n"
   ]
  }
 ],
 "metadata": {
  "kernelspec": {
   "display_name": "Python 3",
   "language": "python",
   "name": "python3"
  },
  "language_info": {
   "codemirror_mode": {
    "name": "ipython",
    "version": 3
   },
   "file_extension": ".py",
   "mimetype": "text/x-python",
   "name": "python",
   "nbconvert_exporter": "python",
   "pygments_lexer": "ipython3",
   "version": "3.7.9"
  }
 },
 "nbformat": 4,
 "nbformat_minor": 4
}
