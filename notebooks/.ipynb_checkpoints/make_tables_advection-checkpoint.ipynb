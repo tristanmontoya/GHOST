{
 "cells": [
  {
   "cell_type": "code",
   "execution_count": 1,
   "metadata": {
    "scrolled": false
   },
   "outputs": [
    {
     "name": "stderr",
     "output_type": "stream",
     "text": [
      "WARNING:root:msh4 requires 3D points, but 2D points given. Appending 0 third component.\n",
      "WARNING:root:Binary Gmsh needs c_size_t (got int64). Converting.\n"
     ]
    },
    {
     "name": "stdout",
     "output_type": "stream",
     "text": [
      "advection_p2b0c0t1_strong\n"
     ]
    },
    {
     "name": "stderr",
     "output_type": "stream",
     "text": [
      "WARNING:root:msh4 requires 3D points, but 2D points given. Appending 0 third component.\n",
      "WARNING:root:Binary Gmsh needs c_size_t (got int64). Converting.\n"
     ]
    },
    {
     "name": "stdout",
     "output_type": "stream",
     "text": [
      "advection_p2b0c0t1_weak\n"
     ]
    },
    {
     "name": "stderr",
     "output_type": "stream",
     "text": [
      "WARNING:root:msh4 requires 3D points, but 2D points given. Appending 0 third component.\n",
      "WARNING:root:Binary Gmsh needs c_size_t (got int64). Converting.\n"
     ]
    },
    {
     "name": "stdout",
     "output_type": "stream",
     "text": [
      "advection_p2b1c0t1_strong\n"
     ]
    },
    {
     "name": "stderr",
     "output_type": "stream",
     "text": [
      "WARNING:root:msh4 requires 3D points, but 2D points given. Appending 0 third component.\n",
      "WARNING:root:Binary Gmsh needs c_size_t (got int64). Converting.\n"
     ]
    },
    {
     "name": "stdout",
     "output_type": "stream",
     "text": [
      "advection_p2b1c0t1_weak\n"
     ]
    },
    {
     "name": "stderr",
     "output_type": "stream",
     "text": [
      "WARNING:root:msh4 requires 3D points, but 2D points given. Appending 0 third component.\n",
      "WARNING:root:Binary Gmsh needs c_size_t (got int64). Converting.\n"
     ]
    },
    {
     "name": "stdout",
     "output_type": "stream",
     "text": [
      "advection_p2b0cpt1_strong\n"
     ]
    },
    {
     "name": "stderr",
     "output_type": "stream",
     "text": [
      "WARNING:root:msh4 requires 3D points, but 2D points given. Appending 0 third component.\n",
      "WARNING:root:Binary Gmsh needs c_size_t (got int64). Converting.\n"
     ]
    },
    {
     "name": "stdout",
     "output_type": "stream",
     "text": [
      "advection_p2b0cpt1_weak\n"
     ]
    },
    {
     "name": "stderr",
     "output_type": "stream",
     "text": [
      "WARNING:root:msh4 requires 3D points, but 2D points given. Appending 0 third component.\n",
      "WARNING:root:Binary Gmsh needs c_size_t (got int64). Converting.\n"
     ]
    },
    {
     "name": "stdout",
     "output_type": "stream",
     "text": [
      "advection_p2b1cpt1_strong\n"
     ]
    },
    {
     "name": "stderr",
     "output_type": "stream",
     "text": [
      "WARNING:root:msh4 requires 3D points, but 2D points given. Appending 0 third component.\n",
      "WARNING:root:Binary Gmsh needs c_size_t (got int64). Converting.\n"
     ]
    },
    {
     "name": "stdout",
     "output_type": "stream",
     "text": [
      "advection_p2b1cpt1_weak\n"
     ]
    },
    {
     "name": "stderr",
     "output_type": "stream",
     "text": [
      "WARNING:root:msh4 requires 3D points, but 2D points given. Appending 0 third component.\n",
      "WARNING:root:Binary Gmsh needs c_size_t (got int64). Converting.\n"
     ]
    },
    {
     "name": "stdout",
     "output_type": "stream",
     "text": [
      "advection_p2b0c0t1_strong\n"
     ]
    },
    {
     "name": "stderr",
     "output_type": "stream",
     "text": [
      "WARNING:root:msh4 requires 3D points, but 2D points given. Appending 0 third component.\n",
      "WARNING:root:Binary Gmsh needs c_size_t (got int64). Converting.\n"
     ]
    },
    {
     "name": "stdout",
     "output_type": "stream",
     "text": [
      "advection_p2b0c0t1_weak\n"
     ]
    },
    {
     "name": "stderr",
     "output_type": "stream",
     "text": [
      "WARNING:root:msh4 requires 3D points, but 2D points given. Appending 0 third component.\n",
      "WARNING:root:Binary Gmsh needs c_size_t (got int64). Converting.\n"
     ]
    },
    {
     "name": "stdout",
     "output_type": "stream",
     "text": [
      "advection_p2b1c0t1_strong\n"
     ]
    },
    {
     "name": "stderr",
     "output_type": "stream",
     "text": [
      "WARNING:root:msh4 requires 3D points, but 2D points given. Appending 0 third component.\n",
      "WARNING:root:Binary Gmsh needs c_size_t (got int64). Converting.\n"
     ]
    },
    {
     "name": "stdout",
     "output_type": "stream",
     "text": [
      "advection_p2b1c0t1_weak\n"
     ]
    },
    {
     "name": "stderr",
     "output_type": "stream",
     "text": [
      "WARNING:root:msh4 requires 3D points, but 2D points given. Appending 0 third component.\n",
      "WARNING:root:Binary Gmsh needs c_size_t (got int64). Converting.\n"
     ]
    },
    {
     "name": "stdout",
     "output_type": "stream",
     "text": [
      "advection_p2b0cpt1_strong\n"
     ]
    },
    {
     "name": "stderr",
     "output_type": "stream",
     "text": [
      "WARNING:root:msh4 requires 3D points, but 2D points given. Appending 0 third component.\n",
      "WARNING:root:Binary Gmsh needs c_size_t (got int64). Converting.\n"
     ]
    },
    {
     "name": "stdout",
     "output_type": "stream",
     "text": [
      "advection_p2b0cpt1_weak\n"
     ]
    },
    {
     "name": "stderr",
     "output_type": "stream",
     "text": [
      "WARNING:root:msh4 requires 3D points, but 2D points given. Appending 0 third component.\n",
      "WARNING:root:Binary Gmsh needs c_size_t (got int64). Converting.\n"
     ]
    },
    {
     "name": "stdout",
     "output_type": "stream",
     "text": [
      "advection_p2b1cpt1_strong\n"
     ]
    },
    {
     "name": "stderr",
     "output_type": "stream",
     "text": [
      "WARNING:root:msh4 requires 3D points, but 2D points given. Appending 0 third component.\n",
      "WARNING:root:Binary Gmsh needs c_size_t (got int64). Converting.\n"
     ]
    },
    {
     "name": "stdout",
     "output_type": "stream",
     "text": [
      "advection_p2b1cpt1_weak\n"
     ]
    },
    {
     "name": "stderr",
     "output_type": "stream",
     "text": [
      "WARNING:root:msh4 requires 3D points, but 2D points given. Appending 0 third component.\n",
      "WARNING:root:Binary Gmsh needs c_size_t (got int64). Converting.\n"
     ]
    },
    {
     "name": "stdout",
     "output_type": "stream",
     "text": [
      "advection_p2b0c0t2_strong\n"
     ]
    },
    {
     "name": "stderr",
     "output_type": "stream",
     "text": [
      "WARNING:root:msh4 requires 3D points, but 2D points given. Appending 0 third component.\n",
      "WARNING:root:Binary Gmsh needs c_size_t (got int64). Converting.\n"
     ]
    },
    {
     "name": "stdout",
     "output_type": "stream",
     "text": [
      "advection_p2b0c0t2_weak\n"
     ]
    },
    {
     "name": "stderr",
     "output_type": "stream",
     "text": [
      "WARNING:root:msh4 requires 3D points, but 2D points given. Appending 0 third component.\n",
      "WARNING:root:Binary Gmsh needs c_size_t (got int64). Converting.\n"
     ]
    },
    {
     "name": "stdout",
     "output_type": "stream",
     "text": [
      "advection_p2b1c0t2_strong\n"
     ]
    },
    {
     "name": "stderr",
     "output_type": "stream",
     "text": [
      "WARNING:root:msh4 requires 3D points, but 2D points given. Appending 0 third component.\n",
      "WARNING:root:Binary Gmsh needs c_size_t (got int64). Converting.\n"
     ]
    },
    {
     "name": "stdout",
     "output_type": "stream",
     "text": [
      "advection_p2b1c0t2_weak\n"
     ]
    },
    {
     "name": "stderr",
     "output_type": "stream",
     "text": [
      "WARNING:root:msh4 requires 3D points, but 2D points given. Appending 0 third component.\n",
      "WARNING:root:Binary Gmsh needs c_size_t (got int64). Converting.\n"
     ]
    },
    {
     "name": "stdout",
     "output_type": "stream",
     "text": [
      "advection_p2b0cpt2_strong\n"
     ]
    },
    {
     "name": "stderr",
     "output_type": "stream",
     "text": [
      "WARNING:root:msh4 requires 3D points, but 2D points given. Appending 0 third component.\n",
      "WARNING:root:Binary Gmsh needs c_size_t (got int64). Converting.\n"
     ]
    },
    {
     "name": "stdout",
     "output_type": "stream",
     "text": [
      "advection_p2b0cpt2_weak\n"
     ]
    },
    {
     "name": "stderr",
     "output_type": "stream",
     "text": [
      "WARNING:root:msh4 requires 3D points, but 2D points given. Appending 0 third component.\n",
      "WARNING:root:Binary Gmsh needs c_size_t (got int64). Converting.\n"
     ]
    },
    {
     "name": "stdout",
     "output_type": "stream",
     "text": [
      "advection_p2b1cpt2_strong\n"
     ]
    },
    {
     "name": "stderr",
     "output_type": "stream",
     "text": [
      "WARNING:root:msh4 requires 3D points, but 2D points given. Appending 0 third component.\n",
      "WARNING:root:Binary Gmsh needs c_size_t (got int64). Converting.\n"
     ]
    },
    {
     "name": "stdout",
     "output_type": "stream",
     "text": [
      "advection_p2b1cpt2_weak\n"
     ]
    }
   ],
   "source": [
    "import sys\n",
    "sys.path.insert(0, '../src')\n",
    "import numpy as np\n",
    "from Driver import write_output_advection\n",
    "            \n",
    "a=np.sqrt(2)\n",
    "p=2\n",
    "p_geo=1\n",
    "M=8\n",
    "L=1.0\n",
    "\n",
    "disctype=1\n",
    "table = (write_output_advection(a=a, p=p, p_geo=p, M=M, L=L,correction_type=\"c_dg\",\n",
    "                             upwind_parameter = 0, discretization_type=disctype, \n",
    "                                headings_disc=True, headings_corr=True, headings_upwind=True)\n",
    "+ write_output_advection(a=a, p=p, p_geo=p, M=M, L=L,correction_type=\"c_dg\",\n",
    "                             upwind_parameter = 1, discretization_type=disctype,\n",
    "                                headings_disc=False, headings_corr=False, headings_upwind=True)\n",
    "+ \"\\\\cmidrule{2-8} \\n\"\n",
    "+ write_output_advection(a=a, p=p, p_geo=p, M=M, L=L,correction_type=\"c_+\",\n",
    "                             upwind_parameter = 0, discretization_type=disctype, \n",
    "                                headings_disc=False, headings_corr=True, headings_upwind=True)\n",
    "+ write_output_advection(a=a, p=p, p_geo=p, M=M, L=L,correction_type=\"c_+\",\n",
    "                             upwind_parameter = 1, discretization_type=disctype, \n",
    "                                headings_disc=False, headings_corr=False, headings_upwind=True)\n",
    "+ \"\\\\midrule \\n\")\n",
    "disctype=3\n",
    "table = table + (write_output_advection(a=a, p=p, p_geo=p, M=M, L=L,correction_type=\"c_dg\",\n",
    "                             upwind_parameter = 0, discretization_type=disctype, \n",
    "                                headings_disc=True, headings_corr=True, headings_upwind=True)\n",
    "+ write_output_advection(a=a, p=p, p_geo=p, M=M, L=L,correction_type=\"c_dg\",\n",
    "                             upwind_parameter = 1, discretization_type=disctype,\n",
    "                                headings_disc=False, headings_corr=False, headings_upwind=True)\n",
    "+ \"\\\\cmidrule{2-8} \\n\"\n",
    "+ write_output_advection(a=a, p=p, p_geo=p, M=M, L=L,correction_type=\"c_+\",\n",
    "                             upwind_parameter = 0, discretization_type=disctype, \n",
    "                                headings_disc=False, headings_corr=True, headings_upwind=True)\n",
    "+ write_output_advection(a=a, p=p, p_geo=p, M=M, L=L,correction_type=\"c_+\",\n",
    "                             upwind_parameter = 1, discretization_type=disctype, \n",
    "                                headings_disc=False, headings_corr=False, headings_upwind=True)\n",
    "+ \"\\\\midrule \\n\")\n",
    "disctype=2\n",
    "table = table + (write_output_advection(a=a, p=p, p_geo=p, M=M, L=L,correction_type=\"c_dg\",\n",
    "                             upwind_parameter = 0, discretization_type=disctype, \n",
    "                                headings_disc=True, headings_corr=True, headings_upwind=True)\n",
    "+ write_output_advection(a=a, p=p, p_geo=p, M=M, L=L,correction_type=\"c_dg\",\n",
    "                             upwind_parameter = 1, discretization_type=disctype,\n",
    "                                headings_disc=False, headings_corr=False, headings_upwind=True)\n",
    "+ \"\\\\cmidrule{2-8} \\n\"\n",
    "+ write_output_advection(a=a, p=p, p_geo=p, M=M, L=L,correction_type=\"c_+\",\n",
    "                             upwind_parameter = 0, discretization_type=disctype, \n",
    "                                headings_disc=False, headings_corr=True, headings_upwind=True)\n",
    "+ write_output_advection(a=a, p=p, p_geo=p, M=M, L=L,correction_type=\"c_+\",\n",
    "                             upwind_parameter = 1, discretization_type=disctype, \n",
    "                                headings_disc=False, headings_corr=False, headings_upwind=True))\n",
    "\n"
   ]
  },
  {
   "cell_type": "markdown",
   "metadata": {},
   "source": []
  },
  {
   "cell_type": "code",
   "execution_count": 2,
   "metadata": {},
   "outputs": [
    {
     "name": "stdout",
     "output_type": "stream",
     "text": [
      "Quadrature I & $c_{\\mathrm{DG}}$ & 0 & 8.558e-15 & -3.121e-16 & -5.757e-16 & -1.443e-15 & -1.887e-15\\\\ \n",
      " &  & 1 & 1.423e-15 & -1.278e-16 & -9.335e-17 & -5.847e-03 & -5.847e-03\\\\ \n",
      "\\cmidrule{2-8} \n",
      " & $c_+$ & 0 & 7.232e-15 & -7.081e-16 & -8.887e-16 & 1.665e-16 & 4.441e-16\\\\ \n",
      " &  & 1 & 1.320e-15 & 6.117e-16 & 5.333e-16 & -4.131e-02 & -4.131e-02\\\\ \n",
      "\\midrule \n",
      "Quadrature I & $c_{\\mathrm{DG}}$ & 0 & 8.558e-15 & -3.121e-16 & -5.757e-16 & -1.443e-15 & -1.887e-15\\\\ \n",
      " &  & 1 & 1.423e-15 & -1.278e-16 & -9.335e-17 & -5.847e-03 & -5.847e-03\\\\ \n",
      "\\cmidrule{2-8} \n",
      " & $c_+$ & 0 & 7.232e-15 & -7.081e-16 & -8.887e-16 & 1.665e-16 & 4.441e-16\\\\ \n",
      " &  & 1 & 1.320e-15 & 6.117e-16 & 5.333e-16 & -4.131e-02 & -4.131e-02\\\\ \n",
      "\\midrule \n",
      "Collocation & $c_{\\mathrm{DG}}$ & 0 & 4.156e-15 & -6.516e-17 & -2.480e-16 & -7.577e-15 & -1.019e-14\\\\ \n",
      " &  & 1 & 3.201e-15 & -8.142e-17 & -4.937e-16 & -5.775e-03 & -5.775e-03\\\\ \n",
      "\\cmidrule{2-8} \n",
      " & $c_+$ & 0 & 5.068e-15 & -1.312e-16 & -3.735e-16 & -3.331e-16 & -4.441e-15\\\\ \n",
      " &  & 1 & 4.211e-15 & -2.686e-16 & -5.489e-16 & -4.008e-02 & -4.008e-02\\\\ \n",
      "\n"
     ]
    }
   ],
   "source": [
    "print(table)"
   ]
  },
  {
   "cell_type": "code",
   "execution_count": null,
   "metadata": {},
   "outputs": [],
   "source": []
  }
 ],
 "metadata": {
  "kernelspec": {
   "display_name": "Python 3",
   "language": "python",
   "name": "python3"
  },
  "language_info": {
   "codemirror_mode": {
    "name": "ipython",
    "version": 3
   },
   "file_extension": ".py",
   "mimetype": "text/x-python",
   "name": "python",
   "nbconvert_exporter": "python",
   "pygments_lexer": "ipython3",
   "version": "3.7.9"
  }
 },
 "nbformat": 4,
 "nbformat_minor": 4
}
