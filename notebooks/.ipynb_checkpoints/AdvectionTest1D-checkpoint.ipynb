{
 "cells": [
  {
   "cell_type": "code",
   "execution_count": 1,
   "metadata": {},
   "outputs": [],
   "source": [
    "# GHOST - Advection Test (1D)\n",
    "\n",
    "import sys  \n",
    "import numpy as np\n",
    "import modepy as mp\n",
    "sys.path.insert(0, '../src')\n",
    "from Mesh import Mesh1D\n",
    "from Discretization import SpatialDiscretization\n",
    "from Solver import Solver\n",
    "\n",
    "# set up periodic mesh\n",
    "mesh = Mesh1D(\"mesh1d\", 0.0, 1.0, 3)\n",
    "left = [1.0, 0.0]\n",
    "right = [1.0, 1.0]\n",
    "mesh.add_bc_on_hyperplanes([left,right],[1,2])\n",
    "mesh.make_periodic([1,2])\n",
    "\n",
    "# discretization order\n",
    "p = 2\n",
    "\n",
    "# volume quadrature order\n",
    "tau = 2*p+1\n",
    "\n",
    "# solver parameters\n",
    "params = {\"project_title\": \"adv_test_1d\",\n",
    "        \"problem\": \"constant_advection\",\n",
    "         \"initial_condition\": \"sine\",\n",
    "         \"wavelength\": np.array([1.0]),\n",
    "          \"wave_speed\":np.ones(1),\n",
    "          \"upwind_parameter\": 1.0,\n",
    "         \"integration_type\": \"quadrature\",\n",
    "         \"solution_degree\": p,\n",
    "         \"volume_quadrature_degree\": tau,\n",
    "         \"time_integrator\": \"rk44\",\n",
    "         \"final_time\": 0.5,\n",
    "         \"time_step_scale\": 0.05}\n",
    "\n",
    "\n",
    "# set up solver\n",
    "solver = Solver(params,mesh)"
   ]
  },
  {
   "cell_type": "code",
   "execution_count": 2,
   "metadata": {},
   "outputs": [
    {
     "data": {
      "text/plain": [
       "<function Discretization.SpatialDiscretization.build_global_residual.<locals>.<lambda>(u_hat, t)>"
      ]
     },
     "execution_count": 2,
     "metadata": {},
     "output_type": "execute_result"
    }
   ],
   "source": [
    "solver.R"
   ]
  },
  {
   "cell_type": "code",
   "execution_count": 3,
   "metadata": {},
   "outputs": [
    {
     "data": {
      "text/plain": [
       "[array([[ 1.01290544,  0.38215259, -0.18947495]]),\n",
       " array([[ 1.05471187e-15, -7.64305190e-01, -9.99200722e-16]]),\n",
       " array([[-1.01290544,  0.38215259,  0.18947495]])]"
      ]
     },
     "execution_count": 3,
     "metadata": {},
     "output_type": "execute_result"
    }
   ],
   "source": [
    "solver.run()\n",
    "solver.u_hat"
   ]
  },
  {
   "cell_type": "code",
   "execution_count": 4,
   "metadata": {},
   "outputs": [
    {
     "name": "stdout",
     "output_type": "stream",
     "text": [
      "f_trans_omega: [array([[0.23385604, 0.8660254 , 0.95893961]])]\n",
      "f_trans_gamma: [array([[-0.05139333]]), array([[0.88468553]])]\n",
      "f_trans_omega: [array([[ 7.25083568e-01,  1.57795124e-15, -7.25083568e-01]])]\n",
      "f_trans_gamma: [array([[-0.88468553]]), array([[-0.93607886]])]\n",
      "f_trans_omega: [array([[-0.95893961, -0.8660254 , -0.23385604]])]\n",
      "f_trans_gamma: [array([[0.93607886]]), array([[0.05139333]])]\n"
     ]
    },
    {
     "data": {
      "text/plain": [
       "[array([[  4.18948968, -17.02750652,  18.24840753]]),\n",
       " array([[  4.18948968, -17.02750652,  18.24840753]]),\n",
       " array([[  4.18948968, -17.02750652,  18.24840753]])]"
      ]
     },
     "execution_count": 4,
     "metadata": {},
     "output_type": "execute_result"
    }
   ],
   "source": [
    "solver.R(solver.u_hat,0.0)"
   ]
  },
  {
   "cell_type": "code",
   "execution_count": 5,
   "metadata": {},
   "outputs": [
    {
     "data": {
      "text/plain": [
       "{(0, 0): 1, (2, 1): 2}"
      ]
     },
     "execution_count": 5,
     "metadata": {},
     "output_type": "execute_result"
    }
   ],
   "source": [
    "solver.discretization.mesh.local_to_bc_index"
   ]
  },
  {
   "cell_type": "code",
   "execution_count": 6,
   "metadata": {},
   "outputs": [
    {
     "data": {
      "text/plain": [
       "array([[ 1.29765633e-14, -4.84722870e-15, -1.90355992e-14],\n",
       "       [ 4.08248290e+00,  6.53197265e+00,  4.08248290e+00],\n",
       "       [-1.22474487e+01, -2.52877010e-14,  1.22474487e+01]])"
      ]
     },
     "execution_count": 6,
     "metadata": {},
     "output_type": "execute_result"
    }
   ],
   "source": [
    "solver.discretization.vol[0][0]"
   ]
  },
  {
   "cell_type": "code",
   "execution_count": null,
   "metadata": {},
   "outputs": [],
   "source": []
  }
 ],
 "metadata": {
  "kernelspec": {
   "display_name": "Python 3",
   "language": "python",
   "name": "python3"
  },
  "language_info": {
   "codemirror_mode": {
    "name": "ipython",
    "version": 3
   },
   "file_extension": ".py",
   "mimetype": "text/x-python",
   "name": "python",
   "nbconvert_exporter": "python",
   "pygments_lexer": "ipython3",
   "version": "3.7.9"
  }
 },
 "nbformat": 4,
 "nbformat_minor": 4
}
