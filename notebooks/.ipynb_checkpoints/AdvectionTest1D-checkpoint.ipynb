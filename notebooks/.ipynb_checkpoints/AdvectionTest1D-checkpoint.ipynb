{
 "cells": [
  {
   "cell_type": "code",
   "execution_count": 5,
   "metadata": {
    "scrolled": true
   },
   "outputs": [],
   "source": [
    "# GHOST - Advection Test (1D)\n",
    "\n",
    "import sys  \n",
    "import numpy as np\n",
    "import modepy as mp\n",
    "sys.path.insert(0, '../src')\n",
    "from Mesh import Mesh1D\n",
    "from Discretization import SpatialDiscretization\n",
    "from Solver import Solver\n",
    "\n",
    "\n",
    "# discretization order\n",
    "p = 4\n",
    "\n",
    "p_geo = p\n",
    "\n",
    "# set up periodic mesh\n",
    "mesh = Mesh1D(\"mesh1d\", 0.0, 1.0, 4)\n",
    "left = [1.0, 0.0]\n",
    "right = [1.0, 1.0]\n",
    "mesh.add_bc_on_hyperplanes([left,right],[1,2])\n",
    "mesh.make_periodic([1,2])\n",
    "\n",
    "mesh.map_mesh(f_map=Mesh1D.grid_transformation(warp_factor=0.2), p_geo=p_geo)\n",
    "\n",
    "\n",
    "# volume quadrature order\n",
    "tau = 2*p+1\n",
    "\n",
    "# solver parameters\n",
    "params = {\"project_title\": \"adv_test_1d\",\n",
    "         \"problem\": \"constant_advection\",\n",
    "         \"initial_condition\": \"sine\",\n",
    "         \"wavelength\": np.array([1.0]),\n",
    "         \"wave_speed\": np.ones(1),\n",
    "         \"upwind_parameter\": 1.0,\n",
    "         \"integration_type\": \"quadrature\",\n",
    "         \"solution_degree\": p,\n",
    "         \"volume_quadrature_degree\": tau,\n",
    "         \"form\": \"strong\",\n",
    "         \"solution_representation\": \"nodal\",\n",
    "         \"time_integrator\": \"rk44\",\n",
    "         \"final_time\": 1.0,\n",
    "         \"time_step_scale\": 0.1}\n",
    "\n",
    "# set up solver\n",
    "solver = Solver(params,mesh)"
   ]
  },
  {
   "cell_type": "code",
   "execution_count": 6,
   "metadata": {
    "scrolled": true
   },
   "outputs": [
    {
     "name": "stdout",
     "output_type": "stream",
     "text": [
      "dt =  0.002777777777777778\n"
     ]
    },
    {
     "data": {
      "image/png": "[encoded data removed]",
      "text/plain": [
       "<Figure size 432x288 with 1 Axes>"
      ]
     },
     "metadata": {
      "needs_background": "light"
     },
     "output_type": "display_data"
    }
   ],
   "source": [
    "solver.run()\n",
    "solver.post_process()\n",
    "solver.plot(plot_nodes=True, plot_exact=True)"
   ]
  },
  {
   "cell_type": "code",
   "execution_count": null,
   "metadata": {},
   "outputs": [],
   "source": []
  }
 ],
 "metadata": {
  "kernelspec": {
   "display_name": "Python 3",
   "language": "python",
   "name": "python3"
  },
  "language_info": {
   "codemirror_mode": {
    "name": "ipython",
    "version": 3
   },
   "file_extension": ".py",
   "mimetype": "text/x-python",
   "name": "python",
   "nbconvert_exporter": "python",
   "pygments_lexer": "ipython3",
   "version": "3.7.9"
  }
 },
 "nbformat": 4,
 "nbformat_minor": 4
}
