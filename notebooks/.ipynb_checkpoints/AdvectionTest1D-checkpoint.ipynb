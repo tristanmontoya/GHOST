{
 "cells": [
  {
   "cell_type": "code",
   "execution_count": 1,
   "metadata": {
    "scrolled": true
   },
   "outputs": [],
   "source": [
    "# GHOST - Advection Test (1D)\n",
    "\n",
    "import sys  \n",
    "import numpy as np\n",
    "import modepy as mp\n",
    "sys.path.insert(0, '../src')\n",
    "from Mesh import Mesh1D\n",
    "from Discretization import SpatialDiscretization\n",
    "from Solver import Solver\n",
    "\n",
    "\n",
    "# discretization order\n",
    "p = 2\n",
    "\n",
    "p_geo = 1\n",
    "\n",
    "# set up periodic mesh\n",
    "mesh = Mesh1D(\"mesh1d\", 0.0, 1.0, 3)\n",
    "left = [1.0, 0.0]\n",
    "right = [1.0, 1.0]\n",
    "mesh.add_bc_on_hyperplanes([left,right],[1,2])\n",
    "mesh.make_periodic([1,2])\n",
    "\n",
    "mesh.map_mesh(f_map=Mesh1D.grid_transformation(warp_factor=0.1), p_geo=p_geo)\n",
    "\n",
    "\n",
    "# volume quadrature order\n",
    "tau = 2*p+1\n",
    "\n",
    "# solver parameters\n",
    "params = {\"project_title\": \"adv_test_1d\",\n",
    "        \"problem\": \"constant_advection\",\n",
    "         \"initial_condition\": \"constant\",\n",
    "         \"wavelength\": np.array([1.0]),\n",
    "          \"wave_speed\": np.ones(1),\n",
    "          \"upwind_parameter\": 1.0,\n",
    "         \"integration_type\": \"quadrature\",\n",
    "         \"solution_degree\": p,\n",
    "         \"volume_quadrature_degree\": tau,\n",
    "         \"form\": \"strong\",\n",
    "         \"time_integrator\": \"rk44\",\n",
    "         \"final_time\": 0.8,\n",
    "         \"time_step_scale\": 0.01}\n",
    "\n",
    "# set up solver\n",
    "solver = Solver(params,mesh)"
   ]
  },
  {
   "cell_type": "code",
   "execution_count": 2,
   "metadata": {
    "scrolled": true
   },
   "outputs": [
    {
     "name": "stdout",
     "output_type": "stream",
     "text": [
      "dt =  0.0006666666666666668\n",
      "k:  0\n",
      "f_omega:  [[[1. 1. 1.]]]\n",
      "f_trans_omega:  [array([[1., 1., 1.]])]\n",
      "f_star  [[-1.]]\n",
      "f_star  [[1.]]\n",
      "vol_res:  [-3.71564348e-17  1.16660181e+01 -7.10542736e-15]\n",
      "fac_res: [array([ 3.36768933, -5.83300903,  7.53038228]), array([-3.36768933, -5.83300903, -7.53038228])]\n",
      "res:  [-3.71564348e-17 -2.13162821e-14 -1.77635684e-15]\n",
      "k:  1\n",
      "f_omega:  [[[1. 1. 1.]]]\n",
      "f_trans_omega:  [array([[1., 1., 1.]])]\n",
      "f_star  [[-1.]]\n",
      "f_star  [[1.]]\n",
      "vol_res:  [-3.94768003e-16  1.46969385e+01 -7.10542736e-15]\n",
      "fac_res: [array([ 5.34491107, -9.25765754, 11.95158449]), array([ -5.34491107,  -9.25765754, -11.95158449])]\n",
      "res:  [-3.94768003e-16 -3.81837662e+00  1.77635684e-15]\n",
      "k:  2\n",
      "f_omega:  [[[1. 1. 1.]]]\n",
      "f_trans_omega:  [array([[1., 1., 1.]])]\n",
      "f_star  [[-1.]]\n",
      "f_star  [[1.]]\n",
      "vol_res:  [-3.31239576e-16  1.98555658e+01 -3.55271368e-15]\n",
      "fac_res: [array([  9.75553891, -16.89708904,  21.81404816]), array([ -9.75553891, -16.89708904, -21.81404816])]\n",
      "res:  [-3.31239576e-16 -1.39386123e+01  1.42108547e-14]\n",
      "k:  0\n",
      "f_omega:  [[[1. 1. 1.]]]\n",
      "f_trans_omega:  [array([[1., 1., 1.]])]\n",
      "f_star  [[-0.99430959]]\n",
      "f_star  [[1.]]\n",
      "vol_res:  [-3.71564348e-17  1.16660181e+01 -7.10542736e-15]\n",
      "fac_res: [array([ 3.34852578, -5.79981679,  7.48753128]), array([-3.36768933, -5.83300903, -7.53038228])]\n",
      "res:  [-0.01916355  0.03319224 -0.042851  ]\n",
      "k:  1\n",
      "f_omega:  [[[1.00120748 1.         0.99879252]]]\n",
      "f_trans_omega:  [array([[1.00120748, 1.        , 0.99879252]])]\n",
      "f_star  [[-1.]]\n",
      "f_star  [[0.99844115]]\n",
      "vol_res:  [-3.77194596e-16  1.46969385e+01 -2.95770181e-02]\n",
      "fac_res: [array([ 5.34491107, -9.25765754, 11.95158449]), array([ -5.33657918,  -9.24322628, -11.93295381])]\n",
      "res:  [ 0.00833189 -3.80394536 -0.01094634]\n",
      "k:  2\n",
      "f_omega:  [[[1.00440778 1.         0.99559222]]]\n",
      "f_trans_omega:  [array([[1.00440778, 1.        , 0.99559222]])]\n",
      "f_star  [[-0.99844115]]\n",
      "f_star  [[0.99430959]]\n",
      "vol_res:  [-2.50227603e-16  1.98555658e+01 -1.45864818e-01]\n",
      "fac_res: [array([  9.74033153, -16.87074909,  21.78004342]), array([ -9.70002585, -16.8009376 , -21.68991718])]\n",
      "res:  [  0.04030568 -13.81612093  -0.05573857]\n",
      "k:  0\n",
      "f_omega:  [[[0.99997595 1.00000678 0.99999695]]]\n",
      "f_trans_omega:  [array([[0.99997595, 1.00000678, 0.99999695]])]\n",
      "f_star  [[-0.99433972]]\n",
      "f_star  [[0.99998645]]\n",
      "vol_res:  [-3.72635255e-17  1.16659654e+01  2.04083530e-04]\n",
      "fac_res: [array([ 3.34862725, -5.79999254,  7.48775817]), array([-3.3676437 , -5.83292999, -7.53028023])]\n",
      "res:  [-0.01901644  0.03304284 -0.04231798]\n",
      "k:  1\n",
      "f_omega:  [[[1.00120257 1.00000485 0.99879674]]]\n",
      "f_trans_omega:  [array([[1.00120257, 1.00000485, 0.99879674]])]\n",
      "f_star  [[-0.99998645]]\n",
      "f_star  [[0.99844324]]\n",
      "vol_res:  [-3.77261789e-16  1.46969673e+01 -2.94652340e-02]\n",
      "fac_res: [array([ 5.34483864, -9.25753209, 11.95142254]), array([ -5.33659033,  -9.24324559, -11.93297875])]\n",
      "res:  [ 0.00824831 -3.80381036 -0.01102144]\n",
      "k:  2\n",
      "f_omega:  [[[1.00436679 1.00002419 0.99562871]]]\n",
      "f_trans_omega:  [array([[1.00436679, 1.00002419, 0.99562871]])]\n",
      "f_star  [[-0.99844324]]\n",
      "f_star  [[0.99433972]]\n",
      "vol_res:  [-2.50942676e-16  1.98557544e+01 -1.44582970e-01]\n",
      "fac_res: [array([  9.74035188, -16.87078434,  21.78008893]), array([ -9.70031978, -16.80144671, -21.69057444])]\n",
      "res:  [  0.0400321  -13.81647666  -0.05506848]\n",
      "k:  0\n",
      "f_omega:  [[[0.99995229 1.00001334 0.99999409]]]\n",
      "f_trans_omega:  [array([[0.99995229, 1.00001334, 0.99999409]])]\n",
      "f_star  [[-0.98867972]]\n",
      "f_star  [[0.99997341]]\n",
      "vol_res:  [-3.73696531e-17  1.16659135e+01  4.06329843e-04]\n",
      "fac_res: [array([ 3.32956614, -5.76697772,  7.44513623]), array([-3.36759978, -5.83285392, -7.53018203])]\n",
      "res:  [-0.03803364  0.06608184 -0.08463947]\n",
      "k:  1\n",
      "f_omega:  [[[1.00240498 1.0000097  0.9975935 ]]]\n",
      "f_trans_omega:  [array([[1.00240498, 1.0000097 , 0.9975935 ]])]\n",
      "f_star  [[-0.99997341]]\n",
      "f_star  [[0.99688647]]\n",
      "vol_res:  [-3.59756801e-16  1.46969956e+01 -5.89283767e-02]\n",
      "fac_res: [array([ 5.34476894, -9.25741136, 11.95126667]), array([ -5.32826954,  -9.22883357, -11.9143729 ])]\n",
      "res:  [ 0.01649939 -3.78924932 -0.02203461]\n",
      "k:  2\n",
      "f_omega:  [[[1.00873396 1.00004789 0.99125735]]]\n",
      "f_trans_omega:  [array([[1.00873396, 1.00004789, 0.99125735]])]\n",
      "f_star  [[-0.99688647]]\n",
      "f_star  [[0.98867972]]\n",
      "vol_res:  [-1.70641598e-16  1.98559405e+01 -2.89173385e-01]\n",
      "fac_res: [array([  9.72516477, -16.84447949,  21.74612952]), array([ -9.64510346, -16.70580923, -21.56710698])]\n",
      "res:  [  0.08006131 -13.69434826  -0.11015085]\n"
     ]
    },
    {
     "data": {
      "image/png": "[encoded data removed]",
      "text/plain": [
       "<Figure size 432x288 with 1 Axes>"
      ]
     },
     "metadata": {
      "needs_background": "light"
     },
     "output_type": "display_data"
    }
   ],
   "source": [
    "solver.run()\n",
    "solver.post_process()\n",
    "solver.plot(plot_nodes=True, plot_exact=True, geometry_resolution=50)"
   ]
  },
  {
   "cell_type": "code",
   "execution_count": 3,
   "metadata": {},
   "outputs": [
    {
     "data": {
      "image/png": "[encoded data removed]",
      "text/plain": [
       "<Figure size 432x288 with 1 Axes>"
      ]
     },
     "metadata": {
      "needs_background": "light"
     },
     "output_type": "display_data"
    }
   ],
   "source": [
    "solver.discretization.plot(plot_nodes=True, plot_geometry_nodes=True)"
   ]
  },
  {
   "cell_type": "code",
   "execution_count": 4,
   "metadata": {},
   "outputs": [
    {
     "data": {
      "text/plain": [
       "[array([0.20996794, 0.20996794, 0.20996794]),\n",
       " array([0.16666667, 0.16666667, 0.16666667]),\n",
       " array([0.1233654, 0.1233654, 0.1233654])]"
      ]
     },
     "execution_count": 4,
     "metadata": {},
     "output_type": "execute_result"
    }
   ],
   "source": [
    "solver.discretization.J_omega"
   ]
  },
  {
   "cell_type": "code",
   "execution_count": 5,
   "metadata": {},
   "outputs": [
    {
     "data": {
      "text/plain": [
       "array([[0.20996794, 0.20996794, 0.20996794],\n",
       "       [0.16666667, 0.16666667, 0.16666667],\n",
       "       [0.1233654 , 0.1233654 , 0.1233654 ]])"
      ]
     },
     "execution_count": 5,
     "metadata": {},
     "output_type": "execute_result"
    }
   ],
   "source": [
    "np.linalg.eigvals(solver.discretization.M_J)"
   ]
  },
  {
   "cell_type": "code",
   "execution_count": 6,
   "metadata": {},
   "outputs": [
    {
     "data": {
      "text/plain": [
       "array([[ 1.01929054e-11,  6.48954660e+03, -1.94336417e+04]])"
      ]
     },
     "execution_count": 6,
     "metadata": {},
     "output_type": "execute_result"
    }
   ],
   "source": [
    "solver.discretization.vol[0] @ np.array([2000., 1., 1.])"
   ]
  },
  {
   "cell_type": "code",
   "execution_count": null,
   "metadata": {},
   "outputs": [],
   "source": []
  }
 ],
 "metadata": {
  "kernelspec": {
   "display_name": "Python 3",
   "language": "python",
   "name": "python3"
  },
  "language_info": {
   "codemirror_mode": {
    "name": "ipython",
    "version": 3
   },
   "file_extension": ".py",
   "mimetype": "text/x-python",
   "name": "python",
   "nbconvert_exporter": "python",
   "pygments_lexer": "ipython3",
   "version": "3.7.9"
  }
 },
 "nbformat": 4,
 "nbformat_minor": 4
}
