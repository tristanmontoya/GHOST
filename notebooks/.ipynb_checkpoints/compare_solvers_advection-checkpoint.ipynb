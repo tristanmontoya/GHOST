{
 "cells": [
  {
   "cell_type": "code",
   "execution_count": 1,
   "metadata": {},
   "outputs": [],
   "source": [
    "p=3\n",
    "M=5\n",
    "L=1.0\n",
    "p_geo=1\n",
    "c=\"c_+\""
   ]
  },
  {
   "cell_type": "code",
   "execution_count": 2,
   "metadata": {},
   "outputs": [
    {
     "ename": "SyntaxError",
     "evalue": "invalid syntax (<ipython-input-2-9e420ee0855b>, line 20)",
     "output_type": "error",
     "traceback": [
      "\u001b[0;36m  File \u001b[0;32m\"<ipython-input-2-9e420ee0855b>\"\u001b[0;36m, line \u001b[0;32m20\u001b[0m\n\u001b[0;31m    weak = advection_driver(=np.sqrt(2),\u001b[0m\n\u001b[0m                            ^\u001b[0m\n\u001b[0;31mSyntaxError\u001b[0m\u001b[0;31m:\u001b[0m invalid syntax\n"
     ]
    }
   ],
   "source": [
    "import sys  \n",
    "import pickle\n",
    "sys.path.insert(0, '../src')\n",
    "from Driver import euler_driver\n",
    "\n",
    "n_t = 28000\n",
    "\n",
    "if c == \"c_dg\":\n",
    "    c_text = \"$c_{\\\\textrm{DG}}$\"\n",
    "elif c == \"c_+\":\n",
    "    c_text = \"$c_+$\"\n",
    "\n",
    "for discretization_type in range(1,4):\n",
    "    for beta in range(0,1):\n",
    "        strong = advection_driver(a=np.sqrt(2), \n",
    "                                p=p, M=M, L=L,\n",
    "                                p_geo=p_geo, c=c, \n",
    "                                discretization_type=discretization_type,\n",
    "                                form=\"strong\", run=False)\n",
    "        weak = advection_driver(a=np.sqrt(2), \n",
    "                                p=p, M=M, L=L,\n",
    "                                p_geo=p_geo, c=c, \n",
    "                                discretization_type=discretization_type,\n",
    "                                form=\"weak\", run=False)\n",
    "        strong.load_solution(time_step=n_t)\n",
    "        strong.post_process(error_quadrature_degree=4*p)\n",
    "        weak.load_solution(time_step=n_t)\n",
    "        weak.post_process(error_quadrature_degree=4*p)\n",
    "\n",
    "        diff = strong.calculate_difference(weak)\n",
    "        strong_cons_error = pickle.load(open(\"../results/\" + strong.params[\"project_title\"] + \"/conservation_error.dat\", \"rb\"))\n",
    "        weak_cons_error = pickle.load(open(\"../results/\" + weak.params[\"project_title\"] + \"/conservation_error.dat\", \"rb\"))\n",
    "#         strong_energy_error = pickle.load(open(\"../results/\" + strong.params[\"project_title\"] + \"/energy_error.dat\", \"rb\"))\n",
    "#         weak_energy_error = pickle.load(open(\"../results/\" + weak.params[\"project_title\"] + \"/energy_error.dat\", \"rb\"))   \n",
    "        strong_sol_error = pickle.load(open(\"../results/\" + strong.params[\"project_title\"] + \"/solution_error.dat\", \"rb\"))\n",
    "        weak_sol_error = pickle.load(open(\"../results/\" + weak.params[\"project_title\"] + \"/solution_error.dat\", \"rb\"))\n",
    "\n",
    "        print(\"& \", c_text, \" & \" str(beta) \" & \", \"{:.3e}\".format(diff[0]), \" & \",\n",
    "        \"{:.3e}\".format(strong_cons_error[0]), \"&\",\n",
    "        \"{:.3e}\".format(weak_cons_error[0]), \"&\", \n",
    "        \"{:.3e}\".format(strong_sol_error[0]), \"&\",\n",
    "        \"{:.3e}\".format(weak_sol_error[0]), \"\\\\\\\\\")"
   ]
  },
  {
   "cell_type": "code",
   "execution_count": null,
   "metadata": {},
   "outputs": [],
   "source": []
  }
 ],
 "metadata": {
  "celltoolbar": "Tags",
  "kernelspec": {
   "display_name": "Python 3",
   "language": "python",
   "name": "python3"
  },
  "language_info": {
   "codemirror_mode": {
    "name": "ipython",
    "version": 3
   },
   "file_extension": ".py",
   "mimetype": "text/x-python",
   "name": "python",
   "nbconvert_exporter": "python",
   "pygments_lexer": "ipython3",
   "version": "3.7.9"
  }
 },
 "nbformat": 4,
 "nbformat_minor": 4
}
