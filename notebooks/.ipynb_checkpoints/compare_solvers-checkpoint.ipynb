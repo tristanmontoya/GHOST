{
 "cells": [
  {
   "cell_type": "code",
   "execution_count": 12,
   "metadata": {},
   "outputs": [],
   "source": [
    "mach_number=0.4\n",
    "p=2\n",
    "M=11\n",
    "L=10.0\n",
    "p_geo=p\n",
    "c=\"c_+\"\n",
    "discretization_type=1"
   ]
  },
  {
   "cell_type": "code",
   "execution_count": 13,
   "metadata": {},
   "outputs": [
    {
     "name": "stderr",
     "output_type": "stream",
     "text": [
      "WARNING:root:msh4 requires 3D points, but 2D points given. Appending 0 third component.\n",
      "WARNING:root:Binary Gmsh needs c_size_t (got int64). Converting.\n"
     ]
    },
    {
     "name": "stdout",
     "output_type": "stream",
     "text": [
      "running solver euler_m04p2cpt1_strong\n"
     ]
    },
    {
     "name": "stderr",
     "output_type": "stream",
     "text": [
      "WARNING:root:msh4 requires 3D points, but 2D points given. Appending 0 third component.\n",
      "WARNING:root:Binary Gmsh needs c_size_t (got int64). Converting.\n"
     ]
    },
    {
     "name": "stdout",
     "output_type": "stream",
     "text": [
      "running solver euler_m04p2cpt1_weak\n",
      "& &  1 & 3.081e-14  &  2.842e-13 & 8.527e-14 & 1.113e-01 & 1.113e-01 \\\\\n",
      "& &  2 & 8.561e-14  &  2.380e-13 & -4.690e-13 & 4.035e-01 & 4.035e-01 \\\\\n",
      "& &  3 & 8.376e-14  &  6.928e-13 & 7.851e-13 & 2.829e-01 & 2.829e-01 \\\\\n",
      "& &  4 & 6.780e-14  &  6.821e-13 & 2.558e-13 & 3.066e-01 & 3.066e-01 \\\\\n"
     ]
    }
   ],
   "source": [
    "import sys  \n",
    "import pickle\n",
    "sys.path.insert(0, '../src')\n",
    "from Driver import euler_driver\n",
    "strong = euler_driver(mach_number=mach_number, \n",
    "                        p=p, M=M, L=L,\n",
    "                        p_geo=p_geo, c=c, \n",
    "                        discretization_type=discretization_type,\n",
    "                        form=\"strong\", run=False)\n",
    "weak = euler_driver(mach_number=mach_number, \n",
    "                        p=p, M=M, L=L,\n",
    "                        p_geo=p_geo, c=c, \n",
    "                        discretization_type=discretization_type,\n",
    "                        form=\"weak\", run=False)\n",
    "\n",
    "n_t = 20000 + (p-2)*8000\n",
    "\n",
    "strong.load_solution(time_step=n_t)\n",
    "strong.post_process(error_quadrature_degree=4*p)\n",
    "weak.load_solution(time_step=n_t)\n",
    "weak.post_process(error_quadrature_degree=4*p)\n",
    "\n",
    "diff = strong.calculate_difference(weak)\n",
    "strong_cons_error = pickle.load(open(\"../results/\" + strong.params[\"project_title\"] + \"/conservation_error.dat\", \"rb\"))\n",
    "weak_cons_error = pickle.load(open(\"../results/\" + weak.params[\"project_title\"] + \"/conservation_error.dat\", \"rb\"))\n",
    "strong_sol_error = pickle.load(open(\"../results/\" + strong.params[\"project_title\"] + \"/solution_error.dat\", \"rb\"))\n",
    "weak_sol_error = pickle.load(open(\"../results/\" + weak.params[\"project_title\"] + \"/solution_error.dat\", \"rb\"))\n",
    "for e in range(0,4):\n",
    "    print(\"& & \", e+1, \"&\", \"{:.3e}\".format(diff[e]), \" & \",\n",
    "    \"{:.3e}\".format(strong_cons_error[e]), \"&\",\n",
    "    \"{:.3e}\".format(weak_cons_error[e]), \"&\", \n",
    "    \"{:.3e}\".format(strong_sol_error[e]), \"&\",\n",
    "    \"{:.3e}\".format(weak_sol_error[e]), \"\\\\\\\\\")"
   ]
  },
  {
   "cell_type": "code",
   "execution_count": 3,
   "metadata": {},
   "outputs": [],
   "source": [
    "\n",
    "#strong.plot(equation_index=0, u_range=[0.8,1.0])\n",
    "#weak.plot(equation_index=0, u_range=[0.8,1.0])"
   ]
  },
  {
   "cell_type": "code",
   "execution_count": null,
   "metadata": {},
   "outputs": [],
   "source": []
  }
 ],
 "metadata": {
  "celltoolbar": "Tags",
  "kernelspec": {
   "display_name": "Python 3",
   "language": "python",
   "name": "python3"
  },
  "language_info": {
   "codemirror_mode": {
    "name": "ipython",
    "version": 3
   },
   "file_extension": ".py",
   "mimetype": "text/x-python",
   "name": "python",
   "nbconvert_exporter": "python",
   "pygments_lexer": "ipython3",
   "version": "3.7.9"
  }
 },
 "nbformat": 4,
 "nbformat_minor": 4
}
