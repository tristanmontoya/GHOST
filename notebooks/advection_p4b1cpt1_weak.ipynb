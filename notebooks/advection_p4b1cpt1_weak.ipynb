{
 "cells": [
  {
   "cell_type": "markdown",
   "id": "9702d841",
   "metadata": {
    "papermill": {
     "duration": 0.00331,
     "end_time": "2021-10-27T13:33:10.518722",
     "exception": false,
     "start_time": "2021-10-27T13:33:10.515412",
     "status": "completed"
    },
    "tags": []
   },
   "source": [
    "# GHOST driver - linear advection equation"
   ]
  },
  {
   "cell_type": "code",
   "execution_count": 1,
   "id": "6417d53b",
   "metadata": {
    "execution": {
     "iopub.execute_input": "2021-10-27T13:33:10.528436Z",
     "iopub.status.busy": "2021-10-27T13:33:10.527954Z",
     "iopub.status.idle": "2021-10-27T13:33:10.530112Z",
     "shell.execute_reply": "2021-10-27T13:33:10.529617Z"
    },
    "papermill": {
     "duration": 0.008556,
     "end_time": "2021-10-27T13:33:10.530228",
     "exception": false,
     "start_time": "2021-10-27T13:33:10.521672",
     "status": "completed"
    },
    "tags": [
     "parameters"
    ]
   },
   "outputs": [],
   "source": [
    "p=2\n",
    "M=8\n",
    "L=1\n",
    "p_map=1\n",
    "c=\"c_+\"\n",
    "discretization_type=1\n",
    "upwind_parameter=0.0\n",
    "form=\"weak\""
   ]
  },
  {
   "cell_type": "code",
   "execution_count": 2,
   "id": "1c376abc",
   "metadata": {
    "execution": {
     "iopub.execute_input": "2021-10-27T13:33:10.539289Z",
     "iopub.status.busy": "2021-10-27T13:33:10.538554Z",
     "iopub.status.idle": "2021-10-27T13:33:10.540399Z",
     "shell.execute_reply": "2021-10-27T13:33:10.540899Z"
    },
    "papermill": {
     "duration": 0.007852,
     "end_time": "2021-10-27T13:33:10.541034",
     "exception": false,
     "start_time": "2021-10-27T13:33:10.533182",
     "status": "completed"
    },
    "tags": [
     "injected-parameters"
    ]
   },
   "outputs": [],
   "source": [
    "# Parameters\n",
    "p = 4\n",
    "p_map = 1\n",
    "upwind_parameter = 1.0\n",
    "c = \"c_+\"\n",
    "discretization_type = 1\n",
    "form = \"weak\"\n"
   ]
  },
  {
   "cell_type": "code",
   "execution_count": 3,
   "id": "377ffac7",
   "metadata": {
    "execution": {
     "iopub.execute_input": "2021-10-27T13:33:10.553135Z",
     "iopub.status.busy": "2021-10-27T13:33:10.552661Z",
     "iopub.status.idle": "2021-10-27T14:24:24.207029Z",
     "shell.execute_reply": "2021-10-27T14:24:24.207697Z"
    },
    "papermill": {
     "duration": 3073.664216,
     "end_time": "2021-10-27T14:24:24.208125",
     "exception": false,
     "start_time": "2021-10-27T13:33:10.543909",
     "status": "completed"
    },
    "tags": []
   },
   "outputs": [
    {
     "name": "stderr",
     "output_type": "stream",
     "text": [
      "Matplotlib created a temporary config/cache directory at /tmp/matplotlib-y58qgm0q because the default path (/home/z/zingg/tmontoya/.config/matplotlib) is not a writable directory; it is highly recommended to set the MPLCONFIGDIR environment variable to a writable directory, in particular to speed up the import of Matplotlib and to better support multiprocessing.\n"
     ]
    },
    {
     "name": "stdout",
     "output_type": "stream",
     "text": [
      "advection_p4b1cpt1_weak\n"
     ]
    }
   ],
   "source": [
    "import sys  \n",
    "import numpy as np\n",
    "sys.path.insert(0, '../src')\n",
    "from Driver import advection_driver\n",
    "\n",
    "solver = advection_driver(a=np.sqrt(2), theta=np.pi/4, p=p, M=M, L=L,\n",
    "                        p_map=p_map, c=c, \n",
    "                        discretization_type=discretization_type,\n",
    "                        upwind_parameter=upwind_parameter,\n",
    "                        new_mesh=False,form=form,restart=True,run=True)"
   ]
  }
 ],
 "metadata": {
  "celltoolbar": "Tags",
  "interpreter": {
   "hash": "8a4c5cff9d1eb01f6f91880bd866b35b24d8468d7e92aa7ef6f6962744ecb1db"
  },
  "kernelspec": {
   "display_name": "Python 3.9.5 64-bit ('base': conda)",
   "name": "python3"
  },
  "language_info": {
   "codemirror_mode": {
    "name": "ipython",
    "version": 3
   },
   "file_extension": ".py",
   "mimetype": "text/x-python",
   "name": "python",
   "nbconvert_exporter": "python",
   "pygments_lexer": "ipython3",
   "version": "3.8.5"
  },
  "papermill": {
   "default_parameters": {},
   "duration": 3078.137719,
   "end_time": "2021-10-27T14:24:24.621914",
   "environment_variables": {},
   "exception": null,
   "input_path": "advection_driver.ipynb",
   "output_path": "advection_p4b1cpt1_weak.ipynb",
   "parameters": {
    "c": "c_+",
    "discretization_type": 1,
    "form": "weak",
    "p": 4,
    "p_map": 1,
    "upwind_parameter": 1.0
   },
   "start_time": "2021-10-27T13:33:06.484195",
   "version": "2.3.3"
  }
 },
 "nbformat": 4,
 "nbformat_minor": 5
}