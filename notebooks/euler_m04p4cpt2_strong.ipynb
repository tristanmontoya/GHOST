{
 "cells": [
  {
   "cell_type": "code",
   "execution_count": 1,
   "id": "6d341843",
   "metadata": {
    "execution": {
     "iopub.execute_input": "2021-05-14T22:14:17.507234Z",
     "iopub.status.busy": "2021-05-14T22:14:17.506390Z",
     "iopub.status.idle": "2021-05-14T22:14:17.510939Z",
     "shell.execute_reply": "2021-05-14T22:14:17.509951Z"
    },
    "papermill": {
     "duration": 0.025017,
     "end_time": "2021-05-14T22:14:17.511132",
     "exception": false,
     "start_time": "2021-05-14T22:14:17.486115",
     "status": "completed"
    },
    "tags": [
     "parameters"
    ]
   },
   "outputs": [],
   "source": [
    "mach_number=0.4\n",
    "p=2\n",
    "M=16\n",
    "L=10.0\n",
    "p_geo=2\n",
    "c=\"c_dg\"\n",
    "discretization_type=1\n",
    "form=\"strong\""
   ]
  },
  {
   "cell_type": "code",
   "execution_count": 2,
   "id": "07aec412",
   "metadata": {
    "execution": {
     "iopub.execute_input": "2021-05-14T22:14:17.532938Z",
     "iopub.status.busy": "2021-05-14T22:14:17.532202Z",
     "iopub.status.idle": "2021-05-14T22:14:17.535344Z",
     "shell.execute_reply": "2021-05-14T22:14:17.534788Z"
    },
    "papermill": {
     "duration": 0.017677,
     "end_time": "2021-05-14T22:14:17.535489",
     "exception": false,
     "start_time": "2021-05-14T22:14:17.517812",
     "status": "completed"
    },
    "tags": [
     "injected-parameters"
    ]
   },
   "outputs": [],
   "source": [
    "# Parameters\n",
    "mach_number = 0.4\n",
    "p = 4\n",
    "p_geo = 4\n",
    "c = \"c_+\"\n",
    "discretization_type = 2\n",
    "form = \"strong\"\n"
   ]
  },
  {
   "cell_type": "code",
   "execution_count": 3,
   "id": "84118ead",
   "metadata": {
    "execution": {
     "iopub.execute_input": "2021-05-14T22:14:17.639003Z",
     "iopub.status.busy": "2021-05-14T22:14:17.638215Z",
     "iopub.status.idle": "2021-05-21T12:20:26.485047Z",
     "shell.execute_reply": "2021-05-21T12:20:26.485744Z"
    },
    "papermill": {
     "duration": 569168.858229,
     "end_time": "2021-05-21T12:20:26.486214",
     "exception": false,
     "start_time": "2021-05-14T22:14:17.627985",
     "status": "completed"
    },
    "tags": []
   },
   "outputs": [
    {
     "name": "stdout",
     "output_type": "stream",
     "text": [
      "euler_m04p4cpt2_strong\n"
     ]
    },
    {
     "name": "stdout",
     "output_type": "stream",
     "text": [
      "1.705e-13 &  5.257e-03  \\\\\n",
      "3.553e-14 &  8.432e-03  \\\\\n",
      "3.091e-13 &  1.105e-02  \\\\\n",
      "1.137e-13 &  7.448e-03  \\\\\n"
     ]
    }
   ],
   "source": [
    "import sys  \n",
    "import numpy as np\n",
    "sys.path.insert(0, '../src')\n",
    "from Driver import euler_driver\n",
    "\n",
    "solver = euler_driver(mach_number=mach_number, \n",
    "                      theta=np.pi/4,\n",
    "                        p=p, M=M, L=L,\n",
    "                        p_geo=p_geo, c=c, \n",
    "                        discretization_type=discretization_type,\n",
    "                        form=form)"
   ]
  },
  {
   "cell_type": "code",
   "execution_count": null,
   "id": "e947f060",
   "metadata": {
    "papermill": {
     "duration": 0.007562,
     "end_time": "2021-05-21T12:20:26.501963",
     "exception": false,
     "start_time": "2021-05-21T12:20:26.494401",
     "status": "completed"
    },
    "tags": []
   },
   "outputs": [],
   "source": []
  }
 ],
 "metadata": {
  "celltoolbar": "Tags",
  "kernelspec": {
   "display_name": "Python 3",
   "language": "python",
   "name": "python3"
  },
  "language_info": {
   "codemirror_mode": {
    "name": "ipython",
    "version": 3
   },
   "file_extension": ".py",
   "mimetype": "text/x-python",
   "name": "python",
   "nbconvert_exporter": "python",
   "pygments_lexer": "ipython3",
   "version": "3.8.5"
  },
  "papermill": {
   "default_parameters": {},
   "duration": 569170.992379,
   "end_time": "2021-05-21T12:20:27.223250",
   "environment_variables": {},
   "exception": null,
   "input_path": "euler_driver.ipynb",
   "output_path": "euler_m04p4cpt2_strong.ipynb",
   "parameters": {
    "c": "c_+",
    "discretization_type": 2,
    "form": "strong",
    "mach_number": 0.4,
    "p": 4,
    "p_geo": 4
   },
   "start_time": "2021-05-14T22:14:16.230871",
   "version": "2.3.3"
  }
 },
 "nbformat": 4,
 "nbformat_minor": 5
}