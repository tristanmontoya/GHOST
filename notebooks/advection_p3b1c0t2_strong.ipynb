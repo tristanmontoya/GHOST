{
 "cells": [
  {
   "cell_type": "code",
   "execution_count": 1,
   "id": "c5c92b7d",
   "metadata": {
    "execution": {
     "iopub.execute_input": "2021-05-11T05:21:34.027931Z",
     "iopub.status.busy": "2021-05-11T05:21:34.027298Z",
     "iopub.status.idle": "2021-05-11T05:21:34.029780Z",
     "shell.execute_reply": "2021-05-11T05:21:34.030285Z"
    },
    "papermill": {
     "duration": 0.01917,
     "end_time": "2021-05-11T05:21:34.030562",
     "exception": false,
     "start_time": "2021-05-11T05:21:34.011392",
     "status": "completed"
    },
    "tags": [
     "parameters"
    ]
   },
   "outputs": [],
   "source": [
    "p=2\n",
    "M=10\n",
    "L=1\n",
    "p_geo=1\n",
    "c=\"c_dg\"\n",
    "discretization_type=1\n",
    "upwind_parameter=1.0\n",
    "form=\"strong\""
   ]
  },
  {
   "cell_type": "code",
   "execution_count": 2,
   "id": "7537d299",
   "metadata": {
    "execution": {
     "iopub.execute_input": "2021-05-11T05:21:34.049862Z",
     "iopub.status.busy": "2021-05-11T05:21:34.049239Z",
     "iopub.status.idle": "2021-05-11T05:21:34.050526Z",
     "shell.execute_reply": "2021-05-11T05:21:34.051011Z"
    },
    "papermill": {
     "duration": 0.015384,
     "end_time": "2021-05-11T05:21:34.051179",
     "exception": false,
     "start_time": "2021-05-11T05:21:34.035795",
     "status": "completed"
    },
    "tags": [
     "injected-parameters"
    ]
   },
   "outputs": [],
   "source": [
    "# Parameters\n",
    "p = 3\n",
    "p_geo = 1\n",
    "upwind_parameter = 1.0\n",
    "c = \"c_dg\"\n",
    "discretization_type = 2\n",
    "form = \"strong\"\n"
   ]
  },
  {
   "cell_type": "code",
   "execution_count": 3,
   "id": "ce9822f8",
   "metadata": {
    "execution": {
     "iopub.execute_input": "2021-05-11T05:21:34.107703Z",
     "iopub.status.busy": "2021-05-11T05:21:34.107063Z",
     "iopub.status.idle": "2021-05-11T07:57:50.204926Z",
     "shell.execute_reply": "2021-05-11T07:57:50.205430Z"
    },
    "papermill": {
     "duration": 9376.135371,
     "end_time": "2021-05-11T07:57:50.205604",
     "exception": false,
     "start_time": "2021-05-11T05:21:34.070233",
     "status": "completed"
    },
    "tags": []
   },
   "outputs": [
    {
     "name": "stderr",
     "output_type": "stream",
     "text": [
      "WARNING:root:msh4 requires 3D points, but 2D points given. Appending 0 third component.\n"
     ]
    },
    {
     "name": "stderr",
     "output_type": "stream",
     "text": [
      "WARNING:root:Binary Gmsh needs c_size_t (got int64). Converting.\n"
     ]
    },
    {
     "name": "stdout",
     "output_type": "stream",
     "text": [
      "advection_p3b1c0t2_strong\n"
     ]
    },
    {
     "name": "stdout",
     "output_type": "stream",
     "text": [
      "-6.338e-16 &  -4.748e-05 & 9.359e-04  \\\\\n"
     ]
    }
   ],
   "source": [
    "import sys  \n",
    "import numpy as np\n",
    "sys.path.insert(0, '../src')\n",
    "from Driver import advection_driver\n",
    "\n",
    "solver = advection_driver(a=np.sqrt(2), theta=np.pi/4, p=p, M=M, L=L,\n",
    "                        p_geo=p_geo, c=c, \n",
    "                        discretization_type=discretization_type,\n",
    "                        upwind_parameter=upwind_parameter,\n",
    "                        form=form)"
   ]
  },
  {
   "cell_type": "code",
   "execution_count": null,
   "id": "ab387714",
   "metadata": {
    "papermill": {
     "duration": 0.005703,
     "end_time": "2021-05-11T07:57:50.217351",
     "exception": false,
     "start_time": "2021-05-11T07:57:50.211648",
     "status": "completed"
    },
    "tags": []
   },
   "outputs": [],
   "source": []
  }
 ],
 "metadata": {
  "celltoolbar": "Tags",
  "kernelspec": {
   "display_name": "Python 3",
   "language": "python",
   "name": "python3"
  },
  "language_info": {
   "codemirror_mode": {
    "name": "ipython",
    "version": 3
   },
   "file_extension": ".py",
   "mimetype": "text/x-python",
   "name": "python",
   "nbconvert_exporter": "python",
   "pygments_lexer": "ipython3",
   "version": "3.8.5"
  },
  "papermill": {
   "default_parameters": {},
   "duration": 9377.976369,
   "end_time": "2021-05-11T07:57:50.731342",
   "environment_variables": {},
   "exception": null,
   "input_path": "advection_driver.ipynb",
   "output_path": "advection_p3b1c0t2_strong.ipynb",
   "parameters": {
    "c": "c_dg",
    "discretization_type": 2,
    "form": "strong",
    "p": 3,
    "p_geo": 1,
    "upwind_parameter": 1.0
   },
   "start_time": "2021-05-11T05:21:32.754973",
   "version": "2.3.3"
  }
 },
 "nbformat": 4,
 "nbformat_minor": 5
}