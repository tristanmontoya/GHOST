{
 "cells": [
  {
   "cell_type": "code",
   "execution_count": 1,
   "id": "de7f7c4a",
   "metadata": {
    "execution": {
     "iopub.execute_input": "2021-05-11T05:21:33.954767Z",
     "iopub.status.busy": "2021-05-11T05:21:33.954083Z",
     "iopub.status.idle": "2021-05-11T05:21:33.956914Z",
     "shell.execute_reply": "2021-05-11T05:21:33.957395Z"
    },
    "papermill": {
     "duration": 0.020034,
     "end_time": "2021-05-11T05:21:33.957654",
     "exception": false,
     "start_time": "2021-05-11T05:21:33.937620",
     "status": "completed"
    },
    "tags": [
     "parameters"
    ]
   },
   "outputs": [],
   "source": [
    "p=2\n",
    "M=10\n",
    "L=1\n",
    "p_geo=1\n",
    "c=\"c_dg\"\n",
    "discretization_type=1\n",
    "upwind_parameter=1.0\n",
    "form=\"strong\""
   ]
  },
  {
   "cell_type": "code",
   "execution_count": 2,
   "id": "eb2b2bfc",
   "metadata": {
    "execution": {
     "iopub.execute_input": "2021-05-11T05:21:33.989101Z",
     "iopub.status.busy": "2021-05-11T05:21:33.987938Z",
     "iopub.status.idle": "2021-05-11T05:21:33.989680Z",
     "shell.execute_reply": "2021-05-11T05:21:33.988504Z"
    },
    "papermill": {
     "duration": 0.027177,
     "end_time": "2021-05-11T05:21:33.989814",
     "exception": false,
     "start_time": "2021-05-11T05:21:33.962637",
     "status": "completed"
    },
    "tags": [
     "injected-parameters"
    ]
   },
   "outputs": [],
   "source": [
    "# Parameters\n",
    "p = 3\n",
    "p_geo = 1\n",
    "upwind_parameter = 0.0\n",
    "c = \"c_dg\"\n",
    "discretization_type = 1\n",
    "form = \"weak\"\n"
   ]
  },
  {
   "cell_type": "code",
   "execution_count": 3,
   "id": "ff059a02",
   "metadata": {
    "execution": {
     "iopub.execute_input": "2021-05-11T05:21:34.055329Z",
     "iopub.status.busy": "2021-05-11T05:21:34.054469Z",
     "iopub.status.idle": "2021-05-11T07:25:09.304761Z",
     "shell.execute_reply": "2021-05-11T07:25:09.305290Z"
    },
    "papermill": {
     "duration": 7415.290926,
     "end_time": "2021-05-11T07:25:09.305491",
     "exception": false,
     "start_time": "2021-05-11T05:21:34.014565",
     "status": "completed"
    },
    "tags": []
   },
   "outputs": [
    {
     "name": "stderr",
     "output_type": "stream",
     "text": [
      "WARNING:root:msh4 requires 3D points, but 2D points given. Appending 0 third component.\n"
     ]
    },
    {
     "name": "stderr",
     "output_type": "stream",
     "text": [
      "WARNING:root:Binary Gmsh needs c_size_t (got int64). Converting.\n"
     ]
    },
    {
     "name": "stdout",
     "output_type": "stream",
     "text": [
      "advection_p3b0c0t1_weak\n"
     ]
    },
    {
     "name": "stdout",
     "output_type": "stream",
     "text": [
      "-9.021e-17 &  3.886e-16 & 4.543e-03  \\\\\n"
     ]
    }
   ],
   "source": [
    "import sys  \n",
    "import numpy as np\n",
    "sys.path.insert(0, '../src')\n",
    "from Driver import advection_driver\n",
    "\n",
    "solver = advection_driver(a=np.sqrt(2), theta=np.pi/4, p=p, M=M, L=L,\n",
    "                        p_geo=p_geo, c=c, \n",
    "                        discretization_type=discretization_type,\n",
    "                        upwind_parameter=upwind_parameter,\n",
    "                        form=form)"
   ]
  },
  {
   "cell_type": "code",
   "execution_count": null,
   "id": "2db2ead4",
   "metadata": {
    "papermill": {
     "duration": 0.006448,
     "end_time": "2021-05-11T07:25:09.318716",
     "exception": false,
     "start_time": "2021-05-11T07:25:09.312268",
     "status": "completed"
    },
    "tags": []
   },
   "outputs": [],
   "source": []
  }
 ],
 "metadata": {
  "celltoolbar": "Tags",
  "kernelspec": {
   "display_name": "Python 3",
   "language": "python",
   "name": "python3"
  },
  "language_info": {
   "codemirror_mode": {
    "name": "ipython",
    "version": 3
   },
   "file_extension": ".py",
   "mimetype": "text/x-python",
   "name": "python",
   "nbconvert_exporter": "python",
   "pygments_lexer": "ipython3",
   "version": "3.8.5"
  },
  "papermill": {
   "default_parameters": {},
   "duration": 7417.762869,
   "end_time": "2021-05-11T07:25:10.524751",
   "environment_variables": {},
   "exception": null,
   "input_path": "advection_driver.ipynb",
   "output_path": "advection_p3b0c0t1_weak.ipynb",
   "parameters": {
    "c": "c_dg",
    "discretization_type": 1,
    "form": "weak",
    "p": 3,
    "p_geo": 1,
    "upwind_parameter": 0.0
   },
   "start_time": "2021-05-11T05:21:32.761882",
   "version": "2.3.3"
  }
 },
 "nbformat": 4,
 "nbformat_minor": 5
}