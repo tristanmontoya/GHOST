{
 "cells": [
  {
   "cell_type": "code",
   "execution_count": 1,
   "metadata": {
    "execution": {
     "iopub.execute_input": "2020-12-30T03:09:00.496682Z",
     "iopub.status.busy": "2020-12-30T03:09:00.495218Z",
     "iopub.status.idle": "2020-12-30T03:09:00.497433Z",
     "shell.execute_reply": "2020-12-30T03:09:00.495885Z"
    },
    "papermill": {
     "duration": 0.034158,
     "end_time": "2020-12-30T03:09:00.497705",
     "exception": false,
     "start_time": "2020-12-30T03:09:00.463547",
     "status": "completed"
    },
    "tags": [
     "parameters"
    ]
   },
   "outputs": [],
   "source": [
    "mach_number=0.4\n",
    "p=2\n",
    "M=11\n",
    "L=10.0\n",
    "p_geo=2\n",
    "c=\"c_dg\"\n",
    "discretization_type=1\n",
    "form=\"strong\""
   ]
  },
  {
   "cell_type": "code",
   "execution_count": 2,
   "metadata": {
    "execution": {
     "iopub.execute_input": "2020-12-30T03:09:00.513828Z",
     "iopub.status.busy": "2020-12-30T03:09:00.513031Z",
     "iopub.status.idle": "2020-12-30T03:09:00.526869Z",
     "shell.execute_reply": "2020-12-30T03:09:00.526275Z"
    },
    "papermill": {
     "duration": 0.023919,
     "end_time": "2020-12-30T03:09:00.527026",
     "exception": false,
     "start_time": "2020-12-30T03:09:00.503107",
     "status": "completed"
    },
    "tags": [
     "injected-parameters"
    ]
   },
   "outputs": [],
   "source": [
    "# Parameters\n",
    "mach_number = 0.4\n",
    "p = 2\n",
    "c = \"c_dg\"\n",
    "discretization_type = 2\n",
    "form = \"weak\"\n"
   ]
  },
  {
   "cell_type": "code",
   "execution_count": 3,
   "metadata": {
    "execution": {
     "iopub.execute_input": "2020-12-30T03:09:00.541784Z",
     "iopub.status.busy": "2020-12-30T03:09:00.541171Z",
     "iopub.status.idle": "2020-12-30T13:32:09.993563Z",
     "shell.execute_reply": "2020-12-30T13:32:09.994489Z"
    },
    "papermill": {
     "duration": 37389.463528,
     "end_time": "2020-12-30T13:32:09.994991",
     "exception": false,
     "start_time": "2020-12-30T03:09:00.531463",
     "status": "completed"
    },
    "tags": []
   },
   "outputs": [
    {
     "name": "stderr",
     "output_type": "stream",
     "text": [
      "WARNING:root:msh4 requires 3D points, but 2D points given. Appending 0 third component.\n"
     ]
    },
    {
     "name": "stderr",
     "output_type": "stream",
     "text": [
      "WARNING:root:Binary Gmsh needs c_size_t (got int64). Converting.\n"
     ]
    },
    {
     "name": "stdout",
     "output_type": "stream",
     "text": [
      "running solver euler_m04p2c0t2_weak\n"
     ]
    },
    {
     "name": "stdout",
     "output_type": "stream",
     "text": [
      "-5.542e-13 &  1.063e-01  \\\\\n",
      "-1.450e-12 &  3.733e-01  \\\\\n",
      "-4.121e-13 &  3.239e-01  \\\\\n",
      "-1.364e-12 &  2.862e-01  \\\\\n"
     ]
    }
   ],
   "source": [
    "import sys  \n",
    "sys.path.insert(0, '../src')\n",
    "from Driver import euler_driver\n",
    "\n",
    "solver = euler_driver(mach_number=mach_number, \n",
    "                        p=p, M=M, L=L,\n",
    "                        p_geo=p_geo, c=c, \n",
    "                        discretization_type=discretization_type,\n",
    "                        form=form)"
   ]
  },
  {
   "cell_type": "code",
   "execution_count": null,
   "metadata": {
    "papermill": {
     "duration": 0.008185,
     "end_time": "2020-12-30T13:32:10.012215",
     "exception": false,
     "start_time": "2020-12-30T13:32:10.004030",
     "status": "completed"
    },
    "tags": []
   },
   "outputs": [],
   "source": []
  }
 ],
 "metadata": {
  "celltoolbar": "Tags",
  "kernelspec": {
   "display_name": "Python 3",
   "language": "python",
   "name": "python3"
  },
  "language_info": {
   "codemirror_mode": {
    "name": "ipython",
    "version": 3
   },
   "file_extension": ".py",
   "mimetype": "text/x-python",
   "name": "python",
   "nbconvert_exporter": "python",
   "pygments_lexer": "ipython3",
   "version": "3.8.5"
  },
  "papermill": {
   "default_parameters": {},
   "duration": 37393.175062,
   "end_time": "2020-12-30T13:32:12.349807",
   "environment_variables": {},
   "exception": null,
   "input_path": "euler_driver.ipynb",
   "output_path": "euler_m04p2c0t2_weak.ipynb",
   "parameters": {
    "c": "c_dg",
    "discretization_type": 2,
    "form": "weak",
    "mach_number": 0.4,
    "p": 2
   },
   "start_time": "2020-12-30T03:08:59.174745",
   "version": "2.2.2"
  }
 },
 "nbformat": 4,
 "nbformat_minor": 2
}