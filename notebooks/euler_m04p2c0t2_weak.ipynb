{
 "cells": [
  {
   "cell_type": "markdown",
   "id": "a0acab02",
   "metadata": {
    "papermill": {
     "duration": 0.003274,
     "end_time": "2021-10-27T12:23:09.249092",
     "exception": false,
     "start_time": "2021-10-27T12:23:09.245818",
     "status": "completed"
    },
    "tags": []
   },
   "source": [
    "# GHOST driver - Euler equations"
   ]
  },
  {
   "cell_type": "code",
   "execution_count": 1,
   "id": "a6f8603b",
   "metadata": {
    "execution": {
     "iopub.execute_input": "2021-10-27T12:23:09.258471Z",
     "iopub.status.busy": "2021-10-27T12:23:09.258017Z",
     "iopub.status.idle": "2021-10-27T12:23:09.259550Z",
     "shell.execute_reply": "2021-10-27T12:23:09.259919Z"
    },
    "papermill": {
     "duration": 0.008078,
     "end_time": "2021-10-27T12:23:09.260095",
     "exception": false,
     "start_time": "2021-10-27T12:23:09.252017",
     "status": "completed"
    },
    "tags": [
     "parameters"
    ]
   },
   "outputs": [],
   "source": [
    "mach_number=0.4\n",
    "p=2\n",
    "M=16\n",
    "L=10.0\n",
    "p_map=2\n",
    "c=\"c_dg\"\n",
    "discretization_type=1\n",
    "form=\"weak\""
   ]
  },
  {
   "cell_type": "code",
   "execution_count": 2,
   "id": "afb65518",
   "metadata": {
    "execution": {
     "iopub.execute_input": "2021-10-27T12:23:09.268446Z",
     "iopub.status.busy": "2021-10-27T12:23:09.267996Z",
     "iopub.status.idle": "2021-10-27T12:23:09.269399Z",
     "shell.execute_reply": "2021-10-27T12:23:09.269752Z"
    },
    "papermill": {
     "duration": 0.006912,
     "end_time": "2021-10-27T12:23:09.269868",
     "exception": false,
     "start_time": "2021-10-27T12:23:09.262956",
     "status": "completed"
    },
    "tags": [
     "injected-parameters"
    ]
   },
   "outputs": [],
   "source": [
    "# Parameters\n",
    "mach_number = 0.4\n",
    "p = 2\n",
    "p_map = 2\n",
    "c = \"c_dg\"\n",
    "discretization_type = 2\n",
    "form = \"weak\"\n"
   ]
  },
  {
   "cell_type": "code",
   "execution_count": null,
   "id": "99b3b8a5",
   "metadata": {
    "papermill": {
     "duration": null,
     "end_time": null,
     "exception": false,
     "start_time": "2021-10-27T12:23:09.272596",
     "status": "running"
    },
    "tags": []
   },
   "outputs": [],
   "source": [
    "import sys  \n",
    "import numpy as np\n",
    "sys.path.insert(0, '../src')\n",
    "from Driver import euler_driver\n",
    "\n",
    "solver = euler_driver(mach_number=mach_number, \n",
    "                      theta=np.pi/4,\n",
    "                        p=p, M=M, L=L,\n",
    "                        p_map=p_map, c=c, \n",
    "                        discretization_type=discretization_type,\n",
    "                        new_mesh=False,\n",
    "                        form=form, restart=True,run=True)"
   ]
  }
 ],
 "metadata": {
  "celltoolbar": "Tags",
  "interpreter": {
   "hash": "8a4c5cff9d1eb01f6f91880bd866b35b24d8468d7e92aa7ef6f6962744ecb1db"
  },
  "kernelspec": {
   "display_name": "Python 3.9.5 64-bit ('base': conda)",
   "name": "python3"
  },
  "language_info": {
   "codemirror_mode": {
    "name": "ipython",
    "version": 3
   },
   "file_extension": ".py",
   "mimetype": "text/x-python",
   "name": "python",
   "nbconvert_exporter": "python",
   "pygments_lexer": "ipython3",
   "version": "3.9.5"
  },
  "papermill": {
   "default_parameters": {},
   "duration": null,
   "end_time": null,
   "environment_variables": {},
   "exception": null,
   "input_path": "euler_driver.ipynb",
   "output_path": "euler_m04p2c0t2_weak.ipynb",
   "parameters": {
    "c": "c_dg",
    "discretization_type": 2,
    "form": "weak",
    "mach_number": 0.4,
    "p": 2,
    "p_map": 2
   },
   "start_time": "2021-10-27T12:23:06.629808",
   "version": "2.3.3"
  }
 },
 "nbformat": 4,
 "nbformat_minor": 5
}