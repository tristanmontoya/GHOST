{
 "cells": [
  {
   "cell_type": "code",
   "execution_count": 1,
   "id": "4e8f7819",
   "metadata": {
    "execution": {
     "iopub.execute_input": "2021-05-11T05:21:34.128811Z",
     "iopub.status.busy": "2021-05-11T05:21:34.127170Z",
     "iopub.status.idle": "2021-05-11T05:21:34.129565Z",
     "shell.execute_reply": "2021-05-11T05:21:34.127922Z"
    },
    "papermill": {
     "duration": 0.025813,
     "end_time": "2021-05-11T05:21:34.129744",
     "exception": false,
     "start_time": "2021-05-11T05:21:34.103931",
     "status": "completed"
    },
    "tags": [
     "parameters"
    ]
   },
   "outputs": [],
   "source": [
    "p=2\n",
    "M=10\n",
    "L=1\n",
    "p_geo=1\n",
    "c=\"c_dg\"\n",
    "discretization_type=1\n",
    "upwind_parameter=1.0\n",
    "form=\"strong\""
   ]
  },
  {
   "cell_type": "code",
   "execution_count": 2,
   "id": "04ab6ea9",
   "metadata": {
    "execution": {
     "iopub.execute_input": "2021-05-11T05:21:34.193263Z",
     "iopub.status.busy": "2021-05-11T05:21:34.192064Z",
     "iopub.status.idle": "2021-05-11T05:21:34.193839Z",
     "shell.execute_reply": "2021-05-11T05:21:34.192669Z"
    },
    "papermill": {
     "duration": 0.058555,
     "end_time": "2021-05-11T05:21:34.193977",
     "exception": false,
     "start_time": "2021-05-11T05:21:34.135422",
     "status": "completed"
    },
    "tags": [
     "injected-parameters"
    ]
   },
   "outputs": [],
   "source": [
    "# Parameters\n",
    "p = 3\n",
    "p_geo = 1\n",
    "upwind_parameter = 1.0\n",
    "c = \"c_+\"\n",
    "discretization_type = 3\n",
    "form = \"weak\"\n"
   ]
  },
  {
   "cell_type": "code",
   "execution_count": 3,
   "id": "0c69629e",
   "metadata": {
    "execution": {
     "iopub.execute_input": "2021-05-11T05:21:34.265436Z",
     "iopub.status.busy": "2021-05-11T05:21:34.264655Z",
     "iopub.status.idle": "2021-05-11T07:20:57.446252Z",
     "shell.execute_reply": "2021-05-11T07:20:57.446789Z"
    },
    "papermill": {
     "duration": 7163.214479,
     "end_time": "2021-05-11T07:20:57.446987",
     "exception": false,
     "start_time": "2021-05-11T05:21:34.232508",
     "status": "completed"
    },
    "tags": []
   },
   "outputs": [
    {
     "name": "stderr",
     "output_type": "stream",
     "text": [
      "WARNING:root:msh4 requires 3D points, but 2D points given. Appending 0 third component.\n"
     ]
    },
    {
     "name": "stderr",
     "output_type": "stream",
     "text": [
      "WARNING:root:Binary Gmsh needs c_size_t (got int64). Converting.\n"
     ]
    },
    {
     "name": "stdout",
     "output_type": "stream",
     "text": [
      "advection_p3b1cpt3_weak\n"
     ]
    },
    {
     "name": "stdout",
     "output_type": "stream",
     "text": [
      "-2.828e-16 &  -5.675e-04 & 3.699e-03  \\\\\n"
     ]
    }
   ],
   "source": [
    "import sys  \n",
    "import numpy as np\n",
    "sys.path.insert(0, '../src')\n",
    "from Driver import advection_driver\n",
    "\n",
    "solver = advection_driver(a=np.sqrt(2), theta=np.pi/4, p=p, M=M, L=L,\n",
    "                        p_geo=p_geo, c=c, \n",
    "                        discretization_type=discretization_type,\n",
    "                        upwind_parameter=upwind_parameter,\n",
    "                        form=form)"
   ]
  },
  {
   "cell_type": "code",
   "execution_count": null,
   "id": "c83119dc",
   "metadata": {
    "papermill": {
     "duration": 0.005987,
     "end_time": "2021-05-11T07:20:57.459567",
     "exception": false,
     "start_time": "2021-05-11T07:20:57.453580",
     "status": "completed"
    },
    "tags": []
   },
   "outputs": [],
   "source": []
  }
 ],
 "metadata": {
  "celltoolbar": "Tags",
  "kernelspec": {
   "display_name": "Python 3",
   "language": "python",
   "name": "python3"
  },
  "language_info": {
   "codemirror_mode": {
    "name": "ipython",
    "version": 3
   },
   "file_extension": ".py",
   "mimetype": "text/x-python",
   "name": "python",
   "nbconvert_exporter": "python",
   "pygments_lexer": "ipython3",
   "version": "3.8.5"
  },
  "papermill": {
   "default_parameters": {},
   "duration": 7165.187913,
   "end_time": "2021-05-11T07:20:57.974737",
   "environment_variables": {},
   "exception": null,
   "input_path": "advection_driver.ipynb",
   "output_path": "advection_p3b1cpt3_weak.ipynb",
   "parameters": {
    "c": "c_+",
    "discretization_type": 3,
    "form": "weak",
    "p": 3,
    "p_geo": 1,
    "upwind_parameter": 1.0
   },
   "start_time": "2021-05-11T05:21:32.786824",
   "version": "2.3.3"
  }
 },
 "nbformat": 4,
 "nbformat_minor": 5
}