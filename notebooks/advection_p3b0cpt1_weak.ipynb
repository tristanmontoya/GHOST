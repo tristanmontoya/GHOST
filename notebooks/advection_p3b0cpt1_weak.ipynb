{
 "cells": [
  {
   "cell_type": "markdown",
   "id": "53ebfaf2",
   "metadata": {
    "papermill": {
     "duration": 0.003256,
     "end_time": "2021-10-27T13:32:59.689933",
     "exception": false,
     "start_time": "2021-10-27T13:32:59.686677",
     "status": "completed"
    },
    "tags": []
   },
   "source": [
    "# GHOST driver - linear advection equation"
   ]
  },
  {
   "cell_type": "code",
   "execution_count": 1,
   "id": "8a22ee9e",
   "metadata": {
    "execution": {
     "iopub.execute_input": "2021-10-27T13:32:59.699885Z",
     "iopub.status.busy": "2021-10-27T13:32:59.699403Z",
     "iopub.status.idle": "2021-10-27T13:32:59.701184Z",
     "shell.execute_reply": "2021-10-27T13:32:59.701559Z"
    },
    "papermill": {
     "duration": 0.008907,
     "end_time": "2021-10-27T13:32:59.701771",
     "exception": false,
     "start_time": "2021-10-27T13:32:59.692864",
     "status": "completed"
    },
    "tags": [
     "parameters"
    ]
   },
   "outputs": [],
   "source": [
    "p=2\n",
    "M=8\n",
    "L=1\n",
    "p_map=1\n",
    "c=\"c_+\"\n",
    "discretization_type=1\n",
    "upwind_parameter=0.0\n",
    "form=\"weak\""
   ]
  },
  {
   "cell_type": "code",
   "execution_count": 2,
   "id": "eb5db90c",
   "metadata": {
    "execution": {
     "iopub.execute_input": "2021-10-27T13:32:59.710799Z",
     "iopub.status.busy": "2021-10-27T13:32:59.710308Z",
     "iopub.status.idle": "2021-10-27T13:32:59.712407Z",
     "shell.execute_reply": "2021-10-27T13:32:59.712905Z"
    },
    "papermill": {
     "duration": 0.00828,
     "end_time": "2021-10-27T13:32:59.713032",
     "exception": false,
     "start_time": "2021-10-27T13:32:59.704752",
     "status": "completed"
    },
    "tags": [
     "injected-parameters"
    ]
   },
   "outputs": [],
   "source": [
    "# Parameters\n",
    "p = 3\n",
    "p_map = 1\n",
    "upwind_parameter = 0.0\n",
    "c = \"c_+\"\n",
    "discretization_type = 1\n",
    "form = \"weak\"\n"
   ]
  },
  {
   "cell_type": "code",
   "execution_count": 3,
   "id": "5185ddda",
   "metadata": {
    "execution": {
     "iopub.execute_input": "2021-10-27T13:32:59.723465Z",
     "iopub.status.busy": "2021-10-27T13:32:59.722954Z",
     "iopub.status.idle": "2021-10-27T14:11:12.158866Z",
     "shell.execute_reply": "2021-10-27T14:11:12.159494Z"
    },
    "papermill": {
     "duration": 2292.44375,
     "end_time": "2021-10-27T14:11:12.159877",
     "exception": false,
     "start_time": "2021-10-27T13:32:59.716127",
     "status": "completed"
    },
    "tags": []
   },
   "outputs": [
    {
     "name": "stderr",
     "output_type": "stream",
     "text": [
      "Matplotlib created a temporary config/cache directory at /tmp/matplotlib-ypmwc6_1 because the default path (/home/z/zingg/tmontoya/.config/matplotlib) is not a writable directory; it is highly recommended to set the MPLCONFIGDIR environment variable to a writable directory, in particular to speed up the import of Matplotlib and to better support multiprocessing.\n"
     ]
    },
    {
     "name": "stdout",
     "output_type": "stream",
     "text": [
      "advection_p3b0cpt1_weak\n"
     ]
    }
   ],
   "source": [
    "import sys  \n",
    "import numpy as np\n",
    "sys.path.insert(0, '../src')\n",
    "from Driver import advection_driver\n",
    "\n",
    "solver = advection_driver(a=np.sqrt(2), theta=np.pi/4, p=p, M=M, L=L,\n",
    "                        p_map=p_map, c=c, \n",
    "                        discretization_type=discretization_type,\n",
    "                        upwind_parameter=upwind_parameter,\n",
    "                        new_mesh=False,form=form,restart=True,run=True)"
   ]
  }
 ],
 "metadata": {
  "celltoolbar": "Tags",
  "interpreter": {
   "hash": "8a4c5cff9d1eb01f6f91880bd866b35b24d8468d7e92aa7ef6f6962744ecb1db"
  },
  "kernelspec": {
   "display_name": "Python 3.9.5 64-bit ('base': conda)",
   "name": "python3"
  },
  "language_info": {
   "codemirror_mode": {
    "name": "ipython",
    "version": 3
   },
   "file_extension": ".py",
   "mimetype": "text/x-python",
   "name": "python",
   "nbconvert_exporter": "python",
   "pygments_lexer": "ipython3",
   "version": "3.8.5"
  },
  "papermill": {
   "default_parameters": {},
   "duration": 2294.591281,
   "end_time": "2021-10-27T14:11:12.572387",
   "environment_variables": {},
   "exception": null,
   "input_path": "advection_driver.ipynb",
   "output_path": "advection_p3b0cpt1_weak.ipynb",
   "parameters": {
    "c": "c_+",
    "discretization_type": 1,
    "form": "weak",
    "p": 3,
    "p_map": 1,
    "upwind_parameter": 0.0
   },
   "start_time": "2021-10-27T13:32:57.981106",
   "version": "2.3.3"
  }
 },
 "nbformat": 4,
 "nbformat_minor": 5
}