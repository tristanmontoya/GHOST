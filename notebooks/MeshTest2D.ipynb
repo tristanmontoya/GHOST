{
 "cells": [
  {
   "cell_type": "code",
   "execution_count": 2,
   "metadata": {
    "scrolled": false
   },
   "outputs": [],
   "source": [
    "import sys  \n",
    "import numpy as np\n",
    "import modepy as mp\n",
    "sys.path.insert(0, '../src')\n",
    "from scipy import special\n",
    "from Mesh import Mesh2D\n",
    "from Discretization import SpatialDiscretization\n",
    "\n",
    "\n",
    "# degree of discretization\n",
    "p = [1,2]\n",
    "Nd = len(p)\n",
    "\n",
    "# 3 by 3 two-dimensional mesh\n",
    "mesh = Mesh2D(\"test\", \"../mesh/square_mesh_x_3y_3.msh\")\n",
    "\n",
    "# map of element index to discretization\n",
    "element_to_discretization = [k % Nd for k in range(0,mesh.K)]\n",
    "\n",
    "# number of flux nodes (equal to p+d choose d)\n",
    "N_Omega = [special.comb(p[i] + 2, 2, \n",
    "                                exact=True) for i in range(0,Nd)]\n",
    "\n",
    "# number of facet nodes (equal to p+d-1 choose d-1)\n",
    "N_Omega = [p[i] + 1 for i in range(0,Nd)]\n",
    "\n",
    "# discretization components"
   ]
  },
  {
   "cell_type": "code",
   "execution_count": 3,
   "metadata": {
    "scrolled": false
   },
   "outputs": [
    {
     "data": {
      "text/plain": [
       "[[(0, 1), (1, 4), (4, 0)],\n",
       " [(4, 7), (7, 6), (6, 4)],\n",
       " [(2, 5), (5, 4), (4, 2)],\n",
       " [(4, 5), (5, 8), (8, 4)],\n",
       " [(0, 4), (4, 3), (3, 0)],\n",
       " [(3, 4), (4, 6), (6, 3)],\n",
       " [(1, 2), (2, 4), (4, 1)],\n",
       " [(4, 8), (8, 7), (7, 4)]]"
      ]
     },
     "execution_count": 3,
     "metadata": {},
     "output_type": "execute_result"
    }
   ],
   "source": [
    "mesh.local_to_vertex"
   ]
  },
  {
   "cell_type": "code",
   "execution_count": 4,
   "metadata": {},
   "outputs": [
    {
     "data": {
      "text/plain": [
       "{(0, 1): (6, 2),\n",
       " (0, 2): (4, 0),\n",
       " (1, 0): (7, 2),\n",
       " (1, 2): (5, 1),\n",
       " (2, 1): (3, 0),\n",
       " (2, 2): (6, 1),\n",
       " (3, 0): (2, 1),\n",
       " (3, 2): (7, 0),\n",
       " (4, 0): (0, 2),\n",
       " (4, 1): (5, 0),\n",
       " (5, 0): (4, 1),\n",
       " (5, 1): (1, 2),\n",
       " (6, 1): (2, 2),\n",
       " (6, 2): (0, 1),\n",
       " (7, 0): (3, 2),\n",
       " (7, 2): (1, 0)}"
      ]
     },
     "execution_count": 4,
     "metadata": {},
     "output_type": "execute_result"
    }
   ],
   "source": [
    "mesh.local_to_local"
   ]
  },
  {
   "cell_type": "code",
   "execution_count": null,
   "metadata": {},
   "outputs": [],
   "source": []
  }
 ],
 "metadata": {
  "kernelspec": {
   "display_name": "Python 3",
   "language": "python",
   "name": "python3"
  }
 },
 "nbformat": 4,
 "nbformat_minor": 4
}
