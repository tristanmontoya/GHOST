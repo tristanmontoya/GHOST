{
 "cells": [
  {
   "cell_type": "code",
   "execution_count": 1,
   "id": "06aff4c7",
   "metadata": {
    "execution": {
     "iopub.execute_input": "2021-05-09T21:51:37.783379Z",
     "iopub.status.busy": "2021-05-09T21:51:37.782500Z",
     "iopub.status.idle": "2021-05-09T21:51:37.785569Z",
     "shell.execute_reply": "2021-05-09T21:51:37.786284Z"
    },
    "papermill": {
     "duration": 0.026136,
     "end_time": "2021-05-09T21:51:37.786643",
     "exception": false,
     "start_time": "2021-05-09T21:51:37.760507",
     "status": "completed"
    },
    "tags": [
     "parameters"
    ]
   },
   "outputs": [],
   "source": [
    "mach_number=0.4\n",
    "p=2\n",
    "M=11\n",
    "L=10.0\n",
    "p_geo=2\n",
    "c=\"c_dg\"\n",
    "discretization_type=1\n",
    "form=\"strong\""
   ]
  },
  {
   "cell_type": "code",
   "execution_count": 2,
   "id": "b45944ed",
   "metadata": {
    "execution": {
     "iopub.execute_input": "2021-05-09T21:51:37.807689Z",
     "iopub.status.busy": "2021-05-09T21:51:37.806814Z",
     "iopub.status.idle": "2021-05-09T21:51:37.809981Z",
     "shell.execute_reply": "2021-05-09T21:51:37.810672Z"
    },
    "papermill": {
     "duration": 0.017104,
     "end_time": "2021-05-09T21:51:37.810897",
     "exception": false,
     "start_time": "2021-05-09T21:51:37.793793",
     "status": "completed"
    },
    "tags": [
     "injected-parameters"
    ]
   },
   "outputs": [],
   "source": [
    "# Parameters\n",
    "mach_number = 0.4\n",
    "p = 2\n",
    "p_geo = 2\n",
    "c = \"c_+\"\n",
    "discretization_type = 2\n",
    "form = \"weak\"\n"
   ]
  },
  {
   "cell_type": "code",
   "execution_count": 3,
   "id": "b5d107c0",
   "metadata": {
    "execution": {
     "iopub.execute_input": "2021-05-09T21:51:37.857606Z",
     "iopub.status.busy": "2021-05-09T21:51:37.856936Z",
     "iopub.status.idle": "2021-05-10T09:05:03.141768Z",
     "shell.execute_reply": "2021-05-10T09:05:03.142473Z"
    },
    "papermill": {
     "duration": 40405.313719,
     "end_time": "2021-05-10T09:05:03.142737",
     "exception": false,
     "start_time": "2021-05-09T21:51:37.829018",
     "status": "completed"
    },
    "tags": []
   },
   "outputs": [
    {
     "name": "stderr",
     "output_type": "stream",
     "text": [
      "WARNING:root:msh4 requires 3D points, but 2D points given. Appending 0 third component.\n"
     ]
    },
    {
     "name": "stderr",
     "output_type": "stream",
     "text": [
      "WARNING:root:Binary Gmsh needs c_size_t (got int64). Converting.\n"
     ]
    },
    {
     "name": "stdout",
     "output_type": "stream",
     "text": [
      "running solver euler_m04p2cpt2_weak\n"
     ]
    },
    {
     "name": "stdout",
     "output_type": "stream",
     "text": [
      "1.847e-13 &  1.129e-01  \\\\\n",
      "-7.141e-13 &  3.461e-01  \\\\\n",
      "8.882e-13 &  2.651e-01  \\\\\n",
      "2.274e-13 &  2.837e-01  \\\\\n"
     ]
    }
   ],
   "source": [
    "import sys  \n",
    "sys.path.insert(0, '../src')\n",
    "from Driver import euler_driver\n",
    "\n",
    "solver = euler_driver(mach_number=mach_number, \n",
    "                        p=p, M=M, L=L,\n",
    "                        p_geo=p_geo, c=c, \n",
    "                        discretization_type=discretization_type,\n",
    "                        form=form)"
   ]
  },
  {
   "cell_type": "code",
   "execution_count": null,
   "id": "6d2298ae",
   "metadata": {
    "papermill": {
     "duration": 0.008299,
     "end_time": "2021-05-10T09:05:03.159776",
     "exception": false,
     "start_time": "2021-05-10T09:05:03.151477",
     "status": "completed"
    },
    "tags": []
   },
   "outputs": [],
   "source": []
  }
 ],
 "metadata": {
  "celltoolbar": "Tags",
  "kernelspec": {
   "display_name": "Python 3",
   "language": "python",
   "name": "python3"
  },
  "language_info": {
   "codemirror_mode": {
    "name": "ipython",
    "version": 3
   },
   "file_extension": ".py",
   "mimetype": "text/x-python",
   "name": "python",
   "nbconvert_exporter": "python",
   "pygments_lexer": "ipython3",
   "version": "3.8.5"
  },
  "papermill": {
   "default_parameters": {},
   "duration": 40408.062063,
   "end_time": "2021-05-10T09:05:04.536490",
   "environment_variables": {},
   "exception": null,
   "input_path": "euler_driver.ipynb",
   "output_path": "euler_m04p2cpt2_weak.ipynb",
   "parameters": {
    "c": "c_+",
    "discretization_type": 2,
    "form": "weak",
    "mach_number": 0.4,
    "p": 2,
    "p_geo": 2
   },
   "start_time": "2021-05-09T21:51:36.474427",
   "version": "2.3.3"
  }
 },
 "nbformat": 4,
 "nbformat_minor": 5
}