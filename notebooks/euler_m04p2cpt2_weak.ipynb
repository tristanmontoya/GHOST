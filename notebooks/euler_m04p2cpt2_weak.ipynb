{
 "cells": [
  {
   "cell_type": "code",
   "execution_count": 1,
   "metadata": {
    "execution": {
     "iopub.execute_input": "2020-12-30T03:09:00.420539Z",
     "iopub.status.busy": "2020-12-30T03:09:00.419583Z",
     "iopub.status.idle": "2020-12-30T03:09:00.421812Z",
     "shell.execute_reply": "2020-12-30T03:09:00.422335Z"
    },
    "papermill": {
     "duration": 0.018995,
     "end_time": "2020-12-30T03:09:00.422651",
     "exception": false,
     "start_time": "2020-12-30T03:09:00.403656",
     "status": "completed"
    },
    "tags": [
     "parameters"
    ]
   },
   "outputs": [],
   "source": [
    "mach_number=0.4\n",
    "p=2\n",
    "M=11\n",
    "L=10.0\n",
    "p_geo=2\n",
    "c=\"c_dg\"\n",
    "discretization_type=1\n",
    "form=\"strong\""
   ]
  },
  {
   "cell_type": "code",
   "execution_count": 2,
   "metadata": {
    "execution": {
     "iopub.execute_input": "2020-12-30T03:09:00.436303Z",
     "iopub.status.busy": "2020-12-30T03:09:00.435638Z",
     "iopub.status.idle": "2020-12-30T03:09:00.437419Z",
     "shell.execute_reply": "2020-12-30T03:09:00.437911Z"
    },
    "papermill": {
     "duration": 0.01087,
     "end_time": "2020-12-30T03:09:00.438114",
     "exception": false,
     "start_time": "2020-12-30T03:09:00.427244",
     "status": "completed"
    },
    "tags": [
     "injected-parameters"
    ]
   },
   "outputs": [],
   "source": [
    "# Parameters\n",
    "mach_number = 0.4\n",
    "p = 2\n",
    "c = \"c_+\"\n",
    "discretization_type = 2\n",
    "form = \"weak\"\n"
   ]
  },
  {
   "cell_type": "code",
   "execution_count": 3,
   "metadata": {
    "execution": {
     "iopub.execute_input": "2020-12-30T03:09:00.464050Z",
     "iopub.status.busy": "2020-12-30T03:09:00.463394Z",
     "iopub.status.idle": "2020-12-30T14:07:56.259260Z",
     "shell.execute_reply": "2020-12-30T14:07:56.259821Z"
    },
    "papermill": {
     "duration": 39535.817796,
     "end_time": "2020-12-30T14:07:56.260140",
     "exception": false,
     "start_time": "2020-12-30T03:09:00.442344",
     "status": "completed"
    },
    "tags": []
   },
   "outputs": [
    {
     "name": "stderr",
     "output_type": "stream",
     "text": [
      "WARNING:root:msh4 requires 3D points, but 2D points given. Appending 0 third component.\n"
     ]
    },
    {
     "name": "stderr",
     "output_type": "stream",
     "text": [
      "WARNING:root:Binary Gmsh needs c_size_t (got int64). Converting.\n"
     ]
    },
    {
     "name": "stdout",
     "output_type": "stream",
     "text": [
      "running solver euler_m04p2cpt2_weak\n"
     ]
    },
    {
     "name": "stdout",
     "output_type": "stream",
     "text": [
      "-7.105e-14 &  1.242e-01  \\\\\n",
      "-2.100e-12 &  4.012e-01  \\\\\n",
      "1.648e-12 &  2.907e-01  \\\\\n",
      "-3.695e-13 &  3.078e-01  \\\\\n"
     ]
    }
   ],
   "source": [
    "import sys  \n",
    "sys.path.insert(0, '../src')\n",
    "from Driver import euler_driver\n",
    "\n",
    "solver = euler_driver(mach_number=mach_number, \n",
    "                        p=p, M=M, L=L,\n",
    "                        p_geo=p_geo, c=c, \n",
    "                        discretization_type=discretization_type,\n",
    "                        form=form)"
   ]
  },
  {
   "cell_type": "code",
   "execution_count": null,
   "metadata": {
    "papermill": {
     "duration": 0.005569,
     "end_time": "2020-12-30T14:07:56.271684",
     "exception": false,
     "start_time": "2020-12-30T14:07:56.266115",
     "status": "completed"
    },
    "tags": []
   },
   "outputs": [],
   "source": []
  }
 ],
 "metadata": {
  "celltoolbar": "Tags",
  "kernelspec": {
   "display_name": "Python 3",
   "language": "python",
   "name": "python3"
  },
  "language_info": {
   "codemirror_mode": {
    "name": "ipython",
    "version": 3
   },
   "file_extension": ".py",
   "mimetype": "text/x-python",
   "name": "python",
   "nbconvert_exporter": "python",
   "pygments_lexer": "ipython3",
   "version": "3.8.5"
  },
  "papermill": {
   "default_parameters": {},
   "duration": 39538.584409,
   "end_time": "2020-12-30T14:07:57.675446",
   "environment_variables": {},
   "exception": null,
   "input_path": "euler_driver.ipynb",
   "output_path": "euler_m04p2cpt2_weak.ipynb",
   "parameters": {
    "c": "c_+",
    "discretization_type": 2,
    "form": "weak",
    "mach_number": 0.4,
    "p": 2
   },
   "start_time": "2020-12-30T03:08:59.091037",
   "version": "2.2.2"
  }
 },
 "nbformat": 4,
 "nbformat_minor": 2
}