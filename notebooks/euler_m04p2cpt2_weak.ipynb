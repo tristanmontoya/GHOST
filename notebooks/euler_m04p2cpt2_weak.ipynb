{
 "cells": [
  {
   "cell_type": "code",
   "execution_count": 1,
   "id": "06aff4c7",
   "metadata": {
    "execution": {
     "iopub.execute_input": "2021-05-09T21:51:37.783379Z",
     "iopub.status.busy": "2021-05-09T21:51:37.782500Z",
     "iopub.status.idle": "2021-05-09T21:51:37.785569Z",
     "shell.execute_reply": "2021-05-09T21:51:37.786284Z"
    },
    "papermill": {
     "duration": 0.026136,
     "end_time": "2021-05-09T21:51:37.786643",
     "exception": false,
     "start_time": "2021-05-09T21:51:37.760507",
     "status": "completed"
    },
    "tags": [
     "parameters"
    ]
   },
   "outputs": [],
   "source": [
    "mach_number=0.4\n",
    "p=2\n",
    "M=11\n",
    "L=10.0\n",
    "p_geo=2\n",
    "c=\"c_dg\"\n",
    "discretization_type=1\n",
    "form=\"strong\""
   ]
  },
  {
   "cell_type": "code",
   "execution_count": 2,
   "id": "b45944ed",
   "metadata": {
    "execution": {
     "iopub.execute_input": "2021-05-09T21:51:37.807689Z",
     "iopub.status.busy": "2021-05-09T21:51:37.806814Z",
     "iopub.status.idle": "2021-05-09T21:51:37.809981Z",
     "shell.execute_reply": "2021-05-09T21:51:37.810672Z"
    },
    "papermill": {
     "duration": 0.017104,
     "end_time": "2021-05-09T21:51:37.810897",
     "exception": false,
     "start_time": "2021-05-09T21:51:37.793793",
     "status": "completed"
    },
    "tags": [
     "injected-parameters"
    ]
   },
   "outputs": [],
   "source": [
    "# Parameters\n",
    "mach_number = 0.4\n",
    "p = 2\n",
    "p_geo = 2\n",
    "c = \"c_+\"\n",
    "discretization_type = 2\n",
    "form = \"weak\"\n"
   ]
  },
  {
   "cell_type": "code",
   "execution_count": null,
   "id": "b5d107c0",
   "metadata": {
    "papermill": {
     "duration": null,
     "end_time": null,
     "exception": false,
     "start_time": "2021-05-09T21:51:37.829018",
     "status": "running"
    },
    "tags": []
   },
   "outputs": [],
   "source": [
    "import sys  \n",
    "sys.path.insert(0, '../src')\n",
    "from Driver import euler_driver\n",
    "\n",
    "solver = euler_driver(mach_number=mach_number, \n",
    "                        p=p, M=M, L=L,\n",
    "                        p_geo=p_geo, c=c, \n",
    "                        discretization_type=discretization_type,\n",
    "                        form=form)"
   ]
  },
  {
   "cell_type": "code",
   "execution_count": null,
   "id": "6d2298ae",
   "metadata": {
    "papermill": {
     "duration": null,
     "end_time": null,
     "exception": null,
     "start_time": null,
     "status": "pending"
    },
    "tags": []
   },
   "outputs": [],
   "source": []
  }
 ],
 "metadata": {
  "celltoolbar": "Tags",
  "kernelspec": {
   "display_name": "Python 3",
   "language": "python",
   "name": "python3"
  },
  "language_info": {
   "codemirror_mode": {
    "name": "ipython",
    "version": 3
   },
   "file_extension": ".py",
   "mimetype": "text/x-python",
   "name": "python",
   "nbconvert_exporter": "python",
   "pygments_lexer": "ipython3",
   "version": "3.7.9"
  },
  "papermill": {
   "default_parameters": {},
   "duration": null,
   "end_time": null,
   "environment_variables": {},
   "exception": null,
   "input_path": "euler_driver.ipynb",
   "output_path": "euler_m04p2cpt2_weak.ipynb",
   "parameters": {
    "c": "c_+",
    "discretization_type": 2,
    "form": "weak",
    "mach_number": 0.4,
    "p": 2,
    "p_geo": 2
   },
   "start_time": "2021-05-09T21:51:36.474427",
   "version": "2.3.3"
  }
 },
 "nbformat": 4,
 "nbformat_minor": 5
}