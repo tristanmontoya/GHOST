{
 "cells": [
  {
   "cell_type": "code",
   "execution_count": 1,
   "id": "d96336ab",
   "metadata": {
    "execution": {
     "iopub.execute_input": "2021-05-14T14:12:17.859573Z",
     "iopub.status.busy": "2021-05-14T14:12:17.857941Z",
     "iopub.status.idle": "2021-05-14T14:12:17.860211Z",
     "shell.execute_reply": "2021-05-14T14:12:17.858739Z"
    },
    "papermill": {
     "duration": 0.042805,
     "end_time": "2021-05-14T14:12:17.860371",
     "exception": false,
     "start_time": "2021-05-14T14:12:17.817566",
     "status": "completed"
    },
    "tags": [
     "parameters"
    ]
   },
   "outputs": [],
   "source": [
    "p=2\n",
    "M=10\n",
    "L=1\n",
    "p_geo=1\n",
    "c=\"c_dg\"\n",
    "discretization_type=1\n",
    "upwind_parameter=1.0\n",
    "form=\"strong\""
   ]
  },
  {
   "cell_type": "code",
   "execution_count": 2,
   "id": "689f8af8",
   "metadata": {
    "execution": {
     "iopub.execute_input": "2021-05-14T14:12:17.875123Z",
     "iopub.status.busy": "2021-05-14T14:12:17.874418Z",
     "iopub.status.idle": "2021-05-14T14:12:17.876729Z",
     "shell.execute_reply": "2021-05-14T14:12:17.877312Z"
    },
    "papermill": {
     "duration": 0.011529,
     "end_time": "2021-05-14T14:12:17.877514",
     "exception": false,
     "start_time": "2021-05-14T14:12:17.865985",
     "status": "completed"
    },
    "tags": [
     "injected-parameters"
    ]
   },
   "outputs": [],
   "source": [
    "# Parameters\n",
    "p = 4\n",
    "p_geo = 1\n",
    "upwind_parameter = 0.0\n",
    "c = \"c_+\"\n",
    "discretization_type = 3\n",
    "form = \"strong\"\n"
   ]
  },
  {
   "cell_type": "code",
   "execution_count": 3,
   "id": "58ca0f06",
   "metadata": {
    "execution": {
     "iopub.execute_input": "2021-05-14T14:12:17.925789Z",
     "iopub.status.busy": "2021-05-14T14:12:17.925162Z",
     "iopub.status.idle": "2021-05-14T17:23:49.624385Z",
     "shell.execute_reply": "2021-05-14T17:23:49.624906Z"
    },
    "papermill": {
     "duration": 11491.737347,
     "end_time": "2021-05-14T17:23:49.625119",
     "exception": false,
     "start_time": "2021-05-14T14:12:17.887772",
     "status": "completed"
    },
    "tags": []
   },
   "outputs": [
    {
     "name": "stderr",
     "output_type": "stream",
     "text": [
      "WARNING:root:msh4 requires 3D points, but 2D points given. Appending 0 third component.\n"
     ]
    },
    {
     "name": "stderr",
     "output_type": "stream",
     "text": [
      "WARNING:root:Binary Gmsh needs c_size_t (got int64). Converting.\n"
     ]
    },
    {
     "name": "stdout",
     "output_type": "stream",
     "text": [
      "advection_p4b0cpt3_strong\n"
     ]
    },
    {
     "name": "stdout",
     "output_type": "stream",
     "text": [
      "-2.867e+77 &  7.008e+188 & 2.563e+94  \\\\\n"
     ]
    }
   ],
   "source": [
    "import sys  \n",
    "import numpy as np\n",
    "sys.path.insert(0, '../src')\n",
    "from Driver import advection_driver\n",
    "\n",
    "solver = advection_driver(a=np.sqrt(2), theta=np.pi/4, p=p, M=M, L=L,\n",
    "                        p_geo=p_geo, c=c, \n",
    "                        discretization_type=discretization_type,\n",
    "                        upwind_parameter=upwind_parameter,\n",
    "                        form=form)"
   ]
  },
  {
   "cell_type": "code",
   "execution_count": null,
   "id": "88153046",
   "metadata": {
    "papermill": {
     "duration": 0.005723,
     "end_time": "2021-05-14T17:23:49.636967",
     "exception": false,
     "start_time": "2021-05-14T17:23:49.631244",
     "status": "completed"
    },
    "tags": []
   },
   "outputs": [],
   "source": []
  }
 ],
 "metadata": {
  "celltoolbar": "Tags",
  "kernelspec": {
   "display_name": "Python 3",
   "language": "python",
   "name": "python3"
  },
  "language_info": {
   "codemirror_mode": {
    "name": "ipython",
    "version": 3
   },
   "file_extension": ".py",
   "mimetype": "text/x-python",
   "name": "python",
   "nbconvert_exporter": "python",
   "pygments_lexer": "ipython3",
   "version": "3.8.5"
  },
  "papermill": {
   "default_parameters": {},
   "duration": 11493.754425,
   "end_time": "2021-05-14T17:23:50.152395",
   "environment_variables": {},
   "exception": null,
   "input_path": "advection_driver.ipynb",
   "output_path": "advection_p4b0cpt3_strong.ipynb",
   "parameters": {
    "c": "c_+",
    "discretization_type": 3,
    "form": "strong",
    "p": 4,
    "p_geo": 1,
    "upwind_parameter": 0.0
   },
   "start_time": "2021-05-14T14:12:16.397970",
   "version": "2.3.3"
  }
 },
 "nbformat": 4,
 "nbformat_minor": 5
}