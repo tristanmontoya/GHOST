{
 "cells": [
  {
   "cell_type": "markdown",
   "id": "210c330b",
   "metadata": {
    "papermill": {
     "duration": 0.003367,
     "end_time": "2021-11-08T23:07:58.340165",
     "exception": false,
     "start_time": "2021-11-08T23:07:58.336798",
     "status": "completed"
    },
    "tags": []
   },
   "source": [
    "# GHOST driver - Euler equations"
   ]
  },
  {
   "cell_type": "code",
   "execution_count": 1,
   "id": "f1ccb3e5",
   "metadata": {
    "execution": {
     "iopub.execute_input": "2021-11-08T23:07:58.349756Z",
     "iopub.status.busy": "2021-11-08T23:07:58.349259Z",
     "iopub.status.idle": "2021-11-08T23:07:58.350930Z",
     "shell.execute_reply": "2021-11-08T23:07:58.351311Z"
    },
    "papermill": {
     "duration": 0.00834,
     "end_time": "2021-11-08T23:07:58.351518",
     "exception": false,
     "start_time": "2021-11-08T23:07:58.343178",
     "status": "completed"
    },
    "tags": [
     "parameters"
    ]
   },
   "outputs": [],
   "source": [
    "mach_number=0.4\n",
    "p=2\n",
    "M=16\n",
    "L=10.0\n",
    "p_map=2\n",
    "c=\"c_dg\"\n",
    "discretization_type=1\n",
    "form=\"weak\""
   ]
  },
  {
   "cell_type": "code",
   "execution_count": 2,
   "id": "47f9a7f1",
   "metadata": {
    "execution": {
     "iopub.execute_input": "2021-11-08T23:07:58.359953Z",
     "iopub.status.busy": "2021-11-08T23:07:58.359472Z",
     "iopub.status.idle": "2021-11-08T23:07:58.361118Z",
     "shell.execute_reply": "2021-11-08T23:07:58.361508Z"
    },
    "papermill": {
     "duration": 0.0072,
     "end_time": "2021-11-08T23:07:58.361624",
     "exception": false,
     "start_time": "2021-11-08T23:07:58.354424",
     "status": "completed"
    },
    "tags": [
     "injected-parameters"
    ]
   },
   "outputs": [],
   "source": [
    "# Parameters\n",
    "mach_number = 0.4\n",
    "p = 3\n",
    "p_map = 3\n",
    "c = \"c_+\"\n",
    "discretization_type = 2\n",
    "form = \"weak\"\n"
   ]
  },
  {
   "cell_type": "code",
   "execution_count": 3,
   "id": "ea1adaec",
   "metadata": {
    "execution": {
     "iopub.execute_input": "2021-11-08T23:07:58.370773Z",
     "iopub.status.busy": "2021-11-08T23:07:58.370285Z",
     "iopub.status.idle": "2021-11-09T00:29:32.718760Z",
     "shell.execute_reply": "2021-11-09T00:29:32.719333Z"
    },
    "papermill": {
     "duration": 4894.355286,
     "end_time": "2021-11-09T00:29:32.719690",
     "exception": false,
     "start_time": "2021-11-08T23:07:58.364404",
     "status": "completed"
    },
    "tags": []
   },
   "outputs": [
    {
     "name": "stderr",
     "output_type": "stream",
     "text": [
      "Matplotlib created a temporary config/cache directory at /tmp/matplotlib-8vov97d2 because the default path (/home/z/zingg/tmontoya/.config/matplotlib) is not a writable directory; it is highly recommended to set the MPLCONFIGDIR environment variable to a writable directory, in particular to speed up the import of Matplotlib and to better support multiprocessing.\n"
     ]
    },
    {
     "name": "stdout",
     "output_type": "stream",
     "text": [
      "euler_m04p3cpt2_weak\n"
     ]
    },
    {
     "name": "stdout",
     "output_type": "stream",
     "text": [
      "loaded from time step  62667\n"
     ]
    }
   ],
   "source": [
    "import sys  \n",
    "import numpy as np\n",
    "sys.path.insert(0, '../src')\n",
    "from Driver import euler_driver\n",
    "\n",
    "solver = euler_driver(mach_number=mach_number, \n",
    "                      theta=np.pi/4,\n",
    "                        p=p, M=M, L=L,\n",
    "                        p_map=p_map, c=c, \n",
    "                        discretization_type=discretization_type,\n",
    "                        new_mesh=False,\n",
    "                        form=form, restart=True,run=True)"
   ]
  }
 ],
 "metadata": {
  "celltoolbar": "Tags",
  "interpreter": {
   "hash": "8a4c5cff9d1eb01f6f91880bd866b35b24d8468d7e92aa7ef6f6962744ecb1db"
  },
  "kernelspec": {
   "display_name": "Python 3.9.5 64-bit ('base': conda)",
   "name": "python3"
  },
  "language_info": {
   "codemirror_mode": {
    "name": "ipython",
    "version": 3
   },
   "file_extension": ".py",
   "mimetype": "text/x-python",
   "name": "python",
   "nbconvert_exporter": "python",
   "pygments_lexer": "ipython3",
   "version": "3.8.5"
  },
  "papermill": {
   "default_parameters": {},
   "duration": 4898.201481,
   "end_time": "2021-11-09T00:29:33.031248",
   "environment_variables": {},
   "exception": null,
   "input_path": "euler_driver.ipynb",
   "output_path": "euler_m04p3cpt2_weak.ipynb",
   "parameters": {
    "c": "c_+",
    "discretization_type": 2,
    "form": "weak",
    "mach_number": 0.4,
    "p": 3,
    "p_map": 3
   },
   "start_time": "2021-11-08T23:07:54.829767",
   "version": "2.3.3"
  }
 },
 "nbformat": 4,
 "nbformat_minor": 5
}