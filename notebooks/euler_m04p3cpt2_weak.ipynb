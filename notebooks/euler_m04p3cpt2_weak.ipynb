{
 "cells": [
  {
   "cell_type": "code",
   "execution_count": 1,
   "id": "1e24d097",
   "metadata": {
    "execution": {
     "iopub.execute_input": "2021-05-13T13:01:27.284762Z",
     "iopub.status.busy": "2021-05-13T13:01:27.283395Z",
     "iopub.status.idle": "2021-05-13T13:01:27.285359Z",
     "shell.execute_reply": "2021-05-13T13:01:27.284043Z"
    },
    "papermill": {
     "duration": 0.038938,
     "end_time": "2021-05-13T13:01:27.285514",
     "exception": false,
     "start_time": "2021-05-13T13:01:27.246576",
     "status": "completed"
    },
    "tags": [
     "parameters"
    ]
   },
   "outputs": [],
   "source": [
    "mach_number=0.4\n",
    "p=2\n",
    "M=10\n",
    "L=10.0\n",
    "p_geo=2\n",
    "c=\"c_dg\"\n",
    "discretization_type=1\n",
    "form=\"strong\""
   ]
  },
  {
   "cell_type": "code",
   "execution_count": 2,
   "id": "0a813861",
   "metadata": {
    "execution": {
     "iopub.execute_input": "2021-05-13T13:01:27.325987Z",
     "iopub.status.busy": "2021-05-13T13:01:27.324857Z",
     "iopub.status.idle": "2021-05-13T13:01:27.326595Z",
     "shell.execute_reply": "2021-05-13T13:01:27.325407Z"
    },
    "papermill": {
     "duration": 0.019087,
     "end_time": "2021-05-13T13:01:27.326723",
     "exception": false,
     "start_time": "2021-05-13T13:01:27.307636",
     "status": "completed"
    },
    "tags": [
     "injected-parameters"
    ]
   },
   "outputs": [],
   "source": [
    "# Parameters\n",
    "mach_number = 0.4\n",
    "p = 3\n",
    "p_geo = 3\n",
    "c = \"c_+\"\n",
    "discretization_type = 2\n",
    "form = \"weak\"\n"
   ]
  },
  {
   "cell_type": "code",
   "execution_count": 3,
   "id": "463f8f22",
   "metadata": {
    "execution": {
     "iopub.execute_input": "2021-05-13T13:01:27.345777Z",
     "iopub.status.busy": "2021-05-13T13:01:27.345115Z",
     "iopub.status.idle": "2021-05-14T07:00:48.103984Z",
     "shell.execute_reply": "2021-05-14T07:00:48.104461Z"
    },
    "papermill": {
     "duration": 64760.773506,
     "end_time": "2021-05-14T07:00:48.104649",
     "exception": false,
     "start_time": "2021-05-13T13:01:27.331143",
     "status": "completed"
    },
    "tags": []
   },
   "outputs": [
    {
     "name": "stdout",
     "output_type": "stream",
     "text": [
      "euler_m04p3cpt2_weak\n"
     ]
    },
    {
     "name": "stdout",
     "output_type": "stream",
     "text": [
      "1.421e-13 &  5.536e-02  \\\\\n",
      "2.771e-13 &  1.534e-01  \\\\\n",
      "8.171e-14 &  1.383e-01  \\\\\n",
      "2.842e-13 &  1.452e-01  \\\\\n"
     ]
    }
   ],
   "source": [
    "import sys  \n",
    "import numpy as np\n",
    "sys.path.insert(0, '../src')\n",
    "from Driver import euler_driver\n",
    "\n",
    "solver = euler_driver(mach_number=mach_number, \n",
    "                      theta=np.pi/4,\n",
    "                        p=p, M=M, L=L,\n",
    "                        p_geo=p_geo, c=c, \n",
    "                        discretization_type=discretization_type,\n",
    "                        form=form)"
   ]
  },
  {
   "cell_type": "code",
   "execution_count": null,
   "id": "487952be",
   "metadata": {
    "papermill": {
     "duration": 0.005131,
     "end_time": "2021-05-14T07:00:48.115399",
     "exception": false,
     "start_time": "2021-05-14T07:00:48.110268",
     "status": "completed"
    },
    "tags": []
   },
   "outputs": [],
   "source": []
  }
 ],
 "metadata": {
  "celltoolbar": "Tags",
  "kernelspec": {
   "display_name": "Python 3",
   "language": "python",
   "name": "python3"
  },
  "language_info": {
   "codemirror_mode": {
    "name": "ipython",
    "version": 3
   },
   "file_extension": ".py",
   "mimetype": "text/x-python",
   "name": "python",
   "nbconvert_exporter": "python",
   "pygments_lexer": "ipython3",
   "version": "3.8.5"
  },
  "papermill": {
   "default_parameters": {},
   "duration": 64762.812662,
   "end_time": "2021-05-14T07:00:48.631883",
   "environment_variables": {},
   "exception": null,
   "input_path": "euler_driver.ipynb",
   "output_path": "euler_m04p3cpt2_weak.ipynb",
   "parameters": {
    "c": "c_+",
    "discretization_type": 2,
    "form": "weak",
    "mach_number": 0.4,
    "p": 3,
    "p_geo": 3
   },
   "start_time": "2021-05-13T13:01:25.819221",
   "version": "2.3.3"
  }
 },
 "nbformat": 4,
 "nbformat_minor": 5
}