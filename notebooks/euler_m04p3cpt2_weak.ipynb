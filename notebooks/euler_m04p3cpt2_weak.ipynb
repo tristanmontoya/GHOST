{
 "cells": [
  {
   "cell_type": "code",
   "execution_count": 1,
   "id": "a6a39781",
   "metadata": {
    "execution": {
     "iopub.execute_input": "2021-05-08T19:25:59.026568Z",
     "iopub.status.busy": "2021-05-08T19:25:59.025893Z",
     "iopub.status.idle": "2021-05-08T19:25:59.039240Z",
     "shell.execute_reply": "2021-05-08T19:25:59.027920Z"
    },
    "papermill": {
     "duration": 0.040832,
     "end_time": "2021-05-08T19:25:59.039404",
     "exception": false,
     "start_time": "2021-05-08T19:25:58.998572",
     "status": "completed"
    },
    "tags": [
     "parameters"
    ]
   },
   "outputs": [],
   "source": [
    "mach_number=0.4\n",
    "p=2\n",
    "M=11\n",
    "L=10.0\n",
    "p_geo=2\n",
    "c=\"c_dg\"\n",
    "discretization_type=1\n",
    "form=\"strong\""
   ]
  },
  {
   "cell_type": "code",
   "execution_count": 2,
   "id": "604e66a1",
   "metadata": {
    "execution": {
     "iopub.execute_input": "2021-05-08T19:25:59.053909Z",
     "iopub.status.busy": "2021-05-08T19:25:59.053292Z",
     "iopub.status.idle": "2021-05-08T19:25:59.056011Z",
     "shell.execute_reply": "2021-05-08T19:25:59.055380Z"
    },
    "papermill": {
     "duration": 0.011792,
     "end_time": "2021-05-08T19:25:59.056136",
     "exception": false,
     "start_time": "2021-05-08T19:25:59.044344",
     "status": "completed"
    },
    "tags": [
     "injected-parameters"
    ]
   },
   "outputs": [],
   "source": [
    "# Parameters\n",
    "mach_number = 0.4\n",
    "p = 3\n",
    "p_geo = 3\n",
    "c = \"c_+\"\n",
    "discretization_type = 2\n",
    "form = \"weak\"\n"
   ]
  },
  {
   "cell_type": "code",
   "execution_count": 3,
   "id": "d8859dc9",
   "metadata": {
    "execution": {
     "iopub.execute_input": "2021-05-08T19:25:59.080582Z",
     "iopub.status.busy": "2021-05-08T19:25:59.079810Z",
     "iopub.status.idle": "2021-05-09T15:54:55.201276Z",
     "shell.execute_reply": "2021-05-09T15:54:55.199752Z"
    },
    "papermill": {
     "duration": 73736.135422,
     "end_time": "2021-05-09T15:54:55.201510",
     "exception": false,
     "start_time": "2021-05-08T19:25:59.066088",
     "status": "completed"
    },
    "tags": []
   },
   "outputs": [
    {
     "name": "stderr",
     "output_type": "stream",
     "text": [
      "WARNING:root:msh4 requires 3D points, but 2D points given. Appending 0 third component.\n"
     ]
    },
    {
     "name": "stderr",
     "output_type": "stream",
     "text": [
      "WARNING:root:Binary Gmsh needs c_size_t (got int64). Converting.\n"
     ]
    },
    {
     "name": "stdout",
     "output_type": "stream",
     "text": [
      "running solver euler_m04p3cpt2_weak\n"
     ]
    },
    {
     "name": "stdout",
     "output_type": "stream",
     "text": [
      "1.990e-13 &  3.876e-02  \\\\\n",
      "2.416e-13 &  1.148e-01  \\\\\n",
      "4.192e-13 &  9.658e-02  \\\\\n",
      "4.263e-13 &  9.641e-02  \\\\\n"
     ]
    }
   ],
   "source": [
    "import sys  \n",
    "sys.path.insert(0, '../src')\n",
    "from Driver import euler_driver\n",
    "\n",
    "solver = euler_driver(mach_number=mach_number, \n",
    "                        p=p, M=M, L=L,\n",
    "                        p_geo=p_geo, c=c, \n",
    "                        discretization_type=discretization_type,\n",
    "                        form=form)"
   ]
  },
  {
   "cell_type": "code",
   "execution_count": null,
   "id": "6203aa8a",
   "metadata": {
    "papermill": {
     "duration": 0.008265,
     "end_time": "2021-05-09T15:54:55.218672",
     "exception": false,
     "start_time": "2021-05-09T15:54:55.210407",
     "status": "completed"
    },
    "tags": []
   },
   "outputs": [],
   "source": []
  }
 ],
 "metadata": {
  "celltoolbar": "Tags",
  "kernelspec": {
   "display_name": "Python 3",
   "language": "python",
   "name": "python3"
  },
  "language_info": {
   "codemirror_mode": {
    "name": "ipython",
    "version": 3
   },
   "file_extension": ".py",
   "mimetype": "text/x-python",
   "name": "python",
   "nbconvert_exporter": "python",
   "pygments_lexer": "ipython3",
   "version": "3.8.5"
  },
  "papermill": {
   "default_parameters": {},
   "duration": 73738.550819,
   "end_time": "2021-05-09T15:54:56.456031",
   "environment_variables": {},
   "exception": null,
   "input_path": "euler_driver.ipynb",
   "output_path": "euler_m04p3cpt2_weak.ipynb",
   "parameters": {
    "c": "c_+",
    "discretization_type": 2,
    "form": "weak",
    "mach_number": 0.4,
    "p": 3,
    "p_geo": 3
   },
   "start_time": "2021-05-08T19:25:57.905212",
   "version": "2.3.3"
  }
 },
 "nbformat": 4,
 "nbformat_minor": 5
}