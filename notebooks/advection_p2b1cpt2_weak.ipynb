{
 "cells": [
  {
   "cell_type": "code",
   "execution_count": 1,
   "id": "197f72c8",
   "metadata": {
    "execution": {
     "iopub.execute_input": "2021-05-11T03:10:11.200248Z",
     "iopub.status.busy": "2021-05-11T03:10:11.198964Z",
     "iopub.status.idle": "2021-05-11T03:10:11.200852Z",
     "shell.execute_reply": "2021-05-11T03:10:11.199549Z"
    },
    "papermill": {
     "duration": 0.083043,
     "end_time": "2021-05-11T03:10:11.201004",
     "exception": false,
     "start_time": "2021-05-11T03:10:11.117961",
     "status": "completed"
    },
    "tags": [
     "parameters"
    ]
   },
   "outputs": [],
   "source": [
    "p=2\n",
    "M=10\n",
    "L=1\n",
    "p_geo=1\n",
    "c=\"c_dg\"\n",
    "discretization_type=1\n",
    "upwind_parameter=1.0\n",
    "form=\"strong\""
   ]
  },
  {
   "cell_type": "code",
   "execution_count": 2,
   "id": "da30eff8",
   "metadata": {
    "execution": {
     "iopub.execute_input": "2021-05-11T03:10:11.270067Z",
     "iopub.status.busy": "2021-05-11T03:10:11.268823Z",
     "iopub.status.idle": "2021-05-11T03:10:11.270743Z",
     "shell.execute_reply": "2021-05-11T03:10:11.269393Z"
    },
    "papermill": {
     "duration": 0.063637,
     "end_time": "2021-05-11T03:10:11.270880",
     "exception": false,
     "start_time": "2021-05-11T03:10:11.207243",
     "status": "completed"
    },
    "tags": [
     "injected-parameters"
    ]
   },
   "outputs": [],
   "source": [
    "# Parameters\n",
    "p = 2\n",
    "p_geo = 1\n",
    "upwind_parameter = 1.0\n",
    "c = \"c_+\"\n",
    "discretization_type = 2\n",
    "form = \"weak\"\n"
   ]
  },
  {
   "cell_type": "code",
   "execution_count": 3,
   "id": "33ee5a15",
   "metadata": {
    "execution": {
     "iopub.execute_input": "2021-05-11T03:10:11.377102Z",
     "iopub.status.busy": "2021-05-11T03:10:11.376385Z",
     "iopub.status.idle": "2021-05-11T04:33:46.432832Z",
     "shell.execute_reply": "2021-05-11T04:33:46.433528Z"
    },
    "papermill": {
     "duration": 5015.158101,
     "end_time": "2021-05-11T04:33:46.433749",
     "exception": false,
     "start_time": "2021-05-11T03:10:11.275648",
     "status": "completed"
    },
    "tags": []
   },
   "outputs": [
    {
     "name": "stderr",
     "output_type": "stream",
     "text": [
      "WARNING:root:msh4 requires 3D points, but 2D points given. Appending 0 third component.\n"
     ]
    },
    {
     "name": "stderr",
     "output_type": "stream",
     "text": [
      "WARNING:root:Binary Gmsh needs c_size_t (got int64). Converting.\n"
     ]
    },
    {
     "name": "stdout",
     "output_type": "stream",
     "text": [
      "advection_p2b1cpt2_weak\n"
     ]
    },
    {
     "name": "stdout",
     "output_type": "stream",
     "text": [
      "-2.679e-16 &  -2.043e-02 & 4.402e-02  \\\\\n"
     ]
    }
   ],
   "source": [
    "import sys  \n",
    "import numpy as np\n",
    "sys.path.insert(0, '../src')\n",
    "from Driver import advection_driver\n",
    "\n",
    "solver = advection_driver(a=np.sqrt(2), theta=np.pi/4, p=p, M=M, L=L,\n",
    "                        p_geo=p_geo, c=c, \n",
    "                        discretization_type=discretization_type,\n",
    "                        upwind_parameter=upwind_parameter,\n",
    "                        form=form)"
   ]
  },
  {
   "cell_type": "code",
   "execution_count": null,
   "id": "0752ed0e",
   "metadata": {
    "papermill": {
     "duration": 0.00815,
     "end_time": "2021-05-11T04:33:46.450553",
     "exception": false,
     "start_time": "2021-05-11T04:33:46.442403",
     "status": "completed"
    },
    "tags": []
   },
   "outputs": [],
   "source": []
  }
 ],
 "metadata": {
  "celltoolbar": "Tags",
  "kernelspec": {
   "display_name": "Python 3",
   "language": "python",
   "name": "python3"
  },
  "language_info": {
   "codemirror_mode": {
    "name": "ipython",
    "version": 3
   },
   "file_extension": ".py",
   "mimetype": "text/x-python",
   "name": "python",
   "nbconvert_exporter": "python",
   "pygments_lexer": "ipython3",
   "version": "3.8.5"
  },
  "papermill": {
   "default_parameters": {},
   "duration": 5017.926563,
   "end_time": "2021-05-11T04:33:47.709975",
   "environment_variables": {},
   "exception": null,
   "input_path": "advection_driver.ipynb",
   "output_path": "advection_p2b1cpt2_weak.ipynb",
   "parameters": {
    "c": "c_+",
    "discretization_type": 2,
    "form": "weak",
    "p": 2,
    "p_geo": 1,
    "upwind_parameter": 1.0
   },
   "start_time": "2021-05-11T03:10:09.783412",
   "version": "2.3.3"
  }
 },
 "nbformat": 4,
 "nbformat_minor": 5
}