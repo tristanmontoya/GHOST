{
 "cells": [
  {
   "cell_type": "markdown",
   "id": "c4366706",
   "metadata": {
    "papermill": {
     "duration": 0.003395,
     "end_time": "2021-10-27T13:32:59.689260",
     "exception": false,
     "start_time": "2021-10-27T13:32:59.685865",
     "status": "completed"
    },
    "tags": []
   },
   "source": [
    "# GHOST driver - linear advection equation"
   ]
  },
  {
   "cell_type": "code",
   "execution_count": 1,
   "id": "7c3b239c",
   "metadata": {
    "execution": {
     "iopub.execute_input": "2021-10-27T13:32:59.701570Z",
     "iopub.status.busy": "2021-10-27T13:32:59.701088Z",
     "iopub.status.idle": "2021-10-27T13:32:59.703111Z",
     "shell.execute_reply": "2021-10-27T13:32:59.702635Z"
    },
    "papermill": {
     "duration": 0.009129,
     "end_time": "2021-10-27T13:32:59.703224",
     "exception": false,
     "start_time": "2021-10-27T13:32:59.694095",
     "status": "completed"
    },
    "tags": [
     "parameters"
    ]
   },
   "outputs": [],
   "source": [
    "p=2\n",
    "M=8\n",
    "L=1\n",
    "p_map=1\n",
    "c=\"c_+\"\n",
    "discretization_type=1\n",
    "upwind_parameter=0.0\n",
    "form=\"weak\""
   ]
  },
  {
   "cell_type": "code",
   "execution_count": 2,
   "id": "2591cb2a",
   "metadata": {
    "execution": {
     "iopub.execute_input": "2021-10-27T13:32:59.714337Z",
     "iopub.status.busy": "2021-10-27T13:32:59.713853Z",
     "iopub.status.idle": "2021-10-27T13:32:59.715225Z",
     "shell.execute_reply": "2021-10-27T13:32:59.715595Z"
    },
    "papermill": {
     "duration": 0.007856,
     "end_time": "2021-10-27T13:32:59.715726",
     "exception": false,
     "start_time": "2021-10-27T13:32:59.707870",
     "status": "completed"
    },
    "tags": [
     "injected-parameters"
    ]
   },
   "outputs": [],
   "source": [
    "# Parameters\n",
    "p = 3\n",
    "p_map = 1\n",
    "upwind_parameter = 1.0\n",
    "c = \"c_dg\"\n",
    "discretization_type = 1\n",
    "form = \"strong\"\n"
   ]
  },
  {
   "cell_type": "code",
   "execution_count": 3,
   "id": "9b0d0385",
   "metadata": {
    "execution": {
     "iopub.execute_input": "2021-10-27T13:32:59.726213Z",
     "iopub.status.busy": "2021-10-27T13:32:59.725750Z",
     "iopub.status.idle": "2021-10-27T14:25:43.352133Z",
     "shell.execute_reply": "2021-10-27T14:25:43.352633Z"
    },
    "papermill": {
     "duration": 3163.633742,
     "end_time": "2021-10-27T14:25:43.352859",
     "exception": false,
     "start_time": "2021-10-27T13:32:59.719117",
     "status": "completed"
    },
    "tags": []
   },
   "outputs": [
    {
     "name": "stderr",
     "output_type": "stream",
     "text": [
      "Matplotlib created a temporary config/cache directory at /tmp/matplotlib-tprgl54r because the default path (/home/z/zingg/tmontoya/.config/matplotlib) is not a writable directory; it is highly recommended to set the MPLCONFIGDIR environment variable to a writable directory, in particular to speed up the import of Matplotlib and to better support multiprocessing.\n"
     ]
    },
    {
     "name": "stdout",
     "output_type": "stream",
     "text": [
      "advection_p3b1c0t1_strong\n"
     ]
    }
   ],
   "source": [
    "import sys  \n",
    "import numpy as np\n",
    "sys.path.insert(0, '../src')\n",
    "from Driver import advection_driver\n",
    "\n",
    "solver = advection_driver(a=np.sqrt(2), theta=np.pi/4, p=p, M=M, L=L,\n",
    "                        p_map=p_map, c=c, \n",
    "                        discretization_type=discretization_type,\n",
    "                        upwind_parameter=upwind_parameter,\n",
    "                        new_mesh=False,form=form,restart=True,run=True)"
   ]
  }
 ],
 "metadata": {
  "celltoolbar": "Tags",
  "interpreter": {
   "hash": "8a4c5cff9d1eb01f6f91880bd866b35b24d8468d7e92aa7ef6f6962744ecb1db"
  },
  "kernelspec": {
   "display_name": "Python 3.9.5 64-bit ('base': conda)",
   "name": "python3"
  },
  "language_info": {
   "codemirror_mode": {
    "name": "ipython",
    "version": 3
   },
   "file_extension": ".py",
   "mimetype": "text/x-python",
   "name": "python",
   "nbconvert_exporter": "python",
   "pygments_lexer": "ipython3",
   "version": "3.8.5"
  },
  "papermill": {
   "default_parameters": {},
   "duration": 3165.778235,
   "end_time": "2021-10-27T14:25:43.764706",
   "environment_variables": {},
   "exception": null,
   "input_path": "advection_driver.ipynb",
   "output_path": "advection_p3b1c0t1_strong.ipynb",
   "parameters": {
    "c": "c_dg",
    "discretization_type": 1,
    "form": "strong",
    "p": 3,
    "p_map": 1,
    "upwind_parameter": 1.0
   },
   "start_time": "2021-10-27T13:32:57.986471",
   "version": "2.3.3"
  }
 },
 "nbformat": 4,
 "nbformat_minor": 5
}