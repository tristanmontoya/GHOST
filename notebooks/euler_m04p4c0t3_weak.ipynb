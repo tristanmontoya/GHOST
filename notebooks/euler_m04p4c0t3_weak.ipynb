{
 "cells": [
  {
   "cell_type": "code",
   "execution_count": 1,
   "id": "a5c53778",
   "metadata": {
    "execution": {
     "iopub.execute_input": "2021-05-08T19:26:04.959144Z",
     "iopub.status.busy": "2021-05-08T19:26:04.958468Z",
     "iopub.status.idle": "2021-05-08T19:26:04.961843Z",
     "shell.execute_reply": "2021-05-08T19:26:04.961209Z"
    },
    "papermill": {
     "duration": 0.021622,
     "end_time": "2021-05-08T19:26:04.962015",
     "exception": false,
     "start_time": "2021-05-08T19:26:04.940393",
     "status": "completed"
    },
    "tags": [
     "parameters"
    ]
   },
   "outputs": [],
   "source": [
    "mach_number=0.4\n",
    "p=2\n",
    "M=11\n",
    "L=10.0\n",
    "p_geo=2\n",
    "c=\"c_dg\"\n",
    "discretization_type=1\n",
    "form=\"strong\""
   ]
  },
  {
   "cell_type": "code",
   "execution_count": 2,
   "id": "d81be7f8",
   "metadata": {
    "execution": {
     "iopub.execute_input": "2021-05-08T19:26:05.007991Z",
     "iopub.status.busy": "2021-05-08T19:26:04.994703Z",
     "iopub.status.idle": "2021-05-08T19:26:05.008623Z",
     "shell.execute_reply": "2021-05-08T19:26:04.995285Z"
    },
    "papermill": {
     "duration": 0.040637,
     "end_time": "2021-05-08T19:26:05.008781",
     "exception": false,
     "start_time": "2021-05-08T19:26:04.968144",
     "status": "completed"
    },
    "tags": [
     "injected-parameters"
    ]
   },
   "outputs": [],
   "source": [
    "# Parameters\n",
    "mach_number = 0.4\n",
    "p = 4\n",
    "p_geo = 4\n",
    "c = \"c_dg\"\n",
    "discretization_type = 3\n",
    "form = \"weak\"\n"
   ]
  },
  {
   "cell_type": "code",
   "execution_count": null,
   "id": "1355eb0a",
   "metadata": {
    "papermill": {
     "duration": null,
     "end_time": null,
     "exception": false,
     "start_time": "2021-05-08T19:26:05.013502",
     "status": "running"
    },
    "tags": []
   },
   "outputs": [],
   "source": [
    "import sys  \n",
    "sys.path.insert(0, '../src')\n",
    "from Driver import euler_driver\n",
    "\n",
    "solver = euler_driver(mach_number=mach_number, \n",
    "                        p=p, M=M, L=L,\n",
    "                        p_geo=p_geo, c=c, \n",
    "                        discretization_type=discretization_type,\n",
    "                        form=form)"
   ]
  },
  {
   "cell_type": "code",
   "execution_count": null,
   "id": "f3ed00b6",
   "metadata": {
    "papermill": {
     "duration": null,
     "end_time": null,
     "exception": null,
     "start_time": null,
     "status": "pending"
    },
    "tags": []
   },
   "outputs": [],
   "source": []
  }
 ],
 "metadata": {
  "celltoolbar": "Tags",
  "kernelspec": {
   "display_name": "Python 3",
   "language": "python",
   "name": "python3"
  },
  "language_info": {
   "codemirror_mode": {
    "name": "ipython",
    "version": 3
   },
   "file_extension": ".py",
   "mimetype": "text/x-python",
   "name": "python",
   "nbconvert_exporter": "python",
   "pygments_lexer": "ipython3",
   "version": "3.7.9"
  },
  "papermill": {
   "default_parameters": {},
   "duration": null,
   "end_time": null,
   "environment_variables": {},
   "exception": null,
   "input_path": "euler_driver.ipynb",
   "output_path": "euler_m04p4c0t3_weak.ipynb",
   "parameters": {
    "c": "c_dg",
    "discretization_type": 3,
    "form": "weak",
    "mach_number": 0.4,
    "p": 4,
    "p_geo": 4
   },
   "start_time": "2021-05-08T19:26:03.329393",
   "version": "2.3.3"
  }
 },
 "nbformat": 4,
 "nbformat_minor": 5
}