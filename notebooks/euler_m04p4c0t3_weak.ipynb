{
 "cells": [
  {
   "cell_type": "markdown",
   "id": "cbd77f00",
   "metadata": {
    "papermill": {
     "duration": 0.005034,
     "end_time": "2021-12-11T03:48:25.569090",
     "exception": false,
     "start_time": "2021-12-11T03:48:25.564056",
     "status": "completed"
    },
    "tags": []
   },
   "source": [
    "# GHOST driver - Euler equations"
   ]
  },
  {
   "cell_type": "code",
   "execution_count": 1,
   "id": "a7431f6c",
   "metadata": {
    "execution": {
     "iopub.execute_input": "2021-12-11T03:48:25.601013Z",
     "iopub.status.busy": "2021-12-11T03:48:25.600315Z",
     "iopub.status.idle": "2021-12-11T03:48:25.601763Z",
     "shell.execute_reply": "2021-12-11T03:48:25.602323Z"
    },
    "papermill": {
     "duration": 0.025363,
     "end_time": "2021-12-11T03:48:25.602557",
     "exception": false,
     "start_time": "2021-12-11T03:48:25.577194",
     "status": "completed"
    },
    "tags": [
     "parameters"
    ]
   },
   "outputs": [],
   "source": [
    "mach_number=0.4\n",
    "p=2\n",
    "M=16\n",
    "L=10.0\n",
    "p_map=2\n",
    "c=\"c_dg\"\n",
    "discretization_type=1\n",
    "form=\"weak\""
   ]
  },
  {
   "cell_type": "code",
   "execution_count": 2,
   "id": "a367f09e",
   "metadata": {
    "execution": {
     "iopub.execute_input": "2021-12-11T03:48:25.660023Z",
     "iopub.status.busy": "2021-12-11T03:48:25.659230Z",
     "iopub.status.idle": "2021-12-11T03:48:25.662439Z",
     "shell.execute_reply": "2021-12-11T03:48:25.661751Z"
    },
    "papermill": {
     "duration": 0.016781,
     "end_time": "2021-12-11T03:48:25.662592",
     "exception": false,
     "start_time": "2021-12-11T03:48:25.645811",
     "status": "completed"
    },
    "tags": [
     "injected-parameters"
    ]
   },
   "outputs": [],
   "source": [
    "# Parameters\n",
    "mach_number = 0.4\n",
    "p = 4\n",
    "p_map = 4\n",
    "c = \"c_dg\"\n",
    "discretization_type = 3\n",
    "form = \"weak\"\n"
   ]
  },
  {
   "cell_type": "code",
   "execution_count": 3,
   "id": "4cec4ab5",
   "metadata": {
    "execution": {
     "iopub.execute_input": "2021-12-11T03:48:25.681495Z",
     "iopub.status.busy": "2021-12-11T03:48:25.680739Z",
     "iopub.status.idle": "2021-12-11T03:48:46.790931Z",
     "shell.execute_reply": "2021-12-11T03:48:46.790486Z"
    },
    "papermill": {
     "duration": 21.119143,
     "end_time": "2021-12-11T03:48:46.791039",
     "exception": false,
     "start_time": "2021-12-11T03:48:25.671896",
     "status": "completed"
    },
    "tags": []
   },
   "outputs": [
    {
     "name": "stderr",
     "output_type": "stream",
     "text": [
      "Matplotlib created a temporary config/cache directory at /tmp/matplotlib-z8ndaig0 because the default path (/home/z/zingg/tmontoya/.config/matplotlib) is not a writable directory; it is highly recommended to set the MPLCONFIGDIR environment variable to a writable directory, in particular to speed up the import of Matplotlib and to better support multiprocessing.\n"
     ]
    },
    {
     "name": "stdout",
     "output_type": "stream",
     "text": [
      "euler_m04p4c0t3_weak\n"
     ]
    },
    {
     "name": "stdout",
     "output_type": "stream",
     "text": [
      "loaded from time step  81458\n"
     ]
    }
   ],
   "source": [
    "import sys  \n",
    "import numpy as np\n",
    "sys.path.insert(0, '../src')\n",
    "from Driver import euler_driver\n",
    "\n",
    "solver = euler_driver(mach_number=mach_number, \n",
    "                      theta=np.pi/4,\n",
    "                        p=p, M=M, L=L,\n",
    "                        p_map=p_map, c=c, \n",
    "                        discretization_type=discretization_type,\n",
    "                        new_mesh=False,\n",
    "                        form=form, restart=True,run=True)"
   ]
  }
 ],
 "metadata": {
  "celltoolbar": "Tags",
  "interpreter": {
   "hash": "8a4c5cff9d1eb01f6f91880bd866b35b24d8468d7e92aa7ef6f6962744ecb1db"
  },
  "kernelspec": {
   "display_name": "Python 3.9.5 64-bit ('base': conda)",
   "name": "python3"
  },
  "language_info": {
   "codemirror_mode": {
    "name": "ipython",
    "version": 3
   },
   "file_extension": ".py",
   "mimetype": "text/x-python",
   "name": "python",
   "nbconvert_exporter": "python",
   "pygments_lexer": "ipython3",
   "version": "3.8.5"
  },
  "papermill": {
   "default_parameters": {},
   "duration": 22.691738,
   "end_time": "2021-12-11T03:48:47.200328",
   "environment_variables": {},
   "exception": null,
   "input_path": "euler_driver.ipynb",
   "output_path": "euler_m04p4c0t3_weak.ipynb",
   "parameters": {
    "c": "c_dg",
    "discretization_type": 3,
    "form": "weak",
    "mach_number": 0.4,
    "p": 4,
    "p_map": 4
   },
   "start_time": "2021-12-11T03:48:24.508590",
   "version": "2.3.3"
  }
 },
 "nbformat": 4,
 "nbformat_minor": 5
}