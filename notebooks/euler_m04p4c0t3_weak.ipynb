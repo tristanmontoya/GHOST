{
 "cells": [
  {
   "cell_type": "code",
   "execution_count": 1,
   "id": "a5c53778",
   "metadata": {
    "execution": {
     "iopub.execute_input": "2021-05-08T19:26:04.959144Z",
     "iopub.status.busy": "2021-05-08T19:26:04.958468Z",
     "iopub.status.idle": "2021-05-08T19:26:04.961843Z",
     "shell.execute_reply": "2021-05-08T19:26:04.961209Z"
    },
    "papermill": {
     "duration": 0.021622,
     "end_time": "2021-05-08T19:26:04.962015",
     "exception": false,
     "start_time": "2021-05-08T19:26:04.940393",
     "status": "completed"
    },
    "tags": [
     "parameters"
    ]
   },
   "outputs": [],
   "source": [
    "mach_number=0.4\n",
    "p=2\n",
    "M=11\n",
    "L=10.0\n",
    "p_geo=2\n",
    "c=\"c_dg\"\n",
    "discretization_type=1\n",
    "form=\"strong\""
   ]
  },
  {
   "cell_type": "code",
   "execution_count": 2,
   "id": "d81be7f8",
   "metadata": {
    "execution": {
     "iopub.execute_input": "2021-05-08T19:26:05.007991Z",
     "iopub.status.busy": "2021-05-08T19:26:04.994703Z",
     "iopub.status.idle": "2021-05-08T19:26:05.008623Z",
     "shell.execute_reply": "2021-05-08T19:26:04.995285Z"
    },
    "papermill": {
     "duration": 0.040637,
     "end_time": "2021-05-08T19:26:05.008781",
     "exception": false,
     "start_time": "2021-05-08T19:26:04.968144",
     "status": "completed"
    },
    "tags": [
     "injected-parameters"
    ]
   },
   "outputs": [],
   "source": [
    "# Parameters\n",
    "mach_number = 0.4\n",
    "p = 4\n",
    "p_geo = 4\n",
    "c = \"c_dg\"\n",
    "discretization_type = 3\n",
    "form = \"weak\"\n"
   ]
  },
  {
   "cell_type": "code",
   "execution_count": 3,
   "id": "1355eb0a",
   "metadata": {
    "execution": {
     "iopub.execute_input": "2021-05-08T19:26:05.062717Z",
     "iopub.status.busy": "2021-05-08T19:26:05.062043Z",
     "iopub.status.idle": "2021-05-10T09:57:22.390492Z",
     "shell.execute_reply": "2021-05-10T09:57:22.391409Z"
    },
    "papermill": {
     "duration": 138677.378467,
     "end_time": "2021-05-10T09:57:22.391969",
     "exception": false,
     "start_time": "2021-05-08T19:26:05.013502",
     "status": "completed"
    },
    "tags": []
   },
   "outputs": [
    {
     "name": "stderr",
     "output_type": "stream",
     "text": [
      "WARNING:root:msh4 requires 3D points, but 2D points given. Appending 0 third component.\n"
     ]
    },
    {
     "name": "stderr",
     "output_type": "stream",
     "text": [
      "WARNING:root:Binary Gmsh needs c_size_t (got int64). Converting.\n"
     ]
    },
    {
     "name": "stdout",
     "output_type": "stream",
     "text": [
      "running solver euler_m04p4c0t3_weak\n"
     ]
    },
    {
     "name": "stdout",
     "output_type": "stream",
     "text": [
      "-8.527e-14 &  1.090e-02  \\\\\n",
      "-1.975e-12 &  1.836e-02  \\\\\n",
      "1.709e-12 &  1.981e-02  \\\\\n",
      "-2.842e-14 &  1.947e-02  \\\\\n"
     ]
    }
   ],
   "source": [
    "import sys  \n",
    "sys.path.insert(0, '../src')\n",
    "from Driver import euler_driver\n",
    "\n",
    "solver = euler_driver(mach_number=mach_number, \n",
    "                        p=p, M=M, L=L,\n",
    "                        p_geo=p_geo, c=c, \n",
    "                        discretization_type=discretization_type,\n",
    "                        form=form)"
   ]
  },
  {
   "cell_type": "code",
   "execution_count": null,
   "id": "f3ed00b6",
   "metadata": {
    "papermill": {
     "duration": 0.007772,
     "end_time": "2021-05-10T09:57:22.408928",
     "exception": false,
     "start_time": "2021-05-10T09:57:22.401156",
     "status": "completed"
    },
    "tags": []
   },
   "outputs": [],
   "source": []
  }
 ],
 "metadata": {
  "celltoolbar": "Tags",
  "kernelspec": {
   "display_name": "Python 3",
   "language": "python",
   "name": "python3"
  },
  "language_info": {
   "codemirror_mode": {
    "name": "ipython",
    "version": 3
   },
   "file_extension": ".py",
   "mimetype": "text/x-python",
   "name": "python",
   "nbconvert_exporter": "python",
   "pygments_lexer": "ipython3",
   "version": "3.8.5"
  },
  "papermill": {
   "default_parameters": {},
   "duration": 138681.069821,
   "end_time": "2021-05-10T09:57:24.399214",
   "environment_variables": {},
   "exception": null,
   "input_path": "euler_driver.ipynb",
   "output_path": "euler_m04p4c0t3_weak.ipynb",
   "parameters": {
    "c": "c_dg",
    "discretization_type": 3,
    "form": "weak",
    "mach_number": 0.4,
    "p": 4,
    "p_geo": 4
   },
   "start_time": "2021-05-08T19:26:03.329393",
   "version": "2.3.3"
  }
 },
 "nbformat": 4,
 "nbformat_minor": 5
}