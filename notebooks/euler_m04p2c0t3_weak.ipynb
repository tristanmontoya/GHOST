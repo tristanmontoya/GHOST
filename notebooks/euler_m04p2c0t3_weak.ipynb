{
 "cells": [
  {
   "cell_type": "code",
   "execution_count": 1,
   "metadata": {
    "execution": {
     "iopub.execute_input": "2020-12-30T03:05:46.548374Z",
     "iopub.status.busy": "2020-12-30T03:05:46.547138Z",
     "iopub.status.idle": "2020-12-30T03:05:46.548932Z",
     "shell.execute_reply": "2020-12-30T03:05:46.547700Z"
    },
    "papermill": {
     "duration": 0.021689,
     "end_time": "2020-12-30T03:05:46.549137",
     "exception": false,
     "start_time": "2020-12-30T03:05:46.527448",
     "status": "completed"
    },
    "tags": [
     "parameters"
    ]
   },
   "outputs": [],
   "source": [
    "mach_number=0.4\n",
    "p=2\n",
    "M=11\n",
    "L=10.0\n",
    "p_geo=2\n",
    "c=\"c_dg\"\n",
    "discretization_type=1\n",
    "form=\"strong\""
   ]
  },
  {
   "cell_type": "code",
   "execution_count": 2,
   "metadata": {
    "execution": {
     "iopub.execute_input": "2020-12-30T03:05:46.564710Z",
     "iopub.status.busy": "2020-12-30T03:05:46.563922Z",
     "iopub.status.idle": "2020-12-30T03:05:46.568155Z",
     "shell.execute_reply": "2020-12-30T03:05:46.567331Z"
    },
    "papermill": {
     "duration": 0.014836,
     "end_time": "2020-12-30T03:05:46.568355",
     "exception": false,
     "start_time": "2020-12-30T03:05:46.553519",
     "status": "completed"
    },
    "tags": [
     "injected-parameters"
    ]
   },
   "outputs": [],
   "source": [
    "# Parameters\n",
    "mach_number = 0.4\n",
    "p = 2\n",
    "c = \"c_dg\"\n",
    "discretization_type = 3\n",
    "form = \"weak\"\n"
   ]
  },
  {
   "cell_type": "code",
   "execution_count": 3,
   "metadata": {
    "execution": {
     "iopub.execute_input": "2020-12-30T03:05:46.586116Z",
     "iopub.status.busy": "2020-12-30T03:05:46.585463Z",
     "iopub.status.idle": "2020-12-30T13:54:23.340158Z",
     "shell.execute_reply": "2020-12-30T13:54:23.341110Z"
    },
    "papermill": {
     "duration": 38916.768259,
     "end_time": "2020-12-30T13:54:23.341576",
     "exception": false,
     "start_time": "2020-12-30T03:05:46.573317",
     "status": "completed"
    },
    "tags": []
   },
   "outputs": [
    {
     "name": "stderr",
     "output_type": "stream",
     "text": [
      "WARNING:root:msh4 requires 3D points, but 2D points given. Appending 0 third component.\n"
     ]
    },
    {
     "name": "stderr",
     "output_type": "stream",
     "text": [
      "WARNING:root:Binary Gmsh needs c_size_t (got int64). Converting.\n"
     ]
    },
    {
     "name": "stdout",
     "output_type": "stream",
     "text": [
      "running solver euler_m04p2c0t3_weak\n"
     ]
    },
    {
     "name": "stdout",
     "output_type": "stream",
     "text": [
      "-1.137e-13 &  7.181e-02  \\\\\n",
      "-1.670e-12 &  1.956e-01  \\\\\n",
      "1.410e-12 &  1.865e-01  \\\\\n",
      "-1.705e-13 &  2.157e-01  \\\\\n"
     ]
    }
   ],
   "source": [
    "import sys  \n",
    "sys.path.insert(0, '../src')\n",
    "from Driver import euler_driver\n",
    "\n",
    "solver = euler_driver(mach_number=mach_number, \n",
    "                        p=p, M=M, L=L,\n",
    "                        p_geo=p_geo, c=c, \n",
    "                        discretization_type=discretization_type,\n",
    "                        form=form)"
   ]
  },
  {
   "cell_type": "code",
   "execution_count": null,
   "metadata": {
    "papermill": {
     "duration": 0.008658,
     "end_time": "2020-12-30T13:54:23.359815",
     "exception": false,
     "start_time": "2020-12-30T13:54:23.351157",
     "status": "completed"
    },
    "tags": []
   },
   "outputs": [],
   "source": []
  }
 ],
 "metadata": {
  "celltoolbar": "Tags",
  "kernelspec": {
   "display_name": "Python 3",
   "language": "python",
   "name": "python3"
  },
  "language_info": {
   "codemirror_mode": {
    "name": "ipython",
    "version": 3
   },
   "file_extension": ".py",
   "mimetype": "text/x-python",
   "name": "python",
   "nbconvert_exporter": "python",
   "pygments_lexer": "ipython3",
   "version": "3.8.5"
  },
  "papermill": {
   "default_parameters": {},
   "duration": 38919.958671,
   "end_time": "2020-12-30T13:54:25.410473",
   "environment_variables": {},
   "exception": null,
   "input_path": "euler_driver.ipynb",
   "output_path": "euler_m04p2c0t3_weak.ipynb",
   "parameters": {
    "c": "c_dg",
    "discretization_type": 3,
    "form": "weak",
    "mach_number": 0.4,
    "p": 2
   },
   "start_time": "2020-12-30T03:05:45.451802",
   "version": "2.2.2"
  }
 },
 "nbformat": 4,
 "nbformat_minor": 2
}