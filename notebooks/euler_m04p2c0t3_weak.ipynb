{
 "cells": [
  {
   "cell_type": "code",
   "execution_count": 1,
   "id": "37baf46d",
   "metadata": {
    "execution": {
     "iopub.execute_input": "2021-05-14T22:14:03.874955Z",
     "iopub.status.busy": "2021-05-14T22:14:03.874328Z",
     "iopub.status.idle": "2021-05-14T22:14:03.884247Z",
     "shell.execute_reply": "2021-05-14T22:14:03.883575Z"
    },
    "papermill": {
     "duration": 0.023763,
     "end_time": "2021-05-14T22:14:03.884388",
     "exception": false,
     "start_time": "2021-05-14T22:14:03.860625",
     "status": "completed"
    },
    "tags": [
     "parameters"
    ]
   },
   "outputs": [],
   "source": [
    "mach_number=0.4\n",
    "p=2\n",
    "M=16\n",
    "L=10.0\n",
    "p_geo=2\n",
    "c=\"c_dg\"\n",
    "discretization_type=1\n",
    "form=\"strong\""
   ]
  },
  {
   "cell_type": "code",
   "execution_count": 2,
   "id": "00a097e2",
   "metadata": {
    "execution": {
     "iopub.execute_input": "2021-05-14T22:14:03.898875Z",
     "iopub.status.busy": "2021-05-14T22:14:03.898257Z",
     "iopub.status.idle": "2021-05-14T22:14:03.901277Z",
     "shell.execute_reply": "2021-05-14T22:14:03.900770Z"
    },
    "papermill": {
     "duration": 0.012181,
     "end_time": "2021-05-14T22:14:03.901414",
     "exception": false,
     "start_time": "2021-05-14T22:14:03.889233",
     "status": "completed"
    },
    "tags": [
     "injected-parameters"
    ]
   },
   "outputs": [],
   "source": [
    "# Parameters\n",
    "mach_number = 0.4\n",
    "p = 2\n",
    "p_geo = 2\n",
    "c = \"c_dg\"\n",
    "discretization_type = 3\n",
    "form = \"weak\"\n"
   ]
  },
  {
   "cell_type": "code",
   "execution_count": 3,
   "id": "8b770568",
   "metadata": {
    "execution": {
     "iopub.execute_input": "2021-05-14T22:14:03.925415Z",
     "iopub.status.busy": "2021-05-14T22:14:03.924805Z",
     "iopub.status.idle": "2021-05-17T05:18:22.054590Z",
     "shell.execute_reply": "2021-05-17T05:18:22.055326Z"
    },
    "papermill": {
     "duration": 198258.149636,
     "end_time": "2021-05-17T05:18:22.055632",
     "exception": false,
     "start_time": "2021-05-14T22:14:03.905996",
     "status": "completed"
    },
    "tags": []
   },
   "outputs": [
    {
     "name": "stdout",
     "output_type": "stream",
     "text": [
      "euler_m04p2c0t3_weak\n"
     ]
    },
    {
     "name": "stdout",
     "output_type": "stream",
     "text": [
      "-1.563e-13 &  3.002e-02  \\\\\n",
      "-1.787e-12 &  5.836e-02  \\\\\n",
      "1.631e-12 &  5.970e-02  \\\\\n",
      "-5.400e-13 &  7.521e-02  \\\\\n"
     ]
    }
   ],
   "source": [
    "import sys  \n",
    "import numpy as np\n",
    "sys.path.insert(0, '../src')\n",
    "from Driver import euler_driver\n",
    "\n",
    "solver = euler_driver(mach_number=mach_number, \n",
    "                      theta=np.pi/4,\n",
    "                        p=p, M=M, L=L,\n",
    "                        p_geo=p_geo, c=c, \n",
    "                        discretization_type=discretization_type,\n",
    "                        form=form)"
   ]
  },
  {
   "cell_type": "code",
   "execution_count": null,
   "id": "f72f57fa",
   "metadata": {
    "papermill": {
     "duration": 0.00774,
     "end_time": "2021-05-17T05:18:22.071701",
     "exception": false,
     "start_time": "2021-05-17T05:18:22.063961",
     "status": "completed"
    },
    "tags": []
   },
   "outputs": [],
   "source": []
  }
 ],
 "metadata": {
  "celltoolbar": "Tags",
  "kernelspec": {
   "display_name": "Python 3",
   "language": "python",
   "name": "python3"
  },
  "language_info": {
   "codemirror_mode": {
    "name": "ipython",
    "version": 3
   },
   "file_extension": ".py",
   "mimetype": "text/x-python",
   "name": "python",
   "nbconvert_exporter": "python",
   "pygments_lexer": "ipython3",
   "version": "3.8.5"
  },
  "papermill": {
   "default_parameters": {},
   "duration": 198260.960551,
   "end_time": "2021-05-17T05:18:23.692407",
   "environment_variables": {},
   "exception": null,
   "input_path": "euler_driver.ipynb",
   "output_path": "euler_m04p2c0t3_weak.ipynb",
   "parameters": {
    "c": "c_dg",
    "discretization_type": 3,
    "form": "weak",
    "mach_number": 0.4,
    "p": 2,
    "p_geo": 2
   },
   "start_time": "2021-05-14T22:14:02.731856",
   "version": "2.3.3"
  }
 },
 "nbformat": 4,
 "nbformat_minor": 5
}