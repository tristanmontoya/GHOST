{
 "cells": [
  {
   "cell_type": "markdown",
   "id": "b98f267b",
   "metadata": {
    "papermill": {
     "duration": 0.003359,
     "end_time": "2021-10-27T13:33:10.519619",
     "exception": false,
     "start_time": "2021-10-27T13:33:10.516260",
     "status": "completed"
    },
    "tags": []
   },
   "source": [
    "# GHOST driver - linear advection equation"
   ]
  },
  {
   "cell_type": "code",
   "execution_count": 1,
   "id": "feefba83",
   "metadata": {
    "execution": {
     "iopub.execute_input": "2021-10-27T13:33:10.529775Z",
     "iopub.status.busy": "2021-10-27T13:33:10.529020Z",
     "iopub.status.idle": "2021-10-27T13:33:10.531983Z",
     "shell.execute_reply": "2021-10-27T13:33:10.531384Z"
    },
    "papermill": {
     "duration": 0.009462,
     "end_time": "2021-10-27T13:33:10.532100",
     "exception": false,
     "start_time": "2021-10-27T13:33:10.522638",
     "status": "completed"
    },
    "tags": [
     "parameters"
    ]
   },
   "outputs": [],
   "source": [
    "p=2\n",
    "M=8\n",
    "L=1\n",
    "p_map=1\n",
    "c=\"c_+\"\n",
    "discretization_type=1\n",
    "upwind_parameter=0.0\n",
    "form=\"weak\""
   ]
  },
  {
   "cell_type": "code",
   "execution_count": 2,
   "id": "715ccdb4",
   "metadata": {
    "execution": {
     "iopub.execute_input": "2021-10-27T13:33:10.541437Z",
     "iopub.status.busy": "2021-10-27T13:33:10.540960Z",
     "iopub.status.idle": "2021-10-27T13:33:10.543400Z",
     "shell.execute_reply": "2021-10-27T13:33:10.542980Z"
    },
    "papermill": {
     "duration": 0.008445,
     "end_time": "2021-10-27T13:33:10.543500",
     "exception": false,
     "start_time": "2021-10-27T13:33:10.535055",
     "status": "completed"
    },
    "tags": [
     "injected-parameters"
    ]
   },
   "outputs": [],
   "source": [
    "# Parameters\n",
    "p = 4\n",
    "p_map = 1\n",
    "upwind_parameter = 0.0\n",
    "c = \"c_dg\"\n",
    "discretization_type = 1\n",
    "form = \"weak\"\n"
   ]
  },
  {
   "cell_type": "code",
   "execution_count": 3,
   "id": "55bf26d5",
   "metadata": {
    "execution": {
     "iopub.execute_input": "2021-10-27T13:33:10.554337Z",
     "iopub.status.busy": "2021-10-27T13:33:10.553858Z",
     "iopub.status.idle": "2021-10-27T14:23:40.895670Z",
     "shell.execute_reply": "2021-10-27T14:23:40.895098Z"
    },
    "papermill": {
     "duration": 3030.349435,
     "end_time": "2021-10-27T14:23:40.895825",
     "exception": false,
     "start_time": "2021-10-27T13:33:10.546390",
     "status": "completed"
    },
    "tags": []
   },
   "outputs": [
    {
     "name": "stderr",
     "output_type": "stream",
     "text": [
      "Matplotlib created a temporary config/cache directory at /tmp/matplotlib-4ila7pov because the default path (/home/z/zingg/tmontoya/.config/matplotlib) is not a writable directory; it is highly recommended to set the MPLCONFIGDIR environment variable to a writable directory, in particular to speed up the import of Matplotlib and to better support multiprocessing.\n"
     ]
    },
    {
     "name": "stdout",
     "output_type": "stream",
     "text": [
      "advection_p4b0c0t1_weak\n"
     ]
    }
   ],
   "source": [
    "import sys  \n",
    "import numpy as np\n",
    "sys.path.insert(0, '../src')\n",
    "from Driver import advection_driver\n",
    "\n",
    "solver = advection_driver(a=np.sqrt(2), theta=np.pi/4, p=p, M=M, L=L,\n",
    "                        p_map=p_map, c=c, \n",
    "                        discretization_type=discretization_type,\n",
    "                        upwind_parameter=upwind_parameter,\n",
    "                        new_mesh=False,form=form,restart=True,run=True)"
   ]
  }
 ],
 "metadata": {
  "celltoolbar": "Tags",
  "interpreter": {
   "hash": "8a4c5cff9d1eb01f6f91880bd866b35b24d8468d7e92aa7ef6f6962744ecb1db"
  },
  "kernelspec": {
   "display_name": "Python 3.9.5 64-bit ('base': conda)",
   "name": "python3"
  },
  "language_info": {
   "codemirror_mode": {
    "name": "ipython",
    "version": 3
   },
   "file_extension": ".py",
   "mimetype": "text/x-python",
   "name": "python",
   "nbconvert_exporter": "python",
   "pygments_lexer": "ipython3",
   "version": "3.8.5"
  },
  "papermill": {
   "default_parameters": {},
   "duration": 3034.839117,
   "end_time": "2021-10-27T14:23:41.324782",
   "environment_variables": {},
   "exception": null,
   "input_path": "advection_driver.ipynb",
   "output_path": "advection_p4b0c0t1_weak.ipynb",
   "parameters": {
    "c": "c_dg",
    "discretization_type": 1,
    "form": "weak",
    "p": 4,
    "p_map": 1,
    "upwind_parameter": 0.0
   },
   "start_time": "2021-10-27T13:33:06.485665",
   "version": "2.3.3"
  }
 },
 "nbformat": 4,
 "nbformat_minor": 5
}