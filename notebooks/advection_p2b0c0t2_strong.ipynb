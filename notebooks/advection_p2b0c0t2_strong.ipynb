{
 "cells": [
  {
   "cell_type": "code",
   "execution_count": 1,
   "id": "087d5802",
   "metadata": {
    "execution": {
     "iopub.execute_input": "2021-05-11T03:10:11.578065Z",
     "iopub.status.busy": "2021-05-11T03:10:11.576462Z",
     "iopub.status.idle": "2021-05-11T03:10:11.578828Z",
     "shell.execute_reply": "2021-05-11T03:10:11.577233Z"
    },
    "papermill": {
     "duration": 0.087029,
     "end_time": "2021-05-11T03:10:11.579008",
     "exception": false,
     "start_time": "2021-05-11T03:10:11.491979",
     "status": "completed"
    },
    "tags": [
     "parameters"
    ]
   },
   "outputs": [],
   "source": [
    "p=2\n",
    "M=10\n",
    "L=1\n",
    "p_geo=1\n",
    "c=\"c_dg\"\n",
    "discretization_type=1\n",
    "upwind_parameter=1.0\n",
    "form=\"strong\""
   ]
  },
  {
   "cell_type": "code",
   "execution_count": 2,
   "id": "33368913",
   "metadata": {
    "execution": {
     "iopub.execute_input": "2021-05-11T03:10:11.674188Z",
     "iopub.status.busy": "2021-05-11T03:10:11.673525Z",
     "iopub.status.idle": "2021-05-11T03:10:11.677715Z",
     "shell.execute_reply": "2021-05-11T03:10:11.677192Z"
    },
    "papermill": {
     "duration": 0.048441,
     "end_time": "2021-05-11T03:10:11.677853",
     "exception": false,
     "start_time": "2021-05-11T03:10:11.629412",
     "status": "completed"
    },
    "tags": [
     "injected-parameters"
    ]
   },
   "outputs": [],
   "source": [
    "# Parameters\n",
    "p = 2\n",
    "p_geo = 1\n",
    "upwind_parameter = 0.0\n",
    "c = \"c_dg\"\n",
    "discretization_type = 2\n",
    "form = \"strong\"\n"
   ]
  },
  {
   "cell_type": "code",
   "execution_count": 3,
   "id": "7ba6e680",
   "metadata": {
    "execution": {
     "iopub.execute_input": "2021-05-11T03:10:11.844489Z",
     "iopub.status.busy": "2021-05-11T03:10:11.843827Z",
     "iopub.status.idle": "2021-05-11T04:52:26.893367Z",
     "shell.execute_reply": "2021-05-11T04:52:26.892696Z"
    },
    "papermill": {
     "duration": 6135.076509,
     "end_time": "2021-05-11T04:52:26.893550",
     "exception": false,
     "start_time": "2021-05-11T03:10:11.817041",
     "status": "completed"
    },
    "tags": []
   },
   "outputs": [
    {
     "name": "stderr",
     "output_type": "stream",
     "text": [
      "WARNING:root:msh4 requires 3D points, but 2D points given. Appending 0 third component.\n"
     ]
    },
    {
     "name": "stderr",
     "output_type": "stream",
     "text": [
      "WARNING:root:Binary Gmsh needs c_size_t (got int64). Converting.\n"
     ]
    },
    {
     "name": "stdout",
     "output_type": "stream",
     "text": [
      "advection_p2b0c0t2_strong\n"
     ]
    },
    {
     "name": "stdout",
     "output_type": "stream",
     "text": [
      "-5.042e-16 &  1.582e-15 & 4.833e-02  \\\\\n"
     ]
    }
   ],
   "source": [
    "import sys  \n",
    "import numpy as np\n",
    "sys.path.insert(0, '../src')\n",
    "from Driver import advection_driver\n",
    "\n",
    "solver = advection_driver(a=np.sqrt(2), theta=np.pi/4, p=p, M=M, L=L,\n",
    "                        p_geo=p_geo, c=c, \n",
    "                        discretization_type=discretization_type,\n",
    "                        upwind_parameter=upwind_parameter,\n",
    "                        form=form)"
   ]
  },
  {
   "cell_type": "code",
   "execution_count": null,
   "id": "b38328b1",
   "metadata": {
    "papermill": {
     "duration": 0.007853,
     "end_time": "2021-05-11T04:52:26.909836",
     "exception": false,
     "start_time": "2021-05-11T04:52:26.901983",
     "status": "completed"
    },
    "tags": []
   },
   "outputs": [],
   "source": []
  }
 ],
 "metadata": {
  "celltoolbar": "Tags",
  "kernelspec": {
   "display_name": "Python 3",
   "language": "python",
   "name": "python3"
  },
  "language_info": {
   "codemirror_mode": {
    "name": "ipython",
    "version": 3
   },
   "file_extension": ".py",
   "mimetype": "text/x-python",
   "name": "python",
   "nbconvert_exporter": "python",
   "pygments_lexer": "ipython3",
   "version": "3.8.5"
  },
  "papermill": {
   "default_parameters": {},
   "duration": 6138.589829,
   "end_time": "2021-05-11T04:52:28.409847",
   "environment_variables": {},
   "exception": null,
   "input_path": "advection_driver.ipynb",
   "output_path": "advection_p2b0c0t2_strong.ipynb",
   "parameters": {
    "c": "c_dg",
    "discretization_type": 2,
    "form": "strong",
    "p": 2,
    "p_geo": 1,
    "upwind_parameter": 0.0
   },
   "start_time": "2021-05-11T03:10:09.820018",
   "version": "2.3.3"
  }
 },
 "nbformat": 4,
 "nbformat_minor": 5
}