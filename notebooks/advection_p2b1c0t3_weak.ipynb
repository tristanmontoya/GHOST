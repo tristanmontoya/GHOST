{
 "cells": [
  {
   "cell_type": "code",
   "execution_count": 1,
   "id": "2c354895",
   "metadata": {
    "execution": {
     "iopub.execute_input": "2021-05-11T03:10:11.037272Z",
     "iopub.status.busy": "2021-05-11T03:10:11.036453Z",
     "iopub.status.idle": "2021-05-11T03:10:11.040248Z",
     "shell.execute_reply": "2021-05-11T03:10:11.039519Z"
    },
    "papermill": {
     "duration": 0.022179,
     "end_time": "2021-05-11T03:10:11.040399",
     "exception": false,
     "start_time": "2021-05-11T03:10:11.018220",
     "status": "completed"
    },
    "tags": [
     "parameters"
    ]
   },
   "outputs": [],
   "source": [
    "p=2\n",
    "M=10\n",
    "L=1\n",
    "p_geo=1\n",
    "c=\"c_dg\"\n",
    "discretization_type=1\n",
    "upwind_parameter=1.0\n",
    "form=\"strong\""
   ]
  },
  {
   "cell_type": "code",
   "execution_count": 2,
   "id": "211f28ad",
   "metadata": {
    "execution": {
     "iopub.execute_input": "2021-05-11T03:10:11.058304Z",
     "iopub.status.busy": "2021-05-11T03:10:11.057617Z",
     "iopub.status.idle": "2021-05-11T03:10:11.079102Z",
     "shell.execute_reply": "2021-05-11T03:10:11.078536Z"
    },
    "papermill": {
     "duration": 0.033665,
     "end_time": "2021-05-11T03:10:11.079244",
     "exception": false,
     "start_time": "2021-05-11T03:10:11.045579",
     "status": "completed"
    },
    "tags": [
     "injected-parameters"
    ]
   },
   "outputs": [],
   "source": [
    "# Parameters\n",
    "p = 2\n",
    "p_geo = 1\n",
    "upwind_parameter = 1.0\n",
    "c = \"c_dg\"\n",
    "discretization_type = 3\n",
    "form = \"weak\"\n"
   ]
  },
  {
   "cell_type": "code",
   "execution_count": 3,
   "id": "406fb69f",
   "metadata": {
    "execution": {
     "iopub.execute_input": "2021-05-11T03:10:11.229426Z",
     "iopub.status.busy": "2021-05-11T03:10:11.228775Z",
     "iopub.status.idle": "2021-05-11T04:33:28.663580Z",
     "shell.execute_reply": "2021-05-11T04:33:28.664265Z"
    },
    "papermill": {
     "duration": 4997.580649,
     "end_time": "2021-05-11T04:33:28.664504",
     "exception": false,
     "start_time": "2021-05-11T03:10:11.083855",
     "status": "completed"
    },
    "tags": []
   },
   "outputs": [
    {
     "name": "stderr",
     "output_type": "stream",
     "text": [
      "WARNING:root:msh4 requires 3D points, but 2D points given. Appending 0 third component.\n"
     ]
    },
    {
     "name": "stderr",
     "output_type": "stream",
     "text": [
      "WARNING:root:Binary Gmsh needs c_size_t (got int64). Converting.\n"
     ]
    },
    {
     "name": "stdout",
     "output_type": "stream",
     "text": [
      "advection_p2b1c0t3_weak\n"
     ]
    },
    {
     "name": "stdout",
     "output_type": "stream",
     "text": [
      "-1.075e-16 &  -1.800e-03 & 1.418e-02  \\\\\n"
     ]
    }
   ],
   "source": [
    "import sys  \n",
    "import numpy as np\n",
    "sys.path.insert(0, '../src')\n",
    "from Driver import advection_driver\n",
    "\n",
    "solver = advection_driver(a=np.sqrt(2), theta=np.pi/4, p=p, M=M, L=L,\n",
    "                        p_geo=p_geo, c=c, \n",
    "                        discretization_type=discretization_type,\n",
    "                        upwind_parameter=upwind_parameter,\n",
    "                        form=form)"
   ]
  },
  {
   "cell_type": "code",
   "execution_count": null,
   "id": "9d805b35",
   "metadata": {
    "papermill": {
     "duration": 0.008138,
     "end_time": "2021-05-11T04:33:28.681406",
     "exception": false,
     "start_time": "2021-05-11T04:33:28.673268",
     "status": "completed"
    },
    "tags": []
   },
   "outputs": [],
   "source": []
  }
 ],
 "metadata": {
  "celltoolbar": "Tags",
  "kernelspec": {
   "display_name": "Python 3",
   "language": "python",
   "name": "python3"
  },
  "language_info": {
   "codemirror_mode": {
    "name": "ipython",
    "version": 3
   },
   "file_extension": ".py",
   "mimetype": "text/x-python",
   "name": "python",
   "nbconvert_exporter": "python",
   "pygments_lexer": "ipython3",
   "version": "3.8.5"
  },
  "papermill": {
   "default_parameters": {},
   "duration": 4999.547367,
   "end_time": "2021-05-11T04:33:29.300756",
   "environment_variables": {},
   "exception": null,
   "input_path": "advection_driver.ipynb",
   "output_path": "advection_p2b1c0t3_weak.ipynb",
   "parameters": {
    "c": "c_dg",
    "discretization_type": 3,
    "form": "weak",
    "p": 2,
    "p_geo": 1,
    "upwind_parameter": 1.0
   },
   "start_time": "2021-05-11T03:10:09.753389",
   "version": "2.3.3"
  }
 },
 "nbformat": 4,
 "nbformat_minor": 5
}