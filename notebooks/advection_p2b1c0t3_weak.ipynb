{
 "cells": [
  {
   "cell_type": "markdown",
   "id": "1620549e",
   "metadata": {
    "papermill": {
     "duration": 0.003345,
     "end_time": "2021-10-27T12:36:40.166516",
     "exception": false,
     "start_time": "2021-10-27T12:36:40.163171",
     "status": "completed"
    },
    "tags": []
   },
   "source": [
    "# GHOST driver - linear advection equation"
   ]
  },
  {
   "cell_type": "code",
   "execution_count": 1,
   "id": "de1a9796",
   "metadata": {
    "execution": {
     "iopub.execute_input": "2021-10-27T12:36:40.176626Z",
     "iopub.status.busy": "2021-10-27T12:36:40.175958Z",
     "iopub.status.idle": "2021-10-27T12:36:40.178356Z",
     "shell.execute_reply": "2021-10-27T12:36:40.177868Z"
    },
    "papermill": {
     "duration": 0.008986,
     "end_time": "2021-10-27T12:36:40.178473",
     "exception": false,
     "start_time": "2021-10-27T12:36:40.169487",
     "status": "completed"
    },
    "tags": [
     "parameters"
    ]
   },
   "outputs": [],
   "source": [
    "p=2\n",
    "M=8\n",
    "L=1\n",
    "p_map=1\n",
    "c=\"c_+\"\n",
    "discretization_type=1\n",
    "upwind_parameter=0.0\n",
    "form=\"weak\""
   ]
  },
  {
   "cell_type": "code",
   "execution_count": 2,
   "id": "d33a0e73",
   "metadata": {
    "execution": {
     "iopub.execute_input": "2021-10-27T12:36:40.187729Z",
     "iopub.status.busy": "2021-10-27T12:36:40.186944Z",
     "iopub.status.idle": "2021-10-27T12:36:40.188502Z",
     "shell.execute_reply": "2021-10-27T12:36:40.188883Z"
    },
    "papermill": {
     "duration": 0.007557,
     "end_time": "2021-10-27T12:36:40.189013",
     "exception": false,
     "start_time": "2021-10-27T12:36:40.181456",
     "status": "completed"
    },
    "tags": [
     "injected-parameters"
    ]
   },
   "outputs": [],
   "source": [
    "# Parameters\n",
    "p = 2\n",
    "p_map = 1\n",
    "upwind_parameter = 1.0\n",
    "c = \"c_dg\"\n",
    "discretization_type = 3\n",
    "form = \"weak\"\n"
   ]
  },
  {
   "cell_type": "code",
   "execution_count": 3,
   "id": "a2960c65",
   "metadata": {
    "execution": {
     "iopub.execute_input": "2021-10-27T12:36:40.198901Z",
     "iopub.status.busy": "2021-10-27T12:36:40.198414Z",
     "iopub.status.idle": "2021-10-27T13:02:39.149821Z",
     "shell.execute_reply": "2021-10-27T13:02:39.150514Z"
    },
    "papermill": {
     "duration": 1558.958986,
     "end_time": "2021-10-27T13:02:39.150910",
     "exception": false,
     "start_time": "2021-10-27T12:36:40.191924",
     "status": "completed"
    },
    "tags": []
   },
   "outputs": [
    {
     "name": "stderr",
     "output_type": "stream",
     "text": [
      "Matplotlib created a temporary config/cache directory at /tmp/matplotlib-q6x89bm_ because the default path (/home/z/zingg/tmontoya/.config/matplotlib) is not a writable directory; it is highly recommended to set the MPLCONFIGDIR environment variable to a writable directory, in particular to speed up the import of Matplotlib and to better support multiprocessing.\n"
     ]
    },
    {
     "name": "stdout",
     "output_type": "stream",
     "text": [
      "advection_p2b1c0t3_weak\n"
     ]
    }
   ],
   "source": [
    "import sys  \n",
    "import numpy as np\n",
    "sys.path.insert(0, '../src')\n",
    "from Driver import advection_driver\n",
    "\n",
    "solver = advection_driver(a=np.sqrt(2), theta=np.pi/4, p=p, M=M, L=L,\n",
    "                        p_map=p_map, c=c, \n",
    "                        discretization_type=discretization_type,\n",
    "                        upwind_parameter=upwind_parameter,\n",
    "                        new_mesh=False,form=form,restart=True,run=True)"
   ]
  }
 ],
 "metadata": {
  "celltoolbar": "Tags",
  "interpreter": {
   "hash": "8a4c5cff9d1eb01f6f91880bd866b35b24d8468d7e92aa7ef6f6962744ecb1db"
  },
  "kernelspec": {
   "display_name": "Python 3.9.5 64-bit ('base': conda)",
   "name": "python3"
  },
  "language_info": {
   "codemirror_mode": {
    "name": "ipython",
    "version": 3
   },
   "file_extension": ".py",
   "mimetype": "text/x-python",
   "name": "python",
   "nbconvert_exporter": "python",
   "pygments_lexer": "ipython3",
   "version": "3.8.5"
  },
  "papermill": {
   "default_parameters": {},
   "duration": 1562.92124,
   "end_time": "2021-10-27T13:02:39.564565",
   "environment_variables": {},
   "exception": null,
   "input_path": "advection_driver.ipynb",
   "output_path": "advection_p2b1c0t3_weak.ipynb",
   "parameters": {
    "c": "c_dg",
    "discretization_type": 3,
    "form": "weak",
    "p": 2,
    "p_map": 1,
    "upwind_parameter": 1.0
   },
   "start_time": "2021-10-27T12:36:36.643325",
   "version": "2.3.3"
  }
 },
 "nbformat": 4,
 "nbformat_minor": 5
}