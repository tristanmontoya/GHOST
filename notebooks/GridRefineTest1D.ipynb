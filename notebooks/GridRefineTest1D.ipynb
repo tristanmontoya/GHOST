{
 "cells": [
  {
   "cell_type": "code",
   "execution_count": 1,
   "metadata": {},
   "outputs": [],
   "source": [
    "import sys\n",
    "sys.path.insert(0, '../src')\n",
    "from Driver import grid_refine"
   ]
  },
  {
   "cell_type": "code",
   "execution_count": 3,
   "metadata": {},
   "outputs": [
    {
     "name": "stdout",
     "output_type": "stream",
     "text": [
      "dt =  0.004\n",
      "writing every  250  time steps, total  250\n",
      "writing time step  250 : t =  1.0000000000000007\n",
      "M:  5  errors:  [0.01681219]  rates:  [0.]\n",
      "dt =  0.002\n",
      "writing every  500  time steps, total  500\n",
      "writing time step  500 : t =  1.0000000000000007\n",
      "M:  10  errors:  [0.00232603]  rates:  [2.85356534]\n",
      "dt =  0.001\n",
      "writing every  1000  time steps, total  1000\n",
      "writing time step  1000 : t =  1.0000000000000007\n",
      "M:  20  errors:  [0.00029698]  rates:  [2.96943674]\n",
      "dt =  0.0005\n",
      "writing every  2000  time steps, total  2000\n",
      "writing time step  2000 : t =  0.9999999999999453\n",
      "M:  40  errors:  [3.73858074e-05]  rates:  [2.98979932]\n"
     ]
    }
   ],
   "source": [
    "M_list, error, rates = grid_refine(project_title=\"advection_p2qi_grid_refine_test\",\n",
    "    d=1,\n",
    "    n_refine=4,\n",
    "    p=2,\n",
    "    problem=\"constant_advection\",\n",
    "    integration_type=\"quadrature\",\n",
    "    solution_representation=\"modal\",\n",
    "    numerical_flux=\"upwind\",\n",
    "    map_type=\"isoparametric\",\n",
    "    form=\"weak\",\n",
    "    correction=\"c_dg\",\n",
    "    results_path=None)"
   ]
  },
  {
   "cell_type": "code",
   "execution_count": 3,
   "metadata": {},
   "outputs": [
    {
     "name": "stdout",
     "output_type": "stream",
     "text": [
      "dt =  0.004\n",
      "writing every  250  time steps, total  250\n",
      "writing time step  250 : t =  1.0000000000000007\n",
      "M:  5  errors:  [0.01647978]  rates:  [0.]\n",
      "dt =  0.002\n",
      "writing every  500  time steps, total  500\n",
      "writing time step  500 : t =  1.0000000000000007\n",
      "M:  10  errors:  [0.00222999]  rates:  [2.88558645]\n",
      "dt =  0.001\n",
      "writing every  1000  time steps, total  1000\n",
      "writing time step  1000 : t =  1.0000000000000007\n",
      "M:  20  errors:  [0.00028543]  rates:  [2.96583081]\n",
      "dt =  0.0005\n",
      "writing every  2000  time steps, total  2000\n",
      "writing time step  2000 : t =  0.9999999999999453\n",
      "M:  40  errors:  [3.59762267e-05]  rates:  [2.98802017]\n"
     ]
    }
   ],
   "source": [
    "M_list, error, rates = grid_refine(project_title=\"advection_p2qa_grid_refine_test\",\n",
    "    d=1,\n",
    "    n_refine=4,\n",
    "    p=2,\n",
    "    problem=\"constant_advection\",\n",
    "    integration_type=\"quadrature\",\n",
    "    solution_representation=\"modal\",\n",
    "    numerical_flux=\"upwind\",\n",
    "    map_type=\"affine\",\n",
    "    form=\"weak\",\n",
    "    correction_type=\"dg\",\n",
    "    results_path=None)"
   ]
  },
  {
   "cell_type": "code",
   "execution_count": 4,
   "metadata": {},
   "outputs": [
    {
     "name": "stdout",
     "output_type": "stream",
     "text": [
      "dt =  0.004\n",
      "writing every  250  time steps, total  250\n",
      "writing time step  250 : t =  1.0000000000000007\n",
      "M:  5  errors:  [0.01681219 0.01681219 0.0084061 ]  rates:  [0. 0. 0.]\n",
      "dt =  0.002\n",
      "writing every  500  time steps, total  500\n",
      "writing time step  500 : t =  1.0000000000000007\n",
      "M:  10  errors:  [0.00232603 0.00232603 0.00116302]  rates:  [2.85356534 2.85356534 2.85356534]\n",
      "dt =  0.001\n",
      "writing every  1000  time steps, total  1000\n",
      "writing time step  1000 : t =  1.0000000000000007\n",
      "M:  20  errors:  [0.00029698 0.00029698 0.00014849]  rates:  [2.96943674 2.96943674 2.96943674]\n",
      "dt =  0.0005\n",
      "writing every  2000  time steps, total  2000\n",
      "writing time step  2000 : t =  0.9999999999999453\n",
      "M:  40  errors:  [3.73858074e-05 3.73858074e-05 1.86929037e-05]  rates:  [2.98979932 2.98979932 2.98979932]\n"
     ]
    }
   ],
   "source": [
    "M_list, error, rates = grid_refine(project_title=\"euler_p2qi_grid_refine_test\",\n",
    "    d=1,\n",
    "    n_refine=4,\n",
    "    p=2,\n",
    "    problem=\"compressible_euler\",\n",
    "    integration_type=\"quadrature\",\n",
    "    solution_representation=\"modal\",\n",
    "    numerical_flux=\"roe\",\n",
    "    map_type=\"isoparametric\",\n",
    "    form=\"weak\",\n",
    "    correction_type=\"dg\",\n",
    "    results_path=None)"
   ]
  },
  {
   "cell_type": "code",
   "execution_count": 4,
   "metadata": {},
   "outputs": [
    {
     "name": "stdout",
     "output_type": "stream",
     "text": [
      "dt =  0.004\n",
      "writing every  250  time steps, total  250\n",
      "writing time step  250 : t =  1.0000000000000007\n",
      "M:  5  errors:  [0.18750314]  rates:  [0.]\n",
      "dt =  0.002\n",
      "writing every  500  time steps, total  500\n",
      "writing time step  500 : t =  1.0000000000000007\n",
      "M:  10  errors:  [0.02613506]  rates:  [2.84285652]\n",
      "dt =  0.001\n",
      "writing every  1000  time steps, total  1000\n",
      "writing time step  1000 : t =  1.0000000000000007\n",
      "M:  20  errors:  [0.00316451]  rates:  [3.04593279]\n",
      "dt =  0.0005\n",
      "writing every  2000  time steps, total  2000\n",
      "writing time step  2000 : t =  0.9999999999999453\n",
      "M:  40  errors:  [0.0003942]  rates:  [3.00497272]\n"
     ]
    }
   ],
   "source": [
    "M_list, error, rates = grid_refine(project_title=\"advection_p2qi_fr_grid_refine_test\",\n",
    "    d=1,\n",
    "    n_refine=4,\n",
    "    p=2,\n",
    "    problem=\"constant_advection\",\n",
    "    integration_type=\"quadrature\",\n",
    "    solution_representation=\"modal\",\n",
    "    numerical_flux=\"upwind\",\n",
    "    map_type=\"isoparametric\",\n",
    "    form=\"strong\",\n",
    "    correction=\"c_+\",\n",
    "    results_path=None)"
   ]
  },
  {
   "cell_type": "code",
   "execution_count": 6,
   "metadata": {},
   "outputs": [
    {
     "name": "stdout",
     "output_type": "stream",
     "text": [
      "dt =  0.004\n",
      "writing every  250  time steps, total  250\n",
      "writing time step  250 : t =  1.0000000000000007\n",
      "M:  5  errors:  [0.18823101]  rates:  [0.]\n",
      "dt =  0.002\n",
      "writing every  500  time steps, total  500\n",
      "writing time step  500 : t =  1.0000000000000007\n",
      "M:  10  errors:  [0.03013638]  rates:  [2.64292607]\n",
      "dt =  0.001\n",
      "writing every  1000  time steps, total  1000\n",
      "writing time step  1000 : t =  1.0000000000000007\n",
      "M:  20  errors:  [0.00403542]  rates:  [2.90071408]\n",
      "dt =  0.0005\n",
      "writing every  2000  time steps, total  2000\n",
      "writing time step  2000 : t =  0.9999999999999453\n",
      "M:  40  errors:  [0.0005326]  rates:  [2.92158661]\n"
     ]
    }
   ],
   "source": [
    "M_list, error, rates = grid_refine(project_title=\"advection_p2qa_fr_nodal_grid_refine_test\",\n",
    "    d=1,\n",
    "    n_refine=4,\n",
    "    p=2,\n",
    "    problem=\"constant_advection\",\n",
    "    integration_type=\"quadrature\",\n",
    "    solution_representation=\"nodal\",\n",
    "    numerical_flux=\"upwind\",\n",
    "    map_type=\"affine\",\n",
    "    form=\"strong\",\n",
    "    correction=\"c_+\",\n",
    "    results_path=None)"
   ]
  },
  {
   "cell_type": "code",
   "execution_count": 7,
   "metadata": {},
   "outputs": [
    {
     "name": "stdout",
     "output_type": "stream",
     "text": [
      "dt =  0.004\n",
      "writing every  250  time steps, total  250\n",
      "writing time step  250 : t =  1.0000000000000007\n",
      "M:  5  errors:  [0.01647978]  rates:  [0.]\n",
      "dt =  0.002\n",
      "writing every  500  time steps, total  500\n",
      "writing time step  500 : t =  1.0000000000000007\n",
      "M:  10  errors:  [0.00222999]  rates:  [2.88558645]\n",
      "dt =  0.001\n",
      "writing every  1000  time steps, total  1000\n",
      "writing time step  1000 : t =  1.0000000000000007\n",
      "M:  20  errors:  [0.00028543]  rates:  [2.96583081]\n",
      "dt =  0.0005\n",
      "writing every  2000  time steps, total  2000\n",
      "writing time step  2000 : t =  0.9999999999999453\n",
      "M:  40  errors:  [3.59762267e-05]  rates:  [2.98802017]\n"
     ]
    }
   ],
   "source": [
    "M_list, error, rates = grid_refine(project_title=\"advection_p2qa_dg_nodal_grid_refine_test\",\n",
    "    d=1,\n",
    "    n_refine=4,\n",
    "    p=2,\n",
    "    problem=\"constant_advection\",\n",
    "    integration_type=\"quadrature\",\n",
    "    solution_representation=\"nodal\",\n",
    "    numerical_flux=\"upwind\",\n",
    "    map_type=\"affine\",\n",
    "    form=\"strong\",\n",
    "    correction=\"c_dg\",\n",
    "    results_path=None)"
   ]
  },
  {
   "cell_type": "code",
   "execution_count": 3,
   "metadata": {},
   "outputs": [
    {
     "name": "stdout",
     "output_type": "stream",
     "text": [
      "dt =  0.004\n",
      "writing every  250  time steps, total  250\n",
      "writing time step  250 : t =  1.0000000000000007\n",
      "M:  5  errors:  [0.17258087]  rates:  [0.]\n",
      "dt =  0.002\n",
      "writing every  500  time steps, total  500\n",
      "writing time step  500 : t =  1.0000000000000007\n",
      "M:  10  errors:  [0.02441468]  rates:  [2.82145162]\n",
      "dt =  0.001\n",
      "writing every  1000  time steps, total  1000\n",
      "writing time step  1000 : t =  1.0000000000000007\n",
      "M:  20  errors:  [0.00298203]  rates:  [3.03338265]\n",
      "dt =  0.0005\n",
      "writing every  2000  time steps, total  2000\n",
      "writing time step  2000 : t =  0.9999999999999453\n",
      "M:  40  errors:  [0.00037535]  rates:  [2.98998304]\n"
     ]
    }
   ],
   "source": [
    "M_list, error, rates = grid_refine(project_title=\"advection_p2qa_fr_nodal_grid_refine_test\",\n",
    "    d=1,\n",
    "    n_refine=4,\n",
    "    p=2,\n",
    "    problem=\"constant_advection\",\n",
    "    integration_type=\"quadrature\",\n",
    "    solution_representation=\"nodal\",\n",
    "    numerical_flux=\"upwind\",\n",
    "    map_type=\"affine\",\n",
    "    form=\"strong\",\n",
    "    correction=\"c_+\",\n",
    "    results_path=None)"
   ]
  },
  {
   "cell_type": "code",
   "execution_count": 2,
   "metadata": {},
   "outputs": [
    {
     "name": "stdout",
     "output_type": "stream",
     "text": [
      "dt =  0.004\n",
      "writing every  250  time steps, total  250\n",
      "writing time step  250 : t =  1.0000000000000007\n",
      "M:  5  errors:  [0.17258087]  rates:  [0.]\n",
      "dt =  0.002\n",
      "writing every  500  time steps, total  500\n",
      "writing time step  500 : t =  1.0000000000000007\n",
      "M:  10  errors:  [0.02441468]  rates:  [2.82145162]\n",
      "dt =  0.001\n",
      "writing every  1000  time steps, total  1000\n",
      "writing time step  1000 : t =  1.0000000000000007\n",
      "M:  20  errors:  [0.00298203]  rates:  [3.03338265]\n",
      "dt =  0.0005\n",
      "writing every  2000  time steps, total  2000\n",
      "writing time step  2000 : t =  0.9999999999999453\n",
      "M:  40  errors:  [0.00037535]  rates:  [2.98998304]\n"
     ]
    }
   ],
   "source": [
    "M_list, error, rates = grid_refine(project_title=\"advection_p2qa_fr_modal_grid_refine_test\",\n",
    "    d=1,\n",
    "    n_refine=4,\n",
    "    p=2,\n",
    "    problem=\"constant_advection\",\n",
    "    integration_type=\"quadrature\",\n",
    "    solution_representation=\"modal\",\n",
    "    numerical_flux=\"upwind\",\n",
    "    map_type=\"affine\",\n",
    "    form=\"strong\",\n",
    "    correction=\"c_+\",\n",
    "    results_path=None)"
   ]
  },
  {
   "cell_type": "code",
   "execution_count": null,
   "metadata": {},
   "outputs": [],
   "source": []
  }
 ],
 "metadata": {
  "kernelspec": {
   "display_name": "Python 3",
   "language": "python",
   "name": "python3"
  },
  "language_info": {
   "codemirror_mode": {
    "name": "ipython",
    "version": 3
   },
   "file_extension": ".py",
   "mimetype": "text/x-python",
   "name": "python",
   "nbconvert_exporter": "python",
   "pygments_lexer": "ipython3",
   "version": "3.7.9"
  }
 },
 "nbformat": 4,
 "nbformat_minor": 4
}
