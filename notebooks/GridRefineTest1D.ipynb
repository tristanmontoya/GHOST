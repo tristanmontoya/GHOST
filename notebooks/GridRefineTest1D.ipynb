{
 "cells": [
  {
   "cell_type": "code",
   "execution_count": null,
   "metadata": {},
   "outputs": [],
   "source": [
    "import sys\n",
    "sys.path.insert(0, '../src')\n",
    "from Driver import grid_refine"
   ]
  },
  {
   "cell_type": "code",
   "execution_count": null,
   "metadata": {},
   "outputs": [],
   "source": [
    "M_list, error, rates = grid_refine(project_title=\"advection_p2qi_grid_refine_test\",\n",
    "    d=1,\n",
    "    n_refine=4,\n",
    "    p=2,\n",
    "    problem=\"constant_advection\",\n",
    "    integration_type=\"quadrature\",\n",
    "    solution_representation=\"modal\",\n",
    "    numerical_flux=\"upwind\",\n",
    "    map_type=\"isoparametric\",\n",
    "    form=\"weak\",\n",
    "    correction=\"c_dg\",\n",
    "    results_path=None)"
   ]
  },
  {
   "cell_type": "code",
   "execution_count": null,
   "metadata": {},
   "outputs": [],
   "source": [
    "M_list, error, rates = grid_refine(project_title=\"advection_p2qa_grid_refine_test\",\n",
    "    d=1,\n",
    "    n_refine=4,\n",
    "    p=2,\n",
    "    problem=\"constant_advection\",\n",
    "    integration_type=\"quadrature\",\n",
    "    solution_representation=\"modal\",\n",
    "    numerical_flux=\"upwind\",\n",
    "    map_type=\"affine\",\n",
    "    form=\"weak\",\n",
    "    correction_type=\"dg\",\n",
    "    results_path=None)"
   ]
  },
  {
   "cell_type": "code",
   "execution_count": null,
   "metadata": {},
   "outputs": [],
   "source": [
    "M_list, error, rates = grid_refine(project_title=\"euler_p2qi_grid_refine_test\",\n",
    "    d=1,\n",
    "    n_refine=4,\n",
    "    p=2,\n",
    "    problem=\"compressible_euler\",\n",
    "    integration_type=\"quadrature\",\n",
    "    solution_representation=\"modal\",\n",
    "    numerical_flux=\"roe\",\n",
    "    map_type=\"isoparametric\",\n",
    "    form=\"weak\",\n",
    "    correction_type=\"dg\",\n",
    "    results_path=None)"
   ]
  },
  {
   "cell_type": "code",
   "execution_count": null,
   "metadata": {},
   "outputs": [],
   "source": [
    "M_list, error, rates = grid_refine(project_title=\"advection_p2qi_fr_grid_refine_test\",\n",
    "    d=1,\n",
    "    n_refine=4,\n",
    "    p=2,\n",
    "    problem=\"constant_advection\",\n",
    "    integration_type=\"quadrature\",\n",
    "    solution_representation=\"modal\",\n",
    "    numerical_flux=\"upwind\",\n",
    "    map_type=\"isoparametric\",\n",
    "    form=\"strong\",\n",
    "    correction=\"c_+\",\n",
    "    results_path=None)"
   ]
  },
  {
   "cell_type": "code",
   "execution_count": null,
   "metadata": {},
   "outputs": [],
   "source": [
    "M_list, error, rates = grid_refine(project_title=\"advection_p2qa_fr_nodal_grid_refine_test\",\n",
    "    d=1,\n",
    "    n_refine=4,\n",
    "    p=2,\n",
    "    problem=\"constant_advection\",\n",
    "    integration_type=\"quadrature\",\n",
    "    solution_representation=\"nodal\",\n",
    "    numerical_flux=\"upwind\",\n",
    "    map_type=\"affine\",\n",
    "    form=\"strong\",\n",
    "    correction=\"c_+\",\n",
    "    results_path=None)"
   ]
  },
  {
   "cell_type": "code",
   "execution_count": null,
   "metadata": {},
   "outputs": [],
   "source": [
    "M_list, error, rates = grid_refine(project_title=\"advection_p2qa_dg_nodal_grid_refine_test\",\n",
    "    d=1,\n",
    "    n_refine=4,\n",
    "    p=2,\n",
    "    problem=\"constant_advection\",\n",
    "    integration_type=\"quadrature\",\n",
    "    solution_representation=\"nodal\",\n",
    "    numerical_flux=\"upwind\",\n",
    "    map_type=\"affine\",\n",
    "    form=\"strong\",\n",
    "    correction=\"c_dg\",\n",
    "    results_path=None)"
   ]
  },
  {
   "cell_type": "code",
   "execution_count": null,
   "metadata": {},
   "outputs": [],
   "source": [
    "M_list, error, rates = grid_refine(project_title=\"advection_p2qa_fr_nodal_grid_refine_test\",\n",
    "    d=1,\n",
    "    n_refine=4,\n",
    "    p=2,\n",
    "    problem=\"constant_advection\",\n",
    "    integration_type=\"quadrature\",\n",
    "    solution_representation=\"nodal\",\n",
    "    numerical_flux=\"upwind\",\n",
    "    map_type=\"affine\",\n",
    "    form=\"strong\",\n",
    "    correction=\"c_+\",\n",
    "    results_path=None)"
   ]
  },
  {
   "cell_type": "code",
   "execution_count": null,
   "metadata": {},
   "outputs": [],
   "source": [
    "M_list, error, rates = grid_refine(project_title=\"advection_p2qa_fr_modal_grid_refine_test\",\n",
    "    d=1,\n",
    "    n_refine=4,\n",
    "    p=2,\n",
    "    problem=\"constant_advection\",\n",
    "    integration_type=\"quadrature\",\n",
    "    solution_representation=\"modal\",\n",
    "    numerical_flux=\"upwind\",\n",
    "    map_type=\"affine\",\n",
    "    form=\"strong\",\n",
    "    correction=\"c_+\",\n",
    "    results_path=None)"
   ]
  },
  {
   "cell_type": "code",
   "execution_count": 1,
   "metadata": {},
   "outputs": [
    {
     "name": "stdout",
     "output_type": "stream",
     "text": [
      "dt =  0.004\n",
      "writing every  250  time steps, total  250\n",
      "writing time step  250 : t =  1.0000000000000007\n",
      "M:  5 , strong form\n",
      "cons. error:  [-2.25514052e-16]\n",
      "energy diff:  [-0.00992988]\n",
      "L2 error:  [0.01648004]  rate:  [0.]\n",
      "dt =  0.004\n",
      "writing every  250  time steps, total  250\n",
      "writing time step  250 : t =  1.0000000000000007\n",
      "M:  5 , weak form\n",
      "cons. error:  [-2.25514052e-16]\n",
      "energy diff:  [-0.00992988]\n",
      "L2 error:  [0.01648004]  rate:  [0.]\n",
      "L2 difference (strong vs. weak):  [0.]\n",
      "dt =  0.002\n",
      "writing every  500  time steps, total  500\n",
      "writing time step  500 : t =  1.0000000000000007\n",
      "M:  10 , strong form\n",
      "cons. error:  [6.59194921e-17]\n",
      "energy diff:  [-0.00038134]\n",
      "L2 error:  [0.00222999]  rate:  [2.88560997]\n",
      "dt =  0.002\n",
      "writing every  500  time steps, total  500\n",
      "writing time step  500 : t =  1.0000000000000007\n",
      "M:  10 , weak form\n",
      "cons. error:  [6.59194921e-17]\n",
      "energy diff:  [-0.00038134]\n",
      "L2 error:  [0.00222999]  rate:  [2.88560997]\n",
      "L2 difference (strong vs. weak):  [0.]\n",
      "dt =  0.001\n",
      "writing every  1000  time steps, total  1000\n",
      "writing time step  1000 : t =  1.0000000000000007\n",
      "M:  20 , strong form\n",
      "cons. error:  [8.00141203e-17]\n",
      "energy diff:  [-1.26266934e-05]\n",
      "L2 error:  [0.00028543]  rate:  [2.96583008]\n",
      "dt =  0.001\n",
      "writing every  1000  time steps, total  1000\n",
      "writing time step  1000 : t =  1.0000000000000007\n",
      "M:  20 , weak form\n",
      "cons. error:  [8.00141203e-17]\n",
      "energy diff:  [-1.26266934e-05]\n",
      "L2 error:  [0.00028543]  rate:  [2.96583008]\n",
      "L2 difference (strong vs. weak):  [0.]\n",
      "dt =  0.0005\n",
      "writing every  2000  time steps, total  2000\n",
      "writing time step  2000 : t =  0.9999999999999453\n",
      "M:  40 , strong form\n",
      "cons. error:  [2.21990395e-16]\n",
      "energy diff:  [-4.01470776e-07]\n",
      "L2 error:  [3.59762266e-05]  rate:  [2.98802013]\n",
      "dt =  0.0005\n",
      "writing every  2000  time steps, total  2000\n",
      "writing time step  2000 : t =  0.9999999999999453\n",
      "M:  40 , weak form\n",
      "cons. error:  [2.21990395e-16]\n",
      "energy diff:  [-4.01470776e-07]\n",
      "L2 error:  [3.59762266e-05]  rate:  [2.98802013]\n",
      "L2 difference (strong vs. weak):  [0.]\n"
     ]
    },
    {
     "data": {
      "text/plain": [
       "(array([ 5., 10., 20., 40.]),\n",
       " array([[0., 0., 0., 0.]]),\n",
       " array([[-2.25514052e-16,  6.59194921e-17,  8.00141203e-17,\n",
       "          2.21990395e-16]]),\n",
       " array([[-2.25514052e-16,  6.59194921e-17,  8.00141203e-17,\n",
       "          2.21990395e-16]]),\n",
       " array([[-9.92988439e-03, -3.81336478e-04, -1.26266934e-05,\n",
       "         -4.01470776e-07]]),\n",
       " array([[-9.92988439e-03, -3.81336478e-04, -1.26266934e-05,\n",
       "         -4.01470776e-07]]),\n",
       " array([[1.64800403e-02, 2.22999101e-03, 2.85429789e-04, 3.59762266e-05]]),\n",
       " array([[0.        , 2.88560997, 2.96583008, 2.98802013]]),\n",
       " array([[1.64800403e-02, 2.22999101e-03, 2.85429789e-04, 3.59762266e-05]]),\n",
       " array([[0.        , 2.88560997, 2.96583008, 2.98802013]]))"
      ]
     },
     "execution_count": 1,
     "metadata": {},
     "output_type": "execute_result"
    }
   ],
   "source": [
    "import sys\n",
    "sys.path.insert(0, '../src')\n",
    "from Driver import grid_refine\n",
    "grid_refine(project_title=\"advection_grid_refine_test\",\n",
    "                d=1,\n",
    "                n_refine=4,\n",
    "                p=2,\n",
    "                problem=\"constant_advection\",\n",
    "                integration_type=\"quadrature\",\n",
    "                solution_representation=\"modal\",\n",
    "                numerical_flux=\"upwind\",\n",
    "                map_type=\"affine\",\n",
    "                form=\"both\",\n",
    "                correction=\"c_dg\",\n",
    "                results_path=None)"
   ]
  },
  {
   "cell_type": "code",
   "execution_count": null,
   "metadata": {},
   "outputs": [],
   "source": []
  }
 ],
 "metadata": {
  "kernelspec": {
   "display_name": "Python 3",
   "language": "python",
   "name": "python3"
  },
  "language_info": {
   "codemirror_mode": {
    "name": "ipython",
    "version": 3
   },
   "file_extension": ".py",
   "mimetype": "text/x-python",
   "name": "python",
   "nbconvert_exporter": "python",
   "pygments_lexer": "ipython3",
   "version": "3.7.9"
  }
 },
 "nbformat": 4,
 "nbformat_minor": 4
}
