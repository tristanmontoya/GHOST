{
 "cells": [
  {
   "cell_type": "code",
   "execution_count": 1,
   "metadata": {},
   "outputs": [],
   "source": [
    "import sys\n",
    "sys.path.insert(0, '../src')\n",
    "from Driver import grid_refine"
   ]
  },
  {
   "cell_type": "code",
   "execution_count": 2,
   "metadata": {},
   "outputs": [
    {
     "name": "stderr",
     "output_type": "stream",
     "text": [
      "WARNING:root:msh4 requires 3D points, but 2D points given. Appending 0 third component.\n",
      "WARNING:root:Binary Gmsh needs c_size_t (got int64). Converting.\n"
     ]
    },
    {
     "name": "stdout",
     "output_type": "stream",
     "text": [
      "dt =  0.002\n",
      "writing every  500  time steps, total  500\n",
      "writing time step  500 : t =  1.0000000000000007\n",
      "M:  5 , strong form\n",
      "cons. error:  [-6.50521303e-17]\n",
      "energy diff:  [-0.03199819]\n",
      "L2 error:  [0.0700915]  rate:  [0.]\n",
      "dt =  0.002\n",
      "writing every  500  time steps, total  500\n"
     ]
    },
    {
     "ename": "KeyboardInterrupt",
     "evalue": "",
     "output_type": "error",
     "traceback": [
      "\u001b[0;31m---------------------------------------------------------------------------\u001b[0m",
      "\u001b[0;31mKeyboardInterrupt\u001b[0m                         Traceback (most recent call last)",
      "\u001b[0;32m<ipython-input-2-5c130835d47e>\u001b[0m in \u001b[0;36m<module>\u001b[0;34m\u001b[0m\n\u001b[1;32m     13\u001b[0m     \u001b[0mform\u001b[0m\u001b[0;34m=\u001b[0m\u001b[0;34m\"both\"\u001b[0m\u001b[0;34m,\u001b[0m\u001b[0;34m\u001b[0m\u001b[0;34m\u001b[0m\u001b[0m\n\u001b[1;32m     14\u001b[0m     \u001b[0mcorrection\u001b[0m\u001b[0;34m=\u001b[0m\u001b[0;34m\"c_dg\"\u001b[0m\u001b[0;34m,\u001b[0m\u001b[0;34m\u001b[0m\u001b[0;34m\u001b[0m\u001b[0m\n\u001b[0;32m---> 15\u001b[0;31m     results_path=None)\n\u001b[0m",
      "\u001b[0;32m~/Research/GHOST/src/Driver.py\u001b[0m in \u001b[0;36mgrid_refine\u001b[0;34m(project_title, d, n_refine, p, problem, integration_type, solution_representation, numerical_flux, map_type, form, correction, results_path)\u001b[0m\n\u001b[1;32m     47\u001b[0m     \u001b[0;32melif\u001b[0m \u001b[0md\u001b[0m \u001b[0;34m==\u001b[0m \u001b[0;36m2\u001b[0m\u001b[0;34m:\u001b[0m\u001b[0;34m\u001b[0m\u001b[0;34m\u001b[0m\u001b[0m\n\u001b[1;32m     48\u001b[0m         return grid_refine_2d(params, form,n_refine,p_geo, \n\u001b[0;32m---> 49\u001b[0;31m                               4*p, results_path)\n\u001b[0m\u001b[1;32m     50\u001b[0m     \u001b[0;32melse\u001b[0m\u001b[0;34m:\u001b[0m\u001b[0;34m\u001b[0m\u001b[0;34m\u001b[0m\u001b[0m\n\u001b[1;32m     51\u001b[0m         \u001b[0;32mraise\u001b[0m \u001b[0mNotImplementedError\u001b[0m\u001b[0;34m\u001b[0m\u001b[0;34m\u001b[0m\u001b[0m\n",
      "\u001b[0;32m~/Research/GHOST/src/Driver.py\u001b[0m in \u001b[0;36mgrid_refine_2d\u001b[0;34m(params, form, n_refine, p_geo, error_quadrature_degree, results_path)\u001b[0m\n\u001b[1;32m    332\u001b[0m \u001b[0;34m\u001b[0m\u001b[0m\n\u001b[1;32m    333\u001b[0m             \u001b[0msolver_weak\u001b[0m \u001b[0;34m=\u001b[0m \u001b[0mSolver\u001b[0m\u001b[0;34m(\u001b[0m\u001b[0mparams_weak\u001b[0m\u001b[0;34m,\u001b[0m \u001b[0mmesh\u001b[0m\u001b[0;34m)\u001b[0m\u001b[0;34m\u001b[0m\u001b[0;34m\u001b[0m\u001b[0m\n\u001b[0;32m--> 334\u001b[0;31m             \u001b[0msolver_weak\u001b[0m\u001b[0;34m.\u001b[0m\u001b[0mrun\u001b[0m\u001b[0;34m(\u001b[0m\u001b[0mresults_path\u001b[0m \u001b[0;34m+\u001b[0m \u001b[0;34m\"/weak/M\"\u001b[0m \u001b[0;34m+\u001b[0m \u001b[0mstr\u001b[0m\u001b[0;34m(\u001b[0m\u001b[0mM\u001b[0m\u001b[0;34m)\u001b[0m \u001b[0;34m+\u001b[0m \u001b[0;34m\"/\"\u001b[0m\u001b[0;34m)\u001b[0m\u001b[0;34m\u001b[0m\u001b[0;34m\u001b[0m\u001b[0m\n\u001b[0m\u001b[1;32m    335\u001b[0m             solver_weak.post_process(process_visualization=False,\n\u001b[1;32m    336\u001b[0m                                      error_quadrature_degree=error_quadrature_degree)\n",
      "\u001b[0;32m~/Research/GHOST/src/Solver.py\u001b[0m in \u001b[0;36mrun\u001b[0;34m(self, results_path, write_interval, clear_write_dir)\u001b[0m\n\u001b[1;32m    311\u001b[0m             self.u_hat = self.time_integrator.run(self.u_hat, self.T,\n\u001b[1;32m    312\u001b[0m                                                   \u001b[0mresults_path\u001b[0m\u001b[0;34m,\u001b[0m\u001b[0;34m\u001b[0m\u001b[0;34m\u001b[0m\u001b[0m\n\u001b[0;32m--> 313\u001b[0;31m                                                   write_interval)\n\u001b[0m\u001b[1;32m    314\u001b[0m \u001b[0;34m\u001b[0m\u001b[0m\n\u001b[1;32m    315\u001b[0m             \u001b[0mself\u001b[0m\u001b[0;34m.\u001b[0m\u001b[0mI_f\u001b[0m \u001b[0;34m=\u001b[0m \u001b[0mself\u001b[0m\u001b[0;34m.\u001b[0m\u001b[0mcalculate_conserved_integral\u001b[0m\u001b[0;34m(\u001b[0m\u001b[0;34m)\u001b[0m\u001b[0;34m\u001b[0m\u001b[0;34m\u001b[0m\u001b[0m\n",
      "\u001b[0;32m~/Research/GHOST/src/Discretization.py\u001b[0m in \u001b[0;36mrun\u001b[0;34m(self, u_0, T, results_path, write_interval)\u001b[0m\n\u001b[1;32m    885\u001b[0m \u001b[0;34m\u001b[0m\u001b[0m\n\u001b[1;32m    886\u001b[0m         \u001b[0;32mfor\u001b[0m \u001b[0mn\u001b[0m \u001b[0;32min\u001b[0m \u001b[0mrange\u001b[0m\u001b[0;34m(\u001b[0m\u001b[0;36m0\u001b[0m\u001b[0;34m,\u001b[0m\u001b[0mN_t\u001b[0m\u001b[0;34m)\u001b[0m\u001b[0;34m:\u001b[0m\u001b[0;34m\u001b[0m\u001b[0;34m\u001b[0m\u001b[0m\n\u001b[0;32m--> 887\u001b[0;31m             \u001b[0mu\u001b[0m \u001b[0;34m=\u001b[0m \u001b[0mnp\u001b[0m\u001b[0;34m.\u001b[0m\u001b[0mcopy\u001b[0m\u001b[0;34m(\u001b[0m\u001b[0mself\u001b[0m\u001b[0;34m.\u001b[0m\u001b[0mtime_step\u001b[0m\u001b[0;34m(\u001b[0m\u001b[0mu\u001b[0m\u001b[0;34m,\u001b[0m\u001b[0mt\u001b[0m\u001b[0;34m,\u001b[0m\u001b[0mdt\u001b[0m\u001b[0;34m)\u001b[0m\u001b[0;34m)\u001b[0m\u001b[0;34m\u001b[0m\u001b[0;34m\u001b[0m\u001b[0m\n\u001b[0m\u001b[1;32m    888\u001b[0m             \u001b[0mt\u001b[0m \u001b[0;34m=\u001b[0m \u001b[0mt\u001b[0m \u001b[0;34m+\u001b[0m \u001b[0mdt\u001b[0m\u001b[0;34m\u001b[0m\u001b[0;34m\u001b[0m\u001b[0m\n\u001b[1;32m    889\u001b[0m             \u001b[0;32mif\u001b[0m \u001b[0;34m(\u001b[0m\u001b[0;34m(\u001b[0m\u001b[0mn\u001b[0m\u001b[0;34m+\u001b[0m\u001b[0;36m1\u001b[0m\u001b[0;34m)\u001b[0m \u001b[0;34m%\u001b[0m \u001b[0mN_write\u001b[0m \u001b[0;34m==\u001b[0m \u001b[0;36m0\u001b[0m\u001b[0;34m)\u001b[0m \u001b[0;32mor\u001b[0m \u001b[0;34m(\u001b[0m\u001b[0mn\u001b[0m\u001b[0;34m+\u001b[0m\u001b[0;36m1\u001b[0m \u001b[0;34m==\u001b[0m \u001b[0mN_t\u001b[0m\u001b[0;34m)\u001b[0m\u001b[0;34m:\u001b[0m\u001b[0;34m\u001b[0m\u001b[0;34m\u001b[0m\u001b[0m\n",
      "\u001b[0;32m~/Research/GHOST/src/Discretization.py\u001b[0m in \u001b[0;36mtime_step\u001b[0;34m(self, u, t, dt)\u001b[0m\n\u001b[1;32m    917\u001b[0m                             for k in range(0, len(u))]\n\u001b[1;32m    918\u001b[0m \u001b[0;34m\u001b[0m\u001b[0m\n\u001b[0;32m--> 919\u001b[0;31m             \u001b[0mr_u_tilde_nphalf\u001b[0m \u001b[0;34m=\u001b[0m \u001b[0mself\u001b[0m\u001b[0;34m.\u001b[0m\u001b[0mR\u001b[0m\u001b[0;34m(\u001b[0m\u001b[0mu_tilde_nphalf\u001b[0m\u001b[0;34m,\u001b[0m \u001b[0mt\u001b[0m \u001b[0;34m+\u001b[0m \u001b[0;36m0.5\u001b[0m\u001b[0;34m*\u001b[0m\u001b[0mdt\u001b[0m\u001b[0;34m)\u001b[0m\u001b[0;34m\u001b[0m\u001b[0;34m\u001b[0m\u001b[0m\n\u001b[0m\u001b[1;32m    920\u001b[0m \u001b[0;34m\u001b[0m\u001b[0m\n\u001b[1;32m    921\u001b[0m             u_bar_np1 = [np.array([u[k][e,:] + dt * r_u_tilde_nphalf[k][e,:] \n",
      "\u001b[0;32m~/Research/GHOST/src/Discretization.py\u001b[0m in \u001b[0;36m<lambda>\u001b[0;34m(u_hat, t)\u001b[0m\n\u001b[1;32m    581\u001b[0m \u001b[0;34m\u001b[0m\u001b[0m\n\u001b[1;32m    582\u001b[0m         return lambda u_hat, t: global_residual(self, f, f_star,\n\u001b[0;32m--> 583\u001b[0;31m                                                 bc, N_eq, u_hat, t)\n\u001b[0m\u001b[1;32m    584\u001b[0m \u001b[0;34m\u001b[0m\u001b[0m\n\u001b[1;32m    585\u001b[0m \u001b[0;34m\u001b[0m\u001b[0m\n",
      "\u001b[0;32m~/Research/GHOST/src/Discretization.py\u001b[0m in \u001b[0;36mglobal_residual\u001b[0;34m(self, f, f_star, bc, N_eq, u_hat, t, print_output)\u001b[0m\n\u001b[1;32m    526\u001b[0m                         f_trans_gamma[k].append(self.Jf_gamma[k][gamma] * f_star(\n\u001b[1;32m    527\u001b[0m                             \u001b[0;34m(\u001b[0m\u001b[0mself\u001b[0m\u001b[0;34m.\u001b[0m\u001b[0mV_gamma\u001b[0m\u001b[0;34m[\u001b[0m\u001b[0mi\u001b[0m\u001b[0;34m]\u001b[0m\u001b[0;34m[\u001b[0m\u001b[0mgamma\u001b[0m\u001b[0;34m]\u001b[0m \u001b[0;34m@\u001b[0m \u001b[0mu_hat\u001b[0m\u001b[0;34m[\u001b[0m\u001b[0mk\u001b[0m\u001b[0;34m]\u001b[0m\u001b[0;34m.\u001b[0m\u001b[0mT\u001b[0m\u001b[0;34m)\u001b[0m\u001b[0;34m.\u001b[0m\u001b[0mT\u001b[0m\u001b[0;34m,\u001b[0m \u001b[0mu_plus\u001b[0m\u001b[0;34m,\u001b[0m\u001b[0;34m\u001b[0m\u001b[0;34m\u001b[0m\u001b[0m\n\u001b[0;32m--> 528\u001b[0;31m                             self.x_gamma[k][gamma], self.n_gamma[k][gamma])\n\u001b[0m\u001b[1;32m    529\u001b[0m                             - (self.V_gamma[i][gamma] @ self.P[i] \n\u001b[1;32m    530\u001b[0m                                @ sum([f_trans_omega[k][m].T*self.n_hat[i][gamma][m] \n",
      "\u001b[0;32m~/Research/GHOST/src/Problem.py\u001b[0m in \u001b[0;36m<lambda>\u001b[0;34m(u_m, u_p, x, n)\u001b[0m\n\u001b[1;32m     44\u001b[0m                   \u001b[0;34m-\u001b[0m \u001b[0;36m0.5\u001b[0m\u001b[0;34m*\u001b[0m\u001b[0mself\u001b[0m\u001b[0;34m.\u001b[0m\u001b[0malpha\u001b[0m\u001b[0;34m*\u001b[0m\u001b[0mnp\u001b[0m\u001b[0;34m.\u001b[0m\u001b[0mabs\u001b[0m\u001b[0;34m(\u001b[0m\u001b[0ma_dot_n\u001b[0m\u001b[0;34m)\u001b[0m\u001b[0;34m*\u001b[0m\u001b[0;34m(\u001b[0m\u001b[0mu_p\u001b[0m \u001b[0;34m-\u001b[0m \u001b[0mu_m\u001b[0m\u001b[0;34m)\u001b[0m\u001b[0;34m\u001b[0m\u001b[0;34m\u001b[0m\u001b[0m\n\u001b[1;32m     45\u001b[0m \u001b[0;34m\u001b[0m\u001b[0m\n\u001b[0;32m---> 46\u001b[0;31m         \u001b[0;32mreturn\u001b[0m \u001b[0;32mlambda\u001b[0m \u001b[0mu_m\u001b[0m\u001b[0;34m,\u001b[0m \u001b[0mu_p\u001b[0m\u001b[0;34m,\u001b[0m \u001b[0mx\u001b[0m\u001b[0;34m,\u001b[0m \u001b[0mn\u001b[0m\u001b[0;34m:\u001b[0m \u001b[0mf_star\u001b[0m\u001b[0;34m(\u001b[0m\u001b[0mself\u001b[0m\u001b[0;34m,\u001b[0m \u001b[0mu_m\u001b[0m\u001b[0;34m,\u001b[0m \u001b[0mu_p\u001b[0m\u001b[0;34m,\u001b[0m \u001b[0mx\u001b[0m\u001b[0;34m,\u001b[0m \u001b[0mn\u001b[0m\u001b[0;34m)\u001b[0m\u001b[0;34m\u001b[0m\u001b[0;34m\u001b[0m\u001b[0m\n\u001b[0m\u001b[1;32m     47\u001b[0m \u001b[0;34m\u001b[0m\u001b[0m\n\u001b[1;32m     48\u001b[0m \u001b[0;34m\u001b[0m\u001b[0m\n",
      "\u001b[0;32m~/Research/GHOST/src/Problem.py\u001b[0m in \u001b[0;36mf_star\u001b[0;34m(self, u_m, u_p, x, n)\u001b[0m\n\u001b[1;32m     40\u001b[0m \u001b[0;34m\u001b[0m\u001b[0m\n\u001b[1;32m     41\u001b[0m         \u001b[0;32mdef\u001b[0m \u001b[0mf_star\u001b[0m\u001b[0;34m(\u001b[0m\u001b[0mself\u001b[0m\u001b[0;34m,\u001b[0m \u001b[0mu_m\u001b[0m\u001b[0;34m,\u001b[0m \u001b[0mu_p\u001b[0m\u001b[0;34m,\u001b[0m \u001b[0mx\u001b[0m\u001b[0;34m,\u001b[0m \u001b[0mn\u001b[0m\u001b[0;34m)\u001b[0m\u001b[0;34m:\u001b[0m\u001b[0;34m\u001b[0m\u001b[0;34m\u001b[0m\u001b[0m\n\u001b[0;32m---> 42\u001b[0;31m               \u001b[0ma_dot_n\u001b[0m \u001b[0;34m=\u001b[0m \u001b[0mn\u001b[0m\u001b[0;34m.\u001b[0m\u001b[0mT\u001b[0m \u001b[0;34m@\u001b[0m \u001b[0mself\u001b[0m\u001b[0;34m.\u001b[0m\u001b[0ma\u001b[0m\u001b[0;34m\u001b[0m\u001b[0;34m\u001b[0m\u001b[0m\n\u001b[0m\u001b[1;32m     43\u001b[0m               \u001b[0;32mreturn\u001b[0m \u001b[0;36m0.5\u001b[0m\u001b[0;34m*\u001b[0m\u001b[0ma_dot_n\u001b[0m\u001b[0;34m*\u001b[0m\u001b[0;34m(\u001b[0m\u001b[0mu_m\u001b[0m \u001b[0;34m+\u001b[0m \u001b[0mu_p\u001b[0m\u001b[0;34m)\u001b[0m\u001b[0;31m \u001b[0m\u001b[0;31m\\\u001b[0m\u001b[0;34m\u001b[0m\u001b[0;34m\u001b[0m\u001b[0m\n\u001b[1;32m     44\u001b[0m                   \u001b[0;34m-\u001b[0m \u001b[0;36m0.5\u001b[0m\u001b[0;34m*\u001b[0m\u001b[0mself\u001b[0m\u001b[0;34m.\u001b[0m\u001b[0malpha\u001b[0m\u001b[0;34m*\u001b[0m\u001b[0mnp\u001b[0m\u001b[0;34m.\u001b[0m\u001b[0mabs\u001b[0m\u001b[0;34m(\u001b[0m\u001b[0ma_dot_n\u001b[0m\u001b[0;34m)\u001b[0m\u001b[0;34m*\u001b[0m\u001b[0;34m(\u001b[0m\u001b[0mu_p\u001b[0m \u001b[0;34m-\u001b[0m \u001b[0mu_m\u001b[0m\u001b[0;34m)\u001b[0m\u001b[0;34m\u001b[0m\u001b[0;34m\u001b[0m\u001b[0m\n",
      "\u001b[0;31mKeyboardInterrupt\u001b[0m: "
     ]
    }
   ],
   "source": [
    "import sys\n",
    "sys.path.insert(0, '../src')\n",
    "from Driver import grid_refine\n",
    "M_list, error, rates = grid_refine(project_title=\"advection_p2qi_grid_refine_test\",\n",
    "    d=2,\n",
    "    n_refine=4,\n",
    "    p=2,\n",
    "    problem=\"constant_advection\",\n",
    "    integration_type=\"quadrature\",\n",
    "    solution_representation=\"modal\",\n",
    "    numerical_flux=\"upwind\",\n",
    "    map_type=\"affine\",\n",
    "    form=\"both\",\n",
    "    correction=\"c_dg\",\n",
    "    results_path=None)"
   ]
  },
  {
   "cell_type": "code",
   "execution_count": 3,
   "metadata": {},
   "outputs": [
    {
     "name": "stderr",
     "output_type": "stream",
     "text": [
      "WARNING:root:msh4 requires 3D points, but 2D points given. Appending 0 third component.\n",
      "WARNING:root:Binary Gmsh needs c_size_t (got int64). Converting.\n"
     ]
    },
    {
     "name": "stdout",
     "output_type": "stream",
     "text": [
      "dt =  0.002\n",
      "writing every  500  time steps, total  500\n",
      "writing time step  500 : t =  1.0000000000000007\n",
      "M:  5 , strong form\n",
      "cons. error:  [-7.87943929e-17]\n",
      "energy diff:  [-3.61766125e-07]\n",
      "L2 error:  [0.22262068]  rate:  [0.]\n",
      "dt =  0.002\n",
      "writing every  500  time steps, total  500\n"
     ]
    },
    {
     "name": "stderr",
     "output_type": "stream",
     "text": [
      "WARNING:root:msh4 requires 3D points, but 2D points given. Appending 0 third component.\n",
      "WARNING:root:Binary Gmsh needs c_size_t (got int64). Converting.\n"
     ]
    },
    {
     "name": "stdout",
     "output_type": "stream",
     "text": [
      "writing time step  500 : t =  1.0000000000000007\n",
      "M:  5 , weak form\n",
      "cons. error:  [-7.87943929e-17]\n",
      "energy diff:  [-3.61766125e-07]\n",
      "L2 error:  [0.22262068]  rate:  [0.]\n",
      "L2 difference (strong vs. weak):  [0.]\n",
      "dt =  0.001\n",
      "writing every  1000  time steps, total  1000\n",
      "writing time step  1000 : t =  1.0000000000000007\n",
      "M:  10 , strong form\n",
      "cons. error:  [1.11347563e-16]\n",
      "energy diff:  [-2.16616372e-09]\n",
      "L2 error:  [0.0474183]  rate:  [2.23107187]\n",
      "dt =  0.001\n",
      "writing every  1000  time steps, total  1000\n"
     ]
    },
    {
     "name": "stderr",
     "output_type": "stream",
     "text": [
      "WARNING:root:msh4 requires 3D points, but 2D points given. Appending 0 third component.\n",
      "WARNING:root:Binary Gmsh needs c_size_t (got int64). Converting.\n"
     ]
    },
    {
     "name": "stdout",
     "output_type": "stream",
     "text": [
      "writing time step  1000 : t =  1.0000000000000007\n",
      "M:  10 , weak form\n",
      "cons. error:  [1.11347563e-16]\n",
      "energy diff:  [-2.16616372e-09]\n",
      "L2 error:  [0.0474183]  rate:  [-2.23107187]\n",
      "L2 difference (strong vs. weak):  [0.]\n",
      "dt =  0.0005\n",
      "writing every  2000  time steps, total  2000\n",
      "writing time step  2000 : t =  0.9999999999999453\n",
      "M:  20 , strong form\n",
      "cons. error:  [-3.26558306e-16]\n",
      "energy diff:  [-4.9283716e-11]\n",
      "L2 error:  [0.00434427]  rate:  [3.44825895]\n",
      "dt =  0.0005\n",
      "writing every  2000  time steps, total  2000\n",
      "writing time step  2000 : t =  0.9999999999999453\n"
     ]
    },
    {
     "name": "stderr",
     "output_type": "stream",
     "text": [
      "WARNING:root:msh4 requires 3D points, but 2D points given. Appending 0 third component.\n",
      "WARNING:root:Binary Gmsh needs c_size_t (got int64). Converting.\n"
     ]
    },
    {
     "name": "stdout",
     "output_type": "stream",
     "text": [
      "M:  20 , weak form\n",
      "cons. error:  [-3.26558306e-16]\n",
      "energy diff:  [-4.9283716e-11]\n",
      "L2 error:  [0.00434427]  rate:  [-3.44825895]\n",
      "L2 difference (strong vs. weak):  [0.]\n",
      "dt =  0.00025\n",
      "writing every  4000  time steps, total  4000\n",
      "writing time step  4000 : t =  0.9999999999999176\n",
      "M:  40 , strong form\n",
      "cons. error:  [3.22235474e-16]\n",
      "energy diff:  [-1.14794285e-12]\n",
      "L2 error:  [0.00044491]  rate:  [3.28752603]\n",
      "dt =  0.00025\n",
      "writing every  4000  time steps, total  4000\n",
      "writing time step  4000 : t =  0.9999999999999176\n",
      "M:  40 , weak form\n",
      "cons. error:  [3.22235474e-16]\n",
      "energy diff:  [-1.14794285e-12]\n",
      "L2 error:  [0.00044491]  rate:  [-3.28752603]\n",
      "L2 difference (strong vs. weak):  [0.]\n"
     ]
    },
    {
     "ename": "ValueError",
     "evalue": "too many values to unpack (expected 3)",
     "output_type": "error",
     "traceback": [
      "\u001b[0;31m---------------------------------------------------------------------------\u001b[0m",
      "\u001b[0;31mValueError\u001b[0m                                Traceback (most recent call last)",
      "\u001b[0;32m<ipython-input-3-e9d7ec708197>\u001b[0m in \u001b[0;36m<module>\u001b[0;34m\u001b[0m\n\u001b[1;32m     14\u001b[0m     \u001b[0mform\u001b[0m\u001b[0;34m=\u001b[0m\u001b[0;34m\"both\"\u001b[0m\u001b[0;34m,\u001b[0m\u001b[0;34m\u001b[0m\u001b[0;34m\u001b[0m\u001b[0m\n\u001b[1;32m     15\u001b[0m     \u001b[0mcorrection\u001b[0m\u001b[0;34m=\u001b[0m\u001b[0;34m\"c_dg\"\u001b[0m\u001b[0;34m,\u001b[0m\u001b[0;34m\u001b[0m\u001b[0;34m\u001b[0m\u001b[0m\n\u001b[0;32m---> 16\u001b[0;31m     results_path=None)\n\u001b[0m",
      "\u001b[0;31mValueError\u001b[0m: too many values to unpack (expected 3)"
     ]
    }
   ],
   "source": [
    "import sys\n",
    "sys.path.insert(0, '../src')\n",
    "from Driver import grid_refine\n",
    "M_list, error, rates = grid_refine(\n",
    "    project_title=\"advection_p2qi_grid_refine_test\",\n",
    "    d=2,\n",
    "    n_refine=4,\n",
    "    p=2,\n",
    "    problem=\"constant_advection\",\n",
    "    integration_type=\"quadrature\",\n",
    "    solution_representation=\"modal\",\n",
    "    numerical_flux=\"central\",\n",
    "    map_type=\"affine\",\n",
    "    form=\"both\",\n",
    "    correction=\"c_dg\",\n",
    "    results_path=None)"
   ]
  },
  {
   "cell_type": "code",
   "execution_count": 5,
   "metadata": {
    "scrolled": true
   },
   "outputs": [
    {
     "name": "stderr",
     "output_type": "stream",
     "text": [
      "WARNING:root:msh4 requires 3D points, but 2D points given. Appending 0 third component.\n",
      "WARNING:root:Binary Gmsh needs c_size_t (got int64). Converting.\n"
     ]
    },
    {
     "name": "stdout",
     "output_type": "stream",
     "text": [
      "dt =  0.002\n",
      "writing every  500  time steps, total  500\n"
     ]
    },
    {
     "name": "stderr",
     "output_type": "stream",
     "text": [
      "WARNING:root:msh4 requires 3D points, but 2D points given. Appending 0 third component.\n",
      "WARNING:root:Binary Gmsh needs c_size_t (got int64). Converting.\n"
     ]
    },
    {
     "name": "stdout",
     "output_type": "stream",
     "text": [
      "writing time step  500 : t =  1.0000000000000007\n",
      "M:  5  errors:  [0.2039174]  rates:  [0.]\n",
      "dt =  0.001\n",
      "writing every  1000  time steps, total  1000\n",
      "writing time step  1000 : t =  1.0000000000000007\n"
     ]
    },
    {
     "name": "stderr",
     "output_type": "stream",
     "text": [
      "WARNING:root:msh4 requires 3D points, but 2D points given. Appending 0 third component.\n",
      "WARNING:root:Binary Gmsh needs c_size_t (got int64). Converting.\n"
     ]
    },
    {
     "name": "stdout",
     "output_type": "stream",
     "text": [
      "M:  10  errors:  [0.05352092]  rates:  [1.92981003]\n",
      "dt =  0.0005\n",
      "writing every  2000  time steps, total  2000\n",
      "writing time step  2000 : t =  0.9999999999999453\n"
     ]
    },
    {
     "name": "stderr",
     "output_type": "stream",
     "text": [
      "WARNING:root:msh4 requires 3D points, but 2D points given. Appending 0 third component.\n",
      "WARNING:root:Binary Gmsh needs c_size_t (got int64). Converting.\n"
     ]
    },
    {
     "name": "stdout",
     "output_type": "stream",
     "text": [
      "M:  20  errors:  [0.00845262]  rates:  [2.66263282]\n",
      "dt =  0.00025\n",
      "writing every  4000  time steps, total  4000\n",
      "writing time step  4000 : t =  0.9999999999999176\n",
      "M:  40  errors:  [0.00106905]  rates:  [2.98306778]\n"
     ]
    }
   ],
   "source": [
    "M_list, error, rates = grid_refine(project_title=\"advection_p2qa_fr_grid_refine_test\",\n",
    "    d=2,\n",
    "    n_refine=4,\n",
    "    p=2,\n",
    "    problem=\"constant_advection\",\n",
    "    integration_type=\"quadrature\",\n",
    "    solution_representation=\"modal\",\n",
    "    numerical_flux=\"upwind\",\n",
    "    map_type=\"affine\",\n",
    "    form=\"strong\",\n",
    "    correction=\"c_+\",\n",
    "    results_path=None)"
   ]
  },
  {
   "cell_type": "code",
   "execution_count": null,
   "metadata": {},
   "outputs": [],
   "source": []
  }
 ],
 "metadata": {
  "kernelspec": {
   "display_name": "Python 3",
   "language": "python",
   "name": "python3"
  },
  "language_info": {
   "codemirror_mode": {
    "name": "ipython",
    "version": 3
   },
   "file_extension": ".py",
   "mimetype": "text/x-python",
   "name": "python",
   "nbconvert_exporter": "python",
   "pygments_lexer": "ipython3",
   "version": "3.7.9"
  }
 },
 "nbformat": 4,
 "nbformat_minor": 4
}
