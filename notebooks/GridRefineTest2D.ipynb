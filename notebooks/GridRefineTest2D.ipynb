{
 "cells": [
  {
   "cell_type": "code",
   "execution_count": 1,
   "metadata": {},
   "outputs": [],
   "source": [
    "import sys\n",
    "sys.path.insert(0, '../src')\n",
    "from Driver import grid_refine"
   ]
  },
  {
   "cell_type": "code",
   "execution_count": null,
   "metadata": {},
   "outputs": [
    {
     "name": "stderr",
     "output_type": "stream",
     "text": [
      "WARNING:root:msh4 requires 3D points, but 2D points given. Appending 0 third component.\n",
      "WARNING:root:Binary Gmsh needs c_size_t (got int64). Converting.\n"
     ]
    },
    {
     "name": "stdout",
     "output_type": "stream",
     "text": [
      "dt =  0.002\n",
      "writing every  500  time steps, total  500\n"
     ]
    },
    {
     "name": "stderr",
     "output_type": "stream",
     "text": [
      "WARNING:root:msh4 requires 3D points, but 2D points given. Appending 0 third component.\n",
      "WARNING:root:Binary Gmsh needs c_size_t (got int64). Converting.\n"
     ]
    },
    {
     "name": "stdout",
     "output_type": "stream",
     "text": [
      "writing time step  500 : t =  1.0000000000000007\n",
      "M:  5  errors:  [0.0763011]  rates:  [0.]\n",
      "dt =  0.001\n",
      "writing every  1000  time steps, total  1000\n",
      "writing time step  1000 : t =  1.0000000000000007\n"
     ]
    },
    {
     "name": "stderr",
     "output_type": "stream",
     "text": [
      "WARNING:root:msh4 requires 3D points, but 2D points given. Appending 0 third component.\n",
      "WARNING:root:Binary Gmsh needs c_size_t (got int64). Converting.\n"
     ]
    },
    {
     "name": "stdout",
     "output_type": "stream",
     "text": [
      "M:  10  errors:  [0.00888296]  rates:  [3.10259178]\n"
     ]
    }
   ],
   "source": [
    "M_list, error, rates = grid_refine(project_title=\"advection_p2qi_grid_refine_test\",\n",
    "    d=2,\n",
    "    n_refine=4,\n",
    "    p=2,\n",
    "    problem=\"constant_advection\",\n",
    "    integration_type=\"quadrature\",\n",
    "    solution_representation=\"modal\",\n",
    "    numerical_flux=\"upwind\",\n",
    "    map_type=\"isoparametric\",\n",
    "    form=\"weak\",\n",
    "    correction=\"c_dg\",\n",
    "    results_path=None)"
   ]
  },
  {
   "cell_type": "code",
   "execution_count": null,
   "metadata": {},
   "outputs": [],
   "source": [
    "M_list, error, rates = grid_refine(project_title=\"advection_p2qi_grid_refine_test\",\n",
    "    d=2,\n",
    "    n_refine=4,\n",
    "    p=2,\n",
    "    problem=\"constant_advection\",\n",
    "    integration_type=\"quadrature\",\n",
    "    solution_representation=\"nodal\",\n",
    "    numerical_flux=\"upwind\",\n",
    "    map_type=\"isoparametric\",\n",
    "    form=\"strong\",\n",
    "    correction=\"c_dg\",\n",
    "    results_path=None)"
   ]
  },
  {
   "cell_type": "code",
   "execution_count": null,
   "metadata": {},
   "outputs": [],
   "source": [
    "M_list, error, rates = grid_refine(project_title=\"advection_p2qa_grid_refine_test\",\n",
    "    d=2,\n",
    "    n_refine=4,\n",
    "    p=2,\n",
    "    problem=\"constant_advection\",\n",
    "    integration_type=\"quadrature\",\n",
    "    solution_representation=\"modal\",\n",
    "    numerical_flux=\"upwind\",\n",
    "    map_type=\"affine\",\n",
    "    form=\"strong\",\n",
    "    correction=\"c_+\",\n",
    "    results_path=None)"
   ]
  },
  {
   "cell_type": "code",
   "execution_count": null,
   "metadata": {},
   "outputs": [],
   "source": []
  }
 ],
 "metadata": {
  "kernelspec": {
   "display_name": "Python 3",
   "language": "python",
   "name": "python3"
  },
  "language_info": {
   "codemirror_mode": {
    "name": "ipython",
    "version": 3
   },
   "file_extension": ".py",
   "mimetype": "text/x-python",
   "name": "python",
   "nbconvert_exporter": "python",
   "pygments_lexer": "ipython3",
   "version": "3.7.9"
  }
 },
 "nbformat": 4,
 "nbformat_minor": 4
}
