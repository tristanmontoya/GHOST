{
 "cells": [
  {
   "cell_type": "markdown",
   "id": "fc842817",
   "metadata": {
    "papermill": {
     "duration": 0.003273,
     "end_time": "2021-10-27T12:23:09.249115",
     "exception": false,
     "start_time": "2021-10-27T12:23:09.245842",
     "status": "completed"
    },
    "tags": []
   },
   "source": [
    "# GHOST driver - Euler equations"
   ]
  },
  {
   "cell_type": "code",
   "execution_count": 1,
   "id": "d91f6bef",
   "metadata": {
    "execution": {
     "iopub.execute_input": "2021-10-27T12:23:09.258265Z",
     "iopub.status.busy": "2021-10-27T12:23:09.257808Z",
     "iopub.status.idle": "2021-10-27T12:23:09.259239Z",
     "shell.execute_reply": "2021-10-27T12:23:09.259665Z"
    },
    "papermill": {
     "duration": 0.007812,
     "end_time": "2021-10-27T12:23:09.259832",
     "exception": false,
     "start_time": "2021-10-27T12:23:09.252020",
     "status": "completed"
    },
    "tags": [
     "parameters"
    ]
   },
   "outputs": [],
   "source": [
    "mach_number=0.4\n",
    "p=2\n",
    "M=16\n",
    "L=10.0\n",
    "p_map=2\n",
    "c=\"c_dg\"\n",
    "discretization_type=1\n",
    "form=\"weak\""
   ]
  },
  {
   "cell_type": "code",
   "execution_count": 2,
   "id": "0971b6c6",
   "metadata": {
    "execution": {
     "iopub.execute_input": "2021-10-27T12:23:09.268130Z",
     "iopub.status.busy": "2021-10-27T12:23:09.267681Z",
     "iopub.status.idle": "2021-10-27T12:23:09.269201Z",
     "shell.execute_reply": "2021-10-27T12:23:09.269552Z"
    },
    "papermill": {
     "duration": 0.006978,
     "end_time": "2021-10-27T12:23:09.269658",
     "exception": false,
     "start_time": "2021-10-27T12:23:09.262680",
     "status": "completed"
    },
    "tags": [
     "injected-parameters"
    ]
   },
   "outputs": [],
   "source": [
    "# Parameters\n",
    "mach_number = 0.4\n",
    "p = 2\n",
    "p_map = 2\n",
    "c = \"c_dg\"\n",
    "discretization_type = 2\n",
    "form = \"strong\"\n"
   ]
  },
  {
   "cell_type": "code",
   "execution_count": null,
   "id": "8a5f6385",
   "metadata": {
    "papermill": {
     "duration": null,
     "end_time": null,
     "exception": false,
     "start_time": "2021-10-27T12:23:09.272395",
     "status": "running"
    },
    "tags": []
   },
   "outputs": [],
   "source": [
    "import sys  \n",
    "import numpy as np\n",
    "sys.path.insert(0, '../src')\n",
    "from Driver import euler_driver\n",
    "\n",
    "solver = euler_driver(mach_number=mach_number, \n",
    "                      theta=np.pi/4,\n",
    "                        p=p, M=M, L=L,\n",
    "                        p_map=p_map, c=c, \n",
    "                        discretization_type=discretization_type,\n",
    "                        new_mesh=False,\n",
    "                        form=form, restart=True,run=True)"
   ]
  }
 ],
 "metadata": {
  "celltoolbar": "Tags",
  "interpreter": {
   "hash": "8a4c5cff9d1eb01f6f91880bd866b35b24d8468d7e92aa7ef6f6962744ecb1db"
  },
  "kernelspec": {
   "display_name": "Python 3.9.5 64-bit ('base': conda)",
   "name": "python3"
  },
  "language_info": {
   "codemirror_mode": {
    "name": "ipython",
    "version": 3
   },
   "file_extension": ".py",
   "mimetype": "text/x-python",
   "name": "python",
   "nbconvert_exporter": "python",
   "pygments_lexer": "ipython3",
   "version": "3.9.5"
  },
  "papermill": {
   "default_parameters": {},
   "duration": null,
   "end_time": null,
   "environment_variables": {},
   "exception": null,
   "input_path": "euler_driver.ipynb",
   "output_path": "euler_m04p2c0t2_strong.ipynb",
   "parameters": {
    "c": "c_dg",
    "discretization_type": 2,
    "form": "strong",
    "mach_number": 0.4,
    "p": 2,
    "p_map": 2
   },
   "start_time": "2021-10-27T12:23:06.629499",
   "version": "2.3.3"
  }
 },
 "nbformat": 4,
 "nbformat_minor": 5
}