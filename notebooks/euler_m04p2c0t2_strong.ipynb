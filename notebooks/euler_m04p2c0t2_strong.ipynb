{
 "cells": [
  {
   "cell_type": "code",
   "execution_count": 1,
   "metadata": {
    "execution": {
     "iopub.execute_input": "2020-12-30T03:09:00.495908Z",
     "iopub.status.busy": "2020-12-30T03:09:00.495049Z",
     "iopub.status.idle": "2020-12-30T03:09:00.496673Z",
     "shell.execute_reply": "2020-12-30T03:09:00.497667Z"
    },
    "papermill": {
     "duration": 0.040905,
     "end_time": "2020-12-30T03:09:00.498104",
     "exception": false,
     "start_time": "2020-12-30T03:09:00.457199",
     "status": "completed"
    },
    "tags": [
     "parameters"
    ]
   },
   "outputs": [],
   "source": [
    "mach_number=0.4\n",
    "p=2\n",
    "M=11\n",
    "L=10.0\n",
    "p_geo=2\n",
    "c=\"c_dg\"\n",
    "discretization_type=1\n",
    "form=\"strong\""
   ]
  },
  {
   "cell_type": "code",
   "execution_count": 2,
   "metadata": {
    "execution": {
     "iopub.execute_input": "2020-12-30T03:09:00.513569Z",
     "iopub.status.busy": "2020-12-30T03:09:00.512765Z",
     "iopub.status.idle": "2020-12-30T03:09:00.545154Z",
     "shell.execute_reply": "2020-12-30T03:09:00.545690Z"
    },
    "papermill": {
     "duration": 0.042775,
     "end_time": "2020-12-30T03:09:00.545882",
     "exception": false,
     "start_time": "2020-12-30T03:09:00.503107",
     "status": "completed"
    },
    "tags": [
     "injected-parameters"
    ]
   },
   "outputs": [],
   "source": [
    "# Parameters\n",
    "mach_number = 0.4\n",
    "p = 2\n",
    "c = \"c_dg\"\n",
    "discretization_type = 2\n",
    "form = \"strong\"\n"
   ]
  },
  {
   "cell_type": "code",
   "execution_count": 3,
   "metadata": {
    "execution": {
     "iopub.execute_input": "2020-12-30T03:09:00.588383Z",
     "iopub.status.busy": "2020-12-30T03:09:00.587509Z",
     "iopub.status.idle": "2020-12-30T14:29:39.827312Z",
     "shell.execute_reply": "2020-12-30T14:29:39.827826Z"
    },
    "papermill": {
     "duration": 40839.251331,
     "end_time": "2020-12-30T14:29:39.828088",
     "exception": false,
     "start_time": "2020-12-30T03:09:00.576757",
     "status": "completed"
    },
    "tags": []
   },
   "outputs": [
    {
     "name": "stderr",
     "output_type": "stream",
     "text": [
      "WARNING:root:msh4 requires 3D points, but 2D points given. Appending 0 third component.\n"
     ]
    },
    {
     "name": "stderr",
     "output_type": "stream",
     "text": [
      "WARNING:root:Binary Gmsh needs c_size_t (got int64). Converting.\n"
     ]
    },
    {
     "name": "stdout",
     "output_type": "stream",
     "text": [
      "running solver euler_m04p2c0t2_strong\n"
     ]
    },
    {
     "name": "stdout",
     "output_type": "stream",
     "text": [
      "4.690e-13 &  1.063e-01  \\\\\n",
      "4.086e-13 &  3.733e-01  \\\\\n",
      "9.663e-13 &  3.239e-01  \\\\\n",
      "1.137e-12 &  2.862e-01  \\\\\n"
     ]
    }
   ],
   "source": [
    "import sys  \n",
    "sys.path.insert(0, '../src')\n",
    "from Driver import euler_driver\n",
    "\n",
    "solver = euler_driver(mach_number=mach_number, \n",
    "                        p=p, M=M, L=L,\n",
    "                        p_geo=p_geo, c=c, \n",
    "                        discretization_type=discretization_type,\n",
    "                        form=form)"
   ]
  },
  {
   "cell_type": "code",
   "execution_count": null,
   "metadata": {
    "papermill": {
     "duration": 0.00531,
     "end_time": "2020-12-30T14:29:39.839164",
     "exception": false,
     "start_time": "2020-12-30T14:29:39.833854",
     "status": "completed"
    },
    "tags": []
   },
   "outputs": [],
   "source": []
  }
 ],
 "metadata": {
  "celltoolbar": "Tags",
  "kernelspec": {
   "display_name": "Python 3",
   "language": "python",
   "name": "python3"
  },
  "language_info": {
   "codemirror_mode": {
    "name": "ipython",
    "version": 3
   },
   "file_extension": ".py",
   "mimetype": "text/x-python",
   "name": "python",
   "nbconvert_exporter": "python",
   "pygments_lexer": "ipython3",
   "version": "3.8.5"
  },
  "papermill": {
   "default_parameters": {},
   "duration": 40841.931933,
   "end_time": "2020-12-30T14:29:41.104885",
   "environment_variables": {},
   "exception": null,
   "input_path": "euler_driver.ipynb",
   "output_path": "euler_m04p2c0t2_strong.ipynb",
   "parameters": {
    "c": "c_dg",
    "discretization_type": 2,
    "form": "strong",
    "mach_number": 0.4,
    "p": 2
   },
   "start_time": "2020-12-30T03:08:59.172952",
   "version": "2.2.2"
  }
 },
 "nbformat": 4,
 "nbformat_minor": 2
}