{
 "cells": [
  {
   "cell_type": "markdown",
   "id": "3d7a0965",
   "metadata": {
    "papermill": {
     "duration": 0.003519,
     "end_time": "2021-12-03T07:51:04.590480",
     "exception": false,
     "start_time": "2021-12-03T07:51:04.586961",
     "status": "completed"
    },
    "tags": []
   },
   "source": [
    "# GHOST driver - Euler equations"
   ]
  },
  {
   "cell_type": "code",
   "execution_count": 1,
   "id": "a234aede",
   "metadata": {
    "execution": {
     "iopub.execute_input": "2021-12-03T07:51:04.600887Z",
     "iopub.status.busy": "2021-12-03T07:51:04.600396Z",
     "iopub.status.idle": "2021-12-03T07:51:04.602819Z",
     "shell.execute_reply": "2021-12-03T07:51:04.602254Z"
    },
    "papermill": {
     "duration": 0.00912,
     "end_time": "2021-12-03T07:51:04.602938",
     "exception": false,
     "start_time": "2021-12-03T07:51:04.593818",
     "status": "completed"
    },
    "tags": [
     "parameters"
    ]
   },
   "outputs": [],
   "source": [
    "mach_number=0.4\n",
    "p=2\n",
    "M=16\n",
    "L=10.0\n",
    "p_map=2\n",
    "c=\"c_dg\"\n",
    "discretization_type=1\n",
    "form=\"weak\""
   ]
  },
  {
   "cell_type": "code",
   "execution_count": 2,
   "id": "034493ba",
   "metadata": {
    "execution": {
     "iopub.execute_input": "2021-12-03T07:51:04.612100Z",
     "iopub.status.busy": "2021-12-03T07:51:04.611618Z",
     "iopub.status.idle": "2021-12-03T07:51:04.613840Z",
     "shell.execute_reply": "2021-12-03T07:51:04.613356Z"
    },
    "papermill": {
     "duration": 0.007802,
     "end_time": "2021-12-03T07:51:04.613940",
     "exception": false,
     "start_time": "2021-12-03T07:51:04.606138",
     "status": "completed"
    },
    "tags": [
     "injected-parameters"
    ]
   },
   "outputs": [],
   "source": [
    "# Parameters\n",
    "mach_number = 0.4\n",
    "p = 4\n",
    "p_map = 4\n",
    "c = \"c_dg\"\n",
    "discretization_type = 1\n",
    "form = \"strong\"\n"
   ]
  },
  {
   "cell_type": "code",
   "execution_count": null,
   "id": "ff503679",
   "metadata": {
    "papermill": {
     "duration": null,
     "end_time": null,
     "exception": false,
     "start_time": "2021-12-03T07:51:04.616988",
     "status": "running"
    },
    "tags": []
   },
   "outputs": [],
   "source": [
    "import sys  \n",
    "import numpy as np\n",
    "sys.path.insert(0, '../src')\n",
    "from Driver import euler_driver\n",
    "\n",
    "solver = euler_driver(mach_number=mach_number, \n",
    "                      theta=np.pi/4,\n",
    "                        p=p, M=M, L=L,\n",
    "                        p_map=p_map, c=c, \n",
    "                        discretization_type=discretization_type,\n",
    "                        new_mesh=False,\n",
    "                        form=form, restart=True,run=True)"
   ]
  }
 ],
 "metadata": {
  "celltoolbar": "Tags",
  "interpreter": {
   "hash": "8a4c5cff9d1eb01f6f91880bd866b35b24d8468d7e92aa7ef6f6962744ecb1db"
  },
  "kernelspec": {
   "display_name": "Python 3.9.5 64-bit ('base': conda)",
   "name": "python3"
  },
  "language_info": {
   "codemirror_mode": {
    "name": "ipython",
    "version": 3
   },
   "file_extension": ".py",
   "mimetype": "text/x-python",
   "name": "python",
   "nbconvert_exporter": "python",
   "pygments_lexer": "ipython3",
   "version": "3.9.5"
  },
  "papermill": {
   "default_parameters": {},
   "duration": null,
   "end_time": null,
   "environment_variables": {},
   "exception": null,
   "input_path": "euler_driver.ipynb",
   "output_path": "euler_m04p4c0t1_strong.ipynb",
   "parameters": {
    "c": "c_dg",
    "discretization_type": 1,
    "form": "strong",
    "mach_number": 0.4,
    "p": 4,
    "p_map": 4
   },
   "start_time": "2021-12-03T07:51:01.067229",
   "version": "2.3.3"
  }
 },
 "nbformat": 4,
 "nbformat_minor": 5
}