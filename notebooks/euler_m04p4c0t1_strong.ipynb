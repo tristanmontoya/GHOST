{
 "cells": [
  {
   "cell_type": "code",
   "execution_count": 1,
   "id": "b9af8ed4",
   "metadata": {
    "execution": {
     "iopub.execute_input": "2021-05-14T22:14:17.520489Z",
     "iopub.status.busy": "2021-05-14T22:14:17.519861Z",
     "iopub.status.idle": "2021-05-14T22:14:17.522906Z",
     "shell.execute_reply": "2021-05-14T22:14:17.522300Z"
    },
    "papermill": {
     "duration": 0.019179,
     "end_time": "2021-05-14T22:14:17.523054",
     "exception": false,
     "start_time": "2021-05-14T22:14:17.503875",
     "status": "completed"
    },
    "tags": [
     "parameters"
    ]
   },
   "outputs": [],
   "source": [
    "mach_number=0.4\n",
    "p=2\n",
    "M=16\n",
    "L=10.0\n",
    "p_geo=2\n",
    "c=\"c_dg\"\n",
    "discretization_type=1\n",
    "form=\"strong\""
   ]
  },
  {
   "cell_type": "code",
   "execution_count": 2,
   "id": "2b31a0de",
   "metadata": {
    "execution": {
     "iopub.execute_input": "2021-05-14T22:14:17.542251Z",
     "iopub.status.busy": "2021-05-14T22:14:17.541606Z",
     "iopub.status.idle": "2021-05-14T22:14:17.544875Z",
     "shell.execute_reply": "2021-05-14T22:14:17.544367Z"
    },
    "papermill": {
     "duration": 0.01674,
     "end_time": "2021-05-14T22:14:17.545013",
     "exception": false,
     "start_time": "2021-05-14T22:14:17.528273",
     "status": "completed"
    },
    "tags": [
     "injected-parameters"
    ]
   },
   "outputs": [],
   "source": [
    "# Parameters\n",
    "mach_number = 0.4\n",
    "p = 4\n",
    "p_geo = 4\n",
    "c = \"c_dg\"\n",
    "discretization_type = 1\n",
    "form = \"strong\"\n"
   ]
  },
  {
   "cell_type": "code",
   "execution_count": 3,
   "id": "41e14a81",
   "metadata": {
    "execution": {
     "iopub.execute_input": "2021-05-14T22:14:17.580417Z",
     "iopub.status.busy": "2021-05-14T22:14:17.579627Z",
     "iopub.status.idle": "2021-05-21T14:26:37.368679Z",
     "shell.execute_reply": "2021-05-21T14:26:37.369385Z"
    },
    "papermill": {
     "duration": 576739.820012,
     "end_time": "2021-05-21T14:26:37.369716",
     "exception": false,
     "start_time": "2021-05-14T22:14:17.549704",
     "status": "completed"
    },
    "tags": []
   },
   "outputs": [
    {
     "name": "stdout",
     "output_type": "stream",
     "text": [
      "euler_m04p4c0t1_strong\n"
     ]
    },
    {
     "name": "stdout",
     "output_type": "stream",
     "text": [
      "4.690e-13 &  1.036e-03  \\\\\n",
      "-1.528e-13 &  1.762e-03  \\\\\n",
      "1.219e-12 &  1.627e-03  \\\\\n",
      "6.821e-13 &  1.782e-03  \\\\\n"
     ]
    }
   ],
   "source": [
    "import sys  \n",
    "import numpy as np\n",
    "sys.path.insert(0, '../src')\n",
    "from Driver import euler_driver\n",
    "\n",
    "solver = euler_driver(mach_number=mach_number, \n",
    "                      theta=np.pi/4,\n",
    "                        p=p, M=M, L=L,\n",
    "                        p_geo=p_geo, c=c, \n",
    "                        discretization_type=discretization_type,\n",
    "                        form=form)"
   ]
  },
  {
   "cell_type": "code",
   "execution_count": null,
   "id": "ae528e20",
   "metadata": {
    "papermill": {
     "duration": 0.008354,
     "end_time": "2021-05-21T14:26:37.386275",
     "exception": false,
     "start_time": "2021-05-21T14:26:37.377921",
     "status": "completed"
    },
    "tags": []
   },
   "outputs": [],
   "source": []
  }
 ],
 "metadata": {
  "celltoolbar": "Tags",
  "kernelspec": {
   "display_name": "Python 3",
   "language": "python",
   "name": "python3"
  },
  "language_info": {
   "codemirror_mode": {
    "name": "ipython",
    "version": 3
   },
   "file_extension": ".py",
   "mimetype": "text/x-python",
   "name": "python",
   "nbconvert_exporter": "python",
   "pygments_lexer": "ipython3",
   "version": "3.8.5"
  },
  "papermill": {
   "default_parameters": {},
   "duration": 576741.928492,
   "end_time": "2021-05-21T14:26:38.207419",
   "environment_variables": {},
   "exception": null,
   "input_path": "euler_driver.ipynb",
   "output_path": "euler_m04p4c0t1_strong.ipynb",
   "parameters": {
    "c": "c_dg",
    "discretization_type": 1,
    "form": "strong",
    "mach_number": 0.4,
    "p": 4,
    "p_geo": 4
   },
   "start_time": "2021-05-14T22:14:16.278927",
   "version": "2.3.3"
  }
 },
 "nbformat": 4,
 "nbformat_minor": 5
}