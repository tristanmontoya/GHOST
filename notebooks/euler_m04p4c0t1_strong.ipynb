{
 "cells": [
  {
   "cell_type": "code",
   "execution_count": 1,
   "id": "411fd29f",
   "metadata": {
    "execution": {
     "iopub.execute_input": "2021-05-08T19:26:05.708430Z",
     "iopub.status.busy": "2021-05-08T19:26:05.707814Z",
     "iopub.status.idle": "2021-05-08T19:26:05.711006Z",
     "shell.execute_reply": "2021-05-08T19:26:05.710401Z"
    },
    "papermill": {
     "duration": 0.018656,
     "end_time": "2021-05-08T19:26:05.711153",
     "exception": false,
     "start_time": "2021-05-08T19:26:05.692497",
     "status": "completed"
    },
    "tags": [
     "parameters"
    ]
   },
   "outputs": [],
   "source": [
    "mach_number=0.4\n",
    "p=2\n",
    "M=11\n",
    "L=10.0\n",
    "p_geo=2\n",
    "c=\"c_dg\"\n",
    "discretization_type=1\n",
    "form=\"strong\""
   ]
  },
  {
   "cell_type": "code",
   "execution_count": 2,
   "id": "f73cb1bd",
   "metadata": {
    "execution": {
     "iopub.execute_input": "2021-05-08T19:26:05.732733Z",
     "iopub.status.busy": "2021-05-08T19:26:05.731634Z",
     "iopub.status.idle": "2021-05-08T19:26:05.733300Z",
     "shell.execute_reply": "2021-05-08T19:26:05.732167Z"
    },
    "papermill": {
     "duration": 0.017256,
     "end_time": "2021-05-08T19:26:05.733430",
     "exception": false,
     "start_time": "2021-05-08T19:26:05.716174",
     "status": "completed"
    },
    "tags": [
     "injected-parameters"
    ]
   },
   "outputs": [],
   "source": [
    "# Parameters\n",
    "mach_number = 0.4\n",
    "p = 4\n",
    "p_geo = 4\n",
    "c = \"c_dg\"\n",
    "discretization_type = 1\n",
    "form = \"strong\"\n"
   ]
  },
  {
   "cell_type": "code",
   "execution_count": null,
   "id": "3acc2051",
   "metadata": {
    "papermill": {
     "duration": null,
     "end_time": null,
     "exception": false,
     "start_time": "2021-05-08T19:26:05.737979",
     "status": "running"
    },
    "tags": []
   },
   "outputs": [],
   "source": [
    "import sys  \n",
    "sys.path.insert(0, '../src')\n",
    "from Driver import euler_driver\n",
    "\n",
    "solver = euler_driver(mach_number=mach_number, \n",
    "                        p=p, M=M, L=L,\n",
    "                        p_geo=p_geo, c=c, \n",
    "                        discretization_type=discretization_type,\n",
    "                        form=form)"
   ]
  },
  {
   "cell_type": "code",
   "execution_count": null,
   "id": "fc8734d0",
   "metadata": {
    "papermill": {
     "duration": null,
     "end_time": null,
     "exception": null,
     "start_time": null,
     "status": "pending"
    },
    "tags": []
   },
   "outputs": [],
   "source": []
  }
 ],
 "metadata": {
  "celltoolbar": "Tags",
  "kernelspec": {
   "display_name": "Python 3",
   "language": "python",
   "name": "python3"
  },
  "language_info": {
   "codemirror_mode": {
    "name": "ipython",
    "version": 3
   },
   "file_extension": ".py",
   "mimetype": "text/x-python",
   "name": "python",
   "nbconvert_exporter": "python",
   "pygments_lexer": "ipython3",
   "version": "3.7.9"
  },
  "papermill": {
   "default_parameters": {},
   "duration": null,
   "end_time": null,
   "environment_variables": {},
   "exception": null,
   "input_path": "euler_driver.ipynb",
   "output_path": "euler_m04p4c0t1_strong.ipynb",
   "parameters": {
    "c": "c_dg",
    "discretization_type": 1,
    "form": "strong",
    "mach_number": 0.4,
    "p": 4,
    "p_geo": 4
   },
   "start_time": "2021-05-08T19:26:03.793577",
   "version": "2.3.3"
  }
 },
 "nbformat": 4,
 "nbformat_minor": 5
}