{
 "cells": [
  {
   "cell_type": "code",
   "execution_count": 1,
   "metadata": {
    "execution": {
     "iopub.execute_input": "2020-12-30T03:09:00.571035Z",
     "iopub.status.busy": "2020-12-30T03:09:00.570354Z",
     "iopub.status.idle": "2020-12-30T03:09:00.581464Z",
     "shell.execute_reply": "2020-12-30T03:09:00.580776Z"
    },
    "papermill": {
     "duration": 0.032051,
     "end_time": "2020-12-30T03:09:00.581731",
     "exception": false,
     "start_time": "2020-12-30T03:09:00.549680",
     "status": "completed"
    },
    "tags": [
     "parameters"
    ]
   },
   "outputs": [],
   "source": [
    "mach_number=0.4\n",
    "p=2\n",
    "M=11\n",
    "L=10.0\n",
    "p_geo=2\n",
    "c=\"c_dg\"\n",
    "discretization_type=1\n",
    "form=\"strong\""
   ]
  },
  {
   "cell_type": "code",
   "execution_count": 2,
   "metadata": {
    "execution": {
     "iopub.execute_input": "2020-12-30T03:09:00.616532Z",
     "iopub.status.busy": "2020-12-30T03:09:00.613446Z",
     "iopub.status.idle": "2020-12-30T03:09:00.618175Z",
     "shell.execute_reply": "2020-12-30T03:09:00.618676Z"
    },
    "papermill": {
     "duration": 0.024452,
     "end_time": "2020-12-30T03:09:00.618877",
     "exception": false,
     "start_time": "2020-12-30T03:09:00.594425",
     "status": "completed"
    },
    "tags": [
     "injected-parameters"
    ]
   },
   "outputs": [],
   "source": [
    "# Parameters\n",
    "mach_number = 0.4\n",
    "p = 2\n",
    "c = \"c_+\"\n",
    "discretization_type = 3\n",
    "form = \"weak\"\n"
   ]
  },
  {
   "cell_type": "code",
   "execution_count": 3,
   "metadata": {
    "execution": {
     "iopub.execute_input": "2020-12-30T03:09:00.660318Z",
     "iopub.status.busy": "2020-12-30T03:09:00.658821Z",
     "iopub.status.idle": "2020-12-30T14:09:48.638162Z",
     "shell.execute_reply": "2020-12-30T14:09:48.638720Z"
    },
    "papermill": {
     "duration": 39648.005809,
     "end_time": "2020-12-30T14:09:48.639062",
     "exception": false,
     "start_time": "2020-12-30T03:09:00.633253",
     "status": "completed"
    },
    "tags": []
   },
   "outputs": [
    {
     "name": "stderr",
     "output_type": "stream",
     "text": [
      "WARNING:root:msh4 requires 3D points, but 2D points given. Appending 0 third component.\n"
     ]
    },
    {
     "name": "stderr",
     "output_type": "stream",
     "text": [
      "WARNING:root:Binary Gmsh needs c_size_t (got int64). Converting.\n"
     ]
    },
    {
     "name": "stdout",
     "output_type": "stream",
     "text": [
      "running solver euler_m04p2cpt3_weak\n"
     ]
    },
    {
     "name": "stdout",
     "output_type": "stream",
     "text": [
      "-9.948e-14 &  1.076e-01  \\\\\n",
      "-1.805e-12 &  3.792e-01  \\\\\n",
      "1.492e-12 &  2.617e-01  \\\\\n",
      "-3.411e-13 &  3.058e-01  \\\\\n"
     ]
    }
   ],
   "source": [
    "import sys  \n",
    "sys.path.insert(0, '../src')\n",
    "from Driver import euler_driver\n",
    "\n",
    "solver = euler_driver(mach_number=mach_number, \n",
    "                        p=p, M=M, L=L,\n",
    "                        p_geo=p_geo, c=c, \n",
    "                        discretization_type=discretization_type,\n",
    "                        form=form)"
   ]
  },
  {
   "cell_type": "code",
   "execution_count": null,
   "metadata": {
    "papermill": {
     "duration": 0.005418,
     "end_time": "2020-12-30T14:09:48.650416",
     "exception": false,
     "start_time": "2020-12-30T14:09:48.644998",
     "status": "completed"
    },
    "tags": []
   },
   "outputs": [],
   "source": []
  }
 ],
 "metadata": {
  "celltoolbar": "Tags",
  "kernelspec": {
   "display_name": "Python 3",
   "language": "python",
   "name": "python3"
  },
  "language_info": {
   "codemirror_mode": {
    "name": "ipython",
    "version": 3
   },
   "file_extension": ".py",
   "mimetype": "text/x-python",
   "name": "python",
   "nbconvert_exporter": "python",
   "pygments_lexer": "ipython3",
   "version": "3.8.5"
  },
  "papermill": {
   "default_parameters": {},
   "duration": 39650.85506,
   "end_time": "2020-12-30T14:09:50.122278",
   "environment_variables": {},
   "exception": null,
   "input_path": "euler_driver.ipynb",
   "output_path": "euler_m04p2cpt3_weak.ipynb",
   "parameters": {
    "c": "c_+",
    "discretization_type": 3,
    "form": "weak",
    "mach_number": 0.4,
    "p": 2
   },
   "start_time": "2020-12-30T03:08:59.267218",
   "version": "2.2.2"
  }
 },
 "nbformat": 4,
 "nbformat_minor": 2
}