{
 "cells": [
  {
   "cell_type": "markdown",
   "id": "a60edf7b",
   "metadata": {
    "papermill": {
     "duration": 0.00343,
     "end_time": "2021-11-05T23:46:17.396886",
     "exception": false,
     "start_time": "2021-11-05T23:46:17.393456",
     "status": "completed"
    },
    "tags": []
   },
   "source": [
    "# GHOST driver - Euler equations"
   ]
  },
  {
   "cell_type": "code",
   "execution_count": 1,
   "id": "b8bf367d",
   "metadata": {
    "execution": {
     "iopub.execute_input": "2021-11-05T23:46:17.407196Z",
     "iopub.status.busy": "2021-11-05T23:46:17.406706Z",
     "iopub.status.idle": "2021-11-05T23:46:17.409211Z",
     "shell.execute_reply": "2021-11-05T23:46:17.408663Z"
    },
    "papermill": {
     "duration": 0.009192,
     "end_time": "2021-11-05T23:46:17.409320",
     "exception": false,
     "start_time": "2021-11-05T23:46:17.400128",
     "status": "completed"
    },
    "tags": [
     "parameters"
    ]
   },
   "outputs": [],
   "source": [
    "mach_number=0.4\n",
    "p=2\n",
    "M=16\n",
    "L=10.0\n",
    "p_map=2\n",
    "c=\"c_dg\"\n",
    "discretization_type=1\n",
    "form=\"weak\""
   ]
  },
  {
   "cell_type": "code",
   "execution_count": 2,
   "id": "9ada26fa",
   "metadata": {
    "execution": {
     "iopub.execute_input": "2021-11-05T23:46:17.418410Z",
     "iopub.status.busy": "2021-11-05T23:46:17.417932Z",
     "iopub.status.idle": "2021-11-05T23:46:17.420274Z",
     "shell.execute_reply": "2021-11-05T23:46:17.419872Z"
    },
    "papermill": {
     "duration": 0.007831,
     "end_time": "2021-11-05T23:46:17.420372",
     "exception": false,
     "start_time": "2021-11-05T23:46:17.412541",
     "status": "completed"
    },
    "tags": [
     "injected-parameters"
    ]
   },
   "outputs": [],
   "source": [
    "# Parameters\n",
    "mach_number = 0.4\n",
    "p = 2\n",
    "p_map = 2\n",
    "c = \"c_+\"\n",
    "discretization_type = 3\n",
    "form = \"weak\"\n"
   ]
  },
  {
   "cell_type": "code",
   "execution_count": 3,
   "id": "d8185960",
   "metadata": {
    "execution": {
     "iopub.execute_input": "2021-11-05T23:46:17.430232Z",
     "iopub.status.busy": "2021-11-05T23:46:17.429751Z",
     "iopub.status.idle": "2021-11-05T23:46:35.820419Z",
     "shell.execute_reply": "2021-11-05T23:46:35.820871Z"
    },
    "papermill": {
     "duration": 18.397615,
     "end_time": "2021-11-05T23:46:35.821032",
     "exception": false,
     "start_time": "2021-11-05T23:46:17.423417",
     "status": "completed"
    },
    "tags": []
   },
   "outputs": [
    {
     "name": "stderr",
     "output_type": "stream",
     "text": [
      "Matplotlib created a temporary config/cache directory at /tmp/matplotlib-pjr50eoj because the default path (/home/z/zingg/tmontoya/.config/matplotlib) is not a writable directory; it is highly recommended to set the MPLCONFIGDIR environment variable to a writable directory, in particular to speed up the import of Matplotlib and to better support multiprocessing.\n"
     ]
    },
    {
     "name": "stdout",
     "output_type": "stream",
     "text": [
      "euler_m04p2cpt3_weak\n"
     ]
    },
    {
     "name": "stdout",
     "output_type": "stream",
     "text": [
      "loaded from time step  45254\n"
     ]
    }
   ],
   "source": [
    "import sys  \n",
    "import numpy as np\n",
    "sys.path.insert(0, '../src')\n",
    "from Driver import euler_driver\n",
    "\n",
    "solver = euler_driver(mach_number=mach_number, \n",
    "                      theta=np.pi/4,\n",
    "                        p=p, M=M, L=L,\n",
    "                        p_map=p_map, c=c, \n",
    "                        discretization_type=discretization_type,\n",
    "                        new_mesh=False,\n",
    "                        form=form, restart=True,run=True)"
   ]
  }
 ],
 "metadata": {
  "celltoolbar": "Tags",
  "interpreter": {
   "hash": "8a4c5cff9d1eb01f6f91880bd866b35b24d8468d7e92aa7ef6f6962744ecb1db"
  },
  "kernelspec": {
   "display_name": "Python 3.9.5 64-bit ('base': conda)",
   "name": "python3"
  },
  "language_info": {
   "codemirror_mode": {
    "name": "ipython",
    "version": 3
   },
   "file_extension": ".py",
   "mimetype": "text/x-python",
   "name": "python",
   "nbconvert_exporter": "python",
   "pygments_lexer": "ipython3",
   "version": "3.8.5"
  },
  "papermill": {
   "default_parameters": {},
   "duration": 21.949371,
   "end_time": "2021-11-05T23:46:36.333832",
   "environment_variables": {},
   "exception": null,
   "input_path": "euler_driver.ipynb",
   "output_path": "euler_m04p2cpt3_weak.ipynb",
   "parameters": {
    "c": "c_+",
    "discretization_type": 3,
    "form": "weak",
    "mach_number": 0.4,
    "p": 2,
    "p_map": 2
   },
   "start_time": "2021-11-05T23:46:14.384461",
   "version": "2.3.3"
  }
 },
 "nbformat": 4,
 "nbformat_minor": 5
}