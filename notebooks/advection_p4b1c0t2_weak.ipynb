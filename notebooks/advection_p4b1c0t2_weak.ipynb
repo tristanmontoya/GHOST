{
 "cells": [
  {
   "cell_type": "markdown",
   "id": "1def18f7",
   "metadata": {
    "papermill": {
     "duration": 0.003253,
     "end_time": "2021-10-27T13:33:10.518853",
     "exception": false,
     "start_time": "2021-10-27T13:33:10.515600",
     "status": "completed"
    },
    "tags": []
   },
   "source": [
    "# GHOST driver - linear advection equation"
   ]
  },
  {
   "cell_type": "code",
   "execution_count": 1,
   "id": "125b6d6c",
   "metadata": {
    "execution": {
     "iopub.execute_input": "2021-10-27T13:33:10.528771Z",
     "iopub.status.busy": "2021-10-27T13:33:10.528276Z",
     "iopub.status.idle": "2021-10-27T13:33:10.531083Z",
     "shell.execute_reply": "2021-10-27T13:33:10.530606Z"
    },
    "papermill": {
     "duration": 0.009425,
     "end_time": "2021-10-27T13:33:10.531192",
     "exception": false,
     "start_time": "2021-10-27T13:33:10.521767",
     "status": "completed"
    },
    "tags": [
     "parameters"
    ]
   },
   "outputs": [],
   "source": [
    "p=2\n",
    "M=8\n",
    "L=1\n",
    "p_map=1\n",
    "c=\"c_+\"\n",
    "discretization_type=1\n",
    "upwind_parameter=0.0\n",
    "form=\"weak\""
   ]
  },
  {
   "cell_type": "code",
   "execution_count": 2,
   "id": "70c221d6",
   "metadata": {
    "execution": {
     "iopub.execute_input": "2021-10-27T13:33:10.541102Z",
     "iopub.status.busy": "2021-10-27T13:33:10.540511Z",
     "iopub.status.idle": "2021-10-27T13:33:10.542421Z",
     "shell.execute_reply": "2021-10-27T13:33:10.542946Z"
    },
    "papermill": {
     "duration": 0.008981,
     "end_time": "2021-10-27T13:33:10.543126",
     "exception": false,
     "start_time": "2021-10-27T13:33:10.534145",
     "status": "completed"
    },
    "tags": [
     "injected-parameters"
    ]
   },
   "outputs": [],
   "source": [
    "# Parameters\n",
    "p = 4\n",
    "p_map = 1\n",
    "upwind_parameter = 1.0\n",
    "c = \"c_dg\"\n",
    "discretization_type = 2\n",
    "form = \"weak\"\n"
   ]
  },
  {
   "cell_type": "code",
   "execution_count": 3,
   "id": "5a316603",
   "metadata": {
    "execution": {
     "iopub.execute_input": "2021-10-27T13:33:10.554868Z",
     "iopub.status.busy": "2021-10-27T13:33:10.554389Z",
     "iopub.status.idle": "2021-10-27T14:25:19.286703Z",
     "shell.execute_reply": "2021-10-27T14:25:19.287364Z"
    },
    "papermill": {
     "duration": 3128.741707,
     "end_time": "2021-10-27T14:25:19.287767",
     "exception": false,
     "start_time": "2021-10-27T13:33:10.546060",
     "status": "completed"
    },
    "tags": []
   },
   "outputs": [
    {
     "name": "stderr",
     "output_type": "stream",
     "text": [
      "Matplotlib created a temporary config/cache directory at /tmp/matplotlib-69p3feqs because the default path (/home/z/zingg/tmontoya/.config/matplotlib) is not a writable directory; it is highly recommended to set the MPLCONFIGDIR environment variable to a writable directory, in particular to speed up the import of Matplotlib and to better support multiprocessing.\n"
     ]
    },
    {
     "name": "stdout",
     "output_type": "stream",
     "text": [
      "advection_p4b1c0t2_weak\n"
     ]
    }
   ],
   "source": [
    "import sys  \n",
    "import numpy as np\n",
    "sys.path.insert(0, '../src')\n",
    "from Driver import advection_driver\n",
    "\n",
    "solver = advection_driver(a=np.sqrt(2), theta=np.pi/4, p=p, M=M, L=L,\n",
    "                        p_map=p_map, c=c, \n",
    "                        discretization_type=discretization_type,\n",
    "                        upwind_parameter=upwind_parameter,\n",
    "                        new_mesh=False,form=form,restart=True,run=True)"
   ]
  }
 ],
 "metadata": {
  "celltoolbar": "Tags",
  "interpreter": {
   "hash": "8a4c5cff9d1eb01f6f91880bd866b35b24d8468d7e92aa7ef6f6962744ecb1db"
  },
  "kernelspec": {
   "display_name": "Python 3.9.5 64-bit ('base': conda)",
   "name": "python3"
  },
  "language_info": {
   "codemirror_mode": {
    "name": "ipython",
    "version": 3
   },
   "file_extension": ".py",
   "mimetype": "text/x-python",
   "name": "python",
   "nbconvert_exporter": "python",
   "pygments_lexer": "ipython3",
   "version": "3.8.5"
  },
  "papermill": {
   "default_parameters": {},
   "duration": 3133.111687,
   "end_time": "2021-10-27T14:25:19.600627",
   "environment_variables": {},
   "exception": null,
   "input_path": "advection_driver.ipynb",
   "output_path": "advection_p4b1c0t2_weak.ipynb",
   "parameters": {
    "c": "c_dg",
    "discretization_type": 2,
    "form": "weak",
    "p": 4,
    "p_map": 1,
    "upwind_parameter": 1.0
   },
   "start_time": "2021-10-27T13:33:06.488940",
   "version": "2.3.3"
  }
 },
 "nbformat": 4,
 "nbformat_minor": 5
}