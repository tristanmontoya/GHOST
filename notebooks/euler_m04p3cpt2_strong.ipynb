{
 "cells": [
  {
   "cell_type": "markdown",
   "id": "db3732a9",
   "metadata": {
    "papermill": {
     "duration": 0.009131,
     "end_time": "2021-12-08T16:30:21.756645",
     "exception": false,
     "start_time": "2021-12-08T16:30:21.747514",
     "status": "completed"
    },
    "tags": []
   },
   "source": [
    "# GHOST driver - Euler equations"
   ]
  },
  {
   "cell_type": "code",
   "execution_count": 1,
   "id": "d7ba4b3c",
   "metadata": {
    "execution": {
     "iopub.execute_input": "2021-12-08T16:30:21.800528Z",
     "iopub.status.busy": "2021-12-08T16:30:21.799293Z",
     "iopub.status.idle": "2021-12-08T16:30:21.812241Z",
     "shell.execute_reply": "2021-12-08T16:30:21.813218Z"
    },
    "papermill": {
     "duration": 0.051063,
     "end_time": "2021-12-08T16:30:21.813596",
     "exception": false,
     "start_time": "2021-12-08T16:30:21.762533",
     "status": "completed"
    },
    "tags": [
     "parameters"
    ]
   },
   "outputs": [],
   "source": [
    "mach_number=0.4\n",
    "p=2\n",
    "M=16\n",
    "L=10.0\n",
    "p_map=2\n",
    "c=\"c_dg\"\n",
    "discretization_type=1\n",
    "form=\"weak\""
   ]
  },
  {
   "cell_type": "code",
   "execution_count": 2,
   "id": "1fc81aa5",
   "metadata": {
    "execution": {
     "iopub.execute_input": "2021-12-08T16:30:21.887519Z",
     "iopub.status.busy": "2021-12-08T16:30:21.886309Z",
     "iopub.status.idle": "2021-12-08T16:30:21.888913Z",
     "shell.execute_reply": "2021-12-08T16:30:21.889971Z"
    },
    "papermill": {
     "duration": 0.034153,
     "end_time": "2021-12-08T16:30:21.890228",
     "exception": false,
     "start_time": "2021-12-08T16:30:21.856075",
     "status": "completed"
    },
    "tags": [
     "injected-parameters"
    ]
   },
   "outputs": [],
   "source": [
    "# Parameters\n",
    "mach_number = 0.4\n",
    "p = 3\n",
    "p_map = 3\n",
    "c = \"c_+\"\n",
    "discretization_type = 2\n",
    "form = \"strong\"\n"
   ]
  },
  {
   "cell_type": "code",
   "execution_count": 3,
   "id": "6742c448",
   "metadata": {
    "execution": {
     "iopub.execute_input": "2021-12-08T16:30:21.952721Z",
     "iopub.status.busy": "2021-12-08T16:30:21.951277Z",
     "iopub.status.idle": "2021-12-08T16:30:38.546986Z",
     "shell.execute_reply": "2021-12-08T16:30:38.547397Z"
    },
    "papermill": {
     "duration": 16.640045,
     "end_time": "2021-12-08T16:30:38.547536",
     "exception": false,
     "start_time": "2021-12-08T16:30:21.907491",
     "status": "completed"
    },
    "tags": []
   },
   "outputs": [
    {
     "name": "stderr",
     "output_type": "stream",
     "text": [
      "Matplotlib created a temporary config/cache directory at /tmp/matplotlib-g_jz3p42 because the default path (/home/z/zingg/tmontoya/.config/matplotlib) is not a writable directory; it is highly recommended to set the MPLCONFIGDIR environment variable to a writable directory, in particular to speed up the import of Matplotlib and to better support multiprocessing.\n"
     ]
    },
    {
     "name": "stdout",
     "output_type": "stream",
     "text": [
      "euler_m04p3cpt2_strong\n"
     ]
    },
    {
     "name": "stdout",
     "output_type": "stream",
     "text": [
      "loaded from time step  63356\n"
     ]
    }
   ],
   "source": [
    "import sys  \n",
    "import numpy as np\n",
    "sys.path.insert(0, '../src')\n",
    "from Driver import euler_driver\n",
    "\n",
    "solver = euler_driver(mach_number=mach_number, \n",
    "                      theta=np.pi/4,\n",
    "                        p=p, M=M, L=L,\n",
    "                        p_map=p_map, c=c, \n",
    "                        discretization_type=discretization_type,\n",
    "                        new_mesh=False,\n",
    "                        form=form, restart=True,run=True)"
   ]
  }
 ],
 "metadata": {
  "celltoolbar": "Tags",
  "interpreter": {
   "hash": "8a4c5cff9d1eb01f6f91880bd866b35b24d8468d7e92aa7ef6f6962744ecb1db"
  },
  "kernelspec": {
   "display_name": "Python 3.9.5 64-bit ('base': conda)",
   "name": "python3"
  },
  "language_info": {
   "codemirror_mode": {
    "name": "ipython",
    "version": 3
   },
   "file_extension": ".py",
   "mimetype": "text/x-python",
   "name": "python",
   "nbconvert_exporter": "python",
   "pygments_lexer": "ipython3",
   "version": "3.8.5"
  },
  "papermill": {
   "default_parameters": {},
   "duration": 18.296517,
   "end_time": "2021-12-08T16:30:38.957373",
   "environment_variables": {},
   "exception": null,
   "input_path": "euler_driver.ipynb",
   "output_path": "euler_m04p3cpt2_strong.ipynb",
   "parameters": {
    "c": "c_+",
    "discretization_type": 2,
    "form": "strong",
    "mach_number": 0.4,
    "p": 3,
    "p_map": 3
   },
   "start_time": "2021-12-08T16:30:20.660856",
   "version": "2.3.3"
  }
 },
 "nbformat": 4,
 "nbformat_minor": 5
}