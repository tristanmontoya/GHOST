{
 "cells": [
  {
   "cell_type": "code",
   "execution_count": 1,
   "id": "0b700043",
   "metadata": {
    "execution": {
     "iopub.execute_input": "2021-05-08T19:25:59.386612Z",
     "iopub.status.busy": "2021-05-08T19:25:59.381620Z",
     "iopub.status.idle": "2021-05-08T19:25:59.436815Z",
     "shell.execute_reply": "2021-05-08T19:25:59.437338Z"
    },
    "papermill": {
     "duration": 0.118379,
     "end_time": "2021-05-08T19:25:59.437598",
     "exception": false,
     "start_time": "2021-05-08T19:25:59.319219",
     "status": "completed"
    },
    "tags": [
     "parameters"
    ]
   },
   "outputs": [],
   "source": [
    "mach_number=0.4\n",
    "p=2\n",
    "M=11\n",
    "L=10.0\n",
    "p_geo=2\n",
    "c=\"c_dg\"\n",
    "discretization_type=1\n",
    "form=\"strong\""
   ]
  },
  {
   "cell_type": "code",
   "execution_count": 2,
   "id": "5202a75f",
   "metadata": {
    "execution": {
     "iopub.execute_input": "2021-05-08T19:25:59.520969Z",
     "iopub.status.busy": "2021-05-08T19:25:59.520126Z",
     "iopub.status.idle": "2021-05-08T19:25:59.522398Z",
     "shell.execute_reply": "2021-05-08T19:25:59.523036Z"
    },
    "papermill": {
     "duration": 0.079971,
     "end_time": "2021-05-08T19:25:59.523270",
     "exception": false,
     "start_time": "2021-05-08T19:25:59.443299",
     "status": "completed"
    },
    "tags": [
     "injected-parameters"
    ]
   },
   "outputs": [],
   "source": [
    "# Parameters\n",
    "mach_number = 0.4\n",
    "p = 3\n",
    "p_geo = 3\n",
    "c = \"c_+\"\n",
    "discretization_type = 2\n",
    "form = \"strong\"\n"
   ]
  },
  {
   "cell_type": "code",
   "execution_count": 3,
   "id": "b465e61d",
   "metadata": {
    "execution": {
     "iopub.execute_input": "2021-05-08T19:25:59.587346Z",
     "iopub.status.busy": "2021-05-08T19:25:59.586704Z",
     "iopub.status.idle": "2021-05-09T18:16:41.331383Z",
     "shell.execute_reply": "2021-05-09T18:16:41.332068Z"
    },
    "papermill": {
     "duration": 82241.783846,
     "end_time": "2021-05-09T18:16:41.332326",
     "exception": false,
     "start_time": "2021-05-08T19:25:59.548480",
     "status": "completed"
    },
    "tags": []
   },
   "outputs": [
    {
     "name": "stderr",
     "output_type": "stream",
     "text": [
      "WARNING:root:msh4 requires 3D points, but 2D points given. Appending 0 third component.\n"
     ]
    },
    {
     "name": "stderr",
     "output_type": "stream",
     "text": [
      "WARNING:root:Binary Gmsh needs c_size_t (got int64). Converting.\n"
     ]
    },
    {
     "name": "stdout",
     "output_type": "stream",
     "text": [
      "running solver euler_m04p3cpt2_strong\n"
     ]
    },
    {
     "name": "stdout",
     "output_type": "stream",
     "text": [
      "1.421e-14 &  3.876e-02  \\\\\n",
      "-1.453e-12 &  1.148e-01  \\\\\n",
      "1.538e-12 &  9.658e-02  \\\\\n",
      "-5.684e-14 &  9.641e-02  \\\\\n"
     ]
    }
   ],
   "source": [
    "import sys  \n",
    "sys.path.insert(0, '../src')\n",
    "from Driver import euler_driver\n",
    "\n",
    "solver = euler_driver(mach_number=mach_number, \n",
    "                        p=p, M=M, L=L,\n",
    "                        p_geo=p_geo, c=c, \n",
    "                        discretization_type=discretization_type,\n",
    "                        form=form)"
   ]
  },
  {
   "cell_type": "code",
   "execution_count": null,
   "id": "bc97ef2d",
   "metadata": {
    "papermill": {
     "duration": 0.008136,
     "end_time": "2021-05-09T18:16:41.349230",
     "exception": false,
     "start_time": "2021-05-09T18:16:41.341094",
     "status": "completed"
    },
    "tags": []
   },
   "outputs": [],
   "source": []
  }
 ],
 "metadata": {
  "celltoolbar": "Tags",
  "kernelspec": {
   "display_name": "Python 3",
   "language": "python",
   "name": "python3"
  },
  "language_info": {
   "codemirror_mode": {
    "name": "ipython",
    "version": 3
   },
   "file_extension": ".py",
   "mimetype": "text/x-python",
   "name": "python",
   "nbconvert_exporter": "python",
   "pygments_lexer": "ipython3",
   "version": "3.8.5"
  },
  "papermill": {
   "default_parameters": {},
   "duration": 82244.490258,
   "end_time": "2021-05-09T18:16:42.476200",
   "environment_variables": {},
   "exception": null,
   "input_path": "euler_driver.ipynb",
   "output_path": "euler_m04p3cpt2_strong.ipynb",
   "parameters": {
    "c": "c_+",
    "discretization_type": 2,
    "form": "strong",
    "mach_number": 0.4,
    "p": 3,
    "p_geo": 3
   },
   "start_time": "2021-05-08T19:25:57.985942",
   "version": "2.3.3"
  }
 },
 "nbformat": 4,
 "nbformat_minor": 5
}