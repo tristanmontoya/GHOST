{
 "cells": [
  {
   "cell_type": "markdown",
   "id": "1d100c37",
   "metadata": {
    "papermill": {
     "duration": 0.003375,
     "end_time": "2021-11-08T23:07:58.340425",
     "exception": false,
     "start_time": "2021-11-08T23:07:58.337050",
     "status": "completed"
    },
    "tags": []
   },
   "source": [
    "# GHOST driver - Euler equations"
   ]
  },
  {
   "cell_type": "code",
   "execution_count": 1,
   "id": "91643b56",
   "metadata": {
    "execution": {
     "iopub.execute_input": "2021-11-08T23:07:58.350262Z",
     "iopub.status.busy": "2021-11-08T23:07:58.349803Z",
     "iopub.status.idle": "2021-11-08T23:07:58.351676Z",
     "shell.execute_reply": "2021-11-08T23:07:58.352065Z"
    },
    "papermill": {
     "duration": 0.008805,
     "end_time": "2021-11-08T23:07:58.352236",
     "exception": false,
     "start_time": "2021-11-08T23:07:58.343431",
     "status": "completed"
    },
    "tags": [
     "parameters"
    ]
   },
   "outputs": [],
   "source": [
    "mach_number=0.4\n",
    "p=2\n",
    "M=16\n",
    "L=10.0\n",
    "p_map=2\n",
    "c=\"c_dg\"\n",
    "discretization_type=1\n",
    "form=\"weak\""
   ]
  },
  {
   "cell_type": "code",
   "execution_count": 2,
   "id": "4a0e2dac",
   "metadata": {
    "execution": {
     "iopub.execute_input": "2021-11-08T23:07:58.360929Z",
     "iopub.status.busy": "2021-11-08T23:07:58.360474Z",
     "iopub.status.idle": "2021-11-08T23:07:58.362253Z",
     "shell.execute_reply": "2021-11-08T23:07:58.362623Z"
    },
    "papermill": {
     "duration": 0.007618,
     "end_time": "2021-11-08T23:07:58.362733",
     "exception": false,
     "start_time": "2021-11-08T23:07:58.355115",
     "status": "completed"
    },
    "tags": [
     "injected-parameters"
    ]
   },
   "outputs": [],
   "source": [
    "# Parameters\n",
    "mach_number = 0.4\n",
    "p = 3\n",
    "p_map = 3\n",
    "c = \"c_+\"\n",
    "discretization_type = 2\n",
    "form = \"strong\"\n"
   ]
  },
  {
   "cell_type": "code",
   "execution_count": 3,
   "id": "dff87daa",
   "metadata": {
    "execution": {
     "iopub.execute_input": "2021-11-08T23:07:58.372152Z",
     "iopub.status.busy": "2021-11-08T23:07:58.371703Z",
     "iopub.status.idle": "2021-11-09T04:23:04.144925Z",
     "shell.execute_reply": "2021-11-09T04:23:04.145465Z"
    },
    "papermill": {
     "duration": 18905.780227,
     "end_time": "2021-11-09T04:23:04.145735",
     "exception": false,
     "start_time": "2021-11-08T23:07:58.365508",
     "status": "completed"
    },
    "tags": []
   },
   "outputs": [
    {
     "name": "stderr",
     "output_type": "stream",
     "text": [
      "Matplotlib created a temporary config/cache directory at /tmp/matplotlib-u_7w5faw because the default path (/home/z/zingg/tmontoya/.config/matplotlib) is not a writable directory; it is highly recommended to set the MPLCONFIGDIR environment variable to a writable directory, in particular to speed up the import of Matplotlib and to better support multiprocessing.\n"
     ]
    },
    {
     "name": "stdout",
     "output_type": "stream",
     "text": [
      "euler_m04p3cpt2_strong\n"
     ]
    },
    {
     "name": "stdout",
     "output_type": "stream",
     "text": [
      "loaded from time step  60768\n"
     ]
    }
   ],
   "source": [
    "import sys  \n",
    "import numpy as np\n",
    "sys.path.insert(0, '../src')\n",
    "from Driver import euler_driver\n",
    "\n",
    "solver = euler_driver(mach_number=mach_number, \n",
    "                      theta=np.pi/4,\n",
    "                        p=p, M=M, L=L,\n",
    "                        p_map=p_map, c=c, \n",
    "                        discretization_type=discretization_type,\n",
    "                        new_mesh=False,\n",
    "                        form=form, restart=True,run=True)"
   ]
  }
 ],
 "metadata": {
  "celltoolbar": "Tags",
  "interpreter": {
   "hash": "8a4c5cff9d1eb01f6f91880bd866b35b24d8468d7e92aa7ef6f6962744ecb1db"
  },
  "kernelspec": {
   "display_name": "Python 3.9.5 64-bit ('base': conda)",
   "name": "python3"
  },
  "language_info": {
   "codemirror_mode": {
    "name": "ipython",
    "version": 3
   },
   "file_extension": ".py",
   "mimetype": "text/x-python",
   "name": "python",
   "nbconvert_exporter": "python",
   "pygments_lexer": "ipython3",
   "version": "3.8.5"
  },
  "papermill": {
   "default_parameters": {},
   "duration": 18909.62802,
   "end_time": "2021-11-09T04:23:04.457063",
   "environment_variables": {},
   "exception": null,
   "input_path": "euler_driver.ipynb",
   "output_path": "euler_m04p3cpt2_strong.ipynb",
   "parameters": {
    "c": "c_+",
    "discretization_type": 2,
    "form": "strong",
    "mach_number": 0.4,
    "p": 3,
    "p_map": 3
   },
   "start_time": "2021-11-08T23:07:54.829043",
   "version": "2.3.3"
  }
 },
 "nbformat": 4,
 "nbformat_minor": 5
}