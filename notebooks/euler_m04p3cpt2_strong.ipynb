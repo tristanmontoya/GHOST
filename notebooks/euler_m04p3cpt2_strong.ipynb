{
 "cells": [
  {
   "cell_type": "code",
   "execution_count": 1,
   "id": "5bd4de97",
   "metadata": {
    "execution": {
     "iopub.execute_input": "2021-05-13T13:01:26.921450Z",
     "iopub.status.busy": "2021-05-13T13:01:26.920788Z",
     "iopub.status.idle": "2021-05-13T13:01:26.924054Z",
     "shell.execute_reply": "2021-05-13T13:01:26.923406Z"
    },
    "papermill": {
     "duration": 0.019879,
     "end_time": "2021-05-13T13:01:26.924209",
     "exception": false,
     "start_time": "2021-05-13T13:01:26.904330",
     "status": "completed"
    },
    "tags": [
     "parameters"
    ]
   },
   "outputs": [],
   "source": [
    "mach_number=0.4\n",
    "p=2\n",
    "M=10\n",
    "L=10.0\n",
    "p_geo=2\n",
    "c=\"c_dg\"\n",
    "discretization_type=1\n",
    "form=\"strong\""
   ]
  },
  {
   "cell_type": "code",
   "execution_count": 2,
   "id": "25f79c2b",
   "metadata": {
    "execution": {
     "iopub.execute_input": "2021-05-13T13:01:26.939488Z",
     "iopub.status.busy": "2021-05-13T13:01:26.938625Z",
     "iopub.status.idle": "2021-05-13T13:01:26.941675Z",
     "shell.execute_reply": "2021-05-13T13:01:26.940909Z"
    },
    "papermill": {
     "duration": 0.012272,
     "end_time": "2021-05-13T13:01:26.941845",
     "exception": false,
     "start_time": "2021-05-13T13:01:26.929573",
     "status": "completed"
    },
    "tags": [
     "injected-parameters"
    ]
   },
   "outputs": [],
   "source": [
    "# Parameters\n",
    "mach_number = 0.4\n",
    "p = 3\n",
    "p_geo = 3\n",
    "c = \"c_+\"\n",
    "discretization_type = 2\n",
    "form = \"strong\"\n"
   ]
  },
  {
   "cell_type": "code",
   "execution_count": 3,
   "id": "e4cc1f20",
   "metadata": {
    "execution": {
     "iopub.execute_input": "2021-05-13T13:01:26.960017Z",
     "iopub.status.busy": "2021-05-13T13:01:26.959400Z",
     "iopub.status.idle": "2021-05-14T07:26:48.073200Z",
     "shell.execute_reply": "2021-05-14T07:26:48.073885Z"
    },
    "papermill": {
     "duration": 66321.126501,
     "end_time": "2021-05-14T07:26:48.074301",
     "exception": false,
     "start_time": "2021-05-13T13:01:26.947800",
     "status": "completed"
    },
    "tags": []
   },
   "outputs": [
    {
     "name": "stdout",
     "output_type": "stream",
     "text": [
      "euler_m04p3cpt2_strong\n"
     ]
    },
    {
     "name": "stdout",
     "output_type": "stream",
     "text": [
      "0.000e+00 &  5.536e-02  \\\\\n",
      "-1.300e-12 &  1.534e-01  \\\\\n",
      "1.094e-12 &  1.383e-01  \\\\\n",
      "-1.990e-13 &  1.452e-01  \\\\\n"
     ]
    }
   ],
   "source": [
    "import sys  \n",
    "import numpy as np\n",
    "sys.path.insert(0, '../src')\n",
    "from Driver import euler_driver\n",
    "\n",
    "solver = euler_driver(mach_number=mach_number, \n",
    "                      theta=np.pi/4,\n",
    "                        p=p, M=M, L=L,\n",
    "                        p_geo=p_geo, c=c, \n",
    "                        discretization_type=discretization_type,\n",
    "                        form=form)"
   ]
  },
  {
   "cell_type": "code",
   "execution_count": null,
   "id": "b28717a9",
   "metadata": {
    "papermill": {
     "duration": 0.006921,
     "end_time": "2021-05-14T07:26:48.088557",
     "exception": false,
     "start_time": "2021-05-14T07:26:48.081636",
     "status": "completed"
    },
    "tags": []
   },
   "outputs": [],
   "source": []
  }
 ],
 "metadata": {
  "celltoolbar": "Tags",
  "kernelspec": {
   "display_name": "Python 3",
   "language": "python",
   "name": "python3"
  },
  "language_info": {
   "codemirror_mode": {
    "name": "ipython",
    "version": 3
   },
   "file_extension": ".py",
   "mimetype": "text/x-python",
   "name": "python",
   "nbconvert_exporter": "python",
   "pygments_lexer": "ipython3",
   "version": "3.8.5"
  },
  "papermill": {
   "default_parameters": {},
   "duration": 66323.452167,
   "end_time": "2021-05-14T07:26:49.295120",
   "environment_variables": {},
   "exception": null,
   "input_path": "euler_driver.ipynb",
   "output_path": "euler_m04p3cpt2_strong.ipynb",
   "parameters": {
    "c": "c_+",
    "discretization_type": 2,
    "form": "strong",
    "mach_number": 0.4,
    "p": 3,
    "p_geo": 3
   },
   "start_time": "2021-05-13T13:01:25.842953",
   "version": "2.3.3"
  }
 },
 "nbformat": 4,
 "nbformat_minor": 5
}