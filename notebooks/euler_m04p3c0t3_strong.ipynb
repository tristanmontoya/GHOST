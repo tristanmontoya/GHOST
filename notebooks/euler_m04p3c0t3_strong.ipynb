{
 "cells": [
  {
   "cell_type": "code",
   "execution_count": 1,
   "id": "4c0cde42",
   "metadata": {
    "execution": {
     "iopub.execute_input": "2021-05-08T19:25:59.058159Z",
     "iopub.status.busy": "2021-05-08T19:25:59.056830Z",
     "iopub.status.idle": "2021-05-08T19:25:59.058769Z",
     "shell.execute_reply": "2021-05-08T19:25:59.057431Z"
    },
    "papermill": {
     "duration": 0.029725,
     "end_time": "2021-05-08T19:25:59.058921",
     "exception": false,
     "start_time": "2021-05-08T19:25:59.029196",
     "status": "completed"
    },
    "tags": [
     "parameters"
    ]
   },
   "outputs": [],
   "source": [
    "mach_number=0.4\n",
    "p=2\n",
    "M=11\n",
    "L=10.0\n",
    "p_geo=2\n",
    "c=\"c_dg\"\n",
    "discretization_type=1\n",
    "form=\"strong\""
   ]
  },
  {
   "cell_type": "code",
   "execution_count": 2,
   "id": "f99a1772",
   "metadata": {
    "execution": {
     "iopub.execute_input": "2021-05-08T19:25:59.137978Z",
     "iopub.status.busy": "2021-05-08T19:25:59.136805Z",
     "iopub.status.idle": "2021-05-08T19:25:59.138589Z",
     "shell.execute_reply": "2021-05-08T19:25:59.137388Z"
    },
    "papermill": {
     "duration": 0.024766,
     "end_time": "2021-05-08T19:25:59.138724",
     "exception": false,
     "start_time": "2021-05-08T19:25:59.113958",
     "status": "completed"
    },
    "tags": [
     "injected-parameters"
    ]
   },
   "outputs": [],
   "source": [
    "# Parameters\n",
    "mach_number = 0.4\n",
    "p = 3\n",
    "p_geo = 3\n",
    "c = \"c_dg\"\n",
    "discretization_type = 3\n",
    "form = \"strong\"\n"
   ]
  },
  {
   "cell_type": "code",
   "execution_count": 3,
   "id": "9c9add42",
   "metadata": {
    "execution": {
     "iopub.execute_input": "2021-05-08T19:25:59.153753Z",
     "iopub.status.busy": "2021-05-08T19:25:59.153118Z",
     "iopub.status.idle": "2021-05-09T17:41:15.439438Z",
     "shell.execute_reply": "2021-05-09T17:41:15.440088Z"
    },
    "papermill": {
     "duration": 80116.29687,
     "end_time": "2021-05-09T17:41:15.440320",
     "exception": false,
     "start_time": "2021-05-08T19:25:59.143450",
     "status": "completed"
    },
    "tags": []
   },
   "outputs": [
    {
     "name": "stderr",
     "output_type": "stream",
     "text": [
      "WARNING:root:msh4 requires 3D points, but 2D points given. Appending 0 third component.\n"
     ]
    },
    {
     "name": "stderr",
     "output_type": "stream",
     "text": [
      "WARNING:root:Binary Gmsh needs c_size_t (got int64). Converting.\n"
     ]
    },
    {
     "name": "stdout",
     "output_type": "stream",
     "text": [
      "running solver euler_m04p3c0t3_strong\n"
     ]
    },
    {
     "name": "stdout",
     "output_type": "stream",
     "text": [
      "3.126e-13 &  2.865e-02  \\\\\n",
      "-9.237e-13 &  5.721e-02  \\\\\n",
      "1.592e-12 &  5.510e-02  \\\\\n",
      "9.948e-13 &  5.634e-02  \\\\\n"
     ]
    }
   ],
   "source": [
    "import sys  \n",
    "sys.path.insert(0, '../src')\n",
    "from Driver import euler_driver\n",
    "\n",
    "solver = euler_driver(mach_number=mach_number, \n",
    "                        p=p, M=M, L=L,\n",
    "                        p_geo=p_geo, c=c, \n",
    "                        discretization_type=discretization_type,\n",
    "                        form=form)"
   ]
  },
  {
   "cell_type": "code",
   "execution_count": null,
   "id": "f08867a5",
   "metadata": {
    "papermill": {
     "duration": 0.008128,
     "end_time": "2021-05-09T17:41:15.456692",
     "exception": false,
     "start_time": "2021-05-09T17:41:15.448564",
     "status": "completed"
    },
    "tags": []
   },
   "outputs": [],
   "source": []
  }
 ],
 "metadata": {
  "celltoolbar": "Tags",
  "kernelspec": {
   "display_name": "Python 3",
   "language": "python",
   "name": "python3"
  },
  "language_info": {
   "codemirror_mode": {
    "name": "ipython",
    "version": 3
   },
   "file_extension": ".py",
   "mimetype": "text/x-python",
   "name": "python",
   "nbconvert_exporter": "python",
   "pygments_lexer": "ipython3",
   "version": "3.8.5"
  },
  "papermill": {
   "default_parameters": {},
   "duration": 80118.564163,
   "end_time": "2021-05-09T17:41:16.480768",
   "environment_variables": {},
   "exception": null,
   "input_path": "euler_driver.ipynb",
   "output_path": "euler_m04p3c0t3_strong.ipynb",
   "parameters": {
    "c": "c_dg",
    "discretization_type": 3,
    "form": "strong",
    "mach_number": 0.4,
    "p": 3,
    "p_geo": 3
   },
   "start_time": "2021-05-08T19:25:57.916605",
   "version": "2.3.3"
  }
 },
 "nbformat": 4,
 "nbformat_minor": 5
}