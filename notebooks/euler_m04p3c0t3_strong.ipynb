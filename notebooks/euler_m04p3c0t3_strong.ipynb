{
 "cells": [
  {
   "cell_type": "code",
   "execution_count": 1,
   "id": "f84decf1",
   "metadata": {
    "execution": {
     "iopub.execute_input": "2021-05-13T13:01:26.949269Z",
     "iopub.status.busy": "2021-05-13T13:01:26.948644Z",
     "iopub.status.idle": "2021-05-13T13:01:26.950924Z",
     "shell.execute_reply": "2021-05-13T13:01:26.951391Z"
    },
    "papermill": {
     "duration": 0.023007,
     "end_time": "2021-05-13T13:01:26.951629",
     "exception": false,
     "start_time": "2021-05-13T13:01:26.928622",
     "status": "completed"
    },
    "tags": [
     "parameters"
    ]
   },
   "outputs": [],
   "source": [
    "mach_number=0.4\n",
    "p=2\n",
    "M=10\n",
    "L=10.0\n",
    "p_geo=2\n",
    "c=\"c_dg\"\n",
    "discretization_type=1\n",
    "form=\"strong\""
   ]
  },
  {
   "cell_type": "code",
   "execution_count": 2,
   "id": "3e9029e0",
   "metadata": {
    "execution": {
     "iopub.execute_input": "2021-05-13T13:01:26.965392Z",
     "iopub.status.busy": "2021-05-13T13:01:26.964800Z",
     "iopub.status.idle": "2021-05-13T13:01:26.967464Z",
     "shell.execute_reply": "2021-05-13T13:01:26.966864Z"
    },
    "papermill": {
     "duration": 0.010937,
     "end_time": "2021-05-13T13:01:26.967587",
     "exception": false,
     "start_time": "2021-05-13T13:01:26.956650",
     "status": "completed"
    },
    "tags": [
     "injected-parameters"
    ]
   },
   "outputs": [],
   "source": [
    "# Parameters\n",
    "mach_number = 0.4\n",
    "p = 3\n",
    "p_geo = 3\n",
    "c = \"c_dg\"\n",
    "discretization_type = 3\n",
    "form = \"strong\"\n"
   ]
  },
  {
   "cell_type": "code",
   "execution_count": 3,
   "id": "b188bd76",
   "metadata": {
    "execution": {
     "iopub.execute_input": "2021-05-13T13:01:26.981989Z",
     "iopub.status.busy": "2021-05-13T13:01:26.981401Z",
     "iopub.status.idle": "2021-05-14T08:30:49.513706Z",
     "shell.execute_reply": "2021-05-14T08:30:49.514246Z"
    },
    "papermill": {
     "duration": 70162.542491,
     "end_time": "2021-05-14T08:30:49.514473",
     "exception": false,
     "start_time": "2021-05-13T13:01:26.971982",
     "status": "completed"
    },
    "tags": []
   },
   "outputs": [
    {
     "name": "stdout",
     "output_type": "stream",
     "text": [
      "euler_m04p3c0t3_strong\n"
     ]
    },
    {
     "name": "stdout",
     "output_type": "stream",
     "text": [
      "2.132e-13 &  3.290e-02  \\\\\n",
      "-6.182e-13 &  7.722e-02  \\\\\n",
      "1.432e-12 &  8.504e-02  \\\\\n",
      "8.527e-13 &  7.398e-02  \\\\\n"
     ]
    }
   ],
   "source": [
    "import sys  \n",
    "import numpy as np\n",
    "sys.path.insert(0, '../src')\n",
    "from Driver import euler_driver\n",
    "\n",
    "solver = euler_driver(mach_number=mach_number, \n",
    "                      theta=np.pi/4,\n",
    "                        p=p, M=M, L=L,\n",
    "                        p_geo=p_geo, c=c, \n",
    "                        discretization_type=discretization_type,\n",
    "                        form=form)"
   ]
  },
  {
   "cell_type": "code",
   "execution_count": null,
   "id": "84be54e9",
   "metadata": {
    "papermill": {
     "duration": 0.004998,
     "end_time": "2021-05-14T08:30:49.524890",
     "exception": false,
     "start_time": "2021-05-14T08:30:49.519892",
     "status": "completed"
    },
    "tags": []
   },
   "outputs": [],
   "source": []
  }
 ],
 "metadata": {
  "celltoolbar": "Tags",
  "kernelspec": {
   "display_name": "Python 3",
   "language": "python",
   "name": "python3"
  },
  "language_info": {
   "codemirror_mode": {
    "name": "ipython",
    "version": 3
   },
   "file_extension": ".py",
   "mimetype": "text/x-python",
   "name": "python",
   "nbconvert_exporter": "python",
   "pygments_lexer": "ipython3",
   "version": "3.8.5"
  },
  "papermill": {
   "default_parameters": {},
   "duration": 70164.232761,
   "end_time": "2021-05-14T08:30:50.038352",
   "environment_variables": {},
   "exception": null,
   "input_path": "euler_driver.ipynb",
   "output_path": "euler_m04p3c0t3_strong.ipynb",
   "parameters": {
    "c": "c_dg",
    "discretization_type": 3,
    "form": "strong",
    "mach_number": 0.4,
    "p": 3,
    "p_geo": 3
   },
   "start_time": "2021-05-13T13:01:25.805591",
   "version": "2.3.3"
  }
 },
 "nbformat": 4,
 "nbformat_minor": 5
}