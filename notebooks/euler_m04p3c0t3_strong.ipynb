{
 "cells": [
  {
   "cell_type": "markdown",
   "id": "b173ec67",
   "metadata": {
    "papermill": {
     "duration": 0.003558,
     "end_time": "2021-12-08T16:30:21.699043",
     "exception": false,
     "start_time": "2021-12-08T16:30:21.695485",
     "status": "completed"
    },
    "tags": []
   },
   "source": [
    "# GHOST driver - Euler equations"
   ]
  },
  {
   "cell_type": "code",
   "execution_count": 1,
   "id": "185c1abb",
   "metadata": {
    "execution": {
     "iopub.execute_input": "2021-12-08T16:30:21.711218Z",
     "iopub.status.busy": "2021-12-08T16:30:21.710712Z",
     "iopub.status.idle": "2021-12-08T16:30:21.712698Z",
     "shell.execute_reply": "2021-12-08T16:30:21.713168Z"
    },
    "papermill": {
     "duration": 0.010997,
     "end_time": "2021-12-08T16:30:21.713373",
     "exception": false,
     "start_time": "2021-12-08T16:30:21.702376",
     "status": "completed"
    },
    "tags": [
     "parameters"
    ]
   },
   "outputs": [],
   "source": [
    "mach_number=0.4\n",
    "p=2\n",
    "M=16\n",
    "L=10.0\n",
    "p_map=2\n",
    "c=\"c_dg\"\n",
    "discretization_type=1\n",
    "form=\"weak\""
   ]
  },
  {
   "cell_type": "code",
   "execution_count": 2,
   "id": "59051218",
   "metadata": {
    "execution": {
     "iopub.execute_input": "2021-12-08T16:30:21.724883Z",
     "iopub.status.busy": "2021-12-08T16:30:21.723543Z",
     "iopub.status.idle": "2021-12-08T16:30:21.726725Z",
     "shell.execute_reply": "2021-12-08T16:30:21.727778Z"
    },
    "papermill": {
     "duration": 0.011491,
     "end_time": "2021-12-08T16:30:21.728068",
     "exception": false,
     "start_time": "2021-12-08T16:30:21.716577",
     "status": "completed"
    },
    "tags": [
     "injected-parameters"
    ]
   },
   "outputs": [],
   "source": [
    "# Parameters\n",
    "mach_number = 0.4\n",
    "p = 3\n",
    "p_map = 3\n",
    "c = \"c_dg\"\n",
    "discretization_type = 3\n",
    "form = \"strong\"\n"
   ]
  },
  {
   "cell_type": "code",
   "execution_count": 3,
   "id": "fe757b4d",
   "metadata": {
    "execution": {
     "iopub.execute_input": "2021-12-08T16:30:21.758660Z",
     "iopub.status.busy": "2021-12-08T16:30:21.757435Z",
     "iopub.status.idle": "2021-12-08T16:30:38.943665Z",
     "shell.execute_reply": "2021-12-08T16:30:38.944113Z"
    },
    "papermill": {
     "duration": 17.206103,
     "end_time": "2021-12-08T16:30:38.944291",
     "exception": false,
     "start_time": "2021-12-08T16:30:21.738188",
     "status": "completed"
    },
    "tags": []
   },
   "outputs": [
    {
     "name": "stderr",
     "output_type": "stream",
     "text": [
      "Matplotlib created a temporary config/cache directory at /tmp/matplotlib-xzlz8g8s because the default path (/home/z/zingg/tmontoya/.config/matplotlib) is not a writable directory; it is highly recommended to set the MPLCONFIGDIR environment variable to a writable directory, in particular to speed up the import of Matplotlib and to better support multiprocessing.\n"
     ]
    },
    {
     "name": "stdout",
     "output_type": "stream",
     "text": [
      "euler_m04p3c0t3_strong\n"
     ]
    },
    {
     "name": "stdout",
     "output_type": "stream",
     "text": [
      "loaded from time step  63356\n"
     ]
    }
   ],
   "source": [
    "import sys  \n",
    "import numpy as np\n",
    "sys.path.insert(0, '../src')\n",
    "from Driver import euler_driver\n",
    "\n",
    "solver = euler_driver(mach_number=mach_number, \n",
    "                      theta=np.pi/4,\n",
    "                        p=p, M=M, L=L,\n",
    "                        p_map=p_map, c=c, \n",
    "                        discretization_type=discretization_type,\n",
    "                        new_mesh=False,\n",
    "                        form=form, restart=True,run=True)"
   ]
  }
 ],
 "metadata": {
  "celltoolbar": "Tags",
  "interpreter": {
   "hash": "8a4c5cff9d1eb01f6f91880bd866b35b24d8468d7e92aa7ef6f6962744ecb1db"
  },
  "kernelspec": {
   "display_name": "Python 3.9.5 64-bit ('base': conda)",
   "name": "python3"
  },
  "language_info": {
   "codemirror_mode": {
    "name": "ipython",
    "version": 3
   },
   "file_extension": ".py",
   "mimetype": "text/x-python",
   "name": "python",
   "nbconvert_exporter": "python",
   "pygments_lexer": "ipython3",
   "version": "3.8.5"
  },
  "papermill": {
   "default_parameters": {},
   "duration": 18.736843,
   "end_time": "2021-12-08T16:30:39.355690",
   "environment_variables": {},
   "exception": null,
   "input_path": "euler_driver.ipynb",
   "output_path": "euler_m04p3c0t3_strong.ipynb",
   "parameters": {
    "c": "c_dg",
    "discretization_type": 3,
    "form": "strong",
    "mach_number": 0.4,
    "p": 3,
    "p_map": 3
   },
   "start_time": "2021-12-08T16:30:20.618847",
   "version": "2.3.3"
  }
 },
 "nbformat": 4,
 "nbformat_minor": 5
}