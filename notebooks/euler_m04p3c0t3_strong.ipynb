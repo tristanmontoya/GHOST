{
 "cells": [
  {
   "cell_type": "code",
   "execution_count": 1,
   "id": "0a151131",
   "metadata": {
    "execution": {
     "iopub.execute_input": "2021-05-15T22:50:34.600298Z",
     "iopub.status.busy": "2021-05-15T22:50:34.598422Z",
     "iopub.status.idle": "2021-05-15T22:50:34.602790Z",
     "shell.execute_reply": "2021-05-15T22:50:34.603347Z"
    },
    "papermill": {
     "duration": 0.025427,
     "end_time": "2021-05-15T22:50:34.603621",
     "exception": false,
     "start_time": "2021-05-15T22:50:34.578194",
     "status": "completed"
    },
    "tags": [
     "parameters"
    ]
   },
   "outputs": [],
   "source": [
    "mach_number=0.4\n",
    "p=2\n",
    "M=16\n",
    "L=10.0\n",
    "p_geo=2\n",
    "c=\"c_dg\"\n",
    "discretization_type=1\n",
    "form=\"strong\""
   ]
  },
  {
   "cell_type": "code",
   "execution_count": 2,
   "id": "5b0ed9b4",
   "metadata": {
    "execution": {
     "iopub.execute_input": "2021-05-15T22:50:34.636156Z",
     "iopub.status.busy": "2021-05-15T22:50:34.635196Z",
     "iopub.status.idle": "2021-05-15T22:50:34.637662Z",
     "shell.execute_reply": "2021-05-15T22:50:34.636946Z"
    },
    "papermill": {
     "duration": 0.028107,
     "end_time": "2021-05-15T22:50:34.637835",
     "exception": false,
     "start_time": "2021-05-15T22:50:34.609728",
     "status": "completed"
    },
    "tags": [
     "injected-parameters"
    ]
   },
   "outputs": [],
   "source": [
    "# Parameters\n",
    "mach_number = 0.4\n",
    "p = 3\n",
    "p_geo = 3\n",
    "c = \"c_dg\"\n",
    "discretization_type = 3\n",
    "form = \"strong\"\n"
   ]
  },
  {
   "cell_type": "code",
   "execution_count": 3,
   "id": "516fee86",
   "metadata": {
    "execution": {
     "iopub.execute_input": "2021-05-15T22:50:34.672258Z",
     "iopub.status.busy": "2021-05-15T22:50:34.671418Z",
     "iopub.status.idle": "2021-05-20T06:49:03.803062Z",
     "shell.execute_reply": "2021-05-20T06:49:03.803832Z"
    },
    "papermill": {
     "duration": 374309.145775,
     "end_time": "2021-05-20T06:49:03.804260",
     "exception": false,
     "start_time": "2021-05-15T22:50:34.658485",
     "status": "completed"
    },
    "tags": []
   },
   "outputs": [
    {
     "name": "stdout",
     "output_type": "stream",
     "text": [
      "euler_m04p3c0t3_strong\n"
     ]
    },
    {
     "name": "stdout",
     "output_type": "stream",
     "text": [
      "4.690e-13 &  1.223e-02  \\\\\n",
      "-1.002e-12 &  1.663e-02  \\\\\n",
      "1.982e-12 &  2.031e-02  \\\\\n",
      "9.663e-13 &  1.669e-02  \\\\\n"
     ]
    }
   ],
   "source": [
    "import sys  \n",
    "import numpy as np\n",
    "sys.path.insert(0, '../src')\n",
    "from Driver import euler_driver\n",
    "\n",
    "solver = euler_driver(mach_number=mach_number, \n",
    "                      theta=np.pi/4,\n",
    "                        p=p, M=M, L=L,\n",
    "                        p_geo=p_geo, c=c, \n",
    "                        discretization_type=discretization_type,\n",
    "                        form=form)"
   ]
  },
  {
   "cell_type": "code",
   "execution_count": null,
   "id": "e3e4722d",
   "metadata": {
    "papermill": {
     "duration": 0.007515,
     "end_time": "2021-05-20T06:49:03.819796",
     "exception": false,
     "start_time": "2021-05-20T06:49:03.812281",
     "status": "completed"
    },
    "tags": []
   },
   "outputs": [],
   "source": []
  }
 ],
 "metadata": {
  "celltoolbar": "Tags",
  "kernelspec": {
   "display_name": "Python 3",
   "language": "python",
   "name": "python3"
  },
  "language_info": {
   "codemirror_mode": {
    "name": "ipython",
    "version": 3
   },
   "file_extension": ".py",
   "mimetype": "text/x-python",
   "name": "python",
   "nbconvert_exporter": "python",
   "pygments_lexer": "ipython3",
   "version": "3.8.5"
  },
  "papermill": {
   "default_parameters": {},
   "duration": 374313.306534,
   "end_time": "2021-05-20T06:49:05.376298",
   "environment_variables": {},
   "exception": null,
   "input_path": "euler_driver.ipynb",
   "output_path": "euler_m04p3c0t3_strong.ipynb",
   "parameters": {
    "c": "c_dg",
    "discretization_type": 3,
    "form": "strong",
    "mach_number": 0.4,
    "p": 3,
    "p_geo": 3
   },
   "start_time": "2021-05-15T22:50:32.069764",
   "version": "2.3.3"
  }
 },
 "nbformat": 4,
 "nbformat_minor": 5
}