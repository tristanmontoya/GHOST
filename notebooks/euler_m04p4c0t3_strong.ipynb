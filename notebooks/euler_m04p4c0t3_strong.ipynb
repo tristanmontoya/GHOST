{
 "cells": [
  {
   "cell_type": "code",
   "execution_count": 1,
   "id": "95fba3b6",
   "metadata": {
    "execution": {
     "iopub.execute_input": "2021-05-08T19:26:05.701768Z",
     "iopub.status.busy": "2021-05-08T19:26:05.701164Z",
     "iopub.status.idle": "2021-05-08T19:26:05.704567Z",
     "shell.execute_reply": "2021-05-08T19:26:05.703875Z"
    },
    "papermill": {
     "duration": 0.019219,
     "end_time": "2021-05-08T19:26:05.704722",
     "exception": false,
     "start_time": "2021-05-08T19:26:05.685503",
     "status": "completed"
    },
    "tags": [
     "parameters"
    ]
   },
   "outputs": [],
   "source": [
    "mach_number=0.4\n",
    "p=2\n",
    "M=11\n",
    "L=10.0\n",
    "p_geo=2\n",
    "c=\"c_dg\"\n",
    "discretization_type=1\n",
    "form=\"strong\""
   ]
  },
  {
   "cell_type": "code",
   "execution_count": 2,
   "id": "7b065804",
   "metadata": {
    "execution": {
     "iopub.execute_input": "2021-05-08T19:26:05.731397Z",
     "iopub.status.busy": "2021-05-08T19:26:05.730287Z",
     "iopub.status.idle": "2021-05-08T19:26:05.731966Z",
     "shell.execute_reply": "2021-05-08T19:26:05.730824Z"
    },
    "papermill": {
     "duration": 0.022249,
     "end_time": "2021-05-08T19:26:05.732099",
     "exception": false,
     "start_time": "2021-05-08T19:26:05.709850",
     "status": "completed"
    },
    "tags": [
     "injected-parameters"
    ]
   },
   "outputs": [],
   "source": [
    "# Parameters\n",
    "mach_number = 0.4\n",
    "p = 4\n",
    "p_geo = 4\n",
    "c = \"c_dg\"\n",
    "discretization_type = 3\n",
    "form = \"strong\"\n"
   ]
  },
  {
   "cell_type": "code",
   "execution_count": 3,
   "id": "bf2563a8",
   "metadata": {
    "execution": {
     "iopub.execute_input": "2021-05-08T19:26:05.777974Z",
     "iopub.status.busy": "2021-05-08T19:26:05.777318Z",
     "iopub.status.idle": "2021-05-10T09:21:24.102760Z",
     "shell.execute_reply": "2021-05-10T09:21:24.103270Z"
    },
    "papermill": {
     "duration": 136518.366808,
     "end_time": "2021-05-10T09:21:24.103521",
     "exception": false,
     "start_time": "2021-05-08T19:26:05.736713",
     "status": "completed"
    },
    "tags": []
   },
   "outputs": [
    {
     "name": "stderr",
     "output_type": "stream",
     "text": [
      "WARNING:root:msh4 requires 3D points, but 2D points given. Appending 0 third component.\n"
     ]
    },
    {
     "name": "stderr",
     "output_type": "stream",
     "text": [
      "WARNING:root:Binary Gmsh needs c_size_t (got int64). Converting.\n"
     ]
    },
    {
     "name": "stdout",
     "output_type": "stream",
     "text": [
      "running solver euler_m04p4c0t3_strong\n"
     ]
    },
    {
     "name": "stdout",
     "output_type": "stream",
     "text": [
      "5.826e-13 &  4.066e-02  \\\\\n",
      "7.105e-14 &  2.228e-02  \\\\\n",
      "1.233e-12 &  3.105e-02  \\\\\n",
      "1.222e-12 &  2.758e-02  \\\\\n"
     ]
    }
   ],
   "source": [
    "import sys  \n",
    "sys.path.insert(0, '../src')\n",
    "from Driver import euler_driver\n",
    "\n",
    "solver = euler_driver(mach_number=mach_number, \n",
    "                        p=p, M=M, L=L,\n",
    "                        p_geo=p_geo, c=c, \n",
    "                        discretization_type=discretization_type,\n",
    "                        form=form)"
   ]
  },
  {
   "cell_type": "code",
   "execution_count": null,
   "id": "b1ab7e4f",
   "metadata": {
    "papermill": {
     "duration": 0.005919,
     "end_time": "2021-05-10T09:21:24.115941",
     "exception": false,
     "start_time": "2021-05-10T09:21:24.110022",
     "status": "completed"
    },
    "tags": []
   },
   "outputs": [],
   "source": []
  }
 ],
 "metadata": {
  "celltoolbar": "Tags",
  "kernelspec": {
   "display_name": "Python 3",
   "language": "python",
   "name": "python3"
  },
  "language_info": {
   "codemirror_mode": {
    "name": "ipython",
    "version": 3
   },
   "file_extension": ".py",
   "mimetype": "text/x-python",
   "name": "python",
   "nbconvert_exporter": "python",
   "pygments_lexer": "ipython3",
   "version": "3.8.5"
  },
  "papermill": {
   "default_parameters": {},
   "duration": 136521.686152,
   "end_time": "2021-05-10T09:21:25.449366",
   "environment_variables": {},
   "exception": null,
   "input_path": "euler_driver.ipynb",
   "output_path": "euler_m04p4c0t3_strong.ipynb",
   "parameters": {
    "c": "c_dg",
    "discretization_type": 3,
    "form": "strong",
    "mach_number": 0.4,
    "p": 4,
    "p_geo": 4
   },
   "start_time": "2021-05-08T19:26:03.763214",
   "version": "2.3.3"
  }
 },
 "nbformat": 4,
 "nbformat_minor": 5
}