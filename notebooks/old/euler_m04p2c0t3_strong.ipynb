{
 "cells": [
  {
   "cell_type": "code",
   "execution_count": 1,
   "id": "4265d829",
   "metadata": {
    "execution": {
     "iopub.execute_input": "2021-05-09T21:51:37.763629Z",
     "iopub.status.busy": "2021-05-09T21:51:37.762785Z",
     "iopub.status.idle": "2021-05-09T21:51:37.765541Z",
     "shell.execute_reply": "2021-05-09T21:51:37.766256Z"
    },
    "papermill": {
     "duration": 0.020226,
     "end_time": "2021-05-09T21:51:37.766602",
     "exception": false,
     "start_time": "2021-05-09T21:51:37.746376",
     "status": "completed"
    },
    "tags": [
     "parameters"
    ]
   },
   "outputs": [],
   "source": [
    "mach_number=0.4\n",
    "p=2\n",
    "M=11\n",
    "L=10.0\n",
    "p_geo=2\n",
    "c=\"c_dg\"\n",
    "discretization_type=1\n",
    "form=\"strong\""
   ]
  },
  {
   "cell_type": "code",
   "execution_count": 2,
   "id": "dacf885e",
   "metadata": {
    "execution": {
     "iopub.execute_input": "2021-05-09T21:51:37.805195Z",
     "iopub.status.busy": "2021-05-09T21:51:37.804233Z",
     "iopub.status.idle": "2021-05-09T21:51:37.807313Z",
     "shell.execute_reply": "2021-05-09T21:51:37.806488Z"
    },
    "papermill": {
     "duration": 0.034138,
     "end_time": "2021-05-09T21:51:37.807486",
     "exception": false,
     "start_time": "2021-05-09T21:51:37.773348",
     "status": "completed"
    },
    "tags": [
     "injected-parameters"
    ]
   },
   "outputs": [],
   "source": [
    "# Parameters\n",
    "mach_number = 0.4\n",
    "p = 2\n",
    "p_geo = 2\n",
    "c = \"c_dg\"\n",
    "discretization_type = 3\n",
    "form = \"strong\"\n"
   ]
  },
  {
   "cell_type": "code",
   "execution_count": 3,
   "id": "cf2cad2b",
   "metadata": {
    "execution": {
     "iopub.execute_input": "2021-05-09T21:51:37.825872Z",
     "iopub.status.busy": "2021-05-09T21:51:37.825173Z",
     "iopub.status.idle": "2021-05-10T09:47:04.455320Z",
     "shell.execute_reply": "2021-05-10T09:47:04.455853Z"
    },
    "papermill": {
     "duration": 42926.642163,
     "end_time": "2021-05-10T09:47:04.456054",
     "exception": false,
     "start_time": "2021-05-09T21:51:37.813891",
     "status": "completed"
    },
    "tags": []
   },
   "outputs": [
    {
     "name": "stderr",
     "output_type": "stream",
     "text": [
      "WARNING:root:msh4 requires 3D points, but 2D points given. Appending 0 third component.\n"
     ]
    },
    {
     "name": "stderr",
     "output_type": "stream",
     "text": [
      "WARNING:root:Binary Gmsh needs c_size_t (got int64). Converting.\n"
     ]
    },
    {
     "name": "stdout",
     "output_type": "stream",
     "text": [
      "running solver euler_m04p2c0t3_strong\n"
     ]
    },
    {
     "name": "stdout",
     "output_type": "stream",
     "text": [
      "3.268e-13 &  5.214e-02  \\\\\n",
      "-1.776e-14 &  1.515e-01  \\\\\n",
      "8.917e-13 &  1.206e-01  \\\\\n",
      "4.263e-13 &  1.519e-01  \\\\\n"
     ]
    }
   ],
   "source": [
    "import sys  \n",
    "sys.path.insert(0, '../src')\n",
    "from Driver import euler_driver\n",
    "\n",
    "solver = euler_driver(mach_number=mach_number, \n",
    "                        p=p, M=M, L=L,\n",
    "                        p_geo=p_geo, c=c, \n",
    "                        discretization_type=discretization_type,\n",
    "                        form=form)"
   ]
  },
  {
   "cell_type": "code",
   "execution_count": null,
   "id": "54e241c3",
   "metadata": {
    "papermill": {
     "duration": 0.00587,
     "end_time": "2021-05-10T09:47:04.468218",
     "exception": false,
     "start_time": "2021-05-10T09:47:04.462348",
     "status": "completed"
    },
    "tags": []
   },
   "outputs": [],
   "source": []
  }
 ],
 "metadata": {
  "celltoolbar": "Tags",
  "kernelspec": {
   "display_name": "Python 3",
   "language": "python",
   "name": "python3"
  },
  "language_info": {
   "codemirror_mode": {
    "name": "ipython",
    "version": 3
   },
   "file_extension": ".py",
   "mimetype": "text/x-python",
   "name": "python",
   "nbconvert_exporter": "python",
   "pygments_lexer": "ipython3",
   "version": "3.8.5"
  },
  "papermill": {
   "default_parameters": {},
   "duration": 42928.510224,
   "end_time": "2021-05-10T09:47:04.983564",
   "environment_variables": {},
   "exception": null,
   "input_path": "euler_driver.ipynb",
   "output_path": "euler_m04p2c0t3_strong.ipynb",
   "parameters": {
    "c": "c_dg",
    "discretization_type": 3,
    "form": "strong",
    "mach_number": 0.4,
    "p": 2,
    "p_geo": 2
   },
   "start_time": "2021-05-09T21:51:36.473340",
   "version": "2.3.3"
  }
 },
 "nbformat": 4,
 "nbformat_minor": 5
}