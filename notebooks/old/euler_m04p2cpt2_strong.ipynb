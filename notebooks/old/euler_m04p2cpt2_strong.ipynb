{
 "cells": [
  {
   "cell_type": "code",
   "execution_count": 1,
   "id": "3392ce36",
   "metadata": {
    "execution": {
     "iopub.execute_input": "2021-05-09T21:51:37.856600Z",
     "iopub.status.busy": "2021-05-09T21:51:37.850675Z",
     "iopub.status.idle": "2021-05-09T21:51:37.858041Z",
     "shell.execute_reply": "2021-05-09T21:51:37.857307Z"
    },
    "papermill": {
     "duration": 0.021973,
     "end_time": "2021-05-09T21:51:37.858237",
     "exception": false,
     "start_time": "2021-05-09T21:51:37.836264",
     "status": "completed"
    },
    "tags": [
     "parameters"
    ]
   },
   "outputs": [],
   "source": [
    "mach_number=0.4\n",
    "p=2\n",
    "M=11\n",
    "L=10.0\n",
    "p_geo=2\n",
    "c=\"c_dg\"\n",
    "discretization_type=1\n",
    "form=\"strong\""
   ]
  },
  {
   "cell_type": "code",
   "execution_count": 2,
   "id": "5f39b251",
   "metadata": {
    "execution": {
     "iopub.execute_input": "2021-05-09T21:51:37.925939Z",
     "iopub.status.busy": "2021-05-09T21:51:37.924386Z",
     "iopub.status.idle": "2021-05-09T21:51:37.926769Z",
     "shell.execute_reply": "2021-05-09T21:51:37.925138Z"
    },
    "papermill": {
     "duration": 0.055218,
     "end_time": "2021-05-09T21:51:37.926954",
     "exception": false,
     "start_time": "2021-05-09T21:51:37.871736",
     "status": "completed"
    },
    "tags": [
     "injected-parameters"
    ]
   },
   "outputs": [],
   "source": [
    "# Parameters\n",
    "mach_number = 0.4\n",
    "p = 2\n",
    "p_geo = 2\n",
    "c = \"c_+\"\n",
    "discretization_type = 2\n",
    "form = \"strong\"\n"
   ]
  },
  {
   "cell_type": "code",
   "execution_count": 3,
   "id": "5102be02",
   "metadata": {
    "execution": {
     "iopub.execute_input": "2021-05-09T21:51:38.013357Z",
     "iopub.status.busy": "2021-05-09T21:51:38.012628Z",
     "iopub.status.idle": "2021-05-10T09:49:46.846952Z",
     "shell.execute_reply": "2021-05-10T09:49:46.847472Z"
    },
    "papermill": {
     "duration": 43088.876426,
     "end_time": "2021-05-10T09:49:46.847695",
     "exception": false,
     "start_time": "2021-05-09T21:51:37.971269",
     "status": "completed"
    },
    "tags": []
   },
   "outputs": [
    {
     "name": "stderr",
     "output_type": "stream",
     "text": [
      "WARNING:root:msh4 requires 3D points, but 2D points given. Appending 0 third component.\n"
     ]
    },
    {
     "name": "stderr",
     "output_type": "stream",
     "text": [
      "WARNING:root:Binary Gmsh needs c_size_t (got int64). Converting.\n"
     ]
    },
    {
     "name": "stdout",
     "output_type": "stream",
     "text": [
      "running solver euler_m04p2cpt2_strong\n"
     ]
    },
    {
     "name": "stdout",
     "output_type": "stream",
     "text": [
      "6.821e-13 &  1.129e-01  \\\\\n",
      "3.553e-15 &  3.461e-01  \\\\\n",
      "1.741e-12 &  2.651e-01  \\\\\n",
      "1.421e-12 &  2.837e-01  \\\\\n"
     ]
    }
   ],
   "source": [
    "import sys  \n",
    "sys.path.insert(0, '../src')\n",
    "from Driver import euler_driver\n",
    "\n",
    "solver = euler_driver(mach_number=mach_number, \n",
    "                        p=p, M=M, L=L,\n",
    "                        p_geo=p_geo, c=c, \n",
    "                        discretization_type=discretization_type,\n",
    "                        form=form)"
   ]
  },
  {
   "cell_type": "code",
   "execution_count": null,
   "id": "8873580e",
   "metadata": {
    "papermill": {
     "duration": 0.005751,
     "end_time": "2021-05-10T09:49:46.859740",
     "exception": false,
     "start_time": "2021-05-10T09:49:46.853989",
     "status": "completed"
    },
    "tags": []
   },
   "outputs": [],
   "source": []
  }
 ],
 "metadata": {
  "celltoolbar": "Tags",
  "kernelspec": {
   "display_name": "Python 3",
   "language": "python",
   "name": "python3"
  },
  "language_info": {
   "codemirror_mode": {
    "name": "ipython",
    "version": 3
   },
   "file_extension": ".py",
   "mimetype": "text/x-python",
   "name": "python",
   "nbconvert_exporter": "python",
   "pygments_lexer": "ipython3",
   "version": "3.8.5"
  },
  "papermill": {
   "default_parameters": {},
   "duration": 43091.760063,
   "end_time": "2021-05-10T09:49:48.236447",
   "environment_variables": {},
   "exception": null,
   "input_path": "euler_driver.ipynb",
   "output_path": "euler_m04p2cpt2_strong.ipynb",
   "parameters": {
    "c": "c_+",
    "discretization_type": 2,
    "form": "strong",
    "mach_number": 0.4,
    "p": 2,
    "p_geo": 2
   },
   "start_time": "2021-05-09T21:51:36.476384",
   "version": "2.3.3"
  }
 },
 "nbformat": 4,
 "nbformat_minor": 5
}