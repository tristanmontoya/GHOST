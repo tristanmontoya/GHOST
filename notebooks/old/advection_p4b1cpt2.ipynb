{
 "cells": [
  {
   "cell_type": "code",
   "execution_count": 1,
   "metadata": {},
   "outputs": [],
   "source": [
    "# GHOST - Advection Test (2D)\n",
    "\n",
    "import sys  \n",
    "import numpy as np\n",
    "import modepy as mp\n",
    "sys.path.insert(0, '../src')\n",
    "from Mesh import Mesh2D\n",
    "from Discretization import SpatialDiscretization\n",
    "from Solver import Solver\n",
    "\n",
    "# discretization degree\n",
    "p = 4\n",
    "\n",
    "# geometry mapping degree\n",
    "p_geo = 1\n",
    "\n",
    "# read in mesh in GMSH format\n",
    "mesh = Mesh2D(\"test\", \"../mesh/square_mesh_L1_x_6y_6.msh\")\n",
    "\n",
    "# set up periodic boundary conditions\n",
    "left = np.array([1.0,0.0,0.0]) \n",
    "right = np.array([1.0,0.0,1.0])\n",
    "bottom = np.array([0.0,1.0,0.0])\n",
    "top = np.array([0.0,1.0,1.0])\n",
    "mesh.add_bc_on_hyperplanes([left,right,bottom,top],[1,2,3,4])\n",
    "mesh.make_periodic((1,2),[1]) # left-right periodic (bcs parallel to axis 1)\n",
    "mesh.make_periodic((3,4),[0]) # top-bottom periodic (axis 0)\n",
    "\n",
    "#curvilinear transformation used in Del Rey Fernandez et al. (2017)\n",
    "mesh.map_mesh(f_map=Mesh2D.grid_transformation(warp_factor=0.2), p_geo=p_geo)\n",
    "\n",
    "theta = np.pi/4\n",
    "a = np.sqrt(2)\n",
    "\n",
    "# solver parameters\n",
    "params = {\"project_title\": \"advection_p4b1cpt2\",\n",
    "         \"problem\": \"constant_advection\",\n",
    "         \"initial_condition\": \"sine\",\n",
    "         \"wavelength\": np.ones(2),\n",
    "         \"wave_speed\": a*np.array([np.sin(theta),np.cos(theta)]),\n",
    "         \"upwind_parameter\": 1.0,\n",
    "         \"integration_type\": \"collocation\",\n",
    "         \"solution_degree\": p,\n",
    "         \"volume_collocation_degree\": p,\n",
    "         \"facet_collocation_degree\": p,\n",
    "         \"solution_representation\": \"nodal\",\n",
    "         \"form\": \"weak\",\n",
    "         \"correction\": \"c_+\",\n",
    "         \"time_integrator\": \"rk44\",\n",
    "         \"final_time\": 1.0,\n",
    "         \"time_step_scale\": 0.0025}\n",
    "\n",
    "# set up solver\n",
    "weak = Solver(params,mesh)\n",
    "params_strong = params.copy()\n",
    "params_strong[\"form\"] = \"strong\"\n",
    "strong = Solver(params_strong,mesh)"
   ]
  },
  {
   "cell_type": "code",
   "execution_count": 2,
   "metadata": {},
   "outputs": [
    {
     "name": "stdout",
     "output_type": "stream",
     "text": [
      "dt =  2.777777777777778e-05\n",
      "writing every  3600  time steps, total  36000\n",
      "writing time step  3600 : t =  0.10000000000000467\n",
      "max:  0.9981228240732267\n",
      "writing time step  7200 : t =  0.19999999999997284\n",
      "max:  0.9935068162321782\n",
      "writing time step  10800 : t =  0.29999999999997845\n",
      "max:  1.0195551728103456\n",
      "writing time step  14400 : t =  0.40000000000003405\n",
      "max:  0.9949398495401297\n",
      "writing time step  18000 : t =  0.5000000000000896\n",
      "max:  0.9952366109522253\n",
      "writing time step  21600 : t =  0.5999999999999454\n",
      "max:  0.9989248538004133\n",
      "writing time step  25200 : t =  0.6999999999998011\n",
      "max:  0.9928269257941011\n",
      "writing time step  28800 : t =  0.7999999999996569\n",
      "max:  1.0193163812086623\n",
      "writing time step  32400 : t =  0.8999999999995126\n",
      "max:  0.9928030345461262\n",
      "writing time step  36000 : t =  0.9999999999993684\n",
      "max:  0.9930421722099724\n"
     ]
    }
   ],
   "source": [
    "strong.run(write_interval=0.1)\n",
    "strong.post_process(error_quadrature_degree=4*p)"
   ]
  },
  {
   "cell_type": "code",
   "execution_count": 3,
   "metadata": {
    "scrolled": true
   },
   "outputs": [
    {
     "name": "stdout",
     "output_type": "stream",
     "text": [
      "dt =  2.777777777777778e-05\n",
      "writing every  3600  time steps, total  36000\n",
      "writing time step  3600 : t =  0.10000000000000467\n",
      "max:  0.9981228240732272\n",
      "writing time step  7200 : t =  0.19999999999997284\n",
      "max:  0.9935068162321812\n",
      "writing time step  10800 : t =  0.29999999999997845\n",
      "max:  1.0195551728103494\n",
      "writing time step  14400 : t =  0.40000000000003405\n",
      "max:  0.9949398495401306\n",
      "writing time step  18000 : t =  0.5000000000000896\n",
      "max:  0.9952366109522257\n",
      "writing time step  21600 : t =  0.5999999999999454\n",
      "max:  0.9989248538004153\n",
      "writing time step  25200 : t =  0.6999999999998011\n",
      "max:  0.9928269257941008\n",
      "writing time step  28800 : t =  0.7999999999996569\n",
      "max:  1.0193163812086683\n",
      "writing time step  32400 : t =  0.8999999999995126\n",
      "max:  0.9928030345461275\n",
      "writing time step  36000 : t =  0.9999999999993684\n",
      "max:  0.9930421722099728\n"
     ]
    }
   ],
   "source": [
    "weak.run(write_interval=0.1)\n",
    "weak.post_process(error_quadrature_degree=4*p)"
   ]
  },
  {
   "cell_type": "code",
   "execution_count": 4,
   "metadata": {},
   "outputs": [
    {
     "name": "stdout",
     "output_type": "stream",
     "text": [
      "2.251e-15 & -8.695e-17 & 2.927e-17 & -1.144e-03 & -1.144e-03 & 7.214e-03 & 7.214e-03\n"
     ]
    }
   ],
   "source": [
    "print(\"{:.3e}\".format(strong.calculate_difference(weak)[0]), \"&\",\n",
    "        \"{:.3e}\".format(strong.I_f[0] - strong.I_0[0]), \"&\",        \n",
    "        \"{:.3e}\".format(weak.I_f[0] - weak.I_0[0]), \"&\",        \n",
    "        \"{:.3e}\".format(strong.E_f[0] - strong.E_0[0]), \"&\",        \n",
    "        \"{:.3e}\".format(weak.E_f[0] - weak.E_0[0]), \"&\",\n",
    "        \"{:.3e}\".format(strong.calculate_error()[0]), \"&\",\n",
    "        \"{:.3e}\".format(weak.calculate_error()[0]))"
   ]
  }
 ],
 "metadata": {
  "kernelspec": {
   "display_name": "Python 3",
   "language": "python",
   "name": "python3"
  },
  "language_info": {
   "codemirror_mode": {
    "name": "ipython",
    "version": 3
   },
   "file_extension": ".py",
   "mimetype": "text/x-python",
   "name": "python",
   "nbconvert_exporter": "python",
   "pygments_lexer": "ipython3",
   "version": "3.7.9"
  }
 },
 "nbformat": 4,
 "nbformat_minor": 4
}
