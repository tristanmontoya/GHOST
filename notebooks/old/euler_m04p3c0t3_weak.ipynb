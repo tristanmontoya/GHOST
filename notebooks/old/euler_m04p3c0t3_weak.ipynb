{
 "cells": [
  {
   "cell_type": "code",
   "execution_count": 1,
   "id": "e240b4ab",
   "metadata": {
    "execution": {
     "iopub.execute_input": "2021-05-08T19:25:59.107547Z",
     "iopub.status.busy": "2021-05-08T19:25:59.106852Z",
     "iopub.status.idle": "2021-05-08T19:25:59.126765Z",
     "shell.execute_reply": "2021-05-08T19:25:59.127284Z"
    },
    "papermill": {
     "duration": 0.061811,
     "end_time": "2021-05-08T19:25:59.127547",
     "exception": false,
     "start_time": "2021-05-08T19:25:59.065736",
     "status": "completed"
    },
    "tags": [
     "parameters"
    ]
   },
   "outputs": [],
   "source": [
    "mach_number=0.4\n",
    "p=2\n",
    "M=11\n",
    "L=10.0\n",
    "p_geo=2\n",
    "c=\"c_dg\"\n",
    "discretization_type=1\n",
    "form=\"strong\""
   ]
  },
  {
   "cell_type": "code",
   "execution_count": 2,
   "id": "3233517d",
   "metadata": {
    "execution": {
     "iopub.execute_input": "2021-05-08T19:25:59.168301Z",
     "iopub.status.busy": "2021-05-08T19:25:59.167063Z",
     "iopub.status.idle": "2021-05-08T19:25:59.168952Z",
     "shell.execute_reply": "2021-05-08T19:25:59.167643Z"
    },
    "papermill": {
     "duration": 0.036519,
     "end_time": "2021-05-08T19:25:59.169114",
     "exception": false,
     "start_time": "2021-05-08T19:25:59.132595",
     "status": "completed"
    },
    "tags": [
     "injected-parameters"
    ]
   },
   "outputs": [],
   "source": [
    "# Parameters\n",
    "mach_number = 0.4\n",
    "p = 3\n",
    "p_geo = 3\n",
    "c = \"c_dg\"\n",
    "discretization_type = 3\n",
    "form = \"weak\"\n"
   ]
  },
  {
   "cell_type": "code",
   "execution_count": 3,
   "id": "096e8b55",
   "metadata": {
    "execution": {
     "iopub.execute_input": "2021-05-08T19:25:59.277427Z",
     "iopub.status.busy": "2021-05-08T19:25:59.276774Z",
     "iopub.status.idle": "2021-05-09T19:23:19.740054Z",
     "shell.execute_reply": "2021-05-09T19:23:19.740550Z"
    },
    "papermill": {
     "duration": 86240.566565,
     "end_time": "2021-05-09T19:23:19.740751",
     "exception": false,
     "start_time": "2021-05-08T19:25:59.174186",
     "status": "completed"
    },
    "tags": []
   },
   "outputs": [
    {
     "name": "stderr",
     "output_type": "stream",
     "text": [
      "WARNING:root:msh4 requires 3D points, but 2D points given. Appending 0 third component.\n"
     ]
    },
    {
     "name": "stderr",
     "output_type": "stream",
     "text": [
      "WARNING:root:Binary Gmsh needs c_size_t (got int64). Converting.\n"
     ]
    },
    {
     "name": "stdout",
     "output_type": "stream",
     "text": [
      "running solver euler_m04p3c0t3_weak\n"
     ]
    },
    {
     "name": "stdout",
     "output_type": "stream",
     "text": [
      "-2.842e-14 &  2.387e-02  \\\\\n",
      "-1.222e-12 &  4.876e-02  \\\\\n",
      "1.368e-12 &  4.251e-02  \\\\\n",
      "3.979e-13 &  5.109e-02  \\\\\n"
     ]
    }
   ],
   "source": [
    "import sys  \n",
    "sys.path.insert(0, '../src')\n",
    "from Driver import euler_driver\n",
    "\n",
    "solver = euler_driver(mach_number=mach_number, \n",
    "                        p=p, M=M, L=L,\n",
    "                        p_geo=p_geo, c=c, \n",
    "                        discretization_type=discretization_type,\n",
    "                        form=form)"
   ]
  },
  {
   "cell_type": "code",
   "execution_count": null,
   "id": "f8cfcb81",
   "metadata": {
    "papermill": {
     "duration": 0.005669,
     "end_time": "2021-05-09T19:23:19.752669",
     "exception": false,
     "start_time": "2021-05-09T19:23:19.747000",
     "status": "completed"
    },
    "tags": []
   },
   "outputs": [],
   "source": []
  }
 ],
 "metadata": {
  "celltoolbar": "Tags",
  "kernelspec": {
   "display_name": "Python 3",
   "language": "python",
   "name": "python3"
  },
  "language_info": {
   "codemirror_mode": {
    "name": "ipython",
    "version": 3
   },
   "file_extension": ".py",
   "mimetype": "text/x-python",
   "name": "python",
   "nbconvert_exporter": "python",
   "pygments_lexer": "ipython3",
   "version": "3.8.5"
  },
  "papermill": {
   "default_parameters": {},
   "duration": 86242.823089,
   "end_time": "2021-05-09T19:23:20.774308",
   "environment_variables": {},
   "exception": null,
   "input_path": "euler_driver.ipynb",
   "output_path": "euler_m04p3c0t3_weak.ipynb",
   "parameters": {
    "c": "c_dg",
    "discretization_type": 3,
    "form": "weak",
    "mach_number": 0.4,
    "p": 3,
    "p_geo": 3
   },
   "start_time": "2021-05-08T19:25:57.951219",
   "version": "2.3.3"
  }
 },
 "nbformat": 4,
 "nbformat_minor": 5
}