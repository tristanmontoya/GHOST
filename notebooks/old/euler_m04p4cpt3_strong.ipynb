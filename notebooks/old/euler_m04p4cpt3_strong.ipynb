{
 "cells": [
  {
   "cell_type": "code",
   "execution_count": 1,
   "id": "f89b764c",
   "metadata": {
    "execution": {
     "iopub.execute_input": "2021-05-08T19:26:05.593499Z",
     "iopub.status.busy": "2021-05-08T19:26:05.592850Z",
     "iopub.status.idle": "2021-05-08T19:26:05.596372Z",
     "shell.execute_reply": "2021-05-08T19:26:05.595635Z"
    },
    "papermill": {
     "duration": 0.020874,
     "end_time": "2021-05-08T19:26:05.596523",
     "exception": false,
     "start_time": "2021-05-08T19:26:05.575649",
     "status": "completed"
    },
    "tags": [
     "parameters"
    ]
   },
   "outputs": [],
   "source": [
    "mach_number=0.4\n",
    "p=2\n",
    "M=11\n",
    "L=10.0\n",
    "p_geo=2\n",
    "c=\"c_dg\"\n",
    "discretization_type=1\n",
    "form=\"strong\""
   ]
  },
  {
   "cell_type": "code",
   "execution_count": 2,
   "id": "f58bd8d9",
   "metadata": {
    "execution": {
     "iopub.execute_input": "2021-05-08T19:26:05.617799Z",
     "iopub.status.busy": "2021-05-08T19:26:05.616697Z",
     "iopub.status.idle": "2021-05-08T19:26:05.618393Z",
     "shell.execute_reply": "2021-05-08T19:26:05.617231Z"
    },
    "papermill": {
     "duration": 0.016953,
     "end_time": "2021-05-08T19:26:05.618516",
     "exception": false,
     "start_time": "2021-05-08T19:26:05.601563",
     "status": "completed"
    },
    "tags": [
     "injected-parameters"
    ]
   },
   "outputs": [],
   "source": [
    "# Parameters\n",
    "mach_number = 0.4\n",
    "p = 4\n",
    "p_geo = 4\n",
    "c = \"c_+\"\n",
    "discretization_type = 3\n",
    "form = \"strong\"\n"
   ]
  },
  {
   "cell_type": "code",
   "execution_count": 3,
   "id": "005a26e6",
   "metadata": {
    "execution": {
     "iopub.execute_input": "2021-05-08T19:26:05.645048Z",
     "iopub.status.busy": "2021-05-08T19:26:05.644431Z",
     "iopub.status.idle": "2021-05-10T09:34:34.747639Z",
     "shell.execute_reply": "2021-05-10T09:34:34.748165Z"
    },
    "papermill": {
     "duration": 137309.113342,
     "end_time": "2021-05-10T09:34:34.748403",
     "exception": false,
     "start_time": "2021-05-08T19:26:05.635061",
     "status": "completed"
    },
    "tags": []
   },
   "outputs": [
    {
     "name": "stderr",
     "output_type": "stream",
     "text": [
      "WARNING:root:msh4 requires 3D points, but 2D points given. Appending 0 third component.\n"
     ]
    },
    {
     "name": "stderr",
     "output_type": "stream",
     "text": [
      "WARNING:root:Binary Gmsh needs c_size_t (got int64). Converting.\n"
     ]
    },
    {
     "name": "stdout",
     "output_type": "stream",
     "text": [
      "running solver euler_m04p4cpt3_strong\n"
     ]
    },
    {
     "name": "stdout",
     "output_type": "stream",
     "text": [
      "3.979e-13 &  1.584e-02  \\\\\n",
      "8.882e-14 &  2.230e-02  \\\\\n",
      "1.194e-12 &  2.204e-02  \\\\\n",
      "1.222e-12 &  2.322e-02  \\\\\n"
     ]
    }
   ],
   "source": [
    "import sys  \n",
    "sys.path.insert(0, '../src')\n",
    "from Driver import euler_driver\n",
    "\n",
    "solver = euler_driver(mach_number=mach_number, \n",
    "                        p=p, M=M, L=L,\n",
    "                        p_geo=p_geo, c=c, \n",
    "                        discretization_type=discretization_type,\n",
    "                        form=form)"
   ]
  },
  {
   "cell_type": "code",
   "execution_count": null,
   "id": "a893c0a7",
   "metadata": {
    "papermill": {
     "duration": 0.005763,
     "end_time": "2021-05-10T09:34:34.760886",
     "exception": false,
     "start_time": "2021-05-10T09:34:34.755123",
     "status": "completed"
    },
    "tags": []
   },
   "outputs": [],
   "source": []
  }
 ],
 "metadata": {
  "celltoolbar": "Tags",
  "kernelspec": {
   "display_name": "Python 3",
   "language": "python",
   "name": "python3"
  },
  "language_info": {
   "codemirror_mode": {
    "name": "ipython",
    "version": 3
   },
   "file_extension": ".py",
   "mimetype": "text/x-python",
   "name": "python",
   "nbconvert_exporter": "python",
   "pygments_lexer": "ipython3",
   "version": "3.8.5"
  },
  "papermill": {
   "default_parameters": {},
   "duration": 137312.119397,
   "end_time": "2021-05-10T09:34:35.994484",
   "environment_variables": {},
   "exception": null,
   "input_path": "euler_driver.ipynb",
   "output_path": "euler_m04p4cpt3_strong.ipynb",
   "parameters": {
    "c": "c_+",
    "discretization_type": 3,
    "form": "strong",
    "mach_number": 0.4,
    "p": 4,
    "p_geo": 4
   },
   "start_time": "2021-05-08T19:26:03.875087",
   "version": "2.3.3"
  }
 },
 "nbformat": 4,
 "nbformat_minor": 5
}