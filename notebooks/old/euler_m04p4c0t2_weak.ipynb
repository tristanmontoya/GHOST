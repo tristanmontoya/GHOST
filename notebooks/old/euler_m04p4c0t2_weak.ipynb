{
 "cells": [
  {
   "cell_type": "code",
   "execution_count": 1,
   "id": "47aa18aa",
   "metadata": {
    "execution": {
     "iopub.execute_input": "2021-05-08T19:26:04.867859Z",
     "iopub.status.busy": "2021-05-08T19:26:04.867174Z",
     "iopub.status.idle": "2021-05-08T19:26:04.870496Z",
     "shell.execute_reply": "2021-05-08T19:26:04.869792Z"
    },
    "papermill": {
     "duration": 0.020203,
     "end_time": "2021-05-08T19:26:04.870653",
     "exception": false,
     "start_time": "2021-05-08T19:26:04.850450",
     "status": "completed"
    },
    "tags": [
     "parameters"
    ]
   },
   "outputs": [],
   "source": [
    "mach_number=0.4\n",
    "p=2\n",
    "M=11\n",
    "L=10.0\n",
    "p_geo=2\n",
    "c=\"c_dg\"\n",
    "discretization_type=1\n",
    "form=\"strong\""
   ]
  },
  {
   "cell_type": "code",
   "execution_count": 2,
   "id": "9d4fb877",
   "metadata": {
    "execution": {
     "iopub.execute_input": "2021-05-08T19:26:04.896394Z",
     "iopub.status.busy": "2021-05-08T19:26:04.895155Z",
     "iopub.status.idle": "2021-05-08T19:26:04.896998Z",
     "shell.execute_reply": "2021-05-08T19:26:04.895751Z"
    },
    "papermill": {
     "duration": 0.021173,
     "end_time": "2021-05-08T19:26:04.897138",
     "exception": false,
     "start_time": "2021-05-08T19:26:04.875965",
     "status": "completed"
    },
    "tags": [
     "injected-parameters"
    ]
   },
   "outputs": [],
   "source": [
    "# Parameters\n",
    "mach_number = 0.4\n",
    "p = 4\n",
    "p_geo = 4\n",
    "c = \"c_dg\"\n",
    "discretization_type = 2\n",
    "form = \"weak\"\n"
   ]
  },
  {
   "cell_type": "code",
   "execution_count": 3,
   "id": "fa4f135b",
   "metadata": {
    "execution": {
     "iopub.execute_input": "2021-05-08T19:26:04.923709Z",
     "iopub.status.busy": "2021-05-08T19:26:04.923065Z",
     "iopub.status.idle": "2021-05-10T06:45:56.575896Z",
     "shell.execute_reply": "2021-05-10T06:45:56.576688Z"
    },
    "papermill": {
     "duration": 127191.674963,
     "end_time": "2021-05-10T06:45:56.577051",
     "exception": false,
     "start_time": "2021-05-08T19:26:04.902088",
     "status": "completed"
    },
    "tags": []
   },
   "outputs": [
    {
     "name": "stderr",
     "output_type": "stream",
     "text": [
      "WARNING:root:msh4 requires 3D points, but 2D points given. Appending 0 third component.\n"
     ]
    },
    {
     "name": "stderr",
     "output_type": "stream",
     "text": [
      "WARNING:root:Binary Gmsh needs c_size_t (got int64). Converting.\n"
     ]
    },
    {
     "name": "stdout",
     "output_type": "stream",
     "text": [
      "running solver euler_m04p4c0t2_weak\n"
     ]
    },
    {
     "name": "stdout",
     "output_type": "stream",
     "text": [
      "3.979e-13 &  5.703e-02  \\\\\n",
      "-3.233e-13 &  8.960e-02  \\\\\n",
      "1.684e-12 &  1.182e-01  \\\\\n",
      "9.948e-13 &  8.311e-02  \\\\\n"
     ]
    }
   ],
   "source": [
    "import sys  \n",
    "sys.path.insert(0, '../src')\n",
    "from Driver import euler_driver\n",
    "\n",
    "solver = euler_driver(mach_number=mach_number, \n",
    "                        p=p, M=M, L=L,\n",
    "                        p_geo=p_geo, c=c, \n",
    "                        discretization_type=discretization_type,\n",
    "                        form=form)"
   ]
  },
  {
   "cell_type": "code",
   "execution_count": null,
   "id": "35dccd34",
   "metadata": {
    "papermill": {
     "duration": 0.009105,
     "end_time": "2021-05-10T06:45:56.595369",
     "exception": false,
     "start_time": "2021-05-10T06:45:56.586264",
     "status": "completed"
    },
    "tags": []
   },
   "outputs": [],
   "source": []
  }
 ],
 "metadata": {
  "celltoolbar": "Tags",
  "kernelspec": {
   "display_name": "Python 3",
   "language": "python",
   "name": "python3"
  },
  "language_info": {
   "codemirror_mode": {
    "name": "ipython",
    "version": 3
   },
   "file_extension": ".py",
   "mimetype": "text/x-python",
   "name": "python",
   "nbconvert_exporter": "python",
   "pygments_lexer": "ipython3",
   "version": "3.8.5"
  },
  "papermill": {
   "default_parameters": {},
   "duration": 127194.78785,
   "end_time": "2021-05-10T06:45:58.139475",
   "environment_variables": {},
   "exception": null,
   "input_path": "euler_driver.ipynb",
   "output_path": "euler_m04p4c0t2_weak.ipynb",
   "parameters": {
    "c": "c_dg",
    "discretization_type": 2,
    "form": "weak",
    "mach_number": 0.4,
    "p": 4,
    "p_geo": 4
   },
   "start_time": "2021-05-08T19:26:03.351625",
   "version": "2.3.3"
  }
 },
 "nbformat": 4,
 "nbformat_minor": 5
}