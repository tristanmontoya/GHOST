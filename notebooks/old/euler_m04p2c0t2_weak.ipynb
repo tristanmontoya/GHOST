{
 "cells": [
  {
   "cell_type": "code",
   "execution_count": 1,
   "id": "dfb8edba",
   "metadata": {
    "execution": {
     "iopub.execute_input": "2021-05-09T21:51:37.718784Z",
     "iopub.status.busy": "2021-05-09T21:51:37.718169Z",
     "iopub.status.idle": "2021-05-09T21:51:37.724719Z",
     "shell.execute_reply": "2021-05-09T21:51:37.724035Z"
    },
    "papermill": {
     "duration": 0.020222,
     "end_time": "2021-05-09T21:51:37.724867",
     "exception": false,
     "start_time": "2021-05-09T21:51:37.704645",
     "status": "completed"
    },
    "tags": [
     "parameters"
    ]
   },
   "outputs": [],
   "source": [
    "mach_number=0.4\n",
    "p=2\n",
    "M=11\n",
    "L=10.0\n",
    "p_geo=2\n",
    "c=\"c_dg\"\n",
    "discretization_type=1\n",
    "form=\"strong\""
   ]
  },
  {
   "cell_type": "code",
   "execution_count": 2,
   "id": "8601f4cc",
   "metadata": {
    "execution": {
     "iopub.execute_input": "2021-05-09T21:51:37.738780Z",
     "iopub.status.busy": "2021-05-09T21:51:37.738176Z",
     "iopub.status.idle": "2021-05-09T21:51:37.741292Z",
     "shell.execute_reply": "2021-05-09T21:51:37.740776Z"
    },
    "papermill": {
     "duration": 0.011647,
     "end_time": "2021-05-09T21:51:37.741423",
     "exception": false,
     "start_time": "2021-05-09T21:51:37.729776",
     "status": "completed"
    },
    "tags": [
     "injected-parameters"
    ]
   },
   "outputs": [],
   "source": [
    "# Parameters\n",
    "mach_number = 0.4\n",
    "p = 2\n",
    "p_geo = 2\n",
    "c = \"c_dg\"\n",
    "discretization_type = 2\n",
    "form = \"weak\"\n"
   ]
  },
  {
   "cell_type": "code",
   "execution_count": null,
   "id": "bfccf451",
   "metadata": {
    "papermill": {
     "duration": null,
     "end_time": null,
     "exception": false,
     "start_time": "2021-05-09T21:51:37.746000",
     "status": "running"
    },
    "tags": []
   },
   "outputs": [],
   "source": [
    "import sys  \n",
    "sys.path.insert(0, '../src')\n",
    "from Driver import euler_driver\n",
    "\n",
    "solver = euler_driver(mach_number=mach_number, \n",
    "                        p=p, M=M, L=L,\n",
    "                        p_geo=p_geo, c=c, \n",
    "                        discretization_type=discretization_type,\n",
    "                        form=form)"
   ]
  },
  {
   "cell_type": "code",
   "execution_count": null,
   "id": "a6212542",
   "metadata": {
    "papermill": {
     "duration": null,
     "end_time": null,
     "exception": null,
     "start_time": null,
     "status": "pending"
    },
    "tags": []
   },
   "outputs": [],
   "source": []
  }
 ],
 "metadata": {
  "celltoolbar": "Tags",
  "kernelspec": {
   "display_name": "Python 3",
   "language": "python",
   "name": "python3"
  },
  "language_info": {
   "codemirror_mode": {
    "name": "ipython",
    "version": 3
   },
   "file_extension": ".py",
   "mimetype": "text/x-python",
   "name": "python",
   "nbconvert_exporter": "python",
   "pygments_lexer": "ipython3",
   "version": "3.7.9"
  },
  "papermill": {
   "default_parameters": {},
   "duration": null,
   "end_time": null,
   "environment_variables": {},
   "exception": null,
   "input_path": "euler_driver.ipynb",
   "output_path": "euler_m04p2c0t2_weak.ipynb",
   "parameters": {
    "c": "c_dg",
    "discretization_type": 2,
    "form": "weak",
    "mach_number": 0.4,
    "p": 2,
    "p_geo": 2
   },
   "start_time": "2021-05-09T21:51:36.473650",
   "version": "2.3.3"
  }
 },
 "nbformat": 4,
 "nbformat_minor": 5
}