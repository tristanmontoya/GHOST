{
 "cells": [
  {
   "cell_type": "code",
   "execution_count": 1,
   "id": "2194c303",
   "metadata": {
    "execution": {
     "iopub.execute_input": "2021-05-08T19:25:59.169638Z",
     "iopub.status.busy": "2021-05-08T19:25:59.168966Z",
     "iopub.status.idle": "2021-05-08T19:25:59.171716Z",
     "shell.execute_reply": "2021-05-08T19:25:59.171014Z"
    },
    "papermill": {
     "duration": 0.024952,
     "end_time": "2021-05-08T19:25:59.171868",
     "exception": false,
     "start_time": "2021-05-08T19:25:59.146916",
     "status": "completed"
    },
    "tags": [
     "parameters"
    ]
   },
   "outputs": [],
   "source": [
    "mach_number=0.4\n",
    "p=2\n",
    "M=11\n",
    "L=10.0\n",
    "p_geo=2\n",
    "c=\"c_dg\"\n",
    "discretization_type=1\n",
    "form=\"strong\""
   ]
  },
  {
   "cell_type": "code",
   "execution_count": 2,
   "id": "b3d1b684",
   "metadata": {
    "execution": {
     "iopub.execute_input": "2021-05-08T19:25:59.197452Z",
     "iopub.status.busy": "2021-05-08T19:25:59.196843Z",
     "iopub.status.idle": "2021-05-08T19:25:59.199733Z",
     "shell.execute_reply": "2021-05-08T19:25:59.199219Z"
    },
    "papermill": {
     "duration": 0.022782,
     "end_time": "2021-05-08T19:25:59.199861",
     "exception": false,
     "start_time": "2021-05-08T19:25:59.177079",
     "status": "completed"
    },
    "tags": [
     "injected-parameters"
    ]
   },
   "outputs": [],
   "source": [
    "# Parameters\n",
    "mach_number = 0.4\n",
    "p = 3\n",
    "p_geo = 3\n",
    "c = \"c_+\"\n",
    "discretization_type = 1\n",
    "form = \"weak\"\n"
   ]
  },
  {
   "cell_type": "code",
   "execution_count": 3,
   "id": "f1a7433f",
   "metadata": {
    "execution": {
     "iopub.execute_input": "2021-05-08T19:25:59.257204Z",
     "iopub.status.busy": "2021-05-08T19:25:59.256594Z",
     "iopub.status.idle": "2021-05-09T18:41:04.995677Z",
     "shell.execute_reply": "2021-05-09T18:41:04.996345Z"
    },
    "papermill": {
     "duration": 83705.792448,
     "end_time": "2021-05-09T18:41:04.996765",
     "exception": false,
     "start_time": "2021-05-08T19:25:59.204317",
     "status": "completed"
    },
    "tags": []
   },
   "outputs": [
    {
     "name": "stderr",
     "output_type": "stream",
     "text": [
      "WARNING:root:msh4 requires 3D points, but 2D points given. Appending 0 third component.\n"
     ]
    },
    {
     "name": "stderr",
     "output_type": "stream",
     "text": [
      "WARNING:root:Binary Gmsh needs c_size_t (got int64). Converting.\n"
     ]
    },
    {
     "name": "stdout",
     "output_type": "stream",
     "text": [
      "running solver euler_m04p3cpt1_weak\n"
     ]
    },
    {
     "name": "stdout",
     "output_type": "stream",
     "text": [
      "-2.842e-14 &  2.656e-02  \\\\\n",
      "-7.354e-13 &  9.070e-02  \\\\\n",
      "9.024e-13 &  6.299e-02  \\\\\n",
      "5.684e-13 &  8.084e-02  \\\\\n"
     ]
    }
   ],
   "source": [
    "import sys  \n",
    "sys.path.insert(0, '../src')\n",
    "from Driver import euler_driver\n",
    "\n",
    "solver = euler_driver(mach_number=mach_number, \n",
    "                        p=p, M=M, L=L,\n",
    "                        p_geo=p_geo, c=c, \n",
    "                        discretization_type=discretization_type,\n",
    "                        form=form)"
   ]
  },
  {
   "cell_type": "code",
   "execution_count": null,
   "id": "bd46e213",
   "metadata": {
    "papermill": {
     "duration": 0.008119,
     "end_time": "2021-05-09T18:41:05.013446",
     "exception": false,
     "start_time": "2021-05-09T18:41:05.005327",
     "status": "completed"
    },
    "tags": []
   },
   "outputs": [],
   "source": []
  }
 ],
 "metadata": {
  "celltoolbar": "Tags",
  "kernelspec": {
   "display_name": "Python 3",
   "language": "python",
   "name": "python3"
  },
  "language_info": {
   "codemirror_mode": {
    "name": "ipython",
    "version": 3
   },
   "file_extension": ".py",
   "mimetype": "text/x-python",
   "name": "python",
   "nbconvert_exporter": "python",
   "pygments_lexer": "ipython3",
   "version": "3.8.5"
  },
  "papermill": {
   "default_parameters": {},
   "duration": 83708.139818,
   "end_time": "2021-05-09T18:41:06.045294",
   "environment_variables": {},
   "exception": null,
   "input_path": "euler_driver.ipynb",
   "output_path": "euler_m04p3cpt1_weak.ipynb",
   "parameters": {
    "c": "c_+",
    "discretization_type": 1,
    "form": "weak",
    "mach_number": 0.4,
    "p": 3,
    "p_geo": 3
   },
   "start_time": "2021-05-08T19:25:57.905476",
   "version": "2.3.3"
  }
 },
 "nbformat": 4,
 "nbformat_minor": 5
}