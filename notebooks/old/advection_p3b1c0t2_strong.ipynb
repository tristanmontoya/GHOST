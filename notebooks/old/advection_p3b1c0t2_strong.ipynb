{
 "cells": [
  {
   "cell_type": "code",
   "execution_count": 1,
   "id": "5414f77b",
   "metadata": {
    "execution": {
     "iopub.execute_input": "2021-05-11T02:51:24.320485Z",
     "iopub.status.busy": "2021-05-11T02:51:24.318855Z",
     "iopub.status.idle": "2021-05-11T02:51:24.321294Z",
     "shell.execute_reply": "2021-05-11T02:51:24.319575Z"
    },
    "papermill": {
     "duration": 0.067752,
     "end_time": "2021-05-11T02:51:24.321490",
     "exception": false,
     "start_time": "2021-05-11T02:51:24.253738",
     "status": "completed"
    },
    "tags": [
     "parameters"
    ]
   },
   "outputs": [],
   "source": [
    "p=2\n",
    "M=2\n",
    "L=1\n",
    "p_geo=1\n",
    "c=\"c_dg\"\n",
    "discretization_type=1\n",
    "upwind_parameter=1.0\n",
    "form=\"strong\""
   ]
  },
  {
   "cell_type": "code",
   "execution_count": 2,
   "id": "a55cfe06",
   "metadata": {
    "execution": {
     "iopub.execute_input": "2021-05-11T02:51:24.361619Z",
     "iopub.status.busy": "2021-05-11T02:51:24.360611Z",
     "iopub.status.idle": "2021-05-11T02:51:24.364423Z",
     "shell.execute_reply": "2021-05-11T02:51:24.363544Z"
    },
    "papermill": {
     "duration": 0.025164,
     "end_time": "2021-05-11T02:51:24.364626",
     "exception": false,
     "start_time": "2021-05-11T02:51:24.339462",
     "status": "completed"
    },
    "tags": [
     "injected-parameters"
    ]
   },
   "outputs": [],
   "source": [
    "# Parameters\n",
    "p = 3\n",
    "p_geo = 1\n",
    "upwind_parameter = 1.0\n",
    "c = \"c_dg\"\n",
    "discretization_type = 2\n",
    "form = \"strong\"\n"
   ]
  },
  {
   "cell_type": "code",
   "execution_count": null,
   "id": "92670c18",
   "metadata": {
    "papermill": {
     "duration": null,
     "end_time": null,
     "exception": false,
     "start_time": "2021-05-11T02:51:24.376745",
     "status": "running"
    },
    "tags": []
   },
   "outputs": [],
   "source": [
    "import sys  \n",
    "import numpy as np\n",
    "sys.path.insert(0, '../src')\n",
    "from Driver import advection_driver\n",
    "\n",
    "solver = advection_driver(a=np.sqrt(2), theta=np.pi/4, p=p, M=M, L=L,\n",
    "                        p_geo=p_geo, c=c, \n",
    "                        discretization_type=discretization_type,\n",
    "                        upwind_parameter=upwind_parameter,\n",
    "                        form=form)"
   ]
  },
  {
   "cell_type": "code",
   "execution_count": null,
   "id": "e664db64",
   "metadata": {
    "papermill": {
     "duration": null,
     "end_time": null,
     "exception": null,
     "start_time": null,
     "status": "pending"
    },
    "tags": []
   },
   "outputs": [],
   "source": []
  }
 ],
 "metadata": {
  "celltoolbar": "Tags",
  "kernelspec": {
   "display_name": "Python 3",
   "language": "python",
   "name": "python3"
  },
  "language_info": {
   "codemirror_mode": {
    "name": "ipython",
    "version": 3
   },
   "file_extension": ".py",
   "mimetype": "text/x-python",
   "name": "python",
   "nbconvert_exporter": "python",
   "pygments_lexer": "ipython3",
   "version": "3.7.9"
  },
  "papermill": {
   "default_parameters": {},
   "duration": null,
   "end_time": null,
   "environment_variables": {},
   "exception": null,
   "input_path": "advection_driver.ipynb",
   "output_path": "advection_p3b1c0t2_strong.ipynb",
   "parameters": {
    "c": "c_dg",
    "discretization_type": 2,
    "form": "strong",
    "p": 3,
    "p_geo": 1,
    "upwind_parameter": 1.0
   },
   "start_time": "2021-05-11T02:51:17.971005",
   "version": "2.3.3"
  }
 },
 "nbformat": 4,
 "nbformat_minor": 5
}