{
 "cells": [
  {
   "cell_type": "code",
   "execution_count": 1,
   "id": "4c39acd5",
   "metadata": {
    "execution": {
     "iopub.execute_input": "2021-05-11T02:51:20.579962Z",
     "iopub.status.busy": "2021-05-11T02:51:20.577754Z",
     "iopub.status.idle": "2021-05-11T02:51:20.581077Z",
     "shell.execute_reply": "2021-05-11T02:51:20.578747Z"
    },
    "papermill": {
     "duration": 0.510067,
     "end_time": "2021-05-11T02:51:20.581425",
     "exception": false,
     "start_time": "2021-05-11T02:51:20.071358",
     "status": "completed"
    },
    "tags": [
     "parameters"
    ]
   },
   "outputs": [],
   "source": [
    "p=2\n",
    "M=2\n",
    "L=1\n",
    "p_geo=1\n",
    "c=\"c_dg\"\n",
    "discretization_type=1\n",
    "upwind_parameter=1.0\n",
    "form=\"strong\""
   ]
  },
  {
   "cell_type": "code",
   "execution_count": 2,
   "id": "1bd0c976",
   "metadata": {
    "execution": {
     "iopub.execute_input": "2021-05-11T02:51:20.713119Z",
     "iopub.status.busy": "2021-05-11T02:51:20.712150Z",
     "iopub.status.idle": "2021-05-11T02:51:20.721099Z",
     "shell.execute_reply": "2021-05-11T02:51:20.721879Z"
    },
    "papermill": {
     "duration": 0.11945,
     "end_time": "2021-05-11T02:51:20.722159",
     "exception": false,
     "start_time": "2021-05-11T02:51:20.602709",
     "status": "completed"
    },
    "tags": [
     "injected-parameters"
    ]
   },
   "outputs": [],
   "source": [
    "# Parameters\n",
    "p = 3\n",
    "p_geo = 1\n",
    "upwind_parameter = 1.0\n",
    "c = \"c_+\"\n",
    "discretization_type = 2\n",
    "form = \"strong\"\n"
   ]
  },
  {
   "cell_type": "code",
   "execution_count": null,
   "id": "3449d497",
   "metadata": {
    "papermill": {
     "duration": null,
     "end_time": null,
     "exception": false,
     "start_time": "2021-05-11T02:51:20.729629",
     "status": "running"
    },
    "tags": []
   },
   "outputs": [],
   "source": [
    "import sys  \n",
    "import numpy as np\n",
    "sys.path.insert(0, '../src')\n",
    "from Driver import advection_driver\n",
    "\n",
    "solver = advection_driver(a=np.sqrt(2), theta=np.pi/4, p=p, M=M, L=L,\n",
    "                        p_geo=p_geo, c=c, \n",
    "                        discretization_type=discretization_type,\n",
    "                        upwind_parameter=upwind_parameter,\n",
    "                        form=form)"
   ]
  },
  {
   "cell_type": "code",
   "execution_count": null,
   "id": "3865347a",
   "metadata": {
    "papermill": {
     "duration": null,
     "end_time": null,
     "exception": null,
     "start_time": null,
     "status": "pending"
    },
    "tags": []
   },
   "outputs": [],
   "source": []
  }
 ],
 "metadata": {
  "celltoolbar": "Tags",
  "kernelspec": {
   "display_name": "Python 3",
   "language": "python",
   "name": "python3"
  },
  "language_info": {
   "codemirror_mode": {
    "name": "ipython",
    "version": 3
   },
   "file_extension": ".py",
   "mimetype": "text/x-python",
   "name": "python",
   "nbconvert_exporter": "python",
   "pygments_lexer": "ipython3",
   "version": "3.7.9"
  },
  "papermill": {
   "default_parameters": {},
   "duration": null,
   "end_time": null,
   "environment_variables": {},
   "exception": null,
   "input_path": "advection_driver.ipynb",
   "output_path": "advection_p3b1cpt2_strong.ipynb",
   "parameters": {
    "c": "c_+",
    "discretization_type": 2,
    "form": "strong",
    "p": 3,
    "p_geo": 1,
    "upwind_parameter": 1.0
   },
   "start_time": "2021-05-11T02:51:17.127017",
   "version": "2.3.3"
  }
 },
 "nbformat": 4,
 "nbformat_minor": 5
}