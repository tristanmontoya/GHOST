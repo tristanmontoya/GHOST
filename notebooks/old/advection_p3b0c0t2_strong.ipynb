{
 "cells": [
  {
   "cell_type": "code",
   "execution_count": 1,
   "id": "ad91c66d",
   "metadata": {
    "execution": {
     "iopub.execute_input": "2021-05-11T02:51:19.409280Z",
     "iopub.status.busy": "2021-05-11T02:51:19.408115Z",
     "iopub.status.idle": "2021-05-11T02:51:19.422018Z",
     "shell.execute_reply": "2021-05-11T02:51:19.422831Z"
    },
    "papermill": {
     "duration": 0.037862,
     "end_time": "2021-05-11T02:51:19.423197",
     "exception": false,
     "start_time": "2021-05-11T02:51:19.385335",
     "status": "completed"
    },
    "tags": [
     "parameters"
    ]
   },
   "outputs": [],
   "source": [
    "p=2\n",
    "M=2\n",
    "L=1\n",
    "p_geo=1\n",
    "c=\"c_dg\"\n",
    "discretization_type=1\n",
    "upwind_parameter=1.0\n",
    "form=\"strong\""
   ]
  },
  {
   "cell_type": "code",
   "execution_count": 2,
   "id": "946d6a13",
   "metadata": {
    "execution": {
     "iopub.execute_input": "2021-05-11T02:51:19.456004Z",
     "iopub.status.busy": "2021-05-11T02:51:19.453815Z",
     "iopub.status.idle": "2021-05-11T02:51:19.457029Z",
     "shell.execute_reply": "2021-05-11T02:51:19.454800Z"
    },
    "papermill": {
     "duration": 0.026623,
     "end_time": "2021-05-11T02:51:19.457259",
     "exception": false,
     "start_time": "2021-05-11T02:51:19.430636",
     "status": "completed"
    },
    "tags": [
     "injected-parameters"
    ]
   },
   "outputs": [],
   "source": [
    "# Parameters\n",
    "p = 3\n",
    "p_geo = 1\n",
    "upwind_parameter = 0.0\n",
    "c = \"c_dg\"\n",
    "discretization_type = 2\n",
    "form = \"strong\"\n"
   ]
  },
  {
   "cell_type": "code",
   "execution_count": null,
   "id": "1fa3e788",
   "metadata": {
    "papermill": {
     "duration": null,
     "end_time": null,
     "exception": false,
     "start_time": "2021-05-11T02:51:19.471511",
     "status": "running"
    },
    "tags": []
   },
   "outputs": [],
   "source": [
    "import sys  \n",
    "import numpy as np\n",
    "sys.path.insert(0, '../src')\n",
    "from Driver import advection_driver\n",
    "\n",
    "solver = advection_driver(a=np.sqrt(2), theta=np.pi/4, p=p, M=M, L=L,\n",
    "                        p_geo=p_geo, c=c, \n",
    "                        discretization_type=discretization_type,\n",
    "                        upwind_parameter=upwind_parameter,\n",
    "                        form=form)"
   ]
  },
  {
   "cell_type": "code",
   "execution_count": null,
   "id": "71dceb74",
   "metadata": {
    "papermill": {
     "duration": null,
     "end_time": null,
     "exception": null,
     "start_time": null,
     "status": "pending"
    },
    "tags": []
   },
   "outputs": [],
   "source": []
  }
 ],
 "metadata": {
  "celltoolbar": "Tags",
  "kernelspec": {
   "display_name": "Python 3",
   "language": "python",
   "name": "python3"
  },
  "language_info": {
   "codemirror_mode": {
    "name": "ipython",
    "version": 3
   },
   "file_extension": ".py",
   "mimetype": "text/x-python",
   "name": "python",
   "nbconvert_exporter": "python",
   "pygments_lexer": "ipython3",
   "version": "3.7.9"
  },
  "papermill": {
   "default_parameters": {},
   "duration": null,
   "end_time": null,
   "environment_variables": {},
   "exception": null,
   "input_path": "advection_driver.ipynb",
   "output_path": "advection_p3b0c0t2_strong.ipynb",
   "parameters": {
    "c": "c_dg",
    "discretization_type": 2,
    "form": "strong",
    "p": 3,
    "p_geo": 1,
    "upwind_parameter": 0.0
   },
   "start_time": "2021-05-11T02:51:17.087930",
   "version": "2.3.3"
  }
 },
 "nbformat": 4,
 "nbformat_minor": 5
}