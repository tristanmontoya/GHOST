{
 "cells": [
  {
   "cell_type": "code",
   "execution_count": 1,
   "id": "1d81b75f",
   "metadata": {
    "execution": {
     "iopub.execute_input": "2021-05-09T21:51:37.721622Z",
     "iopub.status.busy": "2021-05-09T21:51:37.720535Z",
     "iopub.status.idle": "2021-05-09T21:51:37.724218Z",
     "shell.execute_reply": "2021-05-09T21:51:37.723241Z"
    },
    "papermill": {
     "duration": 0.019296,
     "end_time": "2021-05-09T21:51:37.724366",
     "exception": false,
     "start_time": "2021-05-09T21:51:37.705070",
     "status": "completed"
    },
    "tags": [
     "parameters"
    ]
   },
   "outputs": [],
   "source": [
    "mach_number=0.4\n",
    "p=2\n",
    "M=11\n",
    "L=10.0\n",
    "p_geo=2\n",
    "c=\"c_dg\"\n",
    "discretization_type=1\n",
    "form=\"strong\""
   ]
  },
  {
   "cell_type": "code",
   "execution_count": 2,
   "id": "0ad01cef",
   "metadata": {
    "execution": {
     "iopub.execute_input": "2021-05-09T21:51:37.738783Z",
     "iopub.status.busy": "2021-05-09T21:51:37.738162Z",
     "iopub.status.idle": "2021-05-09T21:51:37.740363Z",
     "shell.execute_reply": "2021-05-09T21:51:37.740823Z"
    },
    "papermill": {
     "duration": 0.01157,
     "end_time": "2021-05-09T21:51:37.740990",
     "exception": false,
     "start_time": "2021-05-09T21:51:37.729420",
     "status": "completed"
    },
    "tags": [
     "injected-parameters"
    ]
   },
   "outputs": [],
   "source": [
    "# Parameters\n",
    "mach_number = 0.4\n",
    "p = 2\n",
    "p_geo = 2\n",
    "c = \"c_dg\"\n",
    "discretization_type = 1\n",
    "form = \"weak\"\n"
   ]
  },
  {
   "cell_type": "code",
   "execution_count": 3,
   "id": "08512beb",
   "metadata": {
    "execution": {
     "iopub.execute_input": "2021-05-09T21:51:37.756047Z",
     "iopub.status.busy": "2021-05-09T21:51:37.755442Z",
     "iopub.status.idle": "2021-05-10T09:17:18.280133Z",
     "shell.execute_reply": "2021-05-10T09:17:18.279347Z"
    },
    "papermill": {
     "duration": 41140.534703,
     "end_time": "2021-05-10T09:17:18.280365",
     "exception": false,
     "start_time": "2021-05-09T21:51:37.745662",
     "status": "completed"
    },
    "tags": []
   },
   "outputs": [
    {
     "name": "stderr",
     "output_type": "stream",
     "text": [
      "WARNING:root:msh4 requires 3D points, but 2D points given. Appending 0 third component.\n"
     ]
    },
    {
     "name": "stderr",
     "output_type": "stream",
     "text": [
      "WARNING:root:Binary Gmsh needs c_size_t (got int64). Converting.\n"
     ]
    },
    {
     "name": "stdout",
     "output_type": "stream",
     "text": [
      "running solver euler_m04p2c0t1_weak\n"
     ]
    },
    {
     "name": "stdout",
     "output_type": "stream",
     "text": [
      "1.705e-13 &  3.890e-02  \\\\\n",
      "-3.730e-13 &  1.230e-01  \\\\\n",
      "9.166e-13 &  1.086e-01  \\\\\n",
      "3.411e-13 &  1.244e-01  \\\\\n"
     ]
    }
   ],
   "source": [
    "import sys  \n",
    "sys.path.insert(0, '../src')\n",
    "from Driver import euler_driver\n",
    "\n",
    "solver = euler_driver(mach_number=mach_number, \n",
    "                        p=p, M=M, L=L,\n",
    "                        p_geo=p_geo, c=c, \n",
    "                        discretization_type=discretization_type,\n",
    "                        form=form)"
   ]
  },
  {
   "cell_type": "code",
   "execution_count": null,
   "id": "b16c5c31",
   "metadata": {
    "papermill": {
     "duration": 0.01078,
     "end_time": "2021-05-10T09:17:18.299653",
     "exception": false,
     "start_time": "2021-05-10T09:17:18.288873",
     "status": "completed"
    },
    "tags": []
   },
   "outputs": [],
   "source": []
  }
 ],
 "metadata": {
  "celltoolbar": "Tags",
  "kernelspec": {
   "display_name": "Python 3",
   "language": "python",
   "name": "python3"
  },
  "language_info": {
   "codemirror_mode": {
    "name": "ipython",
    "version": 3
   },
   "file_extension": ".py",
   "mimetype": "text/x-python",
   "name": "python",
   "nbconvert_exporter": "python",
   "pygments_lexer": "ipython3",
   "version": "3.8.5"
  },
  "papermill": {
   "default_parameters": {},
   "duration": 41142.445297,
   "end_time": "2021-05-10T09:17:18.919722",
   "environment_variables": {},
   "exception": null,
   "input_path": "euler_driver.ipynb",
   "output_path": "euler_m04p2c0t1_weak.ipynb",
   "parameters": {
    "c": "c_dg",
    "discretization_type": 1,
    "form": "weak",
    "mach_number": 0.4,
    "p": 2,
    "p_geo": 2
   },
   "start_time": "2021-05-09T21:51:36.474425",
   "version": "2.3.3"
  }
 },
 "nbformat": 4,
 "nbformat_minor": 5
}