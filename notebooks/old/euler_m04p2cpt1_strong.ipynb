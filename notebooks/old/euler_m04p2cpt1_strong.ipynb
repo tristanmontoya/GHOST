{
 "cells": [
  {
   "cell_type": "code",
   "execution_count": 1,
   "id": "e737d571",
   "metadata": {
    "execution": {
     "iopub.execute_input": "2021-05-09T21:51:37.918304Z",
     "iopub.status.busy": "2021-05-09T21:51:37.917594Z",
     "iopub.status.idle": "2021-05-09T21:51:37.919916Z",
     "shell.execute_reply": "2021-05-09T21:51:37.920457Z"
    },
    "papermill": {
     "duration": 0.020611,
     "end_time": "2021-05-09T21:51:37.920724",
     "exception": false,
     "start_time": "2021-05-09T21:51:37.900113",
     "status": "completed"
    },
    "tags": [
     "parameters"
    ]
   },
   "outputs": [],
   "source": [
    "mach_number=0.4\n",
    "p=2\n",
    "M=11\n",
    "L=10.0\n",
    "p_geo=2\n",
    "c=\"c_dg\"\n",
    "discretization_type=1\n",
    "form=\"strong\""
   ]
  },
  {
   "cell_type": "code",
   "execution_count": 2,
   "id": "fd287642",
   "metadata": {
    "execution": {
     "iopub.execute_input": "2021-05-09T21:51:37.964801Z",
     "iopub.status.busy": "2021-05-09T21:51:37.963607Z",
     "iopub.status.idle": "2021-05-09T21:51:37.965405Z",
     "shell.execute_reply": "2021-05-09T21:51:37.964194Z"
    },
    "papermill": {
     "duration": 0.039507,
     "end_time": "2021-05-09T21:51:37.965543",
     "exception": false,
     "start_time": "2021-05-09T21:51:37.926036",
     "status": "completed"
    },
    "tags": [
     "injected-parameters"
    ]
   },
   "outputs": [],
   "source": [
    "# Parameters\n",
    "mach_number = 0.4\n",
    "p = 2\n",
    "p_geo = 2\n",
    "c = \"c_+\"\n",
    "discretization_type = 1\n",
    "form = \"strong\"\n"
   ]
  },
  {
   "cell_type": "code",
   "execution_count": 3,
   "id": "2cda5640",
   "metadata": {
    "execution": {
     "iopub.execute_input": "2021-05-09T21:51:38.004547Z",
     "iopub.status.busy": "2021-05-09T21:51:38.003887Z",
     "iopub.status.idle": "2021-05-10T10:06:40.127571Z",
     "shell.execute_reply": "2021-05-10T10:06:40.128103Z"
    },
    "papermill": {
     "duration": 44102.14297,
     "end_time": "2021-05-10T10:06:40.128337",
     "exception": false,
     "start_time": "2021-05-09T21:51:37.985367",
     "status": "completed"
    },
    "tags": []
   },
   "outputs": [
    {
     "name": "stderr",
     "output_type": "stream",
     "text": [
      "WARNING:root:msh4 requires 3D points, but 2D points given. Appending 0 third component.\n"
     ]
    },
    {
     "name": "stderr",
     "output_type": "stream",
     "text": [
      "WARNING:root:Binary Gmsh needs c_size_t (got int64). Converting.\n"
     ]
    },
    {
     "name": "stdout",
     "output_type": "stream",
     "text": [
      "running solver euler_m04p2cpt1_strong\n"
     ]
    },
    {
     "name": "stdout",
     "output_type": "stream",
     "text": [
      "3.411e-13 &  1.027e-01  \\\\\n",
      "4.619e-13 &  3.396e-01  \\\\\n",
      "8.171e-13 &  2.481e-01  \\\\\n",
      "9.379e-13 &  2.835e-01  \\\\\n"
     ]
    }
   ],
   "source": [
    "import sys  \n",
    "sys.path.insert(0, '../src')\n",
    "from Driver import euler_driver\n",
    "\n",
    "solver = euler_driver(mach_number=mach_number, \n",
    "                        p=p, M=M, L=L,\n",
    "                        p_geo=p_geo, c=c, \n",
    "                        discretization_type=discretization_type,\n",
    "                        form=form)"
   ]
  },
  {
   "cell_type": "code",
   "execution_count": null,
   "id": "361a8820",
   "metadata": {
    "papermill": {
     "duration": 0.005699,
     "end_time": "2021-05-10T10:06:40.140138",
     "exception": false,
     "start_time": "2021-05-10T10:06:40.134439",
     "status": "completed"
    },
    "tags": []
   },
   "outputs": [],
   "source": []
  }
 ],
 "metadata": {
  "celltoolbar": "Tags",
  "kernelspec": {
   "display_name": "Python 3",
   "language": "python",
   "name": "python3"
  },
  "language_info": {
   "codemirror_mode": {
    "name": "ipython",
    "version": 3
   },
   "file_extension": ".py",
   "mimetype": "text/x-python",
   "name": "python",
   "nbconvert_exporter": "python",
   "pygments_lexer": "ipython3",
   "version": "3.8.5"
  },
  "papermill": {
   "default_parameters": {},
   "duration": 44104.135223,
   "end_time": "2021-05-10T10:06:40.655114",
   "environment_variables": {},
   "exception": null,
   "input_path": "euler_driver.ipynb",
   "output_path": "euler_m04p2cpt1_strong.ipynb",
   "parameters": {
    "c": "c_+",
    "discretization_type": 1,
    "form": "strong",
    "mach_number": 0.4,
    "p": 2,
    "p_geo": 2
   },
   "start_time": "2021-05-09T21:51:36.519891",
   "version": "2.3.3"
  }
 },
 "nbformat": 4,
 "nbformat_minor": 5
}