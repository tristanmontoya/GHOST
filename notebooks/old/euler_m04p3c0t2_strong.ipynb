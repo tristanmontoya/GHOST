{
 "cells": [
  {
   "cell_type": "code",
   "execution_count": 1,
   "id": "78086793",
   "metadata": {
    "execution": {
     "iopub.execute_input": "2021-05-08T19:25:59.087740Z",
     "iopub.status.busy": "2021-05-08T19:25:59.086493Z",
     "iopub.status.idle": "2021-05-08T19:25:59.088335Z",
     "shell.execute_reply": "2021-05-08T19:25:59.087060Z"
    },
    "papermill": {
     "duration": 0.055464,
     "end_time": "2021-05-08T19:25:59.088482",
     "exception": false,
     "start_time": "2021-05-08T19:25:59.033018",
     "status": "completed"
    },
    "tags": [
     "parameters"
    ]
   },
   "outputs": [],
   "source": [
    "mach_number=0.4\n",
    "p=2\n",
    "M=11\n",
    "L=10.0\n",
    "p_geo=2\n",
    "c=\"c_dg\"\n",
    "discretization_type=1\n",
    "form=\"strong\""
   ]
  },
  {
   "cell_type": "code",
   "execution_count": 2,
   "id": "c720053a",
   "metadata": {
    "execution": {
     "iopub.execute_input": "2021-05-08T19:25:59.112032Z",
     "iopub.status.busy": "2021-05-08T19:25:59.111400Z",
     "iopub.status.idle": "2021-05-08T19:25:59.129489Z",
     "shell.execute_reply": "2021-05-08T19:25:59.128924Z"
    },
    "papermill": {
     "duration": 0.03616,
     "end_time": "2021-05-08T19:25:59.129638",
     "exception": false,
     "start_time": "2021-05-08T19:25:59.093478",
     "status": "completed"
    },
    "tags": [
     "injected-parameters"
    ]
   },
   "outputs": [],
   "source": [
    "# Parameters\n",
    "mach_number = 0.4\n",
    "p = 3\n",
    "p_geo = 3\n",
    "c = \"c_dg\"\n",
    "discretization_type = 2\n",
    "form = \"strong\"\n"
   ]
  },
  {
   "cell_type": "code",
   "execution_count": 3,
   "id": "1b93f039",
   "metadata": {
    "execution": {
     "iopub.execute_input": "2021-05-08T19:25:59.367407Z",
     "iopub.status.busy": "2021-05-08T19:25:59.366764Z",
     "iopub.status.idle": "2021-05-09T18:18:05.629018Z",
     "shell.execute_reply": "2021-05-09T18:18:05.629732Z"
    },
    "papermill": {
     "duration": 82326.495594,
     "end_time": "2021-05-09T18:18:05.629990",
     "exception": false,
     "start_time": "2021-05-08T19:25:59.134396",
     "status": "completed"
    },
    "tags": []
   },
   "outputs": [
    {
     "name": "stderr",
     "output_type": "stream",
     "text": [
      "WARNING:root:msh4 requires 3D points, but 2D points given. Appending 0 third component.\n"
     ]
    },
    {
     "name": "stderr",
     "output_type": "stream",
     "text": [
      "WARNING:root:Binary Gmsh needs c_size_t (got int64). Converting.\n"
     ]
    },
    {
     "name": "stdout",
     "output_type": "stream",
     "text": [
      "running solver euler_m04p3c0t2_strong\n"
     ]
    },
    {
     "name": "stdout",
     "output_type": "stream",
     "text": [
      "0.000e+00 &  1.214e-01  \\\\\n",
      "-1.471e-12 &  2.296e-01  \\\\\n",
      "1.560e-12 &  3.363e-01  \\\\\n",
      "1.137e-13 &  2.746e-01  \\\\\n"
     ]
    }
   ],
   "source": [
    "import sys  \n",
    "sys.path.insert(0, '../src')\n",
    "from Driver import euler_driver\n",
    "\n",
    "solver = euler_driver(mach_number=mach_number, \n",
    "                        p=p, M=M, L=L,\n",
    "                        p_geo=p_geo, c=c, \n",
    "                        discretization_type=discretization_type,\n",
    "                        form=form)"
   ]
  },
  {
   "cell_type": "code",
   "execution_count": null,
   "id": "bf7040c0",
   "metadata": {
    "papermill": {
     "duration": 0.006436,
     "end_time": "2021-05-09T18:18:05.645224",
     "exception": false,
     "start_time": "2021-05-09T18:18:05.638788",
     "status": "completed"
    },
    "tags": []
   },
   "outputs": [],
   "source": []
  }
 ],
 "metadata": {
  "celltoolbar": "Tags",
  "kernelspec": {
   "display_name": "Python 3",
   "language": "python",
   "name": "python3"
  },
  "language_info": {
   "codemirror_mode": {
    "name": "ipython",
    "version": 3
   },
   "file_extension": ".py",
   "mimetype": "text/x-python",
   "name": "python",
   "nbconvert_exporter": "python",
   "pygments_lexer": "ipython3",
   "version": "3.8.5"
  },
  "papermill": {
   "default_parameters": {},
   "duration": 82329.680367,
   "end_time": "2021-05-09T18:18:07.608567",
   "environment_variables": {},
   "exception": null,
   "input_path": "euler_driver.ipynb",
   "output_path": "euler_m04p3c0t2_strong.ipynb",
   "parameters": {
    "c": "c_dg",
    "discretization_type": 2,
    "form": "strong",
    "mach_number": 0.4,
    "p": 3,
    "p_geo": 3
   },
   "start_time": "2021-05-08T19:25:57.928200",
   "version": "2.3.3"
  }
 },
 "nbformat": 4,
 "nbformat_minor": 5
}