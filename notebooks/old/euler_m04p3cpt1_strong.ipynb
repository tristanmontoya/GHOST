{
 "cells": [
  {
   "cell_type": "code",
   "execution_count": 1,
   "id": "73997512",
   "metadata": {
    "execution": {
     "iopub.execute_input": "2021-05-08T19:25:58.946547Z",
     "iopub.status.busy": "2021-05-08T19:25:58.944532Z",
     "iopub.status.idle": "2021-05-08T19:25:58.949858Z",
     "shell.execute_reply": "2021-05-08T19:25:58.949200Z"
    },
    "papermill": {
     "duration": 0.018467,
     "end_time": "2021-05-08T19:25:58.949996",
     "exception": false,
     "start_time": "2021-05-08T19:25:58.931529",
     "status": "completed"
    },
    "tags": [
     "parameters"
    ]
   },
   "outputs": [],
   "source": [
    "mach_number=0.4\n",
    "p=2\n",
    "M=11\n",
    "L=10.0\n",
    "p_geo=2\n",
    "c=\"c_dg\"\n",
    "discretization_type=1\n",
    "form=\"strong\""
   ]
  },
  {
   "cell_type": "code",
   "execution_count": 2,
   "id": "07402137",
   "metadata": {
    "execution": {
     "iopub.execute_input": "2021-05-08T19:25:58.963810Z",
     "iopub.status.busy": "2021-05-08T19:25:58.963226Z",
     "iopub.status.idle": "2021-05-08T19:25:58.966409Z",
     "shell.execute_reply": "2021-05-08T19:25:58.965902Z"
    },
    "papermill": {
     "duration": 0.011786,
     "end_time": "2021-05-08T19:25:58.966539",
     "exception": false,
     "start_time": "2021-05-08T19:25:58.954753",
     "status": "completed"
    },
    "tags": [
     "injected-parameters"
    ]
   },
   "outputs": [],
   "source": [
    "# Parameters\n",
    "mach_number = 0.4\n",
    "p = 3\n",
    "p_geo = 3\n",
    "c = \"c_+\"\n",
    "discretization_type = 1\n",
    "form = \"strong\"\n"
   ]
  },
  {
   "cell_type": "code",
   "execution_count": 3,
   "id": "651e1a14",
   "metadata": {
    "execution": {
     "iopub.execute_input": "2021-05-08T19:25:58.980934Z",
     "iopub.status.busy": "2021-05-08T19:25:58.980305Z",
     "iopub.status.idle": "2021-05-09T17:44:30.353855Z",
     "shell.execute_reply": "2021-05-09T17:44:30.354384Z"
    },
    "papermill": {
     "duration": 80311.383613,
     "end_time": "2021-05-09T17:44:30.354589",
     "exception": false,
     "start_time": "2021-05-08T19:25:58.970976",
     "status": "completed"
    },
    "tags": []
   },
   "outputs": [
    {
     "name": "stderr",
     "output_type": "stream",
     "text": [
      "WARNING:root:msh4 requires 3D points, but 2D points given. Appending 0 third component.\n"
     ]
    },
    {
     "name": "stderr",
     "output_type": "stream",
     "text": [
      "WARNING:root:Binary Gmsh needs c_size_t (got int64). Converting.\n"
     ]
    },
    {
     "name": "stdout",
     "output_type": "stream",
     "text": [
      "running solver euler_m04p3cpt1_strong\n"
     ]
    },
    {
     "name": "stdout",
     "output_type": "stream",
     "text": [
      "2.700e-13 &  2.656e-02  \\\\\n",
      "-4.974e-13 &  9.070e-02  \\\\\n",
      "1.666e-12 &  6.299e-02  \\\\\n",
      "1.251e-12 &  8.084e-02  \\\\\n"
     ]
    }
   ],
   "source": [
    "import sys  \n",
    "sys.path.insert(0, '../src')\n",
    "from Driver import euler_driver\n",
    "\n",
    "solver = euler_driver(mach_number=mach_number, \n",
    "                        p=p, M=M, L=L,\n",
    "                        p_geo=p_geo, c=c, \n",
    "                        discretization_type=discretization_type,\n",
    "                        form=form)"
   ]
  },
  {
   "cell_type": "code",
   "execution_count": null,
   "id": "aa25eb82",
   "metadata": {
    "papermill": {
     "duration": 0.005934,
     "end_time": "2021-05-09T17:44:30.367006",
     "exception": false,
     "start_time": "2021-05-09T17:44:30.361072",
     "status": "completed"
    },
    "tags": []
   },
   "outputs": [],
   "source": []
  }
 ],
 "metadata": {
  "celltoolbar": "Tags",
  "kernelspec": {
   "display_name": "Python 3",
   "language": "python",
   "name": "python3"
  },
  "language_info": {
   "codemirror_mode": {
    "name": "ipython",
    "version": 3
   },
   "file_extension": ".py",
   "mimetype": "text/x-python",
   "name": "python",
   "nbconvert_exporter": "python",
   "pygments_lexer": "ipython3",
   "version": "3.8.5"
  },
  "papermill": {
   "default_parameters": {},
   "duration": 80314.15048,
   "end_time": "2021-05-09T17:44:32.062613",
   "environment_variables": {},
   "exception": null,
   "input_path": "euler_driver.ipynb",
   "output_path": "euler_m04p3cpt1_strong.ipynb",
   "parameters": {
    "c": "c_+",
    "discretization_type": 1,
    "form": "strong",
    "mach_number": 0.4,
    "p": 3,
    "p_geo": 3
   },
   "start_time": "2021-05-08T19:25:57.912133",
   "version": "2.3.3"
  }
 },
 "nbformat": 4,
 "nbformat_minor": 5
}