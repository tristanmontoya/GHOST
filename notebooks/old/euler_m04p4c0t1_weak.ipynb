{
 "cells": [
  {
   "cell_type": "code",
   "execution_count": 1,
   "id": "1957661f",
   "metadata": {
    "execution": {
     "iopub.execute_input": "2021-05-08T19:26:04.625506Z",
     "iopub.status.busy": "2021-05-08T19:26:04.624818Z",
     "iopub.status.idle": "2021-05-08T19:26:04.628766Z",
     "shell.execute_reply": "2021-05-08T19:26:04.628103Z"
    },
    "papermill": {
     "duration": 0.023802,
     "end_time": "2021-05-08T19:26:04.628932",
     "exception": false,
     "start_time": "2021-05-08T19:26:04.605130",
     "status": "completed"
    },
    "tags": [
     "parameters"
    ]
   },
   "outputs": [],
   "source": [
    "mach_number=0.4\n",
    "p=2\n",
    "M=11\n",
    "L=10.0\n",
    "p_geo=2\n",
    "c=\"c_dg\"\n",
    "discretization_type=1\n",
    "form=\"strong\""
   ]
  },
  {
   "cell_type": "code",
   "execution_count": 2,
   "id": "4054ef06",
   "metadata": {
    "execution": {
     "iopub.execute_input": "2021-05-08T19:26:04.647583Z",
     "iopub.status.busy": "2021-05-08T19:26:04.646824Z",
     "iopub.status.idle": "2021-05-08T19:26:04.648730Z",
     "shell.execute_reply": "2021-05-08T19:26:04.648174Z"
    },
    "papermill": {
     "duration": 0.01442,
     "end_time": "2021-05-08T19:26:04.648868",
     "exception": false,
     "start_time": "2021-05-08T19:26:04.634448",
     "status": "completed"
    },
    "tags": [
     "injected-parameters"
    ]
   },
   "outputs": [],
   "source": [
    "# Parameters\n",
    "mach_number = 0.4\n",
    "p = 4\n",
    "p_geo = 4\n",
    "c = \"c_dg\"\n",
    "discretization_type = 1\n",
    "form = \"weak\"\n"
   ]
  },
  {
   "cell_type": "code",
   "execution_count": 3,
   "id": "7edf78fb",
   "metadata": {
    "execution": {
     "iopub.execute_input": "2021-05-08T19:26:04.675690Z",
     "iopub.status.busy": "2021-05-08T19:26:04.675036Z",
     "iopub.status.idle": "2021-05-10T09:25:22.031966Z",
     "shell.execute_reply": "2021-05-10T09:25:22.032639Z"
    },
    "papermill": {
     "duration": 136757.379049,
     "end_time": "2021-05-10T09:25:22.032980",
     "exception": false,
     "start_time": "2021-05-08T19:26:04.653931",
     "status": "completed"
    },
    "tags": []
   },
   "outputs": [
    {
     "name": "stderr",
     "output_type": "stream",
     "text": [
      "WARNING:root:msh4 requires 3D points, but 2D points given. Appending 0 third component.\n"
     ]
    },
    {
     "name": "stderr",
     "output_type": "stream",
     "text": [
      "WARNING:root:Binary Gmsh needs c_size_t (got int64). Converting.\n"
     ]
    },
    {
     "name": "stdout",
     "output_type": "stream",
     "text": [
      "running solver euler_m04p4c0t1_weak\n"
     ]
    },
    {
     "name": "stdout",
     "output_type": "stream",
     "text": [
      "1.137e-13 &  5.309e-03  \\\\\n",
      "-2.629e-13 &  9.338e-03  \\\\\n",
      "7.567e-13 &  8.563e-03  \\\\\n",
      "6.821e-13 &  9.822e-03  \\\\\n"
     ]
    }
   ],
   "source": [
    "import sys  \n",
    "sys.path.insert(0, '../src')\n",
    "from Driver import euler_driver\n",
    "\n",
    "solver = euler_driver(mach_number=mach_number, \n",
    "                        p=p, M=M, L=L,\n",
    "                        p_geo=p_geo, c=c, \n",
    "                        discretization_type=discretization_type,\n",
    "                        form=form)"
   ]
  },
  {
   "cell_type": "code",
   "execution_count": null,
   "id": "175b8ca5",
   "metadata": {
    "papermill": {
     "duration": 0.00791,
     "end_time": "2021-05-10T09:25:22.049513",
     "exception": false,
     "start_time": "2021-05-10T09:25:22.041603",
     "status": "completed"
    },
    "tags": []
   },
   "outputs": [],
   "source": []
  }
 ],
 "metadata": {
  "celltoolbar": "Tags",
  "kernelspec": {
   "display_name": "Python 3",
   "language": "python",
   "name": "python3"
  },
  "language_info": {
   "codemirror_mode": {
    "name": "ipython",
    "version": 3
   },
   "file_extension": ".py",
   "mimetype": "text/x-python",
   "name": "python",
   "nbconvert_exporter": "python",
   "pygments_lexer": "ipython3",
   "version": "3.8.5"
  },
  "papermill": {
   "default_parameters": {},
   "duration": 136760.373717,
   "end_time": "2021-05-10T09:25:23.485800",
   "environment_variables": {},
   "exception": null,
   "input_path": "euler_driver.ipynb",
   "output_path": "euler_m04p4c0t1_weak.ipynb",
   "parameters": {
    "c": "c_dg",
    "discretization_type": 1,
    "form": "weak",
    "mach_number": 0.4,
    "p": 4,
    "p_geo": 4
   },
   "start_time": "2021-05-08T19:26:03.112083",
   "version": "2.3.3"
  }
 },
 "nbformat": 4,
 "nbformat_minor": 5
}