{
 "cells": [
  {
   "cell_type": "code",
   "execution_count": 1,
   "id": "238cc24b",
   "metadata": {
    "execution": {
     "iopub.execute_input": "2021-05-09T21:51:37.961291Z",
     "iopub.status.busy": "2021-05-09T21:51:37.960598Z",
     "iopub.status.idle": "2021-05-09T21:51:37.963647Z",
     "shell.execute_reply": "2021-05-09T21:51:37.964204Z"
    },
    "papermill": {
     "duration": 0.021022,
     "end_time": "2021-05-09T21:51:37.964476",
     "exception": false,
     "start_time": "2021-05-09T21:51:37.943454",
     "status": "completed"
    },
    "tags": [
     "parameters"
    ]
   },
   "outputs": [],
   "source": [
    "mach_number=0.4\n",
    "p=2\n",
    "M=11\n",
    "L=10.0\n",
    "p_geo=2\n",
    "c=\"c_dg\"\n",
    "discretization_type=1\n",
    "form=\"strong\""
   ]
  },
  {
   "cell_type": "code",
   "execution_count": 2,
   "id": "75e626b3",
   "metadata": {
    "execution": {
     "iopub.execute_input": "2021-05-09T21:51:38.007841Z",
     "iopub.status.busy": "2021-05-09T21:51:38.006866Z",
     "iopub.status.idle": "2021-05-09T21:51:38.009335Z",
     "shell.execute_reply": "2021-05-09T21:51:38.008588Z"
    },
    "papermill": {
     "duration": 0.039836,
     "end_time": "2021-05-09T21:51:38.009532",
     "exception": false,
     "start_time": "2021-05-09T21:51:37.969696",
     "status": "completed"
    },
    "tags": [
     "injected-parameters"
    ]
   },
   "outputs": [],
   "source": [
    "# Parameters\n",
    "mach_number = 0.4\n",
    "p = 2\n",
    "p_geo = 2\n",
    "c = \"c_+\"\n",
    "discretization_type = 3\n",
    "form = \"weak\"\n"
   ]
  },
  {
   "cell_type": "code",
   "execution_count": 3,
   "id": "6eb49d49",
   "metadata": {
    "execution": {
     "iopub.execute_input": "2021-05-09T21:51:38.076639Z",
     "iopub.status.busy": "2021-05-09T21:51:38.075955Z",
     "iopub.status.idle": "2021-05-10T09:02:38.465075Z",
     "shell.execute_reply": "2021-05-10T09:02:38.465752Z"
    },
    "papermill": {
     "duration": 40260.421218,
     "end_time": "2021-05-10T09:02:38.466077",
     "exception": false,
     "start_time": "2021-05-09T21:51:38.044859",
     "status": "completed"
    },
    "tags": []
   },
   "outputs": [
    {
     "name": "stderr",
     "output_type": "stream",
     "text": [
      "WARNING:root:msh4 requires 3D points, but 2D points given. Appending 0 third component.\n"
     ]
    },
    {
     "name": "stderr",
     "output_type": "stream",
     "text": [
      "WARNING:root:Binary Gmsh needs c_size_t (got int64). Converting.\n"
     ]
    },
    {
     "name": "stdout",
     "output_type": "stream",
     "text": [
      "running solver euler_m04p2cpt3_weak\n"
     ]
    },
    {
     "name": "stdout",
     "output_type": "stream",
     "text": [
      "-1.279e-13 &  9.669e-02  \\\\\n",
      "-1.545e-12 &  3.144e-01  \\\\\n",
      "1.517e-12 &  2.360e-01  \\\\\n",
      "5.684e-14 &  2.727e-01  \\\\\n"
     ]
    }
   ],
   "source": [
    "import sys  \n",
    "sys.path.insert(0, '../src')\n",
    "from Driver import euler_driver\n",
    "\n",
    "solver = euler_driver(mach_number=mach_number, \n",
    "                        p=p, M=M, L=L,\n",
    "                        p_geo=p_geo, c=c, \n",
    "                        discretization_type=discretization_type,\n",
    "                        form=form)"
   ]
  },
  {
   "cell_type": "code",
   "execution_count": null,
   "id": "758e5e4f",
   "metadata": {
    "papermill": {
     "duration": 0.008226,
     "end_time": "2021-05-10T09:02:38.483123",
     "exception": false,
     "start_time": "2021-05-10T09:02:38.474897",
     "status": "completed"
    },
    "tags": []
   },
   "outputs": [],
   "source": []
  }
 ],
 "metadata": {
  "celltoolbar": "Tags",
  "kernelspec": {
   "display_name": "Python 3",
   "language": "python",
   "name": "python3"
  },
  "language_info": {
   "codemirror_mode": {
    "name": "ipython",
    "version": 3
   },
   "file_extension": ".py",
   "mimetype": "text/x-python",
   "name": "python",
   "nbconvert_exporter": "python",
   "pygments_lexer": "ipython3",
   "version": "3.8.5"
  },
  "papermill": {
   "default_parameters": {},
   "duration": 40262.584262,
   "end_time": "2021-05-10T09:02:39.105124",
   "environment_variables": {},
   "exception": null,
   "input_path": "euler_driver.ipynb",
   "output_path": "euler_m04p2cpt3_weak.ipynb",
   "parameters": {
    "c": "c_+",
    "discretization_type": 3,
    "form": "weak",
    "mach_number": 0.4,
    "p": 2,
    "p_geo": 2
   },
   "start_time": "2021-05-09T21:51:36.520862",
   "version": "2.3.3"
  }
 },
 "nbformat": 4,
 "nbformat_minor": 5
}