{
 "cells": [
  {
   "cell_type": "code",
   "execution_count": 1,
   "id": "cbdef28d",
   "metadata": {
    "execution": {
     "iopub.execute_input": "2021-05-11T02:51:24.241036Z",
     "iopub.status.busy": "2021-05-11T02:51:24.240382Z",
     "iopub.status.idle": "2021-05-11T02:51:24.245377Z",
     "shell.execute_reply": "2021-05-11T02:51:24.246051Z"
    },
    "papermill": {
     "duration": 0.026462,
     "end_time": "2021-05-11T02:51:24.246361",
     "exception": false,
     "start_time": "2021-05-11T02:51:24.219899",
     "status": "completed"
    },
    "tags": [
     "parameters"
    ]
   },
   "outputs": [],
   "source": [
    "p=2\n",
    "M=2\n",
    "L=1\n",
    "p_geo=1\n",
    "c=\"c_dg\"\n",
    "discretization_type=1\n",
    "upwind_parameter=1.0\n",
    "form=\"strong\""
   ]
  },
  {
   "cell_type": "code",
   "execution_count": 2,
   "id": "64c2e167",
   "metadata": {
    "execution": {
     "iopub.execute_input": "2021-05-11T02:51:24.329051Z",
     "iopub.status.busy": "2021-05-11T02:51:24.328252Z",
     "iopub.status.idle": "2021-05-11T02:51:24.331752Z",
     "shell.execute_reply": "2021-05-11T02:51:24.331001Z"
    },
    "papermill": {
     "duration": 0.06244,
     "end_time": "2021-05-11T02:51:24.331917",
     "exception": false,
     "start_time": "2021-05-11T02:51:24.269477",
     "status": "completed"
    },
    "tags": [
     "injected-parameters"
    ]
   },
   "outputs": [],
   "source": [
    "# Parameters\n",
    "p = 4\n",
    "p_geo = 1\n",
    "upwind_parameter = 0.0\n",
    "c = \"c_+\"\n",
    "discretization_type = 3\n",
    "form = \"weak\"\n"
   ]
  },
  {
   "cell_type": "code",
   "execution_count": 3,
   "id": "b734061d",
   "metadata": {
    "execution": {
     "iopub.execute_input": "2021-05-11T02:51:24.362846Z",
     "iopub.status.busy": "2021-05-11T02:51:24.361872Z"
    },
    "papermill": {
     "duration": null,
     "end_time": null,
     "exception": false,
     "start_time": "2021-05-11T02:51:24.337752",
     "status": "running"
    },
    "tags": []
   },
   "outputs": [
    {
     "name": "stderr",
     "output_type": "stream",
     "text": [
      "WARNING:root:msh4 requires 3D points, but 2D points given. Appending 0 third component.\n"
     ]
    }
   ],
   "source": [
    "import sys  \n",
    "import numpy as np\n",
    "sys.path.insert(0, '../src')\n",
    "from Driver import advection_driver\n",
    "\n",
    "solver = advection_driver(a=np.sqrt(2), theta=np.pi/4, p=p, M=M, L=L,\n",
    "                        p_geo=p_geo, c=c, \n",
    "                        discretization_type=discretization_type,\n",
    "                        upwind_parameter=upwind_parameter,\n",
    "                        form=form)"
   ]
  },
  {
   "cell_type": "code",
   "execution_count": null,
   "id": "0accf8f9",
   "metadata": {
    "papermill": {
     "duration": null,
     "end_time": null,
     "exception": null,
     "start_time": null,
     "status": "pending"
    },
    "tags": []
   },
   "outputs": [],
   "source": []
  }
 ],
 "metadata": {
  "celltoolbar": "Tags",
  "kernelspec": {
   "display_name": "Python 3",
   "language": "python",
   "name": "python3"
  },
  "language_info": {
   "codemirror_mode": {
    "name": "ipython",
    "version": 3
   },
   "file_extension": ".py",
   "mimetype": "text/x-python",
   "name": "python",
   "nbconvert_exporter": "python",
   "pygments_lexer": "ipython3",
   "version": "3.7.9"
  },
  "papermill": {
   "default_parameters": {},
   "duration": null,
   "end_time": null,
   "environment_variables": {},
   "exception": null,
   "input_path": "advection_driver.ipynb",
   "output_path": "advection_p4b0cpt3_weak.ipynb",
   "parameters": {
    "c": "c_+",
    "discretization_type": 3,
    "form": "weak",
    "p": 4,
    "p_geo": 1,
    "upwind_parameter": 0.0
   },
   "start_time": "2021-05-11T02:51:17.960654",
   "version": "2.3.3"
  }
 },
 "nbformat": 4,
 "nbformat_minor": 5
}