{
 "cells": [
  {
   "cell_type": "code",
   "execution_count": 1,
   "id": "47d9bf0a",
   "metadata": {
    "execution": {
     "iopub.execute_input": "2021-05-08T19:25:58.946209Z",
     "iopub.status.busy": "2021-05-08T19:25:58.945405Z",
     "iopub.status.idle": "2021-05-08T19:25:58.948022Z",
     "shell.execute_reply": "2021-05-08T19:25:58.947275Z"
    },
    "papermill": {
     "duration": 0.017754,
     "end_time": "2021-05-08T19:25:58.948196",
     "exception": false,
     "start_time": "2021-05-08T19:25:58.930442",
     "status": "completed"
    },
    "tags": [
     "parameters"
    ]
   },
   "outputs": [],
   "source": [
    "mach_number=0.4\n",
    "p=2\n",
    "M=11\n",
    "L=10.0\n",
    "p_geo=2\n",
    "c=\"c_dg\"\n",
    "discretization_type=1\n",
    "form=\"strong\""
   ]
  },
  {
   "cell_type": "code",
   "execution_count": 2,
   "id": "daf63582",
   "metadata": {
    "execution": {
     "iopub.execute_input": "2021-05-08T19:25:58.961801Z",
     "iopub.status.busy": "2021-05-08T19:25:58.961035Z",
     "iopub.status.idle": "2021-05-08T19:25:58.962960Z",
     "shell.execute_reply": "2021-05-08T19:25:58.963463Z"
    },
    "papermill": {
     "duration": 0.010318,
     "end_time": "2021-05-08T19:25:58.963636",
     "exception": false,
     "start_time": "2021-05-08T19:25:58.953318",
     "status": "completed"
    },
    "tags": [
     "injected-parameters"
    ]
   },
   "outputs": [],
   "source": [
    "# Parameters\n",
    "mach_number = 0.4\n",
    "p = 3\n",
    "p_geo = 3\n",
    "c = \"c_dg\"\n",
    "discretization_type = 2\n",
    "form = \"weak\"\n"
   ]
  },
  {
   "cell_type": "code",
   "execution_count": 3,
   "id": "ec5afa03",
   "metadata": {
    "execution": {
     "iopub.execute_input": "2021-05-08T19:25:58.977822Z",
     "iopub.status.busy": "2021-05-08T19:25:58.977054Z",
     "iopub.status.idle": "2021-05-09T16:52:12.075696Z",
     "shell.execute_reply": "2021-05-09T16:52:12.074777Z"
    },
    "papermill": {
     "duration": 77173.107412,
     "end_time": "2021-05-09T16:52:12.076036",
     "exception": false,
     "start_time": "2021-05-08T19:25:58.968624",
     "status": "completed"
    },
    "tags": []
   },
   "outputs": [
    {
     "name": "stderr",
     "output_type": "stream",
     "text": [
      "WARNING:root:msh4 requires 3D points, but 2D points given. Appending 0 third component.\n"
     ]
    },
    {
     "name": "stderr",
     "output_type": "stream",
     "text": [
      "WARNING:root:Binary Gmsh needs c_size_t (got int64). Converting.\n"
     ]
    },
    {
     "name": "stdout",
     "output_type": "stream",
     "text": [
      "running solver euler_m04p3c0t2_weak\n"
     ]
    },
    {
     "name": "stdout",
     "output_type": "stream",
     "text": [
      "-1.421e-13 &  1.214e-01  \\\\\n",
      "-1.414e-12 &  2.296e-01  \\\\\n",
      "1.425e-12 &  3.363e-01  \\\\\n",
      "5.684e-14 &  2.746e-01  \\\\\n"
     ]
    }
   ],
   "source": [
    "import sys  \n",
    "sys.path.insert(0, '../src')\n",
    "from Driver import euler_driver\n",
    "\n",
    "solver = euler_driver(mach_number=mach_number, \n",
    "                        p=p, M=M, L=L,\n",
    "                        p_geo=p_geo, c=c, \n",
    "                        discretization_type=discretization_type,\n",
    "                        form=form)"
   ]
  },
  {
   "cell_type": "code",
   "execution_count": null,
   "id": "94c4382f",
   "metadata": {
    "papermill": {
     "duration": 0.006151,
     "end_time": "2021-05-09T16:52:12.088615",
     "exception": false,
     "start_time": "2021-05-09T16:52:12.082464",
     "status": "completed"
    },
    "tags": []
   },
   "outputs": [],
   "source": []
  }
 ],
 "metadata": {
  "celltoolbar": "Tags",
  "kernelspec": {
   "display_name": "Python 3",
   "language": "python",
   "name": "python3"
  },
  "language_info": {
   "codemirror_mode": {
    "name": "ipython",
    "version": 3
   },
   "file_extension": ".py",
   "mimetype": "text/x-python",
   "name": "python",
   "nbconvert_exporter": "python",
   "pygments_lexer": "ipython3",
   "version": "3.8.5"
  },
  "papermill": {
   "default_parameters": {},
   "duration": 77175.203895,
   "end_time": "2021-05-09T16:52:13.110558",
   "environment_variables": {},
   "exception": null,
   "input_path": "euler_driver.ipynb",
   "output_path": "euler_m04p3c0t2_weak.ipynb",
   "parameters": {
    "c": "c_dg",
    "discretization_type": 2,
    "form": "weak",
    "mach_number": 0.4,
    "p": 3,
    "p_geo": 3
   },
   "start_time": "2021-05-08T19:25:57.906663",
   "version": "2.3.3"
  }
 },
 "nbformat": 4,
 "nbformat_minor": 5
}