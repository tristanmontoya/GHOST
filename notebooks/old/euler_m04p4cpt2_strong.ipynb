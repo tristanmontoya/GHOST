{
 "cells": [
  {
   "cell_type": "code",
   "execution_count": 1,
   "id": "006824e4",
   "metadata": {
    "execution": {
     "iopub.execute_input": "2021-05-08T19:26:05.808391Z",
     "iopub.status.busy": "2021-05-08T19:26:05.807746Z",
     "iopub.status.idle": "2021-05-08T19:26:05.811253Z",
     "shell.execute_reply": "2021-05-08T19:26:05.810537Z"
    },
    "papermill": {
     "duration": 0.020746,
     "end_time": "2021-05-08T19:26:05.811404",
     "exception": false,
     "start_time": "2021-05-08T19:26:05.790658",
     "status": "completed"
    },
    "tags": [
     "parameters"
    ]
   },
   "outputs": [],
   "source": [
    "mach_number=0.4\n",
    "p=2\n",
    "M=11\n",
    "L=10.0\n",
    "p_geo=2\n",
    "c=\"c_dg\"\n",
    "discretization_type=1\n",
    "form=\"strong\""
   ]
  },
  {
   "cell_type": "code",
   "execution_count": 2,
   "id": "cba0d11d",
   "metadata": {
    "execution": {
     "iopub.execute_input": "2021-05-08T19:26:05.844507Z",
     "iopub.status.busy": "2021-05-08T19:26:05.843368Z",
     "iopub.status.idle": "2021-05-08T19:26:05.845083Z",
     "shell.execute_reply": "2021-05-08T19:26:05.843923Z"
    },
    "papermill": {
     "duration": 0.028796,
     "end_time": "2021-05-08T19:26:05.845217",
     "exception": false,
     "start_time": "2021-05-08T19:26:05.816421",
     "status": "completed"
    },
    "tags": [
     "injected-parameters"
    ]
   },
   "outputs": [],
   "source": [
    "# Parameters\n",
    "mach_number = 0.4\n",
    "p = 4\n",
    "p_geo = 4\n",
    "c = \"c_+\"\n",
    "discretization_type = 2\n",
    "form = \"strong\"\n"
   ]
  },
  {
   "cell_type": "code",
   "execution_count": 3,
   "id": "039dc104",
   "metadata": {
    "execution": {
     "iopub.execute_input": "2021-05-08T19:26:05.906531Z",
     "iopub.status.busy": "2021-05-08T19:26:05.905849Z",
     "iopub.status.idle": "2021-05-10T06:04:59.771260Z",
     "shell.execute_reply": "2021-05-10T06:04:59.773098Z"
    },
    "papermill": {
     "duration": 124733.923647,
     "end_time": "2021-05-10T06:04:59.773460",
     "exception": false,
     "start_time": "2021-05-08T19:26:05.849813",
     "status": "completed"
    },
    "tags": []
   },
   "outputs": [
    {
     "name": "stderr",
     "output_type": "stream",
     "text": [
      "WARNING:root:msh4 requires 3D points, but 2D points given. Appending 0 third component.\n"
     ]
    },
    {
     "name": "stderr",
     "output_type": "stream",
     "text": [
      "WARNING:root:Binary Gmsh needs c_size_t (got int64). Converting.\n"
     ]
    },
    {
     "name": "stdout",
     "output_type": "stream",
     "text": [
      "running solver euler_m04p4cpt2_strong\n"
     ]
    },
    {
     "name": "stdout",
     "output_type": "stream",
     "text": [
      "2.842e-14 &  2.479e-02  \\\\\n",
      "-6.395e-14 &  4.358e-02  \\\\\n",
      "3.837e-13 &  4.696e-02  \\\\\n",
      "5.684e-14 &  3.900e-02  \\\\\n"
     ]
    }
   ],
   "source": [
    "import sys  \n",
    "sys.path.insert(0, '../src')\n",
    "from Driver import euler_driver\n",
    "\n",
    "solver = euler_driver(mach_number=mach_number, \n",
    "                        p=p, M=M, L=L,\n",
    "                        p_geo=p_geo, c=c, \n",
    "                        discretization_type=discretization_type,\n",
    "                        form=form)"
   ]
  },
  {
   "cell_type": "code",
   "execution_count": null,
   "id": "fb5c62ce",
   "metadata": {
    "papermill": {
     "duration": 0.008204,
     "end_time": "2021-05-10T06:04:59.791058",
     "exception": false,
     "start_time": "2021-05-10T06:04:59.782854",
     "status": "completed"
    },
    "tags": []
   },
   "outputs": [],
   "source": []
  }
 ],
 "metadata": {
  "celltoolbar": "Tags",
  "kernelspec": {
   "display_name": "Python 3",
   "language": "python",
   "name": "python3"
  },
  "language_info": {
   "codemirror_mode": {
    "name": "ipython",
    "version": 3
   },
   "file_extension": ".py",
   "mimetype": "text/x-python",
   "name": "python",
   "nbconvert_exporter": "python",
   "pygments_lexer": "ipython3",
   "version": "3.8.5"
  },
  "papermill": {
   "default_parameters": {},
   "duration": 124737.31321,
   "end_time": "2021-05-10T06:05:01.244074",
   "environment_variables": {},
   "exception": null,
   "input_path": "euler_driver.ipynb",
   "output_path": "euler_m04p4cpt2_strong.ipynb",
   "parameters": {
    "c": "c_+",
    "discretization_type": 2,
    "form": "strong",
    "mach_number": 0.4,
    "p": 4,
    "p_geo": 4
   },
   "start_time": "2021-05-08T19:26:03.930864",
   "version": "2.3.3"
  }
 },
 "nbformat": 4,
 "nbformat_minor": 5
}