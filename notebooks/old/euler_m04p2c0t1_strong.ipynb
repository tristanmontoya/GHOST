{
 "cells": [
  {
   "cell_type": "code",
   "execution_count": 1,
   "id": "7f6c0e1a",
   "metadata": {
    "execution": {
     "iopub.execute_input": "2021-05-09T21:51:37.940621Z",
     "iopub.status.busy": "2021-05-09T21:51:37.939916Z",
     "iopub.status.idle": "2021-05-09T21:51:37.943166Z",
     "shell.execute_reply": "2021-05-09T21:51:37.942512Z"
    },
    "papermill": {
     "duration": 0.021332,
     "end_time": "2021-05-09T21:51:37.943333",
     "exception": false,
     "start_time": "2021-05-09T21:51:37.922001",
     "status": "completed"
    },
    "tags": [
     "parameters"
    ]
   },
   "outputs": [],
   "source": [
    "mach_number=0.4\n",
    "p=2\n",
    "M=11\n",
    "L=10.0\n",
    "p_geo=2\n",
    "c=\"c_dg\"\n",
    "discretization_type=1\n",
    "form=\"strong\""
   ]
  },
  {
   "cell_type": "code",
   "execution_count": 2,
   "id": "44497391",
   "metadata": {
    "execution": {
     "iopub.execute_input": "2021-05-09T21:51:37.983742Z",
     "iopub.status.busy": "2021-05-09T21:51:37.982501Z",
     "iopub.status.idle": "2021-05-09T21:51:37.984366Z",
     "shell.execute_reply": "2021-05-09T21:51:37.983110Z"
    },
    "papermill": {
     "duration": 0.0359,
     "end_time": "2021-05-09T21:51:37.984505",
     "exception": false,
     "start_time": "2021-05-09T21:51:37.948605",
     "status": "completed"
    },
    "tags": [
     "injected-parameters"
    ]
   },
   "outputs": [],
   "source": [
    "# Parameters\n",
    "mach_number = 0.4\n",
    "p = 2\n",
    "p_geo = 2\n",
    "c = \"c_dg\"\n",
    "discretization_type = 1\n",
    "form = \"strong\"\n"
   ]
  },
  {
   "cell_type": "code",
   "execution_count": 3,
   "id": "e87a231a",
   "metadata": {
    "execution": {
     "iopub.execute_input": "2021-05-09T21:51:38.028701Z",
     "iopub.status.busy": "2021-05-09T21:51:38.027984Z",
     "iopub.status.idle": "2021-05-10T10:02:05.825871Z",
     "shell.execute_reply": "2021-05-10T10:02:05.825328Z"
    },
    "papermill": {
     "duration": 43827.835944,
     "end_time": "2021-05-10T10:02:05.826033",
     "exception": false,
     "start_time": "2021-05-09T21:51:37.990089",
     "status": "completed"
    },
    "tags": []
   },
   "outputs": [
    {
     "name": "stderr",
     "output_type": "stream",
     "text": [
      "WARNING:root:msh4 requires 3D points, but 2D points given. Appending 0 third component.\n"
     ]
    },
    {
     "name": "stderr",
     "output_type": "stream",
     "text": [
      "WARNING:root:Binary Gmsh needs c_size_t (got int64). Converting.\n"
     ]
    },
    {
     "name": "stdout",
     "output_type": "stream",
     "text": [
      "running solver euler_m04p2c0t1_strong\n"
     ]
    },
    {
     "name": "stdout",
     "output_type": "stream",
     "text": [
      "3.979e-13 &  3.890e-02  \\\\\n",
      "5.187e-13 &  1.230e-01  \\\\\n",
      "8.313e-13 &  1.086e-01  \\\\\n",
      "9.663e-13 &  1.244e-01  \\\\\n"
     ]
    }
   ],
   "source": [
    "import sys  \n",
    "sys.path.insert(0, '../src')\n",
    "from Driver import euler_driver\n",
    "\n",
    "solver = euler_driver(mach_number=mach_number, \n",
    "                        p=p, M=M, L=L,\n",
    "                        p_geo=p_geo, c=c, \n",
    "                        discretization_type=discretization_type,\n",
    "                        form=form)"
   ]
  },
  {
   "cell_type": "code",
   "execution_count": null,
   "id": "ac3c83b1",
   "metadata": {
    "papermill": {
     "duration": 0.005736,
     "end_time": "2021-05-10T10:02:05.838025",
     "exception": false,
     "start_time": "2021-05-10T10:02:05.832289",
     "status": "completed"
    },
    "tags": []
   },
   "outputs": [],
   "source": []
  }
 ],
 "metadata": {
  "celltoolbar": "Tags",
  "kernelspec": {
   "display_name": "Python 3",
   "language": "python",
   "name": "python3"
  },
  "language_info": {
   "codemirror_mode": {
    "name": "ipython",
    "version": 3
   },
   "file_extension": ".py",
   "mimetype": "text/x-python",
   "name": "python",
   "nbconvert_exporter": "python",
   "pygments_lexer": "ipython3",
   "version": "3.8.5"
  },
  "papermill": {
   "default_parameters": {},
   "duration": 43829.979089,
   "end_time": "2021-05-10T10:02:06.452400",
   "environment_variables": {},
   "exception": null,
   "input_path": "euler_driver.ipynb",
   "output_path": "euler_m04p2c0t1_strong.ipynb",
   "parameters": {
    "c": "c_dg",
    "discretization_type": 1,
    "form": "strong",
    "mach_number": 0.4,
    "p": 2,
    "p_geo": 2
   },
   "start_time": "2021-05-09T21:51:36.473311",
   "version": "2.3.3"
  }
 },
 "nbformat": 4,
 "nbformat_minor": 5
}