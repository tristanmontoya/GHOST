{
 "cells": [
  {
   "cell_type": "code",
   "execution_count": 1,
   "id": "b55dbbfb",
   "metadata": {
    "execution": {
     "iopub.execute_input": "2021-05-11T02:51:28.361006Z",
     "iopub.status.busy": "2021-05-11T02:51:28.360110Z",
     "iopub.status.idle": "2021-05-11T02:51:28.517044Z",
     "shell.execute_reply": "2021-05-11T02:51:28.515829Z"
    },
    "papermill": {
     "duration": 0.27783,
     "end_time": "2021-05-11T02:51:28.517299",
     "exception": false,
     "start_time": "2021-05-11T02:51:28.239469",
     "status": "completed"
    },
    "tags": [
     "parameters"
    ]
   },
   "outputs": [],
   "source": [
    "p=2\n",
    "M=2\n",
    "L=1\n",
    "p_geo=1\n",
    "c=\"c_dg\"\n",
    "discretization_type=1\n",
    "upwind_parameter=1.0\n",
    "form=\"strong\""
   ]
  },
  {
   "cell_type": "code",
   "execution_count": 2,
   "id": "e76063e7",
   "metadata": {
    "execution": {
     "iopub.execute_input": "2021-05-11T02:51:28.609480Z",
     "iopub.status.busy": "2021-05-11T02:51:28.555690Z",
     "iopub.status.idle": "2021-05-11T02:51:28.610595Z",
     "shell.execute_reply": "2021-05-11T02:51:28.556908Z"
    },
    "papermill": {
     "duration": 0.08544,
     "end_time": "2021-05-11T02:51:28.610800",
     "exception": false,
     "start_time": "2021-05-11T02:51:28.525360",
     "status": "completed"
    },
    "tags": [
     "injected-parameters"
    ]
   },
   "outputs": [],
   "source": [
    "# Parameters\n",
    "p = 4\n",
    "p_geo = 1\n",
    "upwind_parameter = 0.0\n",
    "c = \"c_+\"\n",
    "discretization_type = 1\n",
    "form = \"strong\"\n"
   ]
  },
  {
   "cell_type": "code",
   "execution_count": 3,
   "id": "fc0c310f",
   "metadata": {
    "execution": {
     "iopub.execute_input": "2021-05-11T02:51:28.807658Z",
     "iopub.status.busy": "2021-05-11T02:51:28.805860Z"
    },
    "papermill": {
     "duration": null,
     "end_time": null,
     "exception": false,
     "start_time": "2021-05-11T02:51:28.617695",
     "status": "running"
    },
    "tags": []
   },
   "outputs": [
    {
     "name": "stderr",
     "output_type": "stream",
     "text": [
      "WARNING:root:msh4 requires 3D points, but 2D points given. Appending 0 third component.\n"
     ]
    }
   ],
   "source": [
    "import sys  \n",
    "import numpy as np\n",
    "sys.path.insert(0, '../src')\n",
    "from Driver import advection_driver\n",
    "\n",
    "solver = advection_driver(a=np.sqrt(2), theta=np.pi/4, p=p, M=M, L=L,\n",
    "                        p_geo=p_geo, c=c, \n",
    "                        discretization_type=discretization_type,\n",
    "                        upwind_parameter=upwind_parameter,\n",
    "                        form=form)"
   ]
  },
  {
   "cell_type": "code",
   "execution_count": null,
   "id": "86313511",
   "metadata": {
    "papermill": {
     "duration": null,
     "end_time": null,
     "exception": null,
     "start_time": null,
     "status": "pending"
    },
    "tags": []
   },
   "outputs": [],
   "source": []
  }
 ],
 "metadata": {
  "celltoolbar": "Tags",
  "kernelspec": {
   "display_name": "Python 3",
   "language": "python",
   "name": "python3"
  },
  "language_info": {
   "codemirror_mode": {
    "name": "ipython",
    "version": 3
   },
   "file_extension": ".py",
   "mimetype": "text/x-python",
   "name": "python",
   "nbconvert_exporter": "python",
   "pygments_lexer": "ipython3",
   "version": "3.7.9"
  },
  "papermill": {
   "default_parameters": {},
   "duration": null,
   "end_time": null,
   "environment_variables": {},
   "exception": null,
   "input_path": "advection_driver.ipynb",
   "output_path": "advection_p4b0cpt1_strong.ipynb",
   "parameters": {
    "c": "c_+",
    "discretization_type": 1,
    "form": "strong",
    "p": 4,
    "p_geo": 1,
    "upwind_parameter": 0.0
   },
   "start_time": "2021-05-11T02:51:18.171110",
   "version": "2.3.3"
  }
 },
 "nbformat": 4,
 "nbformat_minor": 5
}