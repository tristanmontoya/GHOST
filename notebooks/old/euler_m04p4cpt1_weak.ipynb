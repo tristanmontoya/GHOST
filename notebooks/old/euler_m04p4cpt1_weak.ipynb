{
 "cells": [
  {
   "cell_type": "code",
   "execution_count": 1,
   "id": "b6eb616a",
   "metadata": {
    "execution": {
     "iopub.execute_input": "2021-05-08T19:26:04.943620Z",
     "iopub.status.busy": "2021-05-08T19:26:04.942991Z",
     "iopub.status.idle": "2021-05-08T19:26:04.954912Z",
     "shell.execute_reply": "2021-05-08T19:26:04.955563Z"
    },
    "papermill": {
     "duration": 0.027174,
     "end_time": "2021-05-08T19:26:04.955913",
     "exception": false,
     "start_time": "2021-05-08T19:26:04.928739",
     "status": "completed"
    },
    "tags": [
     "parameters"
    ]
   },
   "outputs": [],
   "source": [
    "mach_number=0.4\n",
    "p=2\n",
    "M=11\n",
    "L=10.0\n",
    "p_geo=2\n",
    "c=\"c_dg\"\n",
    "discretization_type=1\n",
    "form=\"strong\""
   ]
  },
  {
   "cell_type": "code",
   "execution_count": 2,
   "id": "2bc21694",
   "metadata": {
    "execution": {
     "iopub.execute_input": "2021-05-08T19:26:04.988197Z",
     "iopub.status.busy": "2021-05-08T19:26:04.987424Z",
     "iopub.status.idle": "2021-05-08T19:26:04.996837Z",
     "shell.execute_reply": "2021-05-08T19:26:04.996294Z"
    },
    "papermill": {
     "duration": 0.035108,
     "end_time": "2021-05-08T19:26:04.996982",
     "exception": false,
     "start_time": "2021-05-08T19:26:04.961874",
     "status": "completed"
    },
    "tags": [
     "injected-parameters"
    ]
   },
   "outputs": [],
   "source": [
    "# Parameters\n",
    "mach_number = 0.4\n",
    "p = 4\n",
    "p_geo = 4\n",
    "c = \"c_+\"\n",
    "discretization_type = 1\n",
    "form = \"weak\"\n"
   ]
  },
  {
   "cell_type": "code",
   "execution_count": 3,
   "id": "d8373dcc",
   "metadata": {
    "execution": {
     "iopub.execute_input": "2021-05-08T19:26:05.054773Z",
     "iopub.status.busy": "2021-05-08T19:26:05.054120Z",
     "iopub.status.idle": "2021-05-10T08:05:07.305993Z",
     "shell.execute_reply": "2021-05-10T08:05:07.306780Z"
    },
    "papermill": {
     "duration": 131942.30567,
     "end_time": "2021-05-10T08:05:07.307316",
     "exception": false,
     "start_time": "2021-05-08T19:26:05.001646",
     "status": "completed"
    },
    "tags": []
   },
   "outputs": [
    {
     "name": "stderr",
     "output_type": "stream",
     "text": [
      "WARNING:root:msh4 requires 3D points, but 2D points given. Appending 0 third component.\n"
     ]
    },
    {
     "name": "stderr",
     "output_type": "stream",
     "text": [
      "WARNING:root:Binary Gmsh needs c_size_t (got int64). Converting.\n"
     ]
    },
    {
     "name": "stdout",
     "output_type": "stream",
     "text": [
      "running solver euler_m04p4cpt1_weak\n"
     ]
    },
    {
     "name": "stdout",
     "output_type": "stream",
     "text": [
      "2.984e-13 &  8.537e-03  \\\\\n",
      "-1.812e-13 &  2.107e-02  \\\\\n",
      "7.994e-13 &  1.871e-02  \\\\\n",
      "7.105e-13 &  1.955e-02  \\\\\n"
     ]
    }
   ],
   "source": [
    "import sys  \n",
    "sys.path.insert(0, '../src')\n",
    "from Driver import euler_driver\n",
    "\n",
    "solver = euler_driver(mach_number=mach_number, \n",
    "                        p=p, M=M, L=L,\n",
    "                        p_geo=p_geo, c=c, \n",
    "                        discretization_type=discretization_type,\n",
    "                        form=form)"
   ]
  },
  {
   "cell_type": "code",
   "execution_count": null,
   "id": "88ab6346",
   "metadata": {
    "papermill": {
     "duration": 0.008764,
     "end_time": "2021-05-10T08:05:07.325584",
     "exception": false,
     "start_time": "2021-05-10T08:05:07.316820",
     "status": "completed"
    },
    "tags": []
   },
   "outputs": [],
   "source": []
  }
 ],
 "metadata": {
  "celltoolbar": "Tags",
  "kernelspec": {
   "display_name": "Python 3",
   "language": "python",
   "name": "python3"
  },
  "language_info": {
   "codemirror_mode": {
    "name": "ipython",
    "version": 3
   },
   "file_extension": ".py",
   "mimetype": "text/x-python",
   "name": "python",
   "nbconvert_exporter": "python",
   "pygments_lexer": "ipython3",
   "version": "3.8.5"
  },
  "papermill": {
   "default_parameters": {},
   "duration": 131945.711688,
   "end_time": "2021-05-10T08:05:08.964408",
   "environment_variables": {},
   "exception": null,
   "input_path": "euler_driver.ipynb",
   "output_path": "euler_m04p4cpt1_weak.ipynb",
   "parameters": {
    "c": "c_+",
    "discretization_type": 1,
    "form": "weak",
    "mach_number": 0.4,
    "p": 4,
    "p_geo": 4
   },
   "start_time": "2021-05-08T19:26:03.252720",
   "version": "2.3.3"
  }
 },
 "nbformat": 4,
 "nbformat_minor": 5
}