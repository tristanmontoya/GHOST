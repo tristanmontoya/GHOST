{
 "cells": [
  {
   "cell_type": "code",
   "execution_count": 1,
   "id": "411fd29f",
   "metadata": {
    "execution": {
     "iopub.execute_input": "2021-05-08T19:26:05.708430Z",
     "iopub.status.busy": "2021-05-08T19:26:05.707814Z",
     "iopub.status.idle": "2021-05-08T19:26:05.711006Z",
     "shell.execute_reply": "2021-05-08T19:26:05.710401Z"
    },
    "papermill": {
     "duration": 0.018656,
     "end_time": "2021-05-08T19:26:05.711153",
     "exception": false,
     "start_time": "2021-05-08T19:26:05.692497",
     "status": "completed"
    },
    "tags": [
     "parameters"
    ]
   },
   "outputs": [],
   "source": [
    "mach_number=0.4\n",
    "p=2\n",
    "M=11\n",
    "L=10.0\n",
    "p_geo=2\n",
    "c=\"c_dg\"\n",
    "discretization_type=1\n",
    "form=\"strong\""
   ]
  },
  {
   "cell_type": "code",
   "execution_count": 2,
   "id": "f73cb1bd",
   "metadata": {
    "execution": {
     "iopub.execute_input": "2021-05-08T19:26:05.732733Z",
     "iopub.status.busy": "2021-05-08T19:26:05.731634Z",
     "iopub.status.idle": "2021-05-08T19:26:05.733300Z",
     "shell.execute_reply": "2021-05-08T19:26:05.732167Z"
    },
    "papermill": {
     "duration": 0.017256,
     "end_time": "2021-05-08T19:26:05.733430",
     "exception": false,
     "start_time": "2021-05-08T19:26:05.716174",
     "status": "completed"
    },
    "tags": [
     "injected-parameters"
    ]
   },
   "outputs": [],
   "source": [
    "# Parameters\n",
    "mach_number = 0.4\n",
    "p = 4\n",
    "p_geo = 4\n",
    "c = \"c_dg\"\n",
    "discretization_type = 1\n",
    "form = \"strong\"\n"
   ]
  },
  {
   "cell_type": "code",
   "execution_count": 3,
   "id": "3acc2051",
   "metadata": {
    "execution": {
     "iopub.execute_input": "2021-05-08T19:26:05.776060Z",
     "iopub.status.busy": "2021-05-08T19:26:05.775360Z",
     "iopub.status.idle": "2021-05-10T10:11:51.656021Z",
     "shell.execute_reply": "2021-05-10T10:11:51.656819Z"
    },
    "papermill": {
     "duration": 139545.919383,
     "end_time": "2021-05-10T10:11:51.657362",
     "exception": false,
     "start_time": "2021-05-08T19:26:05.737979",
     "status": "completed"
    },
    "tags": []
   },
   "outputs": [
    {
     "name": "stderr",
     "output_type": "stream",
     "text": [
      "WARNING:root:msh4 requires 3D points, but 2D points given. Appending 0 third component.\n"
     ]
    },
    {
     "name": "stderr",
     "output_type": "stream",
     "text": [
      "WARNING:root:Binary Gmsh needs c_size_t (got int64). Converting.\n"
     ]
    },
    {
     "name": "stdout",
     "output_type": "stream",
     "text": [
      "running solver euler_m04p4c0t1_strong\n"
     ]
    },
    {
     "name": "stdout",
     "output_type": "stream",
     "text": [
      "2.274e-13 &  5.309e-03  \\\\\n",
      "-1.066e-14 &  9.338e-03  \\\\\n",
      "8.065e-13 &  8.563e-03  \\\\\n",
      "9.379e-13 &  9.822e-03  \\\\\n"
     ]
    }
   ],
   "source": [
    "import sys  \n",
    "sys.path.insert(0, '../src')\n",
    "from Driver import euler_driver\n",
    "\n",
    "solver = euler_driver(mach_number=mach_number, \n",
    "                        p=p, M=M, L=L,\n",
    "                        p_geo=p_geo, c=c, \n",
    "                        discretization_type=discretization_type,\n",
    "                        form=form)"
   ]
  },
  {
   "cell_type": "code",
   "execution_count": null,
   "id": "fc8734d0",
   "metadata": {
    "papermill": {
     "duration": 0.00568,
     "end_time": "2021-05-10T10:11:51.669299",
     "exception": false,
     "start_time": "2021-05-10T10:11:51.663619",
     "status": "completed"
    },
    "tags": []
   },
   "outputs": [],
   "source": []
  }
 ],
 "metadata": {
  "celltoolbar": "Tags",
  "kernelspec": {
   "display_name": "Python 3",
   "language": "python",
   "name": "python3"
  },
  "language_info": {
   "codemirror_mode": {
    "name": "ipython",
    "version": 3
   },
   "file_extension": ".py",
   "mimetype": "text/x-python",
   "name": "python",
   "nbconvert_exporter": "python",
   "pygments_lexer": "ipython3",
   "version": "3.8.5"
  },
  "papermill": {
   "default_parameters": {},
   "duration": 139549.104584,
   "end_time": "2021-05-10T10:11:52.898161",
   "environment_variables": {},
   "exception": null,
   "input_path": "euler_driver.ipynb",
   "output_path": "euler_m04p4c0t1_strong.ipynb",
   "parameters": {
    "c": "c_dg",
    "discretization_type": 1,
    "form": "strong",
    "mach_number": 0.4,
    "p": 4,
    "p_geo": 4
   },
   "start_time": "2021-05-08T19:26:03.793577",
   "version": "2.3.3"
  }
 },
 "nbformat": 4,
 "nbformat_minor": 5
}