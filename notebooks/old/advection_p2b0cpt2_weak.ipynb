{
 "cells": [
  {
   "cell_type": "code",
   "execution_count": 1,
   "id": "441d1f61",
   "metadata": {
    "execution": {
     "iopub.execute_input": "2021-05-11T02:51:18.964200Z",
     "iopub.status.busy": "2021-05-11T02:51:18.963180Z",
     "iopub.status.idle": "2021-05-11T02:51:19.019835Z",
     "shell.execute_reply": "2021-05-11T02:51:18.996138Z"
    },
    "papermill": {
     "duration": 0.083748,
     "end_time": "2021-05-11T02:51:19.020126",
     "exception": false,
     "start_time": "2021-05-11T02:51:18.936378",
     "status": "completed"
    },
    "tags": [
     "parameters"
    ]
   },
   "outputs": [],
   "source": [
    "p=2\n",
    "M=2\n",
    "L=1\n",
    "p_geo=1\n",
    "c=\"c_dg\"\n",
    "discretization_type=1\n",
    "upwind_parameter=1.0\n",
    "form=\"strong\""
   ]
  },
  {
   "cell_type": "code",
   "execution_count": 2,
   "id": "561068b1",
   "metadata": {
    "execution": {
     "iopub.execute_input": "2021-05-11T02:51:19.068879Z",
     "iopub.status.busy": "2021-05-11T02:51:19.067565Z",
     "iopub.status.idle": "2021-05-11T02:51:19.070776Z",
     "shell.execute_reply": "2021-05-11T02:51:19.069836Z"
    },
    "papermill": {
     "duration": 0.043103,
     "end_time": "2021-05-11T02:51:19.071025",
     "exception": false,
     "start_time": "2021-05-11T02:51:19.027922",
     "status": "completed"
    },
    "tags": [
     "injected-parameters"
    ]
   },
   "outputs": [],
   "source": [
    "# Parameters\n",
    "p = 2\n",
    "p_geo = 1\n",
    "upwind_parameter = 0.0\n",
    "c = \"c_+\"\n",
    "discretization_type = 2\n",
    "form = \"weak\"\n"
   ]
  },
  {
   "cell_type": "code",
   "execution_count": null,
   "id": "91e85768",
   "metadata": {
    "papermill": {
     "duration": null,
     "end_time": null,
     "exception": false,
     "start_time": "2021-05-11T02:51:19.098031",
     "status": "running"
    },
    "tags": []
   },
   "outputs": [],
   "source": [
    "import sys  \n",
    "import numpy as np\n",
    "sys.path.insert(0, '../src')\n",
    "from Driver import advection_driver\n",
    "\n",
    "solver = advection_driver(a=np.sqrt(2), theta=np.pi/4, p=p, M=M, L=L,\n",
    "                        p_geo=p_geo, c=c, \n",
    "                        discretization_type=discretization_type,\n",
    "                        upwind_parameter=upwind_parameter,\n",
    "                        form=form)"
   ]
  },
  {
   "cell_type": "code",
   "execution_count": null,
   "id": "56814c63",
   "metadata": {
    "papermill": {
     "duration": null,
     "end_time": null,
     "exception": null,
     "start_time": null,
     "status": "pending"
    },
    "tags": []
   },
   "outputs": [],
   "source": []
  }
 ],
 "metadata": {
  "celltoolbar": "Tags",
  "kernelspec": {
   "display_name": "Python 3",
   "language": "python",
   "name": "python3"
  },
  "language_info": {
   "codemirror_mode": {
    "name": "ipython",
    "version": 3
   },
   "file_extension": ".py",
   "mimetype": "text/x-python",
   "name": "python",
   "nbconvert_exporter": "python",
   "pygments_lexer": "ipython3",
   "version": "3.7.9"
  },
  "papermill": {
   "default_parameters": {},
   "duration": null,
   "end_time": null,
   "environment_variables": {},
   "exception": null,
   "input_path": "advection_driver.ipynb",
   "output_path": "advection_p2b0cpt2_weak.ipynb",
   "parameters": {
    "c": "c_+",
    "discretization_type": 2,
    "form": "weak",
    "p": 2,
    "p_geo": 1,
    "upwind_parameter": 0.0
   },
   "start_time": "2021-05-11T02:51:16.552926",
   "version": "2.3.3"
  }
 },
 "nbformat": 4,
 "nbformat_minor": 5
}