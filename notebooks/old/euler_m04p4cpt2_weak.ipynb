{
 "cells": [
  {
   "cell_type": "code",
   "execution_count": 1,
   "id": "0c34e1d0",
   "metadata": {
    "execution": {
     "iopub.execute_input": "2021-05-08T19:26:05.848320Z",
     "iopub.status.busy": "2021-05-08T19:26:05.847708Z",
     "iopub.status.idle": "2021-05-08T19:26:05.851303Z",
     "shell.execute_reply": "2021-05-08T19:26:05.850719Z"
    },
    "papermill": {
     "duration": 0.019473,
     "end_time": "2021-05-08T19:26:05.851444",
     "exception": false,
     "start_time": "2021-05-08T19:26:05.831971",
     "status": "completed"
    },
    "tags": [
     "parameters"
    ]
   },
   "outputs": [],
   "source": [
    "mach_number=0.4\n",
    "p=2\n",
    "M=11\n",
    "L=10.0\n",
    "p_geo=2\n",
    "c=\"c_dg\"\n",
    "discretization_type=1\n",
    "form=\"strong\""
   ]
  },
  {
   "cell_type": "code",
   "execution_count": 2,
   "id": "89a1ad76",
   "metadata": {
    "execution": {
     "iopub.execute_input": "2021-05-08T19:26:05.873896Z",
     "iopub.status.busy": "2021-05-08T19:26:05.872742Z",
     "iopub.status.idle": "2021-05-08T19:26:05.874493Z",
     "shell.execute_reply": "2021-05-08T19:26:05.873312Z"
    },
    "papermill": {
     "duration": 0.018259,
     "end_time": "2021-05-08T19:26:05.874630",
     "exception": false,
     "start_time": "2021-05-08T19:26:05.856371",
     "status": "completed"
    },
    "tags": [
     "injected-parameters"
    ]
   },
   "outputs": [],
   "source": [
    "# Parameters\n",
    "mach_number = 0.4\n",
    "p = 4\n",
    "p_geo = 4\n",
    "c = \"c_+\"\n",
    "discretization_type = 2\n",
    "form = \"weak\"\n"
   ]
  },
  {
   "cell_type": "code",
   "execution_count": null,
   "id": "1251da51",
   "metadata": {
    "papermill": {
     "duration": null,
     "end_time": null,
     "exception": false,
     "start_time": "2021-05-08T19:26:05.899742",
     "status": "running"
    },
    "tags": []
   },
   "outputs": [],
   "source": [
    "import sys  \n",
    "sys.path.insert(0, '../src')\n",
    "from Driver import euler_driver\n",
    "\n",
    "solver = euler_driver(mach_number=mach_number, \n",
    "                        p=p, M=M, L=L,\n",
    "                        p_geo=p_geo, c=c, \n",
    "                        discretization_type=discretization_type,\n",
    "                        form=form)"
   ]
  },
  {
   "cell_type": "code",
   "execution_count": null,
   "id": "66c6a55f",
   "metadata": {
    "papermill": {
     "duration": null,
     "end_time": null,
     "exception": null,
     "start_time": null,
     "status": "pending"
    },
    "tags": []
   },
   "outputs": [],
   "source": []
  }
 ],
 "metadata": {
  "celltoolbar": "Tags",
  "kernelspec": {
   "display_name": "Python 3",
   "language": "python",
   "name": "python3"
  },
  "language_info": {
   "codemirror_mode": {
    "name": "ipython",
    "version": 3
   },
   "file_extension": ".py",
   "mimetype": "text/x-python",
   "name": "python",
   "nbconvert_exporter": "python",
   "pygments_lexer": "ipython3",
   "version": "3.7.9"
  },
  "papermill": {
   "default_parameters": {},
   "duration": null,
   "end_time": null,
   "environment_variables": {},
   "exception": null,
   "input_path": "euler_driver.ipynb",
   "output_path": "euler_m04p4cpt2_weak.ipynb",
   "parameters": {
    "c": "c_+",
    "discretization_type": 2,
    "form": "weak",
    "mach_number": 0.4,
    "p": 4,
    "p_geo": 4
   },
   "start_time": "2021-05-08T19:26:03.797223",
   "version": "2.3.3"
  }
 },
 "nbformat": 4,
 "nbformat_minor": 5
}