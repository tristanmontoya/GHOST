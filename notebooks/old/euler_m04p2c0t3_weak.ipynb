{
 "cells": [
  {
   "cell_type": "code",
   "execution_count": 1,
   "id": "4ec7be68",
   "metadata": {
    "execution": {
     "iopub.execute_input": "2021-05-09T21:51:37.935742Z",
     "iopub.status.busy": "2021-05-09T21:51:37.935071Z",
     "iopub.status.idle": "2021-05-09T21:51:37.937409Z",
     "shell.execute_reply": "2021-05-09T21:51:37.937903Z"
    },
    "papermill": {
     "duration": 0.020317,
     "end_time": "2021-05-09T21:51:37.938190",
     "exception": false,
     "start_time": "2021-05-09T21:51:37.917873",
     "status": "completed"
    },
    "tags": [
     "parameters"
    ]
   },
   "outputs": [],
   "source": [
    "mach_number=0.4\n",
    "p=2\n",
    "M=11\n",
    "L=10.0\n",
    "p_geo=2\n",
    "c=\"c_dg\"\n",
    "discretization_type=1\n",
    "form=\"strong\""
   ]
  },
  {
   "cell_type": "code",
   "execution_count": 2,
   "id": "c016a1ab",
   "metadata": {
    "execution": {
     "iopub.execute_input": "2021-05-09T21:51:37.979896Z",
     "iopub.status.busy": "2021-05-09T21:51:37.978687Z",
     "iopub.status.idle": "2021-05-09T21:51:37.980506Z",
     "shell.execute_reply": "2021-05-09T21:51:37.979266Z"
    },
    "papermill": {
     "duration": 0.037091,
     "end_time": "2021-05-09T21:51:37.980652",
     "exception": false,
     "start_time": "2021-05-09T21:51:37.943561",
     "status": "completed"
    },
    "tags": [
     "injected-parameters"
    ]
   },
   "outputs": [],
   "source": [
    "# Parameters\n",
    "mach_number = 0.4\n",
    "p = 2\n",
    "p_geo = 2\n",
    "c = \"c_dg\"\n",
    "discretization_type = 3\n",
    "form = \"weak\"\n"
   ]
  },
  {
   "cell_type": "code",
   "execution_count": 3,
   "id": "8efec1ac",
   "metadata": {
    "execution": {
     "iopub.execute_input": "2021-05-09T21:51:38.028897Z",
     "iopub.status.busy": "2021-05-09T21:51:38.028241Z",
     "iopub.status.idle": "2021-05-10T09:28:23.324475Z",
     "shell.execute_reply": "2021-05-10T09:28:23.325135Z"
    },
    "papermill": {
     "duration": 41805.339838,
     "end_time": "2021-05-10T09:28:23.325418",
     "exception": false,
     "start_time": "2021-05-09T21:51:37.985580",
     "status": "completed"
    },
    "tags": []
   },
   "outputs": [
    {
     "name": "stderr",
     "output_type": "stream",
     "text": [
      "WARNING:root:msh4 requires 3D points, but 2D points given. Appending 0 third component.\n"
     ]
    },
    {
     "name": "stderr",
     "output_type": "stream",
     "text": [
      "WARNING:root:Binary Gmsh needs c_size_t (got int64). Converting.\n"
     ]
    },
    {
     "name": "stdout",
     "output_type": "stream",
     "text": [
      "running solver euler_m04p2c0t3_weak\n"
     ]
    },
    {
     "name": "stdout",
     "output_type": "stream",
     "text": [
      "1.421e-13 &  6.240e-02  \\\\\n",
      "-1.421e-12 &  1.548e-01  \\\\\n",
      "1.613e-12 &  1.520e-01  \\\\\n",
      "1.421e-13 &  1.802e-01  \\\\\n"
     ]
    }
   ],
   "source": [
    "import sys  \n",
    "sys.path.insert(0, '../src')\n",
    "from Driver import euler_driver\n",
    "\n",
    "solver = euler_driver(mach_number=mach_number, \n",
    "                        p=p, M=M, L=L,\n",
    "                        p_geo=p_geo, c=c, \n",
    "                        discretization_type=discretization_type,\n",
    "                        form=form)"
   ]
  },
  {
   "cell_type": "code",
   "execution_count": null,
   "id": "ee65c073",
   "metadata": {
    "papermill": {
     "duration": 0.007738,
     "end_time": "2021-05-10T09:28:23.341622",
     "exception": false,
     "start_time": "2021-05-10T09:28:23.333884",
     "status": "completed"
    },
    "tags": []
   },
   "outputs": [],
   "source": []
  }
 ],
 "metadata": {
  "celltoolbar": "Tags",
  "kernelspec": {
   "display_name": "Python 3",
   "language": "python",
   "name": "python3"
  },
  "language_info": {
   "codemirror_mode": {
    "name": "ipython",
    "version": 3
   },
   "file_extension": ".py",
   "mimetype": "text/x-python",
   "name": "python",
   "nbconvert_exporter": "python",
   "pygments_lexer": "ipython3",
   "version": "3.8.5"
  },
  "papermill": {
   "default_parameters": {},
   "duration": 41808.334787,
   "end_time": "2021-05-10T09:28:24.815185",
   "environment_variables": {},
   "exception": null,
   "input_path": "euler_driver.ipynb",
   "output_path": "euler_m04p2c0t3_weak.ipynb",
   "parameters": {
    "c": "c_dg",
    "discretization_type": 3,
    "form": "weak",
    "mach_number": 0.4,
    "p": 2,
    "p_geo": 2
   },
   "start_time": "2021-05-09T21:51:36.480398",
   "version": "2.3.3"
  }
 },
 "nbformat": 4,
 "nbformat_minor": 5
}