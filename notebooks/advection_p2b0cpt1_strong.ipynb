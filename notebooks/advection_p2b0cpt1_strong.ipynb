{
 "cells": [
  {
   "cell_type": "code",
   "execution_count": 1,
   "id": "52518fe1",
   "metadata": {
    "execution": {
     "iopub.execute_input": "2021-05-11T03:10:11.335890Z",
     "iopub.status.busy": "2021-05-11T03:10:11.334565Z",
     "iopub.status.idle": "2021-05-11T03:10:11.336602Z",
     "shell.execute_reply": "2021-05-11T03:10:11.335192Z"
    },
    "papermill": {
     "duration": 0.048683,
     "end_time": "2021-05-11T03:10:11.336797",
     "exception": false,
     "start_time": "2021-05-11T03:10:11.288114",
     "status": "completed"
    },
    "tags": [
     "parameters"
    ]
   },
   "outputs": [],
   "source": [
    "p=2\n",
    "M=10\n",
    "L=1\n",
    "p_geo=1\n",
    "c=\"c_dg\"\n",
    "discretization_type=1\n",
    "upwind_parameter=1.0\n",
    "form=\"strong\""
   ]
  },
  {
   "cell_type": "code",
   "execution_count": 2,
   "id": "257ea41d",
   "metadata": {
    "execution": {
     "iopub.execute_input": "2021-05-11T03:10:11.369619Z",
     "iopub.status.busy": "2021-05-11T03:10:11.368455Z",
     "iopub.status.idle": "2021-05-11T03:10:11.370221Z",
     "shell.execute_reply": "2021-05-11T03:10:11.369030Z"
    },
    "papermill": {
     "duration": 0.028095,
     "end_time": "2021-05-11T03:10:11.370360",
     "exception": false,
     "start_time": "2021-05-11T03:10:11.342265",
     "status": "completed"
    },
    "tags": [
     "injected-parameters"
    ]
   },
   "outputs": [],
   "source": [
    "# Parameters\n",
    "p = 2\n",
    "p_geo = 1\n",
    "upwind_parameter = 0.0\n",
    "c = \"c_+\"\n",
    "discretization_type = 1\n",
    "form = \"strong\"\n"
   ]
  },
  {
   "cell_type": "code",
   "execution_count": 3,
   "id": "da8e6583",
   "metadata": {
    "execution": {
     "iopub.execute_input": "2021-05-11T03:10:11.469088Z",
     "iopub.status.busy": "2021-05-11T03:10:11.468415Z",
     "iopub.status.idle": "2021-05-11T04:58:19.816230Z",
     "shell.execute_reply": "2021-05-11T04:58:19.816746Z"
    },
    "papermill": {
     "duration": 6488.427427,
     "end_time": "2021-05-11T04:58:19.816923",
     "exception": false,
     "start_time": "2021-05-11T03:10:11.389496",
     "status": "completed"
    },
    "tags": []
   },
   "outputs": [
    {
     "name": "stderr",
     "output_type": "stream",
     "text": [
      "WARNING:root:msh4 requires 3D points, but 2D points given. Appending 0 third component.\n"
     ]
    },
    {
     "name": "stderr",
     "output_type": "stream",
     "text": [
      "WARNING:root:Binary Gmsh needs c_size_t (got int64). Converting.\n"
     ]
    },
    {
     "name": "stdout",
     "output_type": "stream",
     "text": [
      "advection_p2b0cpt1_strong\n"
     ]
    },
    {
     "name": "stdout",
     "output_type": "stream",
     "text": [
      "-8.107e-16 &  2.220e-16 & 1.106e-01  \\\\\n"
     ]
    }
   ],
   "source": [
    "import sys  \n",
    "import numpy as np\n",
    "sys.path.insert(0, '../src')\n",
    "from Driver import advection_driver\n",
    "\n",
    "solver = advection_driver(a=np.sqrt(2), theta=np.pi/4, p=p, M=M, L=L,\n",
    "                        p_geo=p_geo, c=c, \n",
    "                        discretization_type=discretization_type,\n",
    "                        upwind_parameter=upwind_parameter,\n",
    "                        form=form)"
   ]
  },
  {
   "cell_type": "code",
   "execution_count": null,
   "id": "96553da4",
   "metadata": {
    "papermill": {
     "duration": 0.005758,
     "end_time": "2021-05-11T04:58:19.828686",
     "exception": false,
     "start_time": "2021-05-11T04:58:19.822928",
     "status": "completed"
    },
    "tags": []
   },
   "outputs": [],
   "source": []
  }
 ],
 "metadata": {
  "celltoolbar": "Tags",
  "kernelspec": {
   "display_name": "Python 3",
   "language": "python",
   "name": "python3"
  },
  "language_info": {
   "codemirror_mode": {
    "name": "ipython",
    "version": 3
   },
   "file_extension": ".py",
   "mimetype": "text/x-python",
   "name": "python",
   "nbconvert_exporter": "python",
   "pygments_lexer": "ipython3",
   "version": "3.8.5"
  },
  "papermill": {
   "default_parameters": {},
   "duration": 6491.326382,
   "end_time": "2021-05-11T04:58:21.101258",
   "environment_variables": {},
   "exception": null,
   "input_path": "advection_driver.ipynb",
   "output_path": "advection_p2b0cpt1_strong.ipynb",
   "parameters": {
    "c": "c_+",
    "discretization_type": 1,
    "form": "strong",
    "p": 2,
    "p_geo": 1,
    "upwind_parameter": 0.0
   },
   "start_time": "2021-05-11T03:10:09.774876",
   "version": "2.3.3"
  }
 },
 "nbformat": 4,
 "nbformat_minor": 5
}