{
 "cells": [
  {
   "cell_type": "code",
   "execution_count": 1,
   "id": "5a5fb903",
   "metadata": {
    "execution": {
     "iopub.execute_input": "2021-05-11T05:21:33.883095Z",
     "iopub.status.busy": "2021-05-11T05:21:33.882451Z",
     "iopub.status.idle": "2021-05-11T05:21:33.885382Z",
     "shell.execute_reply": "2021-05-11T05:21:33.884784Z"
    },
    "papermill": {
     "duration": 0.018902,
     "end_time": "2021-05-11T05:21:33.885542",
     "exception": false,
     "start_time": "2021-05-11T05:21:33.866640",
     "status": "completed"
    },
    "tags": [
     "parameters"
    ]
   },
   "outputs": [],
   "source": [
    "p=2\n",
    "M=10\n",
    "L=1\n",
    "p_geo=1\n",
    "c=\"c_dg\"\n",
    "discretization_type=1\n",
    "upwind_parameter=1.0\n",
    "form=\"strong\""
   ]
  },
  {
   "cell_type": "code",
   "execution_count": 2,
   "id": "cdfd2437",
   "metadata": {
    "execution": {
     "iopub.execute_input": "2021-05-11T05:21:33.899729Z",
     "iopub.status.busy": "2021-05-11T05:21:33.898979Z",
     "iopub.status.idle": "2021-05-11T05:21:33.901639Z",
     "shell.execute_reply": "2021-05-11T05:21:33.901053Z"
    },
    "papermill": {
     "duration": 0.011171,
     "end_time": "2021-05-11T05:21:33.901775",
     "exception": false,
     "start_time": "2021-05-11T05:21:33.890604",
     "status": "completed"
    },
    "tags": [
     "injected-parameters"
    ]
   },
   "outputs": [],
   "source": [
    "# Parameters\n",
    "p = 3\n",
    "p_geo = 1\n",
    "upwind_parameter = 0.0\n",
    "c = \"c_+\"\n",
    "discretization_type = 3\n",
    "form = \"weak\"\n"
   ]
  },
  {
   "cell_type": "code",
   "execution_count": 3,
   "id": "83267c35",
   "metadata": {
    "execution": {
     "iopub.execute_input": "2021-05-11T05:21:33.917143Z",
     "iopub.status.busy": "2021-05-11T05:21:33.916506Z",
     "iopub.status.idle": "2021-05-11T07:18:08.173360Z",
     "shell.execute_reply": "2021-05-11T07:18:08.173896Z"
    },
    "papermill": {
     "duration": 6994.267738,
     "end_time": "2021-05-11T07:18:08.174135",
     "exception": false,
     "start_time": "2021-05-11T05:21:33.906397",
     "status": "completed"
    },
    "tags": []
   },
   "outputs": [
    {
     "name": "stderr",
     "output_type": "stream",
     "text": [
      "WARNING:root:msh4 requires 3D points, but 2D points given. Appending 0 third component.\n"
     ]
    },
    {
     "name": "stderr",
     "output_type": "stream",
     "text": [
      "WARNING:root:Binary Gmsh needs c_size_t (got int64). Converting.\n"
     ]
    },
    {
     "name": "stdout",
     "output_type": "stream",
     "text": [
      "advection_p3b0cpt3_weak\n"
     ]
    },
    {
     "name": "stdout",
     "output_type": "stream",
     "text": [
      "-1.197e-05 &  3.120e+23 & 5.484e+11  \\\\\n"
     ]
    }
   ],
   "source": [
    "import sys  \n",
    "import numpy as np\n",
    "sys.path.insert(0, '../src')\n",
    "from Driver import advection_driver\n",
    "\n",
    "solver = advection_driver(a=np.sqrt(2), theta=np.pi/4, p=p, M=M, L=L,\n",
    "                        p_geo=p_geo, c=c, \n",
    "                        discretization_type=discretization_type,\n",
    "                        upwind_parameter=upwind_parameter,\n",
    "                        form=form)"
   ]
  },
  {
   "cell_type": "code",
   "execution_count": null,
   "id": "d7118f17",
   "metadata": {
    "papermill": {
     "duration": 0.006109,
     "end_time": "2021-05-11T07:18:08.186637",
     "exception": false,
     "start_time": "2021-05-11T07:18:08.180528",
     "status": "completed"
    },
    "tags": []
   },
   "outputs": [],
   "source": []
  }
 ],
 "metadata": {
  "celltoolbar": "Tags",
  "kernelspec": {
   "display_name": "Python 3",
   "language": "python",
   "name": "python3"
  },
  "language_info": {
   "codemirror_mode": {
    "name": "ipython",
    "version": 3
   },
   "file_extension": ".py",
   "mimetype": "text/x-python",
   "name": "python",
   "nbconvert_exporter": "python",
   "pygments_lexer": "ipython3",
   "version": "3.8.5"
  },
  "papermill": {
   "default_parameters": {},
   "duration": 6996.060677,
   "end_time": "2021-05-11T07:18:08.703087",
   "environment_variables": {},
   "exception": null,
   "input_path": "advection_driver.ipynb",
   "output_path": "advection_p3b0cpt3_weak.ipynb",
   "parameters": {
    "c": "c_+",
    "discretization_type": 3,
    "form": "weak",
    "p": 3,
    "p_geo": 1,
    "upwind_parameter": 0.0
   },
   "start_time": "2021-05-11T05:21:32.642410",
   "version": "2.3.3"
  }
 },
 "nbformat": 4,
 "nbformat_minor": 5
}