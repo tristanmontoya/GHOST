{
 "cells": [
  {
   "cell_type": "code",
   "execution_count": 1,
   "metadata": {
    "execution": {
     "iopub.execute_input": "2020-12-30T03:09:00.330943Z",
     "iopub.status.busy": "2020-12-30T03:09:00.330155Z",
     "iopub.status.idle": "2020-12-30T03:09:00.333260Z",
     "shell.execute_reply": "2020-12-30T03:09:00.332542Z"
    },
    "papermill": {
     "duration": 0.022827,
     "end_time": "2020-12-30T03:09:00.333505",
     "exception": false,
     "start_time": "2020-12-30T03:09:00.310678",
     "status": "completed"
    },
    "tags": [
     "parameters"
    ]
   },
   "outputs": [],
   "source": [
    "mach_number=0.4\n",
    "p=2\n",
    "M=11\n",
    "L=10.0\n",
    "p_geo=2\n",
    "c=\"c_dg\"\n",
    "discretization_type=1\n",
    "form=\"strong\""
   ]
  },
  {
   "cell_type": "code",
   "execution_count": 2,
   "metadata": {
    "execution": {
     "iopub.execute_input": "2020-12-30T03:09:00.349106Z",
     "iopub.status.busy": "2020-12-30T03:09:00.348348Z",
     "iopub.status.idle": "2020-12-30T03:09:00.352841Z",
     "shell.execute_reply": "2020-12-30T03:09:00.352084Z"
    },
    "papermill": {
     "duration": 0.014126,
     "end_time": "2020-12-30T03:09:00.353010",
     "exception": false,
     "start_time": "2020-12-30T03:09:00.338884",
     "status": "completed"
    },
    "tags": [
     "injected-parameters"
    ]
   },
   "outputs": [],
   "source": [
    "# Parameters\n",
    "mach_number = 0.4\n",
    "p = 2\n",
    "c = \"c_+\"\n",
    "discretization_type = 2\n",
    "form = \"strong\"\n"
   ]
  },
  {
   "cell_type": "code",
   "execution_count": 3,
   "metadata": {
    "execution": {
     "iopub.execute_input": "2020-12-30T03:09:00.368306Z",
     "iopub.status.busy": "2020-12-30T03:09:00.367570Z",
     "iopub.status.idle": "2020-12-30T14:21:38.220319Z",
     "shell.execute_reply": "2020-12-30T14:21:38.220974Z"
    },
    "papermill": {
     "duration": 40357.863283,
     "end_time": "2020-12-30T14:21:38.221340",
     "exception": false,
     "start_time": "2020-12-30T03:09:00.358057",
     "status": "completed"
    },
    "tags": []
   },
   "outputs": [
    {
     "name": "stderr",
     "output_type": "stream",
     "text": [
      "WARNING:root:msh4 requires 3D points, but 2D points given. Appending 0 third component.\n"
     ]
    },
    {
     "name": "stderr",
     "output_type": "stream",
     "text": [
      "WARNING:root:Binary Gmsh needs c_size_t (got int64). Converting.\n"
     ]
    },
    {
     "name": "stdout",
     "output_type": "stream",
     "text": [
      "running solver euler_m04p2cpt2_strong\n"
     ]
    },
    {
     "name": "stdout",
     "output_type": "stream",
     "text": [
      "4.547e-13 &  1.242e-01  \\\\\n",
      "4.441e-13 &  4.012e-01  \\\\\n",
      "9.734e-13 &  2.907e-01  \\\\\n",
      "1.108e-12 &  3.078e-01  \\\\\n"
     ]
    }
   ],
   "source": [
    "import sys  \n",
    "sys.path.insert(0, '../src')\n",
    "from Driver import euler_driver\n",
    "\n",
    "solver = euler_driver(mach_number=mach_number, \n",
    "                        p=p, M=M, L=L,\n",
    "                        p_geo=p_geo, c=c, \n",
    "                        discretization_type=discretization_type,\n",
    "                        form=form)"
   ]
  },
  {
   "cell_type": "code",
   "execution_count": null,
   "metadata": {
    "papermill": {
     "duration": 0.006988,
     "end_time": "2020-12-30T14:21:38.236217",
     "exception": false,
     "start_time": "2020-12-30T14:21:38.229229",
     "status": "completed"
    },
    "tags": []
   },
   "outputs": [],
   "source": []
  }
 ],
 "metadata": {
  "celltoolbar": "Tags",
  "kernelspec": {
   "display_name": "Python 3",
   "language": "python",
   "name": "python3"
  },
  "language_info": {
   "codemirror_mode": {
    "name": "ipython",
    "version": 3
   },
   "file_extension": ".py",
   "mimetype": "text/x-python",
   "name": "python",
   "nbconvert_exporter": "python",
   "pygments_lexer": "ipython3",
   "version": "3.8.5"
  },
  "papermill": {
   "default_parameters": {},
   "duration": 40360.646581,
   "end_time": "2020-12-30T14:21:39.717769",
   "environment_variables": {},
   "exception": null,
   "input_path": "euler_driver.ipynb",
   "output_path": "euler_m04p2cpt2_strong.ipynb",
   "parameters": {
    "c": "c_+",
    "discretization_type": 2,
    "form": "strong",
    "mach_number": 0.4,
    "p": 2
   },
   "start_time": "2020-12-30T03:08:59.071188",
   "version": "2.2.2"
  }
 },
 "nbformat": 4,
 "nbformat_minor": 2
}