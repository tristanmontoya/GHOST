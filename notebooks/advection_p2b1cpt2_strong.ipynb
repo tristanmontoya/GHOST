{
 "cells": [
  {
   "cell_type": "code",
   "execution_count": 1,
   "id": "cd1fa409",
   "metadata": {
    "execution": {
     "iopub.execute_input": "2021-05-11T03:10:11.309587Z",
     "iopub.status.busy": "2021-05-11T03:10:11.308928Z",
     "iopub.status.idle": "2021-05-11T03:10:11.321751Z",
     "shell.execute_reply": "2021-05-11T03:10:11.320956Z"
    },
    "papermill": {
     "duration": 0.128796,
     "end_time": "2021-05-11T03:10:11.321916",
     "exception": false,
     "start_time": "2021-05-11T03:10:11.193120",
     "status": "completed"
    },
    "tags": [
     "parameters"
    ]
   },
   "outputs": [],
   "source": [
    "p=2\n",
    "M=10\n",
    "L=1\n",
    "p_geo=1\n",
    "c=\"c_dg\"\n",
    "discretization_type=1\n",
    "upwind_parameter=1.0\n",
    "form=\"strong\""
   ]
  },
  {
   "cell_type": "code",
   "execution_count": 2,
   "id": "dcf2f3b9",
   "metadata": {
    "execution": {
     "iopub.execute_input": "2021-05-11T03:10:11.338267Z",
     "iopub.status.busy": "2021-05-11T03:10:11.337606Z",
     "iopub.status.idle": "2021-05-11T03:10:11.340173Z",
     "shell.execute_reply": "2021-05-11T03:10:11.339554Z"
    },
    "papermill": {
     "duration": 0.013287,
     "end_time": "2021-05-11T03:10:11.340310",
     "exception": false,
     "start_time": "2021-05-11T03:10:11.327023",
     "status": "completed"
    },
    "tags": [
     "injected-parameters"
    ]
   },
   "outputs": [],
   "source": [
    "# Parameters\n",
    "p = 2\n",
    "p_geo = 1\n",
    "upwind_parameter = 1.0\n",
    "c = \"c_+\"\n",
    "discretization_type = 2\n",
    "form = \"strong\"\n"
   ]
  },
  {
   "cell_type": "code",
   "execution_count": 3,
   "id": "9349c140",
   "metadata": {
    "execution": {
     "iopub.execute_input": "2021-05-11T03:10:11.403271Z",
     "iopub.status.busy": "2021-05-11T03:10:11.402628Z",
     "iopub.status.idle": "2021-05-11T05:00:41.520593Z",
     "shell.execute_reply": "2021-05-11T05:00:41.521100Z"
    },
    "papermill": {
     "duration": 6630.176323,
     "end_time": "2021-05-11T05:00:41.521275",
     "exception": false,
     "start_time": "2021-05-11T03:10:11.344952",
     "status": "completed"
    },
    "tags": []
   },
   "outputs": [
    {
     "name": "stderr",
     "output_type": "stream",
     "text": [
      "WARNING:root:msh4 requires 3D points, but 2D points given. Appending 0 third component.\n"
     ]
    },
    {
     "name": "stderr",
     "output_type": "stream",
     "text": [
      "WARNING:root:Binary Gmsh needs c_size_t (got int64). Converting.\n"
     ]
    },
    {
     "name": "stdout",
     "output_type": "stream",
     "text": [
      "advection_p2b1cpt2_strong\n"
     ]
    },
    {
     "name": "stdout",
     "output_type": "stream",
     "text": [
      "-3.769e-16 &  -2.043e-02 & 4.402e-02  \\\\\n"
     ]
    }
   ],
   "source": [
    "import sys  \n",
    "import numpy as np\n",
    "sys.path.insert(0, '../src')\n",
    "from Driver import advection_driver\n",
    "\n",
    "solver = advection_driver(a=np.sqrt(2), theta=np.pi/4, p=p, M=M, L=L,\n",
    "                        p_geo=p_geo, c=c, \n",
    "                        discretization_type=discretization_type,\n",
    "                        upwind_parameter=upwind_parameter,\n",
    "                        form=form)"
   ]
  },
  {
   "cell_type": "code",
   "execution_count": null,
   "id": "f5e51343",
   "metadata": {
    "papermill": {
     "duration": 0.005713,
     "end_time": "2021-05-11T05:00:41.533122",
     "exception": false,
     "start_time": "2021-05-11T05:00:41.527409",
     "status": "completed"
    },
    "tags": []
   },
   "outputs": [],
   "source": []
  }
 ],
 "metadata": {
  "celltoolbar": "Tags",
  "kernelspec": {
   "display_name": "Python 3",
   "language": "python",
   "name": "python3"
  },
  "language_info": {
   "codemirror_mode": {
    "name": "ipython",
    "version": 3
   },
   "file_extension": ".py",
   "mimetype": "text/x-python",
   "name": "python",
   "nbconvert_exporter": "python",
   "pygments_lexer": "ipython3",
   "version": "3.8.5"
  },
  "papermill": {
   "default_parameters": {},
   "duration": 6632.289113,
   "end_time": "2021-05-11T05:00:42.047426",
   "environment_variables": {},
   "exception": null,
   "input_path": "advection_driver.ipynb",
   "output_path": "advection_p2b1cpt2_strong.ipynb",
   "parameters": {
    "c": "c_+",
    "discretization_type": 2,
    "form": "strong",
    "p": 2,
    "p_geo": 1,
    "upwind_parameter": 1.0
   },
   "start_time": "2021-05-11T03:10:09.758313",
   "version": "2.3.3"
  }
 },
 "nbformat": 4,
 "nbformat_minor": 5
}