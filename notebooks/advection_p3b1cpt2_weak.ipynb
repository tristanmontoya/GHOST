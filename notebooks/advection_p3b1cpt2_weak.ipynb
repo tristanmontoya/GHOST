{
 "cells": [
  {
   "cell_type": "markdown",
   "id": "35c9affd",
   "metadata": {
    "papermill": {
     "duration": 0.003335,
     "end_time": "2021-10-27T13:32:59.682991",
     "exception": false,
     "start_time": "2021-10-27T13:32:59.679656",
     "status": "completed"
    },
    "tags": []
   },
   "source": [
    "# GHOST driver - linear advection equation"
   ]
  },
  {
   "cell_type": "code",
   "execution_count": 1,
   "id": "2711f3b6",
   "metadata": {
    "execution": {
     "iopub.execute_input": "2021-10-27T13:32:59.693914Z",
     "iopub.status.busy": "2021-10-27T13:32:59.693447Z",
     "iopub.status.idle": "2021-10-27T13:32:59.695764Z",
     "shell.execute_reply": "2021-10-27T13:32:59.696129Z"
    },
    "papermill": {
     "duration": 0.010331,
     "end_time": "2021-10-27T13:32:59.696301",
     "exception": false,
     "start_time": "2021-10-27T13:32:59.685970",
     "status": "completed"
    },
    "tags": [
     "parameters"
    ]
   },
   "outputs": [],
   "source": [
    "p=2\n",
    "M=8\n",
    "L=1\n",
    "p_map=1\n",
    "c=\"c_+\"\n",
    "discretization_type=1\n",
    "upwind_parameter=0.0\n",
    "form=\"weak\""
   ]
  },
  {
   "cell_type": "code",
   "execution_count": 2,
   "id": "7be11410",
   "metadata": {
    "execution": {
     "iopub.execute_input": "2021-10-27T13:32:59.707396Z",
     "iopub.status.busy": "2021-10-27T13:32:59.706939Z",
     "iopub.status.idle": "2021-10-27T13:32:59.709233Z",
     "shell.execute_reply": "2021-10-27T13:32:59.708846Z"
    },
    "papermill": {
     "duration": 0.009582,
     "end_time": "2021-10-27T13:32:59.709331",
     "exception": false,
     "start_time": "2021-10-27T13:32:59.699749",
     "status": "completed"
    },
    "tags": [
     "injected-parameters"
    ]
   },
   "outputs": [],
   "source": [
    "# Parameters\n",
    "p = 3\n",
    "p_map = 1\n",
    "upwind_parameter = 1.0\n",
    "c = \"c_+\"\n",
    "discretization_type = 2\n",
    "form = \"weak\"\n"
   ]
  },
  {
   "cell_type": "code",
   "execution_count": 3,
   "id": "a7da72a7",
   "metadata": {
    "execution": {
     "iopub.execute_input": "2021-10-27T13:32:59.721103Z",
     "iopub.status.busy": "2021-10-27T13:32:59.720643Z",
     "iopub.status.idle": "2021-10-27T14:08:19.095697Z",
     "shell.execute_reply": "2021-10-27T14:08:19.094967Z"
    },
    "papermill": {
     "duration": 2119.383556,
     "end_time": "2021-10-27T14:08:19.095946",
     "exception": false,
     "start_time": "2021-10-27T13:32:59.712390",
     "status": "completed"
    },
    "tags": []
   },
   "outputs": [
    {
     "name": "stderr",
     "output_type": "stream",
     "text": [
      "Matplotlib created a temporary config/cache directory at /tmp/matplotlib-r_hehkm8 because the default path (/home/z/zingg/tmontoya/.config/matplotlib) is not a writable directory; it is highly recommended to set the MPLCONFIGDIR environment variable to a writable directory, in particular to speed up the import of Matplotlib and to better support multiprocessing.\n"
     ]
    },
    {
     "name": "stdout",
     "output_type": "stream",
     "text": [
      "advection_p3b1cpt2_weak\n"
     ]
    }
   ],
   "source": [
    "import sys  \n",
    "import numpy as np\n",
    "sys.path.insert(0, '../src')\n",
    "from Driver import advection_driver\n",
    "\n",
    "solver = advection_driver(a=np.sqrt(2), theta=np.pi/4, p=p, M=M, L=L,\n",
    "                        p_map=p_map, c=c, \n",
    "                        discretization_type=discretization_type,\n",
    "                        upwind_parameter=upwind_parameter,\n",
    "                        new_mesh=False,form=form,restart=True,run=True)"
   ]
  }
 ],
 "metadata": {
  "celltoolbar": "Tags",
  "interpreter": {
   "hash": "8a4c5cff9d1eb01f6f91880bd866b35b24d8468d7e92aa7ef6f6962744ecb1db"
  },
  "kernelspec": {
   "display_name": "Python 3.9.5 64-bit ('base': conda)",
   "name": "python3"
  },
  "language_info": {
   "codemirror_mode": {
    "name": "ipython",
    "version": 3
   },
   "file_extension": ".py",
   "mimetype": "text/x-python",
   "name": "python",
   "nbconvert_exporter": "python",
   "pygments_lexer": "ipython3",
   "version": "3.8.5"
  },
  "papermill": {
   "default_parameters": {},
   "duration": 2121.524309,
   "end_time": "2021-10-27T14:08:19.508115",
   "environment_variables": {},
   "exception": null,
   "input_path": "advection_driver.ipynb",
   "output_path": "advection_p3b1cpt2_weak.ipynb",
   "parameters": {
    "c": "c_+",
    "discretization_type": 2,
    "form": "weak",
    "p": 3,
    "p_map": 1,
    "upwind_parameter": 1.0
   },
   "start_time": "2021-10-27T13:32:57.983806",
   "version": "2.3.3"
  }
 },
 "nbformat": 4,
 "nbformat_minor": 5
}