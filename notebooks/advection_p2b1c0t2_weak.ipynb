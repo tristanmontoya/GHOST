{
 "cells": [
  {
   "cell_type": "code",
   "execution_count": 1,
   "id": "b11e9338",
   "metadata": {
    "execution": {
     "iopub.execute_input": "2021-05-11T03:10:10.822231Z",
     "iopub.status.busy": "2021-05-11T03:10:10.821596Z",
     "iopub.status.idle": "2021-05-11T03:10:10.824882Z",
     "shell.execute_reply": "2021-05-11T03:10:10.825341Z"
    },
    "papermill": {
     "duration": 0.020648,
     "end_time": "2021-05-11T03:10:10.825585",
     "exception": false,
     "start_time": "2021-05-11T03:10:10.804937",
     "status": "completed"
    },
    "tags": [
     "parameters"
    ]
   },
   "outputs": [],
   "source": [
    "p=2\n",
    "M=10\n",
    "L=1\n",
    "p_geo=1\n",
    "c=\"c_dg\"\n",
    "discretization_type=1\n",
    "upwind_parameter=1.0\n",
    "form=\"strong\""
   ]
  },
  {
   "cell_type": "code",
   "execution_count": 2,
   "id": "e7770726",
   "metadata": {
    "execution": {
     "iopub.execute_input": "2021-05-11T03:10:10.840404Z",
     "iopub.status.busy": "2021-05-11T03:10:10.839817Z",
     "iopub.status.idle": "2021-05-11T03:10:10.843083Z",
     "shell.execute_reply": "2021-05-11T03:10:10.842507Z"
    },
    "papermill": {
     "duration": 0.012635,
     "end_time": "2021-05-11T03:10:10.843205",
     "exception": false,
     "start_time": "2021-05-11T03:10:10.830570",
     "status": "completed"
    },
    "tags": [
     "injected-parameters"
    ]
   },
   "outputs": [],
   "source": [
    "# Parameters\n",
    "p = 2\n",
    "p_geo = 1\n",
    "upwind_parameter = 1.0\n",
    "c = \"c_dg\"\n",
    "discretization_type = 2\n",
    "form = \"weak\"\n"
   ]
  },
  {
   "cell_type": "code",
   "execution_count": 3,
   "id": "6e62de42",
   "metadata": {
    "execution": {
     "iopub.execute_input": "2021-05-11T03:10:10.861161Z",
     "iopub.status.busy": "2021-05-11T03:10:10.860200Z",
     "iopub.status.idle": "2021-05-11T04:31:19.976210Z",
     "shell.execute_reply": "2021-05-11T04:31:19.975351Z"
    },
    "papermill": {
     "duration": 4869.127973,
     "end_time": "2021-05-11T04:31:19.976426",
     "exception": false,
     "start_time": "2021-05-11T03:10:10.848453",
     "status": "completed"
    },
    "tags": []
   },
   "outputs": [
    {
     "name": "stderr",
     "output_type": "stream",
     "text": [
      "WARNING:root:msh4 requires 3D points, but 2D points given. Appending 0 third component.\n"
     ]
    },
    {
     "name": "stderr",
     "output_type": "stream",
     "text": [
      "WARNING:root:Binary Gmsh needs c_size_t (got int64). Converting.\n"
     ]
    },
    {
     "name": "stdout",
     "output_type": "stream",
     "text": [
      "advection_p2b1c0t2_weak\n"
     ]
    },
    {
     "name": "stdout",
     "output_type": "stream",
     "text": [
      "-3.495e-16 &  -2.228e-03 & 9.777e-03  \\\\\n"
     ]
    }
   ],
   "source": [
    "import sys  \n",
    "import numpy as np\n",
    "sys.path.insert(0, '../src')\n",
    "from Driver import advection_driver\n",
    "\n",
    "solver = advection_driver(a=np.sqrt(2), theta=np.pi/4, p=p, M=M, L=L,\n",
    "                        p_geo=p_geo, c=c, \n",
    "                        discretization_type=discretization_type,\n",
    "                        upwind_parameter=upwind_parameter,\n",
    "                        form=form)"
   ]
  },
  {
   "cell_type": "code",
   "execution_count": null,
   "id": "614cf87e",
   "metadata": {
    "papermill": {
     "duration": 0.008552,
     "end_time": "2021-05-11T04:31:19.994016",
     "exception": false,
     "start_time": "2021-05-11T04:31:19.985464",
     "status": "completed"
    },
    "tags": []
   },
   "outputs": [],
   "source": []
  }
 ],
 "metadata": {
  "celltoolbar": "Tags",
  "kernelspec": {
   "display_name": "Python 3",
   "language": "python",
   "name": "python3"
  },
  "language_info": {
   "codemirror_mode": {
    "name": "ipython",
    "version": 3
   },
   "file_extension": ".py",
   "mimetype": "text/x-python",
   "name": "python",
   "nbconvert_exporter": "python",
   "pygments_lexer": "ipython3",
   "version": "3.8.5"
  },
  "papermill": {
   "default_parameters": {},
   "duration": 4871.910652,
   "end_time": "2021-05-11T04:31:21.510892",
   "environment_variables": {},
   "exception": null,
   "input_path": "advection_driver.ipynb",
   "output_path": "advection_p2b1c0t2_weak.ipynb",
   "parameters": {
    "c": "c_dg",
    "discretization_type": 2,
    "form": "weak",
    "p": 2,
    "p_geo": 1,
    "upwind_parameter": 1.0
   },
   "start_time": "2021-05-11T03:10:09.600240",
   "version": "2.3.3"
  }
 },
 "nbformat": 4,
 "nbformat_minor": 5
}