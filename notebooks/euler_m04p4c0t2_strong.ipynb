{
 "cells": [
  {
   "cell_type": "markdown",
   "id": "6de18936",
   "metadata": {
    "papermill": {
     "duration": 0.003257,
     "end_time": "2021-12-11T03:48:25.458512",
     "exception": false,
     "start_time": "2021-12-11T03:48:25.455255",
     "status": "completed"
    },
    "tags": []
   },
   "source": [
    "# GHOST driver - Euler equations"
   ]
  },
  {
   "cell_type": "code",
   "execution_count": 1,
   "id": "49254e80",
   "metadata": {
    "execution": {
     "iopub.execute_input": "2021-12-11T03:48:25.467766Z",
     "iopub.status.busy": "2021-12-11T03:48:25.467307Z",
     "iopub.status.idle": "2021-12-11T03:48:25.469685Z",
     "shell.execute_reply": "2021-12-11T03:48:25.469243Z"
    },
    "papermill": {
     "duration": 0.008366,
     "end_time": "2021-12-11T03:48:25.469787",
     "exception": false,
     "start_time": "2021-12-11T03:48:25.461421",
     "status": "completed"
    },
    "tags": [
     "parameters"
    ]
   },
   "outputs": [],
   "source": [
    "mach_number=0.4\n",
    "p=2\n",
    "M=16\n",
    "L=10.0\n",
    "p_map=2\n",
    "c=\"c_dg\"\n",
    "discretization_type=1\n",
    "form=\"weak\""
   ]
  },
  {
   "cell_type": "code",
   "execution_count": 2,
   "id": "c0f14d7d",
   "metadata": {
    "execution": {
     "iopub.execute_input": "2021-12-11T03:48:25.478071Z",
     "iopub.status.busy": "2021-12-11T03:48:25.477619Z",
     "iopub.status.idle": "2021-12-11T03:48:25.479304Z",
     "shell.execute_reply": "2021-12-11T03:48:25.479658Z"
    },
    "papermill": {
     "duration": 0.007162,
     "end_time": "2021-12-11T03:48:25.479772",
     "exception": false,
     "start_time": "2021-12-11T03:48:25.472610",
     "status": "completed"
    },
    "tags": [
     "injected-parameters"
    ]
   },
   "outputs": [],
   "source": [
    "# Parameters\n",
    "mach_number = 0.4\n",
    "p = 4\n",
    "p_map = 4\n",
    "c = \"c_dg\"\n",
    "discretization_type = 2\n",
    "form = \"strong\"\n"
   ]
  },
  {
   "cell_type": "code",
   "execution_count": 3,
   "id": "f61f8a1c",
   "metadata": {
    "execution": {
     "iopub.execute_input": "2021-12-11T03:48:25.488858Z",
     "iopub.status.busy": "2021-12-11T03:48:25.488409Z",
     "iopub.status.idle": "2021-12-11T03:48:46.902544Z",
     "shell.execute_reply": "2021-12-11T03:48:46.903231Z"
    },
    "papermill": {
     "duration": 21.420887,
     "end_time": "2021-12-11T03:48:46.903435",
     "exception": false,
     "start_time": "2021-12-11T03:48:25.482548",
     "status": "completed"
    },
    "tags": []
   },
   "outputs": [
    {
     "name": "stderr",
     "output_type": "stream",
     "text": [
      "Matplotlib created a temporary config/cache directory at /tmp/matplotlib-ihq9za5c because the default path (/home/z/zingg/tmontoya/.config/matplotlib) is not a writable directory; it is highly recommended to set the MPLCONFIGDIR environment variable to a writable directory, in particular to speed up the import of Matplotlib and to better support multiprocessing.\n"
     ]
    },
    {
     "name": "stdout",
     "output_type": "stream",
     "text": [
      "euler_m04p4c0t2_strong\n"
     ]
    },
    {
     "name": "stdout",
     "output_type": "stream",
     "text": [
      "loaded from time step  81458\n"
     ]
    }
   ],
   "source": [
    "import sys  \n",
    "import numpy as np\n",
    "sys.path.insert(0, '../src')\n",
    "from Driver import euler_driver\n",
    "\n",
    "solver = euler_driver(mach_number=mach_number, \n",
    "                      theta=np.pi/4,\n",
    "                        p=p, M=M, L=L,\n",
    "                        p_map=p_map, c=c, \n",
    "                        discretization_type=discretization_type,\n",
    "                        new_mesh=False,\n",
    "                        form=form, restart=True,run=True)"
   ]
  }
 ],
 "metadata": {
  "celltoolbar": "Tags",
  "interpreter": {
   "hash": "8a4c5cff9d1eb01f6f91880bd866b35b24d8468d7e92aa7ef6f6962744ecb1db"
  },
  "kernelspec": {
   "display_name": "Python 3.9.5 64-bit ('base': conda)",
   "name": "python3"
  },
  "language_info": {
   "codemirror_mode": {
    "name": "ipython",
    "version": 3
   },
   "file_extension": ".py",
   "mimetype": "text/x-python",
   "name": "python",
   "nbconvert_exporter": "python",
   "pygments_lexer": "ipython3",
   "version": "3.8.5"
  },
  "papermill": {
   "default_parameters": {},
   "duration": 22.875052,
   "end_time": "2021-12-11T03:48:47.318015",
   "environment_variables": {},
   "exception": null,
   "input_path": "euler_driver.ipynb",
   "output_path": "euler_m04p4c0t2_strong.ipynb",
   "parameters": {
    "c": "c_dg",
    "discretization_type": 2,
    "form": "strong",
    "mach_number": 0.4,
    "p": 4,
    "p_map": 4
   },
   "start_time": "2021-12-11T03:48:24.442963",
   "version": "2.3.3"
  }
 },
 "nbformat": 4,
 "nbformat_minor": 5
}