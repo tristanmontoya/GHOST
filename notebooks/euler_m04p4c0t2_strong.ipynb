{
 "cells": [
  {
   "cell_type": "markdown",
   "id": "806fe914",
   "metadata": {
    "papermill": {
     "duration": 0.003398,
     "end_time": "2021-12-07T23:55:29.452464",
     "exception": false,
     "start_time": "2021-12-07T23:55:29.449066",
     "status": "completed"
    },
    "tags": []
   },
   "source": [
    "# GHOST driver - Euler equations"
   ]
  },
  {
   "cell_type": "code",
   "execution_count": 1,
   "id": "c1ae21ca",
   "metadata": {
    "execution": {
     "iopub.execute_input": "2021-12-07T23:55:29.462672Z",
     "iopub.status.busy": "2021-12-07T23:55:29.462185Z",
     "iopub.status.idle": "2021-12-07T23:55:29.464812Z",
     "shell.execute_reply": "2021-12-07T23:55:29.464258Z"
    },
    "papermill": {
     "duration": 0.009218,
     "end_time": "2021-12-07T23:55:29.464920",
     "exception": false,
     "start_time": "2021-12-07T23:55:29.455702",
     "status": "completed"
    },
    "tags": [
     "parameters"
    ]
   },
   "outputs": [],
   "source": [
    "mach_number=0.4\n",
    "p=2\n",
    "M=16\n",
    "L=10.0\n",
    "p_map=2\n",
    "c=\"c_dg\"\n",
    "discretization_type=1\n",
    "form=\"weak\""
   ]
  },
  {
   "cell_type": "code",
   "execution_count": 2,
   "id": "e343c5af",
   "metadata": {
    "execution": {
     "iopub.execute_input": "2021-12-07T23:55:29.474126Z",
     "iopub.status.busy": "2021-12-07T23:55:29.473633Z",
     "iopub.status.idle": "2021-12-07T23:55:29.476148Z",
     "shell.execute_reply": "2021-12-07T23:55:29.475729Z"
    },
    "papermill": {
     "duration": 0.008121,
     "end_time": "2021-12-07T23:55:29.476245",
     "exception": false,
     "start_time": "2021-12-07T23:55:29.468124",
     "status": "completed"
    },
    "tags": [
     "injected-parameters"
    ]
   },
   "outputs": [],
   "source": [
    "# Parameters\n",
    "mach_number = 0.4\n",
    "p = 4\n",
    "p_map = 4\n",
    "c = \"c_dg\"\n",
    "discretization_type = 2\n",
    "form = \"strong\"\n"
   ]
  },
  {
   "cell_type": "code",
   "execution_count": null,
   "id": "052baa38",
   "metadata": {
    "papermill": {
     "duration": null,
     "end_time": null,
     "exception": false,
     "start_time": "2021-12-07T23:55:29.479307",
     "status": "running"
    },
    "tags": []
   },
   "outputs": [],
   "source": [
    "import sys  \n",
    "import numpy as np\n",
    "sys.path.insert(0, '../src')\n",
    "from Driver import euler_driver\n",
    "\n",
    "solver = euler_driver(mach_number=mach_number, \n",
    "                      theta=np.pi/4,\n",
    "                        p=p, M=M, L=L,\n",
    "                        p_map=p_map, c=c, \n",
    "                        discretization_type=discretization_type,\n",
    "                        new_mesh=False,\n",
    "                        form=form, restart=True,run=True)"
   ]
  }
 ],
 "metadata": {
  "celltoolbar": "Tags",
  "interpreter": {
   "hash": "8a4c5cff9d1eb01f6f91880bd866b35b24d8468d7e92aa7ef6f6962744ecb1db"
  },
  "kernelspec": {
   "display_name": "Python 3.9.5 64-bit ('base': conda)",
   "name": "python3"
  },
  "language_info": {
   "codemirror_mode": {
    "name": "ipython",
    "version": 3
   },
   "file_extension": ".py",
   "mimetype": "text/x-python",
   "name": "python",
   "nbconvert_exporter": "python",
   "pygments_lexer": "ipython3",
   "version": "3.9.5"
  },
  "papermill": {
   "default_parameters": {},
   "duration": null,
   "end_time": null,
   "environment_variables": {},
   "exception": null,
   "input_path": "euler_driver.ipynb",
   "output_path": "euler_m04p4c0t2_strong.ipynb",
   "parameters": {
    "c": "c_dg",
    "discretization_type": 2,
    "form": "strong",
    "mach_number": 0.4,
    "p": 4,
    "p_map": 4
   },
   "start_time": "2021-12-07T23:55:25.703202",
   "version": "2.3.3"
  }
 },
 "nbformat": 4,
 "nbformat_minor": 5
}