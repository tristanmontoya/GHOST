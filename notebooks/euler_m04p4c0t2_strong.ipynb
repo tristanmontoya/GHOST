{
 "cells": [
  {
   "cell_type": "code",
   "execution_count": 1,
   "id": "699e994d",
   "metadata": {
    "execution": {
     "iopub.execute_input": "2021-05-08T19:26:04.585875Z",
     "iopub.status.busy": "2021-05-08T19:26:04.585178Z",
     "iopub.status.idle": "2021-05-08T19:26:04.602858Z",
     "shell.execute_reply": "2021-05-08T19:26:04.602075Z"
    },
    "papermill": {
     "duration": 0.037281,
     "end_time": "2021-05-08T19:26:04.603010",
     "exception": false,
     "start_time": "2021-05-08T19:26:04.565729",
     "status": "completed"
    },
    "tags": [
     "parameters"
    ]
   },
   "outputs": [],
   "source": [
    "mach_number=0.4\n",
    "p=2\n",
    "M=11\n",
    "L=10.0\n",
    "p_geo=2\n",
    "c=\"c_dg\"\n",
    "discretization_type=1\n",
    "form=\"strong\""
   ]
  },
  {
   "cell_type": "code",
   "execution_count": 2,
   "id": "82205d87",
   "metadata": {
    "execution": {
     "iopub.execute_input": "2021-05-08T19:26:04.624449Z",
     "iopub.status.busy": "2021-05-08T19:26:04.623260Z",
     "iopub.status.idle": "2021-05-08T19:26:04.625050Z",
     "shell.execute_reply": "2021-05-08T19:26:04.623838Z"
    },
    "papermill": {
     "duration": 0.016879,
     "end_time": "2021-05-08T19:26:04.625180",
     "exception": false,
     "start_time": "2021-05-08T19:26:04.608301",
     "status": "completed"
    },
    "tags": [
     "injected-parameters"
    ]
   },
   "outputs": [],
   "source": [
    "# Parameters\n",
    "mach_number = 0.4\n",
    "p = 4\n",
    "p_geo = 4\n",
    "c = \"c_dg\"\n",
    "discretization_type = 2\n",
    "form = \"strong\"\n"
   ]
  },
  {
   "cell_type": "code",
   "execution_count": 3,
   "id": "460ed881",
   "metadata": {
    "execution": {
     "iopub.execute_input": "2021-05-08T19:26:04.648591Z",
     "iopub.status.busy": "2021-05-08T19:26:04.647915Z",
     "iopub.status.idle": "2021-05-10T08:01:21.535431Z",
     "shell.execute_reply": "2021-05-10T08:01:21.534282Z"
    },
    "papermill": {
     "duration": 131716.905665,
     "end_time": "2021-05-10T08:01:21.535664",
     "exception": false,
     "start_time": "2021-05-08T19:26:04.629999",
     "status": "completed"
    },
    "tags": []
   },
   "outputs": [
    {
     "name": "stderr",
     "output_type": "stream",
     "text": [
      "WARNING:root:msh4 requires 3D points, but 2D points given. Appending 0 third component.\n"
     ]
    },
    {
     "name": "stderr",
     "output_type": "stream",
     "text": [
      "WARNING:root:Binary Gmsh needs c_size_t (got int64). Converting.\n"
     ]
    },
    {
     "name": "stdout",
     "output_type": "stream",
     "text": [
      "running solver euler_m04p4c0t2_strong\n"
     ]
    },
    {
     "name": "stdout",
     "output_type": "stream",
     "text": [
      "5.684e-14 &  5.703e-02  \\\\\n",
      "-8.171e-14 &  8.960e-02  \\\\\n",
      "3.908e-13 &  1.182e-01  \\\\\n",
      "1.990e-13 &  8.311e-02  \\\\\n"
     ]
    }
   ],
   "source": [
    "import sys  \n",
    "sys.path.insert(0, '../src')\n",
    "from Driver import euler_driver\n",
    "\n",
    "solver = euler_driver(mach_number=mach_number, \n",
    "                        p=p, M=M, L=L,\n",
    "                        p_geo=p_geo, c=c, \n",
    "                        discretization_type=discretization_type,\n",
    "                        form=form)"
   ]
  },
  {
   "cell_type": "code",
   "execution_count": null,
   "id": "063c2904",
   "metadata": {
    "papermill": {
     "duration": 0.008189,
     "end_time": "2021-05-10T08:01:21.553083",
     "exception": false,
     "start_time": "2021-05-10T08:01:21.544894",
     "status": "completed"
    },
    "tags": []
   },
   "outputs": [],
   "source": []
  }
 ],
 "metadata": {
  "celltoolbar": "Tags",
  "kernelspec": {
   "display_name": "Python 3",
   "language": "python",
   "name": "python3"
  },
  "language_info": {
   "codemirror_mode": {
    "name": "ipython",
    "version": 3
   },
   "file_extension": ".py",
   "mimetype": "text/x-python",
   "name": "python",
   "nbconvert_exporter": "python",
   "pygments_lexer": "ipython3",
   "version": "3.8.5"
  },
  "papermill": {
   "default_parameters": {},
   "duration": 131719.895662,
   "end_time": "2021-05-10T08:01:23.088255",
   "environment_variables": {},
   "exception": null,
   "input_path": "euler_driver.ipynb",
   "output_path": "euler_m04p4c0t2_strong.ipynb",
   "parameters": {
    "c": "c_dg",
    "discretization_type": 2,
    "form": "strong",
    "mach_number": 0.4,
    "p": 4,
    "p_geo": 4
   },
   "start_time": "2021-05-08T19:26:03.192593",
   "version": "2.3.3"
  }
 },
 "nbformat": 4,
 "nbformat_minor": 5
}