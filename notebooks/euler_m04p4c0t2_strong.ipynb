{
 "cells": [
  {
   "cell_type": "markdown",
   "id": "0881734b",
   "metadata": {
    "papermill": {
     "duration": 0.003348,
     "end_time": "2021-12-03T07:51:04.591168",
     "exception": false,
     "start_time": "2021-12-03T07:51:04.587820",
     "status": "completed"
    },
    "tags": []
   },
   "source": [
    "# GHOST driver - Euler equations"
   ]
  },
  {
   "cell_type": "code",
   "execution_count": 1,
   "id": "614c435c",
   "metadata": {
    "execution": {
     "iopub.execute_input": "2021-12-03T07:51:04.601425Z",
     "iopub.status.busy": "2021-12-03T07:51:04.600945Z",
     "iopub.status.idle": "2021-12-03T07:51:04.602816Z",
     "shell.execute_reply": "2021-12-03T07:51:04.603264Z"
    },
    "papermill": {
     "duration": 0.009042,
     "end_time": "2021-12-03T07:51:04.603442",
     "exception": false,
     "start_time": "2021-12-03T07:51:04.594400",
     "status": "completed"
    },
    "tags": [
     "parameters"
    ]
   },
   "outputs": [],
   "source": [
    "mach_number=0.4\n",
    "p=2\n",
    "M=16\n",
    "L=10.0\n",
    "p_map=2\n",
    "c=\"c_dg\"\n",
    "discretization_type=1\n",
    "form=\"weak\""
   ]
  },
  {
   "cell_type": "code",
   "execution_count": 2,
   "id": "7193769f",
   "metadata": {
    "execution": {
     "iopub.execute_input": "2021-12-03T07:51:04.612615Z",
     "iopub.status.busy": "2021-12-03T07:51:04.612142Z",
     "iopub.status.idle": "2021-12-03T07:51:04.613892Z",
     "shell.execute_reply": "2021-12-03T07:51:04.614271Z"
    },
    "papermill": {
     "duration": 0.00778,
     "end_time": "2021-12-03T07:51:04.614382",
     "exception": false,
     "start_time": "2021-12-03T07:51:04.606602",
     "status": "completed"
    },
    "tags": [
     "injected-parameters"
    ]
   },
   "outputs": [],
   "source": [
    "# Parameters\n",
    "mach_number = 0.4\n",
    "p = 4\n",
    "p_map = 4\n",
    "c = \"c_dg\"\n",
    "discretization_type = 2\n",
    "form = \"strong\"\n"
   ]
  },
  {
   "cell_type": "code",
   "execution_count": null,
   "id": "cf1d2b34",
   "metadata": {
    "papermill": {
     "duration": null,
     "end_time": null,
     "exception": false,
     "start_time": "2021-12-03T07:51:04.617416",
     "status": "running"
    },
    "tags": []
   },
   "outputs": [],
   "source": [
    "import sys  \n",
    "import numpy as np\n",
    "sys.path.insert(0, '../src')\n",
    "from Driver import euler_driver\n",
    "\n",
    "solver = euler_driver(mach_number=mach_number, \n",
    "                      theta=np.pi/4,\n",
    "                        p=p, M=M, L=L,\n",
    "                        p_map=p_map, c=c, \n",
    "                        discretization_type=discretization_type,\n",
    "                        new_mesh=False,\n",
    "                        form=form, restart=True,run=True)"
   ]
  }
 ],
 "metadata": {
  "celltoolbar": "Tags",
  "interpreter": {
   "hash": "8a4c5cff9d1eb01f6f91880bd866b35b24d8468d7e92aa7ef6f6962744ecb1db"
  },
  "kernelspec": {
   "display_name": "Python 3.9.5 64-bit ('base': conda)",
   "name": "python3"
  },
  "language_info": {
   "codemirror_mode": {
    "name": "ipython",
    "version": 3
   },
   "file_extension": ".py",
   "mimetype": "text/x-python",
   "name": "python",
   "nbconvert_exporter": "python",
   "pygments_lexer": "ipython3",
   "version": "3.9.5"
  },
  "papermill": {
   "default_parameters": {},
   "duration": null,
   "end_time": null,
   "environment_variables": {},
   "exception": null,
   "input_path": "euler_driver.ipynb",
   "output_path": "euler_m04p4c0t2_strong.ipynb",
   "parameters": {
    "c": "c_dg",
    "discretization_type": 2,
    "form": "strong",
    "mach_number": 0.4,
    "p": 4,
    "p_map": 4
   },
   "start_time": "2021-12-03T07:51:01.067617",
   "version": "2.3.3"
  }
 },
 "nbformat": 4,
 "nbformat_minor": 5
}