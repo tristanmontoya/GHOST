{
 "cells": [
  {
   "cell_type": "code",
   "execution_count": 1,
   "metadata": {
    "scrolled": true
   },
   "outputs": [],
   "source": [
    "# GHOST - Advection Test (1D)\n",
    "\n",
    "import sys  \n",
    "import numpy as np\n",
    "import modepy as mp\n",
    "sys.path.insert(0, '../src')\n",
    "from Mesh import Mesh1D\n",
    "from Discretization import SpatialDiscretization\n",
    "from Solver import Solver\n",
    "\n",
    "\n",
    "# discretization order\n",
    "p = 4\n",
    "\n",
    "# mapping degree\n",
    "p_geo = p\n",
    "\n",
    "# volume collocation degree\n",
    "p_omega = 2*p\n",
    "\n",
    "# set up periodic mesh\n",
    "mesh = Mesh1D(\"mesh1d\", 0.0, 1.0, 4)\n",
    "left = [1.0, 0.0]\n",
    "right = [1.0, 1.0]\n",
    "mesh.add_bc_on_hyperplanes([left,right],[1,2])\n",
    "mesh.make_periodic([1,2])\n",
    "\n",
    "mesh.map_mesh(f_map=Mesh1D.grid_transformation(warp_factor=0.2),\n",
    "              p_geo=p_geo)\n",
    "\n",
    "# solver parameters\n",
    "params1 = {\"project_title\": \"adv_test_1d\",\n",
    "         \"problem\": \"constant_advection\",\n",
    "         \"initial_condition\": \"sine\",\n",
    "         \"wavelength\": np.array([1.0]),\n",
    "         \"wave_speed\": np.ones(1),\n",
    "         \"upwind_parameter\": 1.0,\n",
    "         \"integration_type\": \"collocation\",\n",
    "         \"solution_degree\": p,\n",
    "         \"volume_collocation_degree\": p,\n",
    "         \"form\": \"strong\",\n",
    "         \"solution_representation\": \"modal\",\n",
    "         \"time_integrator\": \"rk44\",\n",
    "         \"final_time\": 1.0,\n",
    "         \"time_step_scale\": 0.1}\n",
    "\n",
    "# set up solver\n",
    "solver1 = Solver(params1,mesh)\n",
    "\n",
    "# solver parameters\n",
    "params2 = {\"project_title\": \"adv_test_1d\",\n",
    "         \"problem\": \"constant_advection\",\n",
    "         \"initial_condition\": \"sine\",\n",
    "         \"wavelength\": np.array([1.0]),\n",
    "         \"wave_speed\": np.ones(1),\n",
    "         \"upwind_parameter\": 1.0,\n",
    "         \"integration_type\": \"collocation\",\n",
    "         \"solution_degree\": p,\n",
    "         \"volume_collocation_degree\": 2*p,\n",
    "         \"form\": \"strong\",\n",
    "         \"solution_representation\": \"modal\",\n",
    "         \"time_integrator\": \"rk44\",\n",
    "         \"final_time\": 1.0,\n",
    "         \"time_step_scale\": 0.1}\n",
    "\n",
    "# set up solver\n",
    "solver2 = Solver(params2,mesh)"
   ]
  },
  {
   "cell_type": "code",
   "execution_count": 2,
   "metadata": {},
   "outputs": [],
   "source": [
    "uhat_0 = solver1.project_function(solver1.u_0)"
   ]
  },
  {
   "cell_type": "code",
   "execution_count": 3,
   "metadata": {},
   "outputs": [
    {
     "data": {
      "text/plain": [
       "[array([[-2.09767767,  5.13570365,  0.50108951, -0.40575322, -0.00955731]]),\n",
       " array([[ 7.09256476, -1.43886853, -1.03512634,  0.1717008 ,  0.01265199]]),\n",
       " array([[-2.84665981, -2.81208495,  0.35871374,  0.01719736,  0.0031313 ]]),\n",
       " array([[-8.28527400e+00, -5.47367318e-01,  1.73825556e-01,\n",
       "         -1.84615431e-02, -5.96225164e-03]])]"
      ]
     },
     "execution_count": 3,
     "metadata": {},
     "output_type": "execute_result"
    }
   ],
   "source": [
    "solver1.R(uhat_0,0.0)"
   ]
  },
  {
   "cell_type": "code",
   "execution_count": 4,
   "metadata": {},
   "outputs": [
    {
     "data": {
      "text/plain": [
       "[array([[-2.09767659,  5.13573563,  0.50120216, -0.40160406, -0.00943515]]),\n",
       " array([[ 7.09256364, -1.43889096, -1.03534318,  0.16861434,  0.0123831 ]]),\n",
       " array([[-2.84665826, -2.81207382,  0.35876064,  0.01720092,  0.00314063]]),\n",
       " array([[-8.28527298e+00, -5.47399823e-01,  1.73650648e-01,\n",
       "         -1.81298318e-02, -5.96480579e-03]])]"
      ]
     },
     "execution_count": 4,
     "metadata": {},
     "output_type": "execute_result"
    }
   ],
   "source": [
    "solver2.R(uhat_0,0.0)"
   ]
  },
  {
   "cell_type": "code",
   "execution_count": 5,
   "metadata": {},
   "outputs": [
    {
     "data": {
      "text/plain": [
       "[array([[ 7.07106781e-02,  3.84980359e-01,  5.02831489e-01,\n",
       "          3.84980359e-01,  7.07106781e-02],\n",
       "        [-1.22474487e-01, -4.36526695e-01, -1.49204180e-17,\n",
       "          4.36526695e-01,  1.22474487e-01],\n",
       "        [ 1.58113883e-01,  1.22977465e-01, -5.62182695e-01,\n",
       "          1.22977465e-01,  1.58113883e-01],\n",
       "        [-1.87082869e-01,  2.85773803e-01, -8.00389101e-18,\n",
       "         -2.85773803e-01,  1.87082869e-01],\n",
       "        [ 9.42809042e-02, -2.19988776e-01,  2.51415744e-01,\n",
       "         -2.19988776e-01,  9.42809042e-02]])]"
      ]
     },
     "execution_count": 5,
     "metadata": {},
     "output_type": "execute_result"
    }
   ],
   "source": [
    "solver1.discretization.P"
   ]
  },
  {
   "cell_type": "code",
   "execution_count": 6,
   "metadata": {},
   "outputs": [
    {
     "data": {
      "text/plain": [
       "[array([[ 1.96418550e-02,  1.17022892e-01,  1.94128185e-01,\n",
       "          2.44961949e-01,  2.62703798e-01,  2.44961949e-01,\n",
       "          1.94128185e-01,  1.17022892e-01,  1.96418550e-02],\n",
       "        [-3.40206909e-02, -1.82371584e-01, -2.27697033e-01,\n",
       "         -1.54065853e-01, -3.69867548e-17,  1.54065853e-01,\n",
       "          2.27697033e-01,  1.82371584e-01,  3.40206909e-02],\n",
       "        [ 4.39205231e-02,  1.86923911e-01,  8.15521456e-02,\n",
       "         -1.65540692e-01, -2.93711775e-01, -1.65540692e-01,\n",
       "          8.15521456e-02,  1.86923911e-01,  4.39205231e-02],\n",
       "        [-5.19674637e-02, -1.45949692e-01,  1.22968180e-01,\n",
       "          2.75432916e-01, -2.57854354e-16, -2.75432916e-01,\n",
       "         -1.22968180e-01,  1.45949692e-01,  5.19674637e-02],\n",
       "        [ 5.89255651e-02,  7.24903045e-02, -2.47298739e-01,\n",
       "         -3.18880170e-02,  2.95541773e-01, -3.18880170e-02,\n",
       "         -2.47298739e-01,  7.24903045e-02,  5.89255651e-02]])]"
      ]
     },
     "execution_count": 6,
     "metadata": {},
     "output_type": "execute_result"
    }
   ],
   "source": [
    "solver2.discretization.P"
   ]
  },
  {
   "cell_type": "code",
   "execution_count": 7,
   "metadata": {},
   "outputs": [
    {
     "name": "stdout",
     "output_type": "stream",
     "text": [
      "dt =  0.002777777777777778\n"
     ]
    },
    {
     "data": {
      "image/png": "[encoded data removed]",
      "text/plain": [
       "<Figure size 432x288 with 1 Axes>"
      ]
     },
     "metadata": {
      "needs_background": "light"
     },
     "output_type": "display_data"
    }
   ],
   "source": [
    "solver1.run()\n",
    "solver1.post_process()\n",
    "solver1.plot(plot_numerical=True, plot_exact=True, plot_nodes=True)"
   ]
  },
  {
   "cell_type": "code",
   "execution_count": 8,
   "metadata": {},
   "outputs": [
    {
     "name": "stdout",
     "output_type": "stream",
     "text": [
      "dt =  0.002777777777777778\n"
     ]
    },
    {
     "data": {
      "image/png": "[encoded data removed]",
      "text/plain": [
       "<Figure size 432x288 with 1 Axes>"
      ]
     },
     "metadata": {
      "needs_background": "light"
     },
     "output_type": "display_data"
    }
   ],
   "source": [
    "solver2.run()\n",
    "solver2.post_process()\n",
    "solver2.plot(plot_numerical=True, plot_exact=True, plot_nodes=True)"
   ]
  },
  {
   "cell_type": "code",
   "execution_count": 9,
   "metadata": {},
   "outputs": [
    {
     "data": {
      "text/plain": [
       "array([[ 1.02860599,  0.27634326, -0.27542161, -0.01210707,  0.01065472]])"
      ]
     },
     "execution_count": 9,
     "metadata": {},
     "output_type": "execute_result"
    }
   ],
   "source": [
    "solver1.u_hat[0]"
   ]
  },
  {
   "cell_type": "code",
   "execution_count": 10,
   "metadata": {},
   "outputs": [
    {
     "data": {
      "text/plain": [
       "array([[ 1.02846886,  0.27625288, -0.27530455, -0.01201231,  0.01066256]])"
      ]
     },
     "execution_count": 10,
     "metadata": {},
     "output_type": "execute_result"
    }
   ],
   "source": [
    "solver2.u_hat[0]"
   ]
  },
  {
   "cell_type": "code",
   "execution_count": null,
   "metadata": {},
   "outputs": [],
   "source": []
  }
 ],
 "metadata": {
  "kernelspec": {
   "display_name": "Python 3",
   "language": "python",
   "name": "python3"
  },
  "language_info": {
   "codemirror_mode": {
    "name": "ipython",
    "version": 3
   },
   "file_extension": ".py",
   "mimetype": "text/x-python",
   "name": "python",
   "nbconvert_exporter": "python",
   "pygments_lexer": "ipython3",
   "version": "3.7.9"
  }
 },
 "nbformat": 4,
 "nbformat_minor": 4
}
