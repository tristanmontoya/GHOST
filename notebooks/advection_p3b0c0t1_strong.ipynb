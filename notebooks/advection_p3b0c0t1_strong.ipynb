{
 "cells": [
  {
   "cell_type": "code",
   "execution_count": 1,
   "id": "5ae6e7b8",
   "metadata": {
    "execution": {
     "iopub.execute_input": "2021-05-11T05:21:33.903419Z",
     "iopub.status.busy": "2021-05-11T05:21:33.902794Z",
     "iopub.status.idle": "2021-05-11T05:21:33.906572Z",
     "shell.execute_reply": "2021-05-11T05:21:33.905801Z"
    },
    "papermill": {
     "duration": 0.019615,
     "end_time": "2021-05-11T05:21:33.906734",
     "exception": false,
     "start_time": "2021-05-11T05:21:33.887119",
     "status": "completed"
    },
    "tags": [
     "parameters"
    ]
   },
   "outputs": [],
   "source": [
    "p=2\n",
    "M=10\n",
    "L=1\n",
    "p_geo=1\n",
    "c=\"c_dg\"\n",
    "discretization_type=1\n",
    "upwind_parameter=1.0\n",
    "form=\"strong\""
   ]
  },
  {
   "cell_type": "code",
   "execution_count": 2,
   "id": "1738fc8a",
   "metadata": {
    "execution": {
     "iopub.execute_input": "2021-05-11T05:21:33.921360Z",
     "iopub.status.busy": "2021-05-11T05:21:33.920716Z",
     "iopub.status.idle": "2021-05-11T05:21:33.923804Z",
     "shell.execute_reply": "2021-05-11T05:21:33.923034Z"
    },
    "papermill": {
     "duration": 0.01198,
     "end_time": "2021-05-11T05:21:33.923943",
     "exception": false,
     "start_time": "2021-05-11T05:21:33.911963",
     "status": "completed"
    },
    "tags": [
     "injected-parameters"
    ]
   },
   "outputs": [],
   "source": [
    "# Parameters\n",
    "p = 3\n",
    "p_geo = 1\n",
    "upwind_parameter = 0.0\n",
    "c = \"c_dg\"\n",
    "discretization_type = 1\n",
    "form = \"strong\"\n"
   ]
  },
  {
   "cell_type": "code",
   "execution_count": 3,
   "id": "3f1849c6",
   "metadata": {
    "execution": {
     "iopub.execute_input": "2021-05-11T05:21:33.938683Z",
     "iopub.status.busy": "2021-05-11T05:21:33.938036Z",
     "iopub.status.idle": "2021-05-11T07:54:03.679473Z",
     "shell.execute_reply": "2021-05-11T07:54:03.679976Z"
    },
    "papermill": {
     "duration": 9149.751328,
     "end_time": "2021-05-11T07:54:03.680179",
     "exception": false,
     "start_time": "2021-05-11T05:21:33.928851",
     "status": "completed"
    },
    "tags": []
   },
   "outputs": [
    {
     "name": "stderr",
     "output_type": "stream",
     "text": [
      "WARNING:root:msh4 requires 3D points, but 2D points given. Appending 0 third component.\n"
     ]
    },
    {
     "name": "stderr",
     "output_type": "stream",
     "text": [
      "WARNING:root:Binary Gmsh needs c_size_t (got int64). Converting.\n"
     ]
    },
    {
     "name": "stdout",
     "output_type": "stream",
     "text": [
      "advection_p3b0c0t1_strong\n"
     ]
    },
    {
     "name": "stdout",
     "output_type": "stream",
     "text": [
      "-2.035e-16 &  1.499e-15 & 4.543e-03  \\\\\n"
     ]
    }
   ],
   "source": [
    "import sys  \n",
    "import numpy as np\n",
    "sys.path.insert(0, '../src')\n",
    "from Driver import advection_driver\n",
    "\n",
    "solver = advection_driver(a=np.sqrt(2), theta=np.pi/4, p=p, M=M, L=L,\n",
    "                        p_geo=p_geo, c=c, \n",
    "                        discretization_type=discretization_type,\n",
    "                        upwind_parameter=upwind_parameter,\n",
    "                        form=form)"
   ]
  },
  {
   "cell_type": "code",
   "execution_count": null,
   "id": "2d27cbbd",
   "metadata": {
    "papermill": {
     "duration": 0.005747,
     "end_time": "2021-05-11T07:54:03.692078",
     "exception": false,
     "start_time": "2021-05-11T07:54:03.686331",
     "status": "completed"
    },
    "tags": []
   },
   "outputs": [],
   "source": []
  }
 ],
 "metadata": {
  "celltoolbar": "Tags",
  "kernelspec": {
   "display_name": "Python 3",
   "language": "python",
   "name": "python3"
  },
  "language_info": {
   "codemirror_mode": {
    "name": "ipython",
    "version": 3
   },
   "file_extension": ".py",
   "mimetype": "text/x-python",
   "name": "python",
   "nbconvert_exporter": "python",
   "pygments_lexer": "ipython3",
   "version": "3.8.5"
  },
  "papermill": {
   "default_parameters": {},
   "duration": 9151.451143,
   "end_time": "2021-05-11T07:54:04.206721",
   "environment_variables": {},
   "exception": null,
   "input_path": "advection_driver.ipynb",
   "output_path": "advection_p3b0c0t1_strong.ipynb",
   "parameters": {
    "c": "c_dg",
    "discretization_type": 1,
    "form": "strong",
    "p": 3,
    "p_geo": 1,
    "upwind_parameter": 0.0
   },
   "start_time": "2021-05-11T05:21:32.755578",
   "version": "2.3.3"
  }
 },
 "nbformat": 4,
 "nbformat_minor": 5
}