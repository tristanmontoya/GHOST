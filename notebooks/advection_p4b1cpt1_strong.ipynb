{
 "cells": [
  {
   "cell_type": "code",
   "execution_count": 1,
   "id": "5ce154ae",
   "metadata": {
    "execution": {
     "iopub.execute_input": "2021-05-14T14:12:18.001289Z",
     "iopub.status.busy": "2021-05-14T14:12:18.000625Z",
     "iopub.status.idle": "2021-05-14T14:12:18.003041Z",
     "shell.execute_reply": "2021-05-14T14:12:18.003873Z"
    },
    "papermill": {
     "duration": 0.021971,
     "end_time": "2021-05-14T14:12:18.004149",
     "exception": false,
     "start_time": "2021-05-14T14:12:17.982178",
     "status": "completed"
    },
    "tags": [
     "parameters"
    ]
   },
   "outputs": [],
   "source": [
    "p=2\n",
    "M=10\n",
    "L=1\n",
    "p_geo=1\n",
    "c=\"c_dg\"\n",
    "discretization_type=1\n",
    "upwind_parameter=1.0\n",
    "form=\"strong\""
   ]
  },
  {
   "cell_type": "code",
   "execution_count": 2,
   "id": "c7f09b2a",
   "metadata": {
    "execution": {
     "iopub.execute_input": "2021-05-14T14:12:18.063934Z",
     "iopub.status.busy": "2021-05-14T14:12:18.059032Z",
     "iopub.status.idle": "2021-05-14T14:12:18.064552Z",
     "shell.execute_reply": "2021-05-14T14:12:18.063272Z"
    },
    "papermill": {
     "duration": 0.055444,
     "end_time": "2021-05-14T14:12:18.064700",
     "exception": false,
     "start_time": "2021-05-14T14:12:18.009256",
     "status": "completed"
    },
    "tags": [
     "injected-parameters"
    ]
   },
   "outputs": [],
   "source": [
    "# Parameters\n",
    "p = 4\n",
    "p_geo = 1\n",
    "upwind_parameter = 1.0\n",
    "c = \"c_+\"\n",
    "discretization_type = 1\n",
    "form = \"strong\"\n"
   ]
  },
  {
   "cell_type": "code",
   "execution_count": 3,
   "id": "07275bff",
   "metadata": {
    "execution": {
     "iopub.execute_input": "2021-05-14T14:12:18.092358Z",
     "iopub.status.busy": "2021-05-14T14:12:18.091677Z",
     "iopub.status.idle": "2021-05-14T17:30:21.237905Z",
     "shell.execute_reply": "2021-05-14T17:30:21.238438Z"
    },
    "papermill": {
     "duration": 11883.162178,
     "end_time": "2021-05-14T17:30:21.238682",
     "exception": false,
     "start_time": "2021-05-14T14:12:18.076504",
     "status": "completed"
    },
    "tags": []
   },
   "outputs": [
    {
     "name": "stderr",
     "output_type": "stream",
     "text": [
      "WARNING:root:msh4 requires 3D points, but 2D points given. Appending 0 third component.\n"
     ]
    },
    {
     "name": "stderr",
     "output_type": "stream",
     "text": [
      "WARNING:root:Binary Gmsh needs c_size_t (got int64). Converting.\n"
     ]
    },
    {
     "name": "stdout",
     "output_type": "stream",
     "text": [
      "advection_p4b1cpt1_strong\n"
     ]
    },
    {
     "name": "stdout",
     "output_type": "stream",
     "text": [
      "-9.053e-17 &  -9.014e-06 & 4.405e-04  \\\\\n"
     ]
    }
   ],
   "source": [
    "import sys  \n",
    "import numpy as np\n",
    "sys.path.insert(0, '../src')\n",
    "from Driver import advection_driver\n",
    "\n",
    "solver = advection_driver(a=np.sqrt(2), theta=np.pi/4, p=p, M=M, L=L,\n",
    "                        p_geo=p_geo, c=c, \n",
    "                        discretization_type=discretization_type,\n",
    "                        upwind_parameter=upwind_parameter,\n",
    "                        form=form)"
   ]
  },
  {
   "cell_type": "code",
   "execution_count": null,
   "id": "ea8b6628",
   "metadata": {
    "papermill": {
     "duration": 0.005721,
     "end_time": "2021-05-14T17:30:21.250542",
     "exception": false,
     "start_time": "2021-05-14T17:30:21.244821",
     "status": "completed"
    },
    "tags": []
   },
   "outputs": [],
   "source": []
  }
 ],
 "metadata": {
  "celltoolbar": "Tags",
  "kernelspec": {
   "display_name": "Python 3",
   "language": "python",
   "name": "python3"
  },
  "language_info": {
   "codemirror_mode": {
    "name": "ipython",
    "version": 3
   },
   "file_extension": ".py",
   "mimetype": "text/x-python",
   "name": "python",
   "nbconvert_exporter": "python",
   "pygments_lexer": "ipython3",
   "version": "3.8.5"
  },
  "papermill": {
   "default_parameters": {},
   "duration": 11885.357716,
   "end_time": "2021-05-14T17:30:21.764594",
   "environment_variables": {},
   "exception": null,
   "input_path": "advection_driver.ipynb",
   "output_path": "advection_p4b1cpt1_strong.ipynb",
   "parameters": {
    "c": "c_+",
    "discretization_type": 1,
    "form": "strong",
    "p": 4,
    "p_geo": 1,
    "upwind_parameter": 1.0
   },
   "start_time": "2021-05-14T14:12:16.406878",
   "version": "2.3.3"
  }
 },
 "nbformat": 4,
 "nbformat_minor": 5
}