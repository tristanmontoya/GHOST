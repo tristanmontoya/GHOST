{
 "cells": [
  {
   "cell_type": "code",
   "execution_count": 1,
   "id": "e86c9c96",
   "metadata": {
    "execution": {
     "iopub.execute_input": "2021-05-11T03:10:11.463416Z",
     "iopub.status.busy": "2021-05-11T03:10:11.462712Z",
     "iopub.status.idle": "2021-05-11T03:10:11.465409Z",
     "shell.execute_reply": "2021-05-11T03:10:11.464639Z"
    },
    "papermill": {
     "duration": 0.018569,
     "end_time": "2021-05-11T03:10:11.465578",
     "exception": false,
     "start_time": "2021-05-11T03:10:11.447009",
     "status": "completed"
    },
    "tags": [
     "parameters"
    ]
   },
   "outputs": [],
   "source": [
    "p=2\n",
    "M=10\n",
    "L=1\n",
    "p_geo=1\n",
    "c=\"c_dg\"\n",
    "discretization_type=1\n",
    "upwind_parameter=1.0\n",
    "form=\"strong\""
   ]
  },
  {
   "cell_type": "code",
   "execution_count": 2,
   "id": "e3733991",
   "metadata": {
    "execution": {
     "iopub.execute_input": "2021-05-11T03:10:11.591987Z",
     "iopub.status.busy": "2021-05-11T03:10:11.590846Z",
     "iopub.status.idle": "2021-05-11T03:10:11.592578Z",
     "shell.execute_reply": "2021-05-11T03:10:11.591395Z"
    },
    "papermill": {
     "duration": 0.049394,
     "end_time": "2021-05-11T03:10:11.592715",
     "exception": false,
     "start_time": "2021-05-11T03:10:11.543321",
     "status": "completed"
    },
    "tags": [
     "injected-parameters"
    ]
   },
   "outputs": [],
   "source": [
    "# Parameters\n",
    "p = 2\n",
    "p_geo = 1\n",
    "upwind_parameter = 1.0\n",
    "c = \"c_+\"\n",
    "discretization_type = 3\n",
    "form = \"weak\"\n"
   ]
  },
  {
   "cell_type": "code",
   "execution_count": 3,
   "id": "1846fb6e",
   "metadata": {
    "execution": {
     "iopub.execute_input": "2021-05-11T03:10:11.659527Z",
     "iopub.status.busy": "2021-05-11T03:10:11.658904Z",
     "iopub.status.idle": "2021-05-11T04:36:40.020191Z",
     "shell.execute_reply": "2021-05-11T04:36:40.020844Z"
    },
    "papermill": {
     "duration": 5188.405125,
     "end_time": "2021-05-11T04:36:40.021041",
     "exception": false,
     "start_time": "2021-05-11T03:10:11.615916",
     "status": "completed"
    },
    "tags": []
   },
   "outputs": [
    {
     "name": "stderr",
     "output_type": "stream",
     "text": [
      "WARNING:root:msh4 requires 3D points, but 2D points given. Appending 0 third component.\n"
     ]
    },
    {
     "name": "stderr",
     "output_type": "stream",
     "text": [
      "WARNING:root:Binary Gmsh needs c_size_t (got int64). Converting.\n"
     ]
    },
    {
     "name": "stdout",
     "output_type": "stream",
     "text": [
      "advection_p2b1cpt3_weak\n"
     ]
    },
    {
     "name": "stdout",
     "output_type": "stream",
     "text": [
      "-2.061e-16 &  -2.176e-02 & 4.375e-02  \\\\\n"
     ]
    }
   ],
   "source": [
    "import sys  \n",
    "import numpy as np\n",
    "sys.path.insert(0, '../src')\n",
    "from Driver import advection_driver\n",
    "\n",
    "solver = advection_driver(a=np.sqrt(2), theta=np.pi/4, p=p, M=M, L=L,\n",
    "                        p_geo=p_geo, c=c, \n",
    "                        discretization_type=discretization_type,\n",
    "                        upwind_parameter=upwind_parameter,\n",
    "                        form=form)"
   ]
  },
  {
   "cell_type": "code",
   "execution_count": null,
   "id": "21b6bfd9",
   "metadata": {
    "papermill": {
     "duration": 0.007855,
     "end_time": "2021-05-11T04:36:40.037275",
     "exception": false,
     "start_time": "2021-05-11T04:36:40.029420",
     "status": "completed"
    },
    "tags": []
   },
   "outputs": [],
   "source": []
  }
 ],
 "metadata": {
  "celltoolbar": "Tags",
  "kernelspec": {
   "display_name": "Python 3",
   "language": "python",
   "name": "python3"
  },
  "language_info": {
   "codemirror_mode": {
    "name": "ipython",
    "version": 3
   },
   "file_extension": ".py",
   "mimetype": "text/x-python",
   "name": "python",
   "nbconvert_exporter": "python",
   "pygments_lexer": "ipython3",
   "version": "3.8.5"
  },
  "papermill": {
   "default_parameters": {},
   "duration": 5190.817652,
   "end_time": "2021-05-11T04:36:40.654525",
   "environment_variables": {},
   "exception": null,
   "input_path": "advection_driver.ipynb",
   "output_path": "advection_p2b1cpt3_weak.ipynb",
   "parameters": {
    "c": "c_+",
    "discretization_type": 3,
    "form": "weak",
    "p": 2,
    "p_geo": 1,
    "upwind_parameter": 1.0
   },
   "start_time": "2021-05-11T03:10:09.836873",
   "version": "2.3.3"
  }
 },
 "nbformat": 4,
 "nbformat_minor": 5
}