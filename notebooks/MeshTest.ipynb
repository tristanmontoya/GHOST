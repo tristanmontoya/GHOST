{
 "cells": [
  {
   "cell_type": "code",
   "execution_count": 5,
   "metadata": {
    "scrolled": false
   },
   "outputs": [],
   "source": [
    "import sys  \n",
    "import numpy as np\n",
    "import modepy as mp\n",
    "sys.path.insert(0, '../src')\n",
    "from Mesh import Mesh1D\n",
    "from Discretization import SpatialDiscretization\n",
    "\n",
    "# number of elements\n",
    "K = 4\n",
    "\n",
    "# number of local discretization types\n",
    "Nd = 3\n",
    "\n",
    "# degree of discretization\n",
    "p = [2*i for i in range(0,Nd)]\n",
    "\n",
    "# map of element index to discretization\n",
    "element_to_discretization = [k % Nd for k in range(0,K)]\n",
    "\n",
    "# number of flux nodes (equal to p+1)\n",
    "N_Omega = [p[i]+1 for i in range(0,Nd)]\n",
    "\n",
    "# one-dimensional mesh with K elements\n",
    "mesh = Mesh1D(\"mesh_1d_test\", 0.0, 1.0, K)\n",
    "\n",
    "# discretization components\n",
    "quadrature = [mp.LegendreGaussQuadrature(N_Omega[i]-1) for i in range(0,Nd)]\n",
    "flux_nodes = [quadrature[i].nodes.reshape(N_Omega[i],1) for i in range(0,Nd)]\n",
    "facet_nodes = [[np.array([[-1.0]]),np.array([[1.0]])] for i in range(0,Nd)]\n",
    "discretization = SpatialDiscretization(mesh, None, None, element_to_discretization, p, flux_nodes, facet_nodes)"
   ]
  },
  {
   "cell_type": "code",
   "execution_count": 6,
   "metadata": {},
   "outputs": [
    {
     "data": {
      "image/png": "[encoded data removed]",
      "text/plain": [
       "<Figure size 432x288 with 1 Axes>"
      ]
     },
     "metadata": {
      "needs_background": "light"
     },
     "output_type": "display_data"
    }
   ],
   "source": [
    "discretization.plot()"
   ]
  },
  {
   "cell_type": "code",
   "execution_count": null,
   "metadata": {},
   "outputs": [],
   "source": []
  }
 ],
 "metadata": {
  "kernelspec": {
   "display_name": "Python 3",
   "language": "python",
   "name": "python3"
  },
  "language_info": {
   "codemirror_mode": {
    "name": "ipython",
    "version": 3
   },
   "file_extension": ".py",
   "mimetype": "text/x-python",
   "name": "python",
   "nbconvert_exporter": "python",
   "pygments_lexer": "ipython3",
   "version": "3.7.9"
  }
 },
 "nbformat": 4,
 "nbformat_minor": 4
}
