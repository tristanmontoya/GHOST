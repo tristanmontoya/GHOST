{
 "cells": [
  {
   "cell_type": "code",
   "execution_count": 1,
   "id": "36597066",
   "metadata": {
    "execution": {
     "iopub.execute_input": "2021-05-11T03:10:11.240139Z",
     "iopub.status.busy": "2021-05-11T03:10:11.238719Z",
     "iopub.status.idle": "2021-05-11T03:10:11.240964Z",
     "shell.execute_reply": "2021-05-11T03:10:11.239388Z"
    },
    "papermill": {
     "duration": 0.046463,
     "end_time": "2021-05-11T03:10:11.241148",
     "exception": false,
     "start_time": "2021-05-11T03:10:11.194685",
     "status": "completed"
    },
    "tags": [
     "parameters"
    ]
   },
   "outputs": [],
   "source": [
    "p=2\n",
    "M=10\n",
    "L=1\n",
    "p_geo=1\n",
    "c=\"c_dg\"\n",
    "discretization_type=1\n",
    "upwind_parameter=1.0\n",
    "form=\"strong\""
   ]
  },
  {
   "cell_type": "code",
   "execution_count": 2,
   "id": "c8535998",
   "metadata": {
    "execution": {
     "iopub.execute_input": "2021-05-11T03:10:11.271470Z",
     "iopub.status.busy": "2021-05-11T03:10:11.270841Z",
     "iopub.status.idle": "2021-05-11T03:10:11.272955Z",
     "shell.execute_reply": "2021-05-11T03:10:11.273446Z"
    },
    "papermill": {
     "duration": 0.026497,
     "end_time": "2021-05-11T03:10:11.273635",
     "exception": false,
     "start_time": "2021-05-11T03:10:11.247138",
     "status": "completed"
    },
    "tags": [
     "injected-parameters"
    ]
   },
   "outputs": [],
   "source": [
    "# Parameters\n",
    "p = 2\n",
    "p_geo = 1\n",
    "upwind_parameter = 1.0\n",
    "c = \"c_dg\"\n",
    "discretization_type = 1\n",
    "form = \"weak\"\n"
   ]
  },
  {
   "cell_type": "code",
   "execution_count": 3,
   "id": "bc3df0e8",
   "metadata": {
    "execution": {
     "iopub.execute_input": "2021-05-11T03:10:11.313827Z",
     "iopub.status.busy": "2021-05-11T03:10:11.313149Z",
     "iopub.status.idle": "2021-05-11T04:35:11.224721Z",
     "shell.execute_reply": "2021-05-11T04:35:11.225228Z"
    },
    "papermill": {
     "duration": 5099.940826,
     "end_time": "2021-05-11T04:35:11.225414",
     "exception": false,
     "start_time": "2021-05-11T03:10:11.284588",
     "status": "completed"
    },
    "tags": []
   },
   "outputs": [
    {
     "name": "stderr",
     "output_type": "stream",
     "text": [
      "WARNING:root:msh4 requires 3D points, but 2D points given. Appending 0 third component.\n"
     ]
    },
    {
     "name": "stderr",
     "output_type": "stream",
     "text": [
      "WARNING:root:Binary Gmsh needs c_size_t (got int64). Converting.\n"
     ]
    },
    {
     "name": "stdout",
     "output_type": "stream",
     "text": [
      "advection_p2b1c0t1_weak\n"
     ]
    },
    {
     "name": "stdout",
     "output_type": "stream",
     "text": [
      "-9.178e-16 &  -2.220e-03 & 8.316e-03  \\\\\n"
     ]
    }
   ],
   "source": [
    "import sys  \n",
    "import numpy as np\n",
    "sys.path.insert(0, '../src')\n",
    "from Driver import advection_driver\n",
    "\n",
    "solver = advection_driver(a=np.sqrt(2), theta=np.pi/4, p=p, M=M, L=L,\n",
    "                        p_geo=p_geo, c=c, \n",
    "                        discretization_type=discretization_type,\n",
    "                        upwind_parameter=upwind_parameter,\n",
    "                        form=form)"
   ]
  },
  {
   "cell_type": "code",
   "execution_count": null,
   "id": "9f2ddaf0",
   "metadata": {
    "papermill": {
     "duration": 0.006853,
     "end_time": "2021-05-11T04:35:11.238721",
     "exception": false,
     "start_time": "2021-05-11T04:35:11.231868",
     "status": "completed"
    },
    "tags": []
   },
   "outputs": [],
   "source": []
  }
 ],
 "metadata": {
  "celltoolbar": "Tags",
  "kernelspec": {
   "display_name": "Python 3",
   "language": "python",
   "name": "python3"
  },
  "language_info": {
   "codemirror_mode": {
    "name": "ipython",
    "version": 3
   },
   "file_extension": ".py",
   "mimetype": "text/x-python",
   "name": "python",
   "nbconvert_exporter": "python",
   "pygments_lexer": "ipython3",
   "version": "3.8.5"
  },
  "papermill": {
   "default_parameters": {},
   "duration": 5102.903849,
   "end_time": "2021-05-11T04:35:12.705276",
   "environment_variables": {},
   "exception": null,
   "input_path": "advection_driver.ipynb",
   "output_path": "advection_p2b1c0t1_weak.ipynb",
   "parameters": {
    "c": "c_dg",
    "discretization_type": 1,
    "form": "weak",
    "p": 2,
    "p_geo": 1,
    "upwind_parameter": 1.0
   },
   "start_time": "2021-05-11T03:10:09.801427",
   "version": "2.3.3"
  }
 },
 "nbformat": 4,
 "nbformat_minor": 5
}