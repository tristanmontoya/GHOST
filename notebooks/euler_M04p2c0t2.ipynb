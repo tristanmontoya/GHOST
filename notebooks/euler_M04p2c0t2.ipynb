{
 "cells": [
  {
   "cell_type": "code",
   "execution_count": 1,
   "metadata": {
    "execution": {
     "iopub.execute_input": "2020-12-29T17:49:15.617289Z",
     "iopub.status.busy": "2020-12-29T17:49:15.616511Z",
     "iopub.status.idle": "2020-12-29T17:49:15.618077Z",
     "shell.execute_reply": "2020-12-29T17:49:15.618649Z"
    },
    "papermill": {
     "duration": 0.014332,
     "end_time": "2020-12-29T17:49:15.618836",
     "exception": false,
     "start_time": "2020-12-29T17:49:15.604504",
     "status": "completed"
    },
    "tags": [
     "parameters"
    ]
   },
   "outputs": [],
   "source": [
    "mach_number=0.4\n",
    "p=2\n",
    "M=11\n",
    "L=10.0\n",
    "p_geo=2\n",
    "c=\"c_dg\"\n",
    "discretization_type=1"
   ]
  },
  {
   "cell_type": "code",
   "execution_count": 2,
   "metadata": {
    "execution": {
     "iopub.execute_input": "2020-12-29T17:49:15.629136Z",
     "iopub.status.busy": "2020-12-29T17:49:15.627556Z",
     "iopub.status.idle": "2020-12-29T17:49:15.631364Z",
     "shell.execute_reply": "2020-12-29T17:49:15.630837Z"
    },
    "papermill": {
     "duration": 0.008964,
     "end_time": "2020-12-29T17:49:15.631502",
     "exception": false,
     "start_time": "2020-12-29T17:49:15.622538",
     "status": "completed"
    },
    "tags": [
     "injected-parameters"
    ]
   },
   "outputs": [],
   "source": [
    "# Parameters\n",
    "mach_number = 0.4\n",
    "p = 2\n",
    "p_geo = 2\n",
    "c = \"c_dg\"\n",
    "discretization_type = 2\n"
   ]
  },
  {
   "cell_type": "code",
   "execution_count": 3,
   "metadata": {
    "execution": {
     "iopub.execute_input": "2020-12-29T17:49:15.646693Z",
     "iopub.status.busy": "2020-12-29T17:49:15.646040Z"
    },
    "papermill": {
     "duration": 19.735857,
     "end_time": "2020-12-29T17:49:35.370571",
     "exception": false,
     "start_time": "2020-12-29T17:49:15.634714",
     "status": "completed"
    },
    "tags": []
   },
   "outputs": [
    {
     "name": "stderr",
     "output_type": "stream",
     "text": [
      "WARNING:root:msh4 requires 3D points, but 2D points given. Appending 0 third component.\n"
     ]
    },
    {
     "name": "stderr",
     "output_type": "stream",
     "text": [
      "WARNING:root:Binary Gmsh needs c_size_t (got int64). Converting.\n"
     ]
    },
    {
     "name": "stdout",
     "output_type": "stream",
     "text": [
      "mach number:  0.4\n",
      "grid points:  11\n",
      "geometry degree:  2\n",
      "correction:  c_dg\n",
      "discretization type:  2\n"
     ]
    },
    {
     "name": "stdout",
     "output_type": "stream",
     "text": [
      "strong  dt =  0.0017677669529663688\n",
      "strong writing every  20000  time steps, total  20000\n",
      "weak  dt =  0.0017677669529663688\n",
      "weak writing every  20000  time steps, total  20000\n"
     ]
    }
   ],
   "source": [
    "import sys  \n",
    "sys.path.insert(0, '../src')\n",
    "from Driver import euler_driver\n",
    "\n",
    "print(\"mach number: \", mach_number)\n",
    "print(\"grid points: \", M)\n",
    "print(\"geometry degree: \", p_geo)\n",
    "print(\"correction: \", c)\n",
    "print(\"discretization type: \", discretization_type)\n",
    "\n",
    "strong, weak = euler_driver(mach_number=mach_number, \n",
    "                            p=p, M=M, L=L,\n",
    "                            p_geo=p_geo, c=c, \n",
    "                            discretization_type=discretization_type)"
   ]
  }
 ],
 "metadata": {
  "celltoolbar": "Tags",
  "kernelspec": {
   "display_name": "Python 3",
   "language": "python",
   "name": "python3"
  },
  "language_info": {
   "codemirror_mode": {
    "name": "ipython",
    "version": 3
   },
   "file_extension": ".py",
   "mimetype": "text/x-python",
   "name": "python",
   "nbconvert_exporter": "python",
   "pygments_lexer": "ipython3",
   "version": "3.6.5"
  },
  "papermill": {
   "default_parameters": {},
   "duration": 21.187407,
   "end_time": "2020-12-29T17:49:35.963102",
   "environment_variables": {},
   "exception": null,
   "input_path": "euler_driver.ipynb",
   "output_path": "euler_M04p2c0t2.ipynb",
   "parameters": {
    "c": "c_dg",
    "discretization_type": 2,
    "mach_number": 0.4,
    "p": 2,
    "p_geo": 2
   },
   "start_time": "2020-12-29T17:49:14.775695",
   "version": "2.2.2"
  }
 },
 "nbformat": 4,
 "nbformat_minor": 2
}