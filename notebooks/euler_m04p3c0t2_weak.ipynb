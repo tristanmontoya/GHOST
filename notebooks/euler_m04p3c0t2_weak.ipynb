{
 "cells": [
  {
   "cell_type": "markdown",
   "id": "2d45cf19",
   "metadata": {
    "tags": [
     "papermill-error-cell-tag"
    ]
   },
   "source": [
    "<span style=\"color:red; font-family:Helvetica Neue, Helvetica, Arial, sans-serif; font-size:2em;\">An Exception was encountered at '<a href=\"#papermill-error-cell\">In [3]</a>'.</span>"
   ]
  },
  {
   "cell_type": "code",
   "execution_count": 1,
   "id": "6ca23a05",
   "metadata": {
    "execution": {
     "iopub.execute_input": "2021-05-13T13:01:26.781399Z",
     "iopub.status.busy": "2021-05-13T13:01:26.780785Z",
     "iopub.status.idle": "2021-05-13T13:01:26.783723Z",
     "shell.execute_reply": "2021-05-13T13:01:26.783095Z"
    },
    "papermill": {
     "duration": 0.018957,
     "end_time": "2021-05-13T13:01:26.783873",
     "exception": false,
     "start_time": "2021-05-13T13:01:26.764916",
     "status": "completed"
    },
    "tags": [
     "parameters"
    ]
   },
   "outputs": [],
   "source": [
    "mach_number=0.4\n",
    "p=2\n",
    "M=10\n",
    "L=10.0\n",
    "p_geo=2\n",
    "c=\"c_dg\"\n",
    "discretization_type=1\n",
    "form=\"strong\""
   ]
  },
  {
   "cell_type": "code",
   "execution_count": 2,
   "id": "1ec45bde",
   "metadata": {
    "execution": {
     "iopub.execute_input": "2021-05-13T13:01:26.797539Z",
     "iopub.status.busy": "2021-05-13T13:01:26.796934Z",
     "iopub.status.idle": "2021-05-13T13:01:26.799641Z",
     "shell.execute_reply": "2021-05-13T13:01:26.800106Z"
    },
    "papermill": {
     "duration": 0.011354,
     "end_time": "2021-05-13T13:01:26.800262",
     "exception": false,
     "start_time": "2021-05-13T13:01:26.788908",
     "status": "completed"
    },
    "tags": [
     "injected-parameters"
    ]
   },
   "outputs": [],
   "source": [
    "# Parameters\n",
    "mach_number = 0.4\n",
    "p = 3\n",
    "p_geo = 3\n",
    "c = \"c_dg\"\n",
    "discretization_type = 2\n",
    "form = \"weak\"\n"
   ]
  },
  {
   "cell_type": "markdown",
   "id": "92882adc",
   "metadata": {
    "tags": [
     "papermill-error-cell-tag"
    ]
   },
   "source": [
    "<span id=\"papermill-error-cell\" style=\"color:red; font-family:Helvetica Neue, Helvetica, Arial, sans-serif; font-size:2em;\">Execution using papermill encountered an exception here and stopped:</span>"
   ]
  },
  {
   "cell_type": "code",
   "execution_count": 3,
   "id": "cdb046c5",
   "metadata": {
    "execution": {
     "iopub.execute_input": "2021-05-13T13:01:26.814669Z",
     "iopub.status.busy": "2021-05-13T13:01:26.814037Z",
     "iopub.status.idle": "2021-05-13T18:46:08.598187Z",
     "shell.execute_reply": "2021-05-13T18:46:08.597146Z"
    },
    "papermill": {
     "duration": 20681.793759,
     "end_time": "2021-05-13T18:46:08.598478",
     "exception": true,
     "start_time": "2021-05-13T13:01:26.804719",
     "status": "failed"
    },
    "tags": []
   },
   "outputs": [
    {
     "name": "stdout",
     "output_type": "stream",
     "text": [
      "euler_m04p3c0t2_weak\n"
     ]
    },
    {
     "name": "stderr",
     "output_type": "stream",
     "text": [
      "../src/Problem.py:116: RuntimeWarning: invalid value encountered in sqrt\n",
      "  a =np.sqrt((self.gamma-1)*(h-0.5*Vs))\n"
     ]
    },
    {
     "ename": "TypeError",
     "evalue": "'NoneType' object is not subscriptable",
     "output_type": "error",
     "traceback": [
      "\u001b[0;31m---------------------------------------------------------------------------\u001b[0m",
      "\u001b[0;31mTypeError\u001b[0m                                 Traceback (most recent call last)",
      "\u001b[0;32m<ipython-input-3-60221011c8ed>\u001b[0m in \u001b[0;36m<module>\u001b[0;34m\u001b[0m\n\u001b[1;32m      4\u001b[0m \u001b[0;32mfrom\u001b[0m \u001b[0mDriver\u001b[0m \u001b[0;32mimport\u001b[0m \u001b[0meuler_driver\u001b[0m\u001b[0;34m\u001b[0m\u001b[0;34m\u001b[0m\u001b[0m\n\u001b[1;32m      5\u001b[0m \u001b[0;34m\u001b[0m\u001b[0m\n\u001b[0;32m----> 6\u001b[0;31m solver = euler_driver(mach_number=mach_number, \n\u001b[0m\u001b[1;32m      7\u001b[0m                       \u001b[0mtheta\u001b[0m\u001b[0;34m=\u001b[0m\u001b[0mnp\u001b[0m\u001b[0;34m.\u001b[0m\u001b[0mpi\u001b[0m\u001b[0;34m/\u001b[0m\u001b[0;36m4\u001b[0m\u001b[0;34m,\u001b[0m\u001b[0;34m\u001b[0m\u001b[0;34m\u001b[0m\u001b[0m\n\u001b[1;32m      8\u001b[0m                         \u001b[0mp\u001b[0m\u001b[0;34m=\u001b[0m\u001b[0mp\u001b[0m\u001b[0;34m,\u001b[0m \u001b[0mM\u001b[0m\u001b[0;34m=\u001b[0m\u001b[0mM\u001b[0m\u001b[0;34m,\u001b[0m \u001b[0mL\u001b[0m\u001b[0;34m=\u001b[0m\u001b[0mL\u001b[0m\u001b[0;34m,\u001b[0m\u001b[0;34m\u001b[0m\u001b[0;34m\u001b[0m\u001b[0m\n",
      "\u001b[0;32m~/GHOST_private/src/Driver.py\u001b[0m in \u001b[0;36meuler_driver\u001b[0;34m(mach_number, theta, p, M, L, p_geo, c, discretization_type, form, suffix, run)\u001b[0m\n\u001b[1;32m    614\u001b[0m \u001b[0;34m\u001b[0m\u001b[0m\n\u001b[1;32m    615\u001b[0m     \u001b[0;32mif\u001b[0m \u001b[0mrun\u001b[0m\u001b[0;34m:\u001b[0m\u001b[0;34m\u001b[0m\u001b[0;34m\u001b[0m\u001b[0m\n\u001b[0;32m--> 616\u001b[0;31m         solver.run(write_interval=params[\"final_time\"]/10, \n\u001b[0m\u001b[1;32m    617\u001b[0m                     print_interval=params[\"final_time\"]/1000)\n\u001b[1;32m    618\u001b[0m \u001b[0;34m\u001b[0m\u001b[0m\n",
      "\u001b[0;32m~/GHOST_private/src/Solver.py\u001b[0m in \u001b[0;36mrun\u001b[0;34m(self, results_path, write_interval, print_interval, prefix, clear_write_dir)\u001b[0m\n\u001b[1;32m    393\u001b[0m                                                   prefix=prefix)\n\u001b[1;32m    394\u001b[0m \u001b[0;34m\u001b[0m\u001b[0m\n\u001b[0;32m--> 395\u001b[0;31m             \u001b[0mself\u001b[0m\u001b[0;34m.\u001b[0m\u001b[0mI_f\u001b[0m \u001b[0;34m=\u001b[0m \u001b[0mself\u001b[0m\u001b[0;34m.\u001b[0m\u001b[0mcalculate_conserved_integral\u001b[0m\u001b[0;34m(\u001b[0m\u001b[0;34m)\u001b[0m\u001b[0;34m\u001b[0m\u001b[0;34m\u001b[0m\u001b[0m\n\u001b[0m\u001b[1;32m    396\u001b[0m             \u001b[0mself\u001b[0m\u001b[0;34m.\u001b[0m\u001b[0mE_f\u001b[0m \u001b[0;34m=\u001b[0m \u001b[0mself\u001b[0m\u001b[0;34m.\u001b[0m\u001b[0mcalculate_energy\u001b[0m\u001b[0;34m(\u001b[0m\u001b[0;34m)\u001b[0m\u001b[0;34m\u001b[0m\u001b[0;34m\u001b[0m\u001b[0m\n\u001b[1;32m    397\u001b[0m \u001b[0;34m\u001b[0m\u001b[0m\n",
      "\u001b[0;32m~/GHOST_private/src/Solver.py\u001b[0m in \u001b[0;36mcalculate_conserved_integral\u001b[0;34m(self)\u001b[0m\n\u001b[1;32m    640\u001b[0m \u001b[0;34m\u001b[0m\u001b[0m\n\u001b[1;32m    641\u001b[0m             \u001b[0;31m# must have the same quadrature points for u_he\u001b[0m\u001b[0;34m\u001b[0m\u001b[0;34m\u001b[0m\u001b[0;34m\u001b[0m\u001b[0m\n\u001b[0;32m--> 642\u001b[0;31m             return np.array([sum([np.ones(self.discretization.N_omega[\n\u001b[0m\u001b[1;32m    643\u001b[0m                 self.discretization.element_to_discretization[k]]).T @\n\u001b[1;32m    644\u001b[0m                                       self.discretization.W[\n",
      "\u001b[0;32m~/GHOST_private/src/Solver.py\u001b[0m in \u001b[0;36m<listcomp>\u001b[0;34m(.0)\u001b[0m\n\u001b[1;32m    640\u001b[0m \u001b[0;34m\u001b[0m\u001b[0m\n\u001b[1;32m    641\u001b[0m             \u001b[0;31m# must have the same quadrature points for u_he\u001b[0m\u001b[0;34m\u001b[0m\u001b[0;34m\u001b[0m\u001b[0;34m\u001b[0m\u001b[0m\n\u001b[0;32m--> 642\u001b[0;31m             return np.array([sum([np.ones(self.discretization.N_omega[\n\u001b[0m\u001b[1;32m    643\u001b[0m                 self.discretization.element_to_discretization[k]]).T @\n\u001b[1;32m    644\u001b[0m                                       self.discretization.W[\n",
      "\u001b[0;32m~/GHOST_private/src/Solver.py\u001b[0m in \u001b[0;36m<listcomp>\u001b[0;34m(.0)\u001b[0m\n\u001b[1;32m    647\u001b[0m                                       self.discretization.V[\n\u001b[1;32m    648\u001b[0m                                           self.discretization.element_to_discretization[k]] \n\u001b[0;32m--> 649\u001b[0;31m                                       \u001b[0;34m@\u001b[0m \u001b[0mself\u001b[0m\u001b[0;34m.\u001b[0m\u001b[0mu_hat\u001b[0m\u001b[0;34m[\u001b[0m\u001b[0mk\u001b[0m\u001b[0;34m]\u001b[0m\u001b[0;34m[\u001b[0m\u001b[0me\u001b[0m\u001b[0;34m]\u001b[0m\u001b[0;34m\u001b[0m\u001b[0;34m\u001b[0m\u001b[0m\n\u001b[0m\u001b[1;32m    650\u001b[0m                                     for k in range(0,self.discretization.mesh.K)])\n\u001b[1;32m    651\u001b[0m                                     for e in range(0,self.N_eq)])        \n",
      "\u001b[0;31mTypeError\u001b[0m: 'NoneType' object is not subscriptable"
     ]
    }
   ],
   "source": [
    "import sys  \n",
    "import numpy as np\n",
    "sys.path.insert(0, '../src')\n",
    "from Driver import euler_driver\n",
    "\n",
    "solver = euler_driver(mach_number=mach_number, \n",
    "                      theta=np.pi/4,\n",
    "                        p=p, M=M, L=L,\n",
    "                        p_geo=p_geo, c=c, \n",
    "                        discretization_type=discretization_type,\n",
    "                        form=form)"
   ]
  },
  {
   "cell_type": "code",
   "execution_count": null,
   "id": "1c6e0832",
   "metadata": {
    "papermill": {
     "duration": null,
     "end_time": null,
     "exception": null,
     "start_time": null,
     "status": "pending"
    },
    "tags": []
   },
   "outputs": [],
   "source": []
  }
 ],
 "metadata": {
  "celltoolbar": "Tags",
  "kernelspec": {
   "display_name": "Python 3",
   "language": "python",
   "name": "python3"
  },
  "language_info": {
   "codemirror_mode": {
    "name": "ipython",
    "version": 3
   },
   "file_extension": ".py",
   "mimetype": "text/x-python",
   "name": "python",
   "nbconvert_exporter": "python",
   "pygments_lexer": "ipython3",
   "version": "3.8.5"
  },
  "papermill": {
   "default_parameters": {},
   "duration": 20683.362979,
   "end_time": "2021-05-13T18:46:09.113162",
   "environment_variables": {},
   "exception": true,
   "input_path": "euler_driver.ipynb",
   "output_path": "euler_m04p3c0t2_weak.ipynb",
   "parameters": {
    "c": "c_dg",
    "discretization_type": 2,
    "form": "weak",
    "mach_number": 0.4,
    "p": 3,
    "p_geo": 3
   },
   "start_time": "2021-05-13T13:01:25.750183",
   "version": "2.3.3"
  }
 },
 "nbformat": 4,
 "nbformat_minor": 5
}