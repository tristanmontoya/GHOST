{
 "cells": [
  {
   "cell_type": "code",
   "execution_count": 1,
   "id": "6f3d14c2",
   "metadata": {
    "execution": {
     "iopub.execute_input": "2021-05-15T22:50:34.708188Z",
     "iopub.status.busy": "2021-05-15T22:50:34.707003Z",
     "iopub.status.idle": "2021-05-15T22:50:34.718478Z",
     "shell.execute_reply": "2021-05-15T22:50:34.717771Z"
    },
    "papermill": {
     "duration": 0.03595,
     "end_time": "2021-05-15T22:50:34.718650",
     "exception": false,
     "start_time": "2021-05-15T22:50:34.682700",
     "status": "completed"
    },
    "tags": [
     "parameters"
    ]
   },
   "outputs": [],
   "source": [
    "mach_number=0.4\n",
    "p=2\n",
    "M=16\n",
    "L=10.0\n",
    "p_geo=2\n",
    "c=\"c_dg\"\n",
    "discretization_type=1\n",
    "form=\"strong\""
   ]
  },
  {
   "cell_type": "code",
   "execution_count": 2,
   "id": "ffc06c0e",
   "metadata": {
    "execution": {
     "iopub.execute_input": "2021-05-15T22:50:34.740122Z",
     "iopub.status.busy": "2021-05-15T22:50:34.739392Z",
     "iopub.status.idle": "2021-05-15T22:50:34.749024Z",
     "shell.execute_reply": "2021-05-15T22:50:34.749512Z"
    },
    "papermill": {
     "duration": 0.025932,
     "end_time": "2021-05-15T22:50:34.749738",
     "exception": false,
     "start_time": "2021-05-15T22:50:34.723806",
     "status": "completed"
    },
    "tags": [
     "injected-parameters"
    ]
   },
   "outputs": [],
   "source": [
    "# Parameters\n",
    "mach_number = 0.4\n",
    "p = 3\n",
    "p_geo = 3\n",
    "c = \"c_dg\"\n",
    "discretization_type = 2\n",
    "form = \"weak\"\n"
   ]
  },
  {
   "cell_type": "code",
   "execution_count": 3,
   "id": "b2c57d6e",
   "metadata": {
    "execution": {
     "iopub.execute_input": "2021-05-15T22:50:34.820400Z",
     "iopub.status.busy": "2021-05-15T22:50:34.819561Z",
     "iopub.status.idle": "2021-05-19T21:31:58.866457Z",
     "shell.execute_reply": "2021-05-19T21:31:58.867023Z"
    },
    "papermill": {
     "duration": 340884.090315,
     "end_time": "2021-05-19T21:31:58.867254",
     "exception": false,
     "start_time": "2021-05-15T22:50:34.776939",
     "status": "completed"
    },
    "tags": []
   },
   "outputs": [
    {
     "name": "stdout",
     "output_type": "stream",
     "text": [
      "euler_m04p3c0t2_weak\n"
     ]
    },
    {
     "name": "stdout",
     "output_type": "stream",
     "text": [
      "-2.984e-13 &  2.977e-02  \\\\\n",
      "-2.370e-12 &  5.601e-02  \\\\\n",
      "1.698e-12 &  8.656e-02  \\\\\n",
      "-5.969e-13 &  5.296e-02  \\\\\n"
     ]
    }
   ],
   "source": [
    "import sys  \n",
    "import numpy as np\n",
    "sys.path.insert(0, '../src')\n",
    "from Driver import euler_driver\n",
    "\n",
    "solver = euler_driver(mach_number=mach_number, \n",
    "                      theta=np.pi/4,\n",
    "                        p=p, M=M, L=L,\n",
    "                        p_geo=p_geo, c=c, \n",
    "                        discretization_type=discretization_type,\n",
    "                        form=form)"
   ]
  },
  {
   "cell_type": "code",
   "execution_count": null,
   "id": "a767aa69",
   "metadata": {
    "papermill": {
     "duration": 0.006256,
     "end_time": "2021-05-19T21:31:58.879687",
     "exception": false,
     "start_time": "2021-05-19T21:31:58.873431",
     "status": "completed"
    },
    "tags": []
   },
   "outputs": [],
   "source": []
  }
 ],
 "metadata": {
  "celltoolbar": "Tags",
  "kernelspec": {
   "display_name": "Python 3",
   "language": "python",
   "name": "python3"
  },
  "language_info": {
   "codemirror_mode": {
    "name": "ipython",
    "version": 3
   },
   "file_extension": ".py",
   "mimetype": "text/x-python",
   "name": "python",
   "nbconvert_exporter": "python",
   "pygments_lexer": "ipython3",
   "version": "3.8.5"
  },
  "papermill": {
   "default_parameters": {},
   "duration": 340887.471818,
   "end_time": "2021-05-19T21:31:59.501045",
   "environment_variables": {},
   "exception": null,
   "input_path": "euler_driver.ipynb",
   "output_path": "euler_m04p3c0t2_weak.ipynb",
   "parameters": {
    "c": "c_dg",
    "discretization_type": 2,
    "form": "weak",
    "mach_number": 0.4,
    "p": 3,
    "p_geo": 3
   },
   "start_time": "2021-05-15T22:50:32.029227",
   "version": "2.3.3"
  }
 },
 "nbformat": 4,
 "nbformat_minor": 5
}