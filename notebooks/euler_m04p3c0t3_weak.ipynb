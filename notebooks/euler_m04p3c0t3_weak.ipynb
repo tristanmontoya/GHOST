{
 "cells": [
  {
   "cell_type": "code",
   "execution_count": 1,
   "id": "4de93c2a",
   "metadata": {
    "execution": {
     "iopub.execute_input": "2021-05-15T22:50:34.577482Z",
     "iopub.status.busy": "2021-05-15T22:50:34.576637Z",
     "iopub.status.idle": "2021-05-15T22:50:34.586675Z",
     "shell.execute_reply": "2021-05-15T22:50:34.587259Z"
    },
    "papermill": {
     "duration": 0.033703,
     "end_time": "2021-05-15T22:50:34.587541",
     "exception": false,
     "start_time": "2021-05-15T22:50:34.553838",
     "status": "completed"
    },
    "tags": [
     "parameters"
    ]
   },
   "outputs": [],
   "source": [
    "mach_number=0.4\n",
    "p=2\n",
    "M=16\n",
    "L=10.0\n",
    "p_geo=2\n",
    "c=\"c_dg\"\n",
    "discretization_type=1\n",
    "form=\"strong\""
   ]
  },
  {
   "cell_type": "code",
   "execution_count": 2,
   "id": "8bf0a929",
   "metadata": {
    "execution": {
     "iopub.execute_input": "2021-05-15T22:50:34.623989Z",
     "iopub.status.busy": "2021-05-15T22:50:34.623313Z",
     "iopub.status.idle": "2021-05-15T22:50:34.630050Z",
     "shell.execute_reply": "2021-05-15T22:50:34.628406Z"
    },
    "papermill": {
     "duration": 0.035334,
     "end_time": "2021-05-15T22:50:34.630253",
     "exception": false,
     "start_time": "2021-05-15T22:50:34.594919",
     "status": "completed"
    },
    "tags": [
     "injected-parameters"
    ]
   },
   "outputs": [],
   "source": [
    "# Parameters\n",
    "mach_number = 0.4\n",
    "p = 3\n",
    "p_geo = 3\n",
    "c = \"c_dg\"\n",
    "discretization_type = 3\n",
    "form = \"weak\"\n"
   ]
  },
  {
   "cell_type": "code",
   "execution_count": 3,
   "id": "15045028",
   "metadata": {
    "execution": {
     "iopub.execute_input": "2021-05-15T22:50:34.678849Z",
     "iopub.status.busy": "2021-05-15T22:50:34.677948Z",
     "iopub.status.idle": "2021-05-20T02:32:25.303404Z",
     "shell.execute_reply": "2021-05-20T02:32:25.304184Z"
    },
    "papermill": {
     "duration": 358910.657491,
     "end_time": "2021-05-20T02:32:25.304666",
     "exception": false,
     "start_time": "2021-05-15T22:50:34.647175",
     "status": "completed"
    },
    "tags": []
   },
   "outputs": [
    {
     "name": "stdout",
     "output_type": "stream",
     "text": [
      "euler_m04p3c0t3_weak\n"
     ]
    },
    {
     "name": "stdout",
     "output_type": "stream",
     "text": [
      "1.421e-13 &  9.208e-03  \\\\\n",
      "-1.297e-12 &  1.648e-02  \\\\\n",
      "1.670e-12 &  1.843e-02  \\\\\n",
      "2.558e-13 &  1.759e-02  \\\\\n"
     ]
    }
   ],
   "source": [
    "import sys  \n",
    "import numpy as np\n",
    "sys.path.insert(0, '../src')\n",
    "from Driver import euler_driver\n",
    "\n",
    "solver = euler_driver(mach_number=mach_number, \n",
    "                      theta=np.pi/4,\n",
    "                        p=p, M=M, L=L,\n",
    "                        p_geo=p_geo, c=c, \n",
    "                        discretization_type=discretization_type,\n",
    "                        form=form)"
   ]
  },
  {
   "cell_type": "code",
   "execution_count": null,
   "id": "b5c3db4b",
   "metadata": {
    "papermill": {
     "duration": 0.007662,
     "end_time": "2021-05-20T02:32:25.320870",
     "exception": false,
     "start_time": "2021-05-20T02:32:25.313208",
     "status": "completed"
    },
    "tags": []
   },
   "outputs": [],
   "source": []
  }
 ],
 "metadata": {
  "celltoolbar": "Tags",
  "kernelspec": {
   "display_name": "Python 3",
   "language": "python",
   "name": "python3"
  },
  "language_info": {
   "codemirror_mode": {
    "name": "ipython",
    "version": 3
   },
   "file_extension": ".py",
   "mimetype": "text/x-python",
   "name": "python",
   "nbconvert_exporter": "python",
   "pygments_lexer": "ipython3",
   "version": "3.8.5"
  },
  "papermill": {
   "default_parameters": {},
   "duration": 358914.12044,
   "end_time": "2021-05-20T02:32:26.148947",
   "environment_variables": {},
   "exception": null,
   "input_path": "euler_driver.ipynb",
   "output_path": "euler_m04p3c0t3_weak.ipynb",
   "parameters": {
    "c": "c_dg",
    "discretization_type": 3,
    "form": "weak",
    "mach_number": 0.4,
    "p": 3,
    "p_geo": 3
   },
   "start_time": "2021-05-15T22:50:32.028507",
   "version": "2.3.3"
  }
 },
 "nbformat": 4,
 "nbformat_minor": 5
}