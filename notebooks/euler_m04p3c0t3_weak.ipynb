{
 "cells": [
  {
   "cell_type": "code",
   "execution_count": 1,
   "id": "212967f9",
   "metadata": {
    "execution": {
     "iopub.execute_input": "2021-05-13T13:01:27.155417Z",
     "iopub.status.busy": "2021-05-13T13:01:27.154746Z",
     "iopub.status.idle": "2021-05-13T13:01:27.156922Z",
     "shell.execute_reply": "2021-05-13T13:01:27.157461Z"
    },
    "papermill": {
     "duration": 0.02324,
     "end_time": "2021-05-13T13:01:27.157756",
     "exception": false,
     "start_time": "2021-05-13T13:01:27.134516",
     "status": "completed"
    },
    "tags": [
     "parameters"
    ]
   },
   "outputs": [],
   "source": [
    "mach_number=0.4\n",
    "p=2\n",
    "M=10\n",
    "L=10.0\n",
    "p_geo=2\n",
    "c=\"c_dg\"\n",
    "discretization_type=1\n",
    "form=\"strong\""
   ]
  },
  {
   "cell_type": "code",
   "execution_count": 2,
   "id": "e571eb7c",
   "metadata": {
    "execution": {
     "iopub.execute_input": "2021-05-13T13:01:27.211950Z",
     "iopub.status.busy": "2021-05-13T13:01:27.210748Z",
     "iopub.status.idle": "2021-05-13T13:01:27.212525Z",
     "shell.execute_reply": "2021-05-13T13:01:27.211343Z"
    },
    "papermill": {
     "duration": 0.033597,
     "end_time": "2021-05-13T13:01:27.212678",
     "exception": false,
     "start_time": "2021-05-13T13:01:27.179081",
     "status": "completed"
    },
    "tags": [
     "injected-parameters"
    ]
   },
   "outputs": [],
   "source": [
    "# Parameters\n",
    "mach_number = 0.4\n",
    "p = 3\n",
    "p_geo = 3\n",
    "c = \"c_dg\"\n",
    "discretization_type = 3\n",
    "form = \"weak\"\n"
   ]
  },
  {
   "cell_type": "code",
   "execution_count": 3,
   "id": "e070bd72",
   "metadata": {
    "execution": {
     "iopub.execute_input": "2021-05-13T13:01:27.252781Z",
     "iopub.status.busy": "2021-05-13T13:01:27.252163Z",
     "iopub.status.idle": "2021-05-14T09:12:19.033572Z",
     "shell.execute_reply": "2021-05-14T09:12:19.034076Z"
    },
    "papermill": {
     "duration": 72651.816785,
     "end_time": "2021-05-14T09:12:19.034309",
     "exception": false,
     "start_time": "2021-05-13T13:01:27.217524",
     "status": "completed"
    },
    "tags": []
   },
   "outputs": [
    {
     "name": "stdout",
     "output_type": "stream",
     "text": [
      "euler_m04p3c0t3_weak\n"
     ]
    },
    {
     "name": "stdout",
     "output_type": "stream",
     "text": [
      "1.137e-13 &  2.724e-02  \\\\\n",
      "-1.094e-12 &  6.042e-02  \\\\\n",
      "1.325e-12 &  5.991e-02  \\\\\n",
      "1.705e-13 &  5.971e-02  \\\\\n"
     ]
    }
   ],
   "source": [
    "import sys  \n",
    "import numpy as np\n",
    "sys.path.insert(0, '../src')\n",
    "from Driver import euler_driver\n",
    "\n",
    "solver = euler_driver(mach_number=mach_number, \n",
    "                      theta=np.pi/4,\n",
    "                        p=p, M=M, L=L,\n",
    "                        p_geo=p_geo, c=c, \n",
    "                        discretization_type=discretization_type,\n",
    "                        form=form)"
   ]
  },
  {
   "cell_type": "code",
   "execution_count": null,
   "id": "7bf1c9d1",
   "metadata": {
    "papermill": {
     "duration": 0.005004,
     "end_time": "2021-05-14T09:12:19.044748",
     "exception": false,
     "start_time": "2021-05-14T09:12:19.039744",
     "status": "completed"
    },
    "tags": []
   },
   "outputs": [],
   "source": []
  }
 ],
 "metadata": {
  "celltoolbar": "Tags",
  "kernelspec": {
   "display_name": "Python 3",
   "language": "python",
   "name": "python3"
  },
  "language_info": {
   "codemirror_mode": {
    "name": "ipython",
    "version": 3
   },
   "file_extension": ".py",
   "mimetype": "text/x-python",
   "name": "python",
   "nbconvert_exporter": "python",
   "pygments_lexer": "ipython3",
   "version": "3.8.5"
  },
  "papermill": {
   "default_parameters": {},
   "duration": 72653.747836,
   "end_time": "2021-05-14T09:12:19.558804",
   "environment_variables": {},
   "exception": null,
   "input_path": "euler_driver.ipynb",
   "output_path": "euler_m04p3c0t3_weak.ipynb",
   "parameters": {
    "c": "c_dg",
    "discretization_type": 3,
    "form": "weak",
    "mach_number": 0.4,
    "p": 3,
    "p_geo": 3
   },
   "start_time": "2021-05-13T13:01:25.810968",
   "version": "2.3.3"
  }
 },
 "nbformat": 4,
 "nbformat_minor": 5
}