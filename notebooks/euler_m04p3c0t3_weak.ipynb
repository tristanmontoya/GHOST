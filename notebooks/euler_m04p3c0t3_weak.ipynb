{
 "cells": [
  {
   "cell_type": "markdown",
   "id": "e121d95e",
   "metadata": {
    "papermill": {
     "duration": 0.003334,
     "end_time": "2021-12-08T16:30:21.691235",
     "exception": false,
     "start_time": "2021-12-08T16:30:21.687901",
     "status": "completed"
    },
    "tags": []
   },
   "source": [
    "# GHOST driver - Euler equations"
   ]
  },
  {
   "cell_type": "code",
   "execution_count": 1,
   "id": "ad2035f6",
   "metadata": {
    "execution": {
     "iopub.execute_input": "2021-12-08T16:30:21.701530Z",
     "iopub.status.busy": "2021-12-08T16:30:21.701045Z",
     "iopub.status.idle": "2021-12-08T16:30:21.702698Z",
     "shell.execute_reply": "2021-12-08T16:30:21.703089Z"
    },
    "papermill": {
     "duration": 0.008819,
     "end_time": "2021-12-08T16:30:21.703267",
     "exception": false,
     "start_time": "2021-12-08T16:30:21.694448",
     "status": "completed"
    },
    "tags": [
     "parameters"
    ]
   },
   "outputs": [],
   "source": [
    "mach_number=0.4\n",
    "p=2\n",
    "M=16\n",
    "L=10.0\n",
    "p_map=2\n",
    "c=\"c_dg\"\n",
    "discretization_type=1\n",
    "form=\"weak\""
   ]
  },
  {
   "cell_type": "code",
   "execution_count": 2,
   "id": "fd50973d",
   "metadata": {
    "execution": {
     "iopub.execute_input": "2021-12-08T16:30:21.712383Z",
     "iopub.status.busy": "2021-12-08T16:30:21.711906Z",
     "iopub.status.idle": "2021-12-08T16:30:21.713509Z",
     "shell.execute_reply": "2021-12-08T16:30:21.713897Z"
    },
    "papermill": {
     "duration": 0.00759,
     "end_time": "2021-12-08T16:30:21.714013",
     "exception": false,
     "start_time": "2021-12-08T16:30:21.706423",
     "status": "completed"
    },
    "tags": [
     "injected-parameters"
    ]
   },
   "outputs": [],
   "source": [
    "# Parameters\n",
    "mach_number = 0.4\n",
    "p = 3\n",
    "p_map = 3\n",
    "c = \"c_dg\"\n",
    "discretization_type = 3\n",
    "form = \"weak\"\n"
   ]
  },
  {
   "cell_type": "code",
   "execution_count": 3,
   "id": "3397aa2e",
   "metadata": {
    "execution": {
     "iopub.execute_input": "2021-12-08T16:30:21.726009Z",
     "iopub.status.busy": "2021-12-08T16:30:21.724690Z",
     "iopub.status.idle": "2021-12-08T16:30:38.535674Z",
     "shell.execute_reply": "2021-12-08T16:30:38.536106Z"
    },
    "papermill": {
     "duration": 16.819201,
     "end_time": "2021-12-08T16:30:38.536256",
     "exception": false,
     "start_time": "2021-12-08T16:30:21.717055",
     "status": "completed"
    },
    "tags": []
   },
   "outputs": [
    {
     "name": "stderr",
     "output_type": "stream",
     "text": [
      "Matplotlib created a temporary config/cache directory at /tmp/matplotlib-1ejotpym because the default path (/home/z/zingg/tmontoya/.config/matplotlib) is not a writable directory; it is highly recommended to set the MPLCONFIGDIR environment variable to a writable directory, in particular to speed up the import of Matplotlib and to better support multiprocessing.\n"
     ]
    },
    {
     "name": "stdout",
     "output_type": "stream",
     "text": [
      "euler_m04p3c0t3_weak\n"
     ]
    },
    {
     "name": "stdout",
     "output_type": "stream",
     "text": [
      "loaded from time step  63356\n"
     ]
    }
   ],
   "source": [
    "import sys  \n",
    "import numpy as np\n",
    "sys.path.insert(0, '../src')\n",
    "from Driver import euler_driver\n",
    "\n",
    "solver = euler_driver(mach_number=mach_number, \n",
    "                      theta=np.pi/4,\n",
    "                        p=p, M=M, L=L,\n",
    "                        p_map=p_map, c=c, \n",
    "                        discretization_type=discretization_type,\n",
    "                        new_mesh=False,\n",
    "                        form=form, restart=True,run=True)"
   ]
  }
 ],
 "metadata": {
  "celltoolbar": "Tags",
  "interpreter": {
   "hash": "8a4c5cff9d1eb01f6f91880bd866b35b24d8468d7e92aa7ef6f6962744ecb1db"
  },
  "kernelspec": {
   "display_name": "Python 3.9.5 64-bit ('base': conda)",
   "name": "python3"
  },
  "language_info": {
   "codemirror_mode": {
    "name": "ipython",
    "version": 3
   },
   "file_extension": ".py",
   "mimetype": "text/x-python",
   "name": "python",
   "nbconvert_exporter": "python",
   "pygments_lexer": "ipython3",
   "version": "3.8.5"
  },
  "papermill": {
   "default_parameters": {},
   "duration": 19.313831,
   "end_time": "2021-12-08T16:30:39.935158",
   "environment_variables": {},
   "exception": null,
   "input_path": "euler_driver.ipynb",
   "output_path": "euler_m04p3c0t3_weak.ipynb",
   "parameters": {
    "c": "c_dg",
    "discretization_type": 3,
    "form": "weak",
    "mach_number": 0.4,
    "p": 3,
    "p_map": 3
   },
   "start_time": "2021-12-08T16:30:20.621327",
   "version": "2.3.3"
  }
 },
 "nbformat": 4,
 "nbformat_minor": 5
}