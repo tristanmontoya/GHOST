{
 "cells": [
  {
   "cell_type": "markdown",
   "id": "090acfe2",
   "metadata": {
    "papermill": {
     "duration": 0.003354,
     "end_time": "2021-10-27T13:32:59.692428",
     "exception": false,
     "start_time": "2021-10-27T13:32:59.689074",
     "status": "completed"
    },
    "tags": []
   },
   "source": [
    "# GHOST driver - linear advection equation"
   ]
  },
  {
   "cell_type": "code",
   "execution_count": 1,
   "id": "60bd1d54",
   "metadata": {
    "execution": {
     "iopub.execute_input": "2021-10-27T13:32:59.703547Z",
     "iopub.status.busy": "2021-10-27T13:32:59.703086Z",
     "iopub.status.idle": "2021-10-27T13:32:59.705243Z",
     "shell.execute_reply": "2021-10-27T13:32:59.705610Z"
    },
    "papermill": {
     "duration": 0.010396,
     "end_time": "2021-10-27T13:32:59.705803",
     "exception": false,
     "start_time": "2021-10-27T13:32:59.695407",
     "status": "completed"
    },
    "tags": [
     "parameters"
    ]
   },
   "outputs": [],
   "source": [
    "p=2\n",
    "M=8\n",
    "L=1\n",
    "p_map=1\n",
    "c=\"c_+\"\n",
    "discretization_type=1\n",
    "upwind_parameter=0.0\n",
    "form=\"weak\""
   ]
  },
  {
   "cell_type": "code",
   "execution_count": 2,
   "id": "7a0761ca",
   "metadata": {
    "execution": {
     "iopub.execute_input": "2021-10-27T13:32:59.716084Z",
     "iopub.status.busy": "2021-10-27T13:32:59.715289Z",
     "iopub.status.idle": "2021-10-27T13:32:59.717299Z",
     "shell.execute_reply": "2021-10-27T13:32:59.717695Z"
    },
    "papermill": {
     "duration": 0.009099,
     "end_time": "2021-10-27T13:32:59.717820",
     "exception": false,
     "start_time": "2021-10-27T13:32:59.708721",
     "status": "completed"
    },
    "tags": [
     "injected-parameters"
    ]
   },
   "outputs": [],
   "source": [
    "# Parameters\n",
    "p = 3\n",
    "p_map = 1\n",
    "upwind_parameter = 0.0\n",
    "c = \"c_+\"\n",
    "discretization_type = 1\n",
    "form = \"strong\"\n"
   ]
  },
  {
   "cell_type": "code",
   "execution_count": 3,
   "id": "7261c8fa",
   "metadata": {
    "execution": {
     "iopub.execute_input": "2021-10-27T13:32:59.727808Z",
     "iopub.status.busy": "2021-10-27T13:32:59.727351Z",
     "iopub.status.idle": "2021-10-27T14:23:49.390946Z",
     "shell.execute_reply": "2021-10-27T14:23:49.391651Z"
    },
    "papermill": {
     "duration": 3049.67095,
     "end_time": "2021-10-27T14:23:49.392096",
     "exception": false,
     "start_time": "2021-10-27T13:32:59.721146",
     "status": "completed"
    },
    "tags": []
   },
   "outputs": [
    {
     "name": "stderr",
     "output_type": "stream",
     "text": [
      "Matplotlib created a temporary config/cache directory at /tmp/matplotlib-xz3lez81 because the default path (/home/z/zingg/tmontoya/.config/matplotlib) is not a writable directory; it is highly recommended to set the MPLCONFIGDIR environment variable to a writable directory, in particular to speed up the import of Matplotlib and to better support multiprocessing.\n"
     ]
    },
    {
     "name": "stdout",
     "output_type": "stream",
     "text": [
      "advection_p3b0cpt1_strong\n"
     ]
    }
   ],
   "source": [
    "import sys  \n",
    "import numpy as np\n",
    "sys.path.insert(0, '../src')\n",
    "from Driver import advection_driver\n",
    "\n",
    "solver = advection_driver(a=np.sqrt(2), theta=np.pi/4, p=p, M=M, L=L,\n",
    "                        p_map=p_map, c=c, \n",
    "                        discretization_type=discretization_type,\n",
    "                        upwind_parameter=upwind_parameter,\n",
    "                        new_mesh=False,form=form,restart=True,run=True)"
   ]
  }
 ],
 "metadata": {
  "celltoolbar": "Tags",
  "interpreter": {
   "hash": "8a4c5cff9d1eb01f6f91880bd866b35b24d8468d7e92aa7ef6f6962744ecb1db"
  },
  "kernelspec": {
   "display_name": "Python 3.9.5 64-bit ('base': conda)",
   "name": "python3"
  },
  "language_info": {
   "codemirror_mode": {
    "name": "ipython",
    "version": 3
   },
   "file_extension": ".py",
   "mimetype": "text/x-python",
   "name": "python",
   "nbconvert_exporter": "python",
   "pygments_lexer": "ipython3",
   "version": "3.8.5"
  },
  "papermill": {
   "default_parameters": {},
   "duration": 3051.719944,
   "end_time": "2021-10-27T14:23:49.705479",
   "environment_variables": {},
   "exception": null,
   "input_path": "advection_driver.ipynb",
   "output_path": "advection_p3b0cpt1_strong.ipynb",
   "parameters": {
    "c": "c_+",
    "discretization_type": 1,
    "form": "strong",
    "p": 3,
    "p_map": 1,
    "upwind_parameter": 0.0
   },
   "start_time": "2021-10-27T13:32:57.985535",
   "version": "2.3.3"
  }
 },
 "nbformat": 4,
 "nbformat_minor": 5
}