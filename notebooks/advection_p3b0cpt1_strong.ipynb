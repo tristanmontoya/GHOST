{
 "cells": [
  {
   "cell_type": "code",
   "execution_count": 1,
   "id": "2cb5868b",
   "metadata": {
    "execution": {
     "iopub.execute_input": "2021-05-11T05:21:33.978404Z",
     "iopub.status.busy": "2021-05-11T05:21:33.977738Z",
     "iopub.status.idle": "2021-05-11T05:21:33.979048Z",
     "shell.execute_reply": "2021-05-11T05:21:33.979544Z"
    },
    "papermill": {
     "duration": 0.01983,
     "end_time": "2021-05-11T05:21:33.979805",
     "exception": false,
     "start_time": "2021-05-11T05:21:33.959975",
     "status": "completed"
    },
    "tags": [
     "parameters"
    ]
   },
   "outputs": [],
   "source": [
    "p=2\n",
    "M=10\n",
    "L=1\n",
    "p_geo=1\n",
    "c=\"c_dg\"\n",
    "discretization_type=1\n",
    "upwind_parameter=1.0\n",
    "form=\"strong\""
   ]
  },
  {
   "cell_type": "code",
   "execution_count": 2,
   "id": "7e8f8987",
   "metadata": {
    "execution": {
     "iopub.execute_input": "2021-05-11T05:21:34.013321Z",
     "iopub.status.busy": "2021-05-11T05:21:34.009875Z",
     "iopub.status.idle": "2021-05-11T05:21:34.014816Z",
     "shell.execute_reply": "2021-05-11T05:21:34.014089Z"
    },
    "papermill": {
     "duration": 0.023326,
     "end_time": "2021-05-11T05:21:34.014967",
     "exception": false,
     "start_time": "2021-05-11T05:21:33.991641",
     "status": "completed"
    },
    "tags": [
     "injected-parameters"
    ]
   },
   "outputs": [],
   "source": [
    "# Parameters\n",
    "p = 3\n",
    "p_geo = 1\n",
    "upwind_parameter = 0.0\n",
    "c = \"c_+\"\n",
    "discretization_type = 1\n",
    "form = \"strong\"\n"
   ]
  },
  {
   "cell_type": "code",
   "execution_count": 3,
   "id": "17af3224",
   "metadata": {
    "execution": {
     "iopub.execute_input": "2021-05-11T05:21:34.053337Z",
     "iopub.status.busy": "2021-05-11T05:21:34.052700Z",
     "iopub.status.idle": "2021-05-11T07:57:08.349475Z",
     "shell.execute_reply": "2021-05-11T07:57:08.349986Z"
    },
    "papermill": {
     "duration": 9334.308515,
     "end_time": "2021-05-11T07:57:08.350221",
     "exception": false,
     "start_time": "2021-05-11T05:21:34.041706",
     "status": "completed"
    },
    "tags": []
   },
   "outputs": [
    {
     "name": "stderr",
     "output_type": "stream",
     "text": [
      "WARNING:root:msh4 requires 3D points, but 2D points given. Appending 0 third component.\n"
     ]
    },
    {
     "name": "stderr",
     "output_type": "stream",
     "text": [
      "WARNING:root:Binary Gmsh needs c_size_t (got int64). Converting.\n"
     ]
    },
    {
     "name": "stdout",
     "output_type": "stream",
     "text": [
      "advection_p3b0cpt1_strong\n"
     ]
    },
    {
     "name": "stdout",
     "output_type": "stream",
     "text": [
      "-1.038e-15 &  2.554e-15 & 1.658e-02  \\\\\n"
     ]
    }
   ],
   "source": [
    "import sys  \n",
    "import numpy as np\n",
    "sys.path.insert(0, '../src')\n",
    "from Driver import advection_driver\n",
    "\n",
    "solver = advection_driver(a=np.sqrt(2), theta=np.pi/4, p=p, M=M, L=L,\n",
    "                        p_geo=p_geo, c=c, \n",
    "                        discretization_type=discretization_type,\n",
    "                        upwind_parameter=upwind_parameter,\n",
    "                        form=form)"
   ]
  },
  {
   "cell_type": "code",
   "execution_count": null,
   "id": "b8321519",
   "metadata": {
    "papermill": {
     "duration": 0.005719,
     "end_time": "2021-05-11T07:57:08.361953",
     "exception": false,
     "start_time": "2021-05-11T07:57:08.356234",
     "status": "completed"
    },
    "tags": []
   },
   "outputs": [],
   "source": []
  }
 ],
 "metadata": {
  "celltoolbar": "Tags",
  "kernelspec": {
   "display_name": "Python 3",
   "language": "python",
   "name": "python3"
  },
  "language_info": {
   "codemirror_mode": {
    "name": "ipython",
    "version": 3
   },
   "file_extension": ".py",
   "mimetype": "text/x-python",
   "name": "python",
   "nbconvert_exporter": "python",
   "pygments_lexer": "ipython3",
   "version": "3.8.5"
  },
  "papermill": {
   "default_parameters": {},
   "duration": 9337.072757,
   "end_time": "2021-05-11T07:57:09.865259",
   "environment_variables": {},
   "exception": null,
   "input_path": "advection_driver.ipynb",
   "output_path": "advection_p3b0cpt1_strong.ipynb",
   "parameters": {
    "c": "c_+",
    "discretization_type": 1,
    "form": "strong",
    "p": 3,
    "p_geo": 1,
    "upwind_parameter": 0.0
   },
   "start_time": "2021-05-11T05:21:32.792502",
   "version": "2.3.3"
  }
 },
 "nbformat": 4,
 "nbformat_minor": 5
}