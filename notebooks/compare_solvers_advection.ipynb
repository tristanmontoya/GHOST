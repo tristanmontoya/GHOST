{
 "cells": [
  {
   "cell_type": "code",
   "execution_count": 3,
   "metadata": {},
   "outputs": [],
   "source": [
    "p=2\n",
    "M=5\n",
    "L=1.0\n",
    "p_geo=1\n",
    "c=\"c_dg\""
   ]
  },
  {
   "cell_type": "code",
   "execution_count": 4,
   "metadata": {},
   "outputs": [
    {
     "name": "stderr",
     "output_type": "stream",
     "text": [
      "WARNING:root:msh4 requires 3D points, but 2D points given. Appending 0 third component.\n",
      "WARNING:root:Binary Gmsh needs c_size_t (got int64). Converting.\n",
      "WARNING:root:msh4 requires 3D points, but 2D points given. Appending 0 third component.\n",
      "WARNING:root:Binary Gmsh needs c_size_t (got int64). Converting.\n"
     ]
    },
    {
     "name": "stdout",
     "output_type": "stream",
     "text": [
      "advection_p2b0c0t1_strong\n",
      "advection_p2b0c0t1_weak\n"
     ]
    },
    {
     "ename": "FileNotFoundError",
     "evalue": "[Errno 2] No such file or directory: '../results/advection_p2b0c0t1_strong/res_20000.dat'",
     "output_type": "error",
     "traceback": [
      "\u001b[0;31m---------------------------------------------------------------------------\u001b[0m",
      "\u001b[0;31mFileNotFoundError\u001b[0m                         Traceback (most recent call last)",
      "\u001b[0;32m<ipython-input-4-a6850740499b>\u001b[0m in \u001b[0;36m<module>\u001b[0;34m\u001b[0m\n\u001b[1;32m     26\u001b[0m                                 \u001b[0mupwind_parameter\u001b[0m\u001b[0;34m=\u001b[0m\u001b[0mfloat\u001b[0m\u001b[0;34m(\u001b[0m\u001b[0mbeta\u001b[0m\u001b[0;34m)\u001b[0m\u001b[0;34m,\u001b[0m\u001b[0;34m\u001b[0m\u001b[0;34m\u001b[0m\u001b[0m\n\u001b[1;32m     27\u001b[0m                                 form=\"weak\", run=False)\n\u001b[0;32m---> 28\u001b[0;31m         \u001b[0mstrong\u001b[0m\u001b[0;34m.\u001b[0m\u001b[0mload_solution\u001b[0m\u001b[0;34m(\u001b[0m\u001b[0mtime_step\u001b[0m\u001b[0;34m=\u001b[0m\u001b[0mn_t\u001b[0m\u001b[0;34m)\u001b[0m\u001b[0;34m\u001b[0m\u001b[0;34m\u001b[0m\u001b[0m\n\u001b[0m\u001b[1;32m     29\u001b[0m         \u001b[0mstrong\u001b[0m\u001b[0;34m.\u001b[0m\u001b[0mpost_process\u001b[0m\u001b[0;34m(\u001b[0m\u001b[0merror_quadrature_degree\u001b[0m\u001b[0;34m=\u001b[0m\u001b[0;36m4\u001b[0m\u001b[0;34m*\u001b[0m\u001b[0mp\u001b[0m\u001b[0;34m)\u001b[0m\u001b[0;34m\u001b[0m\u001b[0;34m\u001b[0m\u001b[0m\n\u001b[1;32m     30\u001b[0m         \u001b[0mweak\u001b[0m\u001b[0;34m.\u001b[0m\u001b[0mload_solution\u001b[0m\u001b[0;34m(\u001b[0m\u001b[0mtime_step\u001b[0m\u001b[0;34m=\u001b[0m\u001b[0mn_t\u001b[0m\u001b[0;34m)\u001b[0m\u001b[0;34m\u001b[0m\u001b[0;34m\u001b[0m\u001b[0m\n",
      "\u001b[0;32m~/Research/GHOST_private/src/Solver.py\u001b[0m in \u001b[0;36mload_solution\u001b[0;34m(self, results_path, time_step)\u001b[0m\n\u001b[1;32m   1087\u001b[0m         self.u_hat = pickle.load(open(results_path \n\u001b[1;32m   1088\u001b[0m                                       \u001b[0;34m+\u001b[0m \u001b[0;34m\"res_\"\u001b[0m\u001b[0;34m\u001b[0m\u001b[0;34m\u001b[0m\u001b[0m\n\u001b[0;32m-> 1089\u001b[0;31m                                       + str(time_step) + \".dat\", \"rb\"))\n\u001b[0m\u001b[1;32m   1090\u001b[0m \u001b[0;34m\u001b[0m\u001b[0m\n\u001b[1;32m   1091\u001b[0m \u001b[0;34m\u001b[0m\u001b[0m\n",
      "\u001b[0;31mFileNotFoundError\u001b[0m: [Errno 2] No such file or directory: '../results/advection_p2b0c0t1_strong/res_20000.dat'"
     ]
    }
   ],
   "source": [
    "import sys  \n",
    "import pickle\n",
    "import numpy as np\n",
    "sys.path.insert(0, '../src')\n",
    "from Driver import advection_driver\n",
    "\n",
    "n_t = 20000\n",
    "\n",
    "if c == \"c_dg\":\n",
    "    c_text = \"$c_{\\\\textrm{DG}}$\"\n",
    "elif c == \"c_+\":\n",
    "    c_text = \"$c_+$\"\n",
    "\n",
    "for discretization_type in range(1,4):\n",
    "    for beta in range(0,1):\n",
    "        strong = advection_driver(a=np.sqrt(2), \n",
    "                                p=p, M=M, L=L,\n",
    "                                p_geo=p_geo, c=c, \n",
    "                                discretization_type=discretization_type,\n",
    "                                upwind_parameter=float(beta),\n",
    "                                form=\"strong\", run=False)\n",
    "        weak = advection_driver(a=np.sqrt(2), \n",
    "                                p=p, M=M, L=L,\n",
    "                                p_geo=p_geo, c=c, \n",
    "                                discretization_type=discretization_type,\n",
    "                                upwind_parameter=float(beta),\n",
    "                                form=\"weak\", run=False)\n",
    "        strong.load_solution(time_step=n_t)\n",
    "        strong.post_process(error_quadrature_degree=4*p)\n",
    "        weak.load_solution(time_step=n_t)\n",
    "        weak.post_process(error_quadrature_degree=4*p)\n",
    "\n",
    "        diff = strong.calculate_difference(weak)\n",
    "        strong_cons_error = pickle.load(open(\"../results/\" + strong.params[\"project_title\"] + \"/conservation_error.dat\", \"rb\"))\n",
    "        weak_cons_error = pickle.load(open(\"../results/\" + weak.params[\"project_title\"] + \"/conservation_error.dat\", \"rb\"))\n",
    "        strong_energy_error = pickle.load(open(\"../results/\" + strong.params[\"project_title\"] + \"/energy_error.dat\", \"rb\"))\n",
    "        weak_energy_error = pickle.load(open(\"../results/\" + weak.params[\"project_title\"] + \"/energy_error.dat\", \"rb\"))   \n",
    "        strong_sol_error = pickle.load(open(\"../results/\" + strong.params[\"project_title\"] + \"/solution_error.dat\", \"rb\"))\n",
    "        weak_sol_error = pickle.load(open(\"../results/\" + weak.params[\"project_title\"] + \"/solution_error.dat\", \"rb\"))\n",
    "\n",
    "        print(\"& \", c_text, \" & \", str(beta), \" & \", \"{:.3e}\".format(diff[0]), \" & \",\n",
    "        \"{:.3e}\".format(strong_cons_error[0]), \"&\",\n",
    "        \"{:.3e}\".format(weak_cons_error[0]), \"&\", \n",
    "        \"{:.3e}\".format(strong_sol_error[0]), \"&\",\n",
    "        \"{:.3e}\".format(weak_sol_error[0]), \"\\\\\\\\\")"
   ]
  },
  {
   "cell_type": "code",
   "execution_count": null,
   "metadata": {},
   "outputs": [],
   "source": []
  }
 ],
 "metadata": {
  "celltoolbar": "Tags",
  "kernelspec": {
   "display_name": "Python 3",
   "language": "python",
   "name": "python3"
  },
  "language_info": {
   "codemirror_mode": {
    "name": "ipython",
    "version": 3
   },
   "file_extension": ".py",
   "mimetype": "text/x-python",
   "name": "python",
   "nbconvert_exporter": "python",
   "pygments_lexer": "ipython3",
   "version": "3.7.9"
  }
 },
 "nbformat": 4,
 "nbformat_minor": 4
}
