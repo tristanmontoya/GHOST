{
 "cells": [
  {
   "cell_type": "markdown",
   "id": "85e0e59d",
   "metadata": {
    "papermill": {
     "duration": 0.003331,
     "end_time": "2021-10-27T12:36:40.166365",
     "exception": false,
     "start_time": "2021-10-27T12:36:40.163034",
     "status": "completed"
    },
    "tags": []
   },
   "source": [
    "# GHOST driver - linear advection equation"
   ]
  },
  {
   "cell_type": "code",
   "execution_count": 1,
   "id": "1bb36b2f",
   "metadata": {
    "execution": {
     "iopub.execute_input": "2021-10-27T12:36:40.176669Z",
     "iopub.status.busy": "2021-10-27T12:36:40.176160Z",
     "iopub.status.idle": "2021-10-27T12:36:40.178076Z",
     "shell.execute_reply": "2021-10-27T12:36:40.178459Z"
    },
    "papermill": {
     "duration": 0.009322,
     "end_time": "2021-10-27T12:36:40.178658",
     "exception": false,
     "start_time": "2021-10-27T12:36:40.169336",
     "status": "completed"
    },
    "tags": [
     "parameters"
    ]
   },
   "outputs": [],
   "source": [
    "p=2\n",
    "M=8\n",
    "L=1\n",
    "p_map=1\n",
    "c=\"c_+\"\n",
    "discretization_type=1\n",
    "upwind_parameter=0.0\n",
    "form=\"weak\""
   ]
  },
  {
   "cell_type": "code",
   "execution_count": 2,
   "id": "bc2db3f4",
   "metadata": {
    "execution": {
     "iopub.execute_input": "2021-10-27T12:36:40.189795Z",
     "iopub.status.busy": "2021-10-27T12:36:40.189014Z",
     "iopub.status.idle": "2021-10-27T12:36:40.191553Z",
     "shell.execute_reply": "2021-10-27T12:36:40.190866Z"
    },
    "papermill": {
     "duration": 0.010023,
     "end_time": "2021-10-27T12:36:40.191710",
     "exception": false,
     "start_time": "2021-10-27T12:36:40.181687",
     "status": "completed"
    },
    "tags": [
     "injected-parameters"
    ]
   },
   "outputs": [],
   "source": [
    "# Parameters\n",
    "p = 2\n",
    "p_map = 1\n",
    "upwind_parameter = 0.0\n",
    "c = \"c_+\"\n",
    "discretization_type = 1\n",
    "form = \"weak\"\n"
   ]
  },
  {
   "cell_type": "code",
   "execution_count": 3,
   "id": "479bdd6c",
   "metadata": {
    "execution": {
     "iopub.execute_input": "2021-10-27T12:36:40.206303Z",
     "iopub.status.busy": "2021-10-27T12:36:40.205811Z",
     "iopub.status.idle": "2021-10-27T13:01:11.570216Z",
     "shell.execute_reply": "2021-10-27T13:01:11.571058Z"
    },
    "papermill": {
     "duration": 1471.374837,
     "end_time": "2021-10-27T13:01:11.571384",
     "exception": false,
     "start_time": "2021-10-27T12:36:40.196547",
     "status": "completed"
    },
    "tags": []
   },
   "outputs": [
    {
     "name": "stderr",
     "output_type": "stream",
     "text": [
      "Matplotlib created a temporary config/cache directory at /tmp/matplotlib-nmpl0_za because the default path (/home/z/zingg/tmontoya/.config/matplotlib) is not a writable directory; it is highly recommended to set the MPLCONFIGDIR environment variable to a writable directory, in particular to speed up the import of Matplotlib and to better support multiprocessing.\n"
     ]
    },
    {
     "name": "stdout",
     "output_type": "stream",
     "text": [
      "advection_p2b0cpt1_weak\n"
     ]
    }
   ],
   "source": [
    "import sys  \n",
    "import numpy as np\n",
    "sys.path.insert(0, '../src')\n",
    "from Driver import advection_driver\n",
    "\n",
    "solver = advection_driver(a=np.sqrt(2), theta=np.pi/4, p=p, M=M, L=L,\n",
    "                        p_map=p_map, c=c, \n",
    "                        discretization_type=discretization_type,\n",
    "                        upwind_parameter=upwind_parameter,\n",
    "                        new_mesh=False,form=form,restart=True,run=True)"
   ]
  }
 ],
 "metadata": {
  "celltoolbar": "Tags",
  "interpreter": {
   "hash": "8a4c5cff9d1eb01f6f91880bd866b35b24d8468d7e92aa7ef6f6962744ecb1db"
  },
  "kernelspec": {
   "display_name": "Python 3.9.5 64-bit ('base': conda)",
   "name": "python3"
  },
  "language_info": {
   "codemirror_mode": {
    "name": "ipython",
    "version": 3
   },
   "file_extension": ".py",
   "mimetype": "text/x-python",
   "name": "python",
   "nbconvert_exporter": "python",
   "pygments_lexer": "ipython3",
   "version": "3.8.5"
  },
  "papermill": {
   "default_parameters": {},
   "duration": 1475.34379,
   "end_time": "2021-10-27T13:01:11.987769",
   "environment_variables": {},
   "exception": null,
   "input_path": "advection_driver.ipynb",
   "output_path": "advection_p2b0cpt1_weak.ipynb",
   "parameters": {
    "c": "c_+",
    "discretization_type": 1,
    "form": "weak",
    "p": 2,
    "p_map": 1,
    "upwind_parameter": 0.0
   },
   "start_time": "2021-10-27T12:36:36.643979",
   "version": "2.3.3"
  }
 },
 "nbformat": 4,
 "nbformat_minor": 5
}