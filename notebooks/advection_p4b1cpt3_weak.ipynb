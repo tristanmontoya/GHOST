{
 "cells": [
  {
   "cell_type": "markdown",
   "id": "b721522a",
   "metadata": {
    "papermill": {
     "duration": 0.004611,
     "end_time": "2021-10-27T13:33:10.521528",
     "exception": false,
     "start_time": "2021-10-27T13:33:10.516917",
     "status": "completed"
    },
    "tags": []
   },
   "source": [
    "# GHOST driver - linear advection equation"
   ]
  },
  {
   "cell_type": "code",
   "execution_count": 1,
   "id": "de999957",
   "metadata": {
    "execution": {
     "iopub.execute_input": "2021-10-27T13:33:10.531437Z",
     "iopub.status.busy": "2021-10-27T13:33:10.530938Z",
     "iopub.status.idle": "2021-10-27T13:33:10.533010Z",
     "shell.execute_reply": "2021-10-27T13:33:10.532504Z"
    },
    "papermill": {
     "duration": 0.008434,
     "end_time": "2021-10-27T13:33:10.533132",
     "exception": false,
     "start_time": "2021-10-27T13:33:10.524698",
     "status": "completed"
    },
    "tags": [
     "parameters"
    ]
   },
   "outputs": [],
   "source": [
    "p=2\n",
    "M=8\n",
    "L=1\n",
    "p_map=1\n",
    "c=\"c_+\"\n",
    "discretization_type=1\n",
    "upwind_parameter=0.0\n",
    "form=\"weak\""
   ]
  },
  {
   "cell_type": "code",
   "execution_count": 2,
   "id": "198b2ae3",
   "metadata": {
    "execution": {
     "iopub.execute_input": "2021-10-27T13:33:10.541670Z",
     "iopub.status.busy": "2021-10-27T13:33:10.541213Z",
     "iopub.status.idle": "2021-10-27T13:33:10.542767Z",
     "shell.execute_reply": "2021-10-27T13:33:10.543145Z"
    },
    "papermill": {
     "duration": 0.007242,
     "end_time": "2021-10-27T13:33:10.543254",
     "exception": false,
     "start_time": "2021-10-27T13:33:10.536012",
     "status": "completed"
    },
    "tags": [
     "injected-parameters"
    ]
   },
   "outputs": [],
   "source": [
    "# Parameters\n",
    "p = 4\n",
    "p_map = 1\n",
    "upwind_parameter = 1.0\n",
    "c = \"c_+\"\n",
    "discretization_type = 3\n",
    "form = \"weak\"\n"
   ]
  },
  {
   "cell_type": "code",
   "execution_count": 3,
   "id": "9f1a4f5f",
   "metadata": {
    "execution": {
     "iopub.execute_input": "2021-10-27T13:33:10.552497Z",
     "iopub.status.busy": "2021-10-27T13:33:10.552051Z",
     "iopub.status.idle": "2021-10-27T14:23:52.111577Z",
     "shell.execute_reply": "2021-10-27T14:23:52.111970Z"
    },
    "papermill": {
     "duration": 3041.566084,
     "end_time": "2021-10-27T14:23:52.112108",
     "exception": false,
     "start_time": "2021-10-27T13:33:10.546024",
     "status": "completed"
    },
    "tags": []
   },
   "outputs": [
    {
     "name": "stderr",
     "output_type": "stream",
     "text": [
      "Matplotlib created a temporary config/cache directory at /tmp/matplotlib-9svwd9me because the default path (/home/z/zingg/tmontoya/.config/matplotlib) is not a writable directory; it is highly recommended to set the MPLCONFIGDIR environment variable to a writable directory, in particular to speed up the import of Matplotlib and to better support multiprocessing.\n"
     ]
    },
    {
     "name": "stdout",
     "output_type": "stream",
     "text": [
      "advection_p4b1cpt3_weak\n"
     ]
    }
   ],
   "source": [
    "import sys  \n",
    "import numpy as np\n",
    "sys.path.insert(0, '../src')\n",
    "from Driver import advection_driver\n",
    "\n",
    "solver = advection_driver(a=np.sqrt(2), theta=np.pi/4, p=p, M=M, L=L,\n",
    "                        p_map=p_map, c=c, \n",
    "                        discretization_type=discretization_type,\n",
    "                        upwind_parameter=upwind_parameter,\n",
    "                        new_mesh=False,form=form,restart=True,run=True)"
   ]
  }
 ],
 "metadata": {
  "celltoolbar": "Tags",
  "interpreter": {
   "hash": "8a4c5cff9d1eb01f6f91880bd866b35b24d8468d7e92aa7ef6f6962744ecb1db"
  },
  "kernelspec": {
   "display_name": "Python 3.9.5 64-bit ('base': conda)",
   "name": "python3"
  },
  "language_info": {
   "codemirror_mode": {
    "name": "ipython",
    "version": 3
   },
   "file_extension": ".py",
   "mimetype": "text/x-python",
   "name": "python",
   "nbconvert_exporter": "python",
   "pygments_lexer": "ipython3",
   "version": "3.8.5"
  },
  "papermill": {
   "default_parameters": {},
   "duration": 3046.859328,
   "end_time": "2021-10-27T14:23:53.346735",
   "environment_variables": {},
   "exception": null,
   "input_path": "advection_driver.ipynb",
   "output_path": "advection_p4b1cpt3_weak.ipynb",
   "parameters": {
    "c": "c_+",
    "discretization_type": 3,
    "form": "weak",
    "p": 4,
    "p_map": 1,
    "upwind_parameter": 1.0
   },
   "start_time": "2021-10-27T13:33:06.487407",
   "version": "2.3.3"
  }
 },
 "nbformat": 4,
 "nbformat_minor": 5
}