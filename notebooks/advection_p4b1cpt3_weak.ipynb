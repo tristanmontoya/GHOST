{
 "cells": [
  {
   "cell_type": "code",
   "execution_count": 1,
   "id": "1d237423",
   "metadata": {
    "execution": {
     "iopub.execute_input": "2021-05-14T14:12:17.966281Z",
     "iopub.status.busy": "2021-05-14T14:12:17.965573Z",
     "iopub.status.idle": "2021-05-14T14:12:17.968809Z",
     "shell.execute_reply": "2021-05-14T14:12:17.968162Z"
    },
    "papermill": {
     "duration": 0.019191,
     "end_time": "2021-05-14T14:12:17.968962",
     "exception": false,
     "start_time": "2021-05-14T14:12:17.949771",
     "status": "completed"
    },
    "tags": [
     "parameters"
    ]
   },
   "outputs": [],
   "source": [
    "p=2\n",
    "M=10\n",
    "L=1\n",
    "p_geo=1\n",
    "c=\"c_dg\"\n",
    "discretization_type=1\n",
    "upwind_parameter=1.0\n",
    "form=\"strong\""
   ]
  },
  {
   "cell_type": "code",
   "execution_count": 2,
   "id": "a44c14c6",
   "metadata": {
    "execution": {
     "iopub.execute_input": "2021-05-14T14:12:18.039266Z",
     "iopub.status.busy": "2021-05-14T14:12:18.038045Z",
     "iopub.status.idle": "2021-05-14T14:12:18.039866Z",
     "shell.execute_reply": "2021-05-14T14:12:18.038652Z"
    },
    "papermill": {
     "duration": 0.053835,
     "end_time": "2021-05-14T14:12:18.040008",
     "exception": false,
     "start_time": "2021-05-14T14:12:17.986173",
     "status": "completed"
    },
    "tags": [
     "injected-parameters"
    ]
   },
   "outputs": [],
   "source": [
    "# Parameters\n",
    "p = 4\n",
    "p_geo = 1\n",
    "upwind_parameter = 1.0\n",
    "c = \"c_+\"\n",
    "discretization_type = 3\n",
    "form = \"weak\"\n"
   ]
  },
  {
   "cell_type": "code",
   "execution_count": 3,
   "id": "90d7355f",
   "metadata": {
    "execution": {
     "iopub.execute_input": "2021-05-14T14:12:18.132201Z",
     "iopub.status.busy": "2021-05-14T14:12:18.131517Z",
     "iopub.status.idle": "2021-05-14T16:43:28.363787Z",
     "shell.execute_reply": "2021-05-14T16:43:28.363046Z"
    },
    "papermill": {
     "duration": 9070.286291,
     "end_time": "2021-05-14T16:43:28.364010",
     "exception": false,
     "start_time": "2021-05-14T14:12:18.077719",
     "status": "completed"
    },
    "tags": []
   },
   "outputs": [
    {
     "name": "stderr",
     "output_type": "stream",
     "text": [
      "WARNING:root:msh4 requires 3D points, but 2D points given. Appending 0 third component.\n"
     ]
    },
    {
     "name": "stderr",
     "output_type": "stream",
     "text": [
      "WARNING:root:Binary Gmsh needs c_size_t (got int64). Converting.\n"
     ]
    },
    {
     "name": "stdout",
     "output_type": "stream",
     "text": [
      "advection_p4b1cpt3_weak\n"
     ]
    },
    {
     "name": "stdout",
     "output_type": "stream",
     "text": [
      "4.982e-16 &  -8.890e-06 & 4.282e-04  \\\\\n"
     ]
    }
   ],
   "source": [
    "import sys  \n",
    "import numpy as np\n",
    "sys.path.insert(0, '../src')\n",
    "from Driver import advection_driver\n",
    "\n",
    "solver = advection_driver(a=np.sqrt(2), theta=np.pi/4, p=p, M=M, L=L,\n",
    "                        p_geo=p_geo, c=c, \n",
    "                        discretization_type=discretization_type,\n",
    "                        upwind_parameter=upwind_parameter,\n",
    "                        form=form)"
   ]
  },
  {
   "cell_type": "code",
   "execution_count": null,
   "id": "502d08d3",
   "metadata": {
    "papermill": {
     "duration": 0.008342,
     "end_time": "2021-05-14T16:43:28.381135",
     "exception": false,
     "start_time": "2021-05-14T16:43:28.372793",
     "status": "completed"
    },
    "tags": []
   },
   "outputs": [],
   "source": []
  }
 ],
 "metadata": {
  "celltoolbar": "Tags",
  "kernelspec": {
   "display_name": "Python 3",
   "language": "python",
   "name": "python3"
  },
  "language_info": {
   "codemirror_mode": {
    "name": "ipython",
    "version": 3
   },
   "file_extension": ".py",
   "mimetype": "text/x-python",
   "name": "python",
   "nbconvert_exporter": "python",
   "pygments_lexer": "ipython3",
   "version": "3.8.5"
  },
  "papermill": {
   "default_parameters": {},
   "duration": 9073.218501,
   "end_time": "2021-05-14T16:43:29.632220",
   "environment_variables": {},
   "exception": null,
   "input_path": "advection_driver.ipynb",
   "output_path": "advection_p4b1cpt3_weak.ipynb",
   "parameters": {
    "c": "c_+",
    "discretization_type": 3,
    "form": "weak",
    "p": 4,
    "p_geo": 1,
    "upwind_parameter": 1.0
   },
   "start_time": "2021-05-14T14:12:16.413719",
   "version": "2.3.3"
  }
 },
 "nbformat": 4,
 "nbformat_minor": 5
}