{
 "cells": [
  {
   "cell_type": "code",
   "execution_count": 1,
   "metadata": {
    "execution": {
     "iopub.execute_input": "2020-12-30T03:09:00.511712Z",
     "iopub.status.busy": "2020-12-30T03:09:00.507558Z",
     "iopub.status.idle": "2020-12-30T03:09:00.525538Z",
     "shell.execute_reply": "2020-12-30T03:09:00.526346Z"
    },
    "papermill": {
     "duration": 0.038538,
     "end_time": "2020-12-30T03:09:00.526735",
     "exception": false,
     "start_time": "2020-12-30T03:09:00.488197",
     "status": "completed"
    },
    "tags": [
     "parameters"
    ]
   },
   "outputs": [],
   "source": [
    "mach_number=0.4\n",
    "p=2\n",
    "M=11\n",
    "L=10.0\n",
    "p_geo=2\n",
    "c=\"c_dg\"\n",
    "discretization_type=1\n",
    "form=\"strong\""
   ]
  },
  {
   "cell_type": "code",
   "execution_count": 2,
   "metadata": {
    "execution": {
     "iopub.execute_input": "2020-12-30T03:09:00.582767Z",
     "iopub.status.busy": "2020-12-30T03:09:00.580982Z",
     "iopub.status.idle": "2020-12-30T03:09:00.586051Z",
     "shell.execute_reply": "2020-12-30T03:09:00.586665Z"
    },
    "papermill": {
     "duration": 0.051837,
     "end_time": "2020-12-30T03:09:00.586899",
     "exception": false,
     "start_time": "2020-12-30T03:09:00.535062",
     "status": "completed"
    },
    "tags": [
     "injected-parameters"
    ]
   },
   "outputs": [],
   "source": [
    "# Parameters\n",
    "mach_number = 0.4\n",
    "p = 2\n",
    "c = \"c_+\"\n",
    "discretization_type = 3\n",
    "form = \"strong\"\n"
   ]
  },
  {
   "cell_type": "code",
   "execution_count": 3,
   "metadata": {
    "execution": {
     "iopub.execute_input": "2020-12-30T03:09:00.618750Z",
     "iopub.status.busy": "2020-12-30T03:09:00.617917Z",
     "iopub.status.idle": "2020-12-30T14:28:07.090404Z",
     "shell.execute_reply": "2020-12-30T14:28:07.089751Z"
    },
    "papermill": {
     "duration": 40746.498682,
     "end_time": "2020-12-30T14:28:07.090651",
     "exception": false,
     "start_time": "2020-12-30T03:09:00.591969",
     "status": "completed"
    },
    "tags": []
   },
   "outputs": [
    {
     "name": "stderr",
     "output_type": "stream",
     "text": [
      "WARNING:root:msh4 requires 3D points, but 2D points given. Appending 0 third component.\n"
     ]
    },
    {
     "name": "stderr",
     "output_type": "stream",
     "text": [
      "WARNING:root:Binary Gmsh needs c_size_t (got int64). Converting.\n"
     ]
    },
    {
     "name": "stdout",
     "output_type": "stream",
     "text": [
      "running solver euler_m04p2cpt3_strong\n"
     ]
    },
    {
     "name": "stdout",
     "output_type": "stream",
     "text": [
      "1.563e-13 &  1.028e-01  \\\\\n",
      "-3.766e-13 &  3.488e-01  \\\\\n",
      "7.851e-13 &  2.417e-01  \\\\\n",
      "1.705e-13 &  2.775e-01  \\\\\n"
     ]
    }
   ],
   "source": [
    "import sys  \n",
    "sys.path.insert(0, '../src')\n",
    "from Driver import euler_driver\n",
    "\n",
    "solver = euler_driver(mach_number=mach_number, \n",
    "                        p=p, M=M, L=L,\n",
    "                        p_geo=p_geo, c=c, \n",
    "                        discretization_type=discretization_type,\n",
    "                        form=form)"
   ]
  },
  {
   "cell_type": "code",
   "execution_count": null,
   "metadata": {
    "papermill": {
     "duration": 0.005333,
     "end_time": "2020-12-30T14:28:07.101754",
     "exception": false,
     "start_time": "2020-12-30T14:28:07.096421",
     "status": "completed"
    },
    "tags": []
   },
   "outputs": [],
   "source": []
  }
 ],
 "metadata": {
  "celltoolbar": "Tags",
  "kernelspec": {
   "display_name": "Python 3",
   "language": "python",
   "name": "python3"
  },
  "language_info": {
   "codemirror_mode": {
    "name": "ipython",
    "version": 3
   },
   "file_extension": ".py",
   "mimetype": "text/x-python",
   "name": "python",
   "nbconvert_exporter": "python",
   "pygments_lexer": "ipython3",
   "version": "3.8.5"
  },
  "papermill": {
   "default_parameters": {},
   "duration": 40748.716986,
   "end_time": "2020-12-30T14:28:07.920227",
   "environment_variables": {},
   "exception": null,
   "input_path": "euler_driver.ipynb",
   "output_path": "euler_m04p2cpt3_strong.ipynb",
   "parameters": {
    "c": "c_+",
    "discretization_type": 3,
    "form": "strong",
    "mach_number": 0.4,
    "p": 2
   },
   "start_time": "2020-12-30T03:08:59.203241",
   "version": "2.2.2"
  }
 },
 "nbformat": 4,
 "nbformat_minor": 2
}