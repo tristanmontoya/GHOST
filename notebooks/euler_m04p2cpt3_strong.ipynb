{
 "cells": [
  {
   "cell_type": "code",
   "execution_count": 1,
   "id": "40e2e5e4",
   "metadata": {
    "execution": {
     "iopub.execute_input": "2021-05-09T21:51:37.788779Z",
     "iopub.status.busy": "2021-05-09T21:51:37.787922Z",
     "iopub.status.idle": "2021-05-09T21:51:37.791726Z",
     "shell.execute_reply": "2021-05-09T21:51:37.790777Z"
    },
    "papermill": {
     "duration": 0.026353,
     "end_time": "2021-05-09T21:51:37.791920",
     "exception": false,
     "start_time": "2021-05-09T21:51:37.765567",
     "status": "completed"
    },
    "tags": [
     "parameters"
    ]
   },
   "outputs": [],
   "source": [
    "mach_number=0.4\n",
    "p=2\n",
    "M=11\n",
    "L=10.0\n",
    "p_geo=2\n",
    "c=\"c_dg\"\n",
    "discretization_type=1\n",
    "form=\"strong\""
   ]
  },
  {
   "cell_type": "code",
   "execution_count": 2,
   "id": "456ce4dc",
   "metadata": {
    "execution": {
     "iopub.execute_input": "2021-05-09T21:51:37.808916Z",
     "iopub.status.busy": "2021-05-09T21:51:37.808089Z",
     "iopub.status.idle": "2021-05-09T21:51:37.810847Z",
     "shell.execute_reply": "2021-05-09T21:51:37.811480Z"
    },
    "papermill": {
     "duration": 0.013632,
     "end_time": "2021-05-09T21:51:37.811673",
     "exception": false,
     "start_time": "2021-05-09T21:51:37.798041",
     "status": "completed"
    },
    "tags": [
     "injected-parameters"
    ]
   },
   "outputs": [],
   "source": [
    "# Parameters\n",
    "mach_number = 0.4\n",
    "p = 2\n",
    "p_geo = 2\n",
    "c = \"c_+\"\n",
    "discretization_type = 3\n",
    "form = \"strong\"\n"
   ]
  },
  {
   "cell_type": "code",
   "execution_count": 3,
   "id": "0c3a1517",
   "metadata": {
    "execution": {
     "iopub.execute_input": "2021-05-09T21:51:37.863214Z",
     "iopub.status.busy": "2021-05-09T21:51:37.862551Z",
     "iopub.status.idle": "2021-05-10T09:27:45.471100Z",
     "shell.execute_reply": "2021-05-10T09:27:45.471783Z"
    },
    "papermill": {
     "duration": 41767.64157,
     "end_time": "2021-05-10T09:27:45.472045",
     "exception": false,
     "start_time": "2021-05-09T21:51:37.830475",
     "status": "completed"
    },
    "tags": []
   },
   "outputs": [
    {
     "name": "stderr",
     "output_type": "stream",
     "text": [
      "WARNING:root:msh4 requires 3D points, but 2D points given. Appending 0 third component.\n"
     ]
    },
    {
     "name": "stderr",
     "output_type": "stream",
     "text": [
      "WARNING:root:Binary Gmsh needs c_size_t (got int64). Converting.\n"
     ]
    },
    {
     "name": "stdout",
     "output_type": "stream",
     "text": [
      "running solver euler_m04p2cpt3_strong\n"
     ]
    },
    {
     "name": "stdout",
     "output_type": "stream",
     "text": [
      "2.416e-13 &  8.543e-02  \\\\\n",
      "-3.553e-14 &  2.859e-01  \\\\\n",
      "9.130e-13 &  1.985e-01  \\\\\n",
      "7.674e-13 &  2.372e-01  \\\\\n"
     ]
    }
   ],
   "source": [
    "import sys  \n",
    "sys.path.insert(0, '../src')\n",
    "from Driver import euler_driver\n",
    "\n",
    "solver = euler_driver(mach_number=mach_number, \n",
    "                        p=p, M=M, L=L,\n",
    "                        p_geo=p_geo, c=c, \n",
    "                        discretization_type=discretization_type,\n",
    "                        form=form)"
   ]
  },
  {
   "cell_type": "code",
   "execution_count": null,
   "id": "c9acb5e2",
   "metadata": {
    "papermill": {
     "duration": 0.007576,
     "end_time": "2021-05-10T09:27:45.487814",
     "exception": false,
     "start_time": "2021-05-10T09:27:45.480238",
     "status": "completed"
    },
    "tags": []
   },
   "outputs": [],
   "source": []
  }
 ],
 "metadata": {
  "celltoolbar": "Tags",
  "kernelspec": {
   "display_name": "Python 3",
   "language": "python",
   "name": "python3"
  },
  "language_info": {
   "codemirror_mode": {
    "name": "ipython",
    "version": 3
   },
   "file_extension": ".py",
   "mimetype": "text/x-python",
   "name": "python",
   "nbconvert_exporter": "python",
   "pygments_lexer": "ipython3",
   "version": "3.8.5"
  },
  "papermill": {
   "default_parameters": {},
   "duration": 41769.460557,
   "end_time": "2021-05-10T09:27:46.005610",
   "environment_variables": {},
   "exception": null,
   "input_path": "euler_driver.ipynb",
   "output_path": "euler_m04p2cpt3_strong.ipynb",
   "parameters": {
    "c": "c_+",
    "discretization_type": 3,
    "form": "strong",
    "mach_number": 0.4,
    "p": 2,
    "p_geo": 2
   },
   "start_time": "2021-05-09T21:51:36.545053",
   "version": "2.3.3"
  }
 },
 "nbformat": 4,
 "nbformat_minor": 5
}