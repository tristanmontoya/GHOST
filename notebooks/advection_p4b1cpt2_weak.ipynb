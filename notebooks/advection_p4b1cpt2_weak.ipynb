{
 "cells": [
  {
   "cell_type": "code",
   "execution_count": 1,
   "id": "38ee90ca",
   "metadata": {
    "execution": {
     "iopub.execute_input": "2021-05-14T14:12:17.793632Z",
     "iopub.status.busy": "2021-05-14T14:12:17.792968Z",
     "iopub.status.idle": "2021-05-14T14:12:17.795581Z",
     "shell.execute_reply": "2021-05-14T14:12:17.796128Z"
    },
    "papermill": {
     "duration": 0.019638,
     "end_time": "2021-05-14T14:12:17.796381",
     "exception": false,
     "start_time": "2021-05-14T14:12:17.776743",
     "status": "completed"
    },
    "tags": [
     "parameters"
    ]
   },
   "outputs": [],
   "source": [
    "p=2\n",
    "M=10\n",
    "L=1\n",
    "p_geo=1\n",
    "c=\"c_dg\"\n",
    "discretization_type=1\n",
    "upwind_parameter=1.0\n",
    "form=\"strong\""
   ]
  },
  {
   "cell_type": "code",
   "execution_count": 2,
   "id": "420ee5b0",
   "metadata": {
    "execution": {
     "iopub.execute_input": "2021-05-14T14:12:17.824508Z",
     "iopub.status.busy": "2021-05-14T14:12:17.823740Z",
     "iopub.status.idle": "2021-05-14T14:12:17.825659Z",
     "shell.execute_reply": "2021-05-14T14:12:17.825101Z"
    },
    "papermill": {
     "duration": 0.024115,
     "end_time": "2021-05-14T14:12:17.825797",
     "exception": false,
     "start_time": "2021-05-14T14:12:17.801682",
     "status": "completed"
    },
    "tags": [
     "injected-parameters"
    ]
   },
   "outputs": [],
   "source": [
    "# Parameters\n",
    "p = 4\n",
    "p_geo = 1\n",
    "upwind_parameter = 1.0\n",
    "c = \"c_+\"\n",
    "discretization_type = 2\n",
    "form = \"weak\"\n"
   ]
  },
  {
   "cell_type": "code",
   "execution_count": 3,
   "id": "f37fcc80",
   "metadata": {
    "execution": {
     "iopub.execute_input": "2021-05-14T14:12:17.883041Z",
     "iopub.status.busy": "2021-05-14T14:12:17.882388Z",
     "iopub.status.idle": "2021-05-14T16:44:59.049461Z",
     "shell.execute_reply": "2021-05-14T16:44:59.050215Z"
    },
    "papermill": {
     "duration": 9161.21654,
     "end_time": "2021-05-14T16:44:59.050490",
     "exception": false,
     "start_time": "2021-05-14T14:12:17.833950",
     "status": "completed"
    },
    "tags": []
   },
   "outputs": [
    {
     "name": "stderr",
     "output_type": "stream",
     "text": [
      "WARNING:root:msh4 requires 3D points, but 2D points given. Appending 0 third component.\n"
     ]
    },
    {
     "name": "stderr",
     "output_type": "stream",
     "text": [
      "WARNING:root:Binary Gmsh needs c_size_t (got int64). Converting.\n"
     ]
    },
    {
     "name": "stdout",
     "output_type": "stream",
     "text": [
      "advection_p4b1cpt2_weak\n"
     ]
    },
    {
     "name": "stdout",
     "output_type": "stream",
     "text": [
      "-1.697e-17 &  -8.934e-06 & 4.411e-04  \\\\\n"
     ]
    }
   ],
   "source": [
    "import sys  \n",
    "import numpy as np\n",
    "sys.path.insert(0, '../src')\n",
    "from Driver import advection_driver\n",
    "\n",
    "solver = advection_driver(a=np.sqrt(2), theta=np.pi/4, p=p, M=M, L=L,\n",
    "                        p_geo=p_geo, c=c, \n",
    "                        discretization_type=discretization_type,\n",
    "                        upwind_parameter=upwind_parameter,\n",
    "                        form=form)"
   ]
  },
  {
   "cell_type": "code",
   "execution_count": null,
   "id": "985944c7",
   "metadata": {
    "papermill": {
     "duration": 0.008495,
     "end_time": "2021-05-14T16:44:59.067682",
     "exception": false,
     "start_time": "2021-05-14T16:44:59.059187",
     "status": "completed"
    },
    "tags": []
   },
   "outputs": [],
   "source": []
  }
 ],
 "metadata": {
  "celltoolbar": "Tags",
  "kernelspec": {
   "display_name": "Python 3",
   "language": "python",
   "name": "python3"
  },
  "language_info": {
   "codemirror_mode": {
    "name": "ipython",
    "version": 3
   },
   "file_extension": ".py",
   "mimetype": "text/x-python",
   "name": "python",
   "nbconvert_exporter": "python",
   "pygments_lexer": "ipython3",
   "version": "3.8.5"
  },
  "papermill": {
   "default_parameters": {},
   "duration": 9164.22327,
   "end_time": "2021-05-14T16:45:00.649565",
   "environment_variables": {},
   "exception": null,
   "input_path": "advection_driver.ipynb",
   "output_path": "advection_p4b1cpt2_weak.ipynb",
   "parameters": {
    "c": "c_+",
    "discretization_type": 2,
    "form": "weak",
    "p": 4,
    "p_geo": 1,
    "upwind_parameter": 1.0
   },
   "start_time": "2021-05-14T14:12:16.426295",
   "version": "2.3.3"
  }
 },
 "nbformat": 4,
 "nbformat_minor": 5
}