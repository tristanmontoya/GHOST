{
 "cells": [
  {
   "cell_type": "markdown",
   "id": "5a058de7",
   "metadata": {
    "papermill": {
     "duration": 0.004276,
     "end_time": "2021-12-08T16:30:21.679731",
     "exception": false,
     "start_time": "2021-12-08T16:30:21.675455",
     "status": "completed"
    },
    "tags": []
   },
   "source": [
    "# GHOST driver - Euler equations"
   ]
  },
  {
   "cell_type": "code",
   "execution_count": 1,
   "id": "b8fd872a",
   "metadata": {
    "execution": {
     "iopub.execute_input": "2021-12-08T16:30:21.689946Z",
     "iopub.status.busy": "2021-12-08T16:30:21.689451Z",
     "iopub.status.idle": "2021-12-08T16:30:21.691108Z",
     "shell.execute_reply": "2021-12-08T16:30:21.691496Z"
    },
    "papermill": {
     "duration": 0.008716,
     "end_time": "2021-12-08T16:30:21.691670",
     "exception": false,
     "start_time": "2021-12-08T16:30:21.682954",
     "status": "completed"
    },
    "tags": [
     "parameters"
    ]
   },
   "outputs": [],
   "source": [
    "mach_number=0.4\n",
    "p=2\n",
    "M=16\n",
    "L=10.0\n",
    "p_map=2\n",
    "c=\"c_dg\"\n",
    "discretization_type=1\n",
    "form=\"weak\""
   ]
  },
  {
   "cell_type": "code",
   "execution_count": 2,
   "id": "9d0ba1ec",
   "metadata": {
    "execution": {
     "iopub.execute_input": "2021-12-08T16:30:21.700673Z",
     "iopub.status.busy": "2021-12-08T16:30:21.700143Z",
     "iopub.status.idle": "2021-12-08T16:30:21.701668Z",
     "shell.execute_reply": "2021-12-08T16:30:21.702062Z"
    },
    "papermill": {
     "duration": 0.007398,
     "end_time": "2021-12-08T16:30:21.702187",
     "exception": false,
     "start_time": "2021-12-08T16:30:21.694789",
     "status": "completed"
    },
    "tags": [
     "injected-parameters"
    ]
   },
   "outputs": [],
   "source": [
    "# Parameters\n",
    "mach_number = 0.4\n",
    "p = 3\n",
    "p_map = 3\n",
    "c = \"c_+\"\n",
    "discretization_type = 1\n",
    "form = \"weak\"\n"
   ]
  },
  {
   "cell_type": "code",
   "execution_count": 3,
   "id": "874edcc7",
   "metadata": {
    "execution": {
     "iopub.execute_input": "2021-12-08T16:30:21.711979Z",
     "iopub.status.busy": "2021-12-08T16:30:21.711476Z",
     "iopub.status.idle": "2021-12-08T16:30:38.436225Z",
     "shell.execute_reply": "2021-12-08T16:30:38.436648Z"
    },
    "papermill": {
     "duration": 16.73154,
     "end_time": "2021-12-08T16:30:38.436781",
     "exception": false,
     "start_time": "2021-12-08T16:30:21.705241",
     "status": "completed"
    },
    "tags": []
   },
   "outputs": [
    {
     "name": "stderr",
     "output_type": "stream",
     "text": [
      "Matplotlib created a temporary config/cache directory at /tmp/matplotlib-01ccb_07 because the default path (/home/z/zingg/tmontoya/.config/matplotlib) is not a writable directory; it is highly recommended to set the MPLCONFIGDIR environment variable to a writable directory, in particular to speed up the import of Matplotlib and to better support multiprocessing.\n"
     ]
    },
    {
     "name": "stdout",
     "output_type": "stream",
     "text": [
      "euler_m04p3cpt1_weak\n"
     ]
    },
    {
     "name": "stdout",
     "output_type": "stream",
     "text": [
      "loaded from time step  63356\n"
     ]
    }
   ],
   "source": [
    "import sys  \n",
    "import numpy as np\n",
    "sys.path.insert(0, '../src')\n",
    "from Driver import euler_driver\n",
    "\n",
    "solver = euler_driver(mach_number=mach_number, \n",
    "                      theta=np.pi/4,\n",
    "                        p=p, M=M, L=L,\n",
    "                        p_map=p_map, c=c, \n",
    "                        discretization_type=discretization_type,\n",
    "                        new_mesh=False,\n",
    "                        form=form, restart=True,run=True)"
   ]
  }
 ],
 "metadata": {
  "celltoolbar": "Tags",
  "interpreter": {
   "hash": "8a4c5cff9d1eb01f6f91880bd866b35b24d8468d7e92aa7ef6f6962744ecb1db"
  },
  "kernelspec": {
   "display_name": "Python 3.9.5 64-bit ('base': conda)",
   "name": "python3"
  },
  "language_info": {
   "codemirror_mode": {
    "name": "ipython",
    "version": 3
   },
   "file_extension": ".py",
   "mimetype": "text/x-python",
   "name": "python",
   "nbconvert_exporter": "python",
   "pygments_lexer": "ipython3",
   "version": "3.8.5"
  },
  "papermill": {
   "default_parameters": {},
   "duration": 18.229566,
   "end_time": "2021-12-08T16:30:38.846544",
   "environment_variables": {},
   "exception": null,
   "input_path": "euler_driver.ipynb",
   "output_path": "euler_m04p3cpt1_weak.ipynb",
   "parameters": {
    "c": "c_+",
    "discretization_type": 1,
    "form": "weak",
    "mach_number": 0.4,
    "p": 3,
    "p_map": 3
   },
   "start_time": "2021-12-08T16:30:20.616978",
   "version": "2.3.3"
  }
 },
 "nbformat": 4,
 "nbformat_minor": 5
}