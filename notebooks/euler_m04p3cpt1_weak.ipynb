{
 "cells": [
  {
   "cell_type": "code",
   "execution_count": 1,
   "id": "d75b44b9",
   "metadata": {
    "execution": {
     "iopub.execute_input": "2021-05-18T18:50:48.940084Z",
     "iopub.status.busy": "2021-05-18T18:50:48.939197Z",
     "iopub.status.idle": "2021-05-18T18:50:48.957598Z",
     "shell.execute_reply": "2021-05-18T18:50:48.958318Z"
    },
    "papermill": {
     "duration": 0.035876,
     "end_time": "2021-05-18T18:50:48.958697",
     "exception": false,
     "start_time": "2021-05-18T18:50:48.922821",
     "status": "completed"
    },
    "tags": [
     "parameters"
    ]
   },
   "outputs": [],
   "source": [
    "mach_number=0.4\n",
    "p=2\n",
    "M=16\n",
    "L=10.0\n",
    "p_geo=2\n",
    "c=\"c_dg\"\n",
    "discretization_type=1\n",
    "form=\"strong\""
   ]
  },
  {
   "cell_type": "code",
   "execution_count": 2,
   "id": "1a9a3826",
   "metadata": {
    "execution": {
     "iopub.execute_input": "2021-05-18T18:50:48.976470Z",
     "iopub.status.busy": "2021-05-18T18:50:48.975635Z",
     "iopub.status.idle": "2021-05-18T18:50:48.980623Z",
     "shell.execute_reply": "2021-05-18T18:50:48.981172Z"
    },
    "papermill": {
     "duration": 0.015846,
     "end_time": "2021-05-18T18:50:48.981356",
     "exception": false,
     "start_time": "2021-05-18T18:50:48.965510",
     "status": "completed"
    },
    "tags": [
     "injected-parameters"
    ]
   },
   "outputs": [],
   "source": [
    "# Parameters\n",
    "mach_number = 0.4\n",
    "p = 3\n",
    "p_geo = 3\n",
    "c = \"c_+\"\n",
    "discretization_type = 1\n",
    "form = \"weak\"\n"
   ]
  },
  {
   "cell_type": "code",
   "execution_count": null,
   "id": "9428b468",
   "metadata": {
    "papermill": {
     "duration": null,
     "end_time": null,
     "exception": false,
     "start_time": "2021-05-18T18:50:48.986491",
     "status": "running"
    },
    "tags": []
   },
   "outputs": [],
   "source": [
    "import sys  \n",
    "import numpy as np\n",
    "sys.path.insert(0, '../src')\n",
    "from Driver import euler_driver\n",
    "\n",
    "solver = euler_driver(mach_number=mach_number, \n",
    "                      theta=np.pi/4,\n",
    "                        p=p, M=M, L=L,\n",
    "                        p_geo=p_geo, c=c, \n",
    "                        discretization_type=discretization_type,\n",
    "                        form=form)"
   ]
  },
  {
   "cell_type": "code",
   "execution_count": null,
   "id": "9a736b2a",
   "metadata": {
    "papermill": {
     "duration": null,
     "end_time": null,
     "exception": null,
     "start_time": null,
     "status": "pending"
    },
    "tags": []
   },
   "outputs": [],
   "source": []
  }
 ],
 "metadata": {
  "celltoolbar": "Tags",
  "kernelspec": {
   "display_name": "Python 3",
   "language": "python",
   "name": "python3"
  },
  "language_info": {
   "codemirror_mode": {
    "name": "ipython",
    "version": 3
   },
   "file_extension": ".py",
   "mimetype": "text/x-python",
   "name": "python",
   "nbconvert_exporter": "python",
   "pygments_lexer": "ipython3",
   "version": "3.7.9"
  },
  "papermill": {
   "default_parameters": {},
   "duration": null,
   "end_time": null,
   "environment_variables": {},
   "exception": null,
   "input_path": "euler_driver.ipynb",
   "output_path": "euler_m04p3cpt1_weak.ipynb",
   "parameters": {
    "c": "c_+",
    "discretization_type": 1,
    "form": "weak",
    "mach_number": 0.4,
    "p": 3,
    "p_geo": 3
   },
   "start_time": "2021-05-18T18:50:47.433341",
   "version": "2.3.3"
  }
 },
 "nbformat": 4,
 "nbformat_minor": 5
}