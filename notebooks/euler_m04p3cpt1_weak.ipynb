{
 "cells": [
  {
   "cell_type": "markdown",
   "id": "10464423",
   "metadata": {
    "papermill": {
     "duration": 0.003708,
     "end_time": "2021-12-03T07:48:07.277908",
     "exception": false,
     "start_time": "2021-12-03T07:48:07.274200",
     "status": "completed"
    },
    "tags": []
   },
   "source": [
    "# GHOST driver - Euler equations"
   ]
  },
  {
   "cell_type": "code",
   "execution_count": 1,
   "id": "5337b62c",
   "metadata": {
    "execution": {
     "iopub.execute_input": "2021-12-03T07:48:07.288036Z",
     "iopub.status.busy": "2021-12-03T07:48:07.287541Z",
     "iopub.status.idle": "2021-12-03T07:48:07.289145Z",
     "shell.execute_reply": "2021-12-03T07:48:07.289533Z"
    },
    "papermill": {
     "duration": 0.008478,
     "end_time": "2021-12-03T07:48:07.289717",
     "exception": false,
     "start_time": "2021-12-03T07:48:07.281239",
     "status": "completed"
    },
    "tags": [
     "parameters"
    ]
   },
   "outputs": [],
   "source": [
    "mach_number=0.4\n",
    "p=2\n",
    "M=16\n",
    "L=10.0\n",
    "p_map=2\n",
    "c=\"c_dg\"\n",
    "discretization_type=1\n",
    "form=\"weak\""
   ]
  },
  {
   "cell_type": "code",
   "execution_count": 2,
   "id": "93461b4a",
   "metadata": {
    "execution": {
     "iopub.execute_input": "2021-12-03T07:48:07.298829Z",
     "iopub.status.busy": "2021-12-03T07:48:07.298354Z",
     "iopub.status.idle": "2021-12-03T07:48:07.299865Z",
     "shell.execute_reply": "2021-12-03T07:48:07.300249Z"
    },
    "papermill": {
     "duration": 0.00744,
     "end_time": "2021-12-03T07:48:07.300362",
     "exception": false,
     "start_time": "2021-12-03T07:48:07.292922",
     "status": "completed"
    },
    "tags": [
     "injected-parameters"
    ]
   },
   "outputs": [],
   "source": [
    "# Parameters\n",
    "mach_number = 0.4\n",
    "p = 3\n",
    "p_map = 3\n",
    "c = \"c_+\"\n",
    "discretization_type = 1\n",
    "form = \"weak\"\n"
   ]
  },
  {
   "cell_type": "code",
   "execution_count": 3,
   "id": "66cc19ff",
   "metadata": {
    "execution": {
     "iopub.execute_input": "2021-12-03T07:48:07.310126Z",
     "iopub.status.busy": "2021-12-03T07:48:07.309645Z",
     "iopub.status.idle": "2021-12-03T07:48:37.469303Z",
     "shell.execute_reply": "2021-12-03T07:48:37.469734Z"
    },
    "papermill": {
     "duration": 30.166475,
     "end_time": "2021-12-03T07:48:37.469889",
     "exception": false,
     "start_time": "2021-12-03T07:48:07.303414",
     "status": "completed"
    },
    "tags": []
   },
   "outputs": [
    {
     "name": "stderr",
     "output_type": "stream",
     "text": [
      "Matplotlib created a temporary config/cache directory at /tmp/matplotlib-1s45drm0 because the default path (/home/z/zingg/tmontoya/.config/matplotlib) is not a writable directory; it is highly recommended to set the MPLCONFIGDIR environment variable to a writable directory, in particular to speed up the import of Matplotlib and to better support multiprocessing.\n"
     ]
    },
    {
     "name": "stdout",
     "output_type": "stream",
     "text": [
      "euler_m04p3cpt1_weak\n"
     ]
    },
    {
     "name": "stdout",
     "output_type": "stream",
     "text": [
      "loaded from time step  63356\n"
     ]
    }
   ],
   "source": [
    "import sys  \n",
    "import numpy as np\n",
    "sys.path.insert(0, '../src')\n",
    "from Driver import euler_driver\n",
    "\n",
    "solver = euler_driver(mach_number=mach_number, \n",
    "                      theta=np.pi/4,\n",
    "                        p=p, M=M, L=L,\n",
    "                        p_map=p_map, c=c, \n",
    "                        discretization_type=discretization_type,\n",
    "                        new_mesh=False,\n",
    "                        form=form, restart=True,run=True)"
   ]
  }
 ],
 "metadata": {
  "celltoolbar": "Tags",
  "interpreter": {
   "hash": "8a4c5cff9d1eb01f6f91880bd866b35b24d8468d7e92aa7ef6f6962744ecb1db"
  },
  "kernelspec": {
   "display_name": "Python 3.9.5 64-bit ('base': conda)",
   "name": "python3"
  },
  "language_info": {
   "codemirror_mode": {
    "name": "ipython",
    "version": 3
   },
   "file_extension": ".py",
   "mimetype": "text/x-python",
   "name": "python",
   "nbconvert_exporter": "python",
   "pygments_lexer": "ipython3",
   "version": "3.8.5"
  },
  "papermill": {
   "default_parameters": {},
   "duration": 32.605065,
   "end_time": "2021-12-03T07:48:37.880751",
   "environment_variables": {},
   "exception": null,
   "input_path": "euler_driver.ipynb",
   "output_path": "euler_m04p3cpt1_weak.ipynb",
   "parameters": {
    "c": "c_+",
    "discretization_type": 1,
    "form": "weak",
    "mach_number": 0.4,
    "p": 3,
    "p_map": 3
   },
   "start_time": "2021-12-03T07:48:05.275686",
   "version": "2.3.3"
  }
 },
 "nbformat": 4,
 "nbformat_minor": 5
}