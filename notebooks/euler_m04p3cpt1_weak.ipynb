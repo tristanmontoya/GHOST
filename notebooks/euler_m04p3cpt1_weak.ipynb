{
 "cells": [
  {
   "cell_type": "code",
   "execution_count": 1,
   "id": "520d6bcc",
   "metadata": {
    "execution": {
     "iopub.execute_input": "2021-05-13T13:01:26.954938Z",
     "iopub.status.busy": "2021-05-13T13:01:26.954115Z",
     "iopub.status.idle": "2021-05-13T13:01:26.957181Z",
     "shell.execute_reply": "2021-05-13T13:01:26.956222Z"
    },
    "papermill": {
     "duration": 0.034247,
     "end_time": "2021-05-13T13:01:26.957384",
     "exception": false,
     "start_time": "2021-05-13T13:01:26.923137",
     "status": "completed"
    },
    "tags": [
     "parameters"
    ]
   },
   "outputs": [],
   "source": [
    "mach_number=0.4\n",
    "p=2\n",
    "M=10\n",
    "L=10.0\n",
    "p_geo=2\n",
    "c=\"c_dg\"\n",
    "discretization_type=1\n",
    "form=\"strong\""
   ]
  },
  {
   "cell_type": "code",
   "execution_count": 2,
   "id": "f0aff866",
   "metadata": {
    "execution": {
     "iopub.execute_input": "2021-05-13T13:01:26.983917Z",
     "iopub.status.busy": "2021-05-13T13:01:26.983064Z",
     "iopub.status.idle": "2021-05-13T13:01:26.986216Z",
     "shell.execute_reply": "2021-05-13T13:01:26.985534Z"
    },
    "papermill": {
     "duration": 0.022388,
     "end_time": "2021-05-13T13:01:26.986357",
     "exception": false,
     "start_time": "2021-05-13T13:01:26.963969",
     "status": "completed"
    },
    "tags": [
     "injected-parameters"
    ]
   },
   "outputs": [],
   "source": [
    "# Parameters\n",
    "mach_number = 0.4\n",
    "p = 3\n",
    "p_geo = 3\n",
    "c = \"c_+\"\n",
    "discretization_type = 1\n",
    "form = \"weak\"\n"
   ]
  },
  {
   "cell_type": "code",
   "execution_count": 3,
   "id": "8c063776",
   "metadata": {
    "execution": {
     "iopub.execute_input": "2021-05-13T13:01:27.023498Z",
     "iopub.status.busy": "2021-05-13T13:01:27.022831Z",
     "iopub.status.idle": "2021-05-14T08:29:55.828048Z",
     "shell.execute_reply": "2021-05-14T08:29:55.828570Z"
    },
    "papermill": {
     "duration": 70108.836551,
     "end_time": "2021-05-14T08:29:55.828779",
     "exception": false,
     "start_time": "2021-05-13T13:01:26.992228",
     "status": "completed"
    },
    "tags": []
   },
   "outputs": [
    {
     "name": "stdout",
     "output_type": "stream",
     "text": [
      "euler_m04p3cpt1_weak\n"
     ]
    },
    {
     "name": "stdout",
     "output_type": "stream",
     "text": [
      "1.705e-13 &  3.539e-02  \\\\\n",
      "-6.004e-13 &  1.281e-01  \\\\\n",
      "8.207e-13 &  9.005e-02  \\\\\n",
      "1.137e-13 &  1.048e-01  \\\\\n"
     ]
    }
   ],
   "source": [
    "import sys  \n",
    "import numpy as np\n",
    "sys.path.insert(0, '../src')\n",
    "from Driver import euler_driver\n",
    "\n",
    "solver = euler_driver(mach_number=mach_number, \n",
    "                      theta=np.pi/4,\n",
    "                        p=p, M=M, L=L,\n",
    "                        p_geo=p_geo, c=c, \n",
    "                        discretization_type=discretization_type,\n",
    "                        form=form)"
   ]
  },
  {
   "cell_type": "code",
   "execution_count": null,
   "id": "25db3e54",
   "metadata": {
    "papermill": {
     "duration": 0.005011,
     "end_time": "2021-05-14T08:29:55.839219",
     "exception": false,
     "start_time": "2021-05-14T08:29:55.834208",
     "status": "completed"
    },
    "tags": []
   },
   "outputs": [],
   "source": []
  }
 ],
 "metadata": {
  "celltoolbar": "Tags",
  "kernelspec": {
   "display_name": "Python 3",
   "language": "python",
   "name": "python3"
  },
  "language_info": {
   "codemirror_mode": {
    "name": "ipython",
    "version": 3
   },
   "file_extension": ".py",
   "mimetype": "text/x-python",
   "name": "python",
   "nbconvert_exporter": "python",
   "pygments_lexer": "ipython3",
   "version": "3.8.5"
  },
  "papermill": {
   "default_parameters": {},
   "duration": 70111.347081,
   "end_time": "2021-05-14T08:29:57.133304",
   "environment_variables": {},
   "exception": null,
   "input_path": "euler_driver.ipynb",
   "output_path": "euler_m04p3cpt1_weak.ipynb",
   "parameters": {
    "c": "c_+",
    "discretization_type": 1,
    "form": "weak",
    "mach_number": 0.4,
    "p": 3,
    "p_geo": 3
   },
   "start_time": "2021-05-13T13:01:25.786223",
   "version": "2.3.3"
  }
 },
 "nbformat": 4,
 "nbformat_minor": 5
}