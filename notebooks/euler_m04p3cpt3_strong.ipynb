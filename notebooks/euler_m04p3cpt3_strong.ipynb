{
 "cells": [
  {
   "cell_type": "code",
   "execution_count": 1,
   "id": "47b3815d",
   "metadata": {
    "execution": {
     "iopub.execute_input": "2021-05-18T18:50:49.103388Z",
     "iopub.status.busy": "2021-05-18T18:50:49.102497Z",
     "iopub.status.idle": "2021-05-18T18:50:49.105694Z",
     "shell.execute_reply": "2021-05-18T18:50:49.104855Z"
    },
    "papermill": {
     "duration": 0.023038,
     "end_time": "2021-05-18T18:50:49.105897",
     "exception": false,
     "start_time": "2021-05-18T18:50:49.082859",
     "status": "completed"
    },
    "tags": [
     "parameters"
    ]
   },
   "outputs": [],
   "source": [
    "mach_number=0.4\n",
    "p=2\n",
    "M=16\n",
    "L=10.0\n",
    "p_geo=2\n",
    "c=\"c_dg\"\n",
    "discretization_type=1\n",
    "form=\"strong\""
   ]
  },
  {
   "cell_type": "code",
   "execution_count": 2,
   "id": "9115d664",
   "metadata": {
    "execution": {
     "iopub.execute_input": "2021-05-18T18:50:49.166607Z",
     "iopub.status.busy": "2021-05-18T18:50:49.165705Z",
     "iopub.status.idle": "2021-05-18T18:50:49.169275Z",
     "shell.execute_reply": "2021-05-18T18:50:49.168570Z"
    },
    "papermill": {
     "duration": 0.057897,
     "end_time": "2021-05-18T18:50:49.169474",
     "exception": false,
     "start_time": "2021-05-18T18:50:49.111577",
     "status": "completed"
    },
    "tags": [
     "injected-parameters"
    ]
   },
   "outputs": [],
   "source": [
    "# Parameters\n",
    "mach_number = 0.4\n",
    "p = 3\n",
    "p_geo = 3\n",
    "c = \"c_+\"\n",
    "discretization_type = 3\n",
    "form = \"strong\"\n"
   ]
  },
  {
   "cell_type": "code",
   "execution_count": 3,
   "id": "a5f0a819",
   "metadata": {
    "execution": {
     "iopub.execute_input": "2021-05-18T18:50:49.207122Z",
     "iopub.status.busy": "2021-05-18T18:50:49.206449Z",
     "iopub.status.idle": "2021-05-22T14:10:18.785280Z",
     "shell.execute_reply": "2021-05-22T14:10:18.785799Z"
    },
    "papermill": {
     "duration": 328769.610143,
     "end_time": "2021-05-22T14:10:18.786205",
     "exception": false,
     "start_time": "2021-05-18T18:50:49.176062",
     "status": "completed"
    },
    "tags": []
   },
   "outputs": [
    {
     "name": "stdout",
     "output_type": "stream",
     "text": [
      "euler_m04p3cpt3_strong\n"
     ]
    },
    {
     "name": "stdout",
     "output_type": "stream",
     "text": [
      "3.126e-13 &  1.146e-02  \\\\\n",
      "-1.020e-12 &  1.963e-02  \\\\\n",
      "1.954e-12 &  2.033e-02  \\\\\n",
      "6.537e-13 &  1.778e-02  \\\\\n"
     ]
    }
   ],
   "source": [
    "import sys  \n",
    "import numpy as np\n",
    "sys.path.insert(0, '../src')\n",
    "from Driver import euler_driver\n",
    "\n",
    "solver = euler_driver(mach_number=mach_number, \n",
    "                      theta=np.pi/4,\n",
    "                        p=p, M=M, L=L,\n",
    "                        p_geo=p_geo, c=c, \n",
    "                        discretization_type=discretization_type,\n",
    "                        form=form)"
   ]
  },
  {
   "cell_type": "code",
   "execution_count": null,
   "id": "c9370360",
   "metadata": {
    "papermill": {
     "duration": 0.005295,
     "end_time": "2021-05-22T14:10:18.797424",
     "exception": false,
     "start_time": "2021-05-22T14:10:18.792129",
     "status": "completed"
    },
    "tags": []
   },
   "outputs": [],
   "source": []
  }
 ],
 "metadata": {
  "celltoolbar": "Tags",
  "kernelspec": {
   "display_name": "Python 3",
   "language": "python",
   "name": "python3"
  },
  "language_info": {
   "codemirror_mode": {
    "name": "ipython",
    "version": 3
   },
   "file_extension": ".py",
   "mimetype": "text/x-python",
   "name": "python",
   "nbconvert_exporter": "python",
   "pygments_lexer": "ipython3",
   "version": "3.8.5"
  },
  "papermill": {
   "default_parameters": {},
   "duration": 328771.876772,
   "end_time": "2021-05-22T14:10:19.311699",
   "environment_variables": {},
   "exception": null,
   "input_path": "euler_driver.ipynb",
   "output_path": "euler_m04p3cpt3_strong.ipynb",
   "parameters": {
    "c": "c_+",
    "discretization_type": 3,
    "form": "strong",
    "mach_number": 0.4,
    "p": 3,
    "p_geo": 3
   },
   "start_time": "2021-05-18T18:50:47.434927",
   "version": "2.3.3"
  }
 },
 "nbformat": 4,
 "nbformat_minor": 5
}