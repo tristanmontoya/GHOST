{
 "cells": [
  {
   "cell_type": "code",
   "execution_count": 1,
   "id": "c9a5a13a",
   "metadata": {
    "execution": {
     "iopub.execute_input": "2021-05-08T19:25:59.056635Z",
     "iopub.status.busy": "2021-05-08T19:25:59.055158Z",
     "iopub.status.idle": "2021-05-08T19:25:59.057389Z",
     "shell.execute_reply": "2021-05-08T19:25:59.055840Z"
    },
    "papermill": {
     "duration": 0.030925,
     "end_time": "2021-05-08T19:25:59.057577",
     "exception": false,
     "start_time": "2021-05-08T19:25:59.026652",
     "status": "completed"
    },
    "tags": [
     "parameters"
    ]
   },
   "outputs": [],
   "source": [
    "mach_number=0.4\n",
    "p=2\n",
    "M=11\n",
    "L=10.0\n",
    "p_geo=2\n",
    "c=\"c_dg\"\n",
    "discretization_type=1\n",
    "form=\"strong\""
   ]
  },
  {
   "cell_type": "code",
   "execution_count": 2,
   "id": "f5363856",
   "metadata": {
    "execution": {
     "iopub.execute_input": "2021-05-08T19:25:59.100580Z",
     "iopub.status.busy": "2021-05-08T19:25:59.099913Z",
     "iopub.status.idle": "2021-05-08T19:25:59.102293Z",
     "shell.execute_reply": "2021-05-08T19:25:59.101741Z"
    },
    "papermill": {
     "duration": 0.038852,
     "end_time": "2021-05-08T19:25:59.102434",
     "exception": false,
     "start_time": "2021-05-08T19:25:59.063582",
     "status": "completed"
    },
    "tags": [
     "injected-parameters"
    ]
   },
   "outputs": [],
   "source": [
    "# Parameters\n",
    "mach_number = 0.4\n",
    "p = 3\n",
    "p_geo = 3\n",
    "c = \"c_+\"\n",
    "discretization_type = 3\n",
    "form = \"strong\"\n"
   ]
  },
  {
   "cell_type": "code",
   "execution_count": 3,
   "id": "00e6aae5",
   "metadata": {
    "execution": {
     "iopub.execute_input": "2021-05-08T19:25:59.173604Z",
     "iopub.status.busy": "2021-05-08T19:25:59.172947Z",
     "iopub.status.idle": "2021-05-09T18:47:03.867215Z",
     "shell.execute_reply": "2021-05-09T18:47:03.867780Z"
    },
    "papermill": {
     "duration": 84064.735568,
     "end_time": "2021-05-09T18:47:03.868153",
     "exception": false,
     "start_time": "2021-05-08T19:25:59.132585",
     "status": "completed"
    },
    "tags": []
   },
   "outputs": [
    {
     "name": "stderr",
     "output_type": "stream",
     "text": [
      "WARNING:root:msh4 requires 3D points, but 2D points given. Appending 0 third component.\n"
     ]
    },
    {
     "name": "stderr",
     "output_type": "stream",
     "text": [
      "WARNING:root:Binary Gmsh needs c_size_t (got int64). Converting.\n"
     ]
    },
    {
     "name": "stdout",
     "output_type": "stream",
     "text": [
      "running solver euler_m04p3cpt3_strong\n"
     ]
    },
    {
     "name": "stdout",
     "output_type": "stream",
     "text": [
      "2.132e-13 &  2.909e-02  \\\\\n",
      "-9.344e-13 &  8.616e-02  \\\\\n",
      "1.588e-12 &  6.292e-02  \\\\\n",
      "6.253e-13 &  7.598e-02  \\\\\n"
     ]
    }
   ],
   "source": [
    "import sys  \n",
    "sys.path.insert(0, '../src')\n",
    "from Driver import euler_driver\n",
    "\n",
    "solver = euler_driver(mach_number=mach_number, \n",
    "                        p=p, M=M, L=L,\n",
    "                        p_geo=p_geo, c=c, \n",
    "                        discretization_type=discretization_type,\n",
    "                        form=form)"
   ]
  },
  {
   "cell_type": "code",
   "execution_count": null,
   "id": "c805542d",
   "metadata": {
    "papermill": {
     "duration": 0.006039,
     "end_time": "2021-05-09T18:47:03.880685",
     "exception": false,
     "start_time": "2021-05-09T18:47:03.874646",
     "status": "completed"
    },
    "tags": []
   },
   "outputs": [],
   "source": []
  }
 ],
 "metadata": {
  "celltoolbar": "Tags",
  "kernelspec": {
   "display_name": "Python 3",
   "language": "python",
   "name": "python3"
  },
  "language_info": {
   "codemirror_mode": {
    "name": "ipython",
    "version": 3
   },
   "file_extension": ".py",
   "mimetype": "text/x-python",
   "name": "python",
   "nbconvert_exporter": "python",
   "pygments_lexer": "ipython3",
   "version": "3.8.5"
  },
  "papermill": {
   "default_parameters": {},
   "duration": 84067.79127,
   "end_time": "2021-05-09T18:47:05.733975",
   "environment_variables": {},
   "exception": null,
   "input_path": "euler_driver.ipynb",
   "output_path": "euler_m04p3cpt3_strong.ipynb",
   "parameters": {
    "c": "c_+",
    "discretization_type": 3,
    "form": "strong",
    "mach_number": 0.4,
    "p": 3,
    "p_geo": 3
   },
   "start_time": "2021-05-08T19:25:57.942705",
   "version": "2.3.3"
  }
 },
 "nbformat": 4,
 "nbformat_minor": 5
}