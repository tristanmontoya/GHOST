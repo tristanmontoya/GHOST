{
 "cells": [
  {
   "cell_type": "code",
   "execution_count": 1,
   "id": "9f60a9ab",
   "metadata": {
    "execution": {
     "iopub.execute_input": "2021-05-13T13:01:27.081632Z",
     "iopub.status.busy": "2021-05-13T13:01:27.080963Z",
     "iopub.status.idle": "2021-05-13T13:01:27.083419Z",
     "shell.execute_reply": "2021-05-13T13:01:27.084670Z"
    },
    "papermill": {
     "duration": 0.022661,
     "end_time": "2021-05-13T13:01:27.084948",
     "exception": false,
     "start_time": "2021-05-13T13:01:27.062287",
     "status": "completed"
    },
    "tags": [
     "parameters"
    ]
   },
   "outputs": [],
   "source": [
    "mach_number=0.4\n",
    "p=2\n",
    "M=10\n",
    "L=10.0\n",
    "p_geo=2\n",
    "c=\"c_dg\"\n",
    "discretization_type=1\n",
    "form=\"strong\""
   ]
  },
  {
   "cell_type": "code",
   "execution_count": 2,
   "id": "ae6dfa7d",
   "metadata": {
    "execution": {
     "iopub.execute_input": "2021-05-13T13:01:27.131807Z",
     "iopub.status.busy": "2021-05-13T13:01:27.131170Z",
     "iopub.status.idle": "2021-05-13T13:01:27.140674Z",
     "shell.execute_reply": "2021-05-13T13:01:27.140146Z"
    },
    "papermill": {
     "duration": 0.042626,
     "end_time": "2021-05-13T13:01:27.140819",
     "exception": false,
     "start_time": "2021-05-13T13:01:27.098193",
     "status": "completed"
    },
    "tags": [
     "injected-parameters"
    ]
   },
   "outputs": [],
   "source": [
    "# Parameters\n",
    "mach_number = 0.4\n",
    "p = 3\n",
    "p_geo = 3\n",
    "c = \"c_+\"\n",
    "discretization_type = 3\n",
    "form = \"strong\"\n"
   ]
  },
  {
   "cell_type": "code",
   "execution_count": 3,
   "id": "f31b4b7c",
   "metadata": {
    "execution": {
     "iopub.execute_input": "2021-05-13T13:01:27.207810Z",
     "iopub.status.busy": "2021-05-13T13:01:27.207179Z",
     "iopub.status.idle": "2021-05-14T09:35:50.190161Z",
     "shell.execute_reply": "2021-05-14T09:35:50.190670Z"
    },
    "papermill": {
     "duration": 74063.01111,
     "end_time": "2021-05-14T09:35:50.190881",
     "exception": false,
     "start_time": "2021-05-13T13:01:27.179771",
     "status": "completed"
    },
    "tags": []
   },
   "outputs": [
    {
     "name": "stdout",
     "output_type": "stream",
     "text": [
      "euler_m04p3cpt3_strong\n"
     ]
    },
    {
     "name": "stdout",
     "output_type": "stream",
     "text": [
      "2.984e-13 &  3.523e-02  \\\\\n",
      "-6.395e-13 &  1.302e-01  \\\\\n",
      "1.393e-12 &  9.569e-02  \\\\\n",
      "7.674e-13 &  9.901e-02  \\\\\n"
     ]
    }
   ],
   "source": [
    "import sys  \n",
    "import numpy as np\n",
    "sys.path.insert(0, '../src')\n",
    "from Driver import euler_driver\n",
    "\n",
    "solver = euler_driver(mach_number=mach_number, \n",
    "                      theta=np.pi/4,\n",
    "                        p=p, M=M, L=L,\n",
    "                        p_geo=p_geo, c=c, \n",
    "                        discretization_type=discretization_type,\n",
    "                        form=form)"
   ]
  },
  {
   "cell_type": "code",
   "execution_count": null,
   "id": "b74f28f1",
   "metadata": {
    "papermill": {
     "duration": 0.005036,
     "end_time": "2021-05-14T09:35:50.201275",
     "exception": false,
     "start_time": "2021-05-14T09:35:50.196239",
     "status": "completed"
    },
    "tags": []
   },
   "outputs": [],
   "source": []
  }
 ],
 "metadata": {
  "celltoolbar": "Tags",
  "kernelspec": {
   "display_name": "Python 3",
   "language": "python",
   "name": "python3"
  },
  "language_info": {
   "codemirror_mode": {
    "name": "ipython",
    "version": 3
   },
   "file_extension": ".py",
   "mimetype": "text/x-python",
   "name": "python",
   "nbconvert_exporter": "python",
   "pygments_lexer": "ipython3",
   "version": "3.8.5"
  },
  "papermill": {
   "default_parameters": {},
   "duration": 74065.819838,
   "end_time": "2021-05-14T09:35:51.645890",
   "environment_variables": {},
   "exception": null,
   "input_path": "euler_driver.ipynb",
   "output_path": "euler_m04p3cpt3_strong.ipynb",
   "parameters": {
    "c": "c_+",
    "discretization_type": 3,
    "form": "strong",
    "mach_number": 0.4,
    "p": 3,
    "p_geo": 3
   },
   "start_time": "2021-05-13T13:01:25.826052",
   "version": "2.3.3"
  }
 },
 "nbformat": 4,
 "nbformat_minor": 5
}