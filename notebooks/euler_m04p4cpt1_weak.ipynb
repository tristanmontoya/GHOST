{
 "cells": [
  {
   "cell_type": "markdown",
   "id": "b0e8980f",
   "metadata": {
    "papermill": {
     "duration": 0.003906,
     "end_time": "2021-11-09T12:47:06.346765",
     "exception": false,
     "start_time": "2021-11-09T12:47:06.342859",
     "status": "completed"
    },
    "tags": []
   },
   "source": [
    "# GHOST driver - Euler equations"
   ]
  },
  {
   "cell_type": "code",
   "execution_count": 1,
   "id": "34e32380",
   "metadata": {
    "execution": {
     "iopub.execute_input": "2021-11-09T12:47:06.357192Z",
     "iopub.status.busy": "2021-11-09T12:47:06.356708Z",
     "iopub.status.idle": "2021-11-09T12:47:06.359258Z",
     "shell.execute_reply": "2021-11-09T12:47:06.358716Z"
    },
    "papermill": {
     "duration": 0.009328,
     "end_time": "2021-11-09T12:47:06.359374",
     "exception": false,
     "start_time": "2021-11-09T12:47:06.350046",
     "status": "completed"
    },
    "tags": [
     "parameters"
    ]
   },
   "outputs": [],
   "source": [
    "mach_number=0.4\n",
    "p=2\n",
    "M=16\n",
    "L=10.0\n",
    "p_map=2\n",
    "c=\"c_dg\"\n",
    "discretization_type=1\n",
    "form=\"weak\""
   ]
  },
  {
   "cell_type": "code",
   "execution_count": 2,
   "id": "d496b7ef",
   "metadata": {
    "execution": {
     "iopub.execute_input": "2021-11-09T12:47:06.369046Z",
     "iopub.status.busy": "2021-11-09T12:47:06.368463Z",
     "iopub.status.idle": "2021-11-09T12:47:06.371111Z",
     "shell.execute_reply": "2021-11-09T12:47:06.370691Z"
    },
    "papermill": {
     "duration": 0.008631,
     "end_time": "2021-11-09T12:47:06.371213",
     "exception": false,
     "start_time": "2021-11-09T12:47:06.362582",
     "status": "completed"
    },
    "tags": [
     "injected-parameters"
    ]
   },
   "outputs": [],
   "source": [
    "# Parameters\n",
    "mach_number = 0.4\n",
    "p = 4\n",
    "p_map = 4\n",
    "c = \"c_+\"\n",
    "discretization_type = 1\n",
    "form = \"weak\"\n"
   ]
  },
  {
   "cell_type": "code",
   "execution_count": null,
   "id": "ca7e60d2",
   "metadata": {
    "papermill": {
     "duration": null,
     "end_time": null,
     "exception": false,
     "start_time": "2021-11-09T12:47:06.374299",
     "status": "running"
    },
    "tags": []
   },
   "outputs": [],
   "source": [
    "import sys  \n",
    "import numpy as np\n",
    "sys.path.insert(0, '../src')\n",
    "from Driver import euler_driver\n",
    "\n",
    "solver = euler_driver(mach_number=mach_number, \n",
    "                      theta=np.pi/4,\n",
    "                        p=p, M=M, L=L,\n",
    "                        p_map=p_map, c=c, \n",
    "                        discretization_type=discretization_type,\n",
    "                        new_mesh=False,\n",
    "                        form=form, restart=True,run=True)"
   ]
  }
 ],
 "metadata": {
  "celltoolbar": "Tags",
  "interpreter": {
   "hash": "8a4c5cff9d1eb01f6f91880bd866b35b24d8468d7e92aa7ef6f6962744ecb1db"
  },
  "kernelspec": {
   "display_name": "Python 3.9.5 64-bit ('base': conda)",
   "name": "python3"
  },
  "language_info": {
   "codemirror_mode": {
    "name": "ipython",
    "version": 3
   },
   "file_extension": ".py",
   "mimetype": "text/x-python",
   "name": "python",
   "nbconvert_exporter": "python",
   "pygments_lexer": "ipython3",
   "version": "3.9.5"
  },
  "papermill": {
   "default_parameters": {},
   "duration": null,
   "end_time": null,
   "environment_variables": {},
   "exception": null,
   "input_path": "euler_driver.ipynb",
   "output_path": "euler_m04p4cpt1_weak.ipynb",
   "parameters": {
    "c": "c_+",
    "discretization_type": 1,
    "form": "weak",
    "mach_number": 0.4,
    "p": 4,
    "p_map": 4
   },
   "start_time": "2021-11-09T12:47:02.676624",
   "version": "2.3.3"
  }
 },
 "nbformat": 4,
 "nbformat_minor": 5
}