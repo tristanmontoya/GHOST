{
 "cells": [
  {
   "cell_type": "markdown",
   "id": "815e0d4b",
   "metadata": {
    "papermill": {
     "duration": 0.00506,
     "end_time": "2021-12-11T03:48:25.568792",
     "exception": false,
     "start_time": "2021-12-11T03:48:25.563732",
     "status": "completed"
    },
    "tags": []
   },
   "source": [
    "# GHOST driver - Euler equations"
   ]
  },
  {
   "cell_type": "code",
   "execution_count": 1,
   "id": "2fcf188e",
   "metadata": {
    "execution": {
     "iopub.execute_input": "2021-12-11T03:48:25.597725Z",
     "iopub.status.busy": "2021-12-11T03:48:25.596898Z",
     "iopub.status.idle": "2021-12-11T03:48:25.599086Z",
     "shell.execute_reply": "2021-12-11T03:48:25.598410Z"
    },
    "papermill": {
     "duration": 0.025857,
     "end_time": "2021-12-11T03:48:25.599237",
     "exception": false,
     "start_time": "2021-12-11T03:48:25.573380",
     "status": "completed"
    },
    "tags": [
     "parameters"
    ]
   },
   "outputs": [],
   "source": [
    "mach_number=0.4\n",
    "p=2\n",
    "M=16\n",
    "L=10.0\n",
    "p_map=2\n",
    "c=\"c_dg\"\n",
    "discretization_type=1\n",
    "form=\"weak\""
   ]
  },
  {
   "cell_type": "code",
   "execution_count": 2,
   "id": "4f3d042b",
   "metadata": {
    "execution": {
     "iopub.execute_input": "2021-12-11T03:48:25.654975Z",
     "iopub.status.busy": "2021-12-11T03:48:25.654044Z",
     "iopub.status.idle": "2021-12-11T03:48:25.657327Z",
     "shell.execute_reply": "2021-12-11T03:48:25.656560Z"
    },
    "papermill": {
     "duration": 0.023361,
     "end_time": "2021-12-11T03:48:25.657509",
     "exception": false,
     "start_time": "2021-12-11T03:48:25.634148",
     "status": "completed"
    },
    "tags": [
     "injected-parameters"
    ]
   },
   "outputs": [],
   "source": [
    "# Parameters\n",
    "mach_number = 0.4\n",
    "p = 4\n",
    "p_map = 4\n",
    "c = \"c_+\"\n",
    "discretization_type = 1\n",
    "form = \"weak\"\n"
   ]
  },
  {
   "cell_type": "code",
   "execution_count": 3,
   "id": "3e0dd474",
   "metadata": {
    "execution": {
     "iopub.execute_input": "2021-12-11T03:48:25.675355Z",
     "iopub.status.busy": "2021-12-11T03:48:25.674903Z",
     "iopub.status.idle": "2021-12-11T03:48:46.895215Z",
     "shell.execute_reply": "2021-12-11T03:48:46.894474Z"
    },
    "papermill": {
     "duration": 21.230013,
     "end_time": "2021-12-11T03:48:46.895389",
     "exception": false,
     "start_time": "2021-12-11T03:48:25.665376",
     "status": "completed"
    },
    "tags": []
   },
   "outputs": [
    {
     "name": "stderr",
     "output_type": "stream",
     "text": [
      "Matplotlib created a temporary config/cache directory at /tmp/matplotlib-p_ux12ox because the default path (/home/z/zingg/tmontoya/.config/matplotlib) is not a writable directory; it is highly recommended to set the MPLCONFIGDIR environment variable to a writable directory, in particular to speed up the import of Matplotlib and to better support multiprocessing.\n"
     ]
    },
    {
     "name": "stdout",
     "output_type": "stream",
     "text": [
      "euler_m04p4cpt1_weak\n"
     ]
    },
    {
     "name": "stdout",
     "output_type": "stream",
     "text": [
      "loaded from time step  81458\n"
     ]
    }
   ],
   "source": [
    "import sys  \n",
    "import numpy as np\n",
    "sys.path.insert(0, '../src')\n",
    "from Driver import euler_driver\n",
    "\n",
    "solver = euler_driver(mach_number=mach_number, \n",
    "                      theta=np.pi/4,\n",
    "                        p=p, M=M, L=L,\n",
    "                        p_map=p_map, c=c, \n",
    "                        discretization_type=discretization_type,\n",
    "                        new_mesh=False,\n",
    "                        form=form, restart=True,run=True)"
   ]
  }
 ],
 "metadata": {
  "celltoolbar": "Tags",
  "interpreter": {
   "hash": "8a4c5cff9d1eb01f6f91880bd866b35b24d8468d7e92aa7ef6f6962744ecb1db"
  },
  "kernelspec": {
   "display_name": "Python 3.9.5 64-bit ('base': conda)",
   "name": "python3"
  },
  "language_info": {
   "codemirror_mode": {
    "name": "ipython",
    "version": 3
   },
   "file_extension": ".py",
   "mimetype": "text/x-python",
   "name": "python",
   "nbconvert_exporter": "python",
   "pygments_lexer": "ipython3",
   "version": "3.8.5"
  },
  "papermill": {
   "default_parameters": {},
   "duration": 22.799435,
   "end_time": "2021-12-11T03:48:47.308028",
   "environment_variables": {},
   "exception": null,
   "input_path": "euler_driver.ipynb",
   "output_path": "euler_m04p4cpt1_weak.ipynb",
   "parameters": {
    "c": "c_+",
    "discretization_type": 1,
    "form": "weak",
    "mach_number": 0.4,
    "p": 4,
    "p_map": 4
   },
   "start_time": "2021-12-11T03:48:24.508593",
   "version": "2.3.3"
  }
 },
 "nbformat": 4,
 "nbformat_minor": 5
}