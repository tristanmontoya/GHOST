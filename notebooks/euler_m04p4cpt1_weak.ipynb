{
 "cells": [
  {
   "cell_type": "code",
   "execution_count": 1,
   "id": "ae47c6c1",
   "metadata": {
    "execution": {
     "iopub.execute_input": "2021-05-14T22:14:17.589078Z",
     "iopub.status.busy": "2021-05-14T22:14:17.588406Z",
     "iopub.status.idle": "2021-05-14T22:14:17.598457Z",
     "shell.execute_reply": "2021-05-14T22:14:17.598962Z"
    },
    "papermill": {
     "duration": 0.074383,
     "end_time": "2021-05-14T22:14:17.599237",
     "exception": false,
     "start_time": "2021-05-14T22:14:17.524854",
     "status": "completed"
    },
    "tags": [
     "parameters"
    ]
   },
   "outputs": [],
   "source": [
    "mach_number=0.4\n",
    "p=2\n",
    "M=16\n",
    "L=10.0\n",
    "p_geo=2\n",
    "c=\"c_dg\"\n",
    "discretization_type=1\n",
    "form=\"strong\""
   ]
  },
  {
   "cell_type": "code",
   "execution_count": 2,
   "id": "81749a6e",
   "metadata": {
    "execution": {
     "iopub.execute_input": "2021-05-14T22:14:17.645222Z",
     "iopub.status.busy": "2021-05-14T22:14:17.644108Z",
     "iopub.status.idle": "2021-05-14T22:14:17.645801Z",
     "shell.execute_reply": "2021-05-14T22:14:17.644652Z"
    },
    "papermill": {
     "duration": 0.041667,
     "end_time": "2021-05-14T22:14:17.645929",
     "exception": false,
     "start_time": "2021-05-14T22:14:17.604262",
     "status": "completed"
    },
    "tags": [
     "injected-parameters"
    ]
   },
   "outputs": [],
   "source": [
    "# Parameters\n",
    "mach_number = 0.4\n",
    "p = 4\n",
    "p_geo = 4\n",
    "c = \"c_+\"\n",
    "discretization_type = 1\n",
    "form = \"weak\"\n"
   ]
  },
  {
   "cell_type": "code",
   "execution_count": null,
   "id": "cb81dd68",
   "metadata": {
    "papermill": {
     "duration": null,
     "end_time": null,
     "exception": false,
     "start_time": "2021-05-14T22:14:17.791467",
     "status": "running"
    },
    "tags": []
   },
   "outputs": [],
   "source": [
    "import sys  \n",
    "import numpy as np\n",
    "sys.path.insert(0, '../src')\n",
    "from Driver import euler_driver\n",
    "\n",
    "solver = euler_driver(mach_number=mach_number, \n",
    "                      theta=np.pi/4,\n",
    "                        p=p, M=M, L=L,\n",
    "                        p_geo=p_geo, c=c, \n",
    "                        discretization_type=discretization_type,\n",
    "                        form=form)"
   ]
  },
  {
   "cell_type": "code",
   "execution_count": null,
   "id": "b170e671",
   "metadata": {
    "papermill": {
     "duration": null,
     "end_time": null,
     "exception": null,
     "start_time": null,
     "status": "pending"
    },
    "tags": []
   },
   "outputs": [],
   "source": []
  }
 ],
 "metadata": {
  "celltoolbar": "Tags",
  "kernelspec": {
   "display_name": "Python 3",
   "language": "python",
   "name": "python3"
  },
  "language_info": {
   "codemirror_mode": {
    "name": "ipython",
    "version": 3
   },
   "file_extension": ".py",
   "mimetype": "text/x-python",
   "name": "python",
   "nbconvert_exporter": "python",
   "pygments_lexer": "ipython3",
   "version": "3.7.9"
  },
  "papermill": {
   "default_parameters": {},
   "duration": null,
   "end_time": null,
   "environment_variables": {},
   "exception": null,
   "input_path": "euler_driver.ipynb",
   "output_path": "euler_m04p4cpt1_weak.ipynb",
   "parameters": {
    "c": "c_+",
    "discretization_type": 1,
    "form": "weak",
    "mach_number": 0.4,
    "p": 4,
    "p_geo": 4
   },
   "start_time": "2021-05-14T22:14:16.305823",
   "version": "2.3.3"
  }
 },
 "nbformat": 4,
 "nbformat_minor": 5
}