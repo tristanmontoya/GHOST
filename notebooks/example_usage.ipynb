{
 "cells": [
  {
   "cell_type": "code",
   "execution_count": null,
   "source": [
    "# GHOST - Example usage (solving the 2D linear advection equation)\n",
    "\n",
    "import sys  \n",
    "import numpy as np\n",
    "sys.path.insert(0, './src')\n",
    "from Mesh import Mesh2D\n",
    "from Solver import Solver\n",
    "\n",
    "# read in mesh in GMSH format\n",
    "mesh = Mesh2D(\"advection_demo\", \"./example_mesh_4x4.msh\")\n",
    "\n",
    "# set up periodic boundary conditions\n",
    "left = np.array([1.0,0.0,0.0]) \n",
    "right = np.array([1.0,0.0,1.0])\n",
    "bottom = np.array([0.0,1.0,0.0])\n",
    "top = np.array([0.0,1.0,1.0])\n",
    "mesh.add_bc_on_hyperplanes([left,right,bottom,top],[1,2,3,4])\n",
    "mesh.make_periodic((1,2),[1]) # left-right periodic (bcs parallel to axis 1)\n",
    "mesh.make_periodic((3,4),[0]) # top-bottom periodic (axis 0)\n",
    "\n",
    "# set volume and facet quadrature degrees\n",
    "p = 3\n",
    "volume_quadrature_degree = 2*p\n",
    "facet_quadrature_degree = 2*p+1\n",
    "\n",
    "# set wave angle and speed\n",
    "theta = np.pi/4\n",
    "a = np.sqrt(2)\n",
    "\n",
    "# input solver parameters\n",
    "params = {\"project_title\": \"advection_demo\",\n",
    "         \"problem\": \"constant_advection\",\n",
    "         \"initial_condition\": \"sine\",\n",
    "         \"wavelength\": np.ones(2),\n",
    "         \"wave_speed\": a*np.array([np.sin(theta),np.cos(theta)]),\n",
    "         \"upwind_parameter\": 0.0,\n",
    "         \"integration_type\": \"quadrature\",\n",
    "         \"solution_degree\": 3,\n",
    "         \"volume_quadrature_degree\": volume_quadrature_degree,\n",
    "         \"facet_quadrature_degree\": facet_quadrature_degree,\n",
    "         \"solution_representation\": \"modal\",\n",
    "         \"form\": \"weak\",\n",
    "         \"correction\": \"c_dg\",\n",
    "         \"time_integrator\": \"rk44\",\n",
    "         \"final_time\": 1.0,\n",
    "         \"time_step_scale\": 0.0025}\n",
    "\n",
    "# set up solver and pre-process simulation\n",
    "advection_solver = Solver(params,mesh)"
   ],
   "outputs": [],
   "metadata": {}
  },
  {
   "cell_type": "code",
   "execution_count": null,
   "source": [
    "# run the solver using the specified parameters and mesh\n",
    "advection_solver.run()"
   ],
   "outputs": [],
   "metadata": {}
  },
  {
   "cell_type": "code",
   "execution_count": null,
   "source": [
    "# post-process and generate plots of numerical and exact solution\n",
    "advection.post_process()\n",
    "advection.plot(plot_curves=True,plot_exact=True)"
   ],
   "outputs": [],
   "metadata": {}
  }
 ],
 "metadata": {
  "orig_nbformat": 4,
  "language_info": {
   "name": "python",
   "version": "3.9.5"
  },
  "kernelspec": {
   "name": "python3",
   "display_name": "Python 3.9.5 64-bit ('base': conda)"
  },
  "interpreter": {
   "hash": "4fd94666eea7828186a9e31e1d173dfc5fcf8e36dc44a3c26b7607fc7a9a54f0"
  }
 },
 "nbformat": 4,
 "nbformat_minor": 2
}