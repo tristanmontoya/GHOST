{
 "cells": [
  {
   "cell_type": "markdown",
   "source": [
    "# GHOST - example usage\n",
    "Solving the linear advection equation on a periodic square with a sinusoidal initial condition"
   ],
   "metadata": {}
  },
  {
   "cell_type": "code",
   "execution_count": 1,
   "source": [
    "import sys  \n",
    "import numpy as np\n",
    "sys.path.insert(0, '../src')\n",
    "from Mesh import Mesh2D\n",
    "from Solver import Solver\n",
    "\n",
    "# read in a regular 4x4x2 triangular grid in GMSH format\n",
    "mesh = Mesh2D(\"advection_demo\", \"../mesh/square_L1/M4.msh\")\n",
    "\n",
    "# define boundaries\n",
    "left = np.array([1.0,0.0,0.0]) \n",
    "right = np.array([1.0,0.0,1.0])\n",
    "bottom = np.array([0.0,1.0,0.0])\n",
    "top = np.array([0.0,1.0,1.0])\n",
    "mesh.add_bc_on_hyperplanes([left,right,bottom,top],[1,2,3,4])\n",
    "\n",
    "# define periodicity for left/right and top/bottom\n",
    "mesh.make_periodic((1,2),[1]) \n",
    "mesh.make_periodic((3,4),[0])\n",
    "\n",
    "# set polynomial degree of discretization\n",
    "p = 3\n",
    "\n",
    "# set volume and facet quadrature degrees\n",
    "volume_quadrature_degree = 2*p\n",
    "facet_quadrature_degree = 2*p+1\n",
    "\n",
    "# set wave angle and speed\n",
    "theta = np.pi/4\n",
    "a = np.sqrt(2)"
   ],
   "outputs": [],
   "metadata": {}
  },
  {
   "cell_type": "markdown",
   "source": [
    "Set up a weak-form modal DG solver with RK4 time-marching and a central numerical flux"
   ],
   "metadata": {}
  },
  {
   "cell_type": "code",
   "execution_count": 2,
   "source": [
    "advection_solver = Solver(\n",
    "    {   \"project_title\": \"advection_demo\",\n",
    "        \"problem\": \"constant_advection\",\n",
    "        \"initial_condition\": \"sine\",\n",
    "        \"wavelength\": np.ones(2),\n",
    "        \"wave_speed\": a*np.array([np.cos(theta),np.sin(theta)]),\n",
    "        \"upwind_parameter\": 0.0,\n",
    "        \"integration_type\": \"quadrature\",\n",
    "        \"solution_degree\": 3,\n",
    "        \"volume_quadrature_degree\": volume_quadrature_degree,\n",
    "        \"facet_quadrature_degree\": facet_quadrature_degree,\n",
    "        \"solution_representation\": \"modal\",\n",
    "        \"form\": \"weak\",\n",
    "        \"correction\": \"c_dg\",\n",
    "        \"time_integrator\": \"rk44\",\n",
    "        \"final_time\": 1.0/(a*max(np.abs(np.cos(theta)),\n",
    "                            np.abs(np.sin(theta)))),\n",
    "        \"time_step_scale\": 0.0025},\n",
    "         mesh)"
   ],
   "outputs": [],
   "metadata": {}
  },
  {
   "cell_type": "markdown",
   "source": [
    "Run the solver for one period using specified parameters and mesh"
   ],
   "metadata": {}
  },
  {
   "cell_type": "code",
   "execution_count": 3,
   "source": [
    "advection_solver.run(restart=False)"
   ],
   "outputs": [
    {
     "output_type": "error",
     "ename": "TypeError",
     "evalue": "'protocol' is an invalid keyword argument for open()",
     "traceback": [
      "\u001b[0;31m---------------------------------------------------------------------------\u001b[0m",
      "\u001b[0;31mTypeError\u001b[0m                                 Traceback (most recent call last)",
      "\u001b[0;32m/var/folders/k5/_70rf92j6yl8h_fc2ytd58c80000gn/T/ipykernel_25131/1471535593.py\u001b[0m in \u001b[0;36m<module>\u001b[0;34m\u001b[0m\n\u001b[0;32m----> 1\u001b[0;31m \u001b[0madvection_solver\u001b[0m\u001b[0;34m.\u001b[0m\u001b[0mrun\u001b[0m\u001b[0;34m(\u001b[0m\u001b[0mrestart\u001b[0m\u001b[0;34m=\u001b[0m\u001b[0;32mFalse\u001b[0m\u001b[0;34m)\u001b[0m\u001b[0;34m\u001b[0m\u001b[0;34m\u001b[0m\u001b[0m\n\u001b[0m",
      "\u001b[0;32m~/Research/GHOST/notebooks/../src/Solver.py\u001b[0m in \u001b[0;36mrun\u001b[0;34m(self, results_path, write_interval, print_interval, prefix, clear_write_dir, restart)\u001b[0m\n\u001b[1;32m    388\u001b[0m                 \u001b[0mself\u001b[0m\u001b[0;34m.\u001b[0m\u001b[0mu_tilde\u001b[0m \u001b[0;34m=\u001b[0m \u001b[0mself\u001b[0m\u001b[0;34m.\u001b[0m\u001b[0mproject_function\u001b[0m\u001b[0;34m(\u001b[0m\u001b[0mself\u001b[0m\u001b[0;34m.\u001b[0m\u001b[0mu_0\u001b[0m\u001b[0;34m)\u001b[0m\u001b[0;34m\u001b[0m\u001b[0;34m\u001b[0m\u001b[0m\n\u001b[1;32m    389\u001b[0m \u001b[0;34m\u001b[0m\u001b[0m\n\u001b[0;32m--> 390\u001b[0;31m                 pickle.dump(self.u_tilde, open(results_path+\"res_\" \n\u001b[0m\u001b[1;32m    391\u001b[0m                                              + str(0) + \".dat\", \"wt\", protocol=0))\n\u001b[1;32m    392\u001b[0m \u001b[0;34m\u001b[0m\u001b[0m\n",
      "\u001b[0;31mTypeError\u001b[0m: 'protocol' is an invalid keyword argument for open()"
     ]
    }
   ],
   "metadata": {}
  },
  {
   "cell_type": "markdown",
   "source": [
    "Post-process and generate plots of numerical and exact solutions"
   ],
   "metadata": {}
  },
  {
   "cell_type": "code",
   "execution_count": null,
   "source": [
    "advection_solver.post_process()\n",
    "advection_solver.plot(plot_curves=True,plot_exact=True)"
   ],
   "outputs": [],
   "metadata": {}
  }
 ],
 "metadata": {
  "orig_nbformat": 4,
  "language_info": {
   "name": "python",
   "version": "3.9.5",
   "mimetype": "text/x-python",
   "codemirror_mode": {
    "name": "ipython",
    "version": 3
   },
   "pygments_lexer": "ipython3",
   "nbconvert_exporter": "python",
   "file_extension": ".py"
  },
  "kernelspec": {
   "name": "python3",
   "display_name": "Python 3.9.5 64-bit ('base': conda)"
  },
  "interpreter": {
   "hash": "4fd94666eea7828186a9e31e1d173dfc5fcf8e36dc44a3c26b7607fc7a9a54f0"
  }
 },
 "nbformat": 4,
 "nbformat_minor": 2
}