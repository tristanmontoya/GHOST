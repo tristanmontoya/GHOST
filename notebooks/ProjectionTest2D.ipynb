{
 "cells": [
  {
   "cell_type": "code",
   "execution_count": 1,
   "metadata": {},
   "outputs": [],
   "source": [
    "# GHOST - Projection Test (2D)\n",
    "\n",
    "import sys  \n",
    "import numpy as np\n",
    "import modepy as mp\n",
    "sys.path.insert(0, '../src')\n",
    "from Mesh import Mesh2D\n",
    "from Discretization import SpatialDiscretization\n",
    "from Solver import Solver\n",
    "\n",
    "mesh = Mesh2D(\"test\", \"../mesh/square_mesh_x_5y_5.msh\")\n",
    "mesh.map_mesh(f_map=Mesh2D.grid_transformation())\n",
    "\n",
    "p = 3\n",
    "tau = 2*p + 1\n",
    "mu = 2*p + 1\n",
    "\n",
    "params = {\"problem\": \"projection\",\n",
    "         \"initial_condition\": \"sine\",\n",
    "         \"wavelength\": np.array([1.0,1.0]),\n",
    "         \"integration_type\": \"quadrature\",\n",
    "         \"solution_degree\": p,\n",
    "         \"volume_quadrature_degree\": tau,\n",
    "         \"facet_quadrature_degree\": mu}\n",
    "\n",
    "projection_solver = Solver(params,mesh)\n",
    "\n",
    "#projection_solver.run()\n",
    "\n",
    "#projection_solver.plot()"
   ]
  },
  {
   "cell_type": "code",
   "execution_count": null,
   "metadata": {},
   "outputs": [],
   "source": []
  }
 ],
 "metadata": {
  "kernelspec": {
   "display_name": "Python 3",
   "language": "python",
   "name": "python3"
  },
  "language_info": {
   "codemirror_mode": {
    "name": "ipython",
    "version": 3
   },
   "file_extension": ".py",
   "mimetype": "text/x-python",
   "name": "python",
   "nbconvert_exporter": "python",
   "pygments_lexer": "ipython3",
   "version": "3.7.9"
  }
 },
 "nbformat": 4,
 "nbformat_minor": 4
}
