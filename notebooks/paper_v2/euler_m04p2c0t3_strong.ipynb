{
 "cells": [
  {
   "cell_type": "code",
   "execution_count": 1,
   "id": "a46d5ffc",
   "metadata": {
    "execution": {
     "iopub.execute_input": "2021-05-14T22:14:03.883528Z",
     "iopub.status.busy": "2021-05-14T22:14:03.882904Z",
     "iopub.status.idle": "2021-05-14T22:14:03.885922Z",
     "shell.execute_reply": "2021-05-14T22:14:03.885263Z"
    },
    "papermill": {
     "duration": 0.018709,
     "end_time": "2021-05-14T22:14:03.886062",
     "exception": false,
     "start_time": "2021-05-14T22:14:03.867353",
     "status": "completed"
    },
    "tags": [
     "parameters"
    ]
   },
   "outputs": [],
   "source": [
    "mach_number=0.4\n",
    "p=2\n",
    "M=16\n",
    "L=10.0\n",
    "p_geo=2\n",
    "c=\"c_dg\"\n",
    "discretization_type=1\n",
    "form=\"strong\""
   ]
  },
  {
   "cell_type": "code",
   "execution_count": 2,
   "id": "fe32dcbe",
   "metadata": {
    "execution": {
     "iopub.execute_input": "2021-05-14T22:14:03.899829Z",
     "iopub.status.busy": "2021-05-14T22:14:03.899224Z",
     "iopub.status.idle": "2021-05-14T22:14:03.905208Z",
     "shell.execute_reply": "2021-05-14T22:14:03.904719Z"
    },
    "papermill": {
     "duration": 0.014432,
     "end_time": "2021-05-14T22:14:03.905331",
     "exception": false,
     "start_time": "2021-05-14T22:14:03.890899",
     "status": "completed"
    },
    "tags": [
     "injected-parameters"
    ]
   },
   "outputs": [],
   "source": [
    "# Parameters\n",
    "mach_number = 0.4\n",
    "p = 2\n",
    "p_geo = 2\n",
    "c = \"c_dg\"\n",
    "discretization_type = 3\n",
    "form = \"strong\"\n"
   ]
  },
  {
   "cell_type": "code",
   "execution_count": 3,
   "id": "9ac3ee1f",
   "metadata": {
    "execution": {
     "iopub.execute_input": "2021-05-14T22:14:03.948944Z",
     "iopub.status.busy": "2021-05-14T22:14:03.948328Z",
     "iopub.status.idle": "2021-05-17T09:15:18.687802Z",
     "shell.execute_reply": "2021-05-17T09:15:18.688513Z"
    },
    "papermill": {
     "duration": 212474.779043,
     "end_time": "2021-05-17T09:15:18.688754",
     "exception": false,
     "start_time": "2021-05-14T22:14:03.909711",
     "status": "completed"
    },
    "tags": []
   },
   "outputs": [
    {
     "name": "stdout",
     "output_type": "stream",
     "text": [
      "euler_m04p2c0t3_strong\n"
     ]
    },
    {
     "name": "stdout",
     "output_type": "stream",
     "text": [
      "9.948e-14 &  2.355e-02  \\\\\n",
      "-5.045e-13 &  5.732e-02  \\\\\n",
      "1.116e-12 &  5.671e-02  \\\\\n",
      "3.695e-13 &  6.123e-02  \\\\\n"
     ]
    }
   ],
   "source": [
    "import sys  \n",
    "import numpy as np\n",
    "sys.path.insert(0, '../src')\n",
    "from Driver import euler_driver\n",
    "\n",
    "solver = euler_driver(mach_number=mach_number, \n",
    "                      theta=np.pi/4,\n",
    "                        p=p, M=M, L=L,\n",
    "                        p_geo=p_geo, c=c, \n",
    "                        discretization_type=discretization_type,\n",
    "                        form=form)"
   ]
  },
  {
   "cell_type": "code",
   "execution_count": null,
   "id": "d2431dec",
   "metadata": {
    "papermill": {
     "duration": 0.0073,
     "end_time": "2021-05-17T09:15:18.703609",
     "exception": false,
     "start_time": "2021-05-17T09:15:18.696309",
     "status": "completed"
    },
    "tags": []
   },
   "outputs": [],
   "source": []
  }
 ],
 "metadata": {
  "celltoolbar": "Tags",
  "kernelspec": {
   "display_name": "Python 3",
   "language": "python",
   "name": "python3"
  },
  "language_info": {
   "codemirror_mode": {
    "name": "ipython",
    "version": 3
   },
   "file_extension": ".py",
   "mimetype": "text/x-python",
   "name": "python",
   "nbconvert_exporter": "python",
   "pygments_lexer": "ipython3",
   "version": "3.8.5"
  },
  "papermill": {
   "default_parameters": {},
   "duration": 212476.474691,
   "end_time": "2021-05-17T09:15:19.323199",
   "environment_variables": {},
   "exception": null,
   "input_path": "euler_driver.ipynb",
   "output_path": "euler_m04p2c0t3_strong.ipynb",
   "parameters": {
    "c": "c_dg",
    "discretization_type": 3,
    "form": "strong",
    "mach_number": 0.4,
    "p": 2,
    "p_geo": 2
   },
   "start_time": "2021-05-14T22:14:02.848508",
   "version": "2.3.3"
  }
 },
 "nbformat": 4,
 "nbformat_minor": 5
}