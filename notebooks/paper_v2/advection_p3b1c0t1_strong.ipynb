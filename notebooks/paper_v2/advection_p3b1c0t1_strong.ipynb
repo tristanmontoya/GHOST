{
 "cells": [
  {
   "cell_type": "code",
   "execution_count": 1,
   "id": "1b80817d",
   "metadata": {
    "execution": {
     "iopub.execute_input": "2021-05-11T05:21:33.993560Z",
     "iopub.status.busy": "2021-05-11T05:21:33.992702Z",
     "iopub.status.idle": "2021-05-11T05:21:34.002748Z",
     "shell.execute_reply": "2021-05-11T05:21:34.002042Z"
    },
    "papermill": {
     "duration": 0.02469,
     "end_time": "2021-05-11T05:21:34.002907",
     "exception": false,
     "start_time": "2021-05-11T05:21:33.978217",
     "status": "completed"
    },
    "tags": [
     "parameters"
    ]
   },
   "outputs": [],
   "source": [
    "p=2\n",
    "M=10\n",
    "L=1\n",
    "p_geo=1\n",
    "c=\"c_dg\"\n",
    "discretization_type=1\n",
    "upwind_parameter=1.0\n",
    "form=\"strong\""
   ]
  },
  {
   "cell_type": "code",
   "execution_count": 2,
   "id": "922dfbad",
   "metadata": {
    "execution": {
     "iopub.execute_input": "2021-05-11T05:21:34.028239Z",
     "iopub.status.busy": "2021-05-11T05:21:34.026988Z",
     "iopub.status.idle": "2021-05-11T05:21:34.028956Z",
     "shell.execute_reply": "2021-05-11T05:21:34.027515Z"
    },
    "papermill": {
     "duration": 0.021155,
     "end_time": "2021-05-11T05:21:34.029106",
     "exception": false,
     "start_time": "2021-05-11T05:21:34.007951",
     "status": "completed"
    },
    "tags": [
     "injected-parameters"
    ]
   },
   "outputs": [],
   "source": [
    "# Parameters\n",
    "p = 3\n",
    "p_geo = 1\n",
    "upwind_parameter = 1.0\n",
    "c = \"c_dg\"\n",
    "discretization_type = 1\n",
    "form = \"strong\"\n"
   ]
  },
  {
   "cell_type": "code",
   "execution_count": 3,
   "id": "1ff664b8",
   "metadata": {
    "execution": {
     "iopub.execute_input": "2021-05-11T05:21:34.087252Z",
     "iopub.status.busy": "2021-05-11T05:21:34.086596Z",
     "iopub.status.idle": "2021-05-11T07:58:25.513827Z",
     "shell.execute_reply": "2021-05-11T07:58:25.514364Z"
    },
    "papermill": {
     "duration": 9411.454859,
     "end_time": "2021-05-11T07:58:25.514570",
     "exception": false,
     "start_time": "2021-05-11T05:21:34.059711",
     "status": "completed"
    },
    "tags": []
   },
   "outputs": [
    {
     "name": "stderr",
     "output_type": "stream",
     "text": [
      "WARNING:root:msh4 requires 3D points, but 2D points given. Appending 0 third component.\n"
     ]
    },
    {
     "name": "stderr",
     "output_type": "stream",
     "text": [
      "WARNING:root:Binary Gmsh needs c_size_t (got int64). Converting.\n"
     ]
    },
    {
     "name": "stdout",
     "output_type": "stream",
     "text": [
      "advection_p3b1c0t1_strong\n"
     ]
    },
    {
     "name": "stdout",
     "output_type": "stream",
     "text": [
      "-4.850e-16 &  -4.712e-05 & 8.997e-04  \\\\\n"
     ]
    }
   ],
   "source": [
    "import sys  \n",
    "import numpy as np\n",
    "sys.path.insert(0, '../src')\n",
    "from Driver import advection_driver\n",
    "\n",
    "solver = advection_driver(a=np.sqrt(2), theta=np.pi/4, p=p, M=M, L=L,\n",
    "                        p_geo=p_geo, c=c, \n",
    "                        discretization_type=discretization_type,\n",
    "                        upwind_parameter=upwind_parameter,\n",
    "                        form=form)"
   ]
  },
  {
   "cell_type": "code",
   "execution_count": null,
   "id": "26ed1e2b",
   "metadata": {
    "papermill": {
     "duration": 0.005733,
     "end_time": "2021-05-11T07:58:25.526290",
     "exception": false,
     "start_time": "2021-05-11T07:58:25.520557",
     "status": "completed"
    },
    "tags": []
   },
   "outputs": [],
   "source": []
  }
 ],
 "metadata": {
  "celltoolbar": "Tags",
  "kernelspec": {
   "display_name": "Python 3",
   "language": "python",
   "name": "python3"
  },
  "language_info": {
   "codemirror_mode": {
    "name": "ipython",
    "version": 3
   },
   "file_extension": ".py",
   "mimetype": "text/x-python",
   "name": "python",
   "nbconvert_exporter": "python",
   "pygments_lexer": "ipython3",
   "version": "3.8.5"
  },
  "papermill": {
   "default_parameters": {},
   "duration": 9413.399234,
   "end_time": "2021-05-11T07:58:26.040246",
   "environment_variables": {},
   "exception": null,
   "input_path": "advection_driver.ipynb",
   "output_path": "advection_p3b1c0t1_strong.ipynb",
   "parameters": {
    "c": "c_dg",
    "discretization_type": 1,
    "form": "strong",
    "p": 3,
    "p_geo": 1,
    "upwind_parameter": 1.0
   },
   "start_time": "2021-05-11T05:21:32.641012",
   "version": "2.3.3"
  }
 },
 "nbformat": 4,
 "nbformat_minor": 5
}