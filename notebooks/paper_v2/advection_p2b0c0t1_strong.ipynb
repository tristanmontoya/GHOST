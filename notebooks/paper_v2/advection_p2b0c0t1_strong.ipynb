{
 "cells": [
  {
   "cell_type": "code",
   "execution_count": 1,
   "id": "71690531",
   "metadata": {
    "execution": {
     "iopub.execute_input": "2021-05-11T03:10:11.305090Z",
     "iopub.status.busy": "2021-05-11T03:10:11.304422Z",
     "iopub.status.idle": "2021-05-11T03:10:11.307455Z",
     "shell.execute_reply": "2021-05-11T03:10:11.308090Z"
    },
    "papermill": {
     "duration": 0.019854,
     "end_time": "2021-05-11T03:10:11.308410",
     "exception": false,
     "start_time": "2021-05-11T03:10:11.288556",
     "status": "completed"
    },
    "tags": [
     "parameters"
    ]
   },
   "outputs": [],
   "source": [
    "p=2\n",
    "M=10\n",
    "L=1\n",
    "p_geo=1\n",
    "c=\"c_dg\"\n",
    "discretization_type=1\n",
    "upwind_parameter=1.0\n",
    "form=\"strong\""
   ]
  },
  {
   "cell_type": "code",
   "execution_count": 2,
   "id": "03f2359c",
   "metadata": {
    "execution": {
     "iopub.execute_input": "2021-05-11T03:10:11.329930Z",
     "iopub.status.busy": "2021-05-11T03:10:11.328470Z",
     "iopub.status.idle": "2021-05-11T03:10:11.330664Z",
     "shell.execute_reply": "2021-05-11T03:10:11.329140Z"
    },
    "papermill": {
     "duration": 0.015818,
     "end_time": "2021-05-11T03:10:11.330811",
     "exception": false,
     "start_time": "2021-05-11T03:10:11.314993",
     "status": "completed"
    },
    "tags": [
     "injected-parameters"
    ]
   },
   "outputs": [],
   "source": [
    "# Parameters\n",
    "p = 2\n",
    "p_geo = 1\n",
    "upwind_parameter = 0.0\n",
    "c = \"c_dg\"\n",
    "discretization_type = 1\n",
    "form = \"strong\"\n"
   ]
  },
  {
   "cell_type": "code",
   "execution_count": 3,
   "id": "2db5003d",
   "metadata": {
    "execution": {
     "iopub.execute_input": "2021-05-11T03:10:11.393126Z",
     "iopub.status.busy": "2021-05-11T03:10:11.392488Z",
     "iopub.status.idle": "2021-05-11T04:57:18.177809Z",
     "shell.execute_reply": "2021-05-11T04:57:18.178342Z"
    },
    "papermill": {
     "duration": 6426.819842,
     "end_time": "2021-05-11T04:57:18.178543",
     "exception": false,
     "start_time": "2021-05-11T03:10:11.358701",
     "status": "completed"
    },
    "tags": []
   },
   "outputs": [
    {
     "name": "stderr",
     "output_type": "stream",
     "text": [
      "WARNING:root:msh4 requires 3D points, but 2D points given. Appending 0 third component.\n"
     ]
    },
    {
     "name": "stderr",
     "output_type": "stream",
     "text": [
      "WARNING:root:Binary Gmsh needs c_size_t (got int64). Converting.\n"
     ]
    },
    {
     "name": "stdout",
     "output_type": "stream",
     "text": [
      "advection_p2b0c0t1_strong\n"
     ]
    },
    {
     "name": "stdout",
     "output_type": "stream",
     "text": [
      "-2.334e-16 &  1.665e-16 & 4.742e-02  \\\\\n"
     ]
    }
   ],
   "source": [
    "import sys  \n",
    "import numpy as np\n",
    "sys.path.insert(0, '../src')\n",
    "from Driver import advection_driver\n",
    "\n",
    "solver = advection_driver(a=np.sqrt(2), theta=np.pi/4, p=p, M=M, L=L,\n",
    "                        p_geo=p_geo, c=c, \n",
    "                        discretization_type=discretization_type,\n",
    "                        upwind_parameter=upwind_parameter,\n",
    "                        form=form)"
   ]
  },
  {
   "cell_type": "code",
   "execution_count": null,
   "id": "3deb806a",
   "metadata": {
    "papermill": {
     "duration": 0.005881,
     "end_time": "2021-05-11T04:57:18.190511",
     "exception": false,
     "start_time": "2021-05-11T04:57:18.184630",
     "status": "completed"
    },
    "tags": []
   },
   "outputs": [],
   "source": []
  }
 ],
 "metadata": {
  "celltoolbar": "Tags",
  "kernelspec": {
   "display_name": "Python 3",
   "language": "python",
   "name": "python3"
  },
  "language_info": {
   "codemirror_mode": {
    "name": "ipython",
    "version": 3
   },
   "file_extension": ".py",
   "mimetype": "text/x-python",
   "name": "python",
   "nbconvert_exporter": "python",
   "pygments_lexer": "ipython3",
   "version": "3.8.5"
  },
  "papermill": {
   "default_parameters": {},
   "duration": 6428.931195,
   "end_time": "2021-05-11T04:57:18.706354",
   "environment_variables": {},
   "exception": null,
   "input_path": "advection_driver.ipynb",
   "output_path": "advection_p2b0c0t1_strong.ipynb",
   "parameters": {
    "c": "c_dg",
    "discretization_type": 1,
    "form": "strong",
    "p": 2,
    "p_geo": 1,
    "upwind_parameter": 0.0
   },
   "start_time": "2021-05-11T03:10:09.775159",
   "version": "2.3.3"
  }
 },
 "nbformat": 4,
 "nbformat_minor": 5
}