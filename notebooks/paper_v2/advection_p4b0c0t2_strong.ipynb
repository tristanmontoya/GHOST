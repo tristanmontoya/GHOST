{
 "cells": [
  {
   "cell_type": "code",
   "execution_count": 1,
   "id": "561aa4d6",
   "metadata": {
    "execution": {
     "iopub.execute_input": "2021-05-14T14:12:17.839203Z",
     "iopub.status.busy": "2021-05-14T14:12:17.838118Z",
     "iopub.status.idle": "2021-05-14T14:12:17.864219Z",
     "shell.execute_reply": "2021-05-14T14:12:17.863354Z"
    },
    "papermill": {
     "duration": 0.056326,
     "end_time": "2021-05-14T14:12:17.864411",
     "exception": false,
     "start_time": "2021-05-14T14:12:17.808085",
     "status": "completed"
    },
    "tags": [
     "parameters"
    ]
   },
   "outputs": [],
   "source": [
    "p=2\n",
    "M=10\n",
    "L=1\n",
    "p_geo=1\n",
    "c=\"c_dg\"\n",
    "discretization_type=1\n",
    "upwind_parameter=1.0\n",
    "form=\"strong\""
   ]
  },
  {
   "cell_type": "code",
   "execution_count": 2,
   "id": "b5d29e40",
   "metadata": {
    "execution": {
     "iopub.execute_input": "2021-05-14T14:12:17.881519Z",
     "iopub.status.busy": "2021-05-14T14:12:17.880681Z",
     "iopub.status.idle": "2021-05-14T14:12:17.885416Z",
     "shell.execute_reply": "2021-05-14T14:12:17.884603Z"
    },
    "papermill": {
     "duration": 0.014706,
     "end_time": "2021-05-14T14:12:17.885592",
     "exception": false,
     "start_time": "2021-05-14T14:12:17.870886",
     "status": "completed"
    },
    "tags": [
     "injected-parameters"
    ]
   },
   "outputs": [],
   "source": [
    "# Parameters\n",
    "p = 4\n",
    "p_geo = 1\n",
    "upwind_parameter = 0.0\n",
    "c = \"c_dg\"\n",
    "discretization_type = 2\n",
    "form = \"strong\"\n"
   ]
  },
  {
   "cell_type": "code",
   "execution_count": 3,
   "id": "2f0b8d00",
   "metadata": {
    "execution": {
     "iopub.execute_input": "2021-05-14T14:12:18.049287Z",
     "iopub.status.busy": "2021-05-14T14:12:18.048610Z",
     "iopub.status.idle": "2021-05-14T17:31:06.640659Z",
     "shell.execute_reply": "2021-05-14T17:31:06.641197Z"
    },
    "papermill": {
     "duration": 11928.740426,
     "end_time": "2021-05-14T17:31:06.641423",
     "exception": false,
     "start_time": "2021-05-14T14:12:17.900997",
     "status": "completed"
    },
    "tags": []
   },
   "outputs": [
    {
     "name": "stderr",
     "output_type": "stream",
     "text": [
      "WARNING:root:msh4 requires 3D points, but 2D points given. Appending 0 third component.\n"
     ]
    },
    {
     "name": "stderr",
     "output_type": "stream",
     "text": [
      "WARNING:root:Binary Gmsh needs c_size_t (got int64). Converting.\n"
     ]
    },
    {
     "name": "stdout",
     "output_type": "stream",
     "text": [
      "advection_p4b0c0t2_strong\n"
     ]
    },
    {
     "name": "stdout",
     "output_type": "stream",
     "text": [
      "-3.524e-16 &  -5.551e-17 & 6.425e-04  \\\\\n"
     ]
    }
   ],
   "source": [
    "import sys  \n",
    "import numpy as np\n",
    "sys.path.insert(0, '../src')\n",
    "from Driver import advection_driver\n",
    "\n",
    "solver = advection_driver(a=np.sqrt(2), theta=np.pi/4, p=p, M=M, L=L,\n",
    "                        p_geo=p_geo, c=c, \n",
    "                        discretization_type=discretization_type,\n",
    "                        upwind_parameter=upwind_parameter,\n",
    "                        form=form)"
   ]
  },
  {
   "cell_type": "code",
   "execution_count": null,
   "id": "5acd6e01",
   "metadata": {
    "papermill": {
     "duration": 0.00564,
     "end_time": "2021-05-14T17:31:06.653137",
     "exception": false,
     "start_time": "2021-05-14T17:31:06.647497",
     "status": "completed"
    },
    "tags": []
   },
   "outputs": [],
   "source": []
  }
 ],
 "metadata": {
  "celltoolbar": "Tags",
  "kernelspec": {
   "display_name": "Python 3",
   "language": "python",
   "name": "python3"
  },
  "language_info": {
   "codemirror_mode": {
    "name": "ipython",
    "version": 3
   },
   "file_extension": ".py",
   "mimetype": "text/x-python",
   "name": "python",
   "nbconvert_exporter": "python",
   "pygments_lexer": "ipython3",
   "version": "3.8.5"
  },
  "papermill": {
   "default_parameters": {},
   "duration": 11930.760928,
   "end_time": "2021-05-14T17:31:07.166691",
   "environment_variables": {},
   "exception": null,
   "input_path": "advection_driver.ipynb",
   "output_path": "advection_p4b0c0t2_strong.ipynb",
   "parameters": {
    "c": "c_dg",
    "discretization_type": 2,
    "form": "strong",
    "p": 4,
    "p_geo": 1,
    "upwind_parameter": 0.0
   },
   "start_time": "2021-05-14T14:12:16.405763",
   "version": "2.3.3"
  }
 },
 "nbformat": 4,
 "nbformat_minor": 5
}