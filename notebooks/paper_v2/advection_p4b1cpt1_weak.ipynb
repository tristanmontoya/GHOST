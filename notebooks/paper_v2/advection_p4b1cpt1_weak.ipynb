{
 "cells": [
  {
   "cell_type": "code",
   "execution_count": 1,
   "id": "7d8d5777",
   "metadata": {
    "execution": {
     "iopub.execute_input": "2021-05-14T14:12:18.004405Z",
     "iopub.status.busy": "2021-05-14T14:12:18.003756Z",
     "iopub.status.idle": "2021-05-14T14:12:18.006940Z",
     "shell.execute_reply": "2021-05-14T14:12:18.006199Z"
    },
    "papermill": {
     "duration": 0.02086,
     "end_time": "2021-05-14T14:12:18.007091",
     "exception": false,
     "start_time": "2021-05-14T14:12:17.986231",
     "status": "completed"
    },
    "tags": [
     "parameters"
    ]
   },
   "outputs": [],
   "source": [
    "p=2\n",
    "M=10\n",
    "L=1\n",
    "p_geo=1\n",
    "c=\"c_dg\"\n",
    "discretization_type=1\n",
    "upwind_parameter=1.0\n",
    "form=\"strong\""
   ]
  },
  {
   "cell_type": "code",
   "execution_count": 2,
   "id": "a86a846b",
   "metadata": {
    "execution": {
     "iopub.execute_input": "2021-05-14T14:12:18.057650Z",
     "iopub.status.busy": "2021-05-14T14:12:18.056933Z",
     "iopub.status.idle": "2021-05-14T14:12:18.058798Z",
     "shell.execute_reply": "2021-05-14T14:12:18.058248Z"
    },
    "papermill": {
     "duration": 0.046876,
     "end_time": "2021-05-14T14:12:18.058933",
     "exception": false,
     "start_time": "2021-05-14T14:12:18.012057",
     "status": "completed"
    },
    "tags": [
     "injected-parameters"
    ]
   },
   "outputs": [],
   "source": [
    "# Parameters\n",
    "p = 4\n",
    "p_geo = 1\n",
    "upwind_parameter = 1.0\n",
    "c = \"c_+\"\n",
    "discretization_type = 1\n",
    "form = \"weak\"\n"
   ]
  },
  {
   "cell_type": "code",
   "execution_count": 3,
   "id": "e8a47f33",
   "metadata": {
    "execution": {
     "iopub.execute_input": "2021-05-14T14:12:18.103599Z",
     "iopub.status.busy": "2021-05-14T14:12:18.102936Z",
     "iopub.status.idle": "2021-05-14T16:49:50.762987Z",
     "shell.execute_reply": "2021-05-14T16:49:50.763676Z"
    },
    "papermill": {
     "duration": 9452.700371,
     "end_time": "2021-05-14T16:49:50.763995",
     "exception": false,
     "start_time": "2021-05-14T14:12:18.063624",
     "status": "completed"
    },
    "tags": []
   },
   "outputs": [
    {
     "name": "stderr",
     "output_type": "stream",
     "text": [
      "WARNING:root:msh4 requires 3D points, but 2D points given. Appending 0 third component.\n"
     ]
    },
    {
     "name": "stderr",
     "output_type": "stream",
     "text": [
      "WARNING:root:Binary Gmsh needs c_size_t (got int64). Converting.\n"
     ]
    },
    {
     "name": "stdout",
     "output_type": "stream",
     "text": [
      "advection_p4b1cpt1_weak\n"
     ]
    },
    {
     "name": "stdout",
     "output_type": "stream",
     "text": [
      "-2.442e-16 &  -9.014e-06 & 4.405e-04  \\\\\n"
     ]
    }
   ],
   "source": [
    "import sys  \n",
    "import numpy as np\n",
    "sys.path.insert(0, '../src')\n",
    "from Driver import advection_driver\n",
    "\n",
    "solver = advection_driver(a=np.sqrt(2), theta=np.pi/4, p=p, M=M, L=L,\n",
    "                        p_geo=p_geo, c=c, \n",
    "                        discretization_type=discretization_type,\n",
    "                        upwind_parameter=upwind_parameter,\n",
    "                        form=form)"
   ]
  },
  {
   "cell_type": "code",
   "execution_count": null,
   "id": "0968b32f",
   "metadata": {
    "papermill": {
     "duration": 0.008176,
     "end_time": "2021-05-14T16:49:50.780965",
     "exception": false,
     "start_time": "2021-05-14T16:49:50.772789",
     "status": "completed"
    },
    "tags": []
   },
   "outputs": [],
   "source": []
  }
 ],
 "metadata": {
  "celltoolbar": "Tags",
  "kernelspec": {
   "display_name": "Python 3",
   "language": "python",
   "name": "python3"
  },
  "language_info": {
   "codemirror_mode": {
    "name": "ipython",
    "version": 3
   },
   "file_extension": ".py",
   "mimetype": "text/x-python",
   "name": "python",
   "nbconvert_exporter": "python",
   "pygments_lexer": "ipython3",
   "version": "3.8.5"
  },
  "papermill": {
   "default_parameters": {},
   "duration": 9454.997886,
   "end_time": "2021-05-14T16:49:51.401580",
   "environment_variables": {},
   "exception": null,
   "input_path": "advection_driver.ipynb",
   "output_path": "advection_p4b1cpt1_weak.ipynb",
   "parameters": {
    "c": "c_+",
    "discretization_type": 1,
    "form": "weak",
    "p": 4,
    "p_geo": 1,
    "upwind_parameter": 1.0
   },
   "start_time": "2021-05-14T14:12:16.403694",
   "version": "2.3.3"
  }
 },
 "nbformat": 4,
 "nbformat_minor": 5
}