{
 "cells": [
  {
   "cell_type": "code",
   "execution_count": 1,
   "id": "3a78e564",
   "metadata": {
    "execution": {
     "iopub.execute_input": "2021-05-11T03:10:11.188686Z",
     "iopub.status.busy": "2021-05-11T03:10:11.166848Z",
     "iopub.status.idle": "2021-05-11T03:10:11.190134Z",
     "shell.execute_reply": "2021-05-11T03:10:11.189342Z"
    },
    "papermill": {
     "duration": 0.037321,
     "end_time": "2021-05-11T03:10:11.190293",
     "exception": false,
     "start_time": "2021-05-11T03:10:11.152972",
     "status": "completed"
    },
    "tags": [
     "parameters"
    ]
   },
   "outputs": [],
   "source": [
    "p=2\n",
    "M=10\n",
    "L=1\n",
    "p_geo=1\n",
    "c=\"c_dg\"\n",
    "discretization_type=1\n",
    "upwind_parameter=1.0\n",
    "form=\"strong\""
   ]
  },
  {
   "cell_type": "code",
   "execution_count": 2,
   "id": "4bfec1c1",
   "metadata": {
    "execution": {
     "iopub.execute_input": "2021-05-11T03:10:11.211113Z",
     "iopub.status.busy": "2021-05-11T03:10:11.210216Z",
     "iopub.status.idle": "2021-05-11T03:10:11.229039Z",
     "shell.execute_reply": "2021-05-11T03:10:11.228451Z"
    },
    "papermill": {
     "duration": 0.033832,
     "end_time": "2021-05-11T03:10:11.229185",
     "exception": false,
     "start_time": "2021-05-11T03:10:11.195353",
     "status": "completed"
    },
    "tags": [
     "injected-parameters"
    ]
   },
   "outputs": [],
   "source": [
    "# Parameters\n",
    "p = 2\n",
    "p_geo = 1\n",
    "upwind_parameter = 1.0\n",
    "c = \"c_+\"\n",
    "discretization_type = 3\n",
    "form = \"strong\"\n"
   ]
  },
  {
   "cell_type": "code",
   "execution_count": 3,
   "id": "e42ed8c5",
   "metadata": {
    "execution": {
     "iopub.execute_input": "2021-05-11T03:10:11.282656Z",
     "iopub.status.busy": "2021-05-11T03:10:11.281976Z",
     "iopub.status.idle": "2021-05-11T04:57:12.615831Z",
     "shell.execute_reply": "2021-05-11T04:57:12.616493Z"
    },
    "papermill": {
     "duration": 6421.382824,
     "end_time": "2021-05-11T04:57:12.616696",
     "exception": false,
     "start_time": "2021-05-11T03:10:11.233872",
     "status": "completed"
    },
    "tags": []
   },
   "outputs": [
    {
     "name": "stderr",
     "output_type": "stream",
     "text": [
      "WARNING:root:msh4 requires 3D points, but 2D points given. Appending 0 third component.\n"
     ]
    },
    {
     "name": "stderr",
     "output_type": "stream",
     "text": [
      "WARNING:root:Binary Gmsh needs c_size_t (got int64). Converting.\n"
     ]
    },
    {
     "name": "stdout",
     "output_type": "stream",
     "text": [
      "advection_p2b1cpt3_strong\n"
     ]
    },
    {
     "name": "stdout",
     "output_type": "stream",
     "text": [
      "-1.165e-15 &  -1.564e-02 & 3.492e-02  \\\\\n"
     ]
    }
   ],
   "source": [
    "import sys  \n",
    "import numpy as np\n",
    "sys.path.insert(0, '../src')\n",
    "from Driver import advection_driver\n",
    "\n",
    "solver = advection_driver(a=np.sqrt(2), theta=np.pi/4, p=p, M=M, L=L,\n",
    "                        p_geo=p_geo, c=c, \n",
    "                        discretization_type=discretization_type,\n",
    "                        upwind_parameter=upwind_parameter,\n",
    "                        form=form)"
   ]
  },
  {
   "cell_type": "code",
   "execution_count": null,
   "id": "f6e36983",
   "metadata": {
    "papermill": {
     "duration": 0.007693,
     "end_time": "2021-05-11T04:57:12.632303",
     "exception": false,
     "start_time": "2021-05-11T04:57:12.624610",
     "status": "completed"
    },
    "tags": []
   },
   "outputs": [],
   "source": []
  }
 ],
 "metadata": {
  "celltoolbar": "Tags",
  "kernelspec": {
   "display_name": "Python 3",
   "language": "python",
   "name": "python3"
  },
  "language_info": {
   "codemirror_mode": {
    "name": "ipython",
    "version": 3
   },
   "file_extension": ".py",
   "mimetype": "text/x-python",
   "name": "python",
   "nbconvert_exporter": "python",
   "pygments_lexer": "ipython3",
   "version": "3.8.5"
  },
  "papermill": {
   "default_parameters": {},
   "duration": 6424.246445,
   "end_time": "2021-05-11T04:57:14.047054",
   "environment_variables": {},
   "exception": null,
   "input_path": "advection_driver.ipynb",
   "output_path": "advection_p2b1cpt3_strong.ipynb",
   "parameters": {
    "c": "c_+",
    "discretization_type": 3,
    "form": "strong",
    "p": 2,
    "p_geo": 1,
    "upwind_parameter": 1.0
   },
   "start_time": "2021-05-11T03:10:09.800609",
   "version": "2.3.3"
  }
 },
 "nbformat": 4,
 "nbformat_minor": 5
}