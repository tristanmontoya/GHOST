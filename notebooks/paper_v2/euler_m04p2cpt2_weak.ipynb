{
 "cells": [
  {
   "cell_type": "code",
   "execution_count": 1,
   "id": "ed27132e",
   "metadata": {
    "execution": {
     "iopub.execute_input": "2021-05-14T22:14:03.812331Z",
     "iopub.status.busy": "2021-05-14T22:14:03.811738Z",
     "iopub.status.idle": "2021-05-14T22:14:03.814580Z",
     "shell.execute_reply": "2021-05-14T22:14:03.813917Z"
    },
    "papermill": {
     "duration": 0.017759,
     "end_time": "2021-05-14T22:14:03.814713",
     "exception": false,
     "start_time": "2021-05-14T22:14:03.796954",
     "status": "completed"
    },
    "tags": [
     "parameters"
    ]
   },
   "outputs": [],
   "source": [
    "mach_number=0.4\n",
    "p=2\n",
    "M=16\n",
    "L=10.0\n",
    "p_geo=2\n",
    "c=\"c_dg\"\n",
    "discretization_type=1\n",
    "form=\"strong\""
   ]
  },
  {
   "cell_type": "code",
   "execution_count": 2,
   "id": "377ae718",
   "metadata": {
    "execution": {
     "iopub.execute_input": "2021-05-14T22:14:03.827619Z",
     "iopub.status.busy": "2021-05-14T22:14:03.827009Z",
     "iopub.status.idle": "2021-05-14T22:14:03.828987Z",
     "shell.execute_reply": "2021-05-14T22:14:03.829430Z"
    },
    "papermill": {
     "duration": 0.01014,
     "end_time": "2021-05-14T22:14:03.829570",
     "exception": false,
     "start_time": "2021-05-14T22:14:03.819430",
     "status": "completed"
    },
    "tags": [
     "injected-parameters"
    ]
   },
   "outputs": [],
   "source": [
    "# Parameters\n",
    "mach_number = 0.4\n",
    "p = 2\n",
    "p_geo = 2\n",
    "c = \"c_+\"\n",
    "discretization_type = 2\n",
    "form = \"weak\"\n"
   ]
  },
  {
   "cell_type": "code",
   "execution_count": 3,
   "id": "417e5708",
   "metadata": {
    "execution": {
     "iopub.execute_input": "2021-05-14T22:14:03.842866Z",
     "iopub.status.busy": "2021-05-14T22:14:03.842283Z",
     "iopub.status.idle": "2021-05-17T05:52:24.507792Z",
     "shell.execute_reply": "2021-05-17T05:52:24.508559Z"
    },
    "papermill": {
     "duration": 200300.675123,
     "end_time": "2021-05-17T05:52:24.509079",
     "exception": false,
     "start_time": "2021-05-14T22:14:03.833956",
     "status": "completed"
    },
    "tags": []
   },
   "outputs": [
    {
     "name": "stdout",
     "output_type": "stream",
     "text": [
      "euler_m04p2cpt2_weak\n"
     ]
    },
    {
     "name": "stdout",
     "output_type": "stream",
     "text": [
      "-2.842e-13 &  5.477e-02  \\\\\n",
      "-1.172e-12 &  1.825e-01  \\\\\n",
      "1.034e-12 &  1.329e-01  \\\\\n",
      "-3.411e-13 &  1.536e-01  \\\\\n"
     ]
    }
   ],
   "source": [
    "import sys  \n",
    "import numpy as np\n",
    "sys.path.insert(0, '../src')\n",
    "from Driver import euler_driver\n",
    "\n",
    "solver = euler_driver(mach_number=mach_number, \n",
    "                      theta=np.pi/4,\n",
    "                        p=p, M=M, L=L,\n",
    "                        p_geo=p_geo, c=c, \n",
    "                        discretization_type=discretization_type,\n",
    "                        form=form)"
   ]
  },
  {
   "cell_type": "code",
   "execution_count": null,
   "id": "770f2620",
   "metadata": {
    "papermill": {
     "duration": 0.008255,
     "end_time": "2021-05-17T05:52:24.526021",
     "exception": false,
     "start_time": "2021-05-17T05:52:24.517766",
     "status": "completed"
    },
    "tags": []
   },
   "outputs": [],
   "source": []
  }
 ],
 "metadata": {
  "celltoolbar": "Tags",
  "kernelspec": {
   "display_name": "Python 3",
   "language": "python",
   "name": "python3"
  },
  "language_info": {
   "codemirror_mode": {
    "name": "ipython",
    "version": 3
   },
   "file_extension": ".py",
   "mimetype": "text/x-python",
   "name": "python",
   "nbconvert_exporter": "python",
   "pygments_lexer": "ipython3",
   "version": "3.8.5"
  },
  "papermill": {
   "default_parameters": {},
   "duration": 200302.462799,
   "end_time": "2021-05-17T05:52:25.149465",
   "environment_variables": {},
   "exception": null,
   "input_path": "euler_driver.ipynb",
   "output_path": "euler_m04p2cpt2_weak.ipynb",
   "parameters": {
    "c": "c_+",
    "discretization_type": 2,
    "form": "weak",
    "mach_number": 0.4,
    "p": 2,
    "p_geo": 2
   },
   "start_time": "2021-05-14T22:14:02.686666",
   "version": "2.3.3"
  }
 },
 "nbformat": 4,
 "nbformat_minor": 5
}