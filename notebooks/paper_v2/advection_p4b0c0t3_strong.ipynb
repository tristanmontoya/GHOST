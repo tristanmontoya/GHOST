{
 "cells": [
  {
   "cell_type": "code",
   "execution_count": 1,
   "id": "fe47ad98",
   "metadata": {
    "execution": {
     "iopub.execute_input": "2021-05-14T14:12:17.849637Z",
     "iopub.status.busy": "2021-05-14T14:12:17.848847Z",
     "iopub.status.idle": "2021-05-14T14:12:17.850943Z",
     "shell.execute_reply": "2021-05-14T14:12:17.851513Z"
    },
    "papermill": {
     "duration": 0.035468,
     "end_time": "2021-05-14T14:12:17.851778",
     "exception": false,
     "start_time": "2021-05-14T14:12:17.816310",
     "status": "completed"
    },
    "tags": [
     "parameters"
    ]
   },
   "outputs": [],
   "source": [
    "p=2\n",
    "M=10\n",
    "L=1\n",
    "p_geo=1\n",
    "c=\"c_dg\"\n",
    "discretization_type=1\n",
    "upwind_parameter=1.0\n",
    "form=\"strong\""
   ]
  },
  {
   "cell_type": "code",
   "execution_count": 2,
   "id": "52392aeb",
   "metadata": {
    "execution": {
     "iopub.execute_input": "2021-05-14T14:12:17.866659Z",
     "iopub.status.busy": "2021-05-14T14:12:17.865982Z",
     "iopub.status.idle": "2021-05-14T14:12:17.868400Z",
     "shell.execute_reply": "2021-05-14T14:12:17.867797Z"
    },
    "papermill": {
     "duration": 0.011502,
     "end_time": "2021-05-14T14:12:17.868532",
     "exception": false,
     "start_time": "2021-05-14T14:12:17.857030",
     "status": "completed"
    },
    "tags": [
     "injected-parameters"
    ]
   },
   "outputs": [],
   "source": [
    "# Parameters\n",
    "p = 4\n",
    "p_geo = 1\n",
    "upwind_parameter = 0.0\n",
    "c = \"c_dg\"\n",
    "discretization_type = 3\n",
    "form = \"strong\"\n"
   ]
  },
  {
   "cell_type": "code",
   "execution_count": 3,
   "id": "0b7ec6df",
   "metadata": {
    "execution": {
     "iopub.execute_input": "2021-05-14T14:12:17.913280Z",
     "iopub.status.busy": "2021-05-14T14:12:17.912638Z",
     "iopub.status.idle": "2021-05-14T17:27:54.414646Z",
     "shell.execute_reply": "2021-05-14T17:27:54.415172Z"
    },
    "papermill": {
     "duration": 11736.54234,
     "end_time": "2021-05-14T17:27:54.415366",
     "exception": false,
     "start_time": "2021-05-14T14:12:17.873026",
     "status": "completed"
    },
    "tags": []
   },
   "outputs": [
    {
     "name": "stderr",
     "output_type": "stream",
     "text": [
      "WARNING:root:msh4 requires 3D points, but 2D points given. Appending 0 third component.\n"
     ]
    },
    {
     "name": "stderr",
     "output_type": "stream",
     "text": [
      "WARNING:root:Binary Gmsh needs c_size_t (got int64). Converting.\n"
     ]
    },
    {
     "name": "stdout",
     "output_type": "stream",
     "text": [
      "advection_p4b0c0t3_strong\n"
     ]
    },
    {
     "name": "stdout",
     "output_type": "stream",
     "text": [
      "1.097e+82 &  8.940e+196 & 2.990e+98  \\\\\n"
     ]
    }
   ],
   "source": [
    "import sys  \n",
    "import numpy as np\n",
    "sys.path.insert(0, '../src')\n",
    "from Driver import advection_driver\n",
    "\n",
    "solver = advection_driver(a=np.sqrt(2), theta=np.pi/4, p=p, M=M, L=L,\n",
    "                        p_geo=p_geo, c=c, \n",
    "                        discretization_type=discretization_type,\n",
    "                        upwind_parameter=upwind_parameter,\n",
    "                        form=form)"
   ]
  },
  {
   "cell_type": "code",
   "execution_count": null,
   "id": "0379e3ff",
   "metadata": {
    "papermill": {
     "duration": 0.005776,
     "end_time": "2021-05-14T17:27:54.427355",
     "exception": false,
     "start_time": "2021-05-14T17:27:54.421579",
     "status": "completed"
    },
    "tags": []
   },
   "outputs": [],
   "source": []
  }
 ],
 "metadata": {
  "celltoolbar": "Tags",
  "kernelspec": {
   "display_name": "Python 3",
   "language": "python",
   "name": "python3"
  },
  "language_info": {
   "codemirror_mode": {
    "name": "ipython",
    "version": 3
   },
   "file_extension": ".py",
   "mimetype": "text/x-python",
   "name": "python",
   "nbconvert_exporter": "python",
   "pygments_lexer": "ipython3",
   "version": "3.8.5"
  },
  "papermill": {
   "default_parameters": {},
   "duration": 11738.564694,
   "end_time": "2021-05-14T17:27:54.941973",
   "environment_variables": {},
   "exception": null,
   "input_path": "advection_driver.ipynb",
   "output_path": "advection_p4b0c0t3_strong.ipynb",
   "parameters": {
    "c": "c_dg",
    "discretization_type": 3,
    "form": "strong",
    "p": 4,
    "p_geo": 1,
    "upwind_parameter": 0.0
   },
   "start_time": "2021-05-14T14:12:16.377279",
   "version": "2.3.3"
  }
 },
 "nbformat": 4,
 "nbformat_minor": 5
}