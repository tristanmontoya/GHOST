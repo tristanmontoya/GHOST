{
 "cells": [
  {
   "cell_type": "code",
   "execution_count": 1,
   "id": "f33f6184",
   "metadata": {
    "execution": {
     "iopub.execute_input": "2021-05-14T22:14:17.378601Z",
     "iopub.status.busy": "2021-05-14T22:14:17.377760Z",
     "iopub.status.idle": "2021-05-14T22:14:17.380380Z",
     "shell.execute_reply": "2021-05-14T22:14:17.381008Z"
    },
    "papermill": {
     "duration": 0.023142,
     "end_time": "2021-05-14T22:14:17.381330",
     "exception": false,
     "start_time": "2021-05-14T22:14:17.358188",
     "status": "completed"
    },
    "tags": [
     "parameters"
    ]
   },
   "outputs": [],
   "source": [
    "mach_number=0.4\n",
    "p=2\n",
    "M=16\n",
    "L=10.0\n",
    "p_geo=2\n",
    "c=\"c_dg\"\n",
    "discretization_type=1\n",
    "form=\"strong\""
   ]
  },
  {
   "cell_type": "code",
   "execution_count": 2,
   "id": "cdbae49b",
   "metadata": {
    "execution": {
     "iopub.execute_input": "2021-05-14T22:14:17.430293Z",
     "iopub.status.busy": "2021-05-14T22:14:17.428768Z",
     "iopub.status.idle": "2021-05-14T22:14:17.431032Z",
     "shell.execute_reply": "2021-05-14T22:14:17.429546Z"
    },
    "papermill": {
     "duration": 0.043513,
     "end_time": "2021-05-14T22:14:17.431203",
     "exception": false,
     "start_time": "2021-05-14T22:14:17.387690",
     "status": "completed"
    },
    "tags": [
     "injected-parameters"
    ]
   },
   "outputs": [],
   "source": [
    "# Parameters\n",
    "mach_number = 0.4\n",
    "p = 4\n",
    "p_geo = 4\n",
    "c = \"c_dg\"\n",
    "discretization_type = 3\n",
    "form = \"weak\"\n"
   ]
  },
  {
   "cell_type": "code",
   "execution_count": 3,
   "id": "80820d1c",
   "metadata": {
    "execution": {
     "iopub.execute_input": "2021-05-14T22:14:17.507680Z",
     "iopub.status.busy": "2021-05-14T22:14:17.506828Z",
     "iopub.status.idle": "2021-05-21T17:22:46.745808Z",
     "shell.execute_reply": "2021-05-21T17:22:46.746580Z"
    },
    "papermill": {
     "duration": 587309.309628,
     "end_time": "2021-05-21T17:22:46.746934",
     "exception": false,
     "start_time": "2021-05-14T22:14:17.437306",
     "status": "completed"
    },
    "tags": []
   },
   "outputs": [
    {
     "name": "stdout",
     "output_type": "stream",
     "text": [
      "euler_m04p4c0t3_weak\n"
     ]
    },
    {
     "name": "stdout",
     "output_type": "stream",
     "text": [
      "-5.684e-14 &  4.321e-03  \\\\\n",
      "-1.791e-12 &  4.419e-03  \\\\\n",
      "1.911e-12 &  5.255e-03  \\\\\n",
      "-2.274e-13 &  4.368e-03  \\\\\n"
     ]
    }
   ],
   "source": [
    "import sys  \n",
    "import numpy as np\n",
    "sys.path.insert(0, '../src')\n",
    "from Driver import euler_driver\n",
    "\n",
    "solver = euler_driver(mach_number=mach_number, \n",
    "                      theta=np.pi/4,\n",
    "                        p=p, M=M, L=L,\n",
    "                        p_geo=p_geo, c=c, \n",
    "                        discretization_type=discretization_type,\n",
    "                        form=form)"
   ]
  },
  {
   "cell_type": "code",
   "execution_count": null,
   "id": "37c30c11",
   "metadata": {
    "papermill": {
     "duration": 0.007052,
     "end_time": "2021-05-21T17:22:46.761696",
     "exception": false,
     "start_time": "2021-05-21T17:22:46.754644",
     "status": "completed"
    },
    "tags": []
   },
   "outputs": [],
   "source": []
  }
 ],
 "metadata": {
  "celltoolbar": "Tags",
  "kernelspec": {
   "display_name": "Python 3",
   "language": "python",
   "name": "python3"
  },
  "language_info": {
   "codemirror_mode": {
    "name": "ipython",
    "version": 3
   },
   "file_extension": ".py",
   "mimetype": "text/x-python",
   "name": "python",
   "nbconvert_exporter": "python",
   "pygments_lexer": "ipython3",
   "version": "3.8.5"
  },
  "papermill": {
   "default_parameters": {},
   "duration": 587315.310139,
   "end_time": "2021-05-21T17:22:51.453902",
   "environment_variables": {},
   "exception": null,
   "input_path": "euler_driver.ipynb",
   "output_path": "euler_m04p4c0t3_weak.ipynb",
   "parameters": {
    "c": "c_dg",
    "discretization_type": 3,
    "form": "weak",
    "mach_number": 0.4,
    "p": 4,
    "p_geo": 4
   },
   "start_time": "2021-05-14T22:14:16.143763",
   "version": "2.3.3"
  }
 },
 "nbformat": 4,
 "nbformat_minor": 5
}