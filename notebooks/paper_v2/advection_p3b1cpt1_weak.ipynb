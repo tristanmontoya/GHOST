{
 "cells": [
  {
   "cell_type": "code",
   "execution_count": 1,
   "id": "27083ea4",
   "metadata": {
    "execution": {
     "iopub.execute_input": "2021-05-11T05:21:34.203371Z",
     "iopub.status.busy": "2021-05-11T05:21:34.202671Z",
     "iopub.status.idle": "2021-05-11T05:21:34.205568Z",
     "shell.execute_reply": "2021-05-11T05:21:34.204922Z"
    },
    "papermill": {
     "duration": 0.019477,
     "end_time": "2021-05-11T05:21:34.205724",
     "exception": false,
     "start_time": "2021-05-11T05:21:34.186247",
     "status": "completed"
    },
    "tags": [
     "parameters"
    ]
   },
   "outputs": [],
   "source": [
    "p=2\n",
    "M=10\n",
    "L=1\n",
    "p_geo=1\n",
    "c=\"c_dg\"\n",
    "discretization_type=1\n",
    "upwind_parameter=1.0\n",
    "form=\"strong\""
   ]
  },
  {
   "cell_type": "code",
   "execution_count": 2,
   "id": "b716acf3",
   "metadata": {
    "execution": {
     "iopub.execute_input": "2021-05-11T05:21:34.235436Z",
     "iopub.status.busy": "2021-05-11T05:21:34.234796Z",
     "iopub.status.idle": "2021-05-11T05:21:34.236096Z",
     "shell.execute_reply": "2021-05-11T05:21:34.236593Z"
    },
    "papermill": {
     "duration": 0.025898,
     "end_time": "2021-05-11T05:21:34.236765",
     "exception": false,
     "start_time": "2021-05-11T05:21:34.210867",
     "status": "completed"
    },
    "tags": [
     "injected-parameters"
    ]
   },
   "outputs": [],
   "source": [
    "# Parameters\n",
    "p = 3\n",
    "p_geo = 1\n",
    "upwind_parameter = 1.0\n",
    "c = \"c_+\"\n",
    "discretization_type = 1\n",
    "form = \"weak\"\n"
   ]
  },
  {
   "cell_type": "code",
   "execution_count": 3,
   "id": "8d16fef6",
   "metadata": {
    "execution": {
     "iopub.execute_input": "2021-05-11T05:21:34.318497Z",
     "iopub.status.busy": "2021-05-11T05:21:34.317810Z",
     "iopub.status.idle": "2021-05-11T07:19:02.065982Z",
     "shell.execute_reply": "2021-05-11T07:19:02.066700Z"
    },
    "papermill": {
     "duration": 7047.796876,
     "end_time": "2021-05-11T07:19:02.066958",
     "exception": false,
     "start_time": "2021-05-11T05:21:34.270082",
     "status": "completed"
    },
    "tags": []
   },
   "outputs": [
    {
     "name": "stderr",
     "output_type": "stream",
     "text": [
      "WARNING:root:msh4 requires 3D points, but 2D points given. Appending 0 third component.\n"
     ]
    },
    {
     "name": "stderr",
     "output_type": "stream",
     "text": [
      "WARNING:root:Binary Gmsh needs c_size_t (got int64). Converting.\n"
     ]
    },
    {
     "name": "stdout",
     "output_type": "stream",
     "text": [
      "advection_p3b1cpt1_weak\n"
     ]
    },
    {
     "name": "stdout",
     "output_type": "stream",
     "text": [
      "-9.404e-16 &  -5.557e-04 & 3.653e-03  \\\\\n"
     ]
    }
   ],
   "source": [
    "import sys  \n",
    "import numpy as np\n",
    "sys.path.insert(0, '../src')\n",
    "from Driver import advection_driver\n",
    "\n",
    "solver = advection_driver(a=np.sqrt(2), theta=np.pi/4, p=p, M=M, L=L,\n",
    "                        p_geo=p_geo, c=c, \n",
    "                        discretization_type=discretization_type,\n",
    "                        upwind_parameter=upwind_parameter,\n",
    "                        form=form)"
   ]
  },
  {
   "cell_type": "code",
   "execution_count": null,
   "id": "fd69b045",
   "metadata": {
    "papermill": {
     "duration": 0.008179,
     "end_time": "2021-05-11T07:19:02.083831",
     "exception": false,
     "start_time": "2021-05-11T07:19:02.075652",
     "status": "completed"
    },
    "tags": []
   },
   "outputs": [],
   "source": []
  }
 ],
 "metadata": {
  "celltoolbar": "Tags",
  "kernelspec": {
   "display_name": "Python 3",
   "language": "python",
   "name": "python3"
  },
  "language_info": {
   "codemirror_mode": {
    "name": "ipython",
    "version": 3
   },
   "file_extension": ".py",
   "mimetype": "text/x-python",
   "name": "python",
   "nbconvert_exporter": "python",
   "pygments_lexer": "ipython3",
   "version": "3.8.5"
  },
  "papermill": {
   "default_parameters": {},
   "duration": 7049.817921,
   "end_time": "2021-05-11T07:19:02.603321",
   "environment_variables": {},
   "exception": null,
   "input_path": "advection_driver.ipynb",
   "output_path": "advection_p3b1cpt1_weak.ipynb",
   "parameters": {
    "c": "c_+",
    "discretization_type": 1,
    "form": "weak",
    "p": 3,
    "p_geo": 1,
    "upwind_parameter": 1.0
   },
   "start_time": "2021-05-11T05:21:32.785400",
   "version": "2.3.3"
  }
 },
 "nbformat": 4,
 "nbformat_minor": 5
}