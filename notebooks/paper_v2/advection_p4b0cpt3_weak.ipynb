{
 "cells": [
  {
   "cell_type": "code",
   "execution_count": 1,
   "id": "3c12d041",
   "metadata": {
    "execution": {
     "iopub.execute_input": "2021-05-14T14:12:17.813629Z",
     "iopub.status.busy": "2021-05-14T14:12:17.812953Z",
     "iopub.status.idle": "2021-05-14T14:12:17.814814Z",
     "shell.execute_reply": "2021-05-14T14:12:17.815364Z"
    },
    "papermill": {
     "duration": 0.018291,
     "end_time": "2021-05-14T14:12:17.815630",
     "exception": false,
     "start_time": "2021-05-14T14:12:17.797339",
     "status": "completed"
    },
    "tags": [
     "parameters"
    ]
   },
   "outputs": [],
   "source": [
    "p=2\n",
    "M=10\n",
    "L=1\n",
    "p_geo=1\n",
    "c=\"c_dg\"\n",
    "discretization_type=1\n",
    "upwind_parameter=1.0\n",
    "form=\"strong\""
   ]
  },
  {
   "cell_type": "code",
   "execution_count": 2,
   "id": "cfe37edb",
   "metadata": {
    "execution": {
     "iopub.execute_input": "2021-05-14T14:12:17.877121Z",
     "iopub.status.busy": "2021-05-14T14:12:17.876332Z",
     "iopub.status.idle": "2021-05-14T14:12:17.877879Z",
     "shell.execute_reply": "2021-05-14T14:12:17.875669Z"
    },
    "papermill": {
     "duration": 0.024441,
     "end_time": "2021-05-14T14:12:17.878047",
     "exception": false,
     "start_time": "2021-05-14T14:12:17.853606",
     "status": "completed"
    },
    "tags": [
     "injected-parameters"
    ]
   },
   "outputs": [],
   "source": [
    "# Parameters\n",
    "p = 4\n",
    "p_geo = 1\n",
    "upwind_parameter = 0.0\n",
    "c = \"c_+\"\n",
    "discretization_type = 3\n",
    "form = \"weak\"\n"
   ]
  },
  {
   "cell_type": "code",
   "execution_count": 3,
   "id": "8f3bdb04",
   "metadata": {
    "execution": {
     "iopub.execute_input": "2021-05-14T14:12:17.939941Z",
     "iopub.status.busy": "2021-05-14T14:12:17.939308Z",
     "iopub.status.idle": "2021-05-14T16:41:07.888456Z",
     "shell.execute_reply": "2021-05-14T16:41:07.889187Z"
    },
    "papermill": {
     "duration": 8929.990243,
     "end_time": "2021-05-14T16:41:07.889482",
     "exception": false,
     "start_time": "2021-05-14T14:12:17.899239",
     "status": "completed"
    },
    "tags": []
   },
   "outputs": [
    {
     "name": "stderr",
     "output_type": "stream",
     "text": [
      "WARNING:root:msh4 requires 3D points, but 2D points given. Appending 0 third component.\n"
     ]
    },
    {
     "name": "stderr",
     "output_type": "stream",
     "text": [
      "WARNING:root:Binary Gmsh needs c_size_t (got int64). Converting.\n"
     ]
    },
    {
     "name": "stdout",
     "output_type": "stream",
     "text": [
      "advection_p4b0cpt3_weak\n"
     ]
    },
    {
     "name": "stdout",
     "output_type": "stream",
     "text": [
      "-1.602e-09 &  1.934e+16 & 1.314e+08  \\\\\n"
     ]
    }
   ],
   "source": [
    "import sys  \n",
    "import numpy as np\n",
    "sys.path.insert(0, '../src')\n",
    "from Driver import advection_driver\n",
    "\n",
    "solver = advection_driver(a=np.sqrt(2), theta=np.pi/4, p=p, M=M, L=L,\n",
    "                        p_geo=p_geo, c=c, \n",
    "                        discretization_type=discretization_type,\n",
    "                        upwind_parameter=upwind_parameter,\n",
    "                        form=form)"
   ]
  },
  {
   "cell_type": "code",
   "execution_count": null,
   "id": "c3666bba",
   "metadata": {
    "papermill": {
     "duration": 0.008569,
     "end_time": "2021-05-14T16:41:07.907069",
     "exception": false,
     "start_time": "2021-05-14T16:41:07.898500",
     "status": "completed"
    },
    "tags": []
   },
   "outputs": [],
   "source": []
  }
 ],
 "metadata": {
  "celltoolbar": "Tags",
  "kernelspec": {
   "display_name": "Python 3",
   "language": "python",
   "name": "python3"
  },
  "language_info": {
   "codemirror_mode": {
    "name": "ipython",
    "version": 3
   },
   "file_extension": ".py",
   "mimetype": "text/x-python",
   "name": "python",
   "nbconvert_exporter": "python",
   "pygments_lexer": "ipython3",
   "version": "3.8.5"
  },
  "papermill": {
   "default_parameters": {},
   "duration": 8932.136217,
   "end_time": "2021-05-14T16:41:08.528501",
   "environment_variables": {},
   "exception": null,
   "input_path": "advection_driver.ipynb",
   "output_path": "advection_p4b0cpt3_weak.ipynb",
   "parameters": {
    "c": "c_+",
    "discretization_type": 3,
    "form": "weak",
    "p": 4,
    "p_geo": 1,
    "upwind_parameter": 0.0
   },
   "start_time": "2021-05-14T14:12:16.392284",
   "version": "2.3.3"
  }
 },
 "nbformat": 4,
 "nbformat_minor": 5
}