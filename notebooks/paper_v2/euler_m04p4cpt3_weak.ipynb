{
 "cells": [
  {
   "cell_type": "code",
   "execution_count": 1,
   "id": "b16ab75e",
   "metadata": {
    "execution": {
     "iopub.execute_input": "2021-05-14T22:14:17.592526Z",
     "iopub.status.busy": "2021-05-14T22:14:17.591889Z",
     "iopub.status.idle": "2021-05-14T22:14:17.594524Z",
     "shell.execute_reply": "2021-05-14T22:14:17.595034Z"
    },
    "papermill": {
     "duration": 0.020097,
     "end_time": "2021-05-14T22:14:17.595271",
     "exception": false,
     "start_time": "2021-05-14T22:14:17.575174",
     "status": "completed"
    },
    "tags": [
     "parameters"
    ]
   },
   "outputs": [],
   "source": [
    "mach_number=0.4\n",
    "p=2\n",
    "M=16\n",
    "L=10.0\n",
    "p_geo=2\n",
    "c=\"c_dg\"\n",
    "discretization_type=1\n",
    "form=\"strong\""
   ]
  },
  {
   "cell_type": "code",
   "execution_count": 2,
   "id": "203c64fd",
   "metadata": {
    "execution": {
     "iopub.execute_input": "2021-05-14T22:14:17.719808Z",
     "iopub.status.busy": "2021-05-14T22:14:17.718586Z",
     "iopub.status.idle": "2021-05-14T22:14:17.720420Z",
     "shell.execute_reply": "2021-05-14T22:14:17.719187Z"
    },
    "papermill": {
     "duration": 0.115506,
     "end_time": "2021-05-14T22:14:17.720561",
     "exception": false,
     "start_time": "2021-05-14T22:14:17.605055",
     "status": "completed"
    },
    "tags": [
     "injected-parameters"
    ]
   },
   "outputs": [],
   "source": [
    "# Parameters\n",
    "mach_number = 0.4\n",
    "p = 4\n",
    "p_geo = 4\n",
    "c = \"c_+\"\n",
    "discretization_type = 3\n",
    "form = \"weak\"\n"
   ]
  },
  {
   "cell_type": "code",
   "execution_count": 3,
   "id": "5ea6441b",
   "metadata": {
    "execution": {
     "iopub.execute_input": "2021-05-14T22:14:17.759027Z",
     "iopub.status.busy": "2021-05-14T22:14:17.758385Z",
     "iopub.status.idle": "2021-05-21T20:17:01.960176Z",
     "shell.execute_reply": "2021-05-21T20:17:01.960710Z"
    },
    "papermill": {
     "duration": 597764.235658,
     "end_time": "2021-05-21T20:17:01.961118",
     "exception": false,
     "start_time": "2021-05-14T22:14:17.725460",
     "status": "completed"
    },
    "tags": []
   },
   "outputs": [
    {
     "name": "stdout",
     "output_type": "stream",
     "text": [
      "euler_m04p4cpt3_weak\n"
     ]
    },
    {
     "name": "stdout",
     "output_type": "stream",
     "text": [
      "4.263e-14 &  4.454e-03  \\\\\n",
      "-1.986e-12 &  4.869e-03  \\\\\n",
      "1.897e-12 &  5.020e-03  \\\\\n",
      "2.842e-14 &  4.708e-03  \\\\\n"
     ]
    }
   ],
   "source": [
    "import sys  \n",
    "import numpy as np\n",
    "sys.path.insert(0, '../src')\n",
    "from Driver import euler_driver\n",
    "\n",
    "solver = euler_driver(mach_number=mach_number, \n",
    "                      theta=np.pi/4,\n",
    "                        p=p, M=M, L=L,\n",
    "                        p_geo=p_geo, c=c, \n",
    "                        discretization_type=discretization_type,\n",
    "                        form=form)"
   ]
  },
  {
   "cell_type": "code",
   "execution_count": null,
   "id": "bcbc6368",
   "metadata": {
    "papermill": {
     "duration": 0.005463,
     "end_time": "2021-05-21T20:17:01.972478",
     "exception": false,
     "start_time": "2021-05-21T20:17:01.967015",
     "status": "completed"
    },
    "tags": []
   },
   "outputs": [],
   "source": []
  }
 ],
 "metadata": {
  "celltoolbar": "Tags",
  "kernelspec": {
   "display_name": "Python 3",
   "language": "python",
   "name": "python3"
  },
  "language_info": {
   "codemirror_mode": {
    "name": "ipython",
    "version": 3
   },
   "file_extension": ".py",
   "mimetype": "text/x-python",
   "name": "python",
   "nbconvert_exporter": "python",
   "pygments_lexer": "ipython3",
   "version": "3.8.5"
  },
  "papermill": {
   "default_parameters": {},
   "duration": 597767.255981,
   "end_time": "2021-05-21T20:17:03.523693",
   "environment_variables": {},
   "exception": null,
   "input_path": "euler_driver.ipynb",
   "output_path": "euler_m04p4cpt3_weak.ipynb",
   "parameters": {
    "c": "c_+",
    "discretization_type": 3,
    "form": "weak",
    "mach_number": 0.4,
    "p": 4,
    "p_geo": 4
   },
   "start_time": "2021-05-14T22:14:16.267712",
   "version": "2.3.3"
  }
 },
 "nbformat": 4,
 "nbformat_minor": 5
}