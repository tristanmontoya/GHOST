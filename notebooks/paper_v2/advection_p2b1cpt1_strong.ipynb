{
 "cells": [
  {
   "cell_type": "code",
   "execution_count": 1,
   "id": "b6bf7f21",
   "metadata": {
    "execution": {
     "iopub.execute_input": "2021-05-11T03:10:11.384420Z",
     "iopub.status.busy": "2021-05-11T03:10:11.383127Z",
     "iopub.status.idle": "2021-05-11T03:10:11.385026Z",
     "shell.execute_reply": "2021-05-11T03:10:11.383718Z"
    },
    "papermill": {
     "duration": 0.037165,
     "end_time": "2021-05-11T03:10:11.385182",
     "exception": false,
     "start_time": "2021-05-11T03:10:11.348017",
     "status": "completed"
    },
    "tags": [
     "parameters"
    ]
   },
   "outputs": [],
   "source": [
    "p=2\n",
    "M=10\n",
    "L=1\n",
    "p_geo=1\n",
    "c=\"c_dg\"\n",
    "discretization_type=1\n",
    "upwind_parameter=1.0\n",
    "form=\"strong\""
   ]
  },
  {
   "cell_type": "code",
   "execution_count": 2,
   "id": "8223d413",
   "metadata": {
    "execution": {
     "iopub.execute_input": "2021-05-11T03:10:11.470837Z",
     "iopub.status.busy": "2021-05-11T03:10:11.470180Z",
     "iopub.status.idle": "2021-05-11T03:10:11.568501Z",
     "shell.execute_reply": "2021-05-11T03:10:11.569005Z"
    },
    "papermill": {
     "duration": 0.17485,
     "end_time": "2021-05-11T03:10:11.569199",
     "exception": false,
     "start_time": "2021-05-11T03:10:11.394349",
     "status": "completed"
    },
    "tags": [
     "injected-parameters"
    ]
   },
   "outputs": [],
   "source": [
    "# Parameters\n",
    "p = 2\n",
    "p_geo = 1\n",
    "upwind_parameter = 1.0\n",
    "c = \"c_+\"\n",
    "discretization_type = 1\n",
    "form = \"strong\"\n"
   ]
  },
  {
   "cell_type": "code",
   "execution_count": 3,
   "id": "c14b9631",
   "metadata": {
    "execution": {
     "iopub.execute_input": "2021-05-11T03:10:11.679390Z",
     "iopub.status.busy": "2021-05-11T03:10:11.587065Z",
     "iopub.status.idle": "2021-05-11T04:58:28.015246Z",
     "shell.execute_reply": "2021-05-11T04:58:28.014751Z"
    },
    "papermill": {
     "duration": 6496.44125,
     "end_time": "2021-05-11T04:58:28.015379",
     "exception": false,
     "start_time": "2021-05-11T03:10:11.574129",
     "status": "completed"
    },
    "tags": []
   },
   "outputs": [
    {
     "name": "stderr",
     "output_type": "stream",
     "text": [
      "WARNING:root:msh4 requires 3D points, but 2D points given. Appending 0 third component.\n"
     ]
    },
    {
     "name": "stderr",
     "output_type": "stream",
     "text": [
      "WARNING:root:Binary Gmsh needs c_size_t (got int64). Converting.\n"
     ]
    },
    {
     "name": "stdout",
     "output_type": "stream",
     "text": [
      "advection_p2b1cpt1_strong\n"
     ]
    },
    {
     "name": "stdout",
     "output_type": "stream",
     "text": [
      "-8.038e-16 &  -2.066e-02 & 4.276e-02  \\\\\n"
     ]
    }
   ],
   "source": [
    "import sys  \n",
    "import numpy as np\n",
    "sys.path.insert(0, '../src')\n",
    "from Driver import advection_driver\n",
    "\n",
    "solver = advection_driver(a=np.sqrt(2), theta=np.pi/4, p=p, M=M, L=L,\n",
    "                        p_geo=p_geo, c=c, \n",
    "                        discretization_type=discretization_type,\n",
    "                        upwind_parameter=upwind_parameter,\n",
    "                        form=form)"
   ]
  },
  {
   "cell_type": "code",
   "execution_count": null,
   "id": "c3c3e69f",
   "metadata": {
    "papermill": {
     "duration": 0.005658,
     "end_time": "2021-05-11T04:58:28.027094",
     "exception": false,
     "start_time": "2021-05-11T04:58:28.021436",
     "status": "completed"
    },
    "tags": []
   },
   "outputs": [],
   "source": []
  }
 ],
 "metadata": {
  "celltoolbar": "Tags",
  "kernelspec": {
   "display_name": "Python 3",
   "language": "python",
   "name": "python3"
  },
  "language_info": {
   "codemirror_mode": {
    "name": "ipython",
    "version": 3
   },
   "file_extension": ".py",
   "mimetype": "text/x-python",
   "name": "python",
   "nbconvert_exporter": "python",
   "pygments_lexer": "ipython3",
   "version": "3.8.5"
  },
  "papermill": {
   "default_parameters": {},
   "duration": 6499.664319,
   "end_time": "2021-05-11T04:58:29.471319",
   "environment_variables": {},
   "exception": null,
   "input_path": "advection_driver.ipynb",
   "output_path": "advection_p2b1cpt1_strong.ipynb",
   "parameters": {
    "c": "c_+",
    "discretization_type": 1,
    "form": "strong",
    "p": 2,
    "p_geo": 1,
    "upwind_parameter": 1.0
   },
   "start_time": "2021-05-11T03:10:09.807000",
   "version": "2.3.3"
  }
 },
 "nbformat": 4,
 "nbformat_minor": 5
}