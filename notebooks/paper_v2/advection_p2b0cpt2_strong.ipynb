{
 "cells": [
  {
   "cell_type": "code",
   "execution_count": 1,
   "id": "94fead8f",
   "metadata": {
    "execution": {
     "iopub.execute_input": "2021-05-11T03:10:11.086200Z",
     "iopub.status.busy": "2021-05-11T03:10:11.085520Z",
     "iopub.status.idle": "2021-05-11T03:10:11.092713Z",
     "shell.execute_reply": "2021-05-11T03:10:11.092077Z"
    },
    "papermill": {
     "duration": 0.028586,
     "end_time": "2021-05-11T03:10:11.092865",
     "exception": false,
     "start_time": "2021-05-11T03:10:11.064279",
     "status": "completed"
    },
    "tags": [
     "parameters"
    ]
   },
   "outputs": [],
   "source": [
    "p=2\n",
    "M=10\n",
    "L=1\n",
    "p_geo=1\n",
    "c=\"c_dg\"\n",
    "discretization_type=1\n",
    "upwind_parameter=1.0\n",
    "form=\"strong\""
   ]
  },
  {
   "cell_type": "code",
   "execution_count": 2,
   "id": "3177fd33",
   "metadata": {
    "execution": {
     "iopub.execute_input": "2021-05-11T03:10:11.106668Z",
     "iopub.status.busy": "2021-05-11T03:10:11.106043Z",
     "iopub.status.idle": "2021-05-11T03:10:11.108618Z",
     "shell.execute_reply": "2021-05-11T03:10:11.107984Z"
    },
    "papermill": {
     "duration": 0.010973,
     "end_time": "2021-05-11T03:10:11.108823",
     "exception": false,
     "start_time": "2021-05-11T03:10:11.097850",
     "status": "completed"
    },
    "tags": [
     "injected-parameters"
    ]
   },
   "outputs": [],
   "source": [
    "# Parameters\n",
    "p = 2\n",
    "p_geo = 1\n",
    "upwind_parameter = 0.0\n",
    "c = \"c_+\"\n",
    "discretization_type = 2\n",
    "form = \"strong\"\n"
   ]
  },
  {
   "cell_type": "code",
   "execution_count": 3,
   "id": "11147c38",
   "metadata": {
    "execution": {
     "iopub.execute_input": "2021-05-11T03:10:11.153535Z",
     "iopub.status.busy": "2021-05-11T03:10:11.152916Z",
     "iopub.status.idle": "2021-05-11T04:53:03.607020Z",
     "shell.execute_reply": "2021-05-11T04:53:03.607676Z"
    },
    "papermill": {
     "duration": 6172.494638,
     "end_time": "2021-05-11T04:53:03.607885",
     "exception": false,
     "start_time": "2021-05-11T03:10:11.113247",
     "status": "completed"
    },
    "tags": []
   },
   "outputs": [
    {
     "name": "stderr",
     "output_type": "stream",
     "text": [
      "WARNING:root:msh4 requires 3D points, but 2D points given. Appending 0 third component.\n"
     ]
    },
    {
     "name": "stderr",
     "output_type": "stream",
     "text": [
      "WARNING:root:Binary Gmsh needs c_size_t (got int64). Converting.\n"
     ]
    },
    {
     "name": "stdout",
     "output_type": "stream",
     "text": [
      "advection_p2b0cpt2_strong\n"
     ]
    },
    {
     "name": "stdout",
     "output_type": "stream",
     "text": [
      "-5.182e-16 &  1.471e-15 & 1.105e-01  \\\\\n"
     ]
    }
   ],
   "source": [
    "import sys  \n",
    "import numpy as np\n",
    "sys.path.insert(0, '../src')\n",
    "from Driver import advection_driver\n",
    "\n",
    "solver = advection_driver(a=np.sqrt(2), theta=np.pi/4, p=p, M=M, L=L,\n",
    "                        p_geo=p_geo, c=c, \n",
    "                        discretization_type=discretization_type,\n",
    "                        upwind_parameter=upwind_parameter,\n",
    "                        form=form)"
   ]
  },
  {
   "cell_type": "code",
   "execution_count": null,
   "id": "1e8cd166",
   "metadata": {
    "papermill": {
     "duration": 0.00772,
     "end_time": "2021-05-11T04:53:03.623660",
     "exception": false,
     "start_time": "2021-05-11T04:53:03.615940",
     "status": "completed"
    },
    "tags": []
   },
   "outputs": [],
   "source": []
  }
 ],
 "metadata": {
  "celltoolbar": "Tags",
  "kernelspec": {
   "display_name": "Python 3",
   "language": "python",
   "name": "python3"
  },
  "language_info": {
   "codemirror_mode": {
    "name": "ipython",
    "version": 3
   },
   "file_extension": ".py",
   "mimetype": "text/x-python",
   "name": "python",
   "nbconvert_exporter": "python",
   "pygments_lexer": "ipython3",
   "version": "3.8.5"
  },
  "papermill": {
   "default_parameters": {},
   "duration": 6174.387544,
   "end_time": "2021-05-11T04:53:04.139198",
   "environment_variables": {},
   "exception": null,
   "input_path": "advection_driver.ipynb",
   "output_path": "advection_p2b0cpt2_strong.ipynb",
   "parameters": {
    "c": "c_+",
    "discretization_type": 2,
    "form": "strong",
    "p": 2,
    "p_geo": 1,
    "upwind_parameter": 0.0
   },
   "start_time": "2021-05-11T03:10:09.751654",
   "version": "2.3.3"
  }
 },
 "nbformat": 4,
 "nbformat_minor": 5
}