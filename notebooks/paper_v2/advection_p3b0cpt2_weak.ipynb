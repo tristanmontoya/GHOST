{
 "cells": [
  {
   "cell_type": "code",
   "execution_count": 1,
   "id": "f3a3fd73",
   "metadata": {
    "execution": {
     "iopub.execute_input": "2021-05-11T05:21:34.162781Z",
     "iopub.status.busy": "2021-05-11T05:21:34.162063Z",
     "iopub.status.idle": "2021-05-11T05:21:34.165530Z",
     "shell.execute_reply": "2021-05-11T05:21:34.164693Z"
    },
    "papermill": {
     "duration": 0.020135,
     "end_time": "2021-05-11T05:21:34.165736",
     "exception": false,
     "start_time": "2021-05-11T05:21:34.145601",
     "status": "completed"
    },
    "tags": [
     "parameters"
    ]
   },
   "outputs": [],
   "source": [
    "p=2\n",
    "M=10\n",
    "L=1\n",
    "p_geo=1\n",
    "c=\"c_dg\"\n",
    "discretization_type=1\n",
    "upwind_parameter=1.0\n",
    "form=\"strong\""
   ]
  },
  {
   "cell_type": "code",
   "execution_count": 2,
   "id": "64ff6169",
   "metadata": {
    "execution": {
     "iopub.execute_input": "2021-05-11T05:21:34.226599Z",
     "iopub.status.busy": "2021-05-11T05:21:34.217345Z",
     "iopub.status.idle": "2021-05-11T05:21:34.227422Z",
     "shell.execute_reply": "2021-05-11T05:21:34.218113Z"
    },
    "papermill": {
     "duration": 0.051322,
     "end_time": "2021-05-11T05:21:34.227613",
     "exception": false,
     "start_time": "2021-05-11T05:21:34.176291",
     "status": "completed"
    },
    "tags": [
     "injected-parameters"
    ]
   },
   "outputs": [],
   "source": [
    "# Parameters\n",
    "p = 3\n",
    "p_geo = 1\n",
    "upwind_parameter = 0.0\n",
    "c = \"c_+\"\n",
    "discretization_type = 2\n",
    "form = \"weak\"\n"
   ]
  },
  {
   "cell_type": "code",
   "execution_count": 3,
   "id": "0cca4250",
   "metadata": {
    "execution": {
     "iopub.execute_input": "2021-05-11T05:21:34.302992Z",
     "iopub.status.busy": "2021-05-11T05:21:34.302284Z",
     "iopub.status.idle": "2021-05-11T07:16:47.571509Z",
     "shell.execute_reply": "2021-05-11T07:16:47.572206Z"
    },
    "papermill": {
     "duration": 6913.32312,
     "end_time": "2021-05-11T07:16:47.572452",
     "exception": false,
     "start_time": "2021-05-11T05:21:34.249332",
     "status": "completed"
    },
    "tags": []
   },
   "outputs": [
    {
     "name": "stderr",
     "output_type": "stream",
     "text": [
      "WARNING:root:msh4 requires 3D points, but 2D points given. Appending 0 third component.\n"
     ]
    },
    {
     "name": "stderr",
     "output_type": "stream",
     "text": [
      "WARNING:root:Binary Gmsh needs c_size_t (got int64). Converting.\n"
     ]
    },
    {
     "name": "stdout",
     "output_type": "stream",
     "text": [
      "advection_p3b0cpt2_weak\n"
     ]
    },
    {
     "name": "stdout",
     "output_type": "stream",
     "text": [
      "-4.269e-16 &  1.665e-16 & 1.648e-02  \\\\\n"
     ]
    }
   ],
   "source": [
    "import sys  \n",
    "import numpy as np\n",
    "sys.path.insert(0, '../src')\n",
    "from Driver import advection_driver\n",
    "\n",
    "solver = advection_driver(a=np.sqrt(2), theta=np.pi/4, p=p, M=M, L=L,\n",
    "                        p_geo=p_geo, c=c, \n",
    "                        discretization_type=discretization_type,\n",
    "                        upwind_parameter=upwind_parameter,\n",
    "                        form=form)"
   ]
  },
  {
   "cell_type": "code",
   "execution_count": null,
   "id": "71ee741d",
   "metadata": {
    "papermill": {
     "duration": 0.00847,
     "end_time": "2021-05-11T07:16:47.589815",
     "exception": false,
     "start_time": "2021-05-11T07:16:47.581345",
     "status": "completed"
    },
    "tags": []
   },
   "outputs": [],
   "source": []
  }
 ],
 "metadata": {
  "celltoolbar": "Tags",
  "kernelspec": {
   "display_name": "Python 3",
   "language": "python",
   "name": "python3"
  },
  "language_info": {
   "codemirror_mode": {
    "name": "ipython",
    "version": 3
   },
   "file_extension": ".py",
   "mimetype": "text/x-python",
   "name": "python",
   "nbconvert_exporter": "python",
   "pygments_lexer": "ipython3",
   "version": "3.8.5"
  },
  "papermill": {
   "default_parameters": {},
   "duration": 6915.43646,
   "end_time": "2021-05-11T07:16:48.110241",
   "environment_variables": {},
   "exception": null,
   "input_path": "advection_driver.ipynb",
   "output_path": "advection_p3b0cpt2_weak.ipynb",
   "parameters": {
    "c": "c_+",
    "discretization_type": 2,
    "form": "weak",
    "p": 3,
    "p_geo": 1,
    "upwind_parameter": 0.0
   },
   "start_time": "2021-05-11T05:21:32.673781",
   "version": "2.3.3"
  }
 },
 "nbformat": 4,
 "nbformat_minor": 5
}