{
 "cells": [
  {
   "cell_type": "code",
   "execution_count": 1,
   "id": "009570b6",
   "metadata": {
    "execution": {
     "iopub.execute_input": "2021-05-11T05:21:34.207132Z",
     "iopub.status.busy": "2021-05-11T05:21:34.206479Z",
     "iopub.status.idle": "2021-05-11T05:21:34.208370Z",
     "shell.execute_reply": "2021-05-11T05:21:34.208886Z"
    },
    "papermill": {
     "duration": 0.018252,
     "end_time": "2021-05-11T05:21:34.209155",
     "exception": false,
     "start_time": "2021-05-11T05:21:34.190903",
     "status": "completed"
    },
    "tags": [
     "parameters"
    ]
   },
   "outputs": [],
   "source": [
    "p=2\n",
    "M=10\n",
    "L=1\n",
    "p_geo=1\n",
    "c=\"c_dg\"\n",
    "discretization_type=1\n",
    "upwind_parameter=1.0\n",
    "form=\"strong\""
   ]
  },
  {
   "cell_type": "code",
   "execution_count": 2,
   "id": "786d6d28",
   "metadata": {
    "execution": {
     "iopub.execute_input": "2021-05-11T05:21:34.226694Z",
     "iopub.status.busy": "2021-05-11T05:21:34.225979Z",
     "iopub.status.idle": "2021-05-11T05:21:34.229497Z",
     "shell.execute_reply": "2021-05-11T05:21:34.230015Z"
    },
    "papermill": {
     "duration": 0.015871,
     "end_time": "2021-05-11T05:21:34.230221",
     "exception": false,
     "start_time": "2021-05-11T05:21:34.214350",
     "status": "completed"
    },
    "tags": [
     "injected-parameters"
    ]
   },
   "outputs": [],
   "source": [
    "# Parameters\n",
    "p = 3\n",
    "p_geo = 1\n",
    "upwind_parameter = 0.0\n",
    "c = \"c_+\"\n",
    "discretization_type = 1\n",
    "form = \"weak\"\n"
   ]
  },
  {
   "cell_type": "code",
   "execution_count": 3,
   "id": "7bf27faa",
   "metadata": {
    "execution": {
     "iopub.execute_input": "2021-05-11T05:21:34.307721Z",
     "iopub.status.busy": "2021-05-11T05:21:34.307094Z",
     "iopub.status.idle": "2021-05-11T07:26:36.256656Z",
     "shell.execute_reply": "2021-05-11T07:26:36.256116Z"
    },
    "papermill": {
     "duration": 7501.994899,
     "end_time": "2021-05-11T07:26:36.256805",
     "exception": false,
     "start_time": "2021-05-11T05:21:34.261906",
     "status": "completed"
    },
    "tags": []
   },
   "outputs": [
    {
     "name": "stderr",
     "output_type": "stream",
     "text": [
      "WARNING:root:msh4 requires 3D points, but 2D points given. Appending 0 third component.\n"
     ]
    },
    {
     "name": "stderr",
     "output_type": "stream",
     "text": [
      "WARNING:root:Binary Gmsh needs c_size_t (got int64). Converting.\n"
     ]
    },
    {
     "name": "stdout",
     "output_type": "stream",
     "text": [
      "advection_p3b0cpt1_weak\n"
     ]
    },
    {
     "name": "stdout",
     "output_type": "stream",
     "text": [
      "-1.179e-15 &  6.661e-16 & 1.658e-02  \\\\\n"
     ]
    }
   ],
   "source": [
    "import sys  \n",
    "import numpy as np\n",
    "sys.path.insert(0, '../src')\n",
    "from Driver import advection_driver\n",
    "\n",
    "solver = advection_driver(a=np.sqrt(2), theta=np.pi/4, p=p, M=M, L=L,\n",
    "                        p_geo=p_geo, c=c, \n",
    "                        discretization_type=discretization_type,\n",
    "                        upwind_parameter=upwind_parameter,\n",
    "                        form=form)"
   ]
  },
  {
   "cell_type": "code",
   "execution_count": null,
   "id": "9426ab17",
   "metadata": {
    "papermill": {
     "duration": 0.00566,
     "end_time": "2021-05-11T07:26:36.268542",
     "exception": false,
     "start_time": "2021-05-11T07:26:36.262882",
     "status": "completed"
    },
    "tags": []
   },
   "outputs": [],
   "source": []
  }
 ],
 "metadata": {
  "celltoolbar": "Tags",
  "kernelspec": {
   "display_name": "Python 3",
   "language": "python",
   "name": "python3"
  },
  "language_info": {
   "codemirror_mode": {
    "name": "ipython",
    "version": 3
   },
   "file_extension": ".py",
   "mimetype": "text/x-python",
   "name": "python",
   "nbconvert_exporter": "python",
   "pygments_lexer": "ipython3",
   "version": "3.8.5"
  },
  "papermill": {
   "default_parameters": {},
   "duration": 7504.104727,
   "end_time": "2021-05-11T07:26:36.885337",
   "environment_variables": {},
   "exception": null,
   "input_path": "advection_driver.ipynb",
   "output_path": "advection_p3b0cpt1_weak.ipynb",
   "parameters": {
    "c": "c_+",
    "discretization_type": 1,
    "form": "weak",
    "p": 3,
    "p_geo": 1,
    "upwind_parameter": 0.0
   },
   "start_time": "2021-05-11T05:21:32.780610",
   "version": "2.3.3"
  }
 },
 "nbformat": 4,
 "nbformat_minor": 5
}