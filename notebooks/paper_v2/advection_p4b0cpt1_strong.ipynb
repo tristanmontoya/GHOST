{
 "cells": [
  {
   "cell_type": "code",
   "execution_count": 1,
   "id": "c9cdf7b7",
   "metadata": {
    "execution": {
     "iopub.execute_input": "2021-05-14T14:12:18.001513Z",
     "iopub.status.busy": "2021-05-14T14:12:18.000838Z",
     "iopub.status.idle": "2021-05-14T14:12:18.004283Z",
     "shell.execute_reply": "2021-05-14T14:12:18.003504Z"
    },
    "papermill": {
     "duration": 0.019964,
     "end_time": "2021-05-14T14:12:18.004437",
     "exception": false,
     "start_time": "2021-05-14T14:12:17.984473",
     "status": "completed"
    },
    "tags": [
     "parameters"
    ]
   },
   "outputs": [],
   "source": [
    "p=2\n",
    "M=10\n",
    "L=1\n",
    "p_geo=1\n",
    "c=\"c_dg\"\n",
    "discretization_type=1\n",
    "upwind_parameter=1.0\n",
    "form=\"strong\""
   ]
  },
  {
   "cell_type": "code",
   "execution_count": 2,
   "id": "83de4412",
   "metadata": {
    "execution": {
     "iopub.execute_input": "2021-05-14T14:12:18.042993Z",
     "iopub.status.busy": "2021-05-14T14:12:18.042336Z",
     "iopub.status.idle": "2021-05-14T14:12:18.047501Z",
     "shell.execute_reply": "2021-05-14T14:12:18.046848Z"
    },
    "papermill": {
     "duration": 0.038245,
     "end_time": "2021-05-14T14:12:18.047669",
     "exception": false,
     "start_time": "2021-05-14T14:12:18.009424",
     "status": "completed"
    },
    "tags": [
     "injected-parameters"
    ]
   },
   "outputs": [],
   "source": [
    "# Parameters\n",
    "p = 4\n",
    "p_geo = 1\n",
    "upwind_parameter = 0.0\n",
    "c = \"c_+\"\n",
    "discretization_type = 1\n",
    "form = \"strong\"\n"
   ]
  },
  {
   "cell_type": "code",
   "execution_count": 3,
   "id": "ff641878",
   "metadata": {
    "execution": {
     "iopub.execute_input": "2021-05-14T14:12:18.072121Z",
     "iopub.status.busy": "2021-05-14T14:12:18.071304Z",
     "iopub.status.idle": "2021-05-14T17:31:29.758553Z",
     "shell.execute_reply": "2021-05-14T17:31:29.759083Z"
    },
    "papermill": {
     "duration": 11951.706848,
     "end_time": "2021-05-14T17:31:29.759285",
     "exception": false,
     "start_time": "2021-05-14T14:12:18.052437",
     "status": "completed"
    },
    "tags": []
   },
   "outputs": [
    {
     "name": "stderr",
     "output_type": "stream",
     "text": [
      "WARNING:root:msh4 requires 3D points, but 2D points given. Appending 0 third component.\n"
     ]
    },
    {
     "name": "stderr",
     "output_type": "stream",
     "text": [
      "WARNING:root:Binary Gmsh needs c_size_t (got int64). Converting.\n"
     ]
    },
    {
     "name": "stdout",
     "output_type": "stream",
     "text": [
      "advection_p4b0cpt1_strong\n"
     ]
    },
    {
     "name": "stdout",
     "output_type": "stream",
     "text": [
      "-8.635e-16 &  1.221e-15 & 2.835e-03  \\\\\n"
     ]
    }
   ],
   "source": [
    "import sys  \n",
    "import numpy as np\n",
    "sys.path.insert(0, '../src')\n",
    "from Driver import advection_driver\n",
    "\n",
    "solver = advection_driver(a=np.sqrt(2), theta=np.pi/4, p=p, M=M, L=L,\n",
    "                        p_geo=p_geo, c=c, \n",
    "                        discretization_type=discretization_type,\n",
    "                        upwind_parameter=upwind_parameter,\n",
    "                        form=form)"
   ]
  },
  {
   "cell_type": "code",
   "execution_count": null,
   "id": "cd647a65",
   "metadata": {
    "papermill": {
     "duration": 0.005752,
     "end_time": "2021-05-14T17:31:29.771267",
     "exception": false,
     "start_time": "2021-05-14T17:31:29.765515",
     "status": "completed"
    },
    "tags": []
   },
   "outputs": [],
   "source": []
  }
 ],
 "metadata": {
  "celltoolbar": "Tags",
  "kernelspec": {
   "display_name": "Python 3",
   "language": "python",
   "name": "python3"
  },
  "language_info": {
   "codemirror_mode": {
    "name": "ipython",
    "version": 3
   },
   "file_extension": ".py",
   "mimetype": "text/x-python",
   "name": "python",
   "nbconvert_exporter": "python",
   "pygments_lexer": "ipython3",
   "version": "3.8.5"
  },
  "papermill": {
   "default_parameters": {},
   "duration": 11954.608928,
   "end_time": "2021-05-14T17:31:31.008217",
   "environment_variables": {},
   "exception": null,
   "input_path": "advection_driver.ipynb",
   "output_path": "advection_p4b0cpt1_strong.ipynb",
   "parameters": {
    "c": "c_+",
    "discretization_type": 1,
    "form": "strong",
    "p": 4,
    "p_geo": 1,
    "upwind_parameter": 0.0
   },
   "start_time": "2021-05-14T14:12:16.399289",
   "version": "2.3.3"
  }
 },
 "nbformat": 4,
 "nbformat_minor": 5
}