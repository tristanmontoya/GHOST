{
 "cells": [
  {
   "cell_type": "code",
   "execution_count": 1,
   "id": "edd79cdc",
   "metadata": {
    "execution": {
     "iopub.execute_input": "2021-05-14T22:14:03.820914Z",
     "iopub.status.busy": "2021-05-14T22:14:03.818784Z",
     "iopub.status.idle": "2021-05-14T22:14:03.824092Z",
     "shell.execute_reply": "2021-05-14T22:14:03.823443Z"
    },
    "papermill": {
     "duration": 0.021438,
     "end_time": "2021-05-14T22:14:03.824228",
     "exception": false,
     "start_time": "2021-05-14T22:14:03.802790",
     "status": "completed"
    },
    "tags": [
     "parameters"
    ]
   },
   "outputs": [],
   "source": [
    "mach_number=0.4\n",
    "p=2\n",
    "M=16\n",
    "L=10.0\n",
    "p_geo=2\n",
    "c=\"c_dg\"\n",
    "discretization_type=1\n",
    "form=\"strong\""
   ]
  },
  {
   "cell_type": "code",
   "execution_count": 2,
   "id": "1f5e56c8",
   "metadata": {
    "execution": {
     "iopub.execute_input": "2021-05-14T22:14:03.837248Z",
     "iopub.status.busy": "2021-05-14T22:14:03.836668Z",
     "iopub.status.idle": "2021-05-14T22:14:03.839520Z",
     "shell.execute_reply": "2021-05-14T22:14:03.839059Z"
    },
    "papermill": {
     "duration": 0.010621,
     "end_time": "2021-05-14T22:14:03.839639",
     "exception": false,
     "start_time": "2021-05-14T22:14:03.829018",
     "status": "completed"
    },
    "tags": [
     "injected-parameters"
    ]
   },
   "outputs": [],
   "source": [
    "# Parameters\n",
    "mach_number = 0.4\n",
    "p = 2\n",
    "p_geo = 2\n",
    "c = \"c_dg\"\n",
    "discretization_type = 2\n",
    "form = \"weak\"\n"
   ]
  },
  {
   "cell_type": "code",
   "execution_count": 3,
   "id": "33445682",
   "metadata": {
    "execution": {
     "iopub.execute_input": "2021-05-14T22:14:03.854006Z",
     "iopub.status.busy": "2021-05-14T22:14:03.853243Z",
     "iopub.status.idle": "2021-05-17T05:45:54.600389Z",
     "shell.execute_reply": "2021-05-17T05:45:54.600932Z"
    },
    "papermill": {
     "duration": 199910.757205,
     "end_time": "2021-05-17T05:45:54.601175",
     "exception": false,
     "start_time": "2021-05-14T22:14:03.843970",
     "status": "completed"
    },
    "tags": []
   },
   "outputs": [
    {
     "name": "stdout",
     "output_type": "stream",
     "text": [
      "euler_m04p2c0t2_weak\n"
     ]
    },
    {
     "name": "stdout",
     "output_type": "stream",
     "text": [
      "-6.253e-13 &  4.196e-02  \\\\\n",
      "-2.576e-12 &  1.336e-01  \\\\\n",
      "9.663e-13 &  1.680e-01  \\\\\n",
      "-1.535e-12 &  1.122e-01  \\\\\n"
     ]
    }
   ],
   "source": [
    "import sys  \n",
    "import numpy as np\n",
    "sys.path.insert(0, '../src')\n",
    "from Driver import euler_driver\n",
    "\n",
    "solver = euler_driver(mach_number=mach_number, \n",
    "                      theta=np.pi/4,\n",
    "                        p=p, M=M, L=L,\n",
    "                        p_geo=p_geo, c=c, \n",
    "                        discretization_type=discretization_type,\n",
    "                        form=form)"
   ]
  },
  {
   "cell_type": "code",
   "execution_count": null,
   "id": "18b1e4f1",
   "metadata": {
    "papermill": {
     "duration": 0.005517,
     "end_time": "2021-05-17T05:45:54.614231",
     "exception": false,
     "start_time": "2021-05-17T05:45:54.608714",
     "status": "completed"
    },
    "tags": []
   },
   "outputs": [],
   "source": []
  }
 ],
 "metadata": {
  "celltoolbar": "Tags",
  "kernelspec": {
   "display_name": "Python 3",
   "language": "python",
   "name": "python3"
  },
  "language_info": {
   "codemirror_mode": {
    "name": "ipython",
    "version": 3
   },
   "file_extension": ".py",
   "mimetype": "text/x-python",
   "name": "python",
   "nbconvert_exporter": "python",
   "pygments_lexer": "ipython3",
   "version": "3.8.5"
  },
  "papermill": {
   "default_parameters": {},
   "duration": 199912.48178,
   "end_time": "2021-05-17T05:45:55.238056",
   "environment_variables": {},
   "exception": null,
   "input_path": "euler_driver.ipynb",
   "output_path": "euler_m04p2c0t2_weak.ipynb",
   "parameters": {
    "c": "c_dg",
    "discretization_type": 2,
    "form": "weak",
    "mach_number": 0.4,
    "p": 2,
    "p_geo": 2
   },
   "start_time": "2021-05-14T22:14:02.756276",
   "version": "2.3.3"
  }
 },
 "nbformat": 4,
 "nbformat_minor": 5
}