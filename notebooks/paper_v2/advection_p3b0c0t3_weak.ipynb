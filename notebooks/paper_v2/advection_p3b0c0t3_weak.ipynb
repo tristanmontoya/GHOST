{
 "cells": [
  {
   "cell_type": "code",
   "execution_count": 1,
   "id": "0232b172",
   "metadata": {
    "execution": {
     "iopub.execute_input": "2021-05-11T05:21:34.236505Z",
     "iopub.status.busy": "2021-05-11T05:21:34.235835Z",
     "iopub.status.idle": "2021-05-11T05:21:34.239812Z",
     "shell.execute_reply": "2021-05-11T05:21:34.240403Z"
    },
    "papermill": {
     "duration": 0.023308,
     "end_time": "2021-05-11T05:21:34.240659",
     "exception": false,
     "start_time": "2021-05-11T05:21:34.217351",
     "status": "completed"
    },
    "tags": [
     "parameters"
    ]
   },
   "outputs": [],
   "source": [
    "p=2\n",
    "M=10\n",
    "L=1\n",
    "p_geo=1\n",
    "c=\"c_dg\"\n",
    "discretization_type=1\n",
    "upwind_parameter=1.0\n",
    "form=\"strong\""
   ]
  },
  {
   "cell_type": "code",
   "execution_count": 2,
   "id": "08c10308",
   "metadata": {
    "execution": {
     "iopub.execute_input": "2021-05-11T05:21:34.288430Z",
     "iopub.status.busy": "2021-05-11T05:21:34.287232Z",
     "iopub.status.idle": "2021-05-11T05:21:34.289016Z",
     "shell.execute_reply": "2021-05-11T05:21:34.287827Z"
    },
    "papermill": {
     "duration": 0.043369,
     "end_time": "2021-05-11T05:21:34.289157",
     "exception": false,
     "start_time": "2021-05-11T05:21:34.245788",
     "status": "completed"
    },
    "tags": [
     "injected-parameters"
    ]
   },
   "outputs": [],
   "source": [
    "# Parameters\n",
    "p = 3\n",
    "p_geo = 1\n",
    "upwind_parameter = 0.0\n",
    "c = \"c_dg\"\n",
    "discretization_type = 3\n",
    "form = \"weak\"\n"
   ]
  },
  {
   "cell_type": "code",
   "execution_count": 3,
   "id": "3add0bef",
   "metadata": {
    "execution": {
     "iopub.execute_input": "2021-05-11T05:21:34.391367Z",
     "iopub.status.busy": "2021-05-11T05:21:34.390717Z",
     "iopub.status.idle": "2021-05-11T07:22:08.807334Z",
     "shell.execute_reply": "2021-05-11T07:22:08.807853Z"
    },
    "papermill": {
     "duration": 7234.490826,
     "end_time": "2021-05-11T07:22:08.808034",
     "exception": false,
     "start_time": "2021-05-11T05:21:34.317208",
     "status": "completed"
    },
    "tags": []
   },
   "outputs": [
    {
     "name": "stderr",
     "output_type": "stream",
     "text": [
      "WARNING:root:msh4 requires 3D points, but 2D points given. Appending 0 third component.\n"
     ]
    },
    {
     "name": "stderr",
     "output_type": "stream",
     "text": [
      "WARNING:root:Binary Gmsh needs c_size_t (got int64). Converting.\n"
     ]
    },
    {
     "name": "stdout",
     "output_type": "stream",
     "text": [
      "advection_p3b0c0t3_weak\n"
     ]
    },
    {
     "name": "stdout",
     "output_type": "stream",
     "text": [
      "5.173e+21 &  1.815e+79 & 4.260e+39  \\\\\n"
     ]
    }
   ],
   "source": [
    "import sys  \n",
    "import numpy as np\n",
    "sys.path.insert(0, '../src')\n",
    "from Driver import advection_driver\n",
    "\n",
    "solver = advection_driver(a=np.sqrt(2), theta=np.pi/4, p=p, M=M, L=L,\n",
    "                        p_geo=p_geo, c=c, \n",
    "                        discretization_type=discretization_type,\n",
    "                        upwind_parameter=upwind_parameter,\n",
    "                        form=form)"
   ]
  },
  {
   "cell_type": "code",
   "execution_count": null,
   "id": "4ffc3abf",
   "metadata": {
    "papermill": {
     "duration": 0.00605,
     "end_time": "2021-05-11T07:22:08.820478",
     "exception": false,
     "start_time": "2021-05-11T07:22:08.814428",
     "status": "completed"
    },
    "tags": []
   },
   "outputs": [],
   "source": []
  }
 ],
 "metadata": {
  "celltoolbar": "Tags",
  "kernelspec": {
   "display_name": "Python 3",
   "language": "python",
   "name": "python3"
  },
  "language_info": {
   "codemirror_mode": {
    "name": "ipython",
    "version": 3
   },
   "file_extension": ".py",
   "mimetype": "text/x-python",
   "name": "python",
   "nbconvert_exporter": "python",
   "pygments_lexer": "ipython3",
   "version": "3.8.5"
  },
  "papermill": {
   "default_parameters": {},
   "duration": 7237.49917,
   "end_time": "2021-05-11T07:22:10.223949",
   "environment_variables": {},
   "exception": null,
   "input_path": "advection_driver.ipynb",
   "output_path": "advection_p3b0c0t3_weak.ipynb",
   "parameters": {
    "c": "c_dg",
    "discretization_type": 3,
    "form": "weak",
    "p": 3,
    "p_geo": 1,
    "upwind_parameter": 0.0
   },
   "start_time": "2021-05-11T05:21:32.724779",
   "version": "2.3.3"
  }
 },
 "nbformat": 4,
 "nbformat_minor": 5
}