{
 "cells": [
  {
   "cell_type": "code",
   "execution_count": 1,
   "id": "9238ba19",
   "metadata": {
    "execution": {
     "iopub.execute_input": "2021-05-11T03:10:11.075677Z",
     "iopub.status.busy": "2021-05-11T03:10:11.074890Z",
     "iopub.status.idle": "2021-05-11T03:10:11.078185Z",
     "shell.execute_reply": "2021-05-11T03:10:11.077422Z"
    },
    "papermill": {
     "duration": 0.020679,
     "end_time": "2021-05-11T03:10:11.078376",
     "exception": false,
     "start_time": "2021-05-11T03:10:11.057697",
     "status": "completed"
    },
    "tags": [
     "parameters"
    ]
   },
   "outputs": [],
   "source": [
    "p=2\n",
    "M=10\n",
    "L=1\n",
    "p_geo=1\n",
    "c=\"c_dg\"\n",
    "discretization_type=1\n",
    "upwind_parameter=1.0\n",
    "form=\"strong\""
   ]
  },
  {
   "cell_type": "code",
   "execution_count": 2,
   "id": "6d03d0a6",
   "metadata": {
    "execution": {
     "iopub.execute_input": "2021-05-11T03:10:11.102129Z",
     "iopub.status.busy": "2021-05-11T03:10:11.101466Z",
     "iopub.status.idle": "2021-05-11T03:10:11.109173Z",
     "shell.execute_reply": "2021-05-11T03:10:11.108520Z"
    },
    "papermill": {
     "duration": 0.024851,
     "end_time": "2021-05-11T03:10:11.109350",
     "exception": false,
     "start_time": "2021-05-11T03:10:11.084499",
     "status": "completed"
    },
    "tags": [
     "injected-parameters"
    ]
   },
   "outputs": [],
   "source": [
    "# Parameters\n",
    "p = 2\n",
    "p_geo = 1\n",
    "upwind_parameter = 1.0\n",
    "c = \"c_dg\"\n",
    "discretization_type = 2\n",
    "form = \"strong\"\n"
   ]
  },
  {
   "cell_type": "code",
   "execution_count": 3,
   "id": "8d9f429f",
   "metadata": {
    "execution": {
     "iopub.execute_input": "2021-05-11T03:10:11.159006Z",
     "iopub.status.busy": "2021-05-11T03:10:11.158289Z",
     "iopub.status.idle": "2021-05-11T04:55:46.932805Z",
     "shell.execute_reply": "2021-05-11T04:55:46.933289Z"
    },
    "papermill": {
     "duration": 6335.801555,
     "end_time": "2021-05-11T04:55:46.933452",
     "exception": false,
     "start_time": "2021-05-11T03:10:11.131897",
     "status": "completed"
    },
    "tags": []
   },
   "outputs": [
    {
     "name": "stderr",
     "output_type": "stream",
     "text": [
      "WARNING:root:msh4 requires 3D points, but 2D points given. Appending 0 third component.\n"
     ]
    },
    {
     "name": "stderr",
     "output_type": "stream",
     "text": [
      "WARNING:root:Binary Gmsh needs c_size_t (got int64). Converting.\n"
     ]
    },
    {
     "name": "stdout",
     "output_type": "stream",
     "text": [
      "advection_p2b1c0t2_strong\n"
     ]
    },
    {
     "name": "stdout",
     "output_type": "stream",
     "text": [
      "-4.534e-16 &  -2.228e-03 & 9.777e-03  \\\\\n"
     ]
    }
   ],
   "source": [
    "import sys  \n",
    "import numpy as np\n",
    "sys.path.insert(0, '../src')\n",
    "from Driver import advection_driver\n",
    "\n",
    "solver = advection_driver(a=np.sqrt(2), theta=np.pi/4, p=p, M=M, L=L,\n",
    "                        p_geo=p_geo, c=c, \n",
    "                        discretization_type=discretization_type,\n",
    "                        upwind_parameter=upwind_parameter,\n",
    "                        form=form)"
   ]
  },
  {
   "cell_type": "code",
   "execution_count": null,
   "id": "7050d846",
   "metadata": {
    "papermill": {
     "duration": 0.005695,
     "end_time": "2021-05-11T04:55:46.945221",
     "exception": false,
     "start_time": "2021-05-11T04:55:46.939526",
     "status": "completed"
    },
    "tags": []
   },
   "outputs": [],
   "source": []
  }
 ],
 "metadata": {
  "celltoolbar": "Tags",
  "kernelspec": {
   "display_name": "Python 3",
   "language": "python",
   "name": "python3"
  },
  "language_info": {
   "codemirror_mode": {
    "name": "ipython",
    "version": 3
   },
   "file_extension": ".py",
   "mimetype": "text/x-python",
   "name": "python",
   "nbconvert_exporter": "python",
   "pygments_lexer": "ipython3",
   "version": "3.8.5"
  },
  "papermill": {
   "default_parameters": {},
   "duration": 6338.587463,
   "end_time": "2021-05-11T04:55:48.339415",
   "environment_variables": {},
   "exception": null,
   "input_path": "advection_driver.ipynb",
   "output_path": "advection_p2b1c0t2_strong.ipynb",
   "parameters": {
    "c": "c_dg",
    "discretization_type": 2,
    "form": "strong",
    "p": 2,
    "p_geo": 1,
    "upwind_parameter": 1.0
   },
   "start_time": "2021-05-11T03:10:09.751952",
   "version": "2.3.3"
  }
 },
 "nbformat": 4,
 "nbformat_minor": 5
}