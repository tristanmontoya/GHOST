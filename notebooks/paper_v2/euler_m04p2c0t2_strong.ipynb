{
 "cells": [
  {
   "cell_type": "code",
   "execution_count": 1,
   "id": "9792dcaf",
   "metadata": {
    "execution": {
     "iopub.execute_input": "2021-05-14T22:14:04.009834Z",
     "iopub.status.busy": "2021-05-14T22:14:04.008512Z",
     "iopub.status.idle": "2021-05-14T22:14:04.010476Z",
     "shell.execute_reply": "2021-05-14T22:14:04.009120Z"
    },
    "papermill": {
     "duration": 0.042596,
     "end_time": "2021-05-14T22:14:04.010632",
     "exception": false,
     "start_time": "2021-05-14T22:14:03.968036",
     "status": "completed"
    },
    "tags": [
     "parameters"
    ]
   },
   "outputs": [],
   "source": [
    "mach_number=0.4\n",
    "p=2\n",
    "M=16\n",
    "L=10.0\n",
    "p_geo=2\n",
    "c=\"c_dg\"\n",
    "discretization_type=1\n",
    "form=\"strong\""
   ]
  },
  {
   "cell_type": "code",
   "execution_count": 2,
   "id": "230ec1f6",
   "metadata": {
    "execution": {
     "iopub.execute_input": "2021-05-14T22:14:04.041115Z",
     "iopub.status.busy": "2021-05-14T22:14:04.039916Z",
     "iopub.status.idle": "2021-05-14T22:14:04.041698Z",
     "shell.execute_reply": "2021-05-14T22:14:04.040496Z"
    },
    "papermill": {
     "duration": 0.026009,
     "end_time": "2021-05-14T22:14:04.041842",
     "exception": false,
     "start_time": "2021-05-14T22:14:04.015833",
     "status": "completed"
    },
    "tags": [
     "injected-parameters"
    ]
   },
   "outputs": [],
   "source": [
    "# Parameters\n",
    "mach_number = 0.4\n",
    "p = 2\n",
    "p_geo = 2\n",
    "c = \"c_dg\"\n",
    "discretization_type = 2\n",
    "form = \"strong\"\n"
   ]
  },
  {
   "cell_type": "code",
   "execution_count": 3,
   "id": "513e40a0",
   "metadata": {
    "execution": {
     "iopub.execute_input": "2021-05-14T22:14:04.199106Z",
     "iopub.status.busy": "2021-05-14T22:14:04.198452Z",
     "iopub.status.idle": "2021-05-17T09:02:49.074390Z",
     "shell.execute_reply": "2021-05-17T09:02:49.075076Z"
    },
    "papermill": {
     "duration": 211725.028866,
     "end_time": "2021-05-17T09:02:49.075343",
     "exception": false,
     "start_time": "2021-05-14T22:14:04.046477",
     "status": "completed"
    },
    "tags": []
   },
   "outputs": [
    {
     "name": "stdout",
     "output_type": "stream",
     "text": [
      "euler_m04p2c0t2_strong\n"
     ]
    },
    {
     "name": "stdout",
     "output_type": "stream",
     "text": [
      "5.400e-13 &  4.196e-02  \\\\\n",
      "-7.816e-14 &  1.336e-01  \\\\\n",
      "2.515e-12 &  1.680e-01  \\\\\n",
      "1.620e-12 &  1.122e-01  \\\\\n"
     ]
    }
   ],
   "source": [
    "import sys  \n",
    "import numpy as np\n",
    "sys.path.insert(0, '../src')\n",
    "from Driver import euler_driver\n",
    "\n",
    "solver = euler_driver(mach_number=mach_number, \n",
    "                      theta=np.pi/4,\n",
    "                        p=p, M=M, L=L,\n",
    "                        p_geo=p_geo, c=c, \n",
    "                        discretization_type=discretization_type,\n",
    "                        form=form)"
   ]
  },
  {
   "cell_type": "code",
   "execution_count": null,
   "id": "8eed4d26",
   "metadata": {
    "papermill": {
     "duration": 0.007411,
     "end_time": "2021-05-17T09:02:49.090418",
     "exception": false,
     "start_time": "2021-05-17T09:02:49.083007",
     "status": "completed"
    },
    "tags": []
   },
   "outputs": [],
   "source": []
  }
 ],
 "metadata": {
  "celltoolbar": "Tags",
  "kernelspec": {
   "display_name": "Python 3",
   "language": "python",
   "name": "python3"
  },
  "language_info": {
   "codemirror_mode": {
    "name": "ipython",
    "version": 3
   },
   "file_extension": ".py",
   "mimetype": "text/x-python",
   "name": "python",
   "nbconvert_exporter": "python",
   "pygments_lexer": "ipython3",
   "version": "3.8.5"
  },
  "papermill": {
   "default_parameters": {},
   "duration": 211727.665902,
   "end_time": "2021-05-17T09:02:50.420275",
   "environment_variables": {},
   "exception": null,
   "input_path": "euler_driver.ipynb",
   "output_path": "euler_m04p2c0t2_strong.ipynb",
   "parameters": {
    "c": "c_dg",
    "discretization_type": 2,
    "form": "strong",
    "mach_number": 0.4,
    "p": 2,
    "p_geo": 2
   },
   "start_time": "2021-05-14T22:14:02.754373",
   "version": "2.3.3"
  }
 },
 "nbformat": 4,
 "nbformat_minor": 5
}