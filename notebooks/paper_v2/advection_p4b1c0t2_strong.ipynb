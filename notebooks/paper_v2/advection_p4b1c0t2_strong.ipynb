{
 "cells": [
  {
   "cell_type": "code",
   "execution_count": 1,
   "id": "8442e8ee",
   "metadata": {
    "execution": {
     "iopub.execute_input": "2021-05-14T14:12:17.987835Z",
     "iopub.status.busy": "2021-05-14T14:12:17.987133Z",
     "iopub.status.idle": "2021-05-14T14:12:17.993252Z",
     "shell.execute_reply": "2021-05-14T14:12:17.992576Z"
    },
    "papermill": {
     "duration": 0.035802,
     "end_time": "2021-05-14T14:12:17.993421",
     "exception": false,
     "start_time": "2021-05-14T14:12:17.957619",
     "status": "completed"
    },
    "tags": [
     "parameters"
    ]
   },
   "outputs": [],
   "source": [
    "p=2\n",
    "M=10\n",
    "L=1\n",
    "p_geo=1\n",
    "c=\"c_dg\"\n",
    "discretization_type=1\n",
    "upwind_parameter=1.0\n",
    "form=\"strong\""
   ]
  },
  {
   "cell_type": "code",
   "execution_count": 2,
   "id": "a585adbb",
   "metadata": {
    "execution": {
     "iopub.execute_input": "2021-05-14T14:12:18.068606Z",
     "iopub.status.busy": "2021-05-14T14:12:18.067445Z",
     "iopub.status.idle": "2021-05-14T14:12:18.069185Z",
     "shell.execute_reply": "2021-05-14T14:12:18.068013Z"
    },
    "papermill": {
     "duration": 0.063655,
     "end_time": "2021-05-14T14:12:18.069329",
     "exception": false,
     "start_time": "2021-05-14T14:12:18.005674",
     "status": "completed"
    },
    "tags": [
     "injected-parameters"
    ]
   },
   "outputs": [],
   "source": [
    "# Parameters\n",
    "p = 4\n",
    "p_geo = 1\n",
    "upwind_parameter = 1.0\n",
    "c = \"c_dg\"\n",
    "discretization_type = 2\n",
    "form = \"strong\"\n"
   ]
  },
  {
   "cell_type": "code",
   "execution_count": 3,
   "id": "941ef201",
   "metadata": {
    "execution": {
     "iopub.execute_input": "2021-05-14T14:12:18.170207Z",
     "iopub.status.busy": "2021-05-14T14:12:18.169536Z",
     "iopub.status.idle": "2021-05-14T17:16:23.205144Z",
     "shell.execute_reply": "2021-05-14T17:16:23.205815Z"
    },
    "papermill": {
     "duration": 11045.131509,
     "end_time": "2021-05-14T17:16:23.206120",
     "exception": false,
     "start_time": "2021-05-14T14:12:18.074611",
     "status": "completed"
    },
    "tags": []
   },
   "outputs": [
    {
     "name": "stderr",
     "output_type": "stream",
     "text": [
      "WARNING:root:msh4 requires 3D points, but 2D points given. Appending 0 third component.\n"
     ]
    },
    {
     "name": "stderr",
     "output_type": "stream",
     "text": [
      "WARNING:root:Binary Gmsh needs c_size_t (got int64). Converting.\n"
     ]
    },
    {
     "name": "stdout",
     "output_type": "stream",
     "text": [
      "advection_p4b1c0t2_strong\n"
     ]
    },
    {
     "name": "stdout",
     "output_type": "stream",
     "text": [
      "-1.791e-16 &  -6.648e-07 & 9.987e-05  \\\\\n"
     ]
    }
   ],
   "source": [
    "import sys  \n",
    "import numpy as np\n",
    "sys.path.insert(0, '../src')\n",
    "from Driver import advection_driver\n",
    "\n",
    "solver = advection_driver(a=np.sqrt(2), theta=np.pi/4, p=p, M=M, L=L,\n",
    "                        p_geo=p_geo, c=c, \n",
    "                        discretization_type=discretization_type,\n",
    "                        upwind_parameter=upwind_parameter,\n",
    "                        form=form)"
   ]
  },
  {
   "cell_type": "code",
   "execution_count": null,
   "id": "0463523d",
   "metadata": {
    "papermill": {
     "duration": 0.007877,
     "end_time": "2021-05-14T17:16:23.222311",
     "exception": false,
     "start_time": "2021-05-14T17:16:23.214434",
     "status": "completed"
    },
    "tags": []
   },
   "outputs": [],
   "source": []
  }
 ],
 "metadata": {
  "celltoolbar": "Tags",
  "kernelspec": {
   "display_name": "Python 3",
   "language": "python",
   "name": "python3"
  },
  "language_info": {
   "codemirror_mode": {
    "name": "ipython",
    "version": 3
   },
   "file_extension": ".py",
   "mimetype": "text/x-python",
   "name": "python",
   "nbconvert_exporter": "python",
   "pygments_lexer": "ipython3",
   "version": "3.8.5"
  },
  "papermill": {
   "default_parameters": {},
   "duration": 11047.432306,
   "end_time": "2021-05-14T17:16:23.842190",
   "environment_variables": {},
   "exception": null,
   "input_path": "advection_driver.ipynb",
   "output_path": "advection_p4b1c0t2_strong.ipynb",
   "parameters": {
    "c": "c_dg",
    "discretization_type": 2,
    "form": "strong",
    "p": 4,
    "p_geo": 1,
    "upwind_parameter": 1.0
   },
   "start_time": "2021-05-14T14:12:16.409884",
   "version": "2.3.3"
  }
 },
 "nbformat": 4,
 "nbformat_minor": 5
}