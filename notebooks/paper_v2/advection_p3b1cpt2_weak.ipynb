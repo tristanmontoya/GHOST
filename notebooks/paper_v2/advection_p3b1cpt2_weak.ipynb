{
 "cells": [
  {
   "cell_type": "code",
   "execution_count": 1,
   "id": "060c4023",
   "metadata": {
    "execution": {
     "iopub.execute_input": "2021-05-11T05:21:34.146227Z",
     "iopub.status.busy": "2021-05-11T05:21:34.145532Z",
     "iopub.status.idle": "2021-05-11T05:21:34.148610Z",
     "shell.execute_reply": "2021-05-11T05:21:34.147987Z"
    },
    "papermill": {
     "duration": 0.019302,
     "end_time": "2021-05-11T05:21:34.148771",
     "exception": false,
     "start_time": "2021-05-11T05:21:34.129469",
     "status": "completed"
    },
    "tags": [
     "parameters"
    ]
   },
   "outputs": [],
   "source": [
    "p=2\n",
    "M=10\n",
    "L=1\n",
    "p_geo=1\n",
    "c=\"c_dg\"\n",
    "discretization_type=1\n",
    "upwind_parameter=1.0\n",
    "form=\"strong\""
   ]
  },
  {
   "cell_type": "code",
   "execution_count": 2,
   "id": "2c6186fd",
   "metadata": {
    "execution": {
     "iopub.execute_input": "2021-05-11T05:21:34.203614Z",
     "iopub.status.busy": "2021-05-11T05:21:34.197412Z",
     "iopub.status.idle": "2021-05-11T05:21:34.204240Z",
     "shell.execute_reply": "2021-05-11T05:21:34.197975Z"
    },
    "papermill": {
     "duration": 0.050574,
     "end_time": "2021-05-11T05:21:34.204391",
     "exception": false,
     "start_time": "2021-05-11T05:21:34.153817",
     "status": "completed"
    },
    "tags": [
     "injected-parameters"
    ]
   },
   "outputs": [],
   "source": [
    "# Parameters\n",
    "p = 3\n",
    "p_geo = 1\n",
    "upwind_parameter = 1.0\n",
    "c = \"c_+\"\n",
    "discretization_type = 2\n",
    "form = \"weak\"\n"
   ]
  },
  {
   "cell_type": "code",
   "execution_count": 3,
   "id": "690aae26",
   "metadata": {
    "execution": {
     "iopub.execute_input": "2021-05-11T05:21:34.246046Z",
     "iopub.status.busy": "2021-05-11T05:21:34.245405Z",
     "iopub.status.idle": "2021-05-11T07:22:29.894214Z",
     "shell.execute_reply": "2021-05-11T07:22:29.894744Z"
    },
    "papermill": {
     "duration": 7255.675275,
     "end_time": "2021-05-11T07:22:29.894946",
     "exception": false,
     "start_time": "2021-05-11T05:21:34.219671",
     "status": "completed"
    },
    "tags": []
   },
   "outputs": [
    {
     "name": "stderr",
     "output_type": "stream",
     "text": [
      "WARNING:root:msh4 requires 3D points, but 2D points given. Appending 0 third component.\n"
     ]
    },
    {
     "name": "stderr",
     "output_type": "stream",
     "text": [
      "WARNING:root:Binary Gmsh needs c_size_t (got int64). Converting.\n"
     ]
    },
    {
     "name": "stdout",
     "output_type": "stream",
     "text": [
      "advection_p3b1cpt2_weak\n"
     ]
    },
    {
     "name": "stdout",
     "output_type": "stream",
     "text": [
      "-5.560e-16 &  -5.502e-04 & 3.652e-03  \\\\\n"
     ]
    }
   ],
   "source": [
    "import sys  \n",
    "import numpy as np\n",
    "sys.path.insert(0, '../src')\n",
    "from Driver import advection_driver\n",
    "\n",
    "solver = advection_driver(a=np.sqrt(2), theta=np.pi/4, p=p, M=M, L=L,\n",
    "                        p_geo=p_geo, c=c, \n",
    "                        discretization_type=discretization_type,\n",
    "                        upwind_parameter=upwind_parameter,\n",
    "                        form=form)"
   ]
  },
  {
   "cell_type": "code",
   "execution_count": null,
   "id": "eda3ce60",
   "metadata": {
    "papermill": {
     "duration": 0.006007,
     "end_time": "2021-05-11T07:22:29.907303",
     "exception": false,
     "start_time": "2021-05-11T07:22:29.901296",
     "status": "completed"
    },
    "tags": []
   },
   "outputs": [],
   "source": []
  }
 ],
 "metadata": {
  "celltoolbar": "Tags",
  "kernelspec": {
   "display_name": "Python 3",
   "language": "python",
   "name": "python3"
  },
  "language_info": {
   "codemirror_mode": {
    "name": "ipython",
    "version": 3
   },
   "file_extension": ".py",
   "mimetype": "text/x-python",
   "name": "python",
   "nbconvert_exporter": "python",
   "pygments_lexer": "ipython3",
   "version": "3.8.5"
  },
  "papermill": {
   "default_parameters": {},
   "duration": 7258.603803,
   "end_time": "2021-05-11T07:22:31.395823",
   "environment_variables": {},
   "exception": null,
   "input_path": "advection_driver.ipynb",
   "output_path": "advection_p3b1cpt2_weak.ipynb",
   "parameters": {
    "c": "c_+",
    "discretization_type": 2,
    "form": "weak",
    "p": 3,
    "p_geo": 1,
    "upwind_parameter": 1.0
   },
   "start_time": "2021-05-11T05:21:32.792020",
   "version": "2.3.3"
  }
 },
 "nbformat": 4,
 "nbformat_minor": 5
}