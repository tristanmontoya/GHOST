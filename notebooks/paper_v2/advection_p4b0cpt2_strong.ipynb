{
 "cells": [
  {
   "cell_type": "code",
   "execution_count": 1,
   "id": "1fc68792",
   "metadata": {
    "execution": {
     "iopub.execute_input": "2021-05-14T14:12:17.827929Z",
     "iopub.status.busy": "2021-05-14T14:12:17.813177Z",
     "iopub.status.idle": "2021-05-14T14:12:17.828669Z",
     "shell.execute_reply": "2021-05-14T14:12:17.829203Z"
    },
    "papermill": {
     "duration": 0.037764,
     "end_time": "2021-05-14T14:12:17.829491",
     "exception": false,
     "start_time": "2021-05-14T14:12:17.791727",
     "status": "completed"
    },
    "tags": [
     "parameters"
    ]
   },
   "outputs": [],
   "source": [
    "p=2\n",
    "M=10\n",
    "L=1\n",
    "p_geo=1\n",
    "c=\"c_dg\"\n",
    "discretization_type=1\n",
    "upwind_parameter=1.0\n",
    "form=\"strong\""
   ]
  },
  {
   "cell_type": "code",
   "execution_count": 2,
   "id": "40bb4df5",
   "metadata": {
    "execution": {
     "iopub.execute_input": "2021-05-14T14:12:17.864585Z",
     "iopub.status.busy": "2021-05-14T14:12:17.863662Z",
     "iopub.status.idle": "2021-05-14T14:12:17.866010Z",
     "shell.execute_reply": "2021-05-14T14:12:17.865322Z"
    },
    "papermill": {
     "duration": 0.031412,
     "end_time": "2021-05-14T14:12:17.866211",
     "exception": false,
     "start_time": "2021-05-14T14:12:17.834799",
     "status": "completed"
    },
    "tags": [
     "injected-parameters"
    ]
   },
   "outputs": [],
   "source": [
    "# Parameters\n",
    "p = 4\n",
    "p_geo = 1\n",
    "upwind_parameter = 0.0\n",
    "c = \"c_+\"\n",
    "discretization_type = 2\n",
    "form = \"strong\"\n"
   ]
  },
  {
   "cell_type": "code",
   "execution_count": 3,
   "id": "846abcb0",
   "metadata": {
    "execution": {
     "iopub.execute_input": "2021-05-14T14:12:18.053241Z",
     "iopub.status.busy": "2021-05-14T14:12:18.052428Z",
     "iopub.status.idle": "2021-05-14T17:20:32.650448Z",
     "shell.execute_reply": "2021-05-14T17:20:32.650939Z"
    },
    "papermill": {
     "duration": 11294.779327,
     "end_time": "2021-05-14T17:20:32.651173",
     "exception": false,
     "start_time": "2021-05-14T14:12:17.871846",
     "status": "completed"
    },
    "tags": []
   },
   "outputs": [
    {
     "name": "stderr",
     "output_type": "stream",
     "text": [
      "WARNING:root:msh4 requires 3D points, but 2D points given. Appending 0 third component.\n"
     ]
    },
    {
     "name": "stderr",
     "output_type": "stream",
     "text": [
      "WARNING:root:Binary Gmsh needs c_size_t (got int64). Converting.\n"
     ]
    },
    {
     "name": "stdout",
     "output_type": "stream",
     "text": [
      "advection_p4b0cpt2_strong\n"
     ]
    },
    {
     "name": "stdout",
     "output_type": "stream",
     "text": [
      "-3.903e-16 &  4.996e-16 & 2.822e-03  \\\\\n"
     ]
    }
   ],
   "source": [
    "import sys  \n",
    "import numpy as np\n",
    "sys.path.insert(0, '../src')\n",
    "from Driver import advection_driver\n",
    "\n",
    "solver = advection_driver(a=np.sqrt(2), theta=np.pi/4, p=p, M=M, L=L,\n",
    "                        p_geo=p_geo, c=c, \n",
    "                        discretization_type=discretization_type,\n",
    "                        upwind_parameter=upwind_parameter,\n",
    "                        form=form)"
   ]
  },
  {
   "cell_type": "code",
   "execution_count": null,
   "id": "c9c60ab9",
   "metadata": {
    "papermill": {
     "duration": 0.005923,
     "end_time": "2021-05-14T17:20:32.663337",
     "exception": false,
     "start_time": "2021-05-14T17:20:32.657414",
     "status": "completed"
    },
    "tags": []
   },
   "outputs": [],
   "source": []
  }
 ],
 "metadata": {
  "celltoolbar": "Tags",
  "kernelspec": {
   "display_name": "Python 3",
   "language": "python",
   "name": "python3"
  },
  "language_info": {
   "codemirror_mode": {
    "name": "ipython",
    "version": 3
   },
   "file_extension": ".py",
   "mimetype": "text/x-python",
   "name": "python",
   "nbconvert_exporter": "python",
   "pygments_lexer": "ipython3",
   "version": "3.8.5"
  },
  "papermill": {
   "default_parameters": {},
   "duration": 11297.742109,
   "end_time": "2021-05-14T17:20:34.151649",
   "environment_variables": {},
   "exception": null,
   "input_path": "advection_driver.ipynb",
   "output_path": "advection_p4b0cpt2_strong.ipynb",
   "parameters": {
    "c": "c_+",
    "discretization_type": 2,
    "form": "strong",
    "p": 4,
    "p_geo": 1,
    "upwind_parameter": 0.0
   },
   "start_time": "2021-05-14T14:12:16.409540",
   "version": "2.3.3"
  }
 },
 "nbformat": 4,
 "nbformat_minor": 5
}