{
 "cells": [
  {
   "cell_type": "code",
   "execution_count": 1,
   "id": "2fec1127",
   "metadata": {
    "execution": {
     "iopub.execute_input": "2021-05-14T14:12:17.839274Z",
     "iopub.status.busy": "2021-05-14T14:12:17.838546Z",
     "iopub.status.idle": "2021-05-14T14:12:17.847652Z",
     "shell.execute_reply": "2021-05-14T14:12:17.846972Z"
    },
    "papermill": {
     "duration": 0.043504,
     "end_time": "2021-05-14T14:12:17.847817",
     "exception": false,
     "start_time": "2021-05-14T14:12:17.804313",
     "status": "completed"
    },
    "tags": [
     "parameters"
    ]
   },
   "outputs": [],
   "source": [
    "p=2\n",
    "M=10\n",
    "L=1\n",
    "p_geo=1\n",
    "c=\"c_dg\"\n",
    "discretization_type=1\n",
    "upwind_parameter=1.0\n",
    "form=\"strong\""
   ]
  },
  {
   "cell_type": "code",
   "execution_count": 2,
   "id": "0b9006a5",
   "metadata": {
    "execution": {
     "iopub.execute_input": "2021-05-14T14:12:17.862770Z",
     "iopub.status.busy": "2021-05-14T14:12:17.862060Z",
     "iopub.status.idle": "2021-05-14T14:12:17.866978Z",
     "shell.execute_reply": "2021-05-14T14:12:17.867562Z"
    },
    "papermill": {
     "duration": 0.014698,
     "end_time": "2021-05-14T14:12:17.867738",
     "exception": false,
     "start_time": "2021-05-14T14:12:17.853040",
     "status": "completed"
    },
    "tags": [
     "injected-parameters"
    ]
   },
   "outputs": [],
   "source": [
    "# Parameters\n",
    "p = 4\n",
    "p_geo = 1\n",
    "upwind_parameter = 1.0\n",
    "c = \"c_dg\"\n",
    "discretization_type = 2\n",
    "form = \"weak\"\n"
   ]
  },
  {
   "cell_type": "code",
   "execution_count": 3,
   "id": "4607f72c",
   "metadata": {
    "execution": {
     "iopub.execute_input": "2021-05-14T14:12:17.897920Z",
     "iopub.status.busy": "2021-05-14T14:12:17.897259Z",
     "iopub.status.idle": "2021-05-14T16:49:20.434797Z",
     "shell.execute_reply": "2021-05-14T16:49:20.435326Z"
    },
    "papermill": {
     "duration": 9422.563196,
     "end_time": "2021-05-14T16:49:20.435547",
     "exception": false,
     "start_time": "2021-05-14T14:12:17.872351",
     "status": "completed"
    },
    "tags": []
   },
   "outputs": [
    {
     "name": "stderr",
     "output_type": "stream",
     "text": [
      "WARNING:root:msh4 requires 3D points, but 2D points given. Appending 0 third component.\n"
     ]
    },
    {
     "name": "stderr",
     "output_type": "stream",
     "text": [
      "WARNING:root:Binary Gmsh needs c_size_t (got int64). Converting.\n"
     ]
    },
    {
     "name": "stdout",
     "output_type": "stream",
     "text": [
      "advection_p4b1c0t2_weak\n"
     ]
    },
    {
     "name": "stdout",
     "output_type": "stream",
     "text": [
      "-3.323e-17 &  -6.648e-07 & 9.987e-05  \\\\\n"
     ]
    }
   ],
   "source": [
    "import sys  \n",
    "import numpy as np\n",
    "sys.path.insert(0, '../src')\n",
    "from Driver import advection_driver\n",
    "\n",
    "solver = advection_driver(a=np.sqrt(2), theta=np.pi/4, p=p, M=M, L=L,\n",
    "                        p_geo=p_geo, c=c, \n",
    "                        discretization_type=discretization_type,\n",
    "                        upwind_parameter=upwind_parameter,\n",
    "                        form=form)"
   ]
  },
  {
   "cell_type": "code",
   "execution_count": null,
   "id": "0c181c68",
   "metadata": {
    "papermill": {
     "duration": 0.006034,
     "end_time": "2021-05-14T16:49:20.448039",
     "exception": false,
     "start_time": "2021-05-14T16:49:20.442005",
     "status": "completed"
    },
    "tags": []
   },
   "outputs": [],
   "source": []
  }
 ],
 "metadata": {
  "celltoolbar": "Tags",
  "kernelspec": {
   "display_name": "Python 3",
   "language": "python",
   "name": "python3"
  },
  "language_info": {
   "codemirror_mode": {
    "name": "ipython",
    "version": 3
   },
   "file_extension": ".py",
   "mimetype": "text/x-python",
   "name": "python",
   "nbconvert_exporter": "python",
   "pygments_lexer": "ipython3",
   "version": "3.8.5"
  },
  "papermill": {
   "default_parameters": {},
   "duration": 9424.454116,
   "end_time": "2021-05-14T16:49:20.963985",
   "environment_variables": {},
   "exception": null,
   "input_path": "advection_driver.ipynb",
   "output_path": "advection_p4b1c0t2_weak.ipynb",
   "parameters": {
    "c": "c_dg",
    "discretization_type": 2,
    "form": "weak",
    "p": 4,
    "p_geo": 1,
    "upwind_parameter": 1.0
   },
   "start_time": "2021-05-14T14:12:16.509869",
   "version": "2.3.3"
  }
 },
 "nbformat": 4,
 "nbformat_minor": 5
}