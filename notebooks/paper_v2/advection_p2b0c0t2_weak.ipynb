{
 "cells": [
  {
   "cell_type": "code",
   "execution_count": 1,
   "id": "7c3509cc",
   "metadata": {
    "execution": {
     "iopub.execute_input": "2021-05-11T03:10:11.249971Z",
     "iopub.status.busy": "2021-05-11T03:10:11.248672Z",
     "iopub.status.idle": "2021-05-11T03:10:11.250593Z",
     "shell.execute_reply": "2021-05-11T03:10:11.249314Z"
    },
    "papermill": {
     "duration": 0.033418,
     "end_time": "2021-05-11T03:10:11.250743",
     "exception": false,
     "start_time": "2021-05-11T03:10:11.217325",
     "status": "completed"
    },
    "tags": [
     "parameters"
    ]
   },
   "outputs": [],
   "source": [
    "p=2\n",
    "M=10\n",
    "L=1\n",
    "p_geo=1\n",
    "c=\"c_dg\"\n",
    "discretization_type=1\n",
    "upwind_parameter=1.0\n",
    "form=\"strong\""
   ]
  },
  {
   "cell_type": "code",
   "execution_count": 2,
   "id": "a1b3f9aa",
   "metadata": {
    "execution": {
     "iopub.execute_input": "2021-05-11T03:10:11.275002Z",
     "iopub.status.busy": "2021-05-11T03:10:11.273806Z",
     "iopub.status.idle": "2021-05-11T03:10:11.275585Z",
     "shell.execute_reply": "2021-05-11T03:10:11.274406Z"
    },
    "papermill": {
     "duration": 0.019016,
     "end_time": "2021-05-11T03:10:11.275721",
     "exception": false,
     "start_time": "2021-05-11T03:10:11.256705",
     "status": "completed"
    },
    "tags": [
     "injected-parameters"
    ]
   },
   "outputs": [],
   "source": [
    "# Parameters\n",
    "p = 2\n",
    "p_geo = 1\n",
    "upwind_parameter = 0.0\n",
    "c = \"c_dg\"\n",
    "discretization_type = 2\n",
    "form = \"weak\"\n"
   ]
  },
  {
   "cell_type": "code",
   "execution_count": 3,
   "id": "15073140",
   "metadata": {
    "execution": {
     "iopub.execute_input": "2021-05-11T03:10:11.329880Z",
     "iopub.status.busy": "2021-05-11T03:10:11.329199Z",
     "iopub.status.idle": "2021-05-11T04:36:20.734560Z",
     "shell.execute_reply": "2021-05-11T04:36:20.735269Z"
    },
    "papermill": {
     "duration": 5169.436005,
     "end_time": "2021-05-11T04:36:20.735506",
     "exception": false,
     "start_time": "2021-05-11T03:10:11.299501",
     "status": "completed"
    },
    "tags": []
   },
   "outputs": [
    {
     "name": "stderr",
     "output_type": "stream",
     "text": [
      "WARNING:root:msh4 requires 3D points, but 2D points given. Appending 0 third component.\n"
     ]
    },
    {
     "name": "stderr",
     "output_type": "stream",
     "text": [
      "WARNING:root:Binary Gmsh needs c_size_t (got int64). Converting.\n"
     ]
    },
    {
     "name": "stdout",
     "output_type": "stream",
     "text": [
      "advection_p2b0c0t2_weak\n"
     ]
    },
    {
     "name": "stdout",
     "output_type": "stream",
     "text": [
      "-4.520e-16 &  -2.220e-15 & 4.833e-02  \\\\\n"
     ]
    }
   ],
   "source": [
    "import sys  \n",
    "import numpy as np\n",
    "sys.path.insert(0, '../src')\n",
    "from Driver import advection_driver\n",
    "\n",
    "solver = advection_driver(a=np.sqrt(2), theta=np.pi/4, p=p, M=M, L=L,\n",
    "                        p_geo=p_geo, c=c, \n",
    "                        discretization_type=discretization_type,\n",
    "                        upwind_parameter=upwind_parameter,\n",
    "                        form=form)"
   ]
  },
  {
   "cell_type": "code",
   "execution_count": null,
   "id": "dd7d98ee",
   "metadata": {
    "papermill": {
     "duration": 0.008224,
     "end_time": "2021-05-11T04:36:20.752612",
     "exception": false,
     "start_time": "2021-05-11T04:36:20.744388",
     "status": "completed"
    },
    "tags": []
   },
   "outputs": [],
   "source": []
  }
 ],
 "metadata": {
  "celltoolbar": "Tags",
  "kernelspec": {
   "display_name": "Python 3",
   "language": "python",
   "name": "python3"
  },
  "language_info": {
   "codemirror_mode": {
    "name": "ipython",
    "version": 3
   },
   "file_extension": ".py",
   "mimetype": "text/x-python",
   "name": "python",
   "nbconvert_exporter": "python",
   "pygments_lexer": "ipython3",
   "version": "3.8.5"
  },
  "papermill": {
   "default_parameters": {},
   "duration": 5171.488344,
   "end_time": "2021-05-11T04:36:21.271763",
   "environment_variables": {},
   "exception": null,
   "input_path": "advection_driver.ipynb",
   "output_path": "advection_p2b0c0t2_weak.ipynb",
   "parameters": {
    "c": "c_dg",
    "discretization_type": 2,
    "form": "weak",
    "p": 2,
    "p_geo": 1,
    "upwind_parameter": 0.0
   },
   "start_time": "2021-05-11T03:10:09.783419",
   "version": "2.3.3"
  }
 },
 "nbformat": 4,
 "nbformat_minor": 5
}