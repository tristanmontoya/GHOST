{
 "cells": [
  {
   "cell_type": "code",
   "execution_count": 1,
   "id": "061f24f1",
   "metadata": {
    "execution": {
     "iopub.execute_input": "2021-05-11T05:21:33.867045Z",
     "iopub.status.busy": "2021-05-11T05:21:33.866388Z",
     "iopub.status.idle": "2021-05-11T05:21:33.868423Z",
     "shell.execute_reply": "2021-05-11T05:21:33.868882Z"
    },
    "papermill": {
     "duration": 0.018472,
     "end_time": "2021-05-11T05:21:33.869155",
     "exception": false,
     "start_time": "2021-05-11T05:21:33.850683",
     "status": "completed"
    },
    "tags": [
     "parameters"
    ]
   },
   "outputs": [],
   "source": [
    "p=2\n",
    "M=10\n",
    "L=1\n",
    "p_geo=1\n",
    "c=\"c_dg\"\n",
    "discretization_type=1\n",
    "upwind_parameter=1.0\n",
    "form=\"strong\""
   ]
  },
  {
   "cell_type": "code",
   "execution_count": 2,
   "id": "f5bcce79",
   "metadata": {
    "execution": {
     "iopub.execute_input": "2021-05-11T05:21:33.883437Z",
     "iopub.status.busy": "2021-05-11T05:21:33.882832Z",
     "iopub.status.idle": "2021-05-11T05:21:33.885496Z",
     "shell.execute_reply": "2021-05-11T05:21:33.884901Z"
    },
    "papermill": {
     "duration": 0.011303,
     "end_time": "2021-05-11T05:21:33.885634",
     "exception": false,
     "start_time": "2021-05-11T05:21:33.874331",
     "status": "completed"
    },
    "tags": [
     "injected-parameters"
    ]
   },
   "outputs": [],
   "source": [
    "# Parameters\n",
    "p = 3\n",
    "p_geo = 1\n",
    "upwind_parameter = 0.0\n",
    "c = \"c_+\"\n",
    "discretization_type = 3\n",
    "form = \"strong\"\n"
   ]
  },
  {
   "cell_type": "code",
   "execution_count": 3,
   "id": "fbf8d44b",
   "metadata": {
    "execution": {
     "iopub.execute_input": "2021-05-11T05:21:33.900450Z",
     "iopub.status.busy": "2021-05-11T05:21:33.899841Z",
     "iopub.status.idle": "2021-05-11T07:52:05.998439Z",
     "shell.execute_reply": "2021-05-11T07:52:05.998947Z"
    },
    "papermill": {
     "duration": 9032.108804,
     "end_time": "2021-05-11T07:52:05.999142",
     "exception": false,
     "start_time": "2021-05-11T05:21:33.890338",
     "status": "completed"
    },
    "tags": []
   },
   "outputs": [
    {
     "name": "stderr",
     "output_type": "stream",
     "text": [
      "WARNING:root:msh4 requires 3D points, but 2D points given. Appending 0 third component.\n"
     ]
    },
    {
     "name": "stderr",
     "output_type": "stream",
     "text": [
      "WARNING:root:Binary Gmsh needs c_size_t (got int64). Converting.\n"
     ]
    },
    {
     "name": "stdout",
     "output_type": "stream",
     "text": [
      "advection_p3b0cpt3_strong\n"
     ]
    },
    {
     "name": "stdout",
     "output_type": "stream",
     "text": [
      "-2.450e+84 &  1.171e+202 & 1.000e+101  \\\\\n"
     ]
    }
   ],
   "source": [
    "import sys  \n",
    "import numpy as np\n",
    "sys.path.insert(0, '../src')\n",
    "from Driver import advection_driver\n",
    "\n",
    "solver = advection_driver(a=np.sqrt(2), theta=np.pi/4, p=p, M=M, L=L,\n",
    "                        p_geo=p_geo, c=c, \n",
    "                        discretization_type=discretization_type,\n",
    "                        upwind_parameter=upwind_parameter,\n",
    "                        form=form)"
   ]
  },
  {
   "cell_type": "code",
   "execution_count": null,
   "id": "90170a76",
   "metadata": {
    "papermill": {
     "duration": 0.005777,
     "end_time": "2021-05-11T07:52:06.011002",
     "exception": false,
     "start_time": "2021-05-11T07:52:06.005225",
     "status": "completed"
    },
    "tags": []
   },
   "outputs": [],
   "source": []
  }
 ],
 "metadata": {
  "celltoolbar": "Tags",
  "kernelspec": {
   "display_name": "Python 3",
   "language": "python",
   "name": "python3"
  },
  "language_info": {
   "codemirror_mode": {
    "name": "ipython",
    "version": 3
   },
   "file_extension": ".py",
   "mimetype": "text/x-python",
   "name": "python",
   "nbconvert_exporter": "python",
   "pygments_lexer": "ipython3",
   "version": "3.8.5"
  },
  "papermill": {
   "default_parameters": {},
   "duration": 9033.902523,
   "end_time": "2021-05-11T07:52:06.525542",
   "environment_variables": {},
   "exception": null,
   "input_path": "advection_driver.ipynb",
   "output_path": "advection_p3b0cpt3_strong.ipynb",
   "parameters": {
    "c": "c_+",
    "discretization_type": 3,
    "form": "strong",
    "p": 3,
    "p_geo": 1,
    "upwind_parameter": 0.0
   },
   "start_time": "2021-05-11T05:21:32.623019",
   "version": "2.3.3"
  }
 },
 "nbformat": 4,
 "nbformat_minor": 5
}