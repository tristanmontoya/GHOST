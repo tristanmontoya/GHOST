{
 "cells": [
  {
   "cell_type": "code",
   "execution_count": 1,
   "id": "3b986af9",
   "metadata": {
    "execution": {
     "iopub.execute_input": "2021-05-14T22:14:17.739076Z",
     "iopub.status.busy": "2021-05-14T22:14:17.738252Z",
     "iopub.status.idle": "2021-05-14T22:14:17.785122Z",
     "shell.execute_reply": "2021-05-14T22:14:17.784409Z"
    },
    "papermill": {
     "duration": 0.07986,
     "end_time": "2021-05-14T22:14:17.785277",
     "exception": false,
     "start_time": "2021-05-14T22:14:17.705417",
     "status": "completed"
    },
    "tags": [
     "parameters"
    ]
   },
   "outputs": [],
   "source": [
    "mach_number=0.4\n",
    "p=2\n",
    "M=16\n",
    "L=10.0\n",
    "p_geo=2\n",
    "c=\"c_dg\"\n",
    "discretization_type=1\n",
    "form=\"strong\""
   ]
  },
  {
   "cell_type": "code",
   "execution_count": 2,
   "id": "b48f2437",
   "metadata": {
    "execution": {
     "iopub.execute_input": "2021-05-14T22:14:17.800158Z",
     "iopub.status.busy": "2021-05-14T22:14:17.799398Z",
     "iopub.status.idle": "2021-05-14T22:14:17.803891Z",
     "shell.execute_reply": "2021-05-14T22:14:17.803350Z"
    },
    "papermill": {
     "duration": 0.013587,
     "end_time": "2021-05-14T22:14:17.804041",
     "exception": false,
     "start_time": "2021-05-14T22:14:17.790454",
     "status": "completed"
    },
    "tags": [
     "injected-parameters"
    ]
   },
   "outputs": [],
   "source": [
    "# Parameters\n",
    "mach_number = 0.4\n",
    "p = 4\n",
    "p_geo = 4\n",
    "c = \"c_+\"\n",
    "discretization_type = 3\n",
    "form = \"strong\"\n"
   ]
  },
  {
   "cell_type": "code",
   "execution_count": 3,
   "id": "d7f93cbe",
   "metadata": {
    "execution": {
     "iopub.execute_input": "2021-05-14T22:14:17.889730Z",
     "iopub.status.busy": "2021-05-14T22:14:17.888918Z",
     "iopub.status.idle": "2021-05-21T17:09:39.307772Z",
     "shell.execute_reply": "2021-05-21T17:09:39.308476Z"
    },
    "papermill": {
     "duration": 586521.500142,
     "end_time": "2021-05-21T17:09:39.308867",
     "exception": false,
     "start_time": "2021-05-14T22:14:17.808725",
     "status": "completed"
    },
    "tags": []
   },
   "outputs": [
    {
     "name": "stdout",
     "output_type": "stream",
     "text": [
      "euler_m04p4cpt3_strong\n"
     ]
    },
    {
     "name": "stdout",
     "output_type": "stream",
     "text": [
      "7.958e-13 &  3.300e-03  \\\\\n",
      "1.421e-13 &  3.676e-03  \\\\\n",
      "1.759e-12 &  4.036e-03  \\\\\n",
      "1.705e-12 &  3.880e-03  \\\\\n"
     ]
    }
   ],
   "source": [
    "import sys  \n",
    "import numpy as np\n",
    "sys.path.insert(0, '../src')\n",
    "from Driver import euler_driver\n",
    "\n",
    "solver = euler_driver(mach_number=mach_number, \n",
    "                      theta=np.pi/4,\n",
    "                        p=p, M=M, L=L,\n",
    "                        p_geo=p_geo, c=c, \n",
    "                        discretization_type=discretization_type,\n",
    "                        form=form)"
   ]
  },
  {
   "cell_type": "code",
   "execution_count": null,
   "id": "01dbc099",
   "metadata": {
    "papermill": {
     "duration": 0.005642,
     "end_time": "2021-05-21T17:09:39.320853",
     "exception": false,
     "start_time": "2021-05-21T17:09:39.315211",
     "status": "completed"
    },
    "tags": []
   },
   "outputs": [],
   "source": []
  }
 ],
 "metadata": {
  "celltoolbar": "Tags",
  "kernelspec": {
   "display_name": "Python 3",
   "language": "python",
   "name": "python3"
  },
  "language_info": {
   "codemirror_mode": {
    "name": "ipython",
    "version": 3
   },
   "file_extension": ".py",
   "mimetype": "text/x-python",
   "name": "python",
   "nbconvert_exporter": "python",
   "pygments_lexer": "ipython3",
   "version": "3.8.5"
  },
  "papermill": {
   "default_parameters": {},
   "duration": 586523.667581,
   "end_time": "2021-05-21T17:09:39.938794",
   "environment_variables": {},
   "exception": null,
   "input_path": "euler_driver.ipynb",
   "output_path": "euler_m04p4cpt3_strong.ipynb",
   "parameters": {
    "c": "c_+",
    "discretization_type": 3,
    "form": "strong",
    "mach_number": 0.4,
    "p": 4,
    "p_geo": 4
   },
   "start_time": "2021-05-14T22:14:16.271213",
   "version": "2.3.3"
  }
 },
 "nbformat": 4,
 "nbformat_minor": 5
}