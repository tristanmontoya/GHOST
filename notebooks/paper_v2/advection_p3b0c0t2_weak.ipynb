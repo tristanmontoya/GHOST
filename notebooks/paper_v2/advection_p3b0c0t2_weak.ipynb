{
 "cells": [
  {
   "cell_type": "code",
   "execution_count": 1,
   "id": "9768d2c5",
   "metadata": {
    "execution": {
     "iopub.execute_input": "2021-05-11T05:21:34.258896Z",
     "iopub.status.busy": "2021-05-11T05:21:34.258223Z",
     "iopub.status.idle": "2021-05-11T05:21:34.260904Z",
     "shell.execute_reply": "2021-05-11T05:21:34.260295Z"
    },
    "papermill": {
     "duration": 0.019932,
     "end_time": "2021-05-11T05:21:34.261065",
     "exception": false,
     "start_time": "2021-05-11T05:21:34.241133",
     "status": "completed"
    },
    "tags": [
     "parameters"
    ]
   },
   "outputs": [],
   "source": [
    "p=2\n",
    "M=10\n",
    "L=1\n",
    "p_geo=1\n",
    "c=\"c_dg\"\n",
    "discretization_type=1\n",
    "upwind_parameter=1.0\n",
    "form=\"strong\""
   ]
  },
  {
   "cell_type": "code",
   "execution_count": 2,
   "id": "0e756c17",
   "metadata": {
    "execution": {
     "iopub.execute_input": "2021-05-11T05:21:34.323392Z",
     "iopub.status.busy": "2021-05-11T05:21:34.322182Z",
     "iopub.status.idle": "2021-05-11T05:21:34.323980Z",
     "shell.execute_reply": "2021-05-11T05:21:34.322785Z"
    },
    "papermill": {
     "duration": 0.04965,
     "end_time": "2021-05-11T05:21:34.324125",
     "exception": false,
     "start_time": "2021-05-11T05:21:34.274475",
     "status": "completed"
    },
    "tags": [
     "injected-parameters"
    ]
   },
   "outputs": [],
   "source": [
    "# Parameters\n",
    "p = 3\n",
    "p_geo = 1\n",
    "upwind_parameter = 0.0\n",
    "c = \"c_dg\"\n",
    "discretization_type = 2\n",
    "form = \"weak\"\n"
   ]
  },
  {
   "cell_type": "code",
   "execution_count": 3,
   "id": "9c917cca",
   "metadata": {
    "execution": {
     "iopub.execute_input": "2021-05-11T05:21:34.420152Z",
     "iopub.status.busy": "2021-05-11T05:21:34.419502Z",
     "iopub.status.idle": "2021-05-11T07:15:29.276306Z",
     "shell.execute_reply": "2021-05-11T07:15:29.275568Z"
    },
    "papermill": {
     "duration": 6834.916461,
     "end_time": "2021-05-11T07:15:29.276519",
     "exception": false,
     "start_time": "2021-05-11T05:21:34.360058",
     "status": "completed"
    },
    "tags": []
   },
   "outputs": [
    {
     "name": "stderr",
     "output_type": "stream",
     "text": [
      "WARNING:root:msh4 requires 3D points, but 2D points given. Appending 0 third component.\n"
     ]
    },
    {
     "name": "stderr",
     "output_type": "stream",
     "text": [
      "WARNING:root:Binary Gmsh needs c_size_t (got int64). Converting.\n"
     ]
    },
    {
     "name": "stdout",
     "output_type": "stream",
     "text": [
      "advection_p3b0c0t2_weak\n"
     ]
    },
    {
     "name": "stdout",
     "output_type": "stream",
     "text": [
      "-7.989e-16 &  -4.996e-16 & 4.573e-03  \\\\\n"
     ]
    }
   ],
   "source": [
    "import sys  \n",
    "import numpy as np\n",
    "sys.path.insert(0, '../src')\n",
    "from Driver import advection_driver\n",
    "\n",
    "solver = advection_driver(a=np.sqrt(2), theta=np.pi/4, p=p, M=M, L=L,\n",
    "                        p_geo=p_geo, c=c, \n",
    "                        discretization_type=discretization_type,\n",
    "                        upwind_parameter=upwind_parameter,\n",
    "                        form=form)"
   ]
  },
  {
   "cell_type": "code",
   "execution_count": null,
   "id": "7dba596f",
   "metadata": {
    "papermill": {
     "duration": 0.008371,
     "end_time": "2021-05-11T07:15:29.293624",
     "exception": false,
     "start_time": "2021-05-11T07:15:29.285253",
     "status": "completed"
    },
    "tags": []
   },
   "outputs": [],
   "source": []
  }
 ],
 "metadata": {
  "celltoolbar": "Tags",
  "kernelspec": {
   "display_name": "Python 3",
   "language": "python",
   "name": "python3"
  },
  "language_info": {
   "codemirror_mode": {
    "name": "ipython",
    "version": 3
   },
   "file_extension": ".py",
   "mimetype": "text/x-python",
   "name": "python",
   "nbconvert_exporter": "python",
   "pygments_lexer": "ipython3",
   "version": "3.8.5"
  },
  "papermill": {
   "default_parameters": {},
   "duration": 6837.308321,
   "end_time": "2021-05-11T07:15:30.014875",
   "environment_variables": {},
   "exception": null,
   "input_path": "advection_driver.ipynb",
   "output_path": "advection_p3b0c0t2_weak.ipynb",
   "parameters": {
    "c": "c_dg",
    "discretization_type": 2,
    "form": "weak",
    "p": 3,
    "p_geo": 1,
    "upwind_parameter": 0.0
   },
   "start_time": "2021-05-11T05:21:32.706554",
   "version": "2.3.3"
  }
 },
 "nbformat": 4,
 "nbformat_minor": 5
}