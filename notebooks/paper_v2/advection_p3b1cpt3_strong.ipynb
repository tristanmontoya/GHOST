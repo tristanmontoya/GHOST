{
 "cells": [
  {
   "cell_type": "code",
   "execution_count": 1,
   "id": "80d06739",
   "metadata": {
    "execution": {
     "iopub.execute_input": "2021-05-11T05:21:33.976699Z",
     "iopub.status.busy": "2021-05-11T05:21:33.975872Z",
     "iopub.status.idle": "2021-05-11T05:21:33.983679Z",
     "shell.execute_reply": "2021-05-11T05:21:33.983054Z"
    },
    "papermill": {
     "duration": 0.029131,
     "end_time": "2021-05-11T05:21:33.983842",
     "exception": false,
     "start_time": "2021-05-11T05:21:33.954711",
     "status": "completed"
    },
    "tags": [
     "parameters"
    ]
   },
   "outputs": [],
   "source": [
    "p=2\n",
    "M=10\n",
    "L=1\n",
    "p_geo=1\n",
    "c=\"c_dg\"\n",
    "discretization_type=1\n",
    "upwind_parameter=1.0\n",
    "form=\"strong\""
   ]
  },
  {
   "cell_type": "code",
   "execution_count": 2,
   "id": "9a81c8b4",
   "metadata": {
    "execution": {
     "iopub.execute_input": "2021-05-11T05:21:33.997722Z",
     "iopub.status.busy": "2021-05-11T05:21:33.997127Z",
     "iopub.status.idle": "2021-05-11T05:21:34.000503Z",
     "shell.execute_reply": "2021-05-11T05:21:33.999837Z"
    },
    "papermill": {
     "duration": 0.011903,
     "end_time": "2021-05-11T05:21:34.000678",
     "exception": false,
     "start_time": "2021-05-11T05:21:33.988775",
     "status": "completed"
    },
    "tags": [
     "injected-parameters"
    ]
   },
   "outputs": [],
   "source": [
    "# Parameters\n",
    "p = 3\n",
    "p_geo = 1\n",
    "upwind_parameter = 1.0\n",
    "c = \"c_+\"\n",
    "discretization_type = 3\n",
    "form = \"strong\"\n"
   ]
  },
  {
   "cell_type": "code",
   "execution_count": 3,
   "id": "5a4330a3",
   "metadata": {
    "execution": {
     "iopub.execute_input": "2021-05-11T05:21:34.044367Z",
     "iopub.status.busy": "2021-05-11T05:21:34.043693Z",
     "iopub.status.idle": "2021-05-11T07:52:56.802158Z",
     "shell.execute_reply": "2021-05-11T07:52:56.802832Z"
    },
    "papermill": {
     "duration": 9082.77739,
     "end_time": "2021-05-11T07:52:56.803113",
     "exception": false,
     "start_time": "2021-05-11T05:21:34.025723",
     "status": "completed"
    },
    "tags": []
   },
   "outputs": [
    {
     "name": "stderr",
     "output_type": "stream",
     "text": [
      "WARNING:root:msh4 requires 3D points, but 2D points given. Appending 0 third component.\n"
     ]
    },
    {
     "name": "stderr",
     "output_type": "stream",
     "text": [
      "WARNING:root:Binary Gmsh needs c_size_t (got int64). Converting.\n"
     ]
    },
    {
     "name": "stdout",
     "output_type": "stream",
     "text": [
      "advection_p3b1cpt3_strong\n"
     ]
    },
    {
     "name": "stdout",
     "output_type": "stream",
     "text": [
      "-1.295e-15 &  -5.092e-04 & 3.279e-03  \\\\\n"
     ]
    }
   ],
   "source": [
    "import sys  \n",
    "import numpy as np\n",
    "sys.path.insert(0, '../src')\n",
    "from Driver import advection_driver\n",
    "\n",
    "solver = advection_driver(a=np.sqrt(2), theta=np.pi/4, p=p, M=M, L=L,\n",
    "                        p_geo=p_geo, c=c, \n",
    "                        discretization_type=discretization_type,\n",
    "                        upwind_parameter=upwind_parameter,\n",
    "                        form=form)"
   ]
  },
  {
   "cell_type": "code",
   "execution_count": null,
   "id": "f96df057",
   "metadata": {
    "papermill": {
     "duration": 0.007893,
     "end_time": "2021-05-11T07:52:56.819282",
     "exception": false,
     "start_time": "2021-05-11T07:52:56.811389",
     "status": "completed"
    },
    "tags": []
   },
   "outputs": [],
   "source": []
  }
 ],
 "metadata": {
  "celltoolbar": "Tags",
  "kernelspec": {
   "display_name": "Python 3",
   "language": "python",
   "name": "python3"
  },
  "language_info": {
   "codemirror_mode": {
    "name": "ipython",
    "version": 3
   },
   "file_extension": ".py",
   "mimetype": "text/x-python",
   "name": "python",
   "nbconvert_exporter": "python",
   "pygments_lexer": "ipython3",
   "version": "3.8.5"
  },
  "papermill": {
   "default_parameters": {},
   "duration": 9085.275863,
   "end_time": "2021-05-11T07:52:58.070476",
   "environment_variables": {},
   "exception": null,
   "input_path": "advection_driver.ipynb",
   "output_path": "advection_p3b1cpt3_strong.ipynb",
   "parameters": {
    "c": "c_+",
    "discretization_type": 3,
    "form": "strong",
    "p": 3,
    "p_geo": 1,
    "upwind_parameter": 1.0
   },
   "start_time": "2021-05-11T05:21:32.794613",
   "version": "2.3.3"
  }
 },
 "nbformat": 4,
 "nbformat_minor": 5
}