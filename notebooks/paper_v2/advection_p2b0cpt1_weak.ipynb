{
 "cells": [
  {
   "cell_type": "code",
   "execution_count": 1,
   "id": "74d7d7e2",
   "metadata": {
    "execution": {
     "iopub.execute_input": "2021-05-11T03:10:11.210145Z",
     "iopub.status.busy": "2021-05-11T03:10:11.208803Z",
     "iopub.status.idle": "2021-05-11T03:10:11.210761Z",
     "shell.execute_reply": "2021-05-11T03:10:11.209452Z"
    },
    "papermill": {
     "duration": 0.03976,
     "end_time": "2021-05-11T03:10:11.211075",
     "exception": false,
     "start_time": "2021-05-11T03:10:11.171315",
     "status": "completed"
    },
    "tags": [
     "parameters"
    ]
   },
   "outputs": [],
   "source": [
    "p=2\n",
    "M=10\n",
    "L=1\n",
    "p_geo=1\n",
    "c=\"c_dg\"\n",
    "discretization_type=1\n",
    "upwind_parameter=1.0\n",
    "form=\"strong\""
   ]
  },
  {
   "cell_type": "code",
   "execution_count": 2,
   "id": "58f0ea6b",
   "metadata": {
    "execution": {
     "iopub.execute_input": "2021-05-11T03:10:11.249631Z",
     "iopub.status.busy": "2021-05-11T03:10:11.248454Z",
     "iopub.status.idle": "2021-05-11T03:10:11.250243Z",
     "shell.execute_reply": "2021-05-11T03:10:11.249071Z"
    },
    "papermill": {
     "duration": 0.03417,
     "end_time": "2021-05-11T03:10:11.250384",
     "exception": false,
     "start_time": "2021-05-11T03:10:11.216214",
     "status": "completed"
    },
    "tags": [
     "injected-parameters"
    ]
   },
   "outputs": [],
   "source": [
    "# Parameters\n",
    "p = 2\n",
    "p_geo = 1\n",
    "upwind_parameter = 0.0\n",
    "c = \"c_+\"\n",
    "discretization_type = 1\n",
    "form = \"weak\"\n"
   ]
  },
  {
   "cell_type": "code",
   "execution_count": 3,
   "id": "fcd2f7c1",
   "metadata": {
    "execution": {
     "iopub.execute_input": "2021-05-11T03:10:11.336780Z",
     "iopub.status.busy": "2021-05-11T03:10:11.336134Z",
     "iopub.status.idle": "2021-05-11T04:34:04.382616Z",
     "shell.execute_reply": "2021-05-11T04:34:04.383298Z"
    },
    "papermill": {
     "duration": 5033.083203,
     "end_time": "2021-05-11T04:34:04.383533",
     "exception": false,
     "start_time": "2021-05-11T03:10:11.300330",
     "status": "completed"
    },
    "tags": []
   },
   "outputs": [
    {
     "name": "stderr",
     "output_type": "stream",
     "text": [
      "WARNING:root:msh4 requires 3D points, but 2D points given. Appending 0 third component.\n"
     ]
    },
    {
     "name": "stderr",
     "output_type": "stream",
     "text": [
      "WARNING:root:Binary Gmsh needs c_size_t (got int64). Converting.\n"
     ]
    },
    {
     "name": "stdout",
     "output_type": "stream",
     "text": [
      "advection_p2b0cpt1_weak\n"
     ]
    },
    {
     "name": "stdout",
     "output_type": "stream",
     "text": [
      "-8.015e-16 &  3.331e-16 & 1.106e-01  \\\\\n"
     ]
    }
   ],
   "source": [
    "import sys  \n",
    "import numpy as np\n",
    "sys.path.insert(0, '../src')\n",
    "from Driver import advection_driver\n",
    "\n",
    "solver = advection_driver(a=np.sqrt(2), theta=np.pi/4, p=p, M=M, L=L,\n",
    "                        p_geo=p_geo, c=c, \n",
    "                        discretization_type=discretization_type,\n",
    "                        upwind_parameter=upwind_parameter,\n",
    "                        form=form)"
   ]
  },
  {
   "cell_type": "code",
   "execution_count": null,
   "id": "4588394d",
   "metadata": {
    "papermill": {
     "duration": 0.008308,
     "end_time": "2021-05-11T04:34:04.400358",
     "exception": false,
     "start_time": "2021-05-11T04:34:04.392050",
     "status": "completed"
    },
    "tags": []
   },
   "outputs": [],
   "source": []
  }
 ],
 "metadata": {
  "celltoolbar": "Tags",
  "kernelspec": {
   "display_name": "Python 3",
   "language": "python",
   "name": "python3"
  },
  "language_info": {
   "codemirror_mode": {
    "name": "ipython",
    "version": 3
   },
   "file_extension": ".py",
   "mimetype": "text/x-python",
   "name": "python",
   "nbconvert_exporter": "python",
   "pygments_lexer": "ipython3",
   "version": "3.8.5"
  },
  "papermill": {
   "default_parameters": {},
   "duration": 5035.127187,
   "end_time": "2021-05-11T04:34:04.918941",
   "environment_variables": {},
   "exception": null,
   "input_path": "advection_driver.ipynb",
   "output_path": "advection_p2b0cpt1_weak.ipynb",
   "parameters": {
    "c": "c_+",
    "discretization_type": 1,
    "form": "weak",
    "p": 2,
    "p_geo": 1,
    "upwind_parameter": 0.0
   },
   "start_time": "2021-05-11T03:10:09.791754",
   "version": "2.3.3"
  }
 },
 "nbformat": 4,
 "nbformat_minor": 5
}