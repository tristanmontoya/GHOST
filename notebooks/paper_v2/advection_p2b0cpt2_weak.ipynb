{
 "cells": [
  {
   "cell_type": "code",
   "execution_count": 1,
   "id": "1f58af8c",
   "metadata": {
    "execution": {
     "iopub.execute_input": "2021-05-11T03:10:11.538087Z",
     "iopub.status.busy": "2021-05-11T03:10:11.437123Z",
     "iopub.status.idle": "2021-05-11T03:10:11.538936Z",
     "shell.execute_reply": "2021-05-11T03:10:11.539523Z"
    },
    "papermill": {
     "duration": 0.122222,
     "end_time": "2021-05-11T03:10:11.540197",
     "exception": false,
     "start_time": "2021-05-11T03:10:11.417975",
     "status": "completed"
    },
    "tags": [
     "parameters"
    ]
   },
   "outputs": [],
   "source": [
    "p=2\n",
    "M=10\n",
    "L=1\n",
    "p_geo=1\n",
    "c=\"c_dg\"\n",
    "discretization_type=1\n",
    "upwind_parameter=1.0\n",
    "form=\"strong\""
   ]
  },
  {
   "cell_type": "code",
   "execution_count": 2,
   "id": "ad3c3a01",
   "metadata": {
    "execution": {
     "iopub.execute_input": "2021-05-11T03:10:11.604555Z",
     "iopub.status.busy": "2021-05-11T03:10:11.603396Z",
     "iopub.status.idle": "2021-05-11T03:10:11.605139Z",
     "shell.execute_reply": "2021-05-11T03:10:11.603967Z"
    },
    "papermill": {
     "duration": 0.06,
     "end_time": "2021-05-11T03:10:11.605277",
     "exception": false,
     "start_time": "2021-05-11T03:10:11.545277",
     "status": "completed"
    },
    "tags": [
     "injected-parameters"
    ]
   },
   "outputs": [],
   "source": [
    "# Parameters\n",
    "p = 2\n",
    "p_geo = 1\n",
    "upwind_parameter = 0.0\n",
    "c = \"c_+\"\n",
    "discretization_type = 2\n",
    "form = \"weak\"\n"
   ]
  },
  {
   "cell_type": "code",
   "execution_count": 3,
   "id": "ace65d48",
   "metadata": {
    "execution": {
     "iopub.execute_input": "2021-05-11T03:10:11.667198Z",
     "iopub.status.busy": "2021-05-11T03:10:11.666548Z",
     "iopub.status.idle": "2021-05-11T04:36:57.049562Z",
     "shell.execute_reply": "2021-05-11T04:36:57.050084Z"
    },
    "papermill": {
     "duration": 5205.429372,
     "end_time": "2021-05-11T04:36:57.050293",
     "exception": false,
     "start_time": "2021-05-11T03:10:11.620921",
     "status": "completed"
    },
    "tags": []
   },
   "outputs": [
    {
     "name": "stderr",
     "output_type": "stream",
     "text": [
      "WARNING:root:msh4 requires 3D points, but 2D points given. Appending 0 third component.\n"
     ]
    },
    {
     "name": "stderr",
     "output_type": "stream",
     "text": [
      "WARNING:root:Binary Gmsh needs c_size_t (got int64). Converting.\n"
     ]
    },
    {
     "name": "stdout",
     "output_type": "stream",
     "text": [
      "advection_p2b0cpt2_weak\n"
     ]
    },
    {
     "name": "stdout",
     "output_type": "stream",
     "text": [
      "-4.517e-16 &  -5.829e-16 & 1.105e-01  \\\\\n"
     ]
    }
   ],
   "source": [
    "import sys  \n",
    "import numpy as np\n",
    "sys.path.insert(0, '../src')\n",
    "from Driver import advection_driver\n",
    "\n",
    "solver = advection_driver(a=np.sqrt(2), theta=np.pi/4, p=p, M=M, L=L,\n",
    "                        p_geo=p_geo, c=c, \n",
    "                        discretization_type=discretization_type,\n",
    "                        upwind_parameter=upwind_parameter,\n",
    "                        form=form)"
   ]
  },
  {
   "cell_type": "code",
   "execution_count": null,
   "id": "a78743ff",
   "metadata": {
    "papermill": {
     "duration": 0.006038,
     "end_time": "2021-05-11T04:36:57.062735",
     "exception": false,
     "start_time": "2021-05-11T04:36:57.056697",
     "status": "completed"
    },
    "tags": []
   },
   "outputs": [],
   "source": []
  }
 ],
 "metadata": {
  "celltoolbar": "Tags",
  "kernelspec": {
   "display_name": "Python 3",
   "language": "python",
   "name": "python3"
  },
  "language_info": {
   "codemirror_mode": {
    "name": "ipython",
    "version": 3
   },
   "file_extension": ".py",
   "mimetype": "text/x-python",
   "name": "python",
   "nbconvert_exporter": "python",
   "pygments_lexer": "ipython3",
   "version": "3.8.5"
  },
  "papermill": {
   "default_parameters": {},
   "duration": 5208.505884,
   "end_time": "2021-05-11T04:36:58.295831",
   "environment_variables": {},
   "exception": null,
   "input_path": "advection_driver.ipynb",
   "output_path": "advection_p2b0cpt2_weak.ipynb",
   "parameters": {
    "c": "c_+",
    "discretization_type": 2,
    "form": "weak",
    "p": 2,
    "p_geo": 1,
    "upwind_parameter": 0.0
   },
   "start_time": "2021-05-11T03:10:09.789947",
   "version": "2.3.3"
  }
 },
 "nbformat": 4,
 "nbformat_minor": 5
}