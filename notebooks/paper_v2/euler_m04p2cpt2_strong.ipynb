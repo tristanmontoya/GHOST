{
 "cells": [
  {
   "cell_type": "code",
   "execution_count": 1,
   "id": "6c2044e1",
   "metadata": {
    "execution": {
     "iopub.execute_input": "2021-05-14T22:14:03.902407Z",
     "iopub.status.busy": "2021-05-14T22:14:03.901734Z",
     "iopub.status.idle": "2021-05-14T22:14:03.904264Z",
     "shell.execute_reply": "2021-05-14T22:14:03.904741Z"
    },
    "papermill": {
     "duration": 0.018855,
     "end_time": "2021-05-14T22:14:03.904998",
     "exception": false,
     "start_time": "2021-05-14T22:14:03.886143",
     "status": "completed"
    },
    "tags": [
     "parameters"
    ]
   },
   "outputs": [],
   "source": [
    "mach_number=0.4\n",
    "p=2\n",
    "M=16\n",
    "L=10.0\n",
    "p_geo=2\n",
    "c=\"c_dg\"\n",
    "discretization_type=1\n",
    "form=\"strong\""
   ]
  },
  {
   "cell_type": "code",
   "execution_count": 2,
   "id": "1baeda0b",
   "metadata": {
    "execution": {
     "iopub.execute_input": "2021-05-14T22:14:03.932876Z",
     "iopub.status.busy": "2021-05-14T22:14:03.932266Z",
     "iopub.status.idle": "2021-05-14T22:14:03.935228Z",
     "shell.execute_reply": "2021-05-14T22:14:03.934637Z"
    },
    "papermill": {
     "duration": 0.025464,
     "end_time": "2021-05-14T22:14:03.935354",
     "exception": false,
     "start_time": "2021-05-14T22:14:03.909890",
     "status": "completed"
    },
    "tags": [
     "injected-parameters"
    ]
   },
   "outputs": [],
   "source": [
    "# Parameters\n",
    "mach_number = 0.4\n",
    "p = 2\n",
    "p_geo = 2\n",
    "c = \"c_+\"\n",
    "discretization_type = 2\n",
    "form = \"strong\"\n"
   ]
  },
  {
   "cell_type": "code",
   "execution_count": 3,
   "id": "3fd3e3ca",
   "metadata": {
    "execution": {
     "iopub.execute_input": "2021-05-14T22:14:03.951162Z",
     "iopub.status.busy": "2021-05-14T22:14:03.950390Z",
     "iopub.status.idle": "2021-05-17T06:48:41.993626Z",
     "shell.execute_reply": "2021-05-17T06:48:41.994252Z"
    },
    "papermill": {
     "duration": 203678.054669,
     "end_time": "2021-05-17T06:48:41.994508",
     "exception": false,
     "start_time": "2021-05-14T22:14:03.939839",
     "status": "completed"
    },
    "tags": []
   },
   "outputs": [
    {
     "name": "stdout",
     "output_type": "stream",
     "text": [
      "euler_m04p2cpt2_strong\n"
     ]
    },
    {
     "name": "stdout",
     "output_type": "stream",
     "text": [
      "5.116e-13 &  5.477e-02  \\\\\n",
      "-4.263e-14 &  1.825e-01  \\\\\n",
      "2.512e-12 &  1.329e-01  \\\\\n",
      "1.705e-12 &  1.536e-01  \\\\\n"
     ]
    }
   ],
   "source": [
    "import sys  \n",
    "import numpy as np\n",
    "sys.path.insert(0, '../src')\n",
    "from Driver import euler_driver\n",
    "\n",
    "solver = euler_driver(mach_number=mach_number, \n",
    "                      theta=np.pi/4,\n",
    "                        p=p, M=M, L=L,\n",
    "                        p_geo=p_geo, c=c, \n",
    "                        discretization_type=discretization_type,\n",
    "                        form=form)"
   ]
  },
  {
   "cell_type": "code",
   "execution_count": null,
   "id": "fe50cd04",
   "metadata": {
    "papermill": {
     "duration": 0.005711,
     "end_time": "2021-05-17T06:48:42.006735",
     "exception": false,
     "start_time": "2021-05-17T06:48:42.001024",
     "status": "completed"
    },
    "tags": []
   },
   "outputs": [],
   "source": []
  }
 ],
 "metadata": {
  "celltoolbar": "Tags",
  "kernelspec": {
   "display_name": "Python 3",
   "language": "python",
   "name": "python3"
  },
  "language_info": {
   "codemirror_mode": {
    "name": "ipython",
    "version": 3
   },
   "file_extension": ".py",
   "mimetype": "text/x-python",
   "name": "python",
   "nbconvert_exporter": "python",
   "pygments_lexer": "ipython3",
   "version": "3.8.5"
  },
  "papermill": {
   "default_parameters": {},
   "duration": 203680.654871,
   "end_time": "2021-05-17T06:48:43.371731",
   "environment_variables": {},
   "exception": null,
   "input_path": "euler_driver.ipynb",
   "output_path": "euler_m04p2cpt2_strong.ipynb",
   "parameters": {
    "c": "c_+",
    "discretization_type": 2,
    "form": "strong",
    "mach_number": 0.4,
    "p": 2,
    "p_geo": 2
   },
   "start_time": "2021-05-14T22:14:02.716860",
   "version": "2.3.3"
  }
 },
 "nbformat": 4,
 "nbformat_minor": 5
}