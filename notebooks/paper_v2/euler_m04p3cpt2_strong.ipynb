{
 "cells": [
  {
   "cell_type": "code",
   "execution_count": 1,
   "id": "d2e74d0e",
   "metadata": {
    "execution": {
     "iopub.execute_input": "2021-05-18T18:50:49.113937Z",
     "iopub.status.busy": "2021-05-18T18:50:49.113246Z",
     "iopub.status.idle": "2021-05-18T18:50:49.116149Z",
     "shell.execute_reply": "2021-05-18T18:50:49.115411Z"
    },
    "papermill": {
     "duration": 0.021739,
     "end_time": "2021-05-18T18:50:49.116323",
     "exception": false,
     "start_time": "2021-05-18T18:50:49.094584",
     "status": "completed"
    },
    "tags": [
     "parameters"
    ]
   },
   "outputs": [],
   "source": [
    "mach_number=0.4\n",
    "p=2\n",
    "M=16\n",
    "L=10.0\n",
    "p_geo=2\n",
    "c=\"c_dg\"\n",
    "discretization_type=1\n",
    "form=\"strong\""
   ]
  },
  {
   "cell_type": "code",
   "execution_count": 2,
   "id": "78d2d485",
   "metadata": {
    "execution": {
     "iopub.execute_input": "2021-05-18T18:50:49.134159Z",
     "iopub.status.busy": "2021-05-18T18:50:49.133458Z",
     "iopub.status.idle": "2021-05-18T18:50:49.135350Z",
     "shell.execute_reply": "2021-05-18T18:50:49.135850Z"
    },
    "papermill": {
     "duration": 0.013528,
     "end_time": "2021-05-18T18:50:49.136053",
     "exception": false,
     "start_time": "2021-05-18T18:50:49.122525",
     "status": "completed"
    },
    "tags": [
     "injected-parameters"
    ]
   },
   "outputs": [],
   "source": [
    "# Parameters\n",
    "mach_number = 0.4\n",
    "p = 3\n",
    "p_geo = 3\n",
    "c = \"c_+\"\n",
    "discretization_type = 2\n",
    "form = \"strong\"\n"
   ]
  },
  {
   "cell_type": "code",
   "execution_count": 3,
   "id": "31cfc4db",
   "metadata": {
    "execution": {
     "iopub.execute_input": "2021-05-18T18:50:49.153567Z",
     "iopub.status.busy": "2021-05-18T18:50:49.152663Z",
     "iopub.status.idle": "2021-05-22T15:24:55.391235Z",
     "shell.execute_reply": "2021-05-22T15:24:55.391764Z"
    },
    "papermill": {
     "duration": 333246.250961,
     "end_time": "2021-05-22T15:24:55.392032",
     "exception": false,
     "start_time": "2021-05-18T18:50:49.141071",
     "status": "completed"
    },
    "tags": []
   },
   "outputs": [
    {
     "name": "stdout",
     "output_type": "stream",
     "text": [
      "euler_m04p3cpt2_strong\n"
     ]
    },
    {
     "name": "stdout",
     "output_type": "stream",
     "text": [
      "-1.279e-13 &  1.383e-02  \\\\\n",
      "-2.100e-12 &  3.160e-02  \\\\\n",
      "1.794e-12 &  3.980e-02  \\\\\n",
      "-4.263e-13 &  2.924e-02  \\\\\n"
     ]
    }
   ],
   "source": [
    "import sys  \n",
    "import numpy as np\n",
    "sys.path.insert(0, '../src')\n",
    "from Driver import euler_driver\n",
    "\n",
    "solver = euler_driver(mach_number=mach_number, \n",
    "                      theta=np.pi/4,\n",
    "                        p=p, M=M, L=L,\n",
    "                        p_geo=p_geo, c=c, \n",
    "                        discretization_type=discretization_type,\n",
    "                        form=form)"
   ]
  },
  {
   "cell_type": "code",
   "execution_count": null,
   "id": "837831fa",
   "metadata": {
    "papermill": {
     "duration": 0.005098,
     "end_time": "2021-05-22T15:24:55.402539",
     "exception": false,
     "start_time": "2021-05-22T15:24:55.397441",
     "status": "completed"
    },
    "tags": []
   },
   "outputs": [],
   "source": []
  }
 ],
 "metadata": {
  "celltoolbar": "Tags",
  "kernelspec": {
   "display_name": "Python 3",
   "language": "python",
   "name": "python3"
  },
  "language_info": {
   "codemirror_mode": {
    "name": "ipython",
    "version": 3
   },
   "file_extension": ".py",
   "mimetype": "text/x-python",
   "name": "python",
   "nbconvert_exporter": "python",
   "pygments_lexer": "ipython3",
   "version": "3.8.5"
  },
  "papermill": {
   "default_parameters": {},
   "duration": 333248.481013,
   "end_time": "2021-05-22T15:24:55.916332",
   "environment_variables": {},
   "exception": null,
   "input_path": "euler_driver.ipynb",
   "output_path": "euler_m04p3cpt2_strong.ipynb",
   "parameters": {
    "c": "c_+",
    "discretization_type": 2,
    "form": "strong",
    "mach_number": 0.4,
    "p": 3,
    "p_geo": 3
   },
   "start_time": "2021-05-18T18:50:47.435319",
   "version": "2.3.3"
  }
 },
 "nbformat": 4,
 "nbformat_minor": 5
}