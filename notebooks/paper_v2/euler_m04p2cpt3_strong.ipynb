{
 "cells": [
  {
   "cell_type": "code",
   "execution_count": 1,
   "id": "3ad340ec",
   "metadata": {
    "execution": {
     "iopub.execute_input": "2021-05-14T22:14:03.970378Z",
     "iopub.status.busy": "2021-05-14T22:14:03.969714Z",
     "iopub.status.idle": "2021-05-14T22:14:03.971845Z",
     "shell.execute_reply": "2021-05-14T22:14:03.972395Z"
    },
    "papermill": {
     "duration": 0.018232,
     "end_time": "2021-05-14T22:14:03.972670",
     "exception": false,
     "start_time": "2021-05-14T22:14:03.954438",
     "status": "completed"
    },
    "tags": [
     "parameters"
    ]
   },
   "outputs": [],
   "source": [
    "mach_number=0.4\n",
    "p=2\n",
    "M=16\n",
    "L=10.0\n",
    "p_geo=2\n",
    "c=\"c_dg\"\n",
    "discretization_type=1\n",
    "form=\"strong\""
   ]
  },
  {
   "cell_type": "code",
   "execution_count": 2,
   "id": "3d7f294b",
   "metadata": {
    "execution": {
     "iopub.execute_input": "2021-05-14T22:14:03.999064Z",
     "iopub.status.busy": "2021-05-14T22:14:03.998411Z",
     "iopub.status.idle": "2021-05-14T22:14:03.999799Z",
     "shell.execute_reply": "2021-05-14T22:14:04.000364Z"
    },
    "papermill": {
     "duration": 0.022424,
     "end_time": "2021-05-14T22:14:04.000545",
     "exception": false,
     "start_time": "2021-05-14T22:14:03.978121",
     "status": "completed"
    },
    "tags": [
     "injected-parameters"
    ]
   },
   "outputs": [],
   "source": [
    "# Parameters\n",
    "mach_number = 0.4\n",
    "p = 2\n",
    "p_geo = 2\n",
    "c = \"c_+\"\n",
    "discretization_type = 3\n",
    "form = \"strong\"\n"
   ]
  },
  {
   "cell_type": "code",
   "execution_count": 3,
   "id": "6fb1c572",
   "metadata": {
    "execution": {
     "iopub.execute_input": "2021-05-14T22:14:04.052112Z",
     "iopub.status.busy": "2021-05-14T22:14:04.051285Z",
     "iopub.status.idle": "2021-05-17T06:26:45.688188Z",
     "shell.execute_reply": "2021-05-17T06:26:45.688733Z"
    },
    "papermill": {
     "duration": 202361.661117,
     "end_time": "2021-05-17T06:26:45.689305",
     "exception": false,
     "start_time": "2021-05-14T22:14:04.028188",
     "status": "completed"
    },
    "tags": []
   },
   "outputs": [
    {
     "name": "stdout",
     "output_type": "stream",
     "text": [
      "euler_m04p2cpt3_strong\n"
     ]
    },
    {
     "name": "stdout",
     "output_type": "stream",
     "text": [
      "1.847e-13 &  4.257e-02  \\\\\n",
      "-4.725e-13 &  1.370e-01  \\\\\n",
      "1.101e-12 &  1.084e-01  \\\\\n",
      "4.832e-13 &  1.175e-01  \\\\\n"
     ]
    }
   ],
   "source": [
    "import sys  \n",
    "import numpy as np\n",
    "sys.path.insert(0, '../src')\n",
    "from Driver import euler_driver\n",
    "\n",
    "solver = euler_driver(mach_number=mach_number, \n",
    "                      theta=np.pi/4,\n",
    "                        p=p, M=M, L=L,\n",
    "                        p_geo=p_geo, c=c, \n",
    "                        discretization_type=discretization_type,\n",
    "                        form=form)"
   ]
  },
  {
   "cell_type": "code",
   "execution_count": null,
   "id": "8b5f642a",
   "metadata": {
    "papermill": {
     "duration": 0.005576,
     "end_time": "2021-05-17T06:26:45.701301",
     "exception": false,
     "start_time": "2021-05-17T06:26:45.695725",
     "status": "completed"
    },
    "tags": []
   },
   "outputs": [],
   "source": []
  }
 ],
 "metadata": {
  "celltoolbar": "Tags",
  "kernelspec": {
   "display_name": "Python 3",
   "language": "python",
   "name": "python3"
  },
  "language_info": {
   "codemirror_mode": {
    "name": "ipython",
    "version": 3
   },
   "file_extension": ".py",
   "mimetype": "text/x-python",
   "name": "python",
   "nbconvert_exporter": "python",
   "pygments_lexer": "ipython3",
   "version": "3.8.5"
  },
  "papermill": {
   "default_parameters": {},
   "duration": 202364.252591,
   "end_time": "2021-05-17T06:26:47.048822",
   "environment_variables": {},
   "exception": null,
   "input_path": "euler_driver.ipynb",
   "output_path": "euler_m04p2cpt3_strong.ipynb",
   "parameters": {
    "c": "c_+",
    "discretization_type": 3,
    "form": "strong",
    "mach_number": 0.4,
    "p": 2,
    "p_geo": 2
   },
   "start_time": "2021-05-14T22:14:02.796231",
   "version": "2.3.3"
  }
 },
 "nbformat": 4,
 "nbformat_minor": 5
}