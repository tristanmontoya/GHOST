{
 "cells": [
  {
   "cell_type": "code",
   "execution_count": 1,
   "id": "86025a99",
   "metadata": {
    "execution": {
     "iopub.execute_input": "2021-05-14T14:12:17.995873Z",
     "iopub.status.busy": "2021-05-14T14:12:17.995208Z",
     "iopub.status.idle": "2021-05-14T14:12:17.998411Z",
     "shell.execute_reply": "2021-05-14T14:12:17.997642Z"
    },
    "papermill": {
     "duration": 0.019426,
     "end_time": "2021-05-14T14:12:17.998568",
     "exception": false,
     "start_time": "2021-05-14T14:12:17.979142",
     "status": "completed"
    },
    "tags": [
     "parameters"
    ]
   },
   "outputs": [],
   "source": [
    "p=2\n",
    "M=10\n",
    "L=1\n",
    "p_geo=1\n",
    "c=\"c_dg\"\n",
    "discretization_type=1\n",
    "upwind_parameter=1.0\n",
    "form=\"strong\""
   ]
  },
  {
   "cell_type": "code",
   "execution_count": 2,
   "id": "487eb3e2",
   "metadata": {
    "execution": {
     "iopub.execute_input": "2021-05-14T14:12:18.049398Z",
     "iopub.status.busy": "2021-05-14T14:12:18.048069Z",
     "iopub.status.idle": "2021-05-14T14:12:18.050006Z",
     "shell.execute_reply": "2021-05-14T14:12:18.048754Z"
    },
    "papermill": {
     "duration": 0.04624,
     "end_time": "2021-05-14T14:12:18.050171",
     "exception": false,
     "start_time": "2021-05-14T14:12:18.003931",
     "status": "completed"
    },
    "tags": [
     "injected-parameters"
    ]
   },
   "outputs": [],
   "source": [
    "# Parameters\n",
    "p = 4\n",
    "p_geo = 1\n",
    "upwind_parameter = 1.0\n",
    "c = \"c_dg\"\n",
    "discretization_type = 1\n",
    "form = \"strong\"\n"
   ]
  },
  {
   "cell_type": "code",
   "execution_count": 3,
   "id": "3e99b402",
   "metadata": {
    "execution": {
     "iopub.execute_input": "2021-05-14T14:12:18.121044Z",
     "iopub.status.busy": "2021-05-14T14:12:18.120380Z",
     "iopub.status.idle": "2021-05-14T17:32:48.530742Z",
     "shell.execute_reply": "2021-05-14T17:32:48.531253Z"
    },
    "papermill": {
     "duration": 12030.45489,
     "end_time": "2021-05-14T17:32:48.531471",
     "exception": false,
     "start_time": "2021-05-14T14:12:18.076581",
     "status": "completed"
    },
    "tags": []
   },
   "outputs": [
    {
     "name": "stderr",
     "output_type": "stream",
     "text": [
      "WARNING:root:msh4 requires 3D points, but 2D points given. Appending 0 third component.\n"
     ]
    },
    {
     "name": "stderr",
     "output_type": "stream",
     "text": [
      "WARNING:root:Binary Gmsh needs c_size_t (got int64). Converting.\n"
     ]
    },
    {
     "name": "stdout",
     "output_type": "stream",
     "text": [
      "advection_p4b1c0t1_strong\n"
     ]
    },
    {
     "name": "stdout",
     "output_type": "stream",
     "text": [
      "-9.980e-16 &  -6.593e-07 & 9.538e-05  \\\\\n"
     ]
    }
   ],
   "source": [
    "import sys  \n",
    "import numpy as np\n",
    "sys.path.insert(0, '../src')\n",
    "from Driver import advection_driver\n",
    "\n",
    "solver = advection_driver(a=np.sqrt(2), theta=np.pi/4, p=p, M=M, L=L,\n",
    "                        p_geo=p_geo, c=c, \n",
    "                        discretization_type=discretization_type,\n",
    "                        upwind_parameter=upwind_parameter,\n",
    "                        form=form)"
   ]
  },
  {
   "cell_type": "code",
   "execution_count": null,
   "id": "ac5736f9",
   "metadata": {
    "papermill": {
     "duration": 0.005654,
     "end_time": "2021-05-14T17:32:48.543096",
     "exception": false,
     "start_time": "2021-05-14T17:32:48.537442",
     "status": "completed"
    },
    "tags": []
   },
   "outputs": [],
   "source": []
  }
 ],
 "metadata": {
  "celltoolbar": "Tags",
  "kernelspec": {
   "display_name": "Python 3",
   "language": "python",
   "name": "python3"
  },
  "language_info": {
   "codemirror_mode": {
    "name": "ipython",
    "version": 3
   },
   "file_extension": ".py",
   "mimetype": "text/x-python",
   "name": "python",
   "nbconvert_exporter": "python",
   "pygments_lexer": "ipython3",
   "version": "3.8.5"
  },
  "papermill": {
   "default_parameters": {},
   "duration": 12032.645003,
   "end_time": "2021-05-14T17:32:49.056483",
   "environment_variables": {},
   "exception": null,
   "input_path": "advection_driver.ipynb",
   "output_path": "advection_p4b1c0t1_strong.ipynb",
   "parameters": {
    "c": "c_dg",
    "discretization_type": 1,
    "form": "strong",
    "p": 4,
    "p_geo": 1,
    "upwind_parameter": 1.0
   },
   "start_time": "2021-05-14T14:12:16.411480",
   "version": "2.3.3"
  }
 },
 "nbformat": 4,
 "nbformat_minor": 5
}