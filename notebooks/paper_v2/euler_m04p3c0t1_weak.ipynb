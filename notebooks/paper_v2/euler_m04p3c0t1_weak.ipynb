{
 "cells": [
  {
   "cell_type": "code",
   "execution_count": 1,
   "id": "944d60c2",
   "metadata": {
    "execution": {
     "iopub.execute_input": "2021-05-15T22:50:34.473857Z",
     "iopub.status.busy": "2021-05-15T22:50:34.465974Z",
     "iopub.status.idle": "2021-05-15T22:50:34.477824Z",
     "shell.execute_reply": "2021-05-15T22:50:34.477011Z"
    },
    "papermill": {
     "duration": 0.029225,
     "end_time": "2021-05-15T22:50:34.478020",
     "exception": false,
     "start_time": "2021-05-15T22:50:34.448795",
     "status": "completed"
    },
    "tags": [
     "parameters"
    ]
   },
   "outputs": [],
   "source": [
    "mach_number=0.4\n",
    "p=2\n",
    "M=16\n",
    "L=10.0\n",
    "p_geo=2\n",
    "c=\"c_dg\"\n",
    "discretization_type=1\n",
    "form=\"strong\""
   ]
  },
  {
   "cell_type": "code",
   "execution_count": 2,
   "id": "68ba6fb1",
   "metadata": {
    "execution": {
     "iopub.execute_input": "2021-05-15T22:50:34.497883Z",
     "iopub.status.busy": "2021-05-15T22:50:34.497047Z",
     "iopub.status.idle": "2021-05-15T22:50:34.500739Z",
     "shell.execute_reply": "2021-05-15T22:50:34.500057Z"
    },
    "papermill": {
     "duration": 0.015647,
     "end_time": "2021-05-15T22:50:34.500918",
     "exception": false,
     "start_time": "2021-05-15T22:50:34.485271",
     "status": "completed"
    },
    "tags": [
     "injected-parameters"
    ]
   },
   "outputs": [],
   "source": [
    "# Parameters\n",
    "mach_number = 0.4\n",
    "p = 3\n",
    "p_geo = 3\n",
    "c = \"c_dg\"\n",
    "discretization_type = 1\n",
    "form = \"weak\"\n"
   ]
  },
  {
   "cell_type": "code",
   "execution_count": 3,
   "id": "658c4c67",
   "metadata": {
    "execution": {
     "iopub.execute_input": "2021-05-15T22:50:34.521790Z",
     "iopub.status.busy": "2021-05-15T22:50:34.520909Z",
     "iopub.status.idle": "2021-05-20T01:27:19.886134Z",
     "shell.execute_reply": "2021-05-20T01:27:19.887111Z"
    },
    "papermill": {
     "duration": 355005.380431,
     "end_time": "2021-05-20T01:27:19.887709",
     "exception": false,
     "start_time": "2021-05-15T22:50:34.507278",
     "status": "completed"
    },
    "tags": []
   },
   "outputs": [
    {
     "name": "stdout",
     "output_type": "stream",
     "text": [
      "euler_m04p3c0t1_weak\n"
     ]
    },
    {
     "name": "stdout",
     "output_type": "stream",
     "text": [
      "3.411e-13 &  3.827e-03  \\\\\n",
      "-7.851e-13 &  7.959e-03  \\\\\n",
      "1.329e-12 &  6.994e-03  \\\\\n",
      "5.684e-13 &  7.647e-03  \\\\\n"
     ]
    }
   ],
   "source": [
    "import sys  \n",
    "import numpy as np\n",
    "sys.path.insert(0, '../src')\n",
    "from Driver import euler_driver\n",
    "\n",
    "solver = euler_driver(mach_number=mach_number, \n",
    "                      theta=np.pi/4,\n",
    "                        p=p, M=M, L=L,\n",
    "                        p_geo=p_geo, c=c, \n",
    "                        discretization_type=discretization_type,\n",
    "                        form=form)"
   ]
  },
  {
   "cell_type": "code",
   "execution_count": null,
   "id": "c9f75a27",
   "metadata": {
    "papermill": {
     "duration": 0.007694,
     "end_time": "2021-05-20T01:27:19.903614",
     "exception": false,
     "start_time": "2021-05-20T01:27:19.895920",
     "status": "completed"
    },
    "tags": []
   },
   "outputs": [],
   "source": []
  }
 ],
 "metadata": {
  "celltoolbar": "Tags",
  "kernelspec": {
   "display_name": "Python 3",
   "language": "python",
   "name": "python3"
  },
  "language_info": {
   "codemirror_mode": {
    "name": "ipython",
    "version": 3
   },
   "file_extension": ".py",
   "mimetype": "text/x-python",
   "name": "python",
   "nbconvert_exporter": "python",
   "pygments_lexer": "ipython3",
   "version": "3.8.5"
  },
  "papermill": {
   "default_parameters": {},
   "duration": 355009.108645,
   "end_time": "2021-05-20T01:27:21.159907",
   "environment_variables": {},
   "exception": null,
   "input_path": "euler_driver.ipynb",
   "output_path": "euler_m04p3c0t1_weak.ipynb",
   "parameters": {
    "c": "c_dg",
    "discretization_type": 1,
    "form": "weak",
    "mach_number": 0.4,
    "p": 3,
    "p_geo": 3
   },
   "start_time": "2021-05-15T22:50:32.051262",
   "version": "2.3.3"
  }
 },
 "nbformat": 4,
 "nbformat_minor": 5
}