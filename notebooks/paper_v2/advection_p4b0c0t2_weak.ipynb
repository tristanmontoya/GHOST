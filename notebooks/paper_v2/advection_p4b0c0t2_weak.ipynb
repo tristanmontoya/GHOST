{
 "cells": [
  {
   "cell_type": "code",
   "execution_count": 1,
   "id": "6a8a8ce7",
   "metadata": {
    "execution": {
     "iopub.execute_input": "2021-05-14T14:12:17.605953Z",
     "iopub.status.busy": "2021-05-14T14:12:17.605134Z",
     "iopub.status.idle": "2021-05-14T14:12:17.608072Z",
     "shell.execute_reply": "2021-05-14T14:12:17.607294Z"
    },
    "papermill": {
     "duration": 0.020994,
     "end_time": "2021-05-14T14:12:17.608254",
     "exception": false,
     "start_time": "2021-05-14T14:12:17.587260",
     "status": "completed"
    },
    "tags": [
     "parameters"
    ]
   },
   "outputs": [],
   "source": [
    "p=2\n",
    "M=10\n",
    "L=1\n",
    "p_geo=1\n",
    "c=\"c_dg\"\n",
    "discretization_type=1\n",
    "upwind_parameter=1.0\n",
    "form=\"strong\""
   ]
  },
  {
   "cell_type": "code",
   "execution_count": 2,
   "id": "b70611c9",
   "metadata": {
    "execution": {
     "iopub.execute_input": "2021-05-14T14:12:17.623305Z",
     "iopub.status.busy": "2021-05-14T14:12:17.622719Z",
     "iopub.status.idle": "2021-05-14T14:12:17.625546Z",
     "shell.execute_reply": "2021-05-14T14:12:17.624972Z"
    },
    "papermill": {
     "duration": 0.011743,
     "end_time": "2021-05-14T14:12:17.625670",
     "exception": false,
     "start_time": "2021-05-14T14:12:17.613927",
     "status": "completed"
    },
    "tags": [
     "injected-parameters"
    ]
   },
   "outputs": [],
   "source": [
    "# Parameters\n",
    "p = 4\n",
    "p_geo = 1\n",
    "upwind_parameter = 0.0\n",
    "c = \"c_dg\"\n",
    "discretization_type = 2\n",
    "form = \"weak\"\n"
   ]
  },
  {
   "cell_type": "code",
   "execution_count": 3,
   "id": "b87b72d6",
   "metadata": {
    "execution": {
     "iopub.execute_input": "2021-05-14T14:12:17.639338Z",
     "iopub.status.busy": "2021-05-14T14:12:17.638761Z",
     "iopub.status.idle": "2021-05-14T16:41:45.740656Z",
     "shell.execute_reply": "2021-05-14T16:41:45.741409Z"
    },
    "papermill": {
     "duration": 8968.11175,
     "end_time": "2021-05-14T16:41:45.741712",
     "exception": false,
     "start_time": "2021-05-14T14:12:17.629962",
     "status": "completed"
    },
    "tags": []
   },
   "outputs": [
    {
     "name": "stderr",
     "output_type": "stream",
     "text": [
      "WARNING:root:msh4 requires 3D points, but 2D points given. Appending 0 third component.\n"
     ]
    },
    {
     "name": "stderr",
     "output_type": "stream",
     "text": [
      "WARNING:root:Binary Gmsh needs c_size_t (got int64). Converting.\n"
     ]
    },
    {
     "name": "stdout",
     "output_type": "stream",
     "text": [
      "advection_p4b0c0t2_weak\n"
     ]
    },
    {
     "name": "stdout",
     "output_type": "stream",
     "text": [
      "-2.427e-16 &  3.442e-15 & 6.425e-04  \\\\\n"
     ]
    }
   ],
   "source": [
    "import sys  \n",
    "import numpy as np\n",
    "sys.path.insert(0, '../src')\n",
    "from Driver import advection_driver\n",
    "\n",
    "solver = advection_driver(a=np.sqrt(2), theta=np.pi/4, p=p, M=M, L=L,\n",
    "                        p_geo=p_geo, c=c, \n",
    "                        discretization_type=discretization_type,\n",
    "                        upwind_parameter=upwind_parameter,\n",
    "                        form=form)"
   ]
  },
  {
   "cell_type": "code",
   "execution_count": null,
   "id": "c91fff3c",
   "metadata": {
    "papermill": {
     "duration": 0.008473,
     "end_time": "2021-05-14T16:41:45.759121",
     "exception": false,
     "start_time": "2021-05-14T16:41:45.750648",
     "status": "completed"
    },
    "tags": []
   },
   "outputs": [],
   "source": []
  }
 ],
 "metadata": {
  "celltoolbar": "Tags",
  "kernelspec": {
   "display_name": "Python 3",
   "language": "python",
   "name": "python3"
  },
  "language_info": {
   "codemirror_mode": {
    "name": "ipython",
    "version": 3
   },
   "file_extension": ".py",
   "mimetype": "text/x-python",
   "name": "python",
   "nbconvert_exporter": "python",
   "pygments_lexer": "ipython3",
   "version": "3.8.5"
  },
  "papermill": {
   "default_parameters": {},
   "duration": 8969.983055,
   "end_time": "2021-05-14T16:41:46.386531",
   "environment_variables": {},
   "exception": null,
   "input_path": "advection_driver.ipynb",
   "output_path": "advection_p4b0c0t2_weak.ipynb",
   "parameters": {
    "c": "c_dg",
    "discretization_type": 2,
    "form": "weak",
    "p": 4,
    "p_geo": 1,
    "upwind_parameter": 0.0
   },
   "start_time": "2021-05-14T14:12:16.403476",
   "version": "2.3.3"
  }
 },
 "nbformat": 4,
 "nbformat_minor": 5
}