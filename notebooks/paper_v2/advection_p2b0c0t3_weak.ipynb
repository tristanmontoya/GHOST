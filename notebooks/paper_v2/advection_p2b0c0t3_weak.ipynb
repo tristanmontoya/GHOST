{
 "cells": [
  {
   "cell_type": "code",
   "execution_count": 1,
   "id": "53c73bbe",
   "metadata": {
    "execution": {
     "iopub.execute_input": "2021-05-11T03:10:10.998485Z",
     "iopub.status.busy": "2021-05-11T03:10:10.997766Z",
     "iopub.status.idle": "2021-05-11T03:10:11.003739Z",
     "shell.execute_reply": "2021-05-11T03:10:11.003016Z"
    },
    "papermill": {
     "duration": 0.033524,
     "end_time": "2021-05-11T03:10:11.003889",
     "exception": false,
     "start_time": "2021-05-11T03:10:10.970365",
     "status": "completed"
    },
    "tags": [
     "parameters"
    ]
   },
   "outputs": [],
   "source": [
    "p=2\n",
    "M=10\n",
    "L=1\n",
    "p_geo=1\n",
    "c=\"c_dg\"\n",
    "discretization_type=1\n",
    "upwind_parameter=1.0\n",
    "form=\"strong\""
   ]
  },
  {
   "cell_type": "code",
   "execution_count": 2,
   "id": "2d0082f1",
   "metadata": {
    "execution": {
     "iopub.execute_input": "2021-05-11T03:10:11.035790Z",
     "iopub.status.busy": "2021-05-11T03:10:11.035115Z",
     "iopub.status.idle": "2021-05-11T03:10:11.038079Z",
     "shell.execute_reply": "2021-05-11T03:10:11.037453Z"
    },
    "papermill": {
     "duration": 0.029243,
     "end_time": "2021-05-11T03:10:11.038233",
     "exception": false,
     "start_time": "2021-05-11T03:10:11.008990",
     "status": "completed"
    },
    "tags": [
     "injected-parameters"
    ]
   },
   "outputs": [],
   "source": [
    "# Parameters\n",
    "p = 2\n",
    "p_geo = 1\n",
    "upwind_parameter = 0.0\n",
    "c = \"c_dg\"\n",
    "discretization_type = 3\n",
    "form = \"weak\"\n"
   ]
  },
  {
   "cell_type": "code",
   "execution_count": 3,
   "id": "67c9f910",
   "metadata": {
    "execution": {
     "iopub.execute_input": "2021-05-11T03:10:11.052736Z",
     "iopub.status.busy": "2021-05-11T03:10:11.052104Z",
     "iopub.status.idle": "2021-05-11T04:41:54.661112Z",
     "shell.execute_reply": "2021-05-11T04:41:54.661611Z"
    },
    "papermill": {
     "duration": 5503.618735,
     "end_time": "2021-05-11T04:41:54.661773",
     "exception": false,
     "start_time": "2021-05-11T03:10:11.043038",
     "status": "completed"
    },
    "tags": []
   },
   "outputs": [
    {
     "name": "stderr",
     "output_type": "stream",
     "text": [
      "WARNING:root:msh4 requires 3D points, but 2D points given. Appending 0 third component.\n"
     ]
    },
    {
     "name": "stderr",
     "output_type": "stream",
     "text": [
      "WARNING:root:Binary Gmsh needs c_size_t (got int64). Converting.\n"
     ]
    },
    {
     "name": "stdout",
     "output_type": "stream",
     "text": [
      "advection_p2b0c0t3_weak\n"
     ]
    },
    {
     "name": "stdout",
     "output_type": "stream",
     "text": [
      "1.395e+43 &  1.400e+122 & 1.183e+61  \\\\\n"
     ]
    }
   ],
   "source": [
    "import sys  \n",
    "import numpy as np\n",
    "sys.path.insert(0, '../src')\n",
    "from Driver import advection_driver\n",
    "\n",
    "solver = advection_driver(a=np.sqrt(2), theta=np.pi/4, p=p, M=M, L=L,\n",
    "                        p_geo=p_geo, c=c, \n",
    "                        discretization_type=discretization_type,\n",
    "                        upwind_parameter=upwind_parameter,\n",
    "                        form=form)"
   ]
  },
  {
   "cell_type": "code",
   "execution_count": null,
   "id": "1bf20f75",
   "metadata": {
    "papermill": {
     "duration": 0.005829,
     "end_time": "2021-05-11T04:41:54.673801",
     "exception": false,
     "start_time": "2021-05-11T04:41:54.667972",
     "status": "completed"
    },
    "tags": []
   },
   "outputs": [],
   "source": []
  }
 ],
 "metadata": {
  "celltoolbar": "Tags",
  "kernelspec": {
   "display_name": "Python 3",
   "language": "python",
   "name": "python3"
  },
  "language_info": {
   "codemirror_mode": {
    "name": "ipython",
    "version": 3
   },
   "file_extension": ".py",
   "mimetype": "text/x-python",
   "name": "python",
   "nbconvert_exporter": "python",
   "pygments_lexer": "ipython3",
   "version": "3.8.5"
  },
  "papermill": {
   "default_parameters": {},
   "duration": 5505.538079,
   "end_time": "2021-05-11T04:41:55.289667",
   "environment_variables": {},
   "exception": null,
   "input_path": "advection_driver.ipynb",
   "output_path": "advection_p2b0c0t3_weak.ipynb",
   "parameters": {
    "c": "c_dg",
    "discretization_type": 3,
    "form": "weak",
    "p": 2,
    "p_geo": 1,
    "upwind_parameter": 0.0
   },
   "start_time": "2021-05-11T03:10:09.751588",
   "version": "2.3.3"
  }
 },
 "nbformat": 4,
 "nbformat_minor": 5
}