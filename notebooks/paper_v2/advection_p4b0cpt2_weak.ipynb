{
 "cells": [
  {
   "cell_type": "code",
   "execution_count": 1,
   "id": "4c9d0927",
   "metadata": {
    "execution": {
     "iopub.execute_input": "2021-05-14T14:12:17.818869Z",
     "iopub.status.busy": "2021-05-14T14:12:17.817987Z",
     "iopub.status.idle": "2021-05-14T14:12:17.820415Z",
     "shell.execute_reply": "2021-05-14T14:12:17.821194Z"
    },
    "papermill": {
     "duration": 0.020521,
     "end_time": "2021-05-14T14:12:17.821509",
     "exception": false,
     "start_time": "2021-05-14T14:12:17.800988",
     "status": "completed"
    },
    "tags": [
     "parameters"
    ]
   },
   "outputs": [],
   "source": [
    "p=2\n",
    "M=10\n",
    "L=1\n",
    "p_geo=1\n",
    "c=\"c_dg\"\n",
    "discretization_type=1\n",
    "upwind_parameter=1.0\n",
    "form=\"strong\""
   ]
  },
  {
   "cell_type": "code",
   "execution_count": 2,
   "id": "2159a19e",
   "metadata": {
    "execution": {
     "iopub.execute_input": "2021-05-14T14:12:17.837702Z",
     "iopub.status.busy": "2021-05-14T14:12:17.836958Z",
     "iopub.status.idle": "2021-05-14T14:12:17.839866Z",
     "shell.execute_reply": "2021-05-14T14:12:17.839198Z"
    },
    "papermill": {
     "duration": 0.012602,
     "end_time": "2021-05-14T14:12:17.840023",
     "exception": false,
     "start_time": "2021-05-14T14:12:17.827421",
     "status": "completed"
    },
    "tags": [
     "injected-parameters"
    ]
   },
   "outputs": [],
   "source": [
    "# Parameters\n",
    "p = 4\n",
    "p_geo = 1\n",
    "upwind_parameter = 0.0\n",
    "c = \"c_+\"\n",
    "discretization_type = 2\n",
    "form = \"weak\"\n"
   ]
  },
  {
   "cell_type": "code",
   "execution_count": 3,
   "id": "d90dd857",
   "metadata": {
    "execution": {
     "iopub.execute_input": "2021-05-14T14:12:17.921251Z",
     "iopub.status.busy": "2021-05-14T14:12:17.920600Z",
     "iopub.status.idle": "2021-05-14T16:50:44.777135Z",
     "shell.execute_reply": "2021-05-14T16:50:44.777835Z"
    },
    "papermill": {
     "duration": 9506.933273,
     "end_time": "2021-05-14T16:50:44.778123",
     "exception": false,
     "start_time": "2021-05-14T14:12:17.844850",
     "status": "completed"
    },
    "tags": []
   },
   "outputs": [
    {
     "name": "stderr",
     "output_type": "stream",
     "text": [
      "WARNING:root:msh4 requires 3D points, but 2D points given. Appending 0 third component.\n"
     ]
    },
    {
     "name": "stderr",
     "output_type": "stream",
     "text": [
      "WARNING:root:Binary Gmsh needs c_size_t (got int64). Converting.\n"
     ]
    },
    {
     "name": "stdout",
     "output_type": "stream",
     "text": [
      "advection_p4b0cpt2_weak\n"
     ]
    },
    {
     "name": "stdout",
     "output_type": "stream",
     "text": [
      "1.563e-16 &  3.331e-15 & 2.822e-03  \\\\\n"
     ]
    }
   ],
   "source": [
    "import sys  \n",
    "import numpy as np\n",
    "sys.path.insert(0, '../src')\n",
    "from Driver import advection_driver\n",
    "\n",
    "solver = advection_driver(a=np.sqrt(2), theta=np.pi/4, p=p, M=M, L=L,\n",
    "                        p_geo=p_geo, c=c, \n",
    "                        discretization_type=discretization_type,\n",
    "                        upwind_parameter=upwind_parameter,\n",
    "                        form=form)"
   ]
  },
  {
   "cell_type": "code",
   "execution_count": null,
   "id": "c3d9c153",
   "metadata": {
    "papermill": {
     "duration": 0.007948,
     "end_time": "2021-05-14T16:50:44.794551",
     "exception": false,
     "start_time": "2021-05-14T16:50:44.786603",
     "status": "completed"
    },
    "tags": []
   },
   "outputs": [],
   "source": []
  }
 ],
 "metadata": {
  "celltoolbar": "Tags",
  "kernelspec": {
   "display_name": "Python 3",
   "language": "python",
   "name": "python3"
  },
  "language_info": {
   "codemirror_mode": {
    "name": "ipython",
    "version": 3
   },
   "file_extension": ".py",
   "mimetype": "text/x-python",
   "name": "python",
   "nbconvert_exporter": "python",
   "pygments_lexer": "ipython3",
   "version": "3.8.5"
  },
  "papermill": {
   "default_parameters": {},
   "duration": 9508.914753,
   "end_time": "2021-05-14T16:50:45.313899",
   "environment_variables": {},
   "exception": null,
   "input_path": "advection_driver.ipynb",
   "output_path": "advection_p4b0cpt2_weak.ipynb",
   "parameters": {
    "c": "c_+",
    "discretization_type": 2,
    "form": "weak",
    "p": 4,
    "p_geo": 1,
    "upwind_parameter": 0.0
   },
   "start_time": "2021-05-14T14:12:16.399146",
   "version": "2.3.3"
  }
 },
 "nbformat": 4,
 "nbformat_minor": 5
}