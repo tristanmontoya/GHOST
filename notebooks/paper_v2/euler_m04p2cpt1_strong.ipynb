{
 "cells": [
  {
   "cell_type": "code",
   "execution_count": 1,
   "id": "76ac8958",
   "metadata": {
    "execution": {
     "iopub.execute_input": "2021-05-14T22:14:03.964133Z",
     "iopub.status.busy": "2021-05-14T22:14:03.962260Z",
     "iopub.status.idle": "2021-05-14T22:14:03.966997Z",
     "shell.execute_reply": "2021-05-14T22:14:03.966350Z"
    },
    "papermill": {
     "duration": 0.018647,
     "end_time": "2021-05-14T22:14:03.967147",
     "exception": false,
     "start_time": "2021-05-14T22:14:03.948500",
     "status": "completed"
    },
    "tags": [
     "parameters"
    ]
   },
   "outputs": [],
   "source": [
    "mach_number=0.4\n",
    "p=2\n",
    "M=16\n",
    "L=10.0\n",
    "p_geo=2\n",
    "c=\"c_dg\"\n",
    "discretization_type=1\n",
    "form=\"strong\""
   ]
  },
  {
   "cell_type": "code",
   "execution_count": 2,
   "id": "4b1f4307",
   "metadata": {
    "execution": {
     "iopub.execute_input": "2021-05-14T22:14:03.992130Z",
     "iopub.status.busy": "2021-05-14T22:14:03.991496Z",
     "iopub.status.idle": "2021-05-14T22:14:03.993420Z",
     "shell.execute_reply": "2021-05-14T22:14:03.993882Z"
    },
    "papermill": {
     "duration": 0.021975,
     "end_time": "2021-05-14T22:14:03.994061",
     "exception": false,
     "start_time": "2021-05-14T22:14:03.972086",
     "status": "completed"
    },
    "tags": [
     "injected-parameters"
    ]
   },
   "outputs": [],
   "source": [
    "# Parameters\n",
    "mach_number = 0.4\n",
    "p = 2\n",
    "p_geo = 2\n",
    "c = \"c_+\"\n",
    "discretization_type = 1\n",
    "form = \"strong\"\n"
   ]
  },
  {
   "cell_type": "code",
   "execution_count": 3,
   "id": "9adcb162",
   "metadata": {
    "execution": {
     "iopub.execute_input": "2021-05-14T22:14:04.032616Z",
     "iopub.status.busy": "2021-05-14T22:14:04.031997Z",
     "iopub.status.idle": "2021-05-17T07:43:14.911210Z",
     "shell.execute_reply": "2021-05-17T07:43:14.911912Z"
    },
    "papermill": {
     "duration": 206950.913813,
     "end_time": "2021-05-17T07:43:14.912441",
     "exception": false,
     "start_time": "2021-05-14T22:14:03.998628",
     "status": "completed"
    },
    "tags": []
   },
   "outputs": [
    {
     "name": "stdout",
     "output_type": "stream",
     "text": [
      "euler_m04p2cpt1_strong\n"
     ]
    },
    {
     "name": "stdout",
     "output_type": "stream",
     "text": [
      "3.979e-13 &  5.239e-02  \\\\\n",
      "3.411e-13 &  1.829e-01  \\\\\n",
      "1.027e-12 &  1.269e-01  \\\\\n",
      "1.165e-12 &  1.473e-01  \\\\\n"
     ]
    }
   ],
   "source": [
    "import sys  \n",
    "import numpy as np\n",
    "sys.path.insert(0, '../src')\n",
    "from Driver import euler_driver\n",
    "\n",
    "solver = euler_driver(mach_number=mach_number, \n",
    "                      theta=np.pi/4,\n",
    "                        p=p, M=M, L=L,\n",
    "                        p_geo=p_geo, c=c, \n",
    "                        discretization_type=discretization_type,\n",
    "                        form=form)"
   ]
  },
  {
   "cell_type": "code",
   "execution_count": null,
   "id": "5f5be30f",
   "metadata": {
    "papermill": {
     "duration": 0.0074,
     "end_time": "2021-05-17T07:43:14.928938",
     "exception": false,
     "start_time": "2021-05-17T07:43:14.921538",
     "status": "completed"
    },
    "tags": []
   },
   "outputs": [],
   "source": []
  }
 ],
 "metadata": {
  "celltoolbar": "Tags",
  "kernelspec": {
   "display_name": "Python 3",
   "language": "python",
   "name": "python3"
  },
  "language_info": {
   "codemirror_mode": {
    "name": "ipython",
    "version": 3
   },
   "file_extension": ".py",
   "mimetype": "text/x-python",
   "name": "python",
   "nbconvert_exporter": "python",
   "pygments_lexer": "ipython3",
   "version": "3.8.5"
  },
  "papermill": {
   "default_parameters": {},
   "duration": 206953.578037,
   "end_time": "2021-05-17T07:43:16.352541",
   "environment_variables": {},
   "exception": null,
   "input_path": "euler_driver.ipynb",
   "output_path": "euler_m04p2cpt1_strong.ipynb",
   "parameters": {
    "c": "c_+",
    "discretization_type": 1,
    "form": "strong",
    "mach_number": 0.4,
    "p": 2,
    "p_geo": 2
   },
   "start_time": "2021-05-14T22:14:02.774504",
   "version": "2.3.3"
  }
 },
 "nbformat": 4,
 "nbformat_minor": 5
}