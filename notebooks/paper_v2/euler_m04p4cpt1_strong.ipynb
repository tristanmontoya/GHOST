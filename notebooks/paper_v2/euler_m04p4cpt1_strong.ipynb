{
 "cells": [
  {
   "cell_type": "code",
   "execution_count": 1,
   "id": "e399b88b",
   "metadata": {
    "execution": {
     "iopub.execute_input": "2021-05-14T22:14:17.853807Z",
     "iopub.status.busy": "2021-05-14T22:14:17.853150Z",
     "iopub.status.idle": "2021-05-14T22:14:17.870618Z",
     "shell.execute_reply": "2021-05-14T22:14:17.871632Z"
    },
    "papermill": {
     "duration": 0.107138,
     "end_time": "2021-05-14T22:14:17.871909",
     "exception": false,
     "start_time": "2021-05-14T22:14:17.764771",
     "status": "completed"
    },
    "tags": [
     "parameters"
    ]
   },
   "outputs": [],
   "source": [
    "mach_number=0.4\n",
    "p=2\n",
    "M=16\n",
    "L=10.0\n",
    "p_geo=2\n",
    "c=\"c_dg\"\n",
    "discretization_type=1\n",
    "form=\"strong\""
   ]
  },
  {
   "cell_type": "code",
   "execution_count": 2,
   "id": "7bdba98b",
   "metadata": {
    "execution": {
     "iopub.execute_input": "2021-05-14T22:14:17.886067Z",
     "iopub.status.busy": "2021-05-14T22:14:17.885442Z",
     "iopub.status.idle": "2021-05-14T22:14:17.891183Z",
     "shell.execute_reply": "2021-05-14T22:14:17.897004Z"
    },
    "papermill": {
     "duration": 0.020323,
     "end_time": "2021-05-14T22:14:17.897174",
     "exception": false,
     "start_time": "2021-05-14T22:14:17.876851",
     "status": "completed"
    },
    "tags": [
     "injected-parameters"
    ]
   },
   "outputs": [],
   "source": [
    "# Parameters\n",
    "mach_number = 0.4\n",
    "p = 4\n",
    "p_geo = 4\n",
    "c = \"c_+\"\n",
    "discretization_type = 1\n",
    "form = \"strong\"\n"
   ]
  },
  {
   "cell_type": "code",
   "execution_count": 3,
   "id": "43f2a511",
   "metadata": {
    "execution": {
     "iopub.execute_input": "2021-05-14T22:14:17.971461Z",
     "iopub.status.busy": "2021-05-14T22:14:17.970780Z",
     "iopub.status.idle": "2021-05-21T21:31:33.878705Z",
     "shell.execute_reply": "2021-05-21T21:31:33.879234Z"
    },
    "papermill": {
     "duration": 602235.978024,
     "end_time": "2021-05-21T21:31:33.879755",
     "exception": false,
     "start_time": "2021-05-14T22:14:17.901731",
     "status": "completed"
    },
    "tags": []
   },
   "outputs": [
    {
     "name": "stdout",
     "output_type": "stream",
     "text": [
      "euler_m04p4cpt1_strong\n"
     ]
    },
    {
     "name": "stdout",
     "output_type": "stream",
     "text": [
      "5.116e-13 &  1.866e-03  \\\\\n",
      "-2.025e-13 &  3.367e-03  \\\\\n",
      "1.190e-12 &  2.755e-03  \\\\\n",
      "8.242e-13 &  2.957e-03  \\\\\n"
     ]
    }
   ],
   "source": [
    "import sys  \n",
    "import numpy as np\n",
    "sys.path.insert(0, '../src')\n",
    "from Driver import euler_driver\n",
    "\n",
    "solver = euler_driver(mach_number=mach_number, \n",
    "                      theta=np.pi/4,\n",
    "                        p=p, M=M, L=L,\n",
    "                        p_geo=p_geo, c=c, \n",
    "                        discretization_type=discretization_type,\n",
    "                        form=form)"
   ]
  },
  {
   "cell_type": "code",
   "execution_count": null,
   "id": "90036a02",
   "metadata": {
    "papermill": {
     "duration": 0.005046,
     "end_time": "2021-05-21T21:31:33.890572",
     "exception": false,
     "start_time": "2021-05-21T21:31:33.885526",
     "status": "completed"
    },
    "tags": []
   },
   "outputs": [],
   "source": []
  }
 ],
 "metadata": {
  "celltoolbar": "Tags",
  "kernelspec": {
   "display_name": "Python 3",
   "language": "python",
   "name": "python3"
  },
  "language_info": {
   "codemirror_mode": {
    "name": "ipython",
    "version": 3
   },
   "file_extension": ".py",
   "mimetype": "text/x-python",
   "name": "python",
   "nbconvert_exporter": "python",
   "pygments_lexer": "ipython3",
   "version": "3.8.5"
  },
  "papermill": {
   "default_parameters": {},
   "duration": 602239.151197,
   "end_time": "2021-05-21T21:31:35.457123",
   "environment_variables": {},
   "exception": null,
   "input_path": "euler_driver.ipynb",
   "output_path": "euler_m04p4cpt1_strong.ipynb",
   "parameters": {
    "c": "c_+",
    "discretization_type": 1,
    "form": "strong",
    "mach_number": 0.4,
    "p": 4,
    "p_geo": 4
   },
   "start_time": "2021-05-14T22:14:16.305926",
   "version": "2.3.3"
  }
 },
 "nbformat": 4,
 "nbformat_minor": 5
}