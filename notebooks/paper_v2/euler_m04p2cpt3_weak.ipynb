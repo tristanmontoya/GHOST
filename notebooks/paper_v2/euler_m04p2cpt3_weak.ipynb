{
 "cells": [
  {
   "cell_type": "code",
   "execution_count": 1,
   "id": "ad7411cc",
   "metadata": {
    "execution": {
     "iopub.execute_input": "2021-05-14T22:14:03.929894Z",
     "iopub.status.busy": "2021-05-14T22:14:03.928620Z",
     "iopub.status.idle": "2021-05-14T22:14:03.930502Z",
     "shell.execute_reply": "2021-05-14T22:14:03.929242Z"
    },
    "papermill": {
     "duration": 0.030693,
     "end_time": "2021-05-14T22:14:03.930656",
     "exception": false,
     "start_time": "2021-05-14T22:14:03.899963",
     "status": "completed"
    },
    "tags": [
     "parameters"
    ]
   },
   "outputs": [],
   "source": [
    "mach_number=0.4\n",
    "p=2\n",
    "M=16\n",
    "L=10.0\n",
    "p_geo=2\n",
    "c=\"c_dg\"\n",
    "discretization_type=1\n",
    "form=\"strong\""
   ]
  },
  {
   "cell_type": "code",
   "execution_count": 2,
   "id": "f3a69c1e",
   "metadata": {
    "execution": {
     "iopub.execute_input": "2021-05-14T22:14:03.949372Z",
     "iopub.status.busy": "2021-05-14T22:14:03.948708Z",
     "iopub.status.idle": "2021-05-14T22:14:03.969064Z",
     "shell.execute_reply": "2021-05-14T22:14:03.968518Z"
    },
    "papermill": {
     "duration": 0.033547,
     "end_time": "2021-05-14T22:14:03.969210",
     "exception": false,
     "start_time": "2021-05-14T22:14:03.935663",
     "status": "completed"
    },
    "tags": [
     "injected-parameters"
    ]
   },
   "outputs": [],
   "source": [
    "# Parameters\n",
    "mach_number = 0.4\n",
    "p = 2\n",
    "p_geo = 2\n",
    "c = \"c_+\"\n",
    "discretization_type = 3\n",
    "form = \"weak\"\n"
   ]
  },
  {
   "cell_type": "code",
   "execution_count": 3,
   "id": "91e1b2e4",
   "metadata": {
    "execution": {
     "iopub.execute_input": "2021-05-14T22:14:04.009167Z",
     "iopub.status.busy": "2021-05-14T22:14:04.008527Z",
     "iopub.status.idle": "2021-05-17T05:12:42.955520Z",
     "shell.execute_reply": "2021-05-17T05:12:42.954474Z"
    },
    "papermill": {
     "duration": 197918.982206,
     "end_time": "2021-05-17T05:12:42.955983",
     "exception": false,
     "start_time": "2021-05-14T22:14:03.973777",
     "status": "completed"
    },
    "tags": []
   },
   "outputs": [
    {
     "name": "stdout",
     "output_type": "stream",
     "text": [
      "euler_m04p2cpt3_weak\n"
     ]
    },
    {
     "name": "stdout",
     "output_type": "stream",
     "text": [
      "-4.263e-14 &  4.889e-02  \\\\\n",
      "-1.901e-12 &  1.653e-01  \\\\\n",
      "1.705e-12 &  1.181e-01  \\\\\n",
      "-8.527e-14 &  1.425e-01  \\\\\n"
     ]
    }
   ],
   "source": [
    "import sys  \n",
    "import numpy as np\n",
    "sys.path.insert(0, '../src')\n",
    "from Driver import euler_driver\n",
    "\n",
    "solver = euler_driver(mach_number=mach_number, \n",
    "                      theta=np.pi/4,\n",
    "                        p=p, M=M, L=L,\n",
    "                        p_geo=p_geo, c=c, \n",
    "                        discretization_type=discretization_type,\n",
    "                        form=form)"
   ]
  },
  {
   "cell_type": "code",
   "execution_count": null,
   "id": "e4b308a8",
   "metadata": {
    "papermill": {
     "duration": 0.007648,
     "end_time": "2021-05-17T05:12:42.972327",
     "exception": false,
     "start_time": "2021-05-17T05:12:42.964679",
     "status": "completed"
    },
    "tags": []
   },
   "outputs": [],
   "source": []
  }
 ],
 "metadata": {
  "celltoolbar": "Tags",
  "kernelspec": {
   "display_name": "Python 3",
   "language": "python",
   "name": "python3"
  },
  "language_info": {
   "codemirror_mode": {
    "name": "ipython",
    "version": 3
   },
   "file_extension": ".py",
   "mimetype": "text/x-python",
   "name": "python",
   "nbconvert_exporter": "python",
   "pygments_lexer": "ipython3",
   "version": "3.8.5"
  },
  "papermill": {
   "default_parameters": {},
   "duration": 197921.439789,
   "end_time": "2021-05-17T05:12:44.218552",
   "environment_variables": {},
   "exception": null,
   "input_path": "euler_driver.ipynb",
   "output_path": "euler_m04p2cpt3_weak.ipynb",
   "parameters": {
    "c": "c_+",
    "discretization_type": 3,
    "form": "weak",
    "mach_number": 0.4,
    "p": 2,
    "p_geo": 2
   },
   "start_time": "2021-05-14T22:14:02.778763",
   "version": "2.3.3"
  }
 },
 "nbformat": 4,
 "nbformat_minor": 5
}