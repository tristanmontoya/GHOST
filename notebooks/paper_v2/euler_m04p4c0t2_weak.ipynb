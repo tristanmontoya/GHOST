{
 "cells": [
  {
   "cell_type": "code",
   "execution_count": 1,
   "id": "ea947a2a",
   "metadata": {
    "execution": {
     "iopub.execute_input": "2021-05-14T22:14:17.347375Z",
     "iopub.status.busy": "2021-05-14T22:14:17.346787Z",
     "iopub.status.idle": "2021-05-14T22:14:17.349599Z",
     "shell.execute_reply": "2021-05-14T22:14:17.350046Z"
    },
    "papermill": {
     "duration": 0.021416,
     "end_time": "2021-05-14T22:14:17.350295",
     "exception": false,
     "start_time": "2021-05-14T22:14:17.328879",
     "status": "completed"
    },
    "tags": [
     "parameters"
    ]
   },
   "outputs": [],
   "source": [
    "mach_number=0.4\n",
    "p=2\n",
    "M=16\n",
    "L=10.0\n",
    "p_geo=2\n",
    "c=\"c_dg\"\n",
    "discretization_type=1\n",
    "form=\"strong\""
   ]
  },
  {
   "cell_type": "code",
   "execution_count": 2,
   "id": "d6fd5673",
   "metadata": {
    "execution": {
     "iopub.execute_input": "2021-05-14T22:14:17.364490Z",
     "iopub.status.busy": "2021-05-14T22:14:17.363915Z",
     "iopub.status.idle": "2021-05-14T22:14:17.366775Z",
     "shell.execute_reply": "2021-05-14T22:14:17.367235Z"
    },
    "papermill": {
     "duration": 0.012269,
     "end_time": "2021-05-14T22:14:17.367378",
     "exception": false,
     "start_time": "2021-05-14T22:14:17.355109",
     "status": "completed"
    },
    "tags": [
     "injected-parameters"
    ]
   },
   "outputs": [],
   "source": [
    "# Parameters\n",
    "mach_number = 0.4\n",
    "p = 4\n",
    "p_geo = 4\n",
    "c = \"c_dg\"\n",
    "discretization_type = 2\n",
    "form = \"weak\"\n"
   ]
  },
  {
   "cell_type": "code",
   "execution_count": 3,
   "id": "2a1dd035",
   "metadata": {
    "execution": {
     "iopub.execute_input": "2021-05-14T22:14:17.383624Z",
     "iopub.status.busy": "2021-05-14T22:14:17.383049Z",
     "iopub.status.idle": "2021-05-21T14:47:38.622474Z",
     "shell.execute_reply": "2021-05-21T14:47:38.623365Z"
    },
    "papermill": {
     "duration": 578001.252101,
     "end_time": "2021-05-21T14:47:38.623890",
     "exception": false,
     "start_time": "2021-05-14T22:14:17.371789",
     "status": "completed"
    },
    "tags": []
   },
   "outputs": [
    {
     "name": "stdout",
     "output_type": "stream",
     "text": [
      "euler_m04p4c0t2_weak\n"
     ]
    },
    {
     "name": "stdout",
     "output_type": "stream",
     "text": [
      "9.379e-13 &  1.466e-02  \\\\\n",
      "-4.832e-13 &  2.158e-02  \\\\\n",
      "3.276e-12 &  2.608e-02  \\\\\n",
      "1.990e-12 &  1.488e-02  \\\\\n"
     ]
    }
   ],
   "source": [
    "import sys  \n",
    "import numpy as np\n",
    "sys.path.insert(0, '../src')\n",
    "from Driver import euler_driver\n",
    "\n",
    "solver = euler_driver(mach_number=mach_number, \n",
    "                      theta=np.pi/4,\n",
    "                        p=p, M=M, L=L,\n",
    "                        p_geo=p_geo, c=c, \n",
    "                        discretization_type=discretization_type,\n",
    "                        form=form)"
   ]
  },
  {
   "cell_type": "code",
   "execution_count": null,
   "id": "8f6e244f",
   "metadata": {
    "papermill": {
     "duration": 0.007155,
     "end_time": "2021-05-21T14:47:38.638838",
     "exception": false,
     "start_time": "2021-05-21T14:47:38.631683",
     "status": "completed"
    },
    "tags": []
   },
   "outputs": [],
   "source": []
  }
 ],
 "metadata": {
  "celltoolbar": "Tags",
  "kernelspec": {
   "display_name": "Python 3",
   "language": "python",
   "name": "python3"
  },
  "language_info": {
   "codemirror_mode": {
    "name": "ipython",
    "version": 3
   },
   "file_extension": ".py",
   "mimetype": "text/x-python",
   "name": "python",
   "nbconvert_exporter": "python",
   "pygments_lexer": "ipython3",
   "version": "3.8.5"
  },
  "papermill": {
   "default_parameters": {},
   "duration": 578003.147708,
   "end_time": "2021-05-21T14:47:39.263489",
   "environment_variables": {},
   "exception": null,
   "input_path": "euler_driver.ipynb",
   "output_path": "euler_m04p4c0t2_weak.ipynb",
   "parameters": {
    "c": "c_dg",
    "discretization_type": 2,
    "form": "weak",
    "mach_number": 0.4,
    "p": 4,
    "p_geo": 4
   },
   "start_time": "2021-05-14T22:14:16.115781",
   "version": "2.3.3"
  }
 },
 "nbformat": 4,
 "nbformat_minor": 5
}