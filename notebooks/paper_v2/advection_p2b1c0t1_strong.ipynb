{
 "cells": [
  {
   "cell_type": "code",
   "execution_count": 1,
   "id": "d533d14e",
   "metadata": {
    "execution": {
     "iopub.execute_input": "2021-05-11T03:10:10.875375Z",
     "iopub.status.busy": "2021-05-11T03:10:10.874694Z",
     "iopub.status.idle": "2021-05-11T03:10:10.878150Z",
     "shell.execute_reply": "2021-05-11T03:10:10.877485Z"
    },
    "papermill": {
     "duration": 0.020619,
     "end_time": "2021-05-11T03:10:10.878302",
     "exception": false,
     "start_time": "2021-05-11T03:10:10.857683",
     "status": "completed"
    },
    "tags": [
     "parameters"
    ]
   },
   "outputs": [],
   "source": [
    "p=2\n",
    "M=10\n",
    "L=1\n",
    "p_geo=1\n",
    "c=\"c_dg\"\n",
    "discretization_type=1\n",
    "upwind_parameter=1.0\n",
    "form=\"strong\""
   ]
  },
  {
   "cell_type": "code",
   "execution_count": 2,
   "id": "7be094aa",
   "metadata": {
    "execution": {
     "iopub.execute_input": "2021-05-11T03:10:10.919775Z",
     "iopub.status.busy": "2021-05-11T03:10:10.918563Z",
     "iopub.status.idle": "2021-05-11T03:10:10.920377Z",
     "shell.execute_reply": "2021-05-11T03:10:10.919164Z"
    },
    "papermill": {
     "duration": 0.036975,
     "end_time": "2021-05-11T03:10:10.920514",
     "exception": false,
     "start_time": "2021-05-11T03:10:10.883539",
     "status": "completed"
    },
    "tags": [
     "injected-parameters"
    ]
   },
   "outputs": [],
   "source": [
    "# Parameters\n",
    "p = 2\n",
    "p_geo = 1\n",
    "upwind_parameter = 1.0\n",
    "c = \"c_dg\"\n",
    "discretization_type = 1\n",
    "form = \"strong\"\n"
   ]
  },
  {
   "cell_type": "code",
   "execution_count": 3,
   "id": "46bfcc27",
   "metadata": {
    "execution": {
     "iopub.execute_input": "2021-05-11T03:10:10.953449Z",
     "iopub.status.busy": "2021-05-11T03:10:10.952818Z",
     "iopub.status.idle": "2021-05-11T05:00:53.285707Z",
     "shell.execute_reply": "2021-05-11T05:00:53.286242Z"
    },
    "papermill": {
     "duration": 6642.361079,
     "end_time": "2021-05-11T05:00:53.286416",
     "exception": false,
     "start_time": "2021-05-11T03:10:10.925337",
     "status": "completed"
    },
    "tags": []
   },
   "outputs": [
    {
     "name": "stderr",
     "output_type": "stream",
     "text": [
      "WARNING:root:msh4 requires 3D points, but 2D points given. Appending 0 third component.\n"
     ]
    },
    {
     "name": "stderr",
     "output_type": "stream",
     "text": [
      "WARNING:root:Binary Gmsh needs c_size_t (got int64). Converting.\n"
     ]
    },
    {
     "name": "stdout",
     "output_type": "stream",
     "text": [
      "advection_p2b1c0t1_strong\n"
     ]
    },
    {
     "name": "stdout",
     "output_type": "stream",
     "text": [
      "-9.287e-16 &  -2.220e-03 & 8.316e-03  \\\\\n"
     ]
    }
   ],
   "source": [
    "import sys  \n",
    "import numpy as np\n",
    "sys.path.insert(0, '../src')\n",
    "from Driver import advection_driver\n",
    "\n",
    "solver = advection_driver(a=np.sqrt(2), theta=np.pi/4, p=p, M=M, L=L,\n",
    "                        p_geo=p_geo, c=c, \n",
    "                        discretization_type=discretization_type,\n",
    "                        upwind_parameter=upwind_parameter,\n",
    "                        form=form)"
   ]
  },
  {
   "cell_type": "code",
   "execution_count": null,
   "id": "91df19e0",
   "metadata": {
    "papermill": {
     "duration": 0.005754,
     "end_time": "2021-05-11T05:00:53.298257",
     "exception": false,
     "start_time": "2021-05-11T05:00:53.292503",
     "status": "completed"
    },
    "tags": []
   },
   "outputs": [],
   "source": []
  }
 ],
 "metadata": {
  "celltoolbar": "Tags",
  "kernelspec": {
   "display_name": "Python 3",
   "language": "python",
   "name": "python3"
  },
  "language_info": {
   "codemirror_mode": {
    "name": "ipython",
    "version": 3
   },
   "file_extension": ".py",
   "mimetype": "text/x-python",
   "name": "python",
   "nbconvert_exporter": "python",
   "pygments_lexer": "ipython3",
   "version": "3.8.5"
  },
  "papermill": {
   "default_parameters": {},
   "duration": 6644.137374,
   "end_time": "2021-05-11T05:00:53.811045",
   "environment_variables": {},
   "exception": null,
   "input_path": "advection_driver.ipynb",
   "output_path": "advection_p2b1c0t1_strong.ipynb",
   "parameters": {
    "c": "c_dg",
    "discretization_type": 1,
    "form": "strong",
    "p": 2,
    "p_geo": 1,
    "upwind_parameter": 1.0
   },
   "start_time": "2021-05-11T03:10:09.673671",
   "version": "2.3.3"
  }
 },
 "nbformat": 4,
 "nbformat_minor": 5
}