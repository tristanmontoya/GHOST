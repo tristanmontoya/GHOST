{
 "cells": [
  {
   "cell_type": "code",
   "execution_count": 1,
   "id": "599b5283",
   "metadata": {
    "execution": {
     "iopub.execute_input": "2021-05-11T05:21:33.968206Z",
     "iopub.status.busy": "2021-05-11T05:21:33.966965Z",
     "iopub.status.idle": "2021-05-11T05:21:33.968782Z",
     "shell.execute_reply": "2021-05-11T05:21:33.967576Z"
    },
    "papermill": {
     "duration": 0.022044,
     "end_time": "2021-05-11T05:21:33.968926",
     "exception": false,
     "start_time": "2021-05-11T05:21:33.946882",
     "status": "completed"
    },
    "tags": [
     "parameters"
    ]
   },
   "outputs": [],
   "source": [
    "p=2\n",
    "M=10\n",
    "L=1\n",
    "p_geo=1\n",
    "c=\"c_dg\"\n",
    "discretization_type=1\n",
    "upwind_parameter=1.0\n",
    "form=\"strong\""
   ]
  },
  {
   "cell_type": "code",
   "execution_count": 2,
   "id": "30e50854",
   "metadata": {
    "execution": {
     "iopub.execute_input": "2021-05-11T05:21:33.995534Z",
     "iopub.status.busy": "2021-05-11T05:21:33.994206Z",
     "iopub.status.idle": "2021-05-11T05:21:33.996210Z",
     "shell.execute_reply": "2021-05-11T05:21:33.996704Z"
    },
    "papermill": {
     "duration": 0.023094,
     "end_time": "2021-05-11T05:21:33.996871",
     "exception": false,
     "start_time": "2021-05-11T05:21:33.973777",
     "status": "completed"
    },
    "tags": [
     "injected-parameters"
    ]
   },
   "outputs": [],
   "source": [
    "# Parameters\n",
    "p = 3\n",
    "p_geo = 1\n",
    "upwind_parameter = 1.0\n",
    "c = \"c_dg\"\n",
    "discretization_type = 3\n",
    "form = \"strong\"\n"
   ]
  },
  {
   "cell_type": "code",
   "execution_count": 3,
   "id": "6284ca38",
   "metadata": {
    "execution": {
     "iopub.execute_input": "2021-05-11T05:21:34.011585Z",
     "iopub.status.busy": "2021-05-11T05:21:34.010966Z",
     "iopub.status.idle": "2021-05-11T07:58:46.791619Z",
     "shell.execute_reply": "2021-05-11T07:58:46.792118Z"
    },
    "papermill": {
     "duration": 9432.790956,
     "end_time": "2021-05-11T07:58:46.792314",
     "exception": false,
     "start_time": "2021-05-11T05:21:34.001358",
     "status": "completed"
    },
    "tags": []
   },
   "outputs": [
    {
     "name": "stderr",
     "output_type": "stream",
     "text": [
      "WARNING:root:msh4 requires 3D points, but 2D points given. Appending 0 third component.\n"
     ]
    },
    {
     "name": "stderr",
     "output_type": "stream",
     "text": [
      "WARNING:root:Binary Gmsh needs c_size_t (got int64). Converting.\n"
     ]
    },
    {
     "name": "stdout",
     "output_type": "stream",
     "text": [
      "advection_p3b1c0t3_strong\n"
     ]
    },
    {
     "name": "stdout",
     "output_type": "stream",
     "text": [
      "-8.384e-16 &  -4.455e-05 & 8.949e-04  \\\\\n"
     ]
    }
   ],
   "source": [
    "import sys  \n",
    "import numpy as np\n",
    "sys.path.insert(0, '../src')\n",
    "from Driver import advection_driver\n",
    "\n",
    "solver = advection_driver(a=np.sqrt(2), theta=np.pi/4, p=p, M=M, L=L,\n",
    "                        p_geo=p_geo, c=c, \n",
    "                        discretization_type=discretization_type,\n",
    "                        upwind_parameter=upwind_parameter,\n",
    "                        form=form)"
   ]
  },
  {
   "cell_type": "code",
   "execution_count": null,
   "id": "ecaa9272",
   "metadata": {
    "papermill": {
     "duration": 0.005706,
     "end_time": "2021-05-11T07:58:46.804082",
     "exception": false,
     "start_time": "2021-05-11T07:58:46.798376",
     "status": "completed"
    },
    "tags": []
   },
   "outputs": [],
   "source": []
  }
 ],
 "metadata": {
  "celltoolbar": "Tags",
  "kernelspec": {
   "display_name": "Python 3",
   "language": "python",
   "name": "python3"
  },
  "language_info": {
   "codemirror_mode": {
    "name": "ipython",
    "version": 3
   },
   "file_extension": ".py",
   "mimetype": "text/x-python",
   "name": "python",
   "nbconvert_exporter": "python",
   "pygments_lexer": "ipython3",
   "version": "3.8.5"
  },
  "papermill": {
   "default_parameters": {},
   "duration": 9434.54155,
   "end_time": "2021-05-11T07:58:47.318873",
   "environment_variables": {},
   "exception": null,
   "input_path": "advection_driver.ipynb",
   "output_path": "advection_p3b1c0t3_strong.ipynb",
   "parameters": {
    "c": "c_dg",
    "discretization_type": 3,
    "form": "strong",
    "p": 3,
    "p_geo": 1,
    "upwind_parameter": 1.0
   },
   "start_time": "2021-05-11T05:21:32.777323",
   "version": "2.3.3"
  }
 },
 "nbformat": 4,
 "nbformat_minor": 5
}