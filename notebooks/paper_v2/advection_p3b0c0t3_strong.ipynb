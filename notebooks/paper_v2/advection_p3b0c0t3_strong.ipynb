{
 "cells": [
  {
   "cell_type": "code",
   "execution_count": 1,
   "id": "7b4754d7",
   "metadata": {
    "execution": {
     "iopub.execute_input": "2021-05-11T05:21:34.011163Z",
     "iopub.status.busy": "2021-05-11T05:21:34.010393Z",
     "iopub.status.idle": "2021-05-11T05:21:34.013603Z",
     "shell.execute_reply": "2021-05-11T05:21:34.012969Z"
    },
    "papermill": {
     "duration": 0.020744,
     "end_time": "2021-05-11T05:21:34.013759",
     "exception": false,
     "start_time": "2021-05-11T05:21:33.993015",
     "status": "completed"
    },
    "tags": [
     "parameters"
    ]
   },
   "outputs": [],
   "source": [
    "p=2\n",
    "M=10\n",
    "L=1\n",
    "p_geo=1\n",
    "c=\"c_dg\"\n",
    "discretization_type=1\n",
    "upwind_parameter=1.0\n",
    "form=\"strong\""
   ]
  },
  {
   "cell_type": "code",
   "execution_count": 2,
   "id": "52e39d92",
   "metadata": {
    "execution": {
     "iopub.execute_input": "2021-05-11T05:21:34.037198Z",
     "iopub.status.busy": "2021-05-11T05:21:34.036568Z",
     "iopub.status.idle": "2021-05-11T05:21:34.037841Z",
     "shell.execute_reply": "2021-05-11T05:21:34.038359Z"
    },
    "papermill": {
     "duration": 0.019661,
     "end_time": "2021-05-11T05:21:34.038524",
     "exception": false,
     "start_time": "2021-05-11T05:21:34.018863",
     "status": "completed"
    },
    "tags": [
     "injected-parameters"
    ]
   },
   "outputs": [],
   "source": [
    "# Parameters\n",
    "p = 3\n",
    "p_geo = 1\n",
    "upwind_parameter = 0.0\n",
    "c = \"c_dg\"\n",
    "discretization_type = 3\n",
    "form = \"strong\"\n"
   ]
  },
  {
   "cell_type": "code",
   "execution_count": 3,
   "id": "0b5e1130",
   "metadata": {
    "execution": {
     "iopub.execute_input": "2021-05-11T05:21:34.082031Z",
     "iopub.status.busy": "2021-05-11T05:21:34.081413Z",
     "iopub.status.idle": "2021-05-11T07:57:20.567472Z",
     "shell.execute_reply": "2021-05-11T07:57:20.567985Z"
    },
    "papermill": {
     "duration": 9346.509685,
     "end_time": "2021-05-11T07:57:20.568162",
     "exception": false,
     "start_time": "2021-05-11T05:21:34.058477",
     "status": "completed"
    },
    "tags": []
   },
   "outputs": [
    {
     "name": "stderr",
     "output_type": "stream",
     "text": [
      "WARNING:root:msh4 requires 3D points, but 2D points given. Appending 0 third component.\n"
     ]
    },
    {
     "name": "stderr",
     "output_type": "stream",
     "text": [
      "WARNING:root:Binary Gmsh needs c_size_t (got int64). Converting.\n"
     ]
    },
    {
     "name": "stdout",
     "output_type": "stream",
     "text": [
      "advection_p3b0c0t3_strong\n"
     ]
    },
    {
     "name": "stdout",
     "output_type": "stream",
     "text": [
      "1.357e+91 &  2.370e+215 & 4.868e+107  \\\\\n"
     ]
    }
   ],
   "source": [
    "import sys  \n",
    "import numpy as np\n",
    "sys.path.insert(0, '../src')\n",
    "from Driver import advection_driver\n",
    "\n",
    "solver = advection_driver(a=np.sqrt(2), theta=np.pi/4, p=p, M=M, L=L,\n",
    "                        p_geo=p_geo, c=c, \n",
    "                        discretization_type=discretization_type,\n",
    "                        upwind_parameter=upwind_parameter,\n",
    "                        form=form)"
   ]
  },
  {
   "cell_type": "code",
   "execution_count": null,
   "id": "370c7ae8",
   "metadata": {
    "papermill": {
     "duration": 0.005678,
     "end_time": "2021-05-11T07:57:20.579970",
     "exception": false,
     "start_time": "2021-05-11T07:57:20.574292",
     "status": "completed"
    },
    "tags": []
   },
   "outputs": [],
   "source": []
  }
 ],
 "metadata": {
  "celltoolbar": "Tags",
  "kernelspec": {
   "display_name": "Python 3",
   "language": "python",
   "name": "python3"
  },
  "language_info": {
   "codemirror_mode": {
    "name": "ipython",
    "version": 3
   },
   "file_extension": ".py",
   "mimetype": "text/x-python",
   "name": "python",
   "nbconvert_exporter": "python",
   "pygments_lexer": "ipython3",
   "version": "3.8.5"
  },
  "papermill": {
   "default_parameters": {},
   "duration": 9348.432339,
   "end_time": "2021-05-11T07:57:21.094625",
   "environment_variables": {},
   "exception": null,
   "input_path": "advection_driver.ipynb",
   "output_path": "advection_p3b0c0t3_strong.ipynb",
   "parameters": {
    "c": "c_dg",
    "discretization_type": 3,
    "form": "strong",
    "p": 3,
    "p_geo": 1,
    "upwind_parameter": 0.0
   },
   "start_time": "2021-05-11T05:21:32.662286",
   "version": "2.3.3"
  }
 },
 "nbformat": 4,
 "nbformat_minor": 5
}