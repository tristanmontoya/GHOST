{
 "cells": [
  {
   "cell_type": "code",
   "execution_count": 1,
   "id": "e2d5011e",
   "metadata": {
    "execution": {
     "iopub.execute_input": "2021-05-11T05:21:34.317074Z",
     "iopub.status.busy": "2021-05-11T05:21:34.316430Z",
     "iopub.status.idle": "2021-05-11T05:21:34.319084Z",
     "shell.execute_reply": "2021-05-11T05:21:34.319616Z"
    },
    "papermill": {
     "duration": 0.020817,
     "end_time": "2021-05-11T05:21:34.319868",
     "exception": false,
     "start_time": "2021-05-11T05:21:34.299051",
     "status": "completed"
    },
    "tags": [
     "parameters"
    ]
   },
   "outputs": [],
   "source": [
    "p=2\n",
    "M=10\n",
    "L=1\n",
    "p_geo=1\n",
    "c=\"c_dg\"\n",
    "discretization_type=1\n",
    "upwind_parameter=1.0\n",
    "form=\"strong\""
   ]
  },
  {
   "cell_type": "code",
   "execution_count": 2,
   "id": "d700b0f6",
   "metadata": {
    "execution": {
     "iopub.execute_input": "2021-05-11T05:21:34.389030Z",
     "iopub.status.busy": "2021-05-11T05:21:34.387826Z",
     "iopub.status.idle": "2021-05-11T05:21:34.389617Z",
     "shell.execute_reply": "2021-05-11T05:21:34.388420Z"
    },
    "papermill": {
     "duration": 0.064742,
     "end_time": "2021-05-11T05:21:34.389760",
     "exception": false,
     "start_time": "2021-05-11T05:21:34.325018",
     "status": "completed"
    },
    "tags": [
     "injected-parameters"
    ]
   },
   "outputs": [],
   "source": [
    "# Parameters\n",
    "p = 3\n",
    "p_geo = 1\n",
    "upwind_parameter = 1.0\n",
    "c = \"c_+\"\n",
    "discretization_type = 1\n",
    "form = \"strong\"\n"
   ]
  },
  {
   "cell_type": "code",
   "execution_count": 3,
   "id": "624a3d02",
   "metadata": {
    "execution": {
     "iopub.execute_input": "2021-05-11T05:21:34.478036Z",
     "iopub.status.busy": "2021-05-11T05:21:34.477366Z",
     "iopub.status.idle": "2021-05-11T07:56:42.579692Z",
     "shell.execute_reply": "2021-05-11T07:56:42.580203Z"
    },
    "papermill": {
     "duration": 9308.164252,
     "end_time": "2021-05-11T07:56:42.580393",
     "exception": false,
     "start_time": "2021-05-11T05:21:34.416141",
     "status": "completed"
    },
    "tags": []
   },
   "outputs": [
    {
     "name": "stderr",
     "output_type": "stream",
     "text": [
      "WARNING:root:msh4 requires 3D points, but 2D points given. Appending 0 third component.\n"
     ]
    },
    {
     "name": "stderr",
     "output_type": "stream",
     "text": [
      "WARNING:root:Binary Gmsh needs c_size_t (got int64). Converting.\n"
     ]
    },
    {
     "name": "stdout",
     "output_type": "stream",
     "text": [
      "advection_p3b1cpt1_strong\n"
     ]
    },
    {
     "name": "stdout",
     "output_type": "stream",
     "text": [
      "-8.845e-16 &  -5.557e-04 & 3.653e-03  \\\\\n"
     ]
    }
   ],
   "source": [
    "import sys  \n",
    "import numpy as np\n",
    "sys.path.insert(0, '../src')\n",
    "from Driver import advection_driver\n",
    "\n",
    "solver = advection_driver(a=np.sqrt(2), theta=np.pi/4, p=p, M=M, L=L,\n",
    "                        p_geo=p_geo, c=c, \n",
    "                        discretization_type=discretization_type,\n",
    "                        upwind_parameter=upwind_parameter,\n",
    "                        form=form)"
   ]
  },
  {
   "cell_type": "code",
   "execution_count": null,
   "id": "70e443cf",
   "metadata": {
    "papermill": {
     "duration": 0.005762,
     "end_time": "2021-05-11T07:56:42.592359",
     "exception": false,
     "start_time": "2021-05-11T07:56:42.586597",
     "status": "completed"
    },
    "tags": []
   },
   "outputs": [],
   "source": []
  }
 ],
 "metadata": {
  "celltoolbar": "Tags",
  "kernelspec": {
   "display_name": "Python 3",
   "language": "python",
   "name": "python3"
  },
  "language_info": {
   "codemirror_mode": {
    "name": "ipython",
    "version": 3
   },
   "file_extension": ".py",
   "mimetype": "text/x-python",
   "name": "python",
   "nbconvert_exporter": "python",
   "pygments_lexer": "ipython3",
   "version": "3.8.5"
  },
  "papermill": {
   "default_parameters": {},
   "duration": 9310.293957,
   "end_time": "2021-05-11T07:56:43.108556",
   "environment_variables": {},
   "exception": null,
   "input_path": "advection_driver.ipynb",
   "output_path": "advection_p3b1cpt1_strong.ipynb",
   "parameters": {
    "c": "c_+",
    "discretization_type": 1,
    "form": "strong",
    "p": 3,
    "p_geo": 1,
    "upwind_parameter": 1.0
   },
   "start_time": "2021-05-11T05:21:32.814599",
   "version": "2.3.3"
  }
 },
 "nbformat": 4,
 "nbformat_minor": 5
}