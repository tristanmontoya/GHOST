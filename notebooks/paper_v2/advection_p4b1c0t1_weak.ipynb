{
 "cells": [
  {
   "cell_type": "code",
   "execution_count": 1,
   "id": "1fe8b924",
   "metadata": {
    "execution": {
     "iopub.execute_input": "2021-05-14T14:12:17.972978Z",
     "iopub.status.busy": "2021-05-14T14:12:17.972320Z",
     "iopub.status.idle": "2021-05-14T14:12:17.975966Z",
     "shell.execute_reply": "2021-05-14T14:12:17.976478Z"
    },
    "papermill": {
     "duration": 0.024214,
     "end_time": "2021-05-14T14:12:17.976726",
     "exception": false,
     "start_time": "2021-05-14T14:12:17.952512",
     "status": "completed"
    },
    "tags": [
     "parameters"
    ]
   },
   "outputs": [],
   "source": [
    "p=2\n",
    "M=10\n",
    "L=1\n",
    "p_geo=1\n",
    "c=\"c_dg\"\n",
    "discretization_type=1\n",
    "upwind_parameter=1.0\n",
    "form=\"strong\""
   ]
  },
  {
   "cell_type": "code",
   "execution_count": 2,
   "id": "7f146a9f",
   "metadata": {
    "execution": {
     "iopub.execute_input": "2021-05-14T14:12:18.051210Z",
     "iopub.status.busy": "2021-05-14T14:12:18.047352Z",
     "iopub.status.idle": "2021-05-14T14:12:18.052221Z",
     "shell.execute_reply": "2021-05-14T14:12:18.057686Z"
    },
    "papermill": {
     "duration": 0.076161,
     "end_time": "2021-05-14T14:12:18.057892",
     "exception": false,
     "start_time": "2021-05-14T14:12:17.981731",
     "status": "completed"
    },
    "tags": [
     "injected-parameters"
    ]
   },
   "outputs": [],
   "source": [
    "# Parameters\n",
    "p = 4\n",
    "p_geo = 1\n",
    "upwind_parameter = 1.0\n",
    "c = \"c_dg\"\n",
    "discretization_type = 1\n",
    "form = \"weak\"\n"
   ]
  },
  {
   "cell_type": "code",
   "execution_count": 3,
   "id": "58561b9b",
   "metadata": {
    "execution": {
     "iopub.execute_input": "2021-05-14T14:12:18.104263Z",
     "iopub.status.busy": "2021-05-14T14:12:18.103331Z",
     "iopub.status.idle": "2021-05-14T16:46:13.921525Z",
     "shell.execute_reply": "2021-05-14T16:46:13.922345Z"
    },
    "papermill": {
     "duration": 9235.856172,
     "end_time": "2021-05-14T16:46:13.922639",
     "exception": false,
     "start_time": "2021-05-14T14:12:18.066467",
     "status": "completed"
    },
    "tags": []
   },
   "outputs": [
    {
     "name": "stderr",
     "output_type": "stream",
     "text": [
      "WARNING:root:msh4 requires 3D points, but 2D points given. Appending 0 third component.\n"
     ]
    },
    {
     "name": "stderr",
     "output_type": "stream",
     "text": [
      "WARNING:root:Binary Gmsh needs c_size_t (got int64). Converting.\n"
     ]
    },
    {
     "name": "stdout",
     "output_type": "stream",
     "text": [
      "advection_p4b1c0t1_weak\n"
     ]
    },
    {
     "name": "stdout",
     "output_type": "stream",
     "text": [
      "-9.814e-16 &  -6.593e-07 & 9.538e-05  \\\\\n"
     ]
    }
   ],
   "source": [
    "import sys  \n",
    "import numpy as np\n",
    "sys.path.insert(0, '../src')\n",
    "from Driver import advection_driver\n",
    "\n",
    "solver = advection_driver(a=np.sqrt(2), theta=np.pi/4, p=p, M=M, L=L,\n",
    "                        p_geo=p_geo, c=c, \n",
    "                        discretization_type=discretization_type,\n",
    "                        upwind_parameter=upwind_parameter,\n",
    "                        form=form)"
   ]
  },
  {
   "cell_type": "code",
   "execution_count": null,
   "id": "6451af4c",
   "metadata": {
    "papermill": {
     "duration": 0.007905,
     "end_time": "2021-05-14T16:46:13.939091",
     "exception": false,
     "start_time": "2021-05-14T16:46:13.931186",
     "status": "completed"
    },
    "tags": []
   },
   "outputs": [],
   "source": []
  }
 ],
 "metadata": {
  "celltoolbar": "Tags",
  "kernelspec": {
   "display_name": "Python 3",
   "language": "python",
   "name": "python3"
  },
  "language_info": {
   "codemirror_mode": {
    "name": "ipython",
    "version": 3
   },
   "file_extension": ".py",
   "mimetype": "text/x-python",
   "name": "python",
   "nbconvert_exporter": "python",
   "pygments_lexer": "ipython3",
   "version": "3.8.5"
  },
  "papermill": {
   "default_parameters": {},
   "duration": 9238.05852,
   "end_time": "2021-05-14T16:46:14.458371",
   "environment_variables": {},
   "exception": null,
   "input_path": "advection_driver.ipynb",
   "output_path": "advection_p4b1c0t1_weak.ipynb",
   "parameters": {
    "c": "c_dg",
    "discretization_type": 1,
    "form": "weak",
    "p": 4,
    "p_geo": 1,
    "upwind_parameter": 1.0
   },
   "start_time": "2021-05-14T14:12:16.399851",
   "version": "2.3.3"
  }
 },
 "nbformat": 4,
 "nbformat_minor": 5
}