{
 "cells": [
  {
   "cell_type": "code",
   "execution_count": 1,
   "id": "c39d1c48",
   "metadata": {
    "execution": {
     "iopub.execute_input": "2021-05-11T03:10:10.959846Z",
     "iopub.status.busy": "2021-05-11T03:10:10.958472Z",
     "iopub.status.idle": "2021-05-11T03:10:10.960448Z",
     "shell.execute_reply": "2021-05-11T03:10:10.959094Z"
    },
    "papermill": {
     "duration": 0.026562,
     "end_time": "2021-05-11T03:10:10.960602",
     "exception": false,
     "start_time": "2021-05-11T03:10:10.934040",
     "status": "completed"
    },
    "tags": [
     "parameters"
    ]
   },
   "outputs": [],
   "source": [
    "p=2\n",
    "M=10\n",
    "L=1\n",
    "p_geo=1\n",
    "c=\"c_dg\"\n",
    "discretization_type=1\n",
    "upwind_parameter=1.0\n",
    "form=\"strong\""
   ]
  },
  {
   "cell_type": "code",
   "execution_count": 2,
   "id": "c5183516",
   "metadata": {
    "execution": {
     "iopub.execute_input": "2021-05-11T03:10:11.004941Z",
     "iopub.status.busy": "2021-05-11T03:10:11.004314Z",
     "iopub.status.idle": "2021-05-11T03:10:11.007666Z",
     "shell.execute_reply": "2021-05-11T03:10:11.007113Z"
    },
    "papermill": {
     "duration": 0.042206,
     "end_time": "2021-05-11T03:10:11.007803",
     "exception": false,
     "start_time": "2021-05-11T03:10:10.965597",
     "status": "completed"
    },
    "tags": [
     "injected-parameters"
    ]
   },
   "outputs": [],
   "source": [
    "# Parameters\n",
    "p = 2\n",
    "p_geo = 1\n",
    "upwind_parameter = 0.0\n",
    "c = \"c_+\"\n",
    "discretization_type = 3\n",
    "form = \"weak\"\n"
   ]
  },
  {
   "cell_type": "code",
   "execution_count": 3,
   "id": "c676a661",
   "metadata": {
    "execution": {
     "iopub.execute_input": "2021-05-11T03:10:11.079217Z",
     "iopub.status.busy": "2021-05-11T03:10:11.078535Z",
     "iopub.status.idle": "2021-05-11T04:34:15.946863Z",
     "shell.execute_reply": "2021-05-11T04:34:15.947509Z"
    },
    "papermill": {
     "duration": 5044.935194,
     "end_time": "2021-05-11T04:34:15.947726",
     "exception": false,
     "start_time": "2021-05-11T03:10:11.012532",
     "status": "completed"
    },
    "tags": []
   },
   "outputs": [
    {
     "name": "stderr",
     "output_type": "stream",
     "text": [
      "WARNING:root:msh4 requires 3D points, but 2D points given. Appending 0 third component.\n"
     ]
    },
    {
     "name": "stderr",
     "output_type": "stream",
     "text": [
      "WARNING:root:Binary Gmsh needs c_size_t (got int64). Converting.\n"
     ]
    },
    {
     "name": "stdout",
     "output_type": "stream",
     "text": [
      "advection_p2b0cpt3_weak\n"
     ]
    },
    {
     "name": "stdout",
     "output_type": "stream",
     "text": [
      "-7.555e-09 &  8.777e+16 & 2.726e+08  \\\\\n"
     ]
    }
   ],
   "source": [
    "import sys  \n",
    "import numpy as np\n",
    "sys.path.insert(0, '../src')\n",
    "from Driver import advection_driver\n",
    "\n",
    "solver = advection_driver(a=np.sqrt(2), theta=np.pi/4, p=p, M=M, L=L,\n",
    "                        p_geo=p_geo, c=c, \n",
    "                        discretization_type=discretization_type,\n",
    "                        upwind_parameter=upwind_parameter,\n",
    "                        form=form)"
   ]
  },
  {
   "cell_type": "code",
   "execution_count": null,
   "id": "a508d0b9",
   "metadata": {
    "papermill": {
     "duration": 0.008387,
     "end_time": "2021-05-11T04:34:15.964863",
     "exception": false,
     "start_time": "2021-05-11T04:34:15.956476",
     "status": "completed"
    },
    "tags": []
   },
   "outputs": [],
   "source": []
  }
 ],
 "metadata": {
  "celltoolbar": "Tags",
  "kernelspec": {
   "display_name": "Python 3",
   "language": "python",
   "name": "python3"
  },
  "language_info": {
   "codemirror_mode": {
    "name": "ipython",
    "version": 3
   },
   "file_extension": ".py",
   "mimetype": "text/x-python",
   "name": "python",
   "nbconvert_exporter": "python",
   "pygments_lexer": "ipython3",
   "version": "3.8.5"
  },
  "papermill": {
   "default_parameters": {},
   "duration": 5046.843909,
   "end_time": "2021-05-11T04:34:16.584428",
   "environment_variables": {},
   "exception": null,
   "input_path": "advection_driver.ipynb",
   "output_path": "advection_p2b0cpt3_weak.ipynb",
   "parameters": {
    "c": "c_+",
    "discretization_type": 3,
    "form": "weak",
    "p": 2,
    "p_geo": 1,
    "upwind_parameter": 0.0
   },
   "start_time": "2021-05-11T03:10:09.740519",
   "version": "2.3.3"
  }
 },
 "nbformat": 4,
 "nbformat_minor": 5
}