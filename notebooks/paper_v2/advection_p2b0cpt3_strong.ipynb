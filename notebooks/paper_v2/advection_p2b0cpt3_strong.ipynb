{
 "cells": [
  {
   "cell_type": "code",
   "execution_count": 1,
   "id": "73309338",
   "metadata": {
    "execution": {
     "iopub.execute_input": "2021-05-11T03:10:11.357627Z",
     "iopub.status.busy": "2021-05-11T03:10:11.356788Z",
     "iopub.status.idle": "2021-05-11T03:10:11.378560Z",
     "shell.execute_reply": "2021-05-11T03:10:11.379070Z"
    },
    "papermill": {
     "duration": 0.057494,
     "end_time": "2021-05-11T03:10:11.379366",
     "exception": false,
     "start_time": "2021-05-11T03:10:11.321872",
     "status": "completed"
    },
    "tags": [
     "parameters"
    ]
   },
   "outputs": [],
   "source": [
    "p=2\n",
    "M=10\n",
    "L=1\n",
    "p_geo=1\n",
    "c=\"c_dg\"\n",
    "discretization_type=1\n",
    "upwind_parameter=1.0\n",
    "form=\"strong\""
   ]
  },
  {
   "cell_type": "code",
   "execution_count": 2,
   "id": "dc667b7a",
   "metadata": {
    "execution": {
     "iopub.execute_input": "2021-05-11T03:10:11.422366Z",
     "iopub.status.busy": "2021-05-11T03:10:11.421711Z",
     "iopub.status.idle": "2021-05-11T03:10:11.428305Z",
     "shell.execute_reply": "2021-05-11T03:10:11.428791Z"
    },
    "papermill": {
     "duration": 0.036362,
     "end_time": "2021-05-11T03:10:11.428976",
     "exception": false,
     "start_time": "2021-05-11T03:10:11.392614",
     "status": "completed"
    },
    "tags": [
     "injected-parameters"
    ]
   },
   "outputs": [],
   "source": [
    "# Parameters\n",
    "p = 2\n",
    "p_geo = 1\n",
    "upwind_parameter = 0.0\n",
    "c = \"c_+\"\n",
    "discretization_type = 3\n",
    "form = \"strong\"\n"
   ]
  },
  {
   "cell_type": "code",
   "execution_count": 3,
   "id": "46e7dbd8",
   "metadata": {
    "execution": {
     "iopub.execute_input": "2021-05-11T03:10:11.481052Z",
     "iopub.status.busy": "2021-05-11T03:10:11.480432Z",
     "iopub.status.idle": "2021-05-11T05:03:42.653879Z",
     "shell.execute_reply": "2021-05-11T05:03:42.654381Z"
    },
    "papermill": {
     "duration": 6811.220843,
     "end_time": "2021-05-11T05:03:42.654537",
     "exception": false,
     "start_time": "2021-05-11T03:10:11.433694",
     "status": "completed"
    },
    "tags": []
   },
   "outputs": [
    {
     "name": "stderr",
     "output_type": "stream",
     "text": [
      "WARNING:root:msh4 requires 3D points, but 2D points given. Appending 0 third component.\n"
     ]
    },
    {
     "name": "stderr",
     "output_type": "stream",
     "text": [
      "WARNING:root:Binary Gmsh needs c_size_t (got int64). Converting.\n"
     ]
    },
    {
     "name": "stdout",
     "output_type": "stream",
     "text": [
      "advection_p2b0cpt3_strong\n"
     ]
    },
    {
     "name": "stdout",
     "output_type": "stream",
     "text": [
      "8.852e+49 &  1.215e+134 & 9.519e+66  \\\\\n"
     ]
    }
   ],
   "source": [
    "import sys  \n",
    "import numpy as np\n",
    "sys.path.insert(0, '../src')\n",
    "from Driver import advection_driver\n",
    "\n",
    "solver = advection_driver(a=np.sqrt(2), theta=np.pi/4, p=p, M=M, L=L,\n",
    "                        p_geo=p_geo, c=c, \n",
    "                        discretization_type=discretization_type,\n",
    "                        upwind_parameter=upwind_parameter,\n",
    "                        form=form)"
   ]
  },
  {
   "cell_type": "code",
   "execution_count": null,
   "id": "e92f3b22",
   "metadata": {
    "papermill": {
     "duration": 0.005685,
     "end_time": "2021-05-11T05:03:42.666161",
     "exception": false,
     "start_time": "2021-05-11T05:03:42.660476",
     "status": "completed"
    },
    "tags": []
   },
   "outputs": [],
   "source": []
  }
 ],
 "metadata": {
  "celltoolbar": "Tags",
  "kernelspec": {
   "display_name": "Python 3",
   "language": "python",
   "name": "python3"
  },
  "language_info": {
   "codemirror_mode": {
    "name": "ipython",
    "version": 3
   },
   "file_extension": ".py",
   "mimetype": "text/x-python",
   "name": "python",
   "nbconvert_exporter": "python",
   "pygments_lexer": "ipython3",
   "version": "3.8.5"
  },
  "papermill": {
   "default_parameters": {},
   "duration": 6813.425896,
   "end_time": "2021-05-11T05:03:43.179285",
   "environment_variables": {},
   "exception": null,
   "input_path": "advection_driver.ipynb",
   "output_path": "advection_p2b0cpt3_strong.ipynb",
   "parameters": {
    "c": "c_+",
    "discretization_type": 3,
    "form": "strong",
    "p": 2,
    "p_geo": 1,
    "upwind_parameter": 0.0
   },
   "start_time": "2021-05-11T03:10:09.753389",
   "version": "2.3.3"
  }
 },
 "nbformat": 4,
 "nbformat_minor": 5
}