{
 "cells": [
  {
   "cell_type": "code",
   "execution_count": 1,
   "id": "5fa21219",
   "metadata": {
    "execution": {
     "iopub.execute_input": "2021-05-11T03:10:11.423806Z",
     "iopub.status.busy": "2021-05-11T03:10:11.423173Z",
     "iopub.status.idle": "2021-05-11T03:10:11.426328Z",
     "shell.execute_reply": "2021-05-11T03:10:11.425628Z"
    },
    "papermill": {
     "duration": 0.020816,
     "end_time": "2021-05-11T03:10:11.426472",
     "exception": false,
     "start_time": "2021-05-11T03:10:11.405656",
     "status": "completed"
    },
    "tags": [
     "parameters"
    ]
   },
   "outputs": [],
   "source": [
    "p=2\n",
    "M=10\n",
    "L=1\n",
    "p_geo=1\n",
    "c=\"c_dg\"\n",
    "discretization_type=1\n",
    "upwind_parameter=1.0\n",
    "form=\"strong\""
   ]
  },
  {
   "cell_type": "code",
   "execution_count": 2,
   "id": "c07b4554",
   "metadata": {
    "execution": {
     "iopub.execute_input": "2021-05-11T03:10:11.468337Z",
     "iopub.status.busy": "2021-05-11T03:10:11.467122Z",
     "iopub.status.idle": "2021-05-11T03:10:11.468916Z",
     "shell.execute_reply": "2021-05-11T03:10:11.467773Z"
    },
    "papermill": {
     "duration": 0.037518,
     "end_time": "2021-05-11T03:10:11.469057",
     "exception": false,
     "start_time": "2021-05-11T03:10:11.431539",
     "status": "completed"
    },
    "tags": [
     "injected-parameters"
    ]
   },
   "outputs": [],
   "source": [
    "# Parameters\n",
    "p = 2\n",
    "p_geo = 1\n",
    "upwind_parameter = 1.0\n",
    "c = \"c_+\"\n",
    "discretization_type = 1\n",
    "form = \"weak\"\n"
   ]
  },
  {
   "cell_type": "code",
   "execution_count": 3,
   "id": "4a75c57c",
   "metadata": {
    "execution": {
     "iopub.execute_input": "2021-05-11T03:10:11.559114Z",
     "iopub.status.busy": "2021-05-11T03:10:11.558454Z",
     "iopub.status.idle": "2021-05-11T04:31:26.777951Z",
     "shell.execute_reply": "2021-05-11T04:31:26.778685Z"
    },
    "papermill": {
     "duration": 4875.305331,
     "end_time": "2021-05-11T04:31:26.779046",
     "exception": false,
     "start_time": "2021-05-11T03:10:11.473715",
     "status": "completed"
    },
    "tags": []
   },
   "outputs": [
    {
     "name": "stderr",
     "output_type": "stream",
     "text": [
      "WARNING:root:msh4 requires 3D points, but 2D points given. Appending 0 third component.\n"
     ]
    },
    {
     "name": "stderr",
     "output_type": "stream",
     "text": [
      "WARNING:root:Binary Gmsh needs c_size_t (got int64). Converting.\n"
     ]
    },
    {
     "name": "stdout",
     "output_type": "stream",
     "text": [
      "advection_p2b1cpt1_weak\n"
     ]
    },
    {
     "name": "stdout",
     "output_type": "stream",
     "text": [
      "-8.422e-16 &  -2.066e-02 & 4.276e-02  \\\\\n"
     ]
    }
   ],
   "source": [
    "import sys  \n",
    "import numpy as np\n",
    "sys.path.insert(0, '../src')\n",
    "from Driver import advection_driver\n",
    "\n",
    "solver = advection_driver(a=np.sqrt(2), theta=np.pi/4, p=p, M=M, L=L,\n",
    "                        p_geo=p_geo, c=c, \n",
    "                        discretization_type=discretization_type,\n",
    "                        upwind_parameter=upwind_parameter,\n",
    "                        form=form)"
   ]
  },
  {
   "cell_type": "code",
   "execution_count": null,
   "id": "84fe4e2b",
   "metadata": {
    "papermill": {
     "duration": 0.008386,
     "end_time": "2021-05-11T04:31:26.796685",
     "exception": false,
     "start_time": "2021-05-11T04:31:26.788299",
     "status": "completed"
    },
    "tags": []
   },
   "outputs": [],
   "source": []
  }
 ],
 "metadata": {
  "celltoolbar": "Tags",
  "kernelspec": {
   "display_name": "Python 3",
   "language": "python",
   "name": "python3"
  },
  "language_info": {
   "codemirror_mode": {
    "name": "ipython",
    "version": 3
   },
   "file_extension": ".py",
   "mimetype": "text/x-python",
   "name": "python",
   "nbconvert_exporter": "python",
   "pygments_lexer": "ipython3",
   "version": "3.8.5"
  },
  "papermill": {
   "default_parameters": {},
   "duration": 4877.498146,
   "end_time": "2021-05-11T04:31:27.318077",
   "environment_variables": {},
   "exception": null,
   "input_path": "advection_driver.ipynb",
   "output_path": "advection_p2b1cpt1_weak.ipynb",
   "parameters": {
    "c": "c_+",
    "discretization_type": 1,
    "form": "weak",
    "p": 2,
    "p_geo": 1,
    "upwind_parameter": 1.0
   },
   "start_time": "2021-05-11T03:10:09.819931",
   "version": "2.3.3"
  }
 },
 "nbformat": 4,
 "nbformat_minor": 5
}