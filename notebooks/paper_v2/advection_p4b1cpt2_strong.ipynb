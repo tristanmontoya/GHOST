{
 "cells": [
  {
   "cell_type": "code",
   "execution_count": 1,
   "id": "04812cae",
   "metadata": {
    "execution": {
     "iopub.execute_input": "2021-05-14T14:12:17.966867Z",
     "iopub.status.busy": "2021-05-14T14:12:17.966195Z",
     "iopub.status.idle": "2021-05-14T14:12:17.969566Z",
     "shell.execute_reply": "2021-05-14T14:12:17.968871Z"
    },
    "papermill": {
     "duration": 0.019965,
     "end_time": "2021-05-14T14:12:17.969719",
     "exception": false,
     "start_time": "2021-05-14T14:12:17.949754",
     "status": "completed"
    },
    "tags": [
     "parameters"
    ]
   },
   "outputs": [],
   "source": [
    "p=2\n",
    "M=10\n",
    "L=1\n",
    "p_geo=1\n",
    "c=\"c_dg\"\n",
    "discretization_type=1\n",
    "upwind_parameter=1.0\n",
    "form=\"strong\""
   ]
  },
  {
   "cell_type": "code",
   "execution_count": 2,
   "id": "47500ffe",
   "metadata": {
    "execution": {
     "iopub.execute_input": "2021-05-14T14:12:18.045548Z",
     "iopub.status.busy": "2021-05-14T14:12:18.044375Z",
     "iopub.status.idle": "2021-05-14T14:12:18.046212Z",
     "shell.execute_reply": "2021-05-14T14:12:18.044945Z"
    },
    "papermill": {
     "duration": 0.065067,
     "end_time": "2021-05-14T14:12:18.046379",
     "exception": false,
     "start_time": "2021-05-14T14:12:17.981312",
     "status": "completed"
    },
    "tags": [
     "injected-parameters"
    ]
   },
   "outputs": [],
   "source": [
    "# Parameters\n",
    "p = 4\n",
    "p_geo = 1\n",
    "upwind_parameter = 1.0\n",
    "c = \"c_+\"\n",
    "discretization_type = 2\n",
    "form = \"strong\"\n"
   ]
  },
  {
   "cell_type": "code",
   "execution_count": 3,
   "id": "7f061476",
   "metadata": {
    "execution": {
     "iopub.execute_input": "2021-05-14T14:12:18.080797Z",
     "iopub.status.busy": "2021-05-14T14:12:18.080150Z",
     "iopub.status.idle": "2021-05-14T17:31:23.023510Z",
     "shell.execute_reply": "2021-05-14T17:31:23.024048Z"
    },
    "papermill": {
     "duration": 11944.955763,
     "end_time": "2021-05-14T17:31:23.024269",
     "exception": false,
     "start_time": "2021-05-14T14:12:18.068506",
     "status": "completed"
    },
    "tags": []
   },
   "outputs": [
    {
     "name": "stderr",
     "output_type": "stream",
     "text": [
      "WARNING:root:msh4 requires 3D points, but 2D points given. Appending 0 third component.\n"
     ]
    },
    {
     "name": "stderr",
     "output_type": "stream",
     "text": [
      "WARNING:root:Binary Gmsh needs c_size_t (got int64). Converting.\n"
     ]
    },
    {
     "name": "stdout",
     "output_type": "stream",
     "text": [
      "advection_p4b1cpt2_strong\n"
     ]
    },
    {
     "name": "stdout",
     "output_type": "stream",
     "text": [
      "-5.281e-16 &  -8.934e-06 & 4.411e-04  \\\\\n"
     ]
    }
   ],
   "source": [
    "import sys  \n",
    "import numpy as np\n",
    "sys.path.insert(0, '../src')\n",
    "from Driver import advection_driver\n",
    "\n",
    "solver = advection_driver(a=np.sqrt(2), theta=np.pi/4, p=p, M=M, L=L,\n",
    "                        p_geo=p_geo, c=c, \n",
    "                        discretization_type=discretization_type,\n",
    "                        upwind_parameter=upwind_parameter,\n",
    "                        form=form)"
   ]
  },
  {
   "cell_type": "code",
   "execution_count": null,
   "id": "a6d38a9c",
   "metadata": {
    "papermill": {
     "duration": 0.005642,
     "end_time": "2021-05-14T17:31:23.035980",
     "exception": false,
     "start_time": "2021-05-14T17:31:23.030338",
     "status": "completed"
    },
    "tags": []
   },
   "outputs": [],
   "source": []
  }
 ],
 "metadata": {
  "celltoolbar": "Tags",
  "kernelspec": {
   "display_name": "Python 3",
   "language": "python",
   "name": "python3"
  },
  "language_info": {
   "codemirror_mode": {
    "name": "ipython",
    "version": 3
   },
   "file_extension": ".py",
   "mimetype": "text/x-python",
   "name": "python",
   "nbconvert_exporter": "python",
   "pygments_lexer": "ipython3",
   "version": "3.8.5"
  },
  "papermill": {
   "default_parameters": {},
   "duration": 11947.136815,
   "end_time": "2021-05-14T17:31:23.550528",
   "environment_variables": {},
   "exception": null,
   "input_path": "advection_driver.ipynb",
   "output_path": "advection_p4b1cpt2_strong.ipynb",
   "parameters": {
    "c": "c_+",
    "discretization_type": 2,
    "form": "strong",
    "p": 4,
    "p_geo": 1,
    "upwind_parameter": 1.0
   },
   "start_time": "2021-05-14T14:12:16.413713",
   "version": "2.3.3"
  }
 },
 "nbformat": 4,
 "nbformat_minor": 5
}