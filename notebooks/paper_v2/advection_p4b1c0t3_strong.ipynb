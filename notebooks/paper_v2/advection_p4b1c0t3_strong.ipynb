{
 "cells": [
  {
   "cell_type": "code",
   "execution_count": 1,
   "id": "2a436e1f",
   "metadata": {
    "execution": {
     "iopub.execute_input": "2021-05-14T14:12:18.017061Z",
     "iopub.status.busy": "2021-05-14T14:12:18.016365Z",
     "iopub.status.idle": "2021-05-14T14:12:18.018401Z",
     "shell.execute_reply": "2021-05-14T14:12:18.018942Z"
    },
    "papermill": {
     "duration": 0.030002,
     "end_time": "2021-05-14T14:12:18.019208",
     "exception": false,
     "start_time": "2021-05-14T14:12:17.989206",
     "status": "completed"
    },
    "tags": [
     "parameters"
    ]
   },
   "outputs": [],
   "source": [
    "p=2\n",
    "M=10\n",
    "L=1\n",
    "p_geo=1\n",
    "c=\"c_dg\"\n",
    "discretization_type=1\n",
    "upwind_parameter=1.0\n",
    "form=\"strong\""
   ]
  },
  {
   "cell_type": "code",
   "execution_count": 2,
   "id": "7bf7666f",
   "metadata": {
    "execution": {
     "iopub.execute_input": "2021-05-14T14:12:18.072078Z",
     "iopub.status.busy": "2021-05-14T14:12:18.071201Z",
     "iopub.status.idle": "2021-05-14T14:12:18.073707Z",
     "shell.execute_reply": "2021-05-14T14:12:18.072906Z"
    },
    "papermill": {
     "duration": 0.040001,
     "end_time": "2021-05-14T14:12:18.073885",
     "exception": false,
     "start_time": "2021-05-14T14:12:18.033884",
     "status": "completed"
    },
    "tags": [
     "injected-parameters"
    ]
   },
   "outputs": [],
   "source": [
    "# Parameters\n",
    "p = 4\n",
    "p_geo = 1\n",
    "upwind_parameter = 1.0\n",
    "c = \"c_dg\"\n",
    "discretization_type = 3\n",
    "form = \"strong\"\n"
   ]
  },
  {
   "cell_type": "code",
   "execution_count": 3,
   "id": "971d0ee1",
   "metadata": {
    "execution": {
     "iopub.execute_input": "2021-05-14T14:12:18.175162Z",
     "iopub.status.busy": "2021-05-14T14:12:18.174488Z",
     "iopub.status.idle": "2021-05-14T17:24:04.824193Z",
     "shell.execute_reply": "2021-05-14T17:24:04.824819Z"
    },
    "papermill": {
     "duration": 11506.717265,
     "end_time": "2021-05-14T17:24:04.825083",
     "exception": false,
     "start_time": "2021-05-14T14:12:18.107818",
     "status": "completed"
    },
    "tags": []
   },
   "outputs": [
    {
     "name": "stderr",
     "output_type": "stream",
     "text": [
      "WARNING:root:msh4 requires 3D points, but 2D points given. Appending 0 third component.\n"
     ]
    },
    {
     "name": "stderr",
     "output_type": "stream",
     "text": [
      "WARNING:root:Binary Gmsh needs c_size_t (got int64). Converting.\n"
     ]
    },
    {
     "name": "stdout",
     "output_type": "stream",
     "text": [
      "advection_p4b1c0t3_strong\n"
     ]
    },
    {
     "name": "stdout",
     "output_type": "stream",
     "text": [
      "-1.520e-15 &  -6.454e-07 & 9.886e-05  \\\\\n"
     ]
    }
   ],
   "source": [
    "import sys  \n",
    "import numpy as np\n",
    "sys.path.insert(0, '../src')\n",
    "from Driver import advection_driver\n",
    "\n",
    "solver = advection_driver(a=np.sqrt(2), theta=np.pi/4, p=p, M=M, L=L,\n",
    "                        p_geo=p_geo, c=c, \n",
    "                        discretization_type=discretization_type,\n",
    "                        upwind_parameter=upwind_parameter,\n",
    "                        form=form)"
   ]
  },
  {
   "cell_type": "code",
   "execution_count": null,
   "id": "9d9216f5",
   "metadata": {
    "papermill": {
     "duration": 0.007846,
     "end_time": "2021-05-14T17:24:04.841219",
     "exception": false,
     "start_time": "2021-05-14T17:24:04.833373",
     "status": "completed"
    },
    "tags": []
   },
   "outputs": [],
   "source": []
  }
 ],
 "metadata": {
  "celltoolbar": "Tags",
  "kernelspec": {
   "display_name": "Python 3",
   "language": "python",
   "name": "python3"
  },
  "language_info": {
   "codemirror_mode": {
    "name": "ipython",
    "version": 3
   },
   "file_extension": ".py",
   "mimetype": "text/x-python",
   "name": "python",
   "nbconvert_exporter": "python",
   "pygments_lexer": "ipython3",
   "version": "3.8.5"
  },
  "papermill": {
   "default_parameters": {},
   "duration": 11508.960953,
   "end_time": "2021-05-14T17:24:05.359459",
   "environment_variables": {},
   "exception": null,
   "input_path": "advection_driver.ipynb",
   "output_path": "advection_p4b1c0t3_strong.ipynb",
   "parameters": {
    "c": "c_dg",
    "discretization_type": 3,
    "form": "strong",
    "p": 4,
    "p_geo": 1,
    "upwind_parameter": 1.0
   },
   "start_time": "2021-05-14T14:12:16.398506",
   "version": "2.3.3"
  }
 },
 "nbformat": 4,
 "nbformat_minor": 5
}