{
 "cells": [
  {
   "cell_type": "code",
   "execution_count": 1,
   "id": "d339eb33",
   "metadata": {
    "execution": {
     "iopub.execute_input": "2021-05-11T05:21:34.177278Z",
     "iopub.status.busy": "2021-05-11T05:21:34.176557Z",
     "iopub.status.idle": "2021-05-11T05:21:34.179132Z",
     "shell.execute_reply": "2021-05-11T05:21:34.179627Z"
    },
    "papermill": {
     "duration": 0.021247,
     "end_time": "2021-05-11T05:21:34.179928",
     "exception": false,
     "start_time": "2021-05-11T05:21:34.158681",
     "status": "completed"
    },
    "tags": [
     "parameters"
    ]
   },
   "outputs": [],
   "source": [
    "p=2\n",
    "M=10\n",
    "L=1\n",
    "p_geo=1\n",
    "c=\"c_dg\"\n",
    "discretization_type=1\n",
    "upwind_parameter=1.0\n",
    "form=\"strong\""
   ]
  },
  {
   "cell_type": "code",
   "execution_count": 2,
   "id": "f0243b89",
   "metadata": {
    "execution": {
     "iopub.execute_input": "2021-05-11T05:21:34.235168Z",
     "iopub.status.busy": "2021-05-11T05:21:34.233946Z",
     "iopub.status.idle": "2021-05-11T05:21:34.235783Z",
     "shell.execute_reply": "2021-05-11T05:21:34.234561Z"
    },
    "papermill": {
     "duration": 0.050664,
     "end_time": "2021-05-11T05:21:34.235937",
     "exception": false,
     "start_time": "2021-05-11T05:21:34.185273",
     "status": "completed"
    },
    "tags": [
     "injected-parameters"
    ]
   },
   "outputs": [],
   "source": [
    "# Parameters\n",
    "p = 3\n",
    "p_geo = 1\n",
    "upwind_parameter = 1.0\n",
    "c = \"c_dg\"\n",
    "discretization_type = 2\n",
    "form = \"weak\"\n"
   ]
  },
  {
   "cell_type": "code",
   "execution_count": 3,
   "id": "4f5005b8",
   "metadata": {
    "execution": {
     "iopub.execute_input": "2021-05-11T05:21:34.325298Z",
     "iopub.status.busy": "2021-05-11T05:21:34.324599Z",
     "iopub.status.idle": "2021-05-11T07:22:11.177359Z",
     "shell.execute_reply": "2021-05-11T07:22:11.178011Z"
    },
    "papermill": {
     "duration": 7236.909773,
     "end_time": "2021-05-11T07:22:11.178273",
     "exception": false,
     "start_time": "2021-05-11T05:21:34.268500",
     "status": "completed"
    },
    "tags": []
   },
   "outputs": [
    {
     "name": "stderr",
     "output_type": "stream",
     "text": [
      "WARNING:root:msh4 requires 3D points, but 2D points given. Appending 0 third component.\n"
     ]
    },
    {
     "name": "stderr",
     "output_type": "stream",
     "text": [
      "WARNING:root:Binary Gmsh needs c_size_t (got int64). Converting.\n"
     ]
    },
    {
     "name": "stdout",
     "output_type": "stream",
     "text": [
      "advection_p3b1c0t2_weak\n"
     ]
    },
    {
     "name": "stdout",
     "output_type": "stream",
     "text": [
      "-9.267e-16 &  -4.748e-05 & 9.359e-04  \\\\\n"
     ]
    }
   ],
   "source": [
    "import sys  \n",
    "import numpy as np\n",
    "sys.path.insert(0, '../src')\n",
    "from Driver import advection_driver\n",
    "\n",
    "solver = advection_driver(a=np.sqrt(2), theta=np.pi/4, p=p, M=M, L=L,\n",
    "                        p_geo=p_geo, c=c, \n",
    "                        discretization_type=discretization_type,\n",
    "                        upwind_parameter=upwind_parameter,\n",
    "                        form=form)"
   ]
  },
  {
   "cell_type": "code",
   "execution_count": null,
   "id": "d2e6989e",
   "metadata": {
    "papermill": {
     "duration": 0.008018,
     "end_time": "2021-05-11T07:22:11.194634",
     "exception": false,
     "start_time": "2021-05-11T07:22:11.186616",
     "status": "completed"
    },
    "tags": []
   },
   "outputs": [],
   "source": []
  }
 ],
 "metadata": {
  "celltoolbar": "Tags",
  "kernelspec": {
   "display_name": "Python 3",
   "language": "python",
   "name": "python3"
  },
  "language_info": {
   "codemirror_mode": {
    "name": "ipython",
    "version": 3
   },
   "file_extension": ".py",
   "mimetype": "text/x-python",
   "name": "python",
   "nbconvert_exporter": "python",
   "pygments_lexer": "ipython3",
   "version": "3.8.5"
  },
  "papermill": {
   "default_parameters": {},
   "duration": 7238.988055,
   "end_time": "2021-05-11T07:22:11.713305",
   "environment_variables": {},
   "exception": null,
   "input_path": "advection_driver.ipynb",
   "output_path": "advection_p3b1c0t2_weak.ipynb",
   "parameters": {
    "c": "c_dg",
    "discretization_type": 2,
    "form": "weak",
    "p": 3,
    "p_geo": 1,
    "upwind_parameter": 1.0
   },
   "start_time": "2021-05-11T05:21:32.725250",
   "version": "2.3.3"
  }
 },
 "nbformat": 4,
 "nbformat_minor": 5
}