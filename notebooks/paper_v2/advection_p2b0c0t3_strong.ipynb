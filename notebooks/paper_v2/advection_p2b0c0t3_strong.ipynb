{
 "cells": [
  {
   "cell_type": "code",
   "execution_count": 1,
   "id": "570b5b0f",
   "metadata": {
    "execution": {
     "iopub.execute_input": "2021-05-11T03:10:11.099349Z",
     "iopub.status.busy": "2021-05-11T03:10:11.098677Z",
     "iopub.status.idle": "2021-05-11T03:10:11.101815Z",
     "shell.execute_reply": "2021-05-11T03:10:11.101090Z"
    },
    "papermill": {
     "duration": 0.026769,
     "end_time": "2021-05-11T03:10:11.101976",
     "exception": false,
     "start_time": "2021-05-11T03:10:11.075207",
     "status": "completed"
    },
    "tags": [
     "parameters"
    ]
   },
   "outputs": [],
   "source": [
    "p=2\n",
    "M=10\n",
    "L=1\n",
    "p_geo=1\n",
    "c=\"c_dg\"\n",
    "discretization_type=1\n",
    "upwind_parameter=1.0\n",
    "form=\"strong\""
   ]
  },
  {
   "cell_type": "code",
   "execution_count": 2,
   "id": "80bec8dc",
   "metadata": {
    "execution": {
     "iopub.execute_input": "2021-05-11T03:10:11.116084Z",
     "iopub.status.busy": "2021-05-11T03:10:11.115467Z",
     "iopub.status.idle": "2021-05-11T03:10:11.119226Z",
     "shell.execute_reply": "2021-05-11T03:10:11.118712Z"
    },
    "papermill": {
     "duration": 0.012314,
     "end_time": "2021-05-11T03:10:11.119368",
     "exception": false,
     "start_time": "2021-05-11T03:10:11.107054",
     "status": "completed"
    },
    "tags": [
     "injected-parameters"
    ]
   },
   "outputs": [],
   "source": [
    "# Parameters\n",
    "p = 2\n",
    "p_geo = 1\n",
    "upwind_parameter = 0.0\n",
    "c = \"c_dg\"\n",
    "discretization_type = 3\n",
    "form = \"strong\"\n"
   ]
  },
  {
   "cell_type": "code",
   "execution_count": 3,
   "id": "c35c244f",
   "metadata": {
    "execution": {
     "iopub.execute_input": "2021-05-11T03:10:11.164865Z",
     "iopub.status.busy": "2021-05-11T03:10:11.164205Z",
     "iopub.status.idle": "2021-05-11T04:58:20.428188Z",
     "shell.execute_reply": "2021-05-11T04:58:20.427676Z"
    },
    "papermill": {
     "duration": 6489.304337,
     "end_time": "2021-05-11T04:58:20.428331",
     "exception": false,
     "start_time": "2021-05-11T03:10:11.123994",
     "status": "completed"
    },
    "tags": []
   },
   "outputs": [
    {
     "name": "stderr",
     "output_type": "stream",
     "text": [
      "WARNING:root:msh4 requires 3D points, but 2D points given. Appending 0 third component.\n"
     ]
    },
    {
     "name": "stderr",
     "output_type": "stream",
     "text": [
      "WARNING:root:Binary Gmsh needs c_size_t (got int64). Converting.\n"
     ]
    },
    {
     "name": "stdout",
     "output_type": "stream",
     "text": [
      "advection_p2b0c0t3_strong\n"
     ]
    },
    {
     "name": "stdout",
     "output_type": "stream",
     "text": [
      "1.940e+88 &  7.871e+210 & 2.805e+105  \\\\\n"
     ]
    }
   ],
   "source": [
    "import sys  \n",
    "import numpy as np\n",
    "sys.path.insert(0, '../src')\n",
    "from Driver import advection_driver\n",
    "\n",
    "solver = advection_driver(a=np.sqrt(2), theta=np.pi/4, p=p, M=M, L=L,\n",
    "                        p_geo=p_geo, c=c, \n",
    "                        discretization_type=discretization_type,\n",
    "                        upwind_parameter=upwind_parameter,\n",
    "                        form=form)"
   ]
  },
  {
   "cell_type": "code",
   "execution_count": null,
   "id": "d7cd7e28",
   "metadata": {
    "papermill": {
     "duration": 0.005947,
     "end_time": "2021-05-11T04:58:20.440500",
     "exception": false,
     "start_time": "2021-05-11T04:58:20.434553",
     "status": "completed"
    },
    "tags": []
   },
   "outputs": [],
   "source": []
  }
 ],
 "metadata": {
  "celltoolbar": "Tags",
  "kernelspec": {
   "display_name": "Python 3",
   "language": "python",
   "name": "python3"
  },
  "language_info": {
   "codemirror_mode": {
    "name": "ipython",
    "version": 3
   },
   "file_extension": ".py",
   "mimetype": "text/x-python",
   "name": "python",
   "nbconvert_exporter": "python",
   "pygments_lexer": "ipython3",
   "version": "3.8.5"
  },
  "papermill": {
   "default_parameters": {},
   "duration": 6491.21628,
   "end_time": "2021-05-11T04:58:20.955199",
   "environment_variables": {},
   "exception": null,
   "input_path": "advection_driver.ipynb",
   "output_path": "advection_p2b0c0t3_strong.ipynb",
   "parameters": {
    "c": "c_dg",
    "discretization_type": 3,
    "form": "strong",
    "p": 2,
    "p_geo": 1,
    "upwind_parameter": 0.0
   },
   "start_time": "2021-05-11T03:10:09.738919",
   "version": "2.3.3"
  }
 },
 "nbformat": 4,
 "nbformat_minor": 5
}