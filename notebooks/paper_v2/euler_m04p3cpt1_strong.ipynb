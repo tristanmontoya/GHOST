{
 "cells": [
  {
   "cell_type": "code",
   "execution_count": 1,
   "id": "9d700f8c",
   "metadata": {
    "execution": {
     "iopub.execute_input": "2021-05-18T18:50:48.930051Z",
     "iopub.status.busy": "2021-05-18T18:50:48.928913Z",
     "iopub.status.idle": "2021-05-18T18:50:48.939787Z",
     "shell.execute_reply": "2021-05-18T18:50:48.938914Z"
    },
    "papermill": {
     "duration": 0.033229,
     "end_time": "2021-05-18T18:50:48.940009",
     "exception": false,
     "start_time": "2021-05-18T18:50:48.906780",
     "status": "completed"
    },
    "tags": [
     "parameters"
    ]
   },
   "outputs": [],
   "source": [
    "mach_number=0.4\n",
    "p=2\n",
    "M=16\n",
    "L=10.0\n",
    "p_geo=2\n",
    "c=\"c_dg\"\n",
    "discretization_type=1\n",
    "form=\"strong\""
   ]
  },
  {
   "cell_type": "code",
   "execution_count": 2,
   "id": "8d05d516",
   "metadata": {
    "execution": {
     "iopub.execute_input": "2021-05-18T18:50:48.960216Z",
     "iopub.status.busy": "2021-05-18T18:50:48.959351Z",
     "iopub.status.idle": "2021-05-18T18:50:48.962677Z",
     "shell.execute_reply": "2021-05-18T18:50:48.963387Z"
    },
    "papermill": {
     "duration": 0.016543,
     "end_time": "2021-05-18T18:50:48.963631",
     "exception": false,
     "start_time": "2021-05-18T18:50:48.947088",
     "status": "completed"
    },
    "tags": [
     "injected-parameters"
    ]
   },
   "outputs": [],
   "source": [
    "# Parameters\n",
    "mach_number = 0.4\n",
    "p = 3\n",
    "p_geo = 3\n",
    "c = \"c_+\"\n",
    "discretization_type = 1\n",
    "form = \"strong\"\n"
   ]
  },
  {
   "cell_type": "code",
   "execution_count": 3,
   "id": "e3ec5a82",
   "metadata": {
    "execution": {
     "iopub.execute_input": "2021-05-18T18:50:48.985939Z",
     "iopub.status.busy": "2021-05-18T18:50:48.984639Z",
     "iopub.status.idle": "2021-05-22T19:38:16.184431Z",
     "shell.execute_reply": "2021-05-22T19:38:16.184956Z"
    },
    "papermill": {
     "duration": 348447.214827,
     "end_time": "2021-05-22T19:38:16.185169",
     "exception": false,
     "start_time": "2021-05-18T18:50:48.970342",
     "status": "completed"
    },
    "tags": []
   },
   "outputs": [
    {
     "name": "stdout",
     "output_type": "stream",
     "text": [
      "euler_m04p3cpt1_strong\n"
     ]
    },
    {
     "name": "stdout",
     "output_type": "stream",
     "text": [
      "6.821e-13 &  8.239e-03  \\\\\n",
      "-6.679e-13 &  2.349e-02  \\\\\n",
      "2.377e-12 &  1.863e-02  \\\\\n",
      "1.535e-12 &  1.992e-02  \\\\\n"
     ]
    }
   ],
   "source": [
    "import sys  \n",
    "import numpy as np\n",
    "sys.path.insert(0, '../src')\n",
    "from Driver import euler_driver\n",
    "\n",
    "solver = euler_driver(mach_number=mach_number, \n",
    "                      theta=np.pi/4,\n",
    "                        p=p, M=M, L=L,\n",
    "                        p_geo=p_geo, c=c, \n",
    "                        discretization_type=discretization_type,\n",
    "                        form=form)"
   ]
  },
  {
   "cell_type": "code",
   "execution_count": null,
   "id": "5d6105c8",
   "metadata": {
    "papermill": {
     "duration": 0.005155,
     "end_time": "2021-05-22T19:38:16.195875",
     "exception": false,
     "start_time": "2021-05-22T19:38:16.190720",
     "status": "completed"
    },
    "tags": []
   },
   "outputs": [],
   "source": []
  }
 ],
 "metadata": {
  "celltoolbar": "Tags",
  "kernelspec": {
   "display_name": "Python 3",
   "language": "python",
   "name": "python3"
  },
  "language_info": {
   "codemirror_mode": {
    "name": "ipython",
    "version": 3
   },
   "file_extension": ".py",
   "mimetype": "text/x-python",
   "name": "python",
   "nbconvert_exporter": "python",
   "pygments_lexer": "ipython3",
   "version": "3.8.5"
  },
  "papermill": {
   "default_parameters": {},
   "duration": 348449.375674,
   "end_time": "2021-05-22T19:38:16.809278",
   "environment_variables": {},
   "exception": null,
   "input_path": "euler_driver.ipynb",
   "output_path": "euler_m04p3cpt1_strong.ipynb",
   "parameters": {
    "c": "c_+",
    "discretization_type": 1,
    "form": "strong",
    "mach_number": 0.4,
    "p": 3,
    "p_geo": 3
   },
   "start_time": "2021-05-18T18:50:47.433604",
   "version": "2.3.3"
  }
 },
 "nbformat": 4,
 "nbformat_minor": 5
}