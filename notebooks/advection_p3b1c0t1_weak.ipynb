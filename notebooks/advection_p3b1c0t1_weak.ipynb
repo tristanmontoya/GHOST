{
 "cells": [
  {
   "cell_type": "code",
   "execution_count": 1,
   "id": "9ea1b292",
   "metadata": {
    "execution": {
     "iopub.execute_input": "2021-05-11T05:21:34.139341Z",
     "iopub.status.busy": "2021-05-11T05:21:34.138676Z",
     "iopub.status.idle": "2021-05-11T05:21:34.142071Z",
     "shell.execute_reply": "2021-05-11T05:21:34.142649Z"
    },
    "papermill": {
     "duration": 0.030948,
     "end_time": "2021-05-11T05:21:34.142920",
     "exception": false,
     "start_time": "2021-05-11T05:21:34.111972",
     "status": "completed"
    },
    "tags": [
     "parameters"
    ]
   },
   "outputs": [],
   "source": [
    "p=2\n",
    "M=10\n",
    "L=1\n",
    "p_geo=1\n",
    "c=\"c_dg\"\n",
    "discretization_type=1\n",
    "upwind_parameter=1.0\n",
    "form=\"strong\""
   ]
  },
  {
   "cell_type": "code",
   "execution_count": 2,
   "id": "2e2324d8",
   "metadata": {
    "execution": {
     "iopub.execute_input": "2021-05-11T05:21:34.177605Z",
     "iopub.status.busy": "2021-05-11T05:21:34.176433Z",
     "iopub.status.idle": "2021-05-11T05:21:34.178225Z",
     "shell.execute_reply": "2021-05-11T05:21:34.177003Z"
    },
    "papermill": {
     "duration": 0.030334,
     "end_time": "2021-05-11T05:21:34.178364",
     "exception": false,
     "start_time": "2021-05-11T05:21:34.148030",
     "status": "completed"
    },
    "tags": [
     "injected-parameters"
    ]
   },
   "outputs": [],
   "source": [
    "# Parameters\n",
    "p = 3\n",
    "p_geo = 1\n",
    "upwind_parameter = 1.0\n",
    "c = \"c_dg\"\n",
    "discretization_type = 1\n",
    "form = \"weak\"\n"
   ]
  },
  {
   "cell_type": "code",
   "execution_count": 3,
   "id": "4132ac07",
   "metadata": {
    "execution": {
     "iopub.execute_input": "2021-05-11T05:21:34.237708Z",
     "iopub.status.busy": "2021-05-11T05:21:34.236870Z",
     "iopub.status.idle": "2021-05-11T07:20:27.920499Z",
     "shell.execute_reply": "2021-05-11T07:20:27.921227Z"
    },
    "papermill": {
     "duration": 7133.718324,
     "end_time": "2021-05-11T07:20:27.921568",
     "exception": false,
     "start_time": "2021-05-11T05:21:34.203244",
     "status": "completed"
    },
    "tags": []
   },
   "outputs": [
    {
     "name": "stderr",
     "output_type": "stream",
     "text": [
      "WARNING:root:msh4 requires 3D points, but 2D points given. Appending 0 third component.\n"
     ]
    },
    {
     "name": "stderr",
     "output_type": "stream",
     "text": [
      "WARNING:root:Binary Gmsh needs c_size_t (got int64). Converting.\n"
     ]
    },
    {
     "name": "stdout",
     "output_type": "stream",
     "text": [
      "advection_p3b1c0t1_weak\n"
     ]
    },
    {
     "name": "stdout",
     "output_type": "stream",
     "text": [
      "-3.314e-16 &  -4.712e-05 & 8.997e-04  \\\\\n"
     ]
    }
   ],
   "source": [
    "import sys  \n",
    "import numpy as np\n",
    "sys.path.insert(0, '../src')\n",
    "from Driver import advection_driver\n",
    "\n",
    "solver = advection_driver(a=np.sqrt(2), theta=np.pi/4, p=p, M=M, L=L,\n",
    "                        p_geo=p_geo, c=c, \n",
    "                        discretization_type=discretization_type,\n",
    "                        upwind_parameter=upwind_parameter,\n",
    "                        form=form)"
   ]
  },
  {
   "cell_type": "code",
   "execution_count": null,
   "id": "668e860e",
   "metadata": {
    "papermill": {
     "duration": 0.008513,
     "end_time": "2021-05-11T07:20:27.938986",
     "exception": false,
     "start_time": "2021-05-11T07:20:27.930473",
     "status": "completed"
    },
    "tags": []
   },
   "outputs": [],
   "source": []
  }
 ],
 "metadata": {
  "celltoolbar": "Tags",
  "kernelspec": {
   "display_name": "Python 3",
   "language": "python",
   "name": "python3"
  },
  "language_info": {
   "codemirror_mode": {
    "name": "ipython",
    "version": 3
   },
   "file_extension": ".py",
   "mimetype": "text/x-python",
   "name": "python",
   "nbconvert_exporter": "python",
   "pygments_lexer": "ipython3",
   "version": "3.8.5"
  },
  "papermill": {
   "default_parameters": {},
   "duration": 7136.606142,
   "end_time": "2021-05-11T07:20:29.361102",
   "environment_variables": {},
   "exception": null,
   "input_path": "advection_driver.ipynb",
   "output_path": "advection_p3b1c0t1_weak.ipynb",
   "parameters": {
    "c": "c_dg",
    "discretization_type": 1,
    "form": "weak",
    "p": 3,
    "p_geo": 1,
    "upwind_parameter": 1.0
   },
   "start_time": "2021-05-11T05:21:32.754960",
   "version": "2.3.3"
  }
 },
 "nbformat": 4,
 "nbformat_minor": 5
}