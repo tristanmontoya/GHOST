{
 "cells": [
  {
   "cell_type": "code",
   "execution_count": 1,
   "metadata": {
    "execution": {
     "iopub.execute_input": "2020-12-30T03:05:46.538360Z",
     "iopub.status.busy": "2020-12-30T03:05:46.537530Z",
     "iopub.status.idle": "2020-12-30T03:05:46.541199Z",
     "shell.execute_reply": "2020-12-30T03:05:46.540386Z"
    },
    "papermill": {
     "duration": 0.020465,
     "end_time": "2020-12-30T03:05:46.541468",
     "exception": false,
     "start_time": "2020-12-30T03:05:46.521003",
     "status": "completed"
    },
    "tags": [
     "parameters"
    ]
   },
   "outputs": [],
   "source": [
    "mach_number=0.4\n",
    "p=2\n",
    "M=11\n",
    "L=10.0\n",
    "p_geo=2\n",
    "c=\"c_dg\"\n",
    "discretization_type=1\n",
    "form=\"strong\""
   ]
  },
  {
   "cell_type": "code",
   "execution_count": 2,
   "metadata": {
    "execution": {
     "iopub.execute_input": "2020-12-30T03:05:46.558200Z",
     "iopub.status.busy": "2020-12-30T03:05:46.557355Z",
     "iopub.status.idle": "2020-12-30T03:05:46.561131Z",
     "shell.execute_reply": "2020-12-30T03:05:46.560496Z"
    },
    "papermill": {
     "duration": 0.014673,
     "end_time": "2020-12-30T03:05:46.561315",
     "exception": false,
     "start_time": "2020-12-30T03:05:46.546642",
     "status": "completed"
    },
    "tags": [
     "injected-parameters"
    ]
   },
   "outputs": [],
   "source": [
    "# Parameters\n",
    "mach_number = 0.4\n",
    "p = 2\n",
    "c = \"c_+\"\n",
    "discretization_type = 1\n",
    "form = \"strong\"\n"
   ]
  },
  {
   "cell_type": "code",
   "execution_count": 3,
   "metadata": {
    "execution": {
     "iopub.execute_input": "2020-12-30T03:05:46.608290Z",
     "iopub.status.busy": "2020-12-30T03:05:46.607638Z",
     "iopub.status.idle": "2020-12-30T13:58:30.608462Z",
     "shell.execute_reply": "2020-12-30T13:58:30.609365Z"
    },
    "papermill": {
     "duration": 39164.043785,
     "end_time": "2020-12-30T13:58:30.609712",
     "exception": false,
     "start_time": "2020-12-30T03:05:46.565927",
     "status": "completed"
    },
    "tags": []
   },
   "outputs": [
    {
     "name": "stderr",
     "output_type": "stream",
     "text": [
      "WARNING:root:msh4 requires 3D points, but 2D points given. Appending 0 third component.\n"
     ]
    },
    {
     "name": "stderr",
     "output_type": "stream",
     "text": [
      "WARNING:root:Binary Gmsh needs c_size_t (got int64). Converting.\n"
     ]
    },
    {
     "name": "stdout",
     "output_type": "stream",
     "text": [
      "running solver euler_m04p2cpt1_strong\n"
     ]
    },
    {
     "name": "stdout",
     "output_type": "stream",
     "text": [
      "2.842e-13 &  1.113e-01  \\\\\n",
      "2.380e-13 &  4.035e-01  \\\\\n",
      "6.928e-13 &  2.829e-01  \\\\\n",
      "6.821e-13 &  3.066e-01  \\\\\n"
     ]
    }
   ],
   "source": [
    "import sys  \n",
    "sys.path.insert(0, '../src')\n",
    "from Driver import euler_driver\n",
    "\n",
    "solver = euler_driver(mach_number=mach_number, \n",
    "                        p=p, M=M, L=L,\n",
    "                        p_geo=p_geo, c=c, \n",
    "                        discretization_type=discretization_type,\n",
    "                        form=form)"
   ]
  },
  {
   "cell_type": "code",
   "execution_count": null,
   "metadata": {
    "papermill": {
     "duration": 0.010791,
     "end_time": "2020-12-30T13:58:30.629074",
     "exception": false,
     "start_time": "2020-12-30T13:58:30.618283",
     "status": "completed"
    },
    "tags": []
   },
   "outputs": [],
   "source": []
  }
 ],
 "metadata": {
  "celltoolbar": "Tags",
  "kernelspec": {
   "display_name": "Python 3",
   "language": "python",
   "name": "python3"
  },
  "language_info": {
   "codemirror_mode": {
    "name": "ipython",
    "version": 3
   },
   "file_extension": ".py",
   "mimetype": "text/x-python",
   "name": "python",
   "nbconvert_exporter": "python",
   "pygments_lexer": "ipython3",
   "version": "3.8.5"
  },
  "papermill": {
   "default_parameters": {},
   "duration": 39166.90981,
   "end_time": "2020-12-30T13:58:32.364804",
   "environment_variables": {},
   "exception": null,
   "input_path": "euler_driver.ipynb",
   "output_path": "euler_m04p2cpt1_strong.ipynb",
   "parameters": {
    "c": "c_+",
    "discretization_type": 1,
    "form": "strong",
    "mach_number": 0.4,
    "p": 2
   },
   "start_time": "2020-12-30T03:05:45.454994",
   "version": "2.2.2"
  }
 },
 "nbformat": 4,
 "nbformat_minor": 2
}