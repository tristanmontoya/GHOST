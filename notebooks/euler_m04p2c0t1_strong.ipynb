{
 "cells": [
  {
   "cell_type": "code",
   "execution_count": 1,
   "id": "45071080",
   "metadata": {
    "execution": {
     "iopub.execute_input": "2021-05-14T22:14:04.108353Z",
     "iopub.status.busy": "2021-05-14T22:14:04.107704Z",
     "iopub.status.idle": "2021-05-14T22:14:04.110576Z",
     "shell.execute_reply": "2021-05-14T22:14:04.109971Z"
    },
    "papermill": {
     "duration": 0.031236,
     "end_time": "2021-05-14T22:14:04.110729",
     "exception": false,
     "start_time": "2021-05-14T22:14:04.079493",
     "status": "completed"
    },
    "tags": [
     "parameters"
    ]
   },
   "outputs": [],
   "source": [
    "mach_number=0.4\n",
    "p=2\n",
    "M=16\n",
    "L=10.0\n",
    "p_geo=2\n",
    "c=\"c_dg\"\n",
    "discretization_type=1\n",
    "form=\"strong\""
   ]
  },
  {
   "cell_type": "code",
   "execution_count": 2,
   "id": "d5cf1693",
   "metadata": {
    "execution": {
     "iopub.execute_input": "2021-05-14T22:14:04.142539Z",
     "iopub.status.busy": "2021-05-14T22:14:04.141895Z",
     "iopub.status.idle": "2021-05-14T22:14:04.144715Z",
     "shell.execute_reply": "2021-05-14T22:14:04.144107Z"
    },
    "papermill": {
     "duration": 0.029147,
     "end_time": "2021-05-14T22:14:04.144842",
     "exception": false,
     "start_time": "2021-05-14T22:14:04.115695",
     "status": "completed"
    },
    "tags": [
     "injected-parameters"
    ]
   },
   "outputs": [],
   "source": [
    "# Parameters\n",
    "mach_number = 0.4\n",
    "p = 2\n",
    "p_geo = 2\n",
    "c = \"c_dg\"\n",
    "discretization_type = 1\n",
    "form = \"strong\"\n"
   ]
  },
  {
   "cell_type": "code",
   "execution_count": 3,
   "id": "3d0749a9",
   "metadata": {
    "execution": {
     "iopub.execute_input": "2021-05-14T22:14:04.183721Z",
     "iopub.status.busy": "2021-05-14T22:14:04.183104Z",
     "iopub.status.idle": "2021-05-17T07:41:50.309750Z",
     "shell.execute_reply": "2021-05-17T07:41:50.310507Z"
    },
    "papermill": {
     "duration": 206866.162317,
     "end_time": "2021-05-17T07:41:50.311641",
     "exception": false,
     "start_time": "2021-05-14T22:14:04.149324",
     "status": "completed"
    },
    "tags": []
   },
   "outputs": [
    {
     "name": "stdout",
     "output_type": "stream",
     "text": [
      "euler_m04p2c0t1_strong\n"
     ]
    },
    {
     "name": "stdout",
     "output_type": "stream",
     "text": [
      "2.700e-13 &  1.471e-02  \\\\\n",
      "3.197e-13 &  4.403e-02  \\\\\n",
      "1.009e-12 &  3.630e-02  \\\\\n",
      "1.052e-12 &  4.277e-02  \\\\\n"
     ]
    }
   ],
   "source": [
    "import sys  \n",
    "import numpy as np\n",
    "sys.path.insert(0, '../src')\n",
    "from Driver import euler_driver\n",
    "\n",
    "solver = euler_driver(mach_number=mach_number, \n",
    "                      theta=np.pi/4,\n",
    "                        p=p, M=M, L=L,\n",
    "                        p_geo=p_geo, c=c, \n",
    "                        discretization_type=discretization_type,\n",
    "                        form=form)"
   ]
  },
  {
   "cell_type": "code",
   "execution_count": null,
   "id": "835c2b14",
   "metadata": {
    "papermill": {
     "duration": 0.008965,
     "end_time": "2021-05-17T07:41:50.329337",
     "exception": false,
     "start_time": "2021-05-17T07:41:50.320372",
     "status": "completed"
    },
    "tags": []
   },
   "outputs": [],
   "source": []
  }
 ],
 "metadata": {
  "celltoolbar": "Tags",
  "kernelspec": {
   "display_name": "Python 3",
   "language": "python",
   "name": "python3"
  },
  "language_info": {
   "codemirror_mode": {
    "name": "ipython",
    "version": 3
   },
   "file_extension": ".py",
   "mimetype": "text/x-python",
   "name": "python",
   "nbconvert_exporter": "python",
   "pygments_lexer": "ipython3",
   "version": "3.8.5"
  },
  "papermill": {
   "default_parameters": {},
   "duration": 206868.122008,
   "end_time": "2021-05-17T07:41:50.953805",
   "environment_variables": {},
   "exception": null,
   "input_path": "euler_driver.ipynb",
   "output_path": "euler_m04p2c0t1_strong.ipynb",
   "parameters": {
    "c": "c_dg",
    "discretization_type": 1,
    "form": "strong",
    "mach_number": 0.4,
    "p": 2,
    "p_geo": 2
   },
   "start_time": "2021-05-14T22:14:02.831797",
   "version": "2.3.3"
  }
 },
 "nbformat": 4,
 "nbformat_minor": 5
}