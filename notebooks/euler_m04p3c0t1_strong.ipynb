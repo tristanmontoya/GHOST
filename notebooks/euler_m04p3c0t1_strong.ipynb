{
 "cells": [
  {
   "cell_type": "code",
   "execution_count": 1,
   "id": "fda0e71d",
   "metadata": {
    "execution": {
     "iopub.execute_input": "2021-05-13T13:01:27.045710Z",
     "iopub.status.busy": "2021-05-13T13:01:27.043759Z",
     "iopub.status.idle": "2021-05-13T13:01:27.055246Z",
     "shell.execute_reply": "2021-05-13T13:01:27.055774Z"
    },
    "papermill": {
     "duration": 0.039012,
     "end_time": "2021-05-13T13:01:27.056049",
     "exception": false,
     "start_time": "2021-05-13T13:01:27.017037",
     "status": "completed"
    },
    "tags": [
     "parameters"
    ]
   },
   "outputs": [],
   "source": [
    "mach_number=0.4\n",
    "p=2\n",
    "M=10\n",
    "L=10.0\n",
    "p_geo=2\n",
    "c=\"c_dg\"\n",
    "discretization_type=1\n",
    "form=\"strong\""
   ]
  },
  {
   "cell_type": "code",
   "execution_count": 2,
   "id": "f7f7b526",
   "metadata": {
    "execution": {
     "iopub.execute_input": "2021-05-13T13:01:27.087066Z",
     "iopub.status.busy": "2021-05-13T13:01:27.085778Z",
     "iopub.status.idle": "2021-05-13T13:01:27.087688Z",
     "shell.execute_reply": "2021-05-13T13:01:27.086450Z"
    },
    "papermill": {
     "duration": 0.026746,
     "end_time": "2021-05-13T13:01:27.087826",
     "exception": false,
     "start_time": "2021-05-13T13:01:27.061080",
     "status": "completed"
    },
    "tags": [
     "injected-parameters"
    ]
   },
   "outputs": [],
   "source": [
    "# Parameters\n",
    "mach_number = 0.4\n",
    "p = 3\n",
    "p_geo = 3\n",
    "c = \"c_dg\"\n",
    "discretization_type = 1\n",
    "form = \"strong\"\n"
   ]
  },
  {
   "cell_type": "code",
   "execution_count": 3,
   "id": "a25f1bb4",
   "metadata": {
    "execution": {
     "iopub.execute_input": "2021-05-13T13:01:27.143983Z",
     "iopub.status.busy": "2021-05-13T13:01:27.143159Z",
     "iopub.status.idle": "2021-05-14T09:40:54.206610Z",
     "shell.execute_reply": "2021-05-14T09:40:54.207133Z"
    },
    "papermill": {
     "duration": 74367.088139,
     "end_time": "2021-05-14T09:40:54.207326",
     "exception": false,
     "start_time": "2021-05-13T13:01:27.119187",
     "status": "completed"
    },
    "tags": []
   },
   "outputs": [
    {
     "name": "stdout",
     "output_type": "stream",
     "text": [
      "euler_m04p3c0t1_strong\n"
     ]
    },
    {
     "name": "stdout",
     "output_type": "stream",
     "text": [
      "2.700e-13 &  1.486e-02  \\\\\n",
      "-3.233e-13 &  4.147e-02  \\\\\n",
      "1.570e-12 &  4.153e-02  \\\\\n",
      "9.095e-13 &  4.141e-02  \\\\\n"
     ]
    }
   ],
   "source": [
    "import sys  \n",
    "import numpy as np\n",
    "sys.path.insert(0, '../src')\n",
    "from Driver import euler_driver\n",
    "\n",
    "solver = euler_driver(mach_number=mach_number, \n",
    "                      theta=np.pi/4,\n",
    "                        p=p, M=M, L=L,\n",
    "                        p_geo=p_geo, c=c, \n",
    "                        discretization_type=discretization_type,\n",
    "                        form=form)"
   ]
  },
  {
   "cell_type": "code",
   "execution_count": null,
   "id": "7129107a",
   "metadata": {
    "papermill": {
     "duration": 0.005005,
     "end_time": "2021-05-14T09:40:54.217754",
     "exception": false,
     "start_time": "2021-05-14T09:40:54.212749",
     "status": "completed"
    },
    "tags": []
   },
   "outputs": [],
   "source": []
  }
 ],
 "metadata": {
  "celltoolbar": "Tags",
  "kernelspec": {
   "display_name": "Python 3",
   "language": "python",
   "name": "python3"
  },
  "language_info": {
   "codemirror_mode": {
    "name": "ipython",
    "version": 3
   },
   "file_extension": ".py",
   "mimetype": "text/x-python",
   "name": "python",
   "nbconvert_exporter": "python",
   "pygments_lexer": "ipython3",
   "version": "3.8.5"
  },
  "papermill": {
   "default_parameters": {},
   "duration": 74368.883141,
   "end_time": "2021-05-14T09:40:54.731464",
   "environment_variables": {},
   "exception": null,
   "input_path": "euler_driver.ipynb",
   "output_path": "euler_m04p3c0t1_strong.ipynb",
   "parameters": {
    "c": "c_dg",
    "discretization_type": 1,
    "form": "strong",
    "mach_number": 0.4,
    "p": 3,
    "p_geo": 3
   },
   "start_time": "2021-05-13T13:01:25.848323",
   "version": "2.3.3"
  }
 },
 "nbformat": 4,
 "nbformat_minor": 5
}