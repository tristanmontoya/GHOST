{
 "cells": [
  {
   "cell_type": "code",
   "execution_count": 1,
   "id": "9b737eb8",
   "metadata": {
    "execution": {
     "iopub.execute_input": "2021-05-08T19:25:58.979388Z",
     "iopub.status.busy": "2021-05-08T19:25:58.978799Z",
     "iopub.status.idle": "2021-05-08T19:25:58.982136Z",
     "shell.execute_reply": "2021-05-08T19:25:58.981460Z"
    },
    "papermill": {
     "duration": 0.018826,
     "end_time": "2021-05-08T19:25:58.982280",
     "exception": false,
     "start_time": "2021-05-08T19:25:58.963454",
     "status": "completed"
    },
    "tags": [
     "parameters"
    ]
   },
   "outputs": [],
   "source": [
    "mach_number=0.4\n",
    "p=2\n",
    "M=11\n",
    "L=10.0\n",
    "p_geo=2\n",
    "c=\"c_dg\"\n",
    "discretization_type=1\n",
    "form=\"strong\""
   ]
  },
  {
   "cell_type": "code",
   "execution_count": 2,
   "id": "7949940b",
   "metadata": {
    "execution": {
     "iopub.execute_input": "2021-05-08T19:25:59.010403Z",
     "iopub.status.busy": "2021-05-08T19:25:59.009741Z",
     "iopub.status.idle": "2021-05-08T19:25:59.012079Z",
     "shell.execute_reply": "2021-05-08T19:25:59.012582Z"
    },
    "papermill": {
     "duration": 0.025293,
     "end_time": "2021-05-08T19:25:59.012738",
     "exception": false,
     "start_time": "2021-05-08T19:25:58.987445",
     "status": "completed"
    },
    "tags": [
     "injected-parameters"
    ]
   },
   "outputs": [],
   "source": [
    "# Parameters\n",
    "mach_number = 0.4\n",
    "p = 3\n",
    "p_geo = 3\n",
    "c = \"c_dg\"\n",
    "discretization_type = 1\n",
    "form = \"strong\"\n"
   ]
  },
  {
   "cell_type": "code",
   "execution_count": 3,
   "id": "0a17bc1f",
   "metadata": {
    "execution": {
     "iopub.execute_input": "2021-05-08T19:25:59.048310Z",
     "iopub.status.busy": "2021-05-08T19:25:59.047489Z",
     "iopub.status.idle": "2021-05-09T18:02:41.831018Z",
     "shell.execute_reply": "2021-05-09T18:02:41.831676Z"
    },
    "papermill": {
     "duration": 81402.814336,
     "end_time": "2021-05-09T18:02:41.831918",
     "exception": false,
     "start_time": "2021-05-08T19:25:59.017582",
     "status": "completed"
    },
    "tags": []
   },
   "outputs": [
    {
     "name": "stderr",
     "output_type": "stream",
     "text": [
      "WARNING:root:msh4 requires 3D points, but 2D points given. Appending 0 third component.\n"
     ]
    },
    {
     "name": "stderr",
     "output_type": "stream",
     "text": [
      "WARNING:root:Binary Gmsh needs c_size_t (got int64). Converting.\n"
     ]
    },
    {
     "name": "stdout",
     "output_type": "stream",
     "text": [
      "running solver euler_m04p3c0t1_strong\n"
     ]
    },
    {
     "name": "stdout",
     "output_type": "stream",
     "text": [
      "2.558e-13 &  1.367e-02  \\\\\n",
      "-5.258e-13 &  3.356e-02  \\\\\n",
      "1.631e-12 &  2.725e-02  \\\\\n",
      "1.194e-12 &  3.478e-02  \\\\\n"
     ]
    }
   ],
   "source": [
    "import sys  \n",
    "sys.path.insert(0, '../src')\n",
    "from Driver import euler_driver\n",
    "\n",
    "solver = euler_driver(mach_number=mach_number, \n",
    "                        p=p, M=M, L=L,\n",
    "                        p_geo=p_geo, c=c, \n",
    "                        discretization_type=discretization_type,\n",
    "                        form=form)"
   ]
  },
  {
   "cell_type": "code",
   "execution_count": null,
   "id": "96f9bfb2",
   "metadata": {
    "papermill": {
     "duration": 0.007966,
     "end_time": "2021-05-09T18:02:41.848440",
     "exception": false,
     "start_time": "2021-05-09T18:02:41.840474",
     "status": "completed"
    },
    "tags": []
   },
   "outputs": [],
   "source": []
  }
 ],
 "metadata": {
  "celltoolbar": "Tags",
  "kernelspec": {
   "display_name": "Python 3",
   "language": "python",
   "name": "python3"
  },
  "language_info": {
   "codemirror_mode": {
    "name": "ipython",
    "version": 3
   },
   "file_extension": ".py",
   "mimetype": "text/x-python",
   "name": "python",
   "nbconvert_exporter": "python",
   "pygments_lexer": "ipython3",
   "version": "3.8.5"
  },
  "papermill": {
   "default_parameters": {},
   "duration": 81405.14682,
   "end_time": "2021-05-09T18:02:43.075219",
   "environment_variables": {},
   "exception": null,
   "input_path": "euler_driver.ipynb",
   "output_path": "euler_m04p3c0t1_strong.ipynb",
   "parameters": {
    "c": "c_dg",
    "discretization_type": 1,
    "form": "strong",
    "mach_number": 0.4,
    "p": 3,
    "p_geo": 3
   },
   "start_time": "2021-05-08T19:25:57.928399",
   "version": "2.3.3"
  }
 },
 "nbformat": 4,
 "nbformat_minor": 5
}