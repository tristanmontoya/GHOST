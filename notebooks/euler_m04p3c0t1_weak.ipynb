{
 "cells": [
  {
   "cell_type": "code",
   "execution_count": 1,
   "id": "277cd3fc",
   "metadata": {
    "execution": {
     "iopub.execute_input": "2021-05-08T19:25:59.048150Z",
     "iopub.status.busy": "2021-05-08T19:25:59.046897Z",
     "iopub.status.idle": "2021-05-08T19:25:59.048730Z",
     "shell.execute_reply": "2021-05-08T19:25:59.047517Z"
    },
    "papermill": {
     "duration": 0.036915,
     "end_time": "2021-05-08T19:25:59.048878",
     "exception": false,
     "start_time": "2021-05-08T19:25:59.011963",
     "status": "completed"
    },
    "tags": [
     "parameters"
    ]
   },
   "outputs": [],
   "source": [
    "mach_number=0.4\n",
    "p=2\n",
    "M=11\n",
    "L=10.0\n",
    "p_geo=2\n",
    "c=\"c_dg\"\n",
    "discretization_type=1\n",
    "form=\"strong\""
   ]
  },
  {
   "cell_type": "code",
   "execution_count": 2,
   "id": "c209e475",
   "metadata": {
    "execution": {
     "iopub.execute_input": "2021-05-08T19:25:59.138301Z",
     "iopub.status.busy": "2021-05-08T19:25:59.136853Z",
     "iopub.status.idle": "2021-05-08T19:25:59.139074Z",
     "shell.execute_reply": "2021-05-08T19:25:59.137479Z"
    },
    "papermill": {
     "duration": 0.08423,
     "end_time": "2021-05-08T19:25:59.139238",
     "exception": false,
     "start_time": "2021-05-08T19:25:59.055008",
     "status": "completed"
    },
    "tags": [
     "injected-parameters"
    ]
   },
   "outputs": [],
   "source": [
    "# Parameters\n",
    "mach_number = 0.4\n",
    "p = 3\n",
    "p_geo = 3\n",
    "c = \"c_dg\"\n",
    "discretization_type = 1\n",
    "form = \"weak\"\n"
   ]
  },
  {
   "cell_type": "code",
   "execution_count": 3,
   "id": "bc9bacf3",
   "metadata": {
    "execution": {
     "iopub.execute_input": "2021-05-08T19:25:59.176099Z",
     "iopub.status.busy": "2021-05-08T19:25:59.175434Z",
     "iopub.status.idle": "2021-05-09T19:04:17.121200Z",
     "shell.execute_reply": "2021-05-09T19:04:17.121693Z"
    },
    "papermill": {
     "duration": 85097.977915,
     "end_time": "2021-05-09T19:04:17.122050",
     "exception": false,
     "start_time": "2021-05-08T19:25:59.144135",
     "status": "completed"
    },
    "tags": []
   },
   "outputs": [
    {
     "name": "stderr",
     "output_type": "stream",
     "text": [
      "WARNING:root:msh4 requires 3D points, but 2D points given. Appending 0 third component.\n"
     ]
    },
    {
     "name": "stderr",
     "output_type": "stream",
     "text": [
      "WARNING:root:Binary Gmsh needs c_size_t (got int64). Converting.\n"
     ]
    },
    {
     "name": "stdout",
     "output_type": "stream",
     "text": [
      "running solver euler_m04p3c0t1_weak\n"
     ]
    },
    {
     "name": "stdout",
     "output_type": "stream",
     "text": [
      "0.000e+00 &  1.367e-02  \\\\\n",
      "-7.283e-13 &  3.356e-02  \\\\\n",
      "8.988e-13 &  2.725e-02  \\\\\n",
      "2.842e-13 &  3.478e-02  \\\\\n"
     ]
    }
   ],
   "source": [
    "import sys  \n",
    "sys.path.insert(0, '../src')\n",
    "from Driver import euler_driver\n",
    "\n",
    "solver = euler_driver(mach_number=mach_number, \n",
    "                        p=p, M=M, L=L,\n",
    "                        p_geo=p_geo, c=c, \n",
    "                        discretization_type=discretization_type,\n",
    "                        form=form)"
   ]
  },
  {
   "cell_type": "code",
   "execution_count": null,
   "id": "94707995",
   "metadata": {
    "papermill": {
     "duration": 0.005701,
     "end_time": "2021-05-09T19:04:17.134177",
     "exception": false,
     "start_time": "2021-05-09T19:04:17.128476",
     "status": "completed"
    },
    "tags": []
   },
   "outputs": [],
   "source": []
  }
 ],
 "metadata": {
  "celltoolbar": "Tags",
  "kernelspec": {
   "display_name": "Python 3",
   "language": "python",
   "name": "python3"
  },
  "language_info": {
   "codemirror_mode": {
    "name": "ipython",
    "version": 3
   },
   "file_extension": ".py",
   "mimetype": "text/x-python",
   "name": "python",
   "nbconvert_exporter": "python",
   "pygments_lexer": "ipython3",
   "version": "3.8.5"
  },
  "papermill": {
   "default_parameters": {},
   "duration": 85100.87213,
   "end_time": "2021-05-09T19:04:18.784124",
   "environment_variables": {},
   "exception": null,
   "input_path": "euler_driver.ipynb",
   "output_path": "euler_m04p3c0t1_weak.ipynb",
   "parameters": {
    "c": "c_dg",
    "discretization_type": 1,
    "form": "weak",
    "mach_number": 0.4,
    "p": 3,
    "p_geo": 3
   },
   "start_time": "2021-05-08T19:25:57.911994",
   "version": "2.3.3"
  }
 },
 "nbformat": 4,
 "nbformat_minor": 5
}