{
 "cells": [
  {
   "cell_type": "code",
   "execution_count": 1,
   "id": "49a9ccb9",
   "metadata": {
    "execution": {
     "iopub.execute_input": "2021-05-13T13:01:26.950776Z",
     "iopub.status.busy": "2021-05-13T13:01:26.950111Z",
     "iopub.status.idle": "2021-05-13T13:01:26.953054Z",
     "shell.execute_reply": "2021-05-13T13:01:26.953547Z"
    },
    "papermill": {
     "duration": 0.04261,
     "end_time": "2021-05-13T13:01:26.953815",
     "exception": false,
     "start_time": "2021-05-13T13:01:26.911205",
     "status": "completed"
    },
    "tags": [
     "parameters"
    ]
   },
   "outputs": [],
   "source": [
    "mach_number=0.4\n",
    "p=2\n",
    "M=10\n",
    "L=10.0\n",
    "p_geo=2\n",
    "c=\"c_dg\"\n",
    "discretization_type=1\n",
    "form=\"strong\""
   ]
  },
  {
   "cell_type": "code",
   "execution_count": 2,
   "id": "21e3fb12",
   "metadata": {
    "execution": {
     "iopub.execute_input": "2021-05-13T13:01:26.968900Z",
     "iopub.status.busy": "2021-05-13T13:01:26.968230Z",
     "iopub.status.idle": "2021-05-13T13:01:26.971333Z",
     "shell.execute_reply": "2021-05-13T13:01:26.970548Z"
    },
    "papermill": {
     "duration": 0.012629,
     "end_time": "2021-05-13T13:01:26.971476",
     "exception": false,
     "start_time": "2021-05-13T13:01:26.958847",
     "status": "completed"
    },
    "tags": [
     "injected-parameters"
    ]
   },
   "outputs": [],
   "source": [
    "# Parameters\n",
    "mach_number = 0.4\n",
    "p = 3\n",
    "p_geo = 3\n",
    "c = \"c_dg\"\n",
    "discretization_type = 1\n",
    "form = \"weak\"\n"
   ]
  },
  {
   "cell_type": "code",
   "execution_count": 3,
   "id": "bf9c1f2b",
   "metadata": {
    "execution": {
     "iopub.execute_input": "2021-05-13T13:01:27.013251Z",
     "iopub.status.busy": "2021-05-13T13:01:27.012433Z",
     "iopub.status.idle": "2021-05-14T08:08:59.939204Z",
     "shell.execute_reply": "2021-05-14T08:08:59.939735Z"
    },
    "papermill": {
     "duration": 68852.96366,
     "end_time": "2021-05-14T08:08:59.939967",
     "exception": false,
     "start_time": "2021-05-13T13:01:26.976307",
     "status": "completed"
    },
    "tags": []
   },
   "outputs": [
    {
     "name": "stdout",
     "output_type": "stream",
     "text": [
      "euler_m04p3c0t1_weak\n"
     ]
    },
    {
     "name": "stdout",
     "output_type": "stream",
     "text": [
      "-2.842e-14 &  1.486e-02  \\\\\n",
      "-5.365e-13 &  4.147e-02  \\\\\n",
      "8.384e-13 &  4.153e-02  \\\\\n",
      "1.421e-13 &  4.141e-02  \\\\\n"
     ]
    }
   ],
   "source": [
    "import sys  \n",
    "import numpy as np\n",
    "sys.path.insert(0, '../src')\n",
    "from Driver import euler_driver\n",
    "\n",
    "solver = euler_driver(mach_number=mach_number, \n",
    "                      theta=np.pi/4,\n",
    "                        p=p, M=M, L=L,\n",
    "                        p_geo=p_geo, c=c, \n",
    "                        discretization_type=discretization_type,\n",
    "                        form=form)"
   ]
  },
  {
   "cell_type": "code",
   "execution_count": null,
   "id": "67f8876b",
   "metadata": {
    "papermill": {
     "duration": 0.005111,
     "end_time": "2021-05-14T08:08:59.950556",
     "exception": false,
     "start_time": "2021-05-14T08:08:59.945445",
     "status": "completed"
    },
    "tags": []
   },
   "outputs": [],
   "source": []
  }
 ],
 "metadata": {
  "celltoolbar": "Tags",
  "kernelspec": {
   "display_name": "Python 3",
   "language": "python",
   "name": "python3"
  },
  "language_info": {
   "codemirror_mode": {
    "name": "ipython",
    "version": 3
   },
   "file_extension": ".py",
   "mimetype": "text/x-python",
   "name": "python",
   "nbconvert_exporter": "python",
   "pygments_lexer": "ipython3",
   "version": "3.8.5"
  },
  "papermill": {
   "default_parameters": {},
   "duration": 68854.629766,
   "end_time": "2021-05-14T08:09:00.465257",
   "environment_variables": {},
   "exception": null,
   "input_path": "euler_driver.ipynb",
   "output_path": "euler_m04p3c0t1_weak.ipynb",
   "parameters": {
    "c": "c_dg",
    "discretization_type": 1,
    "form": "weak",
    "mach_number": 0.4,
    "p": 3,
    "p_geo": 3
   },
   "start_time": "2021-05-13T13:01:25.835491",
   "version": "2.3.3"
  }
 },
 "nbformat": 4,
 "nbformat_minor": 5
}