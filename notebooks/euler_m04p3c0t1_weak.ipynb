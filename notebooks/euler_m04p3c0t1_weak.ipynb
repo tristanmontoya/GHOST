{
 "cells": [
  {
   "cell_type": "markdown",
   "id": "1dd4b41c",
   "metadata": {
    "papermill": {
     "duration": 0.003391,
     "end_time": "2021-12-08T16:30:21.678741",
     "exception": false,
     "start_time": "2021-12-08T16:30:21.675350",
     "status": "completed"
    },
    "tags": []
   },
   "source": [
    "# GHOST driver - Euler equations"
   ]
  },
  {
   "cell_type": "code",
   "execution_count": 1,
   "id": "0e143337",
   "metadata": {
    "execution": {
     "iopub.execute_input": "2021-12-08T16:30:21.688916Z",
     "iopub.status.busy": "2021-12-08T16:30:21.688433Z",
     "iopub.status.idle": "2021-12-08T16:30:21.690117Z",
     "shell.execute_reply": "2021-12-08T16:30:21.690496Z"
    },
    "papermill": {
     "duration": 0.00869,
     "end_time": "2021-12-08T16:30:21.690675",
     "exception": false,
     "start_time": "2021-12-08T16:30:21.681985",
     "status": "completed"
    },
    "tags": [
     "parameters"
    ]
   },
   "outputs": [],
   "source": [
    "mach_number=0.4\n",
    "p=2\n",
    "M=16\n",
    "L=10.0\n",
    "p_map=2\n",
    "c=\"c_dg\"\n",
    "discretization_type=1\n",
    "form=\"weak\""
   ]
  },
  {
   "cell_type": "code",
   "execution_count": 2,
   "id": "a49adf5a",
   "metadata": {
    "execution": {
     "iopub.execute_input": "2021-12-08T16:30:21.699652Z",
     "iopub.status.busy": "2021-12-08T16:30:21.699182Z",
     "iopub.status.idle": "2021-12-08T16:30:21.700667Z",
     "shell.execute_reply": "2021-12-08T16:30:21.701047Z"
    },
    "papermill": {
     "duration": 0.007347,
     "end_time": "2021-12-08T16:30:21.701159",
     "exception": false,
     "start_time": "2021-12-08T16:30:21.693812",
     "status": "completed"
    },
    "tags": [
     "injected-parameters"
    ]
   },
   "outputs": [],
   "source": [
    "# Parameters\n",
    "mach_number = 0.4\n",
    "p = 3\n",
    "p_map = 3\n",
    "c = \"c_dg\"\n",
    "discretization_type = 1\n",
    "form = \"weak\"\n"
   ]
  },
  {
   "cell_type": "code",
   "execution_count": 3,
   "id": "6398da44",
   "metadata": {
    "execution": {
     "iopub.execute_input": "2021-12-08T16:30:21.710896Z",
     "iopub.status.busy": "2021-12-08T16:30:21.710424Z",
     "iopub.status.idle": "2021-12-08T16:30:38.499252Z",
     "shell.execute_reply": "2021-12-08T16:30:38.499663Z"
    },
    "papermill": {
     "duration": 16.79563,
     "end_time": "2021-12-08T16:30:38.499801",
     "exception": false,
     "start_time": "2021-12-08T16:30:21.704171",
     "status": "completed"
    },
    "tags": []
   },
   "outputs": [
    {
     "name": "stderr",
     "output_type": "stream",
     "text": [
      "Matplotlib created a temporary config/cache directory at /tmp/matplotlib-1m29v1w8 because the default path (/home/z/zingg/tmontoya/.config/matplotlib) is not a writable directory; it is highly recommended to set the MPLCONFIGDIR environment variable to a writable directory, in particular to speed up the import of Matplotlib and to better support multiprocessing.\n"
     ]
    },
    {
     "name": "stdout",
     "output_type": "stream",
     "text": [
      "euler_m04p3c0t1_weak\n"
     ]
    },
    {
     "name": "stdout",
     "output_type": "stream",
     "text": [
      "loaded from time step  63356\n"
     ]
    }
   ],
   "source": [
    "import sys  \n",
    "import numpy as np\n",
    "sys.path.insert(0, '../src')\n",
    "from Driver import euler_driver\n",
    "\n",
    "solver = euler_driver(mach_number=mach_number, \n",
    "                      theta=np.pi/4,\n",
    "                        p=p, M=M, L=L,\n",
    "                        p_map=p_map, c=c, \n",
    "                        discretization_type=discretization_type,\n",
    "                        new_mesh=False,\n",
    "                        form=form, restart=True,run=True)"
   ]
  }
 ],
 "metadata": {
  "celltoolbar": "Tags",
  "interpreter": {
   "hash": "8a4c5cff9d1eb01f6f91880bd866b35b24d8468d7e92aa7ef6f6962744ecb1db"
  },
  "kernelspec": {
   "display_name": "Python 3.9.5 64-bit ('base': conda)",
   "name": "python3"
  },
  "language_info": {
   "codemirror_mode": {
    "name": "ipython",
    "version": 3
   },
   "file_extension": ".py",
   "mimetype": "text/x-python",
   "name": "python",
   "nbconvert_exporter": "python",
   "pygments_lexer": "ipython3",
   "version": "3.8.5"
  },
  "papermill": {
   "default_parameters": {},
   "duration": 18.28689,
   "end_time": "2021-12-08T16:30:38.910285",
   "environment_variables": {},
   "exception": null,
   "input_path": "euler_driver.ipynb",
   "output_path": "euler_m04p3c0t1_weak.ipynb",
   "parameters": {
    "c": "c_dg",
    "discretization_type": 1,
    "form": "weak",
    "mach_number": 0.4,
    "p": 3,
    "p_map": 3
   },
   "start_time": "2021-12-08T16:30:20.623395",
   "version": "2.3.3"
  }
 },
 "nbformat": 4,
 "nbformat_minor": 5
}