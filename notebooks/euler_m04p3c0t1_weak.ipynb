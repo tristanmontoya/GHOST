{
 "cells": [
  {
   "cell_type": "markdown",
   "id": "0ea65bff",
   "metadata": {
    "papermill": {
     "duration": 0.003852,
     "end_time": "2021-12-03T07:48:07.276502",
     "exception": false,
     "start_time": "2021-12-03T07:48:07.272650",
     "status": "completed"
    },
    "tags": []
   },
   "source": [
    "# GHOST driver - Euler equations"
   ]
  },
  {
   "cell_type": "code",
   "execution_count": 1,
   "id": "db260075",
   "metadata": {
    "execution": {
     "iopub.execute_input": "2021-12-03T07:48:07.287140Z",
     "iopub.status.busy": "2021-12-03T07:48:07.286654Z",
     "iopub.status.idle": "2021-12-03T07:48:07.288229Z",
     "shell.execute_reply": "2021-12-03T07:48:07.288609Z"
    },
    "papermill": {
     "duration": 0.008788,
     "end_time": "2021-12-03T07:48:07.288783",
     "exception": false,
     "start_time": "2021-12-03T07:48:07.279995",
     "status": "completed"
    },
    "tags": [
     "parameters"
    ]
   },
   "outputs": [],
   "source": [
    "mach_number=0.4\n",
    "p=2\n",
    "M=16\n",
    "L=10.0\n",
    "p_map=2\n",
    "c=\"c_dg\"\n",
    "discretization_type=1\n",
    "form=\"weak\""
   ]
  },
  {
   "cell_type": "code",
   "execution_count": 2,
   "id": "5f92f2a8",
   "metadata": {
    "execution": {
     "iopub.execute_input": "2021-12-03T07:48:07.297778Z",
     "iopub.status.busy": "2021-12-03T07:48:07.297312Z",
     "iopub.status.idle": "2021-12-03T07:48:07.298830Z",
     "shell.execute_reply": "2021-12-03T07:48:07.299211Z"
    },
    "papermill": {
     "duration": 0.007373,
     "end_time": "2021-12-03T07:48:07.299320",
     "exception": false,
     "start_time": "2021-12-03T07:48:07.291947",
     "status": "completed"
    },
    "tags": [
     "injected-parameters"
    ]
   },
   "outputs": [],
   "source": [
    "# Parameters\n",
    "mach_number = 0.4\n",
    "p = 3\n",
    "p_map = 3\n",
    "c = \"c_dg\"\n",
    "discretization_type = 1\n",
    "form = \"weak\"\n"
   ]
  },
  {
   "cell_type": "code",
   "execution_count": 3,
   "id": "e34cbfcf",
   "metadata": {
    "execution": {
     "iopub.execute_input": "2021-12-03T07:48:07.309096Z",
     "iopub.status.busy": "2021-12-03T07:48:07.308619Z",
     "iopub.status.idle": "2021-12-03T09:22:26.969326Z",
     "shell.execute_reply": "2021-12-03T09:22:26.969952Z"
    },
    "papermill": {
     "duration": 5659.667852,
     "end_time": "2021-12-03T09:22:26.970220",
     "exception": false,
     "start_time": "2021-12-03T07:48:07.302368",
     "status": "completed"
    },
    "tags": []
   },
   "outputs": [
    {
     "name": "stderr",
     "output_type": "stream",
     "text": [
      "Matplotlib created a temporary config/cache directory at /tmp/matplotlib-i77qhxtm because the default path (/home/z/zingg/tmontoya/.config/matplotlib) is not a writable directory; it is highly recommended to set the MPLCONFIGDIR environment variable to a writable directory, in particular to speed up the import of Matplotlib and to better support multiprocessing.\n"
     ]
    },
    {
     "name": "stdout",
     "output_type": "stream",
     "text": [
      "euler_m04p3c0t1_weak\n"
     ]
    },
    {
     "name": "stdout",
     "output_type": "stream",
     "text": [
      "loaded from time step  62667\n"
     ]
    }
   ],
   "source": [
    "import sys  \n",
    "import numpy as np\n",
    "sys.path.insert(0, '../src')\n",
    "from Driver import euler_driver\n",
    "\n",
    "solver = euler_driver(mach_number=mach_number, \n",
    "                      theta=np.pi/4,\n",
    "                        p=p, M=M, L=L,\n",
    "                        p_map=p_map, c=c, \n",
    "                        discretization_type=discretization_type,\n",
    "                        new_mesh=False,\n",
    "                        form=form, restart=True,run=True)"
   ]
  }
 ],
 "metadata": {
  "celltoolbar": "Tags",
  "interpreter": {
   "hash": "8a4c5cff9d1eb01f6f91880bd866b35b24d8468d7e92aa7ef6f6962744ecb1db"
  },
  "kernelspec": {
   "display_name": "Python 3.9.5 64-bit ('base': conda)",
   "name": "python3"
  },
  "language_info": {
   "codemirror_mode": {
    "name": "ipython",
    "version": 3
   },
   "file_extension": ".py",
   "mimetype": "text/x-python",
   "name": "python",
   "nbconvert_exporter": "python",
   "pygments_lexer": "ipython3",
   "version": "3.8.5"
  },
  "papermill": {
   "default_parameters": {},
   "duration": 5662.108456,
   "end_time": "2021-12-03T09:22:27.383876",
   "environment_variables": {},
   "exception": null,
   "input_path": "euler_driver.ipynb",
   "output_path": "euler_m04p3c0t1_weak.ipynb",
   "parameters": {
    "c": "c_dg",
    "discretization_type": 1,
    "form": "weak",
    "mach_number": 0.4,
    "p": 3,
    "p_map": 3
   },
   "start_time": "2021-12-03T07:48:05.275420",
   "version": "2.3.3"
  }
 },
 "nbformat": 4,
 "nbformat_minor": 5
}