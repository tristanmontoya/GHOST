{
 "cells": [
  {
   "cell_type": "code",
   "execution_count": 1,
   "id": "228d5fb6",
   "metadata": {
    "execution": {
     "iopub.execute_input": "2021-05-14T14:12:17.799564Z",
     "iopub.status.busy": "2021-05-14T14:12:17.796815Z",
     "iopub.status.idle": "2021-05-14T14:12:17.802840Z",
     "shell.execute_reply": "2021-05-14T14:12:17.802193Z"
    },
    "papermill": {
     "duration": 0.019512,
     "end_time": "2021-05-14T14:12:17.802979",
     "exception": false,
     "start_time": "2021-05-14T14:12:17.783467",
     "status": "completed"
    },
    "tags": [
     "parameters"
    ]
   },
   "outputs": [],
   "source": [
    "p=2\n",
    "M=10\n",
    "L=1\n",
    "p_geo=1\n",
    "c=\"c_dg\"\n",
    "discretization_type=1\n",
    "upwind_parameter=1.0\n",
    "form=\"strong\""
   ]
  },
  {
   "cell_type": "code",
   "execution_count": 2,
   "id": "7f897525",
   "metadata": {
    "execution": {
     "iopub.execute_input": "2021-05-14T14:12:17.817241Z",
     "iopub.status.busy": "2021-05-14T14:12:17.816623Z",
     "iopub.status.idle": "2021-05-14T14:12:17.819785Z",
     "shell.execute_reply": "2021-05-14T14:12:17.819303Z"
    },
    "papermill": {
     "duration": 0.012057,
     "end_time": "2021-05-14T14:12:17.819922",
     "exception": false,
     "start_time": "2021-05-14T14:12:17.807865",
     "status": "completed"
    },
    "tags": [
     "injected-parameters"
    ]
   },
   "outputs": [],
   "source": [
    "# Parameters\n",
    "p = 4\n",
    "p_geo = 1\n",
    "upwind_parameter = 0.0\n",
    "c = \"c_+\"\n",
    "discretization_type = 1\n",
    "form = \"weak\"\n"
   ]
  },
  {
   "cell_type": "code",
   "execution_count": 3,
   "id": "016eddc0",
   "metadata": {
    "execution": {
     "iopub.execute_input": "2021-05-14T14:12:17.845699Z",
     "iopub.status.busy": "2021-05-14T14:12:17.844745Z",
     "iopub.status.idle": "2021-05-14T16:47:13.145422Z",
     "shell.execute_reply": "2021-05-14T16:47:13.146148Z"
    },
    "papermill": {
     "duration": 9295.321609,
     "end_time": "2021-05-14T16:47:13.146403",
     "exception": false,
     "start_time": "2021-05-14T14:12:17.824794",
     "status": "completed"
    },
    "tags": []
   },
   "outputs": [
    {
     "name": "stderr",
     "output_type": "stream",
     "text": [
      "WARNING:root:msh4 requires 3D points, but 2D points given. Appending 0 third component.\n"
     ]
    },
    {
     "name": "stderr",
     "output_type": "stream",
     "text": [
      "WARNING:root:Binary Gmsh needs c_size_t (got int64). Converting.\n"
     ]
    },
    {
     "name": "stdout",
     "output_type": "stream",
     "text": [
      "advection_p4b0cpt1_weak\n"
     ]
    },
    {
     "name": "stdout",
     "output_type": "stream",
     "text": [
      "-1.051e-15 &  1.055e-15 & 2.835e-03  \\\\\n"
     ]
    }
   ],
   "source": [
    "import sys  \n",
    "import numpy as np\n",
    "sys.path.insert(0, '../src')\n",
    "from Driver import advection_driver\n",
    "\n",
    "solver = advection_driver(a=np.sqrt(2), theta=np.pi/4, p=p, M=M, L=L,\n",
    "                        p_geo=p_geo, c=c, \n",
    "                        discretization_type=discretization_type,\n",
    "                        upwind_parameter=upwind_parameter,\n",
    "                        form=form)"
   ]
  },
  {
   "cell_type": "code",
   "execution_count": null,
   "id": "5351a2dc",
   "metadata": {
    "papermill": {
     "duration": 0.007962,
     "end_time": "2021-05-14T16:47:13.162747",
     "exception": false,
     "start_time": "2021-05-14T16:47:13.154785",
     "status": "completed"
    },
    "tags": []
   },
   "outputs": [],
   "source": []
  }
 ],
 "metadata": {
  "celltoolbar": "Tags",
  "kernelspec": {
   "display_name": "Python 3",
   "language": "python",
   "name": "python3"
  },
  "language_info": {
   "codemirror_mode": {
    "name": "ipython",
    "version": 3
   },
   "file_extension": ".py",
   "mimetype": "text/x-python",
   "name": "python",
   "nbconvert_exporter": "python",
   "pygments_lexer": "ipython3",
   "version": "3.8.5"
  },
  "papermill": {
   "default_parameters": {},
   "duration": 9297.281466,
   "end_time": "2021-05-14T16:47:13.682422",
   "environment_variables": {},
   "exception": null,
   "input_path": "advection_driver.ipynb",
   "output_path": "advection_p4b0cpt1_weak.ipynb",
   "parameters": {
    "c": "c_+",
    "discretization_type": 1,
    "form": "weak",
    "p": 4,
    "p_geo": 1,
    "upwind_parameter": 0.0
   },
   "start_time": "2021-05-14T14:12:16.400956",
   "version": "2.3.3"
  }
 },
 "nbformat": 4,
 "nbformat_minor": 5
}