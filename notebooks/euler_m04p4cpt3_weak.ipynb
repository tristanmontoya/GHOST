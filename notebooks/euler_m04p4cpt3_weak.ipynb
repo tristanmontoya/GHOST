{
 "cells": [
  {
   "cell_type": "code",
   "execution_count": 1,
   "id": "979579da",
   "metadata": {
    "execution": {
     "iopub.execute_input": "2021-05-08T19:26:05.543932Z",
     "iopub.status.busy": "2021-05-08T19:26:05.543298Z",
     "iopub.status.idle": "2021-05-08T19:26:05.549983Z",
     "shell.execute_reply": "2021-05-08T19:26:05.549247Z"
    },
    "papermill": {
     "duration": 0.023708,
     "end_time": "2021-05-08T19:26:05.550156",
     "exception": false,
     "start_time": "2021-05-08T19:26:05.526448",
     "status": "completed"
    },
    "tags": [
     "parameters"
    ]
   },
   "outputs": [],
   "source": [
    "mach_number=0.4\n",
    "p=2\n",
    "M=11\n",
    "L=10.0\n",
    "p_geo=2\n",
    "c=\"c_dg\"\n",
    "discretization_type=1\n",
    "form=\"strong\""
   ]
  },
  {
   "cell_type": "code",
   "execution_count": 2,
   "id": "53341799",
   "metadata": {
    "execution": {
     "iopub.execute_input": "2021-05-08T19:26:05.564918Z",
     "iopub.status.busy": "2021-05-08T19:26:05.564299Z",
     "iopub.status.idle": "2021-05-08T19:26:05.567103Z",
     "shell.execute_reply": "2021-05-08T19:26:05.566493Z"
    },
    "papermill": {
     "duration": 0.011975,
     "end_time": "2021-05-08T19:26:05.567234",
     "exception": false,
     "start_time": "2021-05-08T19:26:05.555259",
     "status": "completed"
    },
    "tags": [
     "injected-parameters"
    ]
   },
   "outputs": [],
   "source": [
    "# Parameters\n",
    "mach_number = 0.4\n",
    "p = 4\n",
    "p_geo = 4\n",
    "c = \"c_+\"\n",
    "discretization_type = 3\n",
    "form = \"weak\"\n"
   ]
  },
  {
   "cell_type": "code",
   "execution_count": 3,
   "id": "4f1d3512",
   "metadata": {
    "execution": {
     "iopub.execute_input": "2021-05-08T19:26:05.595028Z",
     "iopub.status.busy": "2021-05-08T19:26:05.594350Z",
     "iopub.status.idle": "2021-05-10T08:15:49.638013Z",
     "shell.execute_reply": "2021-05-10T08:15:49.638785Z"
    },
    "papermill": {
     "duration": 132584.067451,
     "end_time": "2021-05-10T08:15:49.639257",
     "exception": false,
     "start_time": "2021-05-08T19:26:05.571806",
     "status": "completed"
    },
    "tags": []
   },
   "outputs": [
    {
     "name": "stderr",
     "output_type": "stream",
     "text": [
      "WARNING:root:msh4 requires 3D points, but 2D points given. Appending 0 third component.\n"
     ]
    },
    {
     "name": "stderr",
     "output_type": "stream",
     "text": [
      "WARNING:root:Binary Gmsh needs c_size_t (got int64). Converting.\n"
     ]
    },
    {
     "name": "stdout",
     "output_type": "stream",
     "text": [
      "running solver euler_m04p4cpt3_weak\n"
     ]
    },
    {
     "name": "stdout",
     "output_type": "stream",
     "text": [
      "2.842e-14 &  1.146e-02  \\\\\n",
      "-1.819e-12 &  2.274e-02  \\\\\n",
      "1.673e-12 &  2.132e-02  \\\\\n",
      "-1.421e-13 &  2.132e-02  \\\\\n"
     ]
    }
   ],
   "source": [
    "import sys  \n",
    "sys.path.insert(0, '../src')\n",
    "from Driver import euler_driver\n",
    "\n",
    "solver = euler_driver(mach_number=mach_number, \n",
    "                        p=p, M=M, L=L,\n",
    "                        p_geo=p_geo, c=c, \n",
    "                        discretization_type=discretization_type,\n",
    "                        form=form)"
   ]
  },
  {
   "cell_type": "code",
   "execution_count": null,
   "id": "4017537e",
   "metadata": {
    "papermill": {
     "duration": 0.008076,
     "end_time": "2021-05-10T08:15:49.656161",
     "exception": false,
     "start_time": "2021-05-10T08:15:49.648085",
     "status": "completed"
    },
    "tags": []
   },
   "outputs": [],
   "source": []
  }
 ],
 "metadata": {
  "celltoolbar": "Tags",
  "kernelspec": {
   "display_name": "Python 3",
   "language": "python",
   "name": "python3"
  },
  "language_info": {
   "codemirror_mode": {
    "name": "ipython",
    "version": 3
   },
   "file_extension": ".py",
   "mimetype": "text/x-python",
   "name": "python",
   "nbconvert_exporter": "python",
   "pygments_lexer": "ipython3",
   "version": "3.8.5"
  },
  "papermill": {
   "default_parameters": {},
   "duration": 132587.316442,
   "end_time": "2021-05-10T08:15:51.091880",
   "environment_variables": {},
   "exception": null,
   "input_path": "euler_driver.ipynb",
   "output_path": "euler_m04p4cpt3_weak.ipynb",
   "parameters": {
    "c": "c_+",
    "discretization_type": 3,
    "form": "weak",
    "mach_number": 0.4,
    "p": 4,
    "p_geo": 4
   },
   "start_time": "2021-05-08T19:26:03.775438",
   "version": "2.3.3"
  }
 },
 "nbformat": 4,
 "nbformat_minor": 5
}