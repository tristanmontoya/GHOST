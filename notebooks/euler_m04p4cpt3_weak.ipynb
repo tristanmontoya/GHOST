{
 "cells": [
  {
   "cell_type": "markdown",
   "id": "fea52f81",
   "metadata": {
    "papermill": {
     "duration": 0.00368,
     "end_time": "2021-12-11T03:48:25.468336",
     "exception": false,
     "start_time": "2021-12-11T03:48:25.464656",
     "status": "completed"
    },
    "tags": []
   },
   "source": [
    "# GHOST driver - Euler equations"
   ]
  },
  {
   "cell_type": "code",
   "execution_count": 1,
   "id": "faf0a8bc",
   "metadata": {
    "execution": {
     "iopub.execute_input": "2021-12-11T03:48:25.477632Z",
     "iopub.status.busy": "2021-12-11T03:48:25.477178Z",
     "iopub.status.idle": "2021-12-11T03:48:25.478734Z",
     "shell.execute_reply": "2021-12-11T03:48:25.479101Z"
    },
    "papermill": {
     "duration": 0.008007,
     "end_time": "2021-12-11T03:48:25.479270",
     "exception": false,
     "start_time": "2021-12-11T03:48:25.471263",
     "status": "completed"
    },
    "tags": [
     "parameters"
    ]
   },
   "outputs": [],
   "source": [
    "mach_number=0.4\n",
    "p=2\n",
    "M=16\n",
    "L=10.0\n",
    "p_map=2\n",
    "c=\"c_dg\"\n",
    "discretization_type=1\n",
    "form=\"weak\""
   ]
  },
  {
   "cell_type": "code",
   "execution_count": 2,
   "id": "7e8c8c2a",
   "metadata": {
    "execution": {
     "iopub.execute_input": "2021-12-11T03:48:25.487601Z",
     "iopub.status.busy": "2021-12-11T03:48:25.487154Z",
     "iopub.status.idle": "2021-12-11T03:48:25.489021Z",
     "shell.execute_reply": "2021-12-11T03:48:25.488632Z"
    },
    "papermill": {
     "duration": 0.006959,
     "end_time": "2021-12-11T03:48:25.489107",
     "exception": false,
     "start_time": "2021-12-11T03:48:25.482148",
     "status": "completed"
    },
    "tags": [
     "injected-parameters"
    ]
   },
   "outputs": [],
   "source": [
    "# Parameters\n",
    "mach_number = 0.4\n",
    "p = 4\n",
    "p_map = 4\n",
    "c = \"c_+\"\n",
    "discretization_type = 3\n",
    "form = \"weak\"\n"
   ]
  },
  {
   "cell_type": "code",
   "execution_count": 3,
   "id": "1b0153cb",
   "metadata": {
    "execution": {
     "iopub.execute_input": "2021-12-11T03:48:25.499130Z",
     "iopub.status.busy": "2021-12-11T03:48:25.498200Z",
     "iopub.status.idle": "2021-12-11T03:48:47.157924Z",
     "shell.execute_reply": "2021-12-11T03:48:47.158338Z"
    },
    "papermill": {
     "duration": 21.666591,
     "end_time": "2021-12-11T03:48:47.158481",
     "exception": false,
     "start_time": "2021-12-11T03:48:25.491890",
     "status": "completed"
    },
    "tags": []
   },
   "outputs": [
    {
     "name": "stderr",
     "output_type": "stream",
     "text": [
      "Matplotlib created a temporary config/cache directory at /tmp/matplotlib-k5rdfzzm because the default path (/home/z/zingg/tmontoya/.config/matplotlib) is not a writable directory; it is highly recommended to set the MPLCONFIGDIR environment variable to a writable directory, in particular to speed up the import of Matplotlib and to better support multiprocessing.\n"
     ]
    },
    {
     "name": "stdout",
     "output_type": "stream",
     "text": [
      "euler_m04p4cpt3_weak\n"
     ]
    },
    {
     "name": "stdout",
     "output_type": "stream",
     "text": [
      "loaded from time step  81458\n"
     ]
    }
   ],
   "source": [
    "import sys  \n",
    "import numpy as np\n",
    "sys.path.insert(0, '../src')\n",
    "from Driver import euler_driver\n",
    "\n",
    "solver = euler_driver(mach_number=mach_number, \n",
    "                      theta=np.pi/4,\n",
    "                        p=p, M=M, L=L,\n",
    "                        p_map=p_map, c=c, \n",
    "                        discretization_type=discretization_type,\n",
    "                        new_mesh=False,\n",
    "                        form=form, restart=True,run=True)"
   ]
  }
 ],
 "metadata": {
  "celltoolbar": "Tags",
  "interpreter": {
   "hash": "8a4c5cff9d1eb01f6f91880bd866b35b24d8468d7e92aa7ef6f6962744ecb1db"
  },
  "kernelspec": {
   "display_name": "Python 3.9.5 64-bit ('base': conda)",
   "name": "python3"
  },
  "language_info": {
   "codemirror_mode": {
    "name": "ipython",
    "version": 3
   },
   "file_extension": ".py",
   "mimetype": "text/x-python",
   "name": "python",
   "nbconvert_exporter": "python",
   "pygments_lexer": "ipython3",
   "version": "3.8.5"
  },
  "papermill": {
   "default_parameters": {},
   "duration": 23.1215,
   "end_time": "2021-12-11T03:48:47.568426",
   "environment_variables": {},
   "exception": null,
   "input_path": "euler_driver.ipynb",
   "output_path": "euler_m04p4cpt3_weak.ipynb",
   "parameters": {
    "c": "c_+",
    "discretization_type": 3,
    "form": "weak",
    "mach_number": 0.4,
    "p": 4,
    "p_map": 4
   },
   "start_time": "2021-12-11T03:48:24.446926",
   "version": "2.3.3"
  }
 },
 "nbformat": 4,
 "nbformat_minor": 5
}