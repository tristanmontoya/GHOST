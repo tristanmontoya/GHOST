{
 "cells": [
  {
   "cell_type": "code",
   "execution_count": 1,
   "metadata": {
    "scrolled": false
   },
   "outputs": [
    {
     "name": "stderr",
     "output_type": "stream",
     "text": [
      "WARNING:root:msh4 requires 3D points, but 2D points given. Appending 0 third component.\n",
      "WARNING:root:Binary Gmsh needs c_size_t (got int64). Converting.\n"
     ]
    },
    {
     "name": "stdout",
     "output_type": "stream",
     "text": [
      "euler_m04p3c0t1_strong\n"
     ]
    },
    {
     "name": "stderr",
     "output_type": "stream",
     "text": [
      "WARNING:root:msh4 requires 3D points, but 2D points given. Appending 0 third component.\n",
      "WARNING:root:Binary Gmsh needs c_size_t (got int64). Converting.\n"
     ]
    },
    {
     "name": "stdout",
     "output_type": "stream",
     "text": [
      "euler_m04p3c0t1_weak\n"
     ]
    },
    {
     "ename": "FileNotFoundError",
     "evalue": "[Errno 2] No such file or directory: '../results/euler_m04p3c0t1_strong/res_63356.dat'",
     "output_type": "error",
     "traceback": [
      "\u001b[0;31m---------------------------------------------------------------------------\u001b[0m",
      "\u001b[0;31mFileNotFoundError\u001b[0m                         Traceback (most recent call last)",
      "\u001b[0;32m<ipython-input-1-c35092837811>\u001b[0m in \u001b[0;36m<module>\u001b[0;34m\u001b[0m\n\u001b[1;32m     21\u001b[0m                                 \u001b[0mdiscretization_type\u001b[0m\u001b[0;34m=\u001b[0m\u001b[0mdisctype\u001b[0m\u001b[0;34m,\u001b[0m\u001b[0;34m\u001b[0m\u001b[0;34m\u001b[0m\u001b[0m\n\u001b[1;32m     22\u001b[0m                                 headings_disc=False, headings_corr=True)\n\u001b[0;32m---> 23\u001b[0;31m + \"\\\\midrule \\n\")\n\u001b[0m\u001b[1;32m     24\u001b[0m \u001b[0;34m\u001b[0m\u001b[0m\n\u001b[1;32m     25\u001b[0m \u001b[0mdisctype\u001b[0m\u001b[0;34m=\u001b[0m\u001b[0;36m3\u001b[0m\u001b[0;34m\u001b[0m\u001b[0;34m\u001b[0m\u001b[0m\n",
      "\u001b[0;32m~/Research/GHOST_private/src/Driver.py\u001b[0m in \u001b[0;36mwrite_output_euler\u001b[0;34m(mach_number, theta, p, p_geo, M, L, correction_type, discretization_type, headings_disc, headings_corr)\u001b[0m\n\u001b[1;32m    319\u001b[0m                     weak.discretization, mach_number, weak.beta, L/M)))\n\u001b[1;32m    320\u001b[0m \u001b[0;34m\u001b[0m\u001b[0m\n\u001b[0;32m--> 321\u001b[0;31m     \u001b[0mstrong\u001b[0m\u001b[0;34m.\u001b[0m\u001b[0mload_solution\u001b[0m\u001b[0;34m(\u001b[0m\u001b[0mtime_step\u001b[0m\u001b[0;34m=\u001b[0m\u001b[0mNt_strong\u001b[0m\u001b[0;34m)\u001b[0m\u001b[0;34m\u001b[0m\u001b[0;34m\u001b[0m\u001b[0m\n\u001b[0m\u001b[1;32m    322\u001b[0m     \u001b[0mstrong\u001b[0m\u001b[0;34m.\u001b[0m\u001b[0mpost_process\u001b[0m\u001b[0;34m(\u001b[0m\u001b[0merror_quadrature_degree\u001b[0m\u001b[0;34m=\u001b[0m\u001b[0;36m4\u001b[0m\u001b[0;34m*\u001b[0m\u001b[0mp\u001b[0m\u001b[0;34m)\u001b[0m\u001b[0;34m\u001b[0m\u001b[0;34m\u001b[0m\u001b[0m\n\u001b[1;32m    323\u001b[0m     \u001b[0mweak\u001b[0m\u001b[0;34m.\u001b[0m\u001b[0mload_solution\u001b[0m\u001b[0;34m(\u001b[0m\u001b[0mtime_step\u001b[0m\u001b[0;34m=\u001b[0m\u001b[0mNt_weak\u001b[0m\u001b[0;34m)\u001b[0m\u001b[0;34m\u001b[0m\u001b[0;34m\u001b[0m\u001b[0m\n",
      "\u001b[0;32m~/Research/GHOST_private/src/Solver.py\u001b[0m in \u001b[0;36mload_solution\u001b[0;34m(self, results_path, time_step)\u001b[0m\n\u001b[1;32m   1092\u001b[0m         self.u_hat = pickle.load(open(results_path \n\u001b[1;32m   1093\u001b[0m                                       \u001b[0;34m+\u001b[0m \u001b[0;34m\"res_\"\u001b[0m\u001b[0;34m\u001b[0m\u001b[0;34m\u001b[0m\u001b[0m\n\u001b[0;32m-> 1094\u001b[0;31m                                       + str(time_step) + \".dat\", \"rb\"))\n\u001b[0m\u001b[1;32m   1095\u001b[0m \u001b[0;34m\u001b[0m\u001b[0m\n\u001b[1;32m   1096\u001b[0m \u001b[0;34m\u001b[0m\u001b[0m\n",
      "\u001b[0;31mFileNotFoundError\u001b[0m: [Errno 2] No such file or directory: '../results/euler_m04p3c0t1_strong/res_63356.dat'"
     ]
    }
   ],
   "source": [
    "import sys\n",
    "sys.path.insert(0, '../src')\n",
    "import numpy as np\n",
    "from Driver import write_output_euler\n",
    "            \n",
    "mach_number=0.4\n",
    "theta=np.pi/4\n",
    "p=3\n",
    "p_geo=p\n",
    "M=16\n",
    "L=10.0\n",
    "\n",
    "disctype=1\n",
    "table = (write_output_euler(mach_number=mach_number, theta=theta,\n",
    "                                p=p, p_geo=p, M=M, L=L,correction_type=\"c_dg\",\n",
    "                                discretization_type=disctype, \n",
    "                                headings_disc=True, headings_corr=True)\n",
    "+ \"\\\\cmidrule{2-6} \\n\"\n",
    "+ write_output_euler(mach_number=mach_number, theta=theta,\n",
    "                                p=p, p_geo=p, M=M, L=L,correction_type=\"c_+\",\n",
    "                                discretization_type=disctype,\n",
    "                                headings_disc=False, headings_corr=True)\n",
    "+ \"\\\\midrule \\n\")\n",
    "\n",
    "disctype=3\n",
    "table = table + (write_output_euler(mach_number=mach_number, theta=theta,\n",
    "                                p=p, p_geo=p, M=M, L=L,correction_type=\"c_dg\",\n",
    "                                discretization_type=disctype, \n",
    "                                headings_disc=True, headings_corr=True)\n",
    "+ \"\\\\cmidrule{2-6} \\n\"\n",
    "+ write_output_euler(mach_number=mach_number, theta=theta,\n",
    "                                p=p, p_geo=p, M=M, L=L,correction_type=\"c_+\",\n",
    "                                discretization_type=disctype,\n",
    "                                headings_disc=False, headings_corr=True)\n",
    "+ \"\\\\midrule \\n\")\n",
    "\n",
    "disctype=2\n",
    "table = table + (write_output_euler(mach_number=mach_number, theta=theta,\n",
    "                                p=p, p_geo=p, M=M, L=L,correction_type=\"c_dg\",\n",
    "                                discretization_type=disctype, \n",
    "                                headings_disc=True, headings_corr=True)\n",
    "+ \"\\\\cmidrule{2-6} \\n\"\n",
    "+ write_output_euler(mach_number=mach_number, theta=theta,\n",
    "                                p=p, p_geo=p, M=M, L=L,correction_type=\"c_+\",\n",
    "                                discretization_type=disctype,\n",
    "                                headings_disc=False, headings_corr=True))"
   ]
  },
  {
   "cell_type": "markdown",
   "metadata": {},
   "source": []
  },
  {
   "cell_type": "code",
   "execution_count": null,
   "metadata": {},
   "outputs": [],
   "source": [
    "print(table)"
   ]
  },
  {
   "cell_type": "code",
   "execution_count": null,
   "metadata": {},
   "outputs": [],
   "source": []
  }
 ],
 "metadata": {
  "kernelspec": {
   "display_name": "Python 3",
   "language": "python",
   "name": "python3"
  },
  "language_info": {
   "codemirror_mode": {
    "name": "ipython",
    "version": 3
   },
   "file_extension": ".py",
   "mimetype": "text/x-python",
   "name": "python",
   "nbconvert_exporter": "python",
   "pygments_lexer": "ipython3",
   "version": "3.7.9"
  }
 },
 "nbformat": 4,
 "nbformat_minor": 4
}
