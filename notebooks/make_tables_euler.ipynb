{
 "cells": [
  {
   "cell_type": "markdown",
   "metadata": {},
   "source": [
    "# Make tables for Euler numerical experiments"
   ]
  },
  {
   "cell_type": "code",
   "execution_count": null,
   "metadata": {
    "scrolled": false
   },
   "outputs": [],
   "source": [
    "import sys\n",
    "sys.path.insert(0, '../src')\n",
    "import numpy as np\n",
    "from Driver import write_output_euler\n",
    "\n",
    "mach_number=0.4\n",
    "theta=np.pi/4\n",
    "p=2\n",
    "p_map=p\n",
    "M=16\n",
    "L=10.0"
   ]
  },
  {
   "cell_type": "markdown",
   "metadata": {},
   "source": [
    "Quadrature I (degree $2p$ volume quadrature, $2p+1$ facet quadrature)"
   ]
  },
  {
   "cell_type": "code",
   "execution_count": null,
   "metadata": {},
   "outputs": [],
   "source": [
    "disctype=1\n",
    "table = (write_output_euler(mach_number=mach_number, theta=theta,\n",
    "                                p=p, p_map=p, M=M, L=L,correction_type=\"c_dg\",\n",
    "                                discretization_type=disctype, \n",
    "                                headings_disc=True, headings_corr=True)\n",
    "+ \"\\\\cmidrule{2-6} \\n\"\n",
    "+ write_output_euler(mach_number=mach_number, theta=theta,\n",
    "                                p=p, p_map=p, M=M, L=L,correction_type=\"c_+\",\n",
    "                                discretization_type=disctype,\n",
    "                                headings_disc=False, headings_corr=True)\n",
    "+ \"\\\\midrule \\n\")"
   ]
  },
  {
   "cell_type": "markdown",
   "metadata": {},
   "source": [
    "Quadrature II (degree $2p$ volume quadrature, $2p-1$ facet quadrature)"
   ]
  },
  {
   "cell_type": "code",
   "execution_count": null,
   "metadata": {},
   "outputs": [],
   "source": [
    "disctype=3\n",
    "table = table + (write_output_euler(mach_number=mach_number, theta=theta,\n",
    "                                p=p, p_map=p, M=M, L=L,correction_type=\"c_dg\",\n",
    "                                discretization_type=disctype, \n",
    "                                headings_disc=True, headings_corr=True)\n",
    "+ \"\\\\cmidrule{2-6} \\n\"\n",
    "+ write_output_euler(mach_number=mach_number, theta=theta,\n",
    "                                p=p, p_map=p, M=M, L=L,correction_type=\"c_+\",\n",
    "                                discretization_type=disctype,\n",
    "                                headings_disc=False, headings_corr=True)\n",
    "+ \"\\\\midrule \\n\")"
   ]
  },
  {
   "cell_type": "markdown",
   "metadata": {},
   "source": [
    "Collocation (Degree $p$ \"warp and blend\" nodes - includes $p+1$ LGL nodes on each facet)"
   ]
  },
  {
   "cell_type": "code",
   "execution_count": null,
   "metadata": {},
   "outputs": [],
   "source": [
    "disctype=2\n",
    "table = table + (write_output_euler(mach_number=mach_number, theta=theta,\n",
    "                                p=p, p_map=p, M=M, L=L,correction_type=\"c_dg\",\n",
    "                                discretization_type=disctype, \n",
    "                                headings_disc=True, headings_corr=True)\n",
    "+ \"\\\\cmidrule{2-6} \\n\"\n",
    "+ write_output_euler(mach_number=mach_number, theta=theta,\n",
    "                                p=p, p_map=p, M=M, L=L,correction_type=\"c_+\",\n",
    "                                discretization_type=disctype,\n",
    "                                headings_disc=False, headings_corr=True))"
   ]
  }
 ],
 "metadata": {
  "interpreter": {
   "hash": "8a4c5cff9d1eb01f6f91880bd866b35b24d8468d7e92aa7ef6f6962744ecb1db"
  },
  "kernelspec": {
   "display_name": "Python 3.9.5 64-bit ('base': conda)",
   "name": "python3"
  },
  "language_info": {
   "codemirror_mode": {
    "name": "ipython",
    "version": 3
   },
   "file_extension": ".py",
   "mimetype": "text/x-python",
   "name": "python",
   "nbconvert_exporter": "python",
   "pygments_lexer": "ipython3",
   "version": "3.9.5"
  }
 },
 "nbformat": 4,
 "nbformat_minor": 4
}
