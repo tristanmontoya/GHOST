{
 "cells": [
  {
   "cell_type": "code",
   "execution_count": 1,
   "metadata": {
    "scrolled": false
   },
   "outputs": [
    {
     "name": "stdout",
     "output_type": "stream",
     "text": [
      "euler_m04p2c0t1_strong\n",
      "euler_m04p2c0t1_weak\n"
     ]
    },
    {
     "ename": "AttributeError",
     "evalue": "'Solver' object has no attribute 'u_hat'",
     "output_type": "error",
     "traceback": [
      "\u001b[0;31m---------------------------------------------------------------------------\u001b[0m",
      "\u001b[0;31mAttributeError\u001b[0m                            Traceback (most recent call last)",
      "\u001b[0;32m<ipython-input-1-0ec4a48a4607>\u001b[0m in \u001b[0;36m<module>\u001b[0;34m\u001b[0m\n\u001b[1;32m     21\u001b[0m                                 \u001b[0mdiscretization_type\u001b[0m\u001b[0;34m=\u001b[0m\u001b[0mdisctype\u001b[0m\u001b[0;34m,\u001b[0m\u001b[0;34m\u001b[0m\u001b[0;34m\u001b[0m\u001b[0m\n\u001b[1;32m     22\u001b[0m                                 headings_disc=False, headings_corr=True)\n\u001b[0;32m---> 23\u001b[0;31m + \"\\\\midrule \\n\")\n\u001b[0m\u001b[1;32m     24\u001b[0m \u001b[0;34m\u001b[0m\u001b[0m\n\u001b[1;32m     25\u001b[0m \u001b[0mdisctype\u001b[0m\u001b[0;34m=\u001b[0m\u001b[0;36m3\u001b[0m\u001b[0;34m\u001b[0m\u001b[0;34m\u001b[0m\u001b[0m\n",
      "\u001b[0;32m~/Research/GHOST_private/src/Driver.py\u001b[0m in \u001b[0;36mwrite_output_euler\u001b[0;34m(mach_number, theta, p, p_map, M, L, correction_type, upwind_parameter, discretization_type, headings_disc, headings_corr, solution_error)\u001b[0m\n\u001b[1;32m    358\u001b[0m                             new_mesh=False)\n\u001b[1;32m    359\u001b[0m \u001b[0;34m\u001b[0m\u001b[0m\n\u001b[0;32m--> 360\u001b[0;31m     \u001b[0mstrong\u001b[0m\u001b[0;34m.\u001b[0m\u001b[0mpost_process\u001b[0m\u001b[0;34m(\u001b[0m\u001b[0merror_quadrature_degree\u001b[0m\u001b[0;34m=\u001b[0m\u001b[0;36m4\u001b[0m\u001b[0;34m*\u001b[0m\u001b[0mp\u001b[0m\u001b[0;34m)\u001b[0m\u001b[0;34m\u001b[0m\u001b[0;34m\u001b[0m\u001b[0m\n\u001b[0m\u001b[1;32m    361\u001b[0m     \u001b[0mweak\u001b[0m\u001b[0;34m.\u001b[0m\u001b[0mpost_process\u001b[0m\u001b[0;34m(\u001b[0m\u001b[0merror_quadrature_degree\u001b[0m\u001b[0;34m=\u001b[0m\u001b[0;36m4\u001b[0m\u001b[0;34m*\u001b[0m\u001b[0mp\u001b[0m\u001b[0;34m)\u001b[0m\u001b[0;34m\u001b[0m\u001b[0;34m\u001b[0m\u001b[0m\n\u001b[1;32m    362\u001b[0m \u001b[0;34m\u001b[0m\u001b[0m\n",
      "\u001b[0;32m~/Research/GHOST_private/src/Solver.py\u001b[0m in \u001b[0;36mpost_process\u001b[0;34m(self, visualization_resolution, error_quadrature_degree, process_visualization, process_exact_solution)\u001b[0m\n\u001b[1;32m    409\u001b[0m                     self.u_h[k].append(self.discretization.V[\n\u001b[1;32m    410\u001b[0m                      self.discretization.element_to_discretization[k]]\n\u001b[0;32m--> 411\u001b[0;31m                         @ self.u_hat[k][e])\n\u001b[0m\u001b[1;32m    412\u001b[0m \u001b[0;34m\u001b[0m\u001b[0m\n\u001b[1;32m    413\u001b[0m                 \u001b[0;32mfor\u001b[0m \u001b[0mgamma\u001b[0m \u001b[0;32min\u001b[0m \u001b[0mrange\u001b[0m\u001b[0;34m(\u001b[0m\u001b[0;36m0\u001b[0m\u001b[0;34m,\u001b[0m \u001b[0mself\u001b[0m\u001b[0;34m.\u001b[0m\u001b[0mdiscretization\u001b[0m\u001b[0;34m.\u001b[0m\u001b[0mmesh\u001b[0m\u001b[0;34m.\u001b[0m\u001b[0mNf\u001b[0m\u001b[0;34m[\u001b[0m\u001b[0mk\u001b[0m\u001b[0;34m]\u001b[0m\u001b[0;34m)\u001b[0m\u001b[0;34m:\u001b[0m\u001b[0;34m\u001b[0m\u001b[0;34m\u001b[0m\u001b[0m\n",
      "\u001b[0;31mAttributeError\u001b[0m: 'Solver' object has no attribute 'u_hat'"
     ]
    }
   ],
   "source": [
    "import sys\n",
    "sys.path.insert(0, '../src')\n",
    "import numpy as np\n",
    "from Driver import write_output_euler\n",
    "            \n",
    "mach_number=0.4\n",
    "theta=np.pi/4\n",
    "p=2\n",
    "p_map=p\n",
    "M=16\n",
    "L=10.0\n",
    "\n",
    "disctype=1\n",
    "table = (write_output_euler(mach_number=mach_number, theta=theta,\n",
    "                                p=p, p_map=p, M=M, L=L,correction_type=\"c_dg\",\n",
    "                                discretization_type=disctype, \n",
    "                                headings_disc=True, headings_corr=True)\n",
    "+ \"\\\\cmidrule{2-6} \\n\"\n",
    "+ write_output_euler(mach_number=mach_number, theta=theta,\n",
    "                                p=p, p_map=p, M=M, L=L,correction_type=\"c_+\",\n",
    "                                discretization_type=disctype,\n",
    "                                headings_disc=False, headings_corr=True)\n",
    "+ \"\\\\midrule \\n\")\n",
    "\n",
    "disctype=3\n",
    "table = table + (write_output_euler(mach_number=mach_number, theta=theta,\n",
    "                                p=p, p_map=p, M=M, L=L,correction_type=\"c_dg\",\n",
    "                                discretization_type=disctype, \n",
    "                                headings_disc=True, headings_corr=True)\n",
    "+ \"\\\\cmidrule{2-6} \\n\"\n",
    "+ write_output_euler(mach_number=mach_number, theta=theta,\n",
    "                                p=p, p_map=p, M=M, L=L,correction_type=\"c_+\",\n",
    "                                discretization_type=disctype,\n",
    "                                headings_disc=False, headings_corr=True)\n",
    "+ \"\\\\midrule \\n\")\n",
    "\n",
    "disctype=2\n",
    "table = table + (write_output_euler(mach_number=mach_number, theta=theta,\n",
    "                                p=p, p_map=p, M=M, L=L,correction_type=\"c_dg\",\n",
    "                                discretization_type=disctype, \n",
    "                                headings_disc=True, headings_corr=True)\n",
    "+ \"\\\\cmidrule{2-6} \\n\"\n",
    "+ write_output_euler(mach_number=mach_number, theta=theta,\n",
    "                                p=p, p_map=p, M=M, L=L,correction_type=\"c_+\",\n",
    "                                discretization_type=disctype,\n",
    "                                headings_disc=False, headings_corr=True))"
   ]
  },
  {
   "cell_type": "markdown",
   "metadata": {},
   "source": []
  },
  {
   "cell_type": "code",
   "execution_count": null,
   "metadata": {},
   "outputs": [],
   "source": [
    "print(table)"
   ]
  }
 ],
 "metadata": {
  "kernelspec": {
   "display_name": "Python 3",
   "language": "python",
   "name": "python3"
  },
  "language_info": {
   "codemirror_mode": {
    "name": "ipython",
    "version": 3
   },
   "file_extension": ".py",
   "mimetype": "text/x-python",
   "name": "python",
   "nbconvert_exporter": "python",
   "pygments_lexer": "ipython3",
   "version": "3.7.9"
  }
 },
 "nbformat": 4,
 "nbformat_minor": 4
}
