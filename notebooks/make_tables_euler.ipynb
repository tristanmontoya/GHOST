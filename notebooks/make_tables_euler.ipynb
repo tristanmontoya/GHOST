{
 "cells": [
  {
   "cell_type": "code",
   "execution_count": 1,
   "metadata": {
    "scrolled": false
   },
   "outputs": [
    {
     "name": "stdout",
     "output_type": "stream",
     "text": [
      "euler_m04p4c0t1_strong\n",
      "euler_m04p4c0t1_weak\n",
      "euler_m04p4cpt1_strong\n",
      "euler_m04p4cpt1_weak\n",
      "euler_m04p4c0t3_strong\n",
      "euler_m04p4c0t3_weak\n",
      "euler_m04p4cpt3_strong\n",
      "euler_m04p4cpt3_weak\n",
      "euler_m04p4c0t2_strong\n",
      "euler_m04p4c0t2_weak\n",
      "euler_m04p4cpt2_strong\n",
      "euler_m04p4cpt2_weak\n"
     ]
    }
   ],
   "source": [
    "import sys\n",
    "sys.path.insert(0, '../src')\n",
    "import numpy as np\n",
    "from Driver import write_output_euler\n",
    "            \n",
    "mach_number=0.4\n",
    "theta=np.pi/4\n",
    "p=4\n",
    "p_geo=p\n",
    "M=16\n",
    "L=10.0\n",
    "\n",
    "disctype=1\n",
    "table = (write_output_euler(mach_number=mach_number, theta=theta,\n",
    "                                p=p, p_geo=p, M=M, L=L,correction_type=\"c_dg\",\n",
    "                                discretization_type=disctype, \n",
    "                                headings_disc=True, headings_corr=True)\n",
    "+ \"\\\\cmidrule{2-6} \\n\"\n",
    "+ write_output_euler(mach_number=mach_number, theta=theta,\n",
    "                                p=p, p_geo=p, M=M, L=L,correction_type=\"c_+\",\n",
    "                                discretization_type=disctype,\n",
    "                                headings_disc=False, headings_corr=True)\n",
    "+ \"\\\\midrule \\n\")\n",
    "\n",
    "disctype=3\n",
    "table = table + (write_output_euler(mach_number=mach_number, theta=theta,\n",
    "                                p=p, p_geo=p, M=M, L=L,correction_type=\"c_dg\",\n",
    "                                discretization_type=disctype, \n",
    "                                headings_disc=True, headings_corr=True)\n",
    "+ \"\\\\cmidrule{2-6} \\n\"\n",
    "+ write_output_euler(mach_number=mach_number, theta=theta,\n",
    "                                p=p, p_geo=p, M=M, L=L,correction_type=\"c_+\",\n",
    "                                discretization_type=disctype,\n",
    "                                headings_disc=False, headings_corr=True)\n",
    "+ \"\\\\midrule \\n\")\n",
    "\n",
    "disctype=2\n",
    "table = table + (write_output_euler(mach_number=mach_number, theta=theta,\n",
    "                                p=p, p_geo=p, M=M, L=L,correction_type=\"c_dg\",\n",
    "                                discretization_type=disctype, \n",
    "                                headings_disc=True, headings_corr=True)\n",
    "+ \"\\\\cmidrule{2-6} \\n\"\n",
    "+ write_output_euler(mach_number=mach_number, theta=theta,\n",
    "                                p=p, p_geo=p, M=M, L=L,correction_type=\"c_+\",\n",
    "                                discretization_type=disctype,\n",
    "                                headings_disc=False, headings_corr=True))"
   ]
  },
  {
   "cell_type": "markdown",
   "metadata": {},
   "source": []
  },
  {
   "cell_type": "code",
   "execution_count": 2,
   "metadata": {},
   "outputs": [
    {
     "name": "stdout",
     "output_type": "stream",
     "text": [
      "Quadrature I & $c_{\\mathrm{DG}}$ & $\\rho$ & 5.573e-14 & 4.690e-13 & 3.553e-13\\\\ \n",
      " & & $\\rho V_1$ & 6.885e-14 & -1.528e-13 & -3.126e-13\\\\ \n",
      " & & $\\rho V_2$ & 6.624e-14 & 1.219e-12 & 1.098e-12\\\\ \n",
      " & & $E$ & 8.680e-14 & 6.821e-13 & 3.695e-13\\\\ \n",
      "\\cmidrule{2-6} \n",
      " & $c_+$ & $\\rho$ & 5.004e-14 & 5.116e-13 & 4.121e-13\\\\ \n",
      " & & $\\rho V_1$ & 7.479e-14 & -2.025e-13 & -4.299e-13\\\\ \n",
      " & & $\\rho V_2$ & 7.004e-14 & 1.190e-12 & 1.094e-12\\\\ \n",
      " & & $E$ & 7.689e-14 & 8.242e-13 & 6.537e-13\\\\ \n",
      "\\midrule \n",
      "Quadrature II & $c_{\\mathrm{DG}}$ & $\\rho$ & 8.368e-03 & 6.395e-13 & -5.684e-14\\\\ \n",
      " & & $\\rho V_1$ & 7.560e-03 & 1.421e-13 & -1.791e-12\\\\ \n",
      " & & $\\rho V_2$ & 7.803e-03 & 1.773e-12 & 1.911e-12\\\\ \n",
      " & & $E$ & 5.937e-03 & 1.620e-12 & -2.274e-13\\\\ \n",
      "\\cmidrule{2-6} \n",
      " & $c_+$ & $\\rho$ & 4.230e-03 & 7.958e-13 & 4.263e-14\\\\ \n",
      " & & $\\rho V_1$ & 5.130e-03 & 1.421e-13 & -1.986e-12\\\\ \n",
      " & & $\\rho V_2$ & 5.918e-03 & 1.759e-12 & 1.897e-12\\\\ \n",
      " & & $E$ & 4.764e-03 & 1.705e-12 & 2.842e-14\\\\ \n",
      "\\midrule \n",
      "Collocation & $c_{\\mathrm{DG}}$ & $\\rho$ & 1.531e-13 & 2.700e-13 & 9.379e-13\\\\ \n",
      " & & $\\rho V_1$ & 4.463e-13 & 3.553e-14 & -4.832e-13\\\\ \n",
      " & & $\\rho V_2$ & 4.288e-13 & 2.878e-13 & 3.276e-12\\\\ \n",
      " & & $E$ & 4.082e-13 & -1.421e-13 & 1.990e-12\\\\ \n",
      "\\cmidrule{2-6} \n",
      " & $c_+$ & $\\rho$ & 1.862e-13 & 1.705e-13 & 1.165e-12\\\\ \n",
      " & & $\\rho V_1$ & 5.534e-13 & 3.553e-14 & -3.908e-14\\\\ \n",
      " & & $\\rho V_2$ & 5.066e-13 & 3.091e-13 & 3.929e-12\\\\ \n",
      " & & $E$ & 5.137e-13 & 1.137e-13 & 2.956e-12\\\\ \n",
      "\n"
     ]
    }
   ],
   "source": [
    "print(table)"
   ]
  }
 ],
 "metadata": {
  "kernelspec": {
   "display_name": "Python 3",
   "language": "python",
   "name": "python3"
  },
  "language_info": {
   "codemirror_mode": {
    "name": "ipython",
    "version": 3
   },
   "file_extension": ".py",
   "mimetype": "text/x-python",
   "name": "python",
   "nbconvert_exporter": "python",
   "pygments_lexer": "ipython3",
   "version": "3.7.9"
  }
 },
 "nbformat": 4,
 "nbformat_minor": 4
}
