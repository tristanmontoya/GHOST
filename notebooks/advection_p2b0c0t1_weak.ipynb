{
 "cells": [
  {
   "cell_type": "code",
   "execution_count": 1,
   "id": "8c2a1ff2",
   "metadata": {
    "execution": {
     "iopub.execute_input": "2021-05-11T03:10:11.169777Z",
     "iopub.status.busy": "2021-05-11T03:10:11.168521Z",
     "iopub.status.idle": "2021-05-11T03:10:11.170392Z",
     "shell.execute_reply": "2021-05-11T03:10:11.169091Z"
    },
    "papermill": {
     "duration": 0.033713,
     "end_time": "2021-05-11T03:10:11.170541",
     "exception": false,
     "start_time": "2021-05-11T03:10:11.136828",
     "status": "completed"
    },
    "tags": [
     "parameters"
    ]
   },
   "outputs": [],
   "source": [
    "p=2\n",
    "M=10\n",
    "L=1\n",
    "p_geo=1\n",
    "c=\"c_dg\"\n",
    "discretization_type=1\n",
    "upwind_parameter=1.0\n",
    "form=\"strong\""
   ]
  },
  {
   "cell_type": "code",
   "execution_count": 2,
   "id": "85daf897",
   "metadata": {
    "execution": {
     "iopub.execute_input": "2021-05-11T03:10:11.209621Z",
     "iopub.status.busy": "2021-05-11T03:10:11.208458Z",
     "iopub.status.idle": "2021-05-11T03:10:11.210345Z",
     "shell.execute_reply": "2021-05-11T03:10:11.209033Z"
    },
    "papermill": {
     "duration": 0.034987,
     "end_time": "2021-05-11T03:10:11.210523",
     "exception": false,
     "start_time": "2021-05-11T03:10:11.175536",
     "status": "completed"
    },
    "tags": [
     "injected-parameters"
    ]
   },
   "outputs": [],
   "source": [
    "# Parameters\n",
    "p = 2\n",
    "p_geo = 1\n",
    "upwind_parameter = 0.0\n",
    "c = \"c_dg\"\n",
    "discretization_type = 1\n",
    "form = \"weak\"\n"
   ]
  },
  {
   "cell_type": "code",
   "execution_count": 3,
   "id": "659d0bc1",
   "metadata": {
    "execution": {
     "iopub.execute_input": "2021-05-11T03:10:11.264422Z",
     "iopub.status.busy": "2021-05-11T03:10:11.263635Z",
     "iopub.status.idle": "2021-05-11T04:31:31.878443Z",
     "shell.execute_reply": "2021-05-11T04:31:31.879131Z"
    },
    "papermill": {
     "duration": 4880.66372,
     "end_time": "2021-05-11T04:31:31.879345",
     "exception": false,
     "start_time": "2021-05-11T03:10:11.215625",
     "status": "completed"
    },
    "tags": []
   },
   "outputs": [
    {
     "name": "stderr",
     "output_type": "stream",
     "text": [
      "WARNING:root:msh4 requires 3D points, but 2D points given. Appending 0 third component.\n"
     ]
    },
    {
     "name": "stderr",
     "output_type": "stream",
     "text": [
      "WARNING:root:Binary Gmsh needs c_size_t (got int64). Converting.\n"
     ]
    },
    {
     "name": "stdout",
     "output_type": "stream",
     "text": [
      "advection_p2b0c0t1_weak\n"
     ]
    },
    {
     "name": "stdout",
     "output_type": "stream",
     "text": [
      "-3.703e-16 &  -6.661e-16 & 4.742e-02  \\\\\n"
     ]
    }
   ],
   "source": [
    "import sys  \n",
    "import numpy as np\n",
    "sys.path.insert(0, '../src')\n",
    "from Driver import advection_driver\n",
    "\n",
    "solver = advection_driver(a=np.sqrt(2), theta=np.pi/4, p=p, M=M, L=L,\n",
    "                        p_geo=p_geo, c=c, \n",
    "                        discretization_type=discretization_type,\n",
    "                        upwind_parameter=upwind_parameter,\n",
    "                        form=form)"
   ]
  },
  {
   "cell_type": "code",
   "execution_count": null,
   "id": "f4d51da5",
   "metadata": {
    "papermill": {
     "duration": 0.008455,
     "end_time": "2021-05-11T04:31:31.896596",
     "exception": false,
     "start_time": "2021-05-11T04:31:31.888141",
     "status": "completed"
    },
    "tags": []
   },
   "outputs": [],
   "source": []
  }
 ],
 "metadata": {
  "celltoolbar": "Tags",
  "kernelspec": {
   "display_name": "Python 3",
   "language": "python",
   "name": "python3"
  },
  "language_info": {
   "codemirror_mode": {
    "name": "ipython",
    "version": 3
   },
   "file_extension": ".py",
   "mimetype": "text/x-python",
   "name": "python",
   "nbconvert_exporter": "python",
   "pygments_lexer": "ipython3",
   "version": "3.8.5"
  },
  "papermill": {
   "default_parameters": {},
   "duration": 4882.753418,
   "end_time": "2021-05-11T04:31:32.515465",
   "environment_variables": {},
   "exception": null,
   "input_path": "advection_driver.ipynb",
   "output_path": "advection_p2b0c0t1_weak.ipynb",
   "parameters": {
    "c": "c_dg",
    "discretization_type": 1,
    "form": "weak",
    "p": 2,
    "p_geo": 1,
    "upwind_parameter": 0.0
   },
   "start_time": "2021-05-11T03:10:09.762047",
   "version": "2.3.3"
  }
 },
 "nbformat": 4,
 "nbformat_minor": 5
}