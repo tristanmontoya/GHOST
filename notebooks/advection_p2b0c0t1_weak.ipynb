{
 "cells": [
  {
   "cell_type": "markdown",
   "id": "47bb6690",
   "metadata": {
    "papermill": {
     "duration": 0.005669,
     "end_time": "2021-10-27T12:36:40.168938",
     "exception": false,
     "start_time": "2021-10-27T12:36:40.163269",
     "status": "completed"
    },
    "tags": []
   },
   "source": [
    "# GHOST driver - linear advection equation"
   ]
  },
  {
   "cell_type": "code",
   "execution_count": 1,
   "id": "5f166577",
   "metadata": {
    "execution": {
     "iopub.execute_input": "2021-10-27T12:36:40.182776Z",
     "iopub.status.busy": "2021-10-27T12:36:40.181964Z",
     "iopub.status.idle": "2021-10-27T12:36:40.184996Z",
     "shell.execute_reply": "2021-10-27T12:36:40.184258Z"
    },
    "papermill": {
     "duration": 0.011106,
     "end_time": "2021-10-27T12:36:40.185185",
     "exception": false,
     "start_time": "2021-10-27T12:36:40.174079",
     "status": "completed"
    },
    "tags": [
     "parameters"
    ]
   },
   "outputs": [],
   "source": [
    "p=2\n",
    "M=8\n",
    "L=1\n",
    "p_map=1\n",
    "c=\"c_+\"\n",
    "discretization_type=1\n",
    "upwind_parameter=0.0\n",
    "form=\"weak\""
   ]
  },
  {
   "cell_type": "code",
   "execution_count": 2,
   "id": "1882517d",
   "metadata": {
    "execution": {
     "iopub.execute_input": "2021-10-27T12:36:40.198680Z",
     "iopub.status.busy": "2021-10-27T12:36:40.197896Z",
     "iopub.status.idle": "2021-10-27T12:36:40.199743Z",
     "shell.execute_reply": "2021-10-27T12:36:40.200380Z"
    },
    "papermill": {
     "duration": 0.01028,
     "end_time": "2021-10-27T12:36:40.200573",
     "exception": false,
     "start_time": "2021-10-27T12:36:40.190293",
     "status": "completed"
    },
    "tags": [
     "injected-parameters"
    ]
   },
   "outputs": [],
   "source": [
    "# Parameters\n",
    "p = 2\n",
    "p_map = 1\n",
    "upwind_parameter = 0.0\n",
    "c = \"c_dg\"\n",
    "discretization_type = 1\n",
    "form = \"weak\"\n"
   ]
  },
  {
   "cell_type": "code",
   "execution_count": 3,
   "id": "9d506147",
   "metadata": {
    "execution": {
     "iopub.execute_input": "2021-10-27T12:36:40.212997Z",
     "iopub.status.busy": "2021-10-27T12:36:40.212546Z",
     "iopub.status.idle": "2021-10-27T13:01:36.441668Z",
     "shell.execute_reply": "2021-10-27T13:01:36.440924Z"
    },
    "papermill": {
     "duration": 1496.236854,
     "end_time": "2021-10-27T13:01:36.441874",
     "exception": false,
     "start_time": "2021-10-27T12:36:40.205020",
     "status": "completed"
    },
    "tags": []
   },
   "outputs": [
    {
     "name": "stderr",
     "output_type": "stream",
     "text": [
      "Matplotlib created a temporary config/cache directory at /tmp/matplotlib-x3up2hne because the default path (/home/z/zingg/tmontoya/.config/matplotlib) is not a writable directory; it is highly recommended to set the MPLCONFIGDIR environment variable to a writable directory, in particular to speed up the import of Matplotlib and to better support multiprocessing.\n"
     ]
    },
    {
     "name": "stdout",
     "output_type": "stream",
     "text": [
      "advection_p2b0c0t1_weak\n"
     ]
    }
   ],
   "source": [
    "import sys  \n",
    "import numpy as np\n",
    "sys.path.insert(0, '../src')\n",
    "from Driver import advection_driver\n",
    "\n",
    "solver = advection_driver(a=np.sqrt(2), theta=np.pi/4, p=p, M=M, L=L,\n",
    "                        p_map=p_map, c=c, \n",
    "                        discretization_type=discretization_type,\n",
    "                        upwind_parameter=upwind_parameter,\n",
    "                        new_mesh=False,form=form,restart=True,run=True)"
   ]
  }
 ],
 "metadata": {
  "celltoolbar": "Tags",
  "interpreter": {
   "hash": "8a4c5cff9d1eb01f6f91880bd866b35b24d8468d7e92aa7ef6f6962744ecb1db"
  },
  "kernelspec": {
   "display_name": "Python 3.9.5 64-bit ('base': conda)",
   "name": "python3"
  },
  "language_info": {
   "codemirror_mode": {
    "name": "ipython",
    "version": 3
   },
   "file_extension": ".py",
   "mimetype": "text/x-python",
   "name": "python",
   "nbconvert_exporter": "python",
   "pygments_lexer": "ipython3",
   "version": "3.8.5"
  },
  "papermill": {
   "default_parameters": {},
   "duration": 1500.215223,
   "end_time": "2021-10-27T13:01:36.854658",
   "environment_variables": {},
   "exception": null,
   "input_path": "advection_driver.ipynb",
   "output_path": "advection_p2b0c0t1_weak.ipynb",
   "parameters": {
    "c": "c_dg",
    "discretization_type": 1,
    "form": "weak",
    "p": 2,
    "p_map": 1,
    "upwind_parameter": 0.0
   },
   "start_time": "2021-10-27T12:36:36.639435",
   "version": "2.3.3"
  }
 },
 "nbformat": 4,
 "nbformat_minor": 5
}