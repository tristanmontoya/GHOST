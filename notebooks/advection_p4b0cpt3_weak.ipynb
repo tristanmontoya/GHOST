{
 "cells": [
  {
   "cell_type": "markdown",
   "id": "8dc16800",
   "metadata": {
    "papermill": {
     "duration": 0.005836,
     "end_time": "2021-10-27T13:33:10.524063",
     "exception": false,
     "start_time": "2021-10-27T13:33:10.518227",
     "status": "completed"
    },
    "tags": []
   },
   "source": [
    "# GHOST driver - linear advection equation"
   ]
  },
  {
   "cell_type": "code",
   "execution_count": 1,
   "id": "84c86fa3",
   "metadata": {
    "execution": {
     "iopub.execute_input": "2021-10-27T13:33:10.540170Z",
     "iopub.status.busy": "2021-10-27T13:33:10.539415Z",
     "iopub.status.idle": "2021-10-27T13:33:10.542038Z",
     "shell.execute_reply": "2021-10-27T13:33:10.541337Z"
    },
    "papermill": {
     "duration": 0.012923,
     "end_time": "2021-10-27T13:33:10.542218",
     "exception": false,
     "start_time": "2021-10-27T13:33:10.529295",
     "status": "completed"
    },
    "tags": [
     "parameters"
    ]
   },
   "outputs": [],
   "source": [
    "p=2\n",
    "M=8\n",
    "L=1\n",
    "p_map=1\n",
    "c=\"c_+\"\n",
    "discretization_type=1\n",
    "upwind_parameter=0.0\n",
    "form=\"weak\""
   ]
  },
  {
   "cell_type": "code",
   "execution_count": 2,
   "id": "41e7c5ec",
   "metadata": {
    "execution": {
     "iopub.execute_input": "2021-10-27T13:33:10.552765Z",
     "iopub.status.busy": "2021-10-27T13:33:10.552019Z",
     "iopub.status.idle": "2021-10-27T13:33:10.554013Z",
     "shell.execute_reply": "2021-10-27T13:33:10.553515Z"
    },
    "papermill": {
     "duration": 0.008806,
     "end_time": "2021-10-27T13:33:10.554113",
     "exception": false,
     "start_time": "2021-10-27T13:33:10.545307",
     "status": "completed"
    },
    "tags": [
     "injected-parameters"
    ]
   },
   "outputs": [],
   "source": [
    "# Parameters\n",
    "p = 4\n",
    "p_map = 1\n",
    "upwind_parameter = 0.0\n",
    "c = \"c_+\"\n",
    "discretization_type = 3\n",
    "form = \"weak\"\n"
   ]
  },
  {
   "cell_type": "code",
   "execution_count": 3,
   "id": "3e790da5",
   "metadata": {
    "execution": {
     "iopub.execute_input": "2021-10-27T13:33:10.563812Z",
     "iopub.status.busy": "2021-10-27T13:33:10.563326Z",
     "iopub.status.idle": "2021-10-27T14:24:20.356821Z",
     "shell.execute_reply": "2021-10-27T14:24:20.356300Z"
    },
    "papermill": {
     "duration": 3069.800034,
     "end_time": "2021-10-27T14:24:20.356932",
     "exception": false,
     "start_time": "2021-10-27T13:33:10.556898",
     "status": "completed"
    },
    "tags": []
   },
   "outputs": [
    {
     "name": "stderr",
     "output_type": "stream",
     "text": [
      "Matplotlib created a temporary config/cache directory at /tmp/matplotlib-_9ackak4 because the default path (/home/z/zingg/tmontoya/.config/matplotlib) is not a writable directory; it is highly recommended to set the MPLCONFIGDIR environment variable to a writable directory, in particular to speed up the import of Matplotlib and to better support multiprocessing.\n"
     ]
    },
    {
     "name": "stdout",
     "output_type": "stream",
     "text": [
      "advection_p4b0cpt3_weak\n"
     ]
    }
   ],
   "source": [
    "import sys  \n",
    "import numpy as np\n",
    "sys.path.insert(0, '../src')\n",
    "from Driver import advection_driver\n",
    "\n",
    "solver = advection_driver(a=np.sqrt(2), theta=np.pi/4, p=p, M=M, L=L,\n",
    "                        p_map=p_map, c=c, \n",
    "                        discretization_type=discretization_type,\n",
    "                        upwind_parameter=upwind_parameter,\n",
    "                        new_mesh=False,form=form,restart=True,run=True)"
   ]
  }
 ],
 "metadata": {
  "celltoolbar": "Tags",
  "interpreter": {
   "hash": "8a4c5cff9d1eb01f6f91880bd866b35b24d8468d7e92aa7ef6f6962744ecb1db"
  },
  "kernelspec": {
   "display_name": "Python 3.9.5 64-bit ('base': conda)",
   "name": "python3"
  },
  "language_info": {
   "codemirror_mode": {
    "name": "ipython",
    "version": 3
   },
   "file_extension": ".py",
   "mimetype": "text/x-python",
   "name": "python",
   "nbconvert_exporter": "python",
   "pygments_lexer": "ipython3",
   "version": "3.8.5"
  },
  "papermill": {
   "default_parameters": {},
   "duration": 3074.278,
   "end_time": "2021-10-27T14:24:20.767278",
   "environment_variables": {},
   "exception": null,
   "input_path": "advection_driver.ipynb",
   "output_path": "advection_p4b0cpt3_weak.ipynb",
   "parameters": {
    "c": "c_+",
    "discretization_type": 3,
    "form": "weak",
    "p": 4,
    "p_map": 1,
    "upwind_parameter": 0.0
   },
   "start_time": "2021-10-27T13:33:06.489278",
   "version": "2.3.3"
  }
 },
 "nbformat": 4,
 "nbformat_minor": 5
}