{
 "cells": [
  {
   "cell_type": "code",
   "execution_count": 1,
   "id": "0ba870fd",
   "metadata": {
    "execution": {
     "iopub.execute_input": "2021-05-08T19:26:04.961156Z",
     "iopub.status.busy": "2021-05-08T19:26:04.960330Z",
     "iopub.status.idle": "2021-05-08T19:26:04.964052Z",
     "shell.execute_reply": "2021-05-08T19:26:04.963287Z"
    },
    "papermill": {
     "duration": 0.021789,
     "end_time": "2021-05-08T19:26:04.964238",
     "exception": false,
     "start_time": "2021-05-08T19:26:04.942449",
     "status": "completed"
    },
    "tags": [
     "parameters"
    ]
   },
   "outputs": [],
   "source": [
    "mach_number=0.4\n",
    "p=2\n",
    "M=11\n",
    "L=10.0\n",
    "p_geo=2\n",
    "c=\"c_dg\"\n",
    "discretization_type=1\n",
    "form=\"strong\""
   ]
  },
  {
   "cell_type": "code",
   "execution_count": 2,
   "id": "8df7fcf7",
   "metadata": {
    "execution": {
     "iopub.execute_input": "2021-05-08T19:26:04.994340Z",
     "iopub.status.busy": "2021-05-08T19:26:04.993688Z",
     "iopub.status.idle": "2021-05-08T19:26:04.996796Z",
     "shell.execute_reply": "2021-05-08T19:26:04.997271Z"
    },
    "papermill": {
     "duration": 0.028136,
     "end_time": "2021-05-08T19:26:04.997444",
     "exception": false,
     "start_time": "2021-05-08T19:26:04.969308",
     "status": "completed"
    },
    "tags": [
     "injected-parameters"
    ]
   },
   "outputs": [],
   "source": [
    "# Parameters\n",
    "mach_number = 0.4\n",
    "p = 4\n",
    "p_geo = 4\n",
    "c = \"c_+\"\n",
    "discretization_type = 1\n",
    "form = \"strong\"\n"
   ]
  },
  {
   "cell_type": "code",
   "execution_count": 3,
   "id": "5d513344",
   "metadata": {
    "execution": {
     "iopub.execute_input": "2021-05-08T19:26:05.108724Z",
     "iopub.status.busy": "2021-05-08T19:26:05.107928Z",
     "iopub.status.idle": "2021-05-10T08:01:05.942249Z",
     "shell.execute_reply": "2021-05-10T08:01:05.944310Z"
    },
    "papermill": {
     "duration": 131700.942563,
     "end_time": "2021-05-10T08:01:05.944635",
     "exception": false,
     "start_time": "2021-05-08T19:26:05.002072",
     "status": "completed"
    },
    "tags": []
   },
   "outputs": [
    {
     "name": "stderr",
     "output_type": "stream",
     "text": [
      "WARNING:root:msh4 requires 3D points, but 2D points given. Appending 0 third component.\n"
     ]
    },
    {
     "name": "stderr",
     "output_type": "stream",
     "text": [
      "WARNING:root:Binary Gmsh needs c_size_t (got int64). Converting.\n"
     ]
    },
    {
     "name": "stdout",
     "output_type": "stream",
     "text": [
      "running solver euler_m04p4cpt1_strong\n"
     ]
    },
    {
     "name": "stdout",
     "output_type": "stream",
     "text": [
      "2.984e-13 &  8.537e-03  \\\\\n",
      "-8.171e-14 &  2.107e-02  \\\\\n",
      "8.349e-13 &  1.871e-02  \\\\\n",
      "8.811e-13 &  1.955e-02  \\\\\n"
     ]
    }
   ],
   "source": [
    "import sys  \n",
    "sys.path.insert(0, '../src')\n",
    "from Driver import euler_driver\n",
    "\n",
    "solver = euler_driver(mach_number=mach_number, \n",
    "                        p=p, M=M, L=L,\n",
    "                        p_geo=p_geo, c=c, \n",
    "                        discretization_type=discretization_type,\n",
    "                        form=form)"
   ]
  },
  {
   "cell_type": "code",
   "execution_count": null,
   "id": "31cb9aa0",
   "metadata": {
    "papermill": {
     "duration": 0.00858,
     "end_time": "2021-05-10T08:01:05.962225",
     "exception": false,
     "start_time": "2021-05-10T08:01:05.953645",
     "status": "completed"
    },
    "tags": []
   },
   "outputs": [],
   "source": []
  }
 ],
 "metadata": {
  "celltoolbar": "Tags",
  "kernelspec": {
   "display_name": "Python 3",
   "language": "python",
   "name": "python3"
  },
  "language_info": {
   "codemirror_mode": {
    "name": "ipython",
    "version": 3
   },
   "file_extension": ".py",
   "mimetype": "text/x-python",
   "name": "python",
   "nbconvert_exporter": "python",
   "pygments_lexer": "ipython3",
   "version": "3.8.5"
  },
  "papermill": {
   "default_parameters": {},
   "duration": 131704.770171,
   "end_time": "2021-05-10T08:01:08.209502",
   "environment_variables": {},
   "exception": null,
   "input_path": "euler_driver.ipynb",
   "output_path": "euler_m04p4cpt1_strong.ipynb",
   "parameters": {
    "c": "c_+",
    "discretization_type": 1,
    "form": "strong",
    "mach_number": 0.4,
    "p": 4,
    "p_geo": 4
   },
   "start_time": "2021-05-08T19:26:03.439331",
   "version": "2.3.3"
  }
 },
 "nbformat": 4,
 "nbformat_minor": 5
}