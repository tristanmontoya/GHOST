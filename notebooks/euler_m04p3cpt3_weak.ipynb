{
 "cells": [
  {
   "cell_type": "code",
   "execution_count": 1,
   "id": "2739314c",
   "metadata": {
    "execution": {
     "iopub.execute_input": "2021-05-18T18:50:49.137619Z",
     "iopub.status.busy": "2021-05-18T18:50:49.136744Z",
     "iopub.status.idle": "2021-05-18T18:50:49.138789Z",
     "shell.execute_reply": "2021-05-18T18:50:49.139498Z"
    },
    "papermill": {
     "duration": 0.02156,
     "end_time": "2021-05-18T18:50:49.139875",
     "exception": false,
     "start_time": "2021-05-18T18:50:49.118315",
     "status": "completed"
    },
    "tags": [
     "parameters"
    ]
   },
   "outputs": [],
   "source": [
    "mach_number=0.4\n",
    "p=2\n",
    "M=16\n",
    "L=10.0\n",
    "p_geo=2\n",
    "c=\"c_dg\"\n",
    "discretization_type=1\n",
    "form=\"strong\""
   ]
  },
  {
   "cell_type": "code",
   "execution_count": 2,
   "id": "f11952dc",
   "metadata": {
    "execution": {
     "iopub.execute_input": "2021-05-18T18:50:49.158296Z",
     "iopub.status.busy": "2021-05-18T18:50:49.157373Z",
     "iopub.status.idle": "2021-05-18T18:50:49.160293Z",
     "shell.execute_reply": "2021-05-18T18:50:49.159473Z"
    },
    "papermill": {
     "duration": 0.014603,
     "end_time": "2021-05-18T18:50:49.160479",
     "exception": false,
     "start_time": "2021-05-18T18:50:49.145876",
     "status": "completed"
    },
    "tags": [
     "injected-parameters"
    ]
   },
   "outputs": [],
   "source": [
    "# Parameters\n",
    "mach_number = 0.4\n",
    "p = 3\n",
    "p_geo = 3\n",
    "c = \"c_+\"\n",
    "discretization_type = 3\n",
    "form = \"weak\"\n"
   ]
  },
  {
   "cell_type": "code",
   "execution_count": null,
   "id": "9e3cad6d",
   "metadata": {
    "papermill": {
     "duration": null,
     "end_time": null,
     "exception": false,
     "start_time": "2021-05-18T18:50:49.167273",
     "status": "running"
    },
    "tags": []
   },
   "outputs": [],
   "source": [
    "import sys  \n",
    "import numpy as np\n",
    "sys.path.insert(0, '../src')\n",
    "from Driver import euler_driver\n",
    "\n",
    "solver = euler_driver(mach_number=mach_number, \n",
    "                      theta=np.pi/4,\n",
    "                        p=p, M=M, L=L,\n",
    "                        p_geo=p_geo, c=c, \n",
    "                        discretization_type=discretization_type,\n",
    "                        form=form)"
   ]
  },
  {
   "cell_type": "code",
   "execution_count": null,
   "id": "6cde8df5",
   "metadata": {
    "papermill": {
     "duration": null,
     "end_time": null,
     "exception": null,
     "start_time": null,
     "status": "pending"
    },
    "tags": []
   },
   "outputs": [],
   "source": []
  }
 ],
 "metadata": {
  "celltoolbar": "Tags",
  "kernelspec": {
   "display_name": "Python 3",
   "language": "python",
   "name": "python3"
  },
  "language_info": {
   "codemirror_mode": {
    "name": "ipython",
    "version": 3
   },
   "file_extension": ".py",
   "mimetype": "text/x-python",
   "name": "python",
   "nbconvert_exporter": "python",
   "pygments_lexer": "ipython3",
   "version": "3.7.9"
  },
  "papermill": {
   "default_parameters": {},
   "duration": null,
   "end_time": null,
   "environment_variables": {},
   "exception": null,
   "input_path": "euler_driver.ipynb",
   "output_path": "euler_m04p3cpt3_weak.ipynb",
   "parameters": {
    "c": "c_+",
    "discretization_type": 3,
    "form": "weak",
    "mach_number": 0.4,
    "p": 3,
    "p_geo": 3
   },
   "start_time": "2021-05-18T18:50:47.434723",
   "version": "2.3.3"
  }
 },
 "nbformat": 4,
 "nbformat_minor": 5
}