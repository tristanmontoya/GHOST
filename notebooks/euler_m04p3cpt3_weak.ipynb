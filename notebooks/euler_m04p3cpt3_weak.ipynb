{
 "cells": [
  {
   "cell_type": "code",
   "execution_count": 1,
   "id": "4c2c4fac",
   "metadata": {
    "execution": {
     "iopub.execute_input": "2021-05-08T19:25:59.082760Z",
     "iopub.status.busy": "2021-05-08T19:25:59.082125Z",
     "iopub.status.idle": "2021-05-08T19:25:59.084987Z",
     "shell.execute_reply": "2021-05-08T19:25:59.084302Z"
    },
    "papermill": {
     "duration": 0.018772,
     "end_time": "2021-05-08T19:25:59.085138",
     "exception": false,
     "start_time": "2021-05-08T19:25:59.066366",
     "status": "completed"
    },
    "tags": [
     "parameters"
    ]
   },
   "outputs": [],
   "source": [
    "mach_number=0.4\n",
    "p=2\n",
    "M=11\n",
    "L=10.0\n",
    "p_geo=2\n",
    "c=\"c_dg\"\n",
    "discretization_type=1\n",
    "form=\"strong\""
   ]
  },
  {
   "cell_type": "code",
   "execution_count": 2,
   "id": "ce802791",
   "metadata": {
    "execution": {
     "iopub.execute_input": "2021-05-08T19:25:59.347890Z",
     "iopub.status.busy": "2021-05-08T19:25:59.346735Z",
     "iopub.status.idle": "2021-05-08T19:25:59.348470Z",
     "shell.execute_reply": "2021-05-08T19:25:59.347298Z"
    },
    "papermill": {
     "duration": 0.090741,
     "end_time": "2021-05-08T19:25:59.348606",
     "exception": false,
     "start_time": "2021-05-08T19:25:59.257865",
     "status": "completed"
    },
    "tags": [
     "injected-parameters"
    ]
   },
   "outputs": [],
   "source": [
    "# Parameters\n",
    "mach_number = 0.4\n",
    "p = 3\n",
    "p_geo = 3\n",
    "c = \"c_+\"\n",
    "discretization_type = 3\n",
    "form = \"weak\"\n"
   ]
  },
  {
   "cell_type": "code",
   "execution_count": 3,
   "id": "f53d710f",
   "metadata": {
    "execution": {
     "iopub.execute_input": "2021-05-08T19:25:59.362901Z",
     "iopub.status.busy": "2021-05-08T19:25:59.362306Z",
     "iopub.status.idle": "2021-05-09T18:48:51.383639Z",
     "shell.execute_reply": "2021-05-09T18:48:51.382952Z"
    },
    "papermill": {
     "duration": 84172.030629,
     "end_time": "2021-05-09T18:48:51.383843",
     "exception": false,
     "start_time": "2021-05-08T19:25:59.353214",
     "status": "completed"
    },
    "tags": []
   },
   "outputs": [
    {
     "name": "stderr",
     "output_type": "stream",
     "text": [
      "WARNING:root:msh4 requires 3D points, but 2D points given. Appending 0 third component.\n"
     ]
    },
    {
     "name": "stderr",
     "output_type": "stream",
     "text": [
      "WARNING:root:Binary Gmsh needs c_size_t (got int64). Converting.\n"
     ]
    },
    {
     "name": "stdout",
     "output_type": "stream",
     "text": [
      "running solver euler_m04p3cpt3_weak\n"
     ]
    },
    {
     "name": "stdout",
     "output_type": "stream",
     "text": [
      "2.842e-14 &  2.512e-02  \\\\\n",
      "-1.389e-12 &  7.987e-02  \\\\\n",
      "1.485e-12 &  6.120e-02  \\\\\n",
      "4.832e-13 &  7.372e-02  \\\\\n"
     ]
    }
   ],
   "source": [
    "import sys  \n",
    "sys.path.insert(0, '../src')\n",
    "from Driver import euler_driver\n",
    "\n",
    "solver = euler_driver(mach_number=mach_number, \n",
    "                        p=p, M=M, L=L,\n",
    "                        p_geo=p_geo, c=c, \n",
    "                        discretization_type=discretization_type,\n",
    "                        form=form)"
   ]
  },
  {
   "cell_type": "code",
   "execution_count": null,
   "id": "6325aa4f",
   "metadata": {
    "papermill": {
     "duration": 0.006768,
     "end_time": "2021-05-09T18:48:51.399168",
     "exception": false,
     "start_time": "2021-05-09T18:48:51.392400",
     "status": "completed"
    },
    "tags": []
   },
   "outputs": [],
   "source": []
  }
 ],
 "metadata": {
  "celltoolbar": "Tags",
  "kernelspec": {
   "display_name": "Python 3",
   "language": "python",
   "name": "python3"
  },
  "language_info": {
   "codemirror_mode": {
    "name": "ipython",
    "version": 3
   },
   "file_extension": ".py",
   "mimetype": "text/x-python",
   "name": "python",
   "nbconvert_exporter": "python",
   "pygments_lexer": "ipython3",
   "version": "3.8.5"
  },
  "papermill": {
   "default_parameters": {},
   "duration": 84175.428157,
   "end_time": "2021-05-09T18:48:53.413227",
   "environment_variables": {},
   "exception": null,
   "input_path": "euler_driver.ipynb",
   "output_path": "euler_m04p3cpt3_weak.ipynb",
   "parameters": {
    "c": "c_+",
    "discretization_type": 3,
    "form": "weak",
    "mach_number": 0.4,
    "p": 3,
    "p_geo": 3
   },
   "start_time": "2021-05-08T19:25:57.985070",
   "version": "2.3.3"
  }
 },
 "nbformat": 4,
 "nbformat_minor": 5
}