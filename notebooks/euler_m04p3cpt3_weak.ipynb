{
 "cells": [
  {
   "cell_type": "code",
   "execution_count": 1,
   "id": "40aa68c1",
   "metadata": {
    "execution": {
     "iopub.execute_input": "2021-05-13T13:01:26.935623Z",
     "iopub.status.busy": "2021-05-13T13:01:26.934909Z",
     "iopub.status.idle": "2021-05-13T13:01:26.945435Z",
     "shell.execute_reply": "2021-05-13T13:01:26.944789Z"
    },
    "papermill": {
     "duration": 0.036249,
     "end_time": "2021-05-13T13:01:26.945599",
     "exception": false,
     "start_time": "2021-05-13T13:01:26.909350",
     "status": "completed"
    },
    "tags": [
     "parameters"
    ]
   },
   "outputs": [],
   "source": [
    "mach_number=0.4\n",
    "p=2\n",
    "M=10\n",
    "L=10.0\n",
    "p_geo=2\n",
    "c=\"c_dg\"\n",
    "discretization_type=1\n",
    "form=\"strong\""
   ]
  },
  {
   "cell_type": "code",
   "execution_count": 2,
   "id": "0c67be55",
   "metadata": {
    "execution": {
     "iopub.execute_input": "2021-05-13T13:01:26.960316Z",
     "iopub.status.busy": "2021-05-13T13:01:26.959711Z",
     "iopub.status.idle": "2021-05-13T13:01:26.962663Z",
     "shell.execute_reply": "2021-05-13T13:01:26.962167Z"
    },
    "papermill": {
     "duration": 0.012043,
     "end_time": "2021-05-13T13:01:26.962802",
     "exception": false,
     "start_time": "2021-05-13T13:01:26.950759",
     "status": "completed"
    },
    "tags": [
     "injected-parameters"
    ]
   },
   "outputs": [],
   "source": [
    "# Parameters\n",
    "mach_number = 0.4\n",
    "p = 3\n",
    "p_geo = 3\n",
    "c = \"c_+\"\n",
    "discretization_type = 3\n",
    "form = \"weak\"\n"
   ]
  },
  {
   "cell_type": "code",
   "execution_count": 3,
   "id": "701371a3",
   "metadata": {
    "execution": {
     "iopub.execute_input": "2021-05-13T13:01:26.993012Z",
     "iopub.status.busy": "2021-05-13T13:01:26.992323Z",
     "iopub.status.idle": "2021-05-14T08:47:29.941704Z",
     "shell.execute_reply": "2021-05-14T08:47:29.942231Z"
    },
    "papermill": {
     "duration": 71162.974955,
     "end_time": "2021-05-14T08:47:29.942445",
     "exception": false,
     "start_time": "2021-05-13T13:01:26.967490",
     "status": "completed"
    },
    "tags": []
   },
   "outputs": [
    {
     "name": "stdout",
     "output_type": "stream",
     "text": [
      "euler_m04p3cpt3_weak\n"
     ]
    },
    {
     "name": "stdout",
     "output_type": "stream",
     "text": [
      "1.705e-13 &  3.430e-02  \\\\\n",
      "-1.265e-12 &  1.127e-01  \\\\\n",
      "1.332e-12 &  8.718e-02  \\\\\n",
      "5.684e-14 &  1.004e-01  \\\\\n"
     ]
    }
   ],
   "source": [
    "import sys  \n",
    "import numpy as np\n",
    "sys.path.insert(0, '../src')\n",
    "from Driver import euler_driver\n",
    "\n",
    "solver = euler_driver(mach_number=mach_number, \n",
    "                      theta=np.pi/4,\n",
    "                        p=p, M=M, L=L,\n",
    "                        p_geo=p_geo, c=c, \n",
    "                        discretization_type=discretization_type,\n",
    "                        form=form)"
   ]
  },
  {
   "cell_type": "code",
   "execution_count": null,
   "id": "e1f23bd9",
   "metadata": {
    "papermill": {
     "duration": 0.00503,
     "end_time": "2021-05-14T08:47:29.952777",
     "exception": false,
     "start_time": "2021-05-14T08:47:29.947747",
     "status": "completed"
    },
    "tags": []
   },
   "outputs": [],
   "source": []
  }
 ],
 "metadata": {
  "celltoolbar": "Tags",
  "kernelspec": {
   "display_name": "Python 3",
   "language": "python",
   "name": "python3"
  },
  "language_info": {
   "codemirror_mode": {
    "name": "ipython",
    "version": 3
   },
   "file_extension": ".py",
   "mimetype": "text/x-python",
   "name": "python",
   "nbconvert_exporter": "python",
   "pygments_lexer": "ipython3",
   "version": "3.8.5"
  },
  "papermill": {
   "default_parameters": {},
   "duration": 71164.688002,
   "end_time": "2021-05-14T08:47:30.466247",
   "environment_variables": {},
   "exception": null,
   "input_path": "euler_driver.ipynb",
   "output_path": "euler_m04p3cpt3_weak.ipynb",
   "parameters": {
    "c": "c_+",
    "discretization_type": 3,
    "form": "weak",
    "mach_number": 0.4,
    "p": 3,
    "p_geo": 3
   },
   "start_time": "2021-05-13T13:01:25.778245",
   "version": "2.3.3"
  }
 },
 "nbformat": 4,
 "nbformat_minor": 5
}