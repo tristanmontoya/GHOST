{
 "cells": [
  {
   "cell_type": "markdown",
   "id": "1a207ac0",
   "metadata": {
    "papermill": {
     "duration": 0.003218,
     "end_time": "2021-10-27T13:33:10.519962",
     "exception": false,
     "start_time": "2021-10-27T13:33:10.516744",
     "status": "completed"
    },
    "tags": []
   },
   "source": [
    "# GHOST driver - linear advection equation"
   ]
  },
  {
   "cell_type": "code",
   "execution_count": 1,
   "id": "d1607440",
   "metadata": {
    "execution": {
     "iopub.execute_input": "2021-10-27T13:33:10.530192Z",
     "iopub.status.busy": "2021-10-27T13:33:10.529703Z",
     "iopub.status.idle": "2021-10-27T13:33:10.531760Z",
     "shell.execute_reply": "2021-10-27T13:33:10.532142Z"
    },
    "papermill": {
     "duration": 0.009452,
     "end_time": "2021-10-27T13:33:10.532333",
     "exception": false,
     "start_time": "2021-10-27T13:33:10.522881",
     "status": "completed"
    },
    "tags": [
     "parameters"
    ]
   },
   "outputs": [],
   "source": [
    "p=2\n",
    "M=8\n",
    "L=1\n",
    "p_map=1\n",
    "c=\"c_+\"\n",
    "discretization_type=1\n",
    "upwind_parameter=0.0\n",
    "form=\"weak\""
   ]
  },
  {
   "cell_type": "code",
   "execution_count": 2,
   "id": "6f6e1c4a",
   "metadata": {
    "execution": {
     "iopub.execute_input": "2021-10-27T13:33:10.543148Z",
     "iopub.status.busy": "2021-10-27T13:33:10.542670Z",
     "iopub.status.idle": "2021-10-27T13:33:10.544876Z",
     "shell.execute_reply": "2021-10-27T13:33:10.545551Z"
    },
    "papermill": {
     "duration": 0.010493,
     "end_time": "2021-10-27T13:33:10.545760",
     "exception": false,
     "start_time": "2021-10-27T13:33:10.535267",
     "status": "completed"
    },
    "tags": [
     "injected-parameters"
    ]
   },
   "outputs": [],
   "source": [
    "# Parameters\n",
    "p = 4\n",
    "p_map = 1\n",
    "upwind_parameter = 0.0\n",
    "c = \"c_dg\"\n",
    "discretization_type = 3\n",
    "form = \"strong\"\n"
   ]
  },
  {
   "cell_type": "code",
   "execution_count": 3,
   "id": "a4c42940",
   "metadata": {
    "execution": {
     "iopub.execute_input": "2021-10-27T13:33:10.559696Z",
     "iopub.status.busy": "2021-10-27T13:33:10.559227Z",
     "iopub.status.idle": "2021-10-27T14:39:28.479597Z",
     "shell.execute_reply": "2021-10-27T14:39:28.479039Z"
    },
    "papermill": {
     "duration": 3977.929296,
     "end_time": "2021-10-27T14:39:28.479754",
     "exception": false,
     "start_time": "2021-10-27T13:33:10.550458",
     "status": "completed"
    },
    "tags": []
   },
   "outputs": [
    {
     "name": "stderr",
     "output_type": "stream",
     "text": [
      "Matplotlib created a temporary config/cache directory at /tmp/matplotlib-zm9_2kfu because the default path (/home/z/zingg/tmontoya/.config/matplotlib) is not a writable directory; it is highly recommended to set the MPLCONFIGDIR environment variable to a writable directory, in particular to speed up the import of Matplotlib and to better support multiprocessing.\n"
     ]
    },
    {
     "name": "stdout",
     "output_type": "stream",
     "text": [
      "advection_p4b0c0t3_strong\n"
     ]
    }
   ],
   "source": [
    "import sys  \n",
    "import numpy as np\n",
    "sys.path.insert(0, '../src')\n",
    "from Driver import advection_driver\n",
    "\n",
    "solver = advection_driver(a=np.sqrt(2), theta=np.pi/4, p=p, M=M, L=L,\n",
    "                        p_map=p_map, c=c, \n",
    "                        discretization_type=discretization_type,\n",
    "                        upwind_parameter=upwind_parameter,\n",
    "                        new_mesh=False,form=form,restart=True,run=True)"
   ]
  }
 ],
 "metadata": {
  "celltoolbar": "Tags",
  "interpreter": {
   "hash": "8a4c5cff9d1eb01f6f91880bd866b35b24d8468d7e92aa7ef6f6962744ecb1db"
  },
  "kernelspec": {
   "display_name": "Python 3.9.5 64-bit ('base': conda)",
   "name": "python3"
  },
  "language_info": {
   "codemirror_mode": {
    "name": "ipython",
    "version": 3
   },
   "file_extension": ".py",
   "mimetype": "text/x-python",
   "name": "python",
   "nbconvert_exporter": "python",
   "pygments_lexer": "ipython3",
   "version": "3.8.5"
  },
  "papermill": {
   "default_parameters": {},
   "duration": 3982.301237,
   "end_time": "2021-10-27T14:39:28.791021",
   "environment_variables": {},
   "exception": null,
   "input_path": "advection_driver.ipynb",
   "output_path": "advection_p4b0c0t3_strong.ipynb",
   "parameters": {
    "c": "c_dg",
    "discretization_type": 3,
    "form": "strong",
    "p": 4,
    "p_map": 1,
    "upwind_parameter": 0.0
   },
   "start_time": "2021-10-27T13:33:06.489784",
   "version": "2.3.3"
  }
 },
 "nbformat": 4,
 "nbformat_minor": 5
}