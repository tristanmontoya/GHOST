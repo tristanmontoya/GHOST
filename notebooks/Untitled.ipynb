{
 "cells": [
  {
   "cell_type": "code",
   "execution_count": 3,
   "metadata": {},
   "outputs": [
    {
     "data": {
      "image/png": "[encoded data removed]",
      "text/plain": [
       "<Figure size 432x288 with 1 Axes>"
      ]
     },
     "metadata": {
      "needs_background": "light"
     },
     "output_type": "display_data"
    }
   ],
   "source": [
    "# GHOST - Advection Test (2D)\n",
    "\n",
    "import sys  \n",
    "import numpy as np\n",
    "import modepy as mp\n",
    "sys.path.insert(0, '../src')\n",
    "from Mesh import Mesh2D\n",
    "from Discretization import SpatialDiscretization\n",
    "from Solver import Solver\n",
    "\n",
    "# discretization degree\n",
    "p = 3\n",
    "\n",
    "# geometry mapping degree\n",
    "p_geo = 3\n",
    "\n",
    "# read in mesh in GMSH format\n",
    "mesh = Mesh2D(\"test\", \"../mesh/square_mesh_L1_x_6y_6.msh\")\n",
    "\n",
    "# set up periodic boundary conditions\n",
    "left = np.array([1.0,0.0,0.0]) \n",
    "right = np.array([1.0,0.0,1.0])\n",
    "bottom = np.array([0.0,1.0,0.0])\n",
    "top = np.array([0.0,1.0,1.0])\n",
    "mesh.add_bc_on_hyperplanes([left,right,bottom,top],[1,2,3,4])\n",
    "mesh.make_periodic((1,2),[1]) # left-right periodic (bcs parallel to axis 1)\n",
    "mesh.make_periodic((3,4),[0]) # top-bottom periodic (axis 0)\n",
    "\n",
    "#curvilinear transformation used in Del Rey Fernandez et al. (2017)\n",
    "#mesh.map_mesh(f_map=Mesh2D.grid_transformation(warp_factor=0.2), p_geo=p_geo)\n",
    "\n",
    "# volume and facet quadrature degrees\n",
    "tau = 2*p\n",
    "mu = 2*p+1\n",
    "\n",
    "theta = np.pi/4\n",
    "a = np.sqrt(2)\n",
    "\n",
    "# solver parameters\n",
    "params = {\"project_title\": \"advection_p3b0c0t1\",\n",
    "         \"problem\": \"constant_advection\",\n",
    "         \"initial_condition\": \"sine\",\n",
    "         \"wavelength\": np.ones(2),\n",
    "         \"wave_speed\": a*np.array([np.sin(theta),np.cos(theta)]),\n",
    "         \"upwind_parameter\": 0.0,\n",
    "         \"integration_type\": \"quadrature\",\n",
    "         \"solution_degree\": p,\n",
    "         \"volume_quadrature_degree\": tau,\n",
    "         \"facet_quadrature_degree\": mu,\n",
    "         \"solution_representation\": \"modal\",\n",
    "         \"form\": \"weak\",\n",
    "         \"correction\": \"c_dg\",\n",
    "         \"time_integrator\": \"rk44\",\n",
    "         \"final_time\": 1.0,\n",
    "         \"time_step_scale\": 0.0025}\n",
    "\n",
    "# set up solver\n",
    "weak = Solver(params,mesh)\n",
    "\n",
    "weak.discretization.plot(plot_nodes=False, plot_geometry_nodes=False, axes=False)"
   ]
  },
  {
   "cell_type": "markdown",
   "metadata": {},
   "source": [
    "params = {\"project_title\": \"advection_p3b0c0t1\",\n",
    "         \"problem\": \"constant_advection\",\n",
    "         \"initial_condition\": \"sine\",\n",
    "         \"wavelength\": np.ones(2),\n",
    "         \"wave_speed\": a*np.array([np.sin(theta),np.cos(theta)]),\n",
    "         \"upwind_parameter\": 0.0,\n",
    "         \"integration_type\": \"quadrature\",\n",
    "         \"solution_degree\": p,\n",
    "         \"volume_quadrature_degree\": tau,\n",
    "         \"facet_quadrature_degree\": mu,\n",
    "         \"solution_representation\": \"modal\",\n",
    "         \"form\": \"weak\",\n",
    "         \"correction\": \"c_dg\",\n",
    "         \"time_integrator\": \"rk44\",\n",
    "         \"final_time\": 1.0,\n",
    "         \"time_step_scale\": 0.0025}\n",
    "\n",
    "# set up solver\n",
    "weak = Solver(params,mesh)"
   ]
  },
  {
   "cell_type": "code",
   "execution_count": null,
   "metadata": {},
   "outputs": [],
   "source": []
  }
 ],
 "metadata": {
  "kernelspec": {
   "display_name": "Python 3",
   "language": "python",
   "name": "python3"
  },
  "language_info": {
   "codemirror_mode": {
    "name": "ipython",
    "version": 3
   },
   "file_extension": ".py",
   "mimetype": "text/x-python",
   "name": "python",
   "nbconvert_exporter": "python",
   "pygments_lexer": "ipython3",
   "version": "3.7.9"
  }
 },
 "nbformat": 4,
 "nbformat_minor": 4
}
