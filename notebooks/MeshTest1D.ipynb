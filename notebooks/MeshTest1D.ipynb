{
 "cells": [
  {
   "cell_type": "code",
   "execution_count": 1,
   "metadata": {
    "scrolled": false
   },
   "outputs": [],
   "source": [
    "import sys  \n",
    "import numpy as np\n",
    "import modepy as mp\n",
    "sys.path.insert(0, '../src')\n",
    "from Mesh import Mesh1D\n",
    "from Discretization import SpatialDiscretization\n",
    "\n",
    "\n",
    "# number of elements\n",
    "K = 10\n",
    "\n",
    "# degree of discretization\n",
    "p = [1,2]\n",
    "Nd = len(p)\n",
    "\n",
    "# map of element index to discretization\n",
    "element_to_discretization = [k % Nd for k in range(0,K)]\n",
    "\n",
    "# number of flux nodes (equal to p+1)\n",
    "N_Omega = [p[i] + 1 for i in range(0,Nd)]\n",
    "\n",
    "# one-dimensional mesh with K elements\n",
    "mesh = Mesh1D(\"mesh_1d_test\", 0.0, 1.0, K)\n",
    "\n",
    "# discretization components\n",
    "quadrature = [mp.LegendreGaussQuadrature(N_Omega[i]-1) for i in range(0,Nd)]\n",
    "flux_nodes = [quadrature[i].nodes.reshape(N_Omega[i],1) for i in range(0,Nd)]\n",
    "facet_nodes = [[np.array([[-1.0]]),np.array([[1.0]])] for i in range(0,Nd)]\n",
    "discretization = SpatialDiscretization(mesh, None, None, element_to_discretization, p, flux_nodes, facet_nodes)"
   ]
  },
  {
   "cell_type": "code",
   "execution_count": 2,
   "metadata": {},
   "outputs": [
    {
     "data": {
      "image/png": "[encoded data removed]",
      "text/plain": [
       "<Figure size 432x288 with 1 Axes>"
      ]
     },
     "metadata": {
      "needs_background": "light"
     },
     "output_type": "display_data"
    }
   ],
   "source": [
    "discretization.plot()"
   ]
  },
  {
   "cell_type": "code",
   "execution_count": 3,
   "metadata": {},
   "outputs": [
    {
     "data": {
      "text/plain": [
       "{(0, 0): 1, (9, 1): 2}"
      ]
     },
     "execution_count": 3,
     "metadata": {},
     "output_type": "execute_result"
    }
   ],
   "source": [
    "left = [1.0, 0.0]\n",
    "right = [1.0, 1.0]\n",
    "mesh.add_bc_on_hyperplanes([left,right],[1,2])\n",
    "mesh.local_to_bc_index"
   ]
  },
  {
   "cell_type": "code",
   "execution_count": 4,
   "metadata": {},
   "outputs": [],
   "source": [
    "mesh.make_periodic([1,2])"
   ]
  },
  {
   "cell_type": "code",
   "execution_count": 5,
   "metadata": {},
   "outputs": [
    {
     "data": {
      "text/plain": [
       "{(0, 0): (9, 1),\n",
       " (0, 1): (1, 0),\n",
       " (1, 0): (0, 1),\n",
       " (1, 1): (2, 0),\n",
       " (2, 0): (1, 1),\n",
       " (2, 1): (3, 0),\n",
       " (3, 0): (2, 1),\n",
       " (3, 1): (4, 0),\n",
       " (4, 0): (3, 1),\n",
       " (4, 1): (5, 0),\n",
       " (5, 0): (4, 1),\n",
       " (5, 1): (6, 0),\n",
       " (6, 0): (5, 1),\n",
       " (6, 1): (7, 0),\n",
       " (7, 0): (6, 1),\n",
       " (7, 1): (8, 0),\n",
       " (8, 0): (7, 1),\n",
       " (8, 1): (9, 0),\n",
       " (9, 0): (8, 1),\n",
       " (9, 1): (0, 0)}"
      ]
     },
     "execution_count": 5,
     "metadata": {},
     "output_type": "execute_result"
    }
   ],
   "source": [
    "mesh.local_to_local"
   ]
  }
 ],
 "metadata": {
  "kernelspec": {
   "display_name": "Python 3",
   "language": "python",
   "name": "python3"
  },
  "language_info": {
   "codemirror_mode": {
    "name": "ipython",
    "version": 3
   },
   "file_extension": ".py",
   "mimetype": "text/x-python",
   "name": "python",
   "nbconvert_exporter": "python",
   "pygments_lexer": "ipython3",
   "version": "3.7.9"
  }
 },
 "nbformat": 4,
 "nbformat_minor": 4
}
