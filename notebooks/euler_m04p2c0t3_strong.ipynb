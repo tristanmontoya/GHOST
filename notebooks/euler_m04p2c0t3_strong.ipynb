{
 "cells": [
  {
   "cell_type": "code",
   "execution_count": 1,
   "metadata": {
    "execution": {
     "iopub.execute_input": "2020-12-30T03:05:46.521975Z",
     "iopub.status.busy": "2020-12-30T03:05:46.521383Z",
     "iopub.status.idle": "2020-12-30T03:05:46.531001Z",
     "shell.execute_reply": "2020-12-30T03:05:46.531494Z"
    },
    "papermill": {
     "duration": 0.017677,
     "end_time": "2020-12-30T03:05:46.531802",
     "exception": false,
     "start_time": "2020-12-30T03:05:46.514125",
     "status": "completed"
    },
    "tags": [
     "parameters"
    ]
   },
   "outputs": [],
   "source": [
    "mach_number=0.4\n",
    "p=2\n",
    "M=11\n",
    "L=10.0\n",
    "p_geo=2\n",
    "c=\"c_dg\"\n",
    "discretization_type=1\n",
    "form=\"strong\""
   ]
  },
  {
   "cell_type": "code",
   "execution_count": 2,
   "metadata": {
    "execution": {
     "iopub.execute_input": "2020-12-30T03:05:46.543753Z",
     "iopub.status.busy": "2020-12-30T03:05:46.543153Z",
     "iopub.status.idle": "2020-12-30T03:05:46.546492Z",
     "shell.execute_reply": "2020-12-30T03:05:46.547035Z"
    },
    "papermill": {
     "duration": 0.011102,
     "end_time": "2020-12-30T03:05:46.547215",
     "exception": false,
     "start_time": "2020-12-30T03:05:46.536113",
     "status": "completed"
    },
    "tags": [
     "injected-parameters"
    ]
   },
   "outputs": [],
   "source": [
    "# Parameters\n",
    "mach_number = 0.4\n",
    "p = 2\n",
    "c = \"c_dg\"\n",
    "discretization_type = 3\n",
    "form = \"strong\"\n"
   ]
  },
  {
   "cell_type": "code",
   "execution_count": 3,
   "metadata": {
    "execution": {
     "iopub.execute_input": "2020-12-30T03:05:46.560587Z",
     "iopub.status.busy": "2020-12-30T03:05:46.559973Z",
     "iopub.status.idle": "2020-12-30T14:24:45.170399Z",
     "shell.execute_reply": "2020-12-30T14:24:45.170972Z"
    },
    "papermill": {
     "duration": 40738.619786,
     "end_time": "2020-12-30T14:24:45.171249",
     "exception": false,
     "start_time": "2020-12-30T03:05:46.551463",
     "status": "completed"
    },
    "tags": []
   },
   "outputs": [
    {
     "name": "stderr",
     "output_type": "stream",
     "text": [
      "WARNING:root:msh4 requires 3D points, but 2D points given. Appending 0 third component.\n"
     ]
    },
    {
     "name": "stderr",
     "output_type": "stream",
     "text": [
      "WARNING:root:Binary Gmsh needs c_size_t (got int64). Converting.\n"
     ]
    },
    {
     "name": "stdout",
     "output_type": "stream",
     "text": [
      "running solver euler_m04p2c0t3_strong\n"
     ]
    },
    {
     "name": "stdout",
     "output_type": "stream",
     "text": [
      "1.847e-13 &  6.107e-02  \\\\\n",
      "-3.872e-13 &  1.863e-01  \\\\\n",
      "7.780e-13 &  1.591e-01  \\\\\n",
      "2.274e-13 &  1.770e-01  \\\\\n"
     ]
    }
   ],
   "source": [
    "import sys  \n",
    "sys.path.insert(0, '../src')\n",
    "from Driver import euler_driver\n",
    "\n",
    "solver = euler_driver(mach_number=mach_number, \n",
    "                        p=p, M=M, L=L,\n",
    "                        p_geo=p_geo, c=c, \n",
    "                        discretization_type=discretization_type,\n",
    "                        form=form)"
   ]
  },
  {
   "cell_type": "code",
   "execution_count": null,
   "metadata": {
    "papermill": {
     "duration": 0.00526,
     "end_time": "2020-12-30T14:24:45.182195",
     "exception": false,
     "start_time": "2020-12-30T14:24:45.176935",
     "status": "completed"
    },
    "tags": []
   },
   "outputs": [],
   "source": []
  }
 ],
 "metadata": {
  "celltoolbar": "Tags",
  "kernelspec": {
   "display_name": "Python 3",
   "language": "python",
   "name": "python3"
  },
  "language_info": {
   "codemirror_mode": {
    "name": "ipython",
    "version": 3
   },
   "file_extension": ".py",
   "mimetype": "text/x-python",
   "name": "python",
   "nbconvert_exporter": "python",
   "pygments_lexer": "ipython3",
   "version": "3.8.5"
  },
  "papermill": {
   "default_parameters": {},
   "duration": 40740.45121,
   "end_time": "2020-12-30T14:24:45.899833",
   "environment_variables": {},
   "exception": null,
   "input_path": "euler_driver.ipynb",
   "output_path": "euler_m04p2c0t3_strong.ipynb",
   "parameters": {
    "c": "c_dg",
    "discretization_type": 3,
    "form": "strong",
    "mach_number": 0.4,
    "p": 2
   },
   "start_time": "2020-12-30T03:05:45.448623",
   "version": "2.2.2"
  }
 },
 "nbformat": 4,
 "nbformat_minor": 2
}