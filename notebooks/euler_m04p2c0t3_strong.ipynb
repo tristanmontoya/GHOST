{
 "cells": [
  {
   "cell_type": "markdown",
   "id": "ea30c3a1",
   "metadata": {
    "papermill": {
     "duration": 0.003421,
     "end_time": "2021-11-05T23:46:17.397672",
     "exception": false,
     "start_time": "2021-11-05T23:46:17.394251",
     "status": "completed"
    },
    "tags": []
   },
   "source": [
    "# GHOST driver - Euler equations"
   ]
  },
  {
   "cell_type": "code",
   "execution_count": 1,
   "id": "039fc4d3",
   "metadata": {
    "execution": {
     "iopub.execute_input": "2021-11-05T23:46:17.408257Z",
     "iopub.status.busy": "2021-11-05T23:46:17.407764Z",
     "iopub.status.idle": "2021-11-05T23:46:17.410176Z",
     "shell.execute_reply": "2021-11-05T23:46:17.409696Z"
    },
    "papermill": {
     "duration": 0.009349,
     "end_time": "2021-11-05T23:46:17.410286",
     "exception": false,
     "start_time": "2021-11-05T23:46:17.400937",
     "status": "completed"
    },
    "tags": [
     "parameters"
    ]
   },
   "outputs": [],
   "source": [
    "mach_number=0.4\n",
    "p=2\n",
    "M=16\n",
    "L=10.0\n",
    "p_map=2\n",
    "c=\"c_dg\"\n",
    "discretization_type=1\n",
    "form=\"weak\""
   ]
  },
  {
   "cell_type": "code",
   "execution_count": 2,
   "id": "bca938fa",
   "metadata": {
    "execution": {
     "iopub.execute_input": "2021-11-05T23:46:17.420020Z",
     "iopub.status.busy": "2021-11-05T23:46:17.419526Z",
     "iopub.status.idle": "2021-11-05T23:46:17.421446Z",
     "shell.execute_reply": "2021-11-05T23:46:17.421862Z"
    },
    "papermill": {
     "duration": 0.008533,
     "end_time": "2021-11-05T23:46:17.421987",
     "exception": false,
     "start_time": "2021-11-05T23:46:17.413454",
     "status": "completed"
    },
    "tags": [
     "injected-parameters"
    ]
   },
   "outputs": [],
   "source": [
    "# Parameters\n",
    "mach_number = 0.4\n",
    "p = 2\n",
    "p_map = 2\n",
    "c = \"c_dg\"\n",
    "discretization_type = 3\n",
    "form = \"strong\"\n"
   ]
  },
  {
   "cell_type": "code",
   "execution_count": 3,
   "id": "db90df0c",
   "metadata": {
    "execution": {
     "iopub.execute_input": "2021-11-05T23:46:17.432105Z",
     "iopub.status.busy": "2021-11-05T23:46:17.431626Z",
     "iopub.status.idle": "2021-11-05T23:46:35.651749Z",
     "shell.execute_reply": "2021-11-05T23:46:35.652184Z"
    },
    "papermill": {
     "duration": 18.227269,
     "end_time": "2021-11-05T23:46:35.652342",
     "exception": false,
     "start_time": "2021-11-05T23:46:17.425073",
     "status": "completed"
    },
    "tags": []
   },
   "outputs": [
    {
     "name": "stderr",
     "output_type": "stream",
     "text": [
      "Matplotlib created a temporary config/cache directory at /tmp/matplotlib-v3owzalq because the default path (/home/z/zingg/tmontoya/.config/matplotlib) is not a writable directory; it is highly recommended to set the MPLCONFIGDIR environment variable to a writable directory, in particular to speed up the import of Matplotlib and to better support multiprocessing.\n"
     ]
    },
    {
     "name": "stdout",
     "output_type": "stream",
     "text": [
      "euler_m04p2c0t3_strong\n"
     ]
    },
    {
     "name": "stdout",
     "output_type": "stream",
     "text": [
      "loaded from time step  45254\n"
     ]
    }
   ],
   "source": [
    "import sys  \n",
    "import numpy as np\n",
    "sys.path.insert(0, '../src')\n",
    "from Driver import euler_driver\n",
    "\n",
    "solver = euler_driver(mach_number=mach_number, \n",
    "                      theta=np.pi/4,\n",
    "                        p=p, M=M, L=L,\n",
    "                        p_map=p_map, c=c, \n",
    "                        discretization_type=discretization_type,\n",
    "                        new_mesh=False,\n",
    "                        form=form, restart=True,run=True)"
   ]
  }
 ],
 "metadata": {
  "celltoolbar": "Tags",
  "interpreter": {
   "hash": "8a4c5cff9d1eb01f6f91880bd866b35b24d8468d7e92aa7ef6f6962744ecb1db"
  },
  "kernelspec": {
   "display_name": "Python 3.9.5 64-bit ('base': conda)",
   "name": "python3"
  },
  "language_info": {
   "codemirror_mode": {
    "name": "ipython",
    "version": 3
   },
   "file_extension": ".py",
   "mimetype": "text/x-python",
   "name": "python",
   "nbconvert_exporter": "python",
   "pygments_lexer": "ipython3",
   "version": "3.8.5"
  },
  "papermill": {
   "default_parameters": {},
   "duration": 21.779056,
   "end_time": "2021-11-05T23:46:36.163314",
   "environment_variables": {},
   "exception": null,
   "input_path": "euler_driver.ipynb",
   "output_path": "euler_m04p2c0t3_strong.ipynb",
   "parameters": {
    "c": "c_dg",
    "discretization_type": 3,
    "form": "strong",
    "mach_number": 0.4,
    "p": 2,
    "p_map": 2
   },
   "start_time": "2021-11-05T23:46:14.384258",
   "version": "2.3.3"
  }
 },
 "nbformat": 4,
 "nbformat_minor": 5
}