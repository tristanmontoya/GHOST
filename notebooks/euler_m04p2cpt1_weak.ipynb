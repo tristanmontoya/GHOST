{
 "cells": [
  {
   "cell_type": "code",
   "execution_count": 1,
   "id": "3bbb4b4a",
   "metadata": {
    "execution": {
     "iopub.execute_input": "2021-05-14T22:14:03.976484Z",
     "iopub.status.busy": "2021-05-14T22:14:03.975833Z",
     "iopub.status.idle": "2021-05-14T22:14:03.979074Z",
     "shell.execute_reply": "2021-05-14T22:14:03.978347Z"
    },
    "papermill": {
     "duration": 0.019349,
     "end_time": "2021-05-14T22:14:03.979229",
     "exception": false,
     "start_time": "2021-05-14T22:14:03.959880",
     "status": "completed"
    },
    "tags": [
     "parameters"
    ]
   },
   "outputs": [],
   "source": [
    "mach_number=0.4\n",
    "p=2\n",
    "M=16\n",
    "L=10.0\n",
    "p_geo=2\n",
    "c=\"c_dg\"\n",
    "discretization_type=1\n",
    "form=\"strong\""
   ]
  },
  {
   "cell_type": "code",
   "execution_count": 2,
   "id": "6b435b18",
   "metadata": {
    "execution": {
     "iopub.execute_input": "2021-05-14T22:14:04.009893Z",
     "iopub.status.busy": "2021-05-14T22:14:04.008769Z",
     "iopub.status.idle": "2021-05-14T22:14:04.010487Z",
     "shell.execute_reply": "2021-05-14T22:14:04.009320Z"
    },
    "papermill": {
     "duration": 0.026441,
     "end_time": "2021-05-14T22:14:04.010623",
     "exception": false,
     "start_time": "2021-05-14T22:14:03.984182",
     "status": "completed"
    },
    "tags": [
     "injected-parameters"
    ]
   },
   "outputs": [],
   "source": [
    "# Parameters\n",
    "mach_number = 0.4\n",
    "p = 2\n",
    "p_geo = 2\n",
    "c = \"c_+\"\n",
    "discretization_type = 1\n",
    "form = \"weak\"\n"
   ]
  },
  {
   "cell_type": "code",
   "execution_count": 3,
   "id": "c6b8a4a9",
   "metadata": {
    "execution": {
     "iopub.execute_input": "2021-05-14T22:14:04.056730Z",
     "iopub.status.busy": "2021-05-14T22:14:04.056092Z",
     "iopub.status.idle": "2021-05-17T05:39:56.845480Z",
     "shell.execute_reply": "2021-05-17T05:39:56.846256Z"
    },
    "papermill": {
     "duration": 199552.806704,
     "end_time": "2021-05-17T05:39:56.846753",
     "exception": false,
     "start_time": "2021-05-14T22:14:04.040049",
     "status": "completed"
    },
    "tags": []
   },
   "outputs": [
    {
     "name": "stdout",
     "output_type": "stream",
     "text": [
      "euler_m04p2cpt1_weak\n"
     ]
    },
    {
     "name": "stdout",
     "output_type": "stream",
     "text": [
      "1.137e-13 &  5.239e-02  \\\\\n",
      "-7.461e-13 &  1.829e-01  \\\\\n",
      "1.140e-12 &  1.269e-01  \\\\\n",
      "2.558e-13 &  1.473e-01  \\\\\n"
     ]
    }
   ],
   "source": [
    "import sys  \n",
    "import numpy as np\n",
    "sys.path.insert(0, '../src')\n",
    "from Driver import euler_driver\n",
    "\n",
    "solver = euler_driver(mach_number=mach_number, \n",
    "                      theta=np.pi/4,\n",
    "                        p=p, M=M, L=L,\n",
    "                        p_geo=p_geo, c=c, \n",
    "                        discretization_type=discretization_type,\n",
    "                        form=form)"
   ]
  },
  {
   "cell_type": "code",
   "execution_count": null,
   "id": "6fc5e76b",
   "metadata": {
    "papermill": {
     "duration": 0.00766,
     "end_time": "2021-05-17T05:39:56.862963",
     "exception": false,
     "start_time": "2021-05-17T05:39:56.855303",
     "status": "completed"
    },
    "tags": []
   },
   "outputs": [],
   "source": []
  }
 ],
 "metadata": {
  "celltoolbar": "Tags",
  "kernelspec": {
   "display_name": "Python 3",
   "language": "python",
   "name": "python3"
  },
  "language_info": {
   "codemirror_mode": {
    "name": "ipython",
    "version": 3
   },
   "file_extension": ".py",
   "mimetype": "text/x-python",
   "name": "python",
   "nbconvert_exporter": "python",
   "pygments_lexer": "ipython3",
   "version": "3.8.5"
  },
  "papermill": {
   "default_parameters": {},
   "duration": 199554.759558,
   "end_time": "2021-05-17T05:39:57.483566",
   "environment_variables": {},
   "exception": null,
   "input_path": "euler_driver.ipynb",
   "output_path": "euler_m04p2cpt1_weak.ipynb",
   "parameters": {
    "c": "c_+",
    "discretization_type": 1,
    "form": "weak",
    "mach_number": 0.4,
    "p": 2,
    "p_geo": 2
   },
   "start_time": "2021-05-14T22:14:02.724008",
   "version": "2.3.3"
  }
 },
 "nbformat": 4,
 "nbformat_minor": 5
}