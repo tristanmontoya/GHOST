{
 "cells": [
  {
   "cell_type": "code",
   "execution_count": 1,
   "id": "c4cd45a9",
   "metadata": {
    "execution": {
     "iopub.execute_input": "2021-05-09T21:51:37.846059Z",
     "iopub.status.busy": "2021-05-09T21:51:37.845250Z",
     "iopub.status.idle": "2021-05-09T21:51:37.848558Z",
     "shell.execute_reply": "2021-05-09T21:51:37.847922Z"
    },
    "papermill": {
     "duration": 0.020523,
     "end_time": "2021-05-09T21:51:37.848720",
     "exception": false,
     "start_time": "2021-05-09T21:51:37.828197",
     "status": "completed"
    },
    "tags": [
     "parameters"
    ]
   },
   "outputs": [],
   "source": [
    "mach_number=0.4\n",
    "p=2\n",
    "M=11\n",
    "L=10.0\n",
    "p_geo=2\n",
    "c=\"c_dg\"\n",
    "discretization_type=1\n",
    "form=\"strong\""
   ]
  },
  {
   "cell_type": "code",
   "execution_count": 2,
   "id": "fae39acc",
   "metadata": {
    "execution": {
     "iopub.execute_input": "2021-05-09T21:51:37.888022Z",
     "iopub.status.busy": "2021-05-09T21:51:37.886808Z",
     "iopub.status.idle": "2021-05-09T21:51:37.888631Z",
     "shell.execute_reply": "2021-05-09T21:51:37.887396Z"
    },
    "papermill": {
     "duration": 0.033655,
     "end_time": "2021-05-09T21:51:37.888774",
     "exception": false,
     "start_time": "2021-05-09T21:51:37.855119",
     "status": "completed"
    },
    "tags": [
     "injected-parameters"
    ]
   },
   "outputs": [],
   "source": [
    "# Parameters\n",
    "mach_number = 0.4\n",
    "p = 2\n",
    "p_geo = 2\n",
    "c = \"c_+\"\n",
    "discretization_type = 1\n",
    "form = \"weak\"\n"
   ]
  },
  {
   "cell_type": "code",
   "execution_count": null,
   "id": "0da8706f",
   "metadata": {
    "papermill": {
     "duration": null,
     "end_time": null,
     "exception": false,
     "start_time": "2021-05-09T21:51:37.911506",
     "status": "running"
    },
    "tags": []
   },
   "outputs": [],
   "source": [
    "import sys  \n",
    "sys.path.insert(0, '../src')\n",
    "from Driver import euler_driver\n",
    "\n",
    "solver = euler_driver(mach_number=mach_number, \n",
    "                        p=p, M=M, L=L,\n",
    "                        p_geo=p_geo, c=c, \n",
    "                        discretization_type=discretization_type,\n",
    "                        form=form)"
   ]
  },
  {
   "cell_type": "code",
   "execution_count": null,
   "id": "150c6f43",
   "metadata": {
    "papermill": {
     "duration": null,
     "end_time": null,
     "exception": null,
     "start_time": null,
     "status": "pending"
    },
    "tags": []
   },
   "outputs": [],
   "source": []
  }
 ],
 "metadata": {
  "celltoolbar": "Tags",
  "kernelspec": {
   "display_name": "Python 3",
   "language": "python",
   "name": "python3"
  },
  "language_info": {
   "codemirror_mode": {
    "name": "ipython",
    "version": 3
   },
   "file_extension": ".py",
   "mimetype": "text/x-python",
   "name": "python",
   "nbconvert_exporter": "python",
   "pygments_lexer": "ipython3",
   "version": "3.7.9"
  },
  "papermill": {
   "default_parameters": {},
   "duration": null,
   "end_time": null,
   "environment_variables": {},
   "exception": null,
   "input_path": "euler_driver.ipynb",
   "output_path": "euler_m04p2cpt1_weak.ipynb",
   "parameters": {
    "c": "c_+",
    "discretization_type": 1,
    "form": "weak",
    "mach_number": 0.4,
    "p": 2,
    "p_geo": 2
   },
   "start_time": "2021-05-09T21:51:36.484711",
   "version": "2.3.3"
  }
 },
 "nbformat": 4,
 "nbformat_minor": 5
}