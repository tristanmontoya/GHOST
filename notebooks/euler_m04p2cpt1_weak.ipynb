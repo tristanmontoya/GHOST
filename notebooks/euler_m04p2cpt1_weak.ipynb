{
 "cells": [
  {
   "cell_type": "code",
   "execution_count": 1,
   "metadata": {
    "execution": {
     "iopub.execute_input": "2020-12-30T03:05:46.564716Z",
     "iopub.status.busy": "2020-12-30T03:05:46.563921Z",
     "iopub.status.idle": "2020-12-30T03:05:46.569000Z",
     "shell.execute_reply": "2020-12-30T03:05:46.568009Z"
    },
    "papermill": {
     "duration": 0.022962,
     "end_time": "2020-12-30T03:05:46.569301",
     "exception": false,
     "start_time": "2020-12-30T03:05:46.546339",
     "status": "completed"
    },
    "tags": [
     "parameters"
    ]
   },
   "outputs": [],
   "source": [
    "mach_number=0.4\n",
    "p=2\n",
    "M=11\n",
    "L=10.0\n",
    "p_geo=2\n",
    "c=\"c_dg\"\n",
    "discretization_type=1\n",
    "form=\"strong\""
   ]
  },
  {
   "cell_type": "code",
   "execution_count": 2,
   "metadata": {
    "execution": {
     "iopub.execute_input": "2020-12-30T03:05:46.599047Z",
     "iopub.status.busy": "2020-12-30T03:05:46.598394Z",
     "iopub.status.idle": "2020-12-30T03:05:46.601828Z",
     "shell.execute_reply": "2020-12-30T03:05:46.601312Z"
    },
    "papermill": {
     "duration": 0.022987,
     "end_time": "2020-12-30T03:05:46.601984",
     "exception": false,
     "start_time": "2020-12-30T03:05:46.578997",
     "status": "completed"
    },
    "tags": [
     "injected-parameters"
    ]
   },
   "outputs": [],
   "source": [
    "# Parameters\n",
    "mach_number = 0.4\n",
    "p = 2\n",
    "c = \"c_+\"\n",
    "discretization_type = 1\n",
    "form = \"weak\"\n"
   ]
  },
  {
   "cell_type": "code",
   "execution_count": 3,
   "metadata": {
    "execution": {
     "iopub.execute_input": "2020-12-30T03:05:46.636773Z",
     "iopub.status.busy": "2020-12-30T03:05:46.636107Z",
     "iopub.status.idle": "2020-12-30T13:58:31.640989Z",
     "shell.execute_reply": "2020-12-30T13:58:31.641801Z"
    },
    "papermill": {
     "duration": 39165.025545,
     "end_time": "2020-12-30T13:58:31.642212",
     "exception": false,
     "start_time": "2020-12-30T03:05:46.616667",
     "status": "completed"
    },
    "tags": []
   },
   "outputs": [
    {
     "name": "stderr",
     "output_type": "stream",
     "text": [
      "WARNING:root:msh4 requires 3D points, but 2D points given. Appending 0 third component.\n"
     ]
    },
    {
     "name": "stderr",
     "output_type": "stream",
     "text": [
      "WARNING:root:Binary Gmsh needs c_size_t (got int64). Converting.\n"
     ]
    },
    {
     "name": "stdout",
     "output_type": "stream",
     "text": [
      "running solver euler_m04p2cpt1_weak\n"
     ]
    },
    {
     "name": "stdout",
     "output_type": "stream",
     "text": [
      "8.527e-14 &  1.113e-01  \\\\\n",
      "-4.690e-13 &  4.035e-01  \\\\\n",
      "7.851e-13 &  2.829e-01  \\\\\n",
      "2.558e-13 &  3.066e-01  \\\\\n"
     ]
    }
   ],
   "source": [
    "import sys  \n",
    "sys.path.insert(0, '../src')\n",
    "from Driver import euler_driver\n",
    "\n",
    "solver = euler_driver(mach_number=mach_number, \n",
    "                        p=p, M=M, L=L,\n",
    "                        p_geo=p_geo, c=c, \n",
    "                        discretization_type=discretization_type,\n",
    "                        form=form)"
   ]
  },
  {
   "cell_type": "code",
   "execution_count": null,
   "metadata": {
    "papermill": {
     "duration": 0.008199,
     "end_time": "2020-12-30T13:58:31.658880",
     "exception": false,
     "start_time": "2020-12-30T13:58:31.650681",
     "status": "completed"
    },
    "tags": []
   },
   "outputs": [],
   "source": []
  }
 ],
 "metadata": {
  "celltoolbar": "Tags",
  "kernelspec": {
   "display_name": "Python 3",
   "language": "python",
   "name": "python3"
  },
  "language_info": {
   "codemirror_mode": {
    "name": "ipython",
    "version": 3
   },
   "file_extension": ".py",
   "mimetype": "text/x-python",
   "name": "python",
   "nbconvert_exporter": "python",
   "pygments_lexer": "ipython3",
   "version": "3.8.5"
  },
  "papermill": {
   "default_parameters": {},
   "duration": 39167.737646,
   "end_time": "2020-12-30T13:58:33.189455",
   "environment_variables": {},
   "exception": null,
   "input_path": "euler_driver.ipynb",
   "output_path": "euler_m04p2cpt1_weak.ipynb",
   "parameters": {
    "c": "c_+",
    "discretization_type": 1,
    "form": "weak",
    "mach_number": 0.4,
    "p": 2
   },
   "start_time": "2020-12-30T03:05:45.451809",
   "version": "2.2.2"
  }
 },
 "nbformat": 4,
 "nbformat_minor": 2
}