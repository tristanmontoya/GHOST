{
 "cells": [
  {
   "cell_type": "code",
   "execution_count": 1,
   "id": "e556a710",
   "metadata": {
    "execution": {
     "iopub.execute_input": "2021-05-15T22:50:34.753619Z",
     "iopub.status.busy": "2021-05-15T22:50:34.746880Z",
     "iopub.status.idle": "2021-05-15T22:50:34.758088Z",
     "shell.execute_reply": "2021-05-15T22:50:34.757402Z"
    },
    "papermill": {
     "duration": 0.032838,
     "end_time": "2021-05-15T22:50:34.758287",
     "exception": false,
     "start_time": "2021-05-15T22:50:34.725449",
     "status": "completed"
    },
    "tags": [
     "parameters"
    ]
   },
   "outputs": [],
   "source": [
    "mach_number=0.4\n",
    "p=2\n",
    "M=16\n",
    "L=10.0\n",
    "p_geo=2\n",
    "c=\"c_dg\"\n",
    "discretization_type=1\n",
    "form=\"strong\""
   ]
  },
  {
   "cell_type": "code",
   "execution_count": 2,
   "id": "fe2508f9",
   "metadata": {
    "execution": {
     "iopub.execute_input": "2021-05-15T22:50:34.774608Z",
     "iopub.status.busy": "2021-05-15T22:50:34.773870Z",
     "iopub.status.idle": "2021-05-15T22:50:34.785341Z",
     "shell.execute_reply": "2021-05-15T22:50:34.784759Z"
    },
    "papermill": {
     "duration": 0.021937,
     "end_time": "2021-05-15T22:50:34.785494",
     "exception": false,
     "start_time": "2021-05-15T22:50:34.763557",
     "status": "completed"
    },
    "tags": [
     "injected-parameters"
    ]
   },
   "outputs": [],
   "source": [
    "# Parameters\n",
    "mach_number = 0.4\n",
    "p = 3\n",
    "p_geo = 3\n",
    "c = \"c_dg\"\n",
    "discretization_type = 2\n",
    "form = \"strong\"\n"
   ]
  },
  {
   "cell_type": "code",
   "execution_count": 3,
   "id": "e885d5e8",
   "metadata": {
    "execution": {
     "iopub.execute_input": "2021-05-15T22:50:34.837307Z",
     "iopub.status.busy": "2021-05-15T22:50:34.836596Z",
     "iopub.status.idle": "2021-05-20T05:45:12.608019Z",
     "shell.execute_reply": "2021-05-20T05:45:12.608795Z"
    },
    "papermill": {
     "duration": 370477.801927,
     "end_time": "2021-05-20T05:45:12.609247",
     "exception": false,
     "start_time": "2021-05-15T22:50:34.807320",
     "status": "completed"
    },
    "tags": []
   },
   "outputs": [
    {
     "name": "stdout",
     "output_type": "stream",
     "text": [
      "euler_m04p3c0t2_strong\n"
     ]
    },
    {
     "name": "stdout",
     "output_type": "stream",
     "text": [
      "-1.847e-13 &  2.977e-02  \\\\\n",
      "-2.128e-12 &  5.601e-02  \\\\\n",
      "1.794e-12 &  8.656e-02  \\\\\n",
      "-3.979e-13 &  5.296e-02  \\\\\n"
     ]
    }
   ],
   "source": [
    "import sys  \n",
    "import numpy as np\n",
    "sys.path.insert(0, '../src')\n",
    "from Driver import euler_driver\n",
    "\n",
    "solver = euler_driver(mach_number=mach_number, \n",
    "                      theta=np.pi/4,\n",
    "                        p=p, M=M, L=L,\n",
    "                        p_geo=p_geo, c=c, \n",
    "                        discretization_type=discretization_type,\n",
    "                        form=form)"
   ]
  },
  {
   "cell_type": "code",
   "execution_count": null,
   "id": "b96e9428",
   "metadata": {
    "papermill": {
     "duration": 0.007356,
     "end_time": "2021-05-20T05:45:12.624624",
     "exception": false,
     "start_time": "2021-05-20T05:45:12.617268",
     "status": "completed"
    },
    "tags": []
   },
   "outputs": [],
   "source": []
  }
 ],
 "metadata": {
  "celltoolbar": "Tags",
  "kernelspec": {
   "display_name": "Python 3",
   "language": "python",
   "name": "python3"
  },
  "language_info": {
   "codemirror_mode": {
    "name": "ipython",
    "version": 3
   },
   "file_extension": ".py",
   "mimetype": "text/x-python",
   "name": "python",
   "nbconvert_exporter": "python",
   "pygments_lexer": "ipython3",
   "version": "3.8.5"
  },
  "papermill": {
   "default_parameters": {},
   "duration": 370481.968024,
   "end_time": "2021-05-20T05:45:13.983049",
   "environment_variables": {},
   "exception": null,
   "input_path": "euler_driver.ipynb",
   "output_path": "euler_m04p3c0t2_strong.ipynb",
   "parameters": {
    "c": "c_dg",
    "discretization_type": 2,
    "form": "strong",
    "mach_number": 0.4,
    "p": 3,
    "p_geo": 3
   },
   "start_time": "2021-05-15T22:50:32.015025",
   "version": "2.3.3"
  }
 },
 "nbformat": 4,
 "nbformat_minor": 5
}