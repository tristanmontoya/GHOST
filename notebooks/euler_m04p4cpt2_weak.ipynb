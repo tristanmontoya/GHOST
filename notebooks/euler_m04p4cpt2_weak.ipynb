{
 "cells": [
  {
   "cell_type": "code",
   "execution_count": 1,
   "id": "0c34e1d0",
   "metadata": {
    "execution": {
     "iopub.execute_input": "2021-05-08T19:26:05.848320Z",
     "iopub.status.busy": "2021-05-08T19:26:05.847708Z",
     "iopub.status.idle": "2021-05-08T19:26:05.851303Z",
     "shell.execute_reply": "2021-05-08T19:26:05.850719Z"
    },
    "papermill": {
     "duration": 0.019473,
     "end_time": "2021-05-08T19:26:05.851444",
     "exception": false,
     "start_time": "2021-05-08T19:26:05.831971",
     "status": "completed"
    },
    "tags": [
     "parameters"
    ]
   },
   "outputs": [],
   "source": [
    "mach_number=0.4\n",
    "p=2\n",
    "M=11\n",
    "L=10.0\n",
    "p_geo=2\n",
    "c=\"c_dg\"\n",
    "discretization_type=1\n",
    "form=\"strong\""
   ]
  },
  {
   "cell_type": "code",
   "execution_count": 2,
   "id": "89a1ad76",
   "metadata": {
    "execution": {
     "iopub.execute_input": "2021-05-08T19:26:05.873896Z",
     "iopub.status.busy": "2021-05-08T19:26:05.872742Z",
     "iopub.status.idle": "2021-05-08T19:26:05.874493Z",
     "shell.execute_reply": "2021-05-08T19:26:05.873312Z"
    },
    "papermill": {
     "duration": 0.018259,
     "end_time": "2021-05-08T19:26:05.874630",
     "exception": false,
     "start_time": "2021-05-08T19:26:05.856371",
     "status": "completed"
    },
    "tags": [
     "injected-parameters"
    ]
   },
   "outputs": [],
   "source": [
    "# Parameters\n",
    "mach_number = 0.4\n",
    "p = 4\n",
    "p_geo = 4\n",
    "c = \"c_+\"\n",
    "discretization_type = 2\n",
    "form = \"weak\"\n"
   ]
  },
  {
   "cell_type": "code",
   "execution_count": 3,
   "id": "1251da51",
   "metadata": {
    "execution": {
     "iopub.execute_input": "2021-05-08T19:26:05.914301Z",
     "iopub.status.busy": "2021-05-08T19:26:05.913636Z",
     "iopub.status.idle": "2021-05-10T06:22:11.253935Z",
     "shell.execute_reply": "2021-05-10T06:22:11.254947Z"
    },
    "papermill": {
     "duration": 125765.355552,
     "end_time": "2021-05-10T06:22:11.255294",
     "exception": false,
     "start_time": "2021-05-08T19:26:05.899742",
     "status": "completed"
    },
    "tags": []
   },
   "outputs": [
    {
     "name": "stderr",
     "output_type": "stream",
     "text": [
      "WARNING:root:msh4 requires 3D points, but 2D points given. Appending 0 third component.\n"
     ]
    },
    {
     "name": "stderr",
     "output_type": "stream",
     "text": [
      "WARNING:root:Binary Gmsh needs c_size_t (got int64). Converting.\n"
     ]
    },
    {
     "name": "stdout",
     "output_type": "stream",
     "text": [
      "running solver euler_m04p4cpt2_weak\n"
     ]
    },
    {
     "name": "stdout",
     "output_type": "stream",
     "text": [
      "6.963e-13 &  2.479e-02  \\\\\n",
      "-6.644e-13 &  4.358e-02  \\\\\n",
      "2.757e-12 &  4.696e-02  \\\\\n",
      "1.847e-12 &  3.900e-02  \\\\\n"
     ]
    }
   ],
   "source": [
    "import sys  \n",
    "sys.path.insert(0, '../src')\n",
    "from Driver import euler_driver\n",
    "\n",
    "solver = euler_driver(mach_number=mach_number, \n",
    "                        p=p, M=M, L=L,\n",
    "                        p_geo=p_geo, c=c, \n",
    "                        discretization_type=discretization_type,\n",
    "                        form=form)"
   ]
  },
  {
   "cell_type": "code",
   "execution_count": null,
   "id": "66c6a55f",
   "metadata": {
    "papermill": {
     "duration": 0.008458,
     "end_time": "2021-05-10T06:22:11.272892",
     "exception": false,
     "start_time": "2021-05-10T06:22:11.264434",
     "status": "completed"
    },
    "tags": []
   },
   "outputs": [],
   "source": []
  }
 ],
 "metadata": {
  "celltoolbar": "Tags",
  "kernelspec": {
   "display_name": "Python 3",
   "language": "python",
   "name": "python3"
  },
  "language_info": {
   "codemirror_mode": {
    "name": "ipython",
    "version": 3
   },
   "file_extension": ".py",
   "mimetype": "text/x-python",
   "name": "python",
   "nbconvert_exporter": "python",
   "pygments_lexer": "ipython3",
   "version": "3.8.5"
  },
  "papermill": {
   "default_parameters": {},
   "duration": 125768.813255,
   "end_time": "2021-05-10T06:22:12.610478",
   "environment_variables": {},
   "exception": null,
   "input_path": "euler_driver.ipynb",
   "output_path": "euler_m04p4cpt2_weak.ipynb",
   "parameters": {
    "c": "c_+",
    "discretization_type": 2,
    "form": "weak",
    "mach_number": 0.4,
    "p": 4,
    "p_geo": 4
   },
   "start_time": "2021-05-08T19:26:03.797223",
   "version": "2.3.3"
  }
 },
 "nbformat": 4,
 "nbformat_minor": 5
}