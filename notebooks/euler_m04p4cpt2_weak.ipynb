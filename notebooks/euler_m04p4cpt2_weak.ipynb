{
 "cells": [
  {
   "cell_type": "markdown",
   "id": "4fe889ee",
   "metadata": {
    "papermill": {
     "duration": 0.003371,
     "end_time": "2021-12-07T23:55:29.453130",
     "exception": false,
     "start_time": "2021-12-07T23:55:29.449759",
     "status": "completed"
    },
    "tags": []
   },
   "source": [
    "# GHOST driver - Euler equations"
   ]
  },
  {
   "cell_type": "code",
   "execution_count": 1,
   "id": "1ce71072",
   "metadata": {
    "execution": {
     "iopub.execute_input": "2021-12-07T23:55:29.463894Z",
     "iopub.status.busy": "2021-12-07T23:55:29.463362Z",
     "iopub.status.idle": "2021-12-07T23:55:29.465966Z",
     "shell.execute_reply": "2021-12-07T23:55:29.465494Z"
    },
    "papermill": {
     "duration": 0.009731,
     "end_time": "2021-12-07T23:55:29.466085",
     "exception": false,
     "start_time": "2021-12-07T23:55:29.456354",
     "status": "completed"
    },
    "tags": [
     "parameters"
    ]
   },
   "outputs": [],
   "source": [
    "mach_number=0.4\n",
    "p=2\n",
    "M=16\n",
    "L=10.0\n",
    "p_map=2\n",
    "c=\"c_dg\"\n",
    "discretization_type=1\n",
    "form=\"weak\""
   ]
  },
  {
   "cell_type": "code",
   "execution_count": 2,
   "id": "75834784",
   "metadata": {
    "execution": {
     "iopub.execute_input": "2021-12-07T23:55:29.475556Z",
     "iopub.status.busy": "2021-12-07T23:55:29.475024Z",
     "iopub.status.idle": "2021-12-07T23:55:29.476844Z",
     "shell.execute_reply": "2021-12-07T23:55:29.477232Z"
    },
    "papermill": {
     "duration": 0.008118,
     "end_time": "2021-12-07T23:55:29.477349",
     "exception": false,
     "start_time": "2021-12-07T23:55:29.469231",
     "status": "completed"
    },
    "tags": [
     "injected-parameters"
    ]
   },
   "outputs": [],
   "source": [
    "# Parameters\n",
    "mach_number = 0.4\n",
    "p = 4\n",
    "p_map = 4\n",
    "c = \"c_+\"\n",
    "discretization_type = 2\n",
    "form = \"weak\"\n"
   ]
  },
  {
   "cell_type": "code",
   "execution_count": 3,
   "id": "f958e11d",
   "metadata": {
    "execution": {
     "iopub.execute_input": "2021-12-07T23:55:29.487510Z",
     "iopub.status.busy": "2021-12-07T23:55:29.487027Z",
     "iopub.status.idle": "2021-12-08T18:45:28.373291Z",
     "shell.execute_reply": "2021-12-08T18:45:28.373717Z"
    },
    "papermill": {
     "duration": 67798.893498,
     "end_time": "2021-12-08T18:45:28.373870",
     "exception": false,
     "start_time": "2021-12-07T23:55:29.480372",
     "status": "completed"
    },
    "tags": []
   },
   "outputs": [
    {
     "name": "stderr",
     "output_type": "stream",
     "text": [
      "Matplotlib created a temporary config/cache directory at /tmp/matplotlib-br3je0m3 because the default path (/home/z/zingg/tmontoya/.config/matplotlib) is not a writable directory; it is highly recommended to set the MPLCONFIGDIR environment variable to a writable directory, in particular to speed up the import of Matplotlib and to better support multiprocessing.\n"
     ]
    },
    {
     "name": "stdout",
     "output_type": "stream",
     "text": [
      "euler_m04p4cpt2_weak\n"
     ]
    },
    {
     "name": "stdout",
     "output_type": "stream",
     "text": [
      "loaded from time step  74888\n"
     ]
    }
   ],
   "source": [
    "import sys  \n",
    "import numpy as np\n",
    "sys.path.insert(0, '../src')\n",
    "from Driver import euler_driver\n",
    "\n",
    "solver = euler_driver(mach_number=mach_number, \n",
    "                      theta=np.pi/4,\n",
    "                        p=p, M=M, L=L,\n",
    "                        p_map=p_map, c=c, \n",
    "                        discretization_type=discretization_type,\n",
    "                        new_mesh=False,\n",
    "                        form=form, restart=True,run=True)"
   ]
  }
 ],
 "metadata": {
  "celltoolbar": "Tags",
  "interpreter": {
   "hash": "8a4c5cff9d1eb01f6f91880bd866b35b24d8468d7e92aa7ef6f6962744ecb1db"
  },
  "kernelspec": {
   "display_name": "Python 3.9.5 64-bit ('base': conda)",
   "name": "python3"
  },
  "language_info": {
   "codemirror_mode": {
    "name": "ipython",
    "version": 3
   },
   "file_extension": ".py",
   "mimetype": "text/x-python",
   "name": "python",
   "nbconvert_exporter": "python",
   "pygments_lexer": "ipython3",
   "version": "3.8.5"
  },
  "papermill": {
   "default_parameters": {},
   "duration": 67803.010217,
   "end_time": "2021-12-08T18:45:28.714140",
   "environment_variables": {},
   "exception": null,
   "input_path": "euler_driver.ipynb",
   "output_path": "euler_m04p4cpt2_weak.ipynb",
   "parameters": {
    "c": "c_+",
    "discretization_type": 2,
    "form": "weak",
    "mach_number": 0.4,
    "p": 4,
    "p_map": 4
   },
   "start_time": "2021-12-07T23:55:25.703923",
   "version": "2.3.3"
  }
 },
 "nbformat": 4,
 "nbformat_minor": 5
}