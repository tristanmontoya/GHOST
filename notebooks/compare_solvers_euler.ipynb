{
 "cells": [
  {
   "cell_type": "code",
   "execution_count": 1,
   "metadata": {},
   "outputs": [],
   "source": [
    "mach_number=0.4\n",
    "p=3\n",
    "M=11\n",
    "L=10.0\n",
    "p_geo=p\n",
    "c=\"c_+\""
   ]
  },
  {
   "cell_type": "code",
   "execution_count": 2,
   "metadata": {},
   "outputs": [
    {
     "name": "stdout",
     "output_type": "stream",
     "text": [
      "euler_m04p3cpt1_strong\n",
      "euler_m04p3cpt1_weak\n",
      "&  $c_+$ & $\\rho$ & 5.189e-14  &  2.700e-13 & -2.842e-14 & 2.656e-02 & 2.656e-02 \\\\\n",
      "& & $\\rho\\fn{v}_1$ & 1.123e-13  &  -4.974e-13 & -7.354e-13 & 9.070e-02 & 9.070e-02 \\\\\n",
      "& & $\\rho\\fn{v}_2$ & 1.137e-13  &  1.666e-12 & 9.024e-13 & 6.299e-02 & 6.299e-02 \\\\\n",
      "& & $\\fn{e}$ & 1.212e-13  &  1.251e-12 & 5.684e-13 & 8.084e-02 & 8.084e-02 \\\\\n",
      "euler_m04p3cpt2_strong\n",
      "euler_m04p3cpt2_weak\n",
      "&  $c_+$ & $\\rho$ & 8.505e-14  &  1.421e-14 & 1.990e-13 & 3.876e-02 & 3.876e-02 \\\\\n",
      "& & $\\rho\\fn{v}_1$ & 2.976e-13  &  -1.453e-12 & 2.416e-13 & 1.148e-01 & 1.148e-01 \\\\\n",
      "& & $\\rho\\fn{v}_2$ & 3.219e-13  &  1.538e-12 & 4.192e-13 & 9.658e-02 & 9.658e-02 \\\\\n",
      "& & $\\fn{e}$ & 2.454e-13  &  -5.684e-14 & 4.263e-13 & 9.641e-02 & 9.641e-02 \\\\\n",
      "euler_m04p3cpt3_strong\n",
      "euler_m04p3cpt3_weak\n",
      "&  $c_+$ & $\\rho$ & 2.283e-02  &  2.132e-13 & 2.842e-14 & 2.909e-02 & 2.512e-02 \\\\\n",
      "& & $\\rho\\fn{v}_1$ & 3.630e-02  &  -9.344e-13 & -1.389e-12 & 8.616e-02 & 7.987e-02 \\\\\n",
      "& & $\\rho\\fn{v}_2$ & 4.384e-02  &  1.588e-12 & 1.485e-12 & 6.292e-02 & 6.120e-02 \\\\\n",
      "& & $\\fn{e}$ & 4.352e-02  &  6.253e-13 & 4.832e-13 & 7.598e-02 & 7.372e-02 \\\\\n"
     ]
    }
   ],
   "source": [
    "import sys  \n",
    "import pickle\n",
    "sys.path.insert(0, '../src')\n",
    "from Driver import euler_driver\n",
    "\n",
    "n_t = 30800\n",
    "\n",
    "if c == \"c_dg\":\n",
    "    c_text = \"$c_{\\\\textrm{DG}}$\"\n",
    "elif c == \"c_+\":\n",
    "    c_text = \"$c_+$\"\n",
    "\n",
    "for discretization_type in range(1,4):\n",
    "    strong = euler_driver(mach_number=mach_number, \n",
    "                            p=p, M=M, L=L,\n",
    "                            p_geo=p_geo, c=c, \n",
    "                            discretization_type=discretization_type,\n",
    "                            form=\"strong\", run=False)\n",
    "    weak = euler_driver(mach_number=mach_number, \n",
    "                            p=p, M=M, L=L,\n",
    "                            p_geo=p_geo, c=c, \n",
    "                            discretization_type=discretization_type,\n",
    "                            form=\"weak\", run=False)\n",
    "    strong.load_solution(time_step=n_t)\n",
    "    strong.post_process(error_quadrature_degree=4*p)\n",
    "    weak.load_solution(time_step=n_t)\n",
    "    weak.post_process(error_quadrature_degree=4*p)\n",
    "\n",
    "    diff = strong.calculate_difference(weak)\n",
    "    strong_cons_error = pickle.load(open(\"../results/\" + strong.params[\"project_title\"] + \"/conservation_error.dat\", \"rb\"))\n",
    "    weak_cons_error = pickle.load(open(\"../results/\" + weak.params[\"project_title\"] + \"/conservation_error.dat\", \"rb\"))\n",
    "    strong_sol_error = pickle.load(open(\"../results/\" + strong.params[\"project_title\"] + \"/solution_error.dat\", \"rb\"))\n",
    "    weak_sol_error = pickle.load(open(\"../results/\" + weak.params[\"project_title\"] + \"/solution_error.dat\", \"rb\"))\n",
    "    \n",
    "    print(\"& \", c_text,\"& $\\\\rho$ &\", \"{:.3e}\".format(diff[0]), \" & \",\n",
    "    \"{:.3e}\".format(strong_cons_error[0]), \"&\",\n",
    "    \"{:.3e}\".format(weak_cons_error[0]), \"&\", \n",
    "    \"{:.3e}\".format(strong_sol_error[0]), \"&\",\n",
    "    \"{:.3e}\".format(weak_sol_error[0]), \"\\\\\\\\\")\n",
    "    print(\"& & $\\\\rho\\\\fn{v}_1$ &\", \"{:.3e}\".format(diff[1]), \" & \",\n",
    "    \"{:.3e}\".format(strong_cons_error[1]), \"&\",\n",
    "    \"{:.3e}\".format(weak_cons_error[1]), \"&\", \n",
    "    \"{:.3e}\".format(strong_sol_error[1]), \"&\",\n",
    "    \"{:.3e}\".format(weak_sol_error[1]), \"\\\\\\\\\")\n",
    "    print(\"& & $\\\\rho\\\\fn{v}_2$ &\", \"{:.3e}\".format(diff[2]), \" & \",\n",
    "    \"{:.3e}\".format(strong_cons_error[2]), \"&\",\n",
    "    \"{:.3e}\".format(weak_cons_error[2]), \"&\", \n",
    "    \"{:.3e}\".format(strong_sol_error[2]), \"&\",\n",
    "    \"{:.3e}\".format(weak_sol_error[2]), \"\\\\\\\\\")\n",
    "    print(\"& & $\\\\fn{e}$ &\", \"{:.3e}\".format(diff[3]), \" & \",\n",
    "    \"{:.3e}\".format(strong_cons_error[3]), \"&\",\n",
    "    \"{:.3e}\".format(weak_cons_error[3]), \"&\", \n",
    "    \"{:.3e}\".format(strong_sol_error[3]), \"&\",\n",
    "    \"{:.3e}\".format(weak_sol_error[3]), \"\\\\\\\\\")\n"
   ]
  },
  {
   "cell_type": "code",
   "execution_count": null,
   "metadata": {},
   "outputs": [],
   "source": []
  }
 ],
 "metadata": {
  "celltoolbar": "Tags",
  "kernelspec": {
   "display_name": "Python 3",
   "language": "python",
   "name": "python3"
  },
  "language_info": {
   "codemirror_mode": {
    "name": "ipython",
    "version": 3
   },
   "file_extension": ".py",
   "mimetype": "text/x-python",
   "name": "python",
   "nbconvert_exporter": "python",
   "pygments_lexer": "ipython3",
   "version": "3.7.9"
  }
 },
 "nbformat": 4,
 "nbformat_minor": 4
}
