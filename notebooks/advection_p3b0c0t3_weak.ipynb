{
 "cells": [
  {
   "cell_type": "markdown",
   "id": "5abc76e2",
   "metadata": {
    "papermill": {
     "duration": 0.003452,
     "end_time": "2021-10-27T13:32:59.691792",
     "exception": false,
     "start_time": "2021-10-27T13:32:59.688340",
     "status": "completed"
    },
    "tags": []
   },
   "source": [
    "# GHOST driver - linear advection equation"
   ]
  },
  {
   "cell_type": "code",
   "execution_count": 1,
   "id": "3523b9a4",
   "metadata": {
    "execution": {
     "iopub.execute_input": "2021-10-27T13:32:59.702315Z",
     "iopub.status.busy": "2021-10-27T13:32:59.701822Z",
     "iopub.status.idle": "2021-10-27T13:32:59.704009Z",
     "shell.execute_reply": "2021-10-27T13:32:59.703534Z"
    },
    "papermill": {
     "duration": 0.009275,
     "end_time": "2021-10-27T13:32:59.704131",
     "exception": false,
     "start_time": "2021-10-27T13:32:59.694856",
     "status": "completed"
    },
    "tags": [
     "parameters"
    ]
   },
   "outputs": [],
   "source": [
    "p=2\n",
    "M=8\n",
    "L=1\n",
    "p_map=1\n",
    "c=\"c_+\"\n",
    "discretization_type=1\n",
    "upwind_parameter=0.0\n",
    "form=\"weak\""
   ]
  },
  {
   "cell_type": "code",
   "execution_count": 2,
   "id": "652889fa",
   "metadata": {
    "execution": {
     "iopub.execute_input": "2021-10-27T13:32:59.713968Z",
     "iopub.status.busy": "2021-10-27T13:32:59.713502Z",
     "iopub.status.idle": "2021-10-27T13:32:59.715316Z",
     "shell.execute_reply": "2021-10-27T13:32:59.715691Z"
    },
    "papermill": {
     "duration": 0.008169,
     "end_time": "2021-10-27T13:32:59.715821",
     "exception": false,
     "start_time": "2021-10-27T13:32:59.707652",
     "status": "completed"
    },
    "tags": [
     "injected-parameters"
    ]
   },
   "outputs": [],
   "source": [
    "# Parameters\n",
    "p = 3\n",
    "p_map = 1\n",
    "upwind_parameter = 0.0\n",
    "c = \"c_dg\"\n",
    "discretization_type = 3\n",
    "form = \"weak\"\n"
   ]
  },
  {
   "cell_type": "code",
   "execution_count": 3,
   "id": "3bfae678",
   "metadata": {
    "execution": {
     "iopub.execute_input": "2021-10-27T13:32:59.725803Z",
     "iopub.status.busy": "2021-10-27T13:32:59.725337Z",
     "iopub.status.idle": "2021-10-27T14:13:11.059647Z",
     "shell.execute_reply": "2021-10-27T14:13:11.058676Z"
    },
    "papermill": {
     "duration": 2411.341111,
     "end_time": "2021-10-27T14:13:11.060013",
     "exception": false,
     "start_time": "2021-10-27T13:32:59.718902",
     "status": "completed"
    },
    "tags": []
   },
   "outputs": [
    {
     "name": "stderr",
     "output_type": "stream",
     "text": [
      "Matplotlib created a temporary config/cache directory at /tmp/matplotlib-syd3q5ow because the default path (/home/z/zingg/tmontoya/.config/matplotlib) is not a writable directory; it is highly recommended to set the MPLCONFIGDIR environment variable to a writable directory, in particular to speed up the import of Matplotlib and to better support multiprocessing.\n"
     ]
    },
    {
     "name": "stdout",
     "output_type": "stream",
     "text": [
      "advection_p3b0c0t3_weak\n"
     ]
    }
   ],
   "source": [
    "import sys  \n",
    "import numpy as np\n",
    "sys.path.insert(0, '../src')\n",
    "from Driver import advection_driver\n",
    "\n",
    "solver = advection_driver(a=np.sqrt(2), theta=np.pi/4, p=p, M=M, L=L,\n",
    "                        p_map=p_map, c=c, \n",
    "                        discretization_type=discretization_type,\n",
    "                        upwind_parameter=upwind_parameter,\n",
    "                        new_mesh=False,form=form,restart=True,run=True)"
   ]
  }
 ],
 "metadata": {
  "celltoolbar": "Tags",
  "interpreter": {
   "hash": "8a4c5cff9d1eb01f6f91880bd866b35b24d8468d7e92aa7ef6f6962744ecb1db"
  },
  "kernelspec": {
   "display_name": "Python 3.9.5 64-bit ('base': conda)",
   "name": "python3"
  },
  "language_info": {
   "codemirror_mode": {
    "name": "ipython",
    "version": 3
   },
   "file_extension": ".py",
   "mimetype": "text/x-python",
   "name": "python",
   "nbconvert_exporter": "python",
   "pygments_lexer": "ipython3",
   "version": "3.8.5"
  },
  "papermill": {
   "default_parameters": {},
   "duration": 2413.490814,
   "end_time": "2021-10-27T14:13:11.474492",
   "environment_variables": {},
   "exception": null,
   "input_path": "advection_driver.ipynb",
   "output_path": "advection_p3b0c0t3_weak.ipynb",
   "parameters": {
    "c": "c_dg",
    "discretization_type": 3,
    "form": "weak",
    "p": 3,
    "p_map": 1,
    "upwind_parameter": 0.0
   },
   "start_time": "2021-10-27T13:32:57.983678",
   "version": "2.3.3"
  }
 },
 "nbformat": 4,
 "nbformat_minor": 5
}